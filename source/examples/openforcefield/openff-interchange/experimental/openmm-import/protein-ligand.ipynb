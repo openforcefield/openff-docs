{
 "cells": [
  {
   "cell_type": "markdown",
   "id": "0",
   "metadata": {},
   "source": [
    "# Load a system from OpenMM into Interchange"
   ]
  },
  {
   "cell_type": "markdown",
   "id": "1",
   "metadata": {},
   "source": [
    "Interchange is intended as a bidirectional system conversion tool, but it's functionality for loading systems from software other than the OpenFF stack is experimental and in active development. This example describes creating an `Interchange` from an OpenMM `System` and `Topology`."
   ]
  },
  {
   "cell_type": "code",
   "execution_count": 1,
   "id": "2",
   "metadata": {
    "execution": {
     "iopub.execute_input": "2024-07-23T03:44:33.286896Z",
     "iopub.status.busy": "2024-07-23T03:44:33.286108Z",
     "iopub.status.idle": "2024-07-23T03:44:36.305086Z",
     "shell.execute_reply": "2024-07-23T03:44:36.304431Z"
    }
   },
   "outputs": [
    {
     "data": {
      "application/vnd.jupyter.widget-view+json": {
       "model_id": "c237716b8cd74e1c944b903199ce374f",
       "version_major": 2,
       "version_minor": 0
      },
      "text/plain": []
     },
     "metadata": {},
     "output_type": "display_data"
    },
    {
     "name": "stderr",
     "output_type": "stream",
     "text": [
      "/home/runner/micromamba/envs/openff-docs-examples/lib/python3.10/site-packages/pandas/core/computation/expressions.py:21: UserWarning: Pandas requires version '2.8.4' or newer of 'numexpr' (version '2.7.3' currently installed).\n",
      "  from pandas.core.computation.check import NUMEXPR_INSTALLED\n"
     ]
    }
   ],
   "source": [
    "import pathlib\n",
    "import sys\n",
    "import urllib.request\n",
    "from typing import Tuple\n",
    "\n",
    "import openmm\n",
    "import openmm.app\n",
    "import openmm.unit\n",
    "from openff.units.openmm import ensure_quantity\n",
    "\n",
    "from openff.interchange import Interchange\n",
    "from openff.interchange.drivers import get_openmm_energies\n",
    "from openff.interchange.drivers.openmm import _get_openmm_energies, _process"
   ]
  },
  {
   "cell_type": "markdown",
   "id": "3",
   "metadata": {},
   "source": [
    "First we'll create an OpenMM system and topology to experiment on:"
   ]
  },
  {
   "cell_type": "code",
   "execution_count": 2,
   "id": "4",
   "metadata": {
    "execution": {
     "iopub.execute_input": "2024-07-23T03:44:36.309386Z",
     "iopub.status.busy": "2024-07-23T03:44:36.308189Z",
     "iopub.status.idle": "2024-07-23T03:44:36.313991Z",
     "shell.execute_reply": "2024-07-23T03:44:36.313464Z"
    }
   },
   "outputs": [],
   "source": [
    "def openmm_pathway(\n",
    "    pdb_file: openmm.app.PDBFile,\n",
    "    force_field: openmm.app.ForceField,\n",
    ") -> tuple[\n",
    "    openmm.System,\n",
    "    openmm.unit.Quantity,\n",
    "    openmm.unit.Quantity,\n",
    "]:\n",
    "    \"\"\"\n",
    "    Return an openmm.System, coordinates, and box vectors that result from applying this force field\n",
    "    to this PDB file.\n",
    "    \"\"\"\n",
    "    from openmm import unit\n",
    "\n",
    "    system = force_field.createSystem(\n",
    "        pdb_file.topology,\n",
    "        nonbondedCutoff=unit.Quantity(0.9, unit.nanometer),\n",
    "    )\n",
    "\n",
    "    return system, pdb_file.getPositions(), pdb_file.topology.getPeriodicBoxVectors()"
   ]
  },
  {
   "cell_type": "code",
   "execution_count": 3,
   "id": "5",
   "metadata": {
    "execution": {
     "iopub.execute_input": "2024-07-23T03:44:36.317733Z",
     "iopub.status.busy": "2024-07-23T03:44:36.316691Z",
     "iopub.status.idle": "2024-07-23T03:44:37.063505Z",
     "shell.execute_reply": "2024-07-23T03:44:37.062719Z"
    }
   },
   "outputs": [],
   "source": [
    "if not pathlib.Path(\"protein.pdb\").is_file():\n",
    "    urllib.request.urlretrieve(\n",
    "        \"https://raw.githubusercontent.com/bayer-science-for-a-better-life/abfe-benchmark/a3b15632d2f419857e2ba73a6922de6f09a66caa/structures/brd4/protein.pdb\",\n",
    "        \"brd4.pdb\",\n",
    "    )\n",
    "\n",
    "protein = openmm.app.PDBFile(\"brd4.pdb\")\n",
    "amber_force_fields = openmm.app.ForceField(\"amber14-all.xml\", \"amber14/tip3pfb.xml\")\n",
    "\n",
    "openmm_system = amber_force_fields.createSystem(\n",
    "    topology=protein.topology,\n",
    "    nonbondedMethod=openmm.app.PME,\n",
    "    nonbondedCutoff=9.0 * openmm.unit.angstrom,\n",
    "    switchDistance=8.0 * openmm.unit.angstrom,\n",
    ")"
   ]
  },
  {
   "cell_type": "markdown",
   "id": "6",
   "metadata": {},
   "source": [
    "Then, load it into Interchange. Note that the topology mentioned here is an OpenMM topology, **not** an OpenFF one."
   ]
  },
  {
   "cell_type": "code",
   "execution_count": 4,
   "id": "7",
   "metadata": {
    "execution": {
     "iopub.execute_input": "2024-07-23T03:44:37.066922Z",
     "iopub.status.busy": "2024-07-23T03:44:37.066627Z",
     "iopub.status.idle": "2024-07-23T03:44:44.345348Z",
     "shell.execute_reply": "2024-07-23T03:44:44.344723Z"
    }
   },
   "outputs": [],
   "source": [
    "converted_interchange = Interchange.from_openmm(\n",
    "    topology=protein.topology,\n",
    "    system=openmm_system,\n",
    "    positions=ensure_quantity(protein.getPositions(), \"openff\"),\n",
    "    box_vectors=ensure_quantity(protein.topology.getPeriodicBoxVectors(), \"openff\"),\n",
    ")"
   ]
  },
  {
   "cell_type": "markdown",
   "id": "8",
   "metadata": {},
   "source": [
    "As a partial validation of `Interchange.from_openmm`, we can compute the single-point energy of this configuration as generated by each code path. We use a high-level `get_openmm_energies` function that takes in only an `Interchange` object to get the energy of `converted_interchange` and a private `_get_openmm_energies` function to process the OpenMM objects generated by the OpenMM code path."
   ]
  },
  {
   "cell_type": "code",
   "execution_count": 5,
   "id": "9",
   "metadata": {
    "execution": {
     "iopub.execute_input": "2024-07-23T03:44:44.349651Z",
     "iopub.status.busy": "2024-07-23T03:44:44.348674Z",
     "iopub.status.idle": "2024-07-23T03:44:46.368767Z",
     "shell.execute_reply": "2024-07-23T03:44:46.368113Z"
    }
   },
   "outputs": [
    {
     "name": "stdout",
     "output_type": "stream",
     "text": [
      "Energies:\n",
      "\n",
      "Bond:          \t\t304.9486587565641 kilojoule / mole\n",
      "Angle:         \t\t1312.2520849070931 kilojoule / mole\n",
      "Torsion:       \t\t6807.246139787111 kilojoule / mole\n",
      "RBTorsion:     \t\tNone\n",
      "Nonbonded:     \t\t-18067.283489882066 kilojoule / mole\n",
      "vdW:           \t\tNone\n",
      "Electrostatics:\t\tNone\n",
      "\n"
     ]
    }
   ],
   "source": [
    "converted_energies = get_openmm_energies(\n",
    "    converted_interchange, combine_nonbonded_forces=True\n",
    ")\n",
    "print(converted_energies)"
   ]
  },
  {
   "cell_type": "code",
   "execution_count": 6,
   "id": "10",
   "metadata": {
    "execution": {
     "iopub.execute_input": "2024-07-23T03:44:46.372684Z",
     "iopub.status.busy": "2024-07-23T03:44:46.371802Z",
     "iopub.status.idle": "2024-07-23T03:44:46.623951Z",
     "shell.execute_reply": "2024-07-23T03:44:46.623351Z"
    }
   },
   "outputs": [
    {
     "name": "stdout",
     "output_type": "stream",
     "text": [
      "Energies:\n",
      "\n",
      "Bond:          \t\t304.9486587565641 kilojoule / mole\n",
      "Angle:         \t\t1312.2520849070931 kilojoule / mole\n",
      "Torsion:       \t\t6807.246139787111 kilojoule / mole\n",
      "RBTorsion:     \t\tNone\n",
      "Nonbonded:     \t\t-18140.846216543243 kilojoule / mole\n",
      "vdW:           \t\tNone\n",
      "Electrostatics:\t\tNone\n",
      "\n"
     ]
    }
   ],
   "source": [
    "(\n",
    "    reference_system,\n",
    "    reference_positions,\n",
    "    reference_box_vectors,\n",
    ") = openmm_pathway(protein, amber_force_fields)\n",
    "\n",
    "reference_energy = _process(\n",
    "    _get_openmm_energies(\n",
    "        system=reference_system,\n",
    "        positions=reference_positions,\n",
    "        box_vectors=reference_box_vectors,\n",
    "        round_positions=None,\n",
    "        platform=\"Reference\",\n",
    "    ),\n",
    "    system=reference_system,\n",
    "    combine_nonbonded_forces=True,\n",
    "    detailed=False,\n",
    ")\n",
    "\n",
    "print(reference_energy)"
   ]
  },
  {
   "cell_type": "markdown",
   "id": "11",
   "metadata": {},
   "source": [
    "The non-bonded energies differ slightly. It's not currently clear if this is due to difference in non-bonded settings or a subtle difference in the conversion of applied parameters. Energies from valence terms match to a high level of precision."
   ]
  }
 ],
 "metadata": {
  "category": "force_field_interop",
  "cookbook_cache_branch": "_cookbook_data_PR14",
  "kernelspec": {
   "display_name": "Python 3 (ipykernel)",
   "language": "python",
   "name": "python3"
  },
  "language_info": {
   "codemirror_mode": {
    "name": "ipython",
    "version": 3
   },
   "file_extension": ".py",
   "mimetype": "text/x-python",
   "name": "python",
   "nbconvert_exporter": "python",
   "pygments_lexer": "ipython3",
   "version": "3.10.14"
  },
  "src_repo_tag": "v0.3.28",
  "vscode": {
   "interpreter": {
    "hash": "86c9b142c8dc60dd36d17e2a57efabbd2ed015b9d3db80dd77f3e0894d5aea85"
   }
  },
  "widgets": {
   "application/vnd.jupyter.widget-state+json": {
    "state": {
     "2af552612a4746a099872ed1946f88a8": {
      "model_module": "@jupyter-widgets/base",
      "model_module_version": "2.0.0",
      "model_name": "LayoutModel",
      "state": {
       "_model_module": "@jupyter-widgets/base",
       "_model_module_version": "2.0.0",
       "_model_name": "LayoutModel",
       "_view_count": null,
       "_view_module": "@jupyter-widgets/base",
       "_view_module_version": "2.0.0",
       "_view_name": "LayoutView",
       "align_content": null,
       "align_items": null,
       "align_self": null,
       "border_bottom": null,
       "border_left": null,
       "border_right": null,
       "border_top": null,
       "bottom": null,
       "display": null,
       "flex": null,
       "flex_flow": null,
       "grid_area": null,
       "grid_auto_columns": null,
       "grid_auto_flow": null,
       "grid_auto_rows": null,
       "grid_column": null,
       "grid_gap": null,
       "grid_row": null,
       "grid_template_areas": null,
       "grid_template_columns": null,
       "grid_template_rows": null,
       "height": null,
       "justify_content": null,
       "justify_items": null,
       "left": null,
       "margin": null,
       "max_height": null,
       "max_width": null,
       "min_height": null,
       "min_width": null,
       "object_fit": null,
       "object_position": null,
       "order": null,
       "overflow": null,
       "padding": null,
       "right": null,
       "top": null,
       "visibility": null,
       "width": null
      }
     },
     "c237716b8cd74e1c944b903199ce374f": {
      "model_module": "nglview-js-widgets",
      "model_module_version": "3.0.8",
      "model_name": "ColormakerRegistryModel",
      "state": {
       "_dom_classes": [],
       "_model_module": "nglview-js-widgets",
       "_model_module_version": "3.0.8",
       "_model_name": "ColormakerRegistryModel",
       "_msg_ar": [],
       "_msg_q": [],
       "_ready": false,
       "_view_count": null,
       "_view_module": "nglview-js-widgets",
       "_view_module_version": "3.0.8",
       "_view_name": "ColormakerRegistryView",
       "layout": "IPY_MODEL_2af552612a4746a099872ed1946f88a8",
       "tabbable": null,
       "tooltip": null
      }
     }
    },
    "version_major": 2,
    "version_minor": 0
   }
  }
 },
 "nbformat": 4,
 "nbformat_minor": 5
}
