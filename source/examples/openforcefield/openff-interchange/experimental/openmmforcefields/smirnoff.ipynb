{
 "cells": [
  {
   "cell_type": "markdown",
   "id": "0",
   "metadata": {},
   "source": [
    "# Prepare a SMIRNOFF ligand with `openmmforcefields` and Interchange\n",
    "\n",
    "[`openmmforcefields`](https://github.com/openmm/openmmforcefields) is a Python package that provides OpenMM implementations of some small molecule force fields via small molecule template generators."
   ]
  },
  {
   "cell_type": "markdown",
   "id": "1",
   "metadata": {},
   "source": [
    "## Validating the implementation of SMIRNOFF force fields\n",
    "\n",
    "`openmmforcefields` provides SMIRNOFF force fields via its infrastructure, internally calling OpenFF software and converting results to something that is compatible with OpenMM's `ForceField` class. Before doing novel things, let's validate that this implementation provides the same result as directly using OpenFF tools.\n",
    "\n",
    "The process of preparing inputs is similar; we'll prepare a molecule from a SMILES string and use OpenFF 2.1.0 \"Sage\" as the force field."
   ]
  },
  {
   "cell_type": "code",
   "execution_count": 1,
   "id": "2",
   "metadata": {
    "execution": {
     "iopub.execute_input": "2024-07-23T03:45:02.630163Z",
     "iopub.status.busy": "2024-07-23T03:45:02.629938Z",
     "iopub.status.idle": "2024-07-23T03:45:13.427217Z",
     "shell.execute_reply": "2024-07-23T03:45:13.426533Z"
    }
   },
   "outputs": [
    {
     "data": {
      "application/vnd.jupyter.widget-view+json": {
       "model_id": "e28e0457862b45748af2a48f53933ba2",
       "version_major": 2,
       "version_minor": 0
      },
      "text/plain": []
     },
     "metadata": {},
     "output_type": "display_data"
    }
   ],
   "source": [
    "import openmm.app\n",
    "from openff.toolkit import Molecule\n",
    "from openff.units import unit\n",
    "from openff.units.openmm import ensure_quantity\n",
    "from openmmforcefields.generators import SMIRNOFFTemplateGenerator\n",
    "\n",
    "molecule = Molecule.from_smiles(\"O=S(=O)(N)c1c(Cl)cc2c(c1)S(=O)(=O)NCN2\")\n",
    "molecule.generate_conformers(n_conformers=1)\n",
    "\n",
    "topology = molecule.to_topology()\n",
    "topology.box_vectors = unit.Quantity([4, 4, 4], unit.nanometer)\n",
    "\n",
    "smirnoff = SMIRNOFFTemplateGenerator(\n",
    "    molecules=molecule,\n",
    "    forcefield=\"openff-2.1.0.offxml\",\n",
    ")\n",
    "forcefield = openmm.app.ForceField()\n",
    "forcefield.registerTemplateGenerator(smirnoff.generator)\n",
    "\n",
    "# Sage uses a 9 Angstrom cutoff and 8 Angstrom switching distance\n",
    "system = forcefield.createSystem(\n",
    "    topology.to_openmm(),\n",
    "    nonbondedCutoff=ensure_quantity(0.9 * unit.nanometer, \"openmm\"),\n",
    "    switchDistance=ensure_quantity(0.8 * unit.nanometer, \"openmm\"),\n",
    ")"
   ]
  },
  {
   "cell_type": "markdown",
   "id": "3",
   "metadata": {},
   "source": [
    "`openmmforcefields` has provided us an (OpenMM) force field with SMIRNOFF parameters included as a template generator. The end goal of this setup is to create an `openmm.System`, which we can get a single-point energy of."
   ]
  },
  {
   "cell_type": "code",
   "execution_count": 2,
   "id": "4",
   "metadata": {
    "execution": {
     "iopub.execute_input": "2024-07-23T03:45:13.432338Z",
     "iopub.status.busy": "2024-07-23T03:45:13.431030Z",
     "iopub.status.idle": "2024-07-23T03:45:13.871423Z",
     "shell.execute_reply": "2024-07-23T03:45:13.870749Z"
    }
   },
   "outputs": [
    {
     "name": "stderr",
     "output_type": "stream",
     "text": [
      "/home/runner/micromamba/envs/openff-docs-examples/lib/python3.10/site-packages/pandas/core/computation/expressions.py:21: UserWarning: Pandas requires version '2.8.4' or newer of 'numexpr' (version '2.7.3' currently installed).\n",
      "  from pandas.core.computation.check import NUMEXPR_INSTALLED\n"
     ]
    },
    {
     "data": {
      "text/plain": [
       "EnergyReport(energies={'Bond': <Quantity(35.4195157, 'kilojoule / mole')>, 'Angle': <Quantity(42.5424543, 'kilojoule / mole')>, 'Torsion': <Quantity(136.604497, 'kilojoule / mole')>, 'Electrostatics': <Quantity(-2026.02279, 'kilojoule / mole')>, 'vdW': <Quantity(0.0, 'kilojoule / mole')>})"
      ]
     },
     "execution_count": 2,
     "metadata": {},
     "output_type": "execute_result"
    }
   ],
   "source": [
    "from openff.units import unit\n",
    "from openff.units.openmm import ensure_quantity\n",
    "\n",
    "from openff.interchange.drivers.openmm import _get_openmm_energies, _process\n",
    "\n",
    "energy_openmmforcefields = _process(\n",
    "    _get_openmm_energies(\n",
    "        system,\n",
    "        box_vectors=None,\n",
    "        positions=ensure_quantity(molecule.conformers[0], \"openmm\"),\n",
    "        round_positions=None,\n",
    "        platform=\"Reference\",\n",
    "    ),\n",
    "    system=system,\n",
    "    combine_nonbonded_forces=False,\n",
    "    detailed=False,\n",
    ")\n",
    "\n",
    "energy_openmmforcefields"
   ]
  },
  {
   "cell_type": "markdown",
   "id": "5",
   "metadata": {},
   "source": [
    "We can compare this to an analogous series of operations that use OpenFF tools (the toolkit's `ForceField` class and Interchange) to create an `openmm.System` that one would hope has identical contents."
   ]
  },
  {
   "cell_type": "code",
   "execution_count": 3,
   "id": "6",
   "metadata": {
    "execution": {
     "iopub.execute_input": "2024-07-23T03:45:13.877176Z",
     "iopub.status.busy": "2024-07-23T03:45:13.875436Z",
     "iopub.status.idle": "2024-07-23T03:45:14.498956Z",
     "shell.execute_reply": "2024-07-23T03:45:14.498352Z"
    }
   },
   "outputs": [
    {
     "data": {
      "text/plain": [
       "EnergyReport(energies={'Bond': <Quantity(35.4195157, 'kilojoule / mole')>, 'Angle': <Quantity(42.5424543, 'kilojoule / mole')>, 'Torsion': <Quantity(136.604497, 'kilojoule / mole')>, 'Nonbonded': <Quantity(-2026.02279, 'kilojoule / mole')>})"
      ]
     },
     "execution_count": 3,
     "metadata": {},
     "output_type": "execute_result"
    }
   ],
   "source": [
    "from openff.toolkit import ForceField\n",
    "\n",
    "from openff.interchange import Interchange\n",
    "from openff.interchange.drivers.openmm import get_openmm_energies\n",
    "\n",
    "sage = ForceField(\"openff_unconstrained-2.1.0.offxml\")\n",
    "interchange = Interchange.from_smirnoff(sage, [molecule])\n",
    "\n",
    "energy_openff = get_openmm_energies(interchange)\n",
    "\n",
    "energy_openff"
   ]
  },
  {
   "cell_type": "markdown",
   "id": "7",
   "metadata": {},
   "source": [
    "Manually inspecting the energies shows zero or marginal differences between them. We can also programmically compare these `EnergyReport` objects with `.compare`, which raises an error if there are significant differences, or `.diff`, which reports differences whether or not they are significant.\n",
    "\n",
    "In this case, valence energies are exact to nearly machine precision. Non-bonded energies differ slightly due to approximations in how electrostatics are handled with PME."
   ]
  },
  {
   "cell_type": "code",
   "execution_count": 4,
   "id": "8",
   "metadata": {
    "execution": {
     "iopub.execute_input": "2024-07-23T03:45:14.503136Z",
     "iopub.status.busy": "2024-07-23T03:45:14.502119Z",
     "iopub.status.idle": "2024-07-23T03:45:14.510582Z",
     "shell.execute_reply": "2024-07-23T03:45:14.509927Z"
    }
   },
   "outputs": [
    {
     "data": {
      "text/plain": [
       "{'Bond': -3.552713678800501e-14 <Unit('kilojoule / mole')>,\n",
       " 'Angle': 1.4210854715202004e-14 <Unit('kilojoule / mole')>,\n",
       " 'Torsion': -2.842170943040401e-14 <Unit('kilojoule / mole')>,\n",
       " 'Nonbonded': 0.0 <Unit('kilojoule / mole')>}"
      ]
     },
     "execution_count": 4,
     "metadata": {},
     "output_type": "execute_result"
    }
   ],
   "source": [
    "energy_openff.compare(\n",
    "    energy_openmmforcefields,\n",
    "    {\"Nonbonded\": 0.002 * unit.kilojoule_per_mole},\n",
    ")\n",
    "\n",
    "energy_openff.diff(energy_openmmforcefields)"
   ]
  }
 ],
 "metadata": {
  "category": "parametrization_evaluation",
  "cookbook_cache_branch": "_cookbook_data_PR14",
  "kernelspec": {
   "display_name": "Python 3 (ipykernel)",
   "language": "python",
   "name": "python3"
  },
  "language_info": {
   "codemirror_mode": {
    "name": "ipython",
    "version": 3
   },
   "file_extension": ".py",
   "mimetype": "text/x-python",
   "name": "python",
   "nbconvert_exporter": "python",
   "pygments_lexer": "ipython3",
   "version": "3.10.14"
  },
  "src_repo_tag": "v0.3.28",
  "vscode": {
   "interpreter": {
    "hash": "86c9b142c8dc60dd36d17e2a57efabbd2ed015b9d3db80dd77f3e0894d5aea85"
   }
  },
  "widgets": {
   "application/vnd.jupyter.widget-state+json": {
    "state": {
     "78af96b1e7fd475f85fd357135212dd6": {
      "model_module": "@jupyter-widgets/base",
      "model_module_version": "2.0.0",
      "model_name": "LayoutModel",
      "state": {
       "_model_module": "@jupyter-widgets/base",
       "_model_module_version": "2.0.0",
       "_model_name": "LayoutModel",
       "_view_count": null,
       "_view_module": "@jupyter-widgets/base",
       "_view_module_version": "2.0.0",
       "_view_name": "LayoutView",
       "align_content": null,
       "align_items": null,
       "align_self": null,
       "border_bottom": null,
       "border_left": null,
       "border_right": null,
       "border_top": null,
       "bottom": null,
       "display": null,
       "flex": null,
       "flex_flow": null,
       "grid_area": null,
       "grid_auto_columns": null,
       "grid_auto_flow": null,
       "grid_auto_rows": null,
       "grid_column": null,
       "grid_gap": null,
       "grid_row": null,
       "grid_template_areas": null,
       "grid_template_columns": null,
       "grid_template_rows": null,
       "height": null,
       "justify_content": null,
       "justify_items": null,
       "left": null,
       "margin": null,
       "max_height": null,
       "max_width": null,
       "min_height": null,
       "min_width": null,
       "object_fit": null,
       "object_position": null,
       "order": null,
       "overflow": null,
       "padding": null,
       "right": null,
       "top": null,
       "visibility": null,
       "width": null
      }
     },
     "e28e0457862b45748af2a48f53933ba2": {
      "model_module": "nglview-js-widgets",
      "model_module_version": "3.0.8",
      "model_name": "ColormakerRegistryModel",
      "state": {
       "_dom_classes": [],
       "_model_module": "nglview-js-widgets",
       "_model_module_version": "3.0.8",
       "_model_name": "ColormakerRegistryModel",
       "_msg_ar": [],
       "_msg_q": [],
       "_ready": false,
       "_view_count": null,
       "_view_module": "nglview-js-widgets",
       "_view_module_version": "3.0.8",
       "_view_name": "ColormakerRegistryView",
       "layout": "IPY_MODEL_78af96b1e7fd475f85fd357135212dd6",
       "tabbable": null,
       "tooltip": null
      }
     }
    },
    "version_major": 2,
    "version_minor": 0
   }
  }
 },
 "nbformat": 4,
 "nbformat_minor": 5
}
