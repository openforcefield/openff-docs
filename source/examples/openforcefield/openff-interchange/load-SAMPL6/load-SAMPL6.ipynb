{
 "cells": [
  {
   "cell_type": "markdown",
   "metadata": {},
   "source": [
    "# Load a prepared SAMPL6 system\n"
   ]
  },
  {
   "cell_type": "markdown",
   "metadata": {},
   "source": [
    "This notebook downloads a SAMPL6 challenge system as an XML-serialized OpenMM System, creates an `Interchange` from it, and then computes the energy of the starting coordinates with GROMACS."
   ]
  },
  {
   "cell_type": "code",
   "execution_count": 1,
   "metadata": {
    "execution": {
     "iopub.execute_input": "2025-09-30T00:14:40.236406Z",
     "iopub.status.busy": "2025-09-30T00:14:40.235395Z",
     "iopub.status.idle": "2025-09-30T00:14:45.628242Z",
     "shell.execute_reply": "2025-09-30T00:14:45.627674Z"
    }
   },
   "outputs": [],
   "source": [
    "from openff.interchange import Interchange\n",
    "from openff.interchange.drivers import get_summary_data"
   ]
  },
  {
   "cell_type": "code",
   "execution_count": 2,
   "metadata": {
    "execution": {
     "iopub.execute_input": "2025-09-30T00:14:45.630485Z",
     "iopub.status.busy": "2025-09-30T00:14:45.629946Z",
     "iopub.status.idle": "2025-09-30T00:14:46.625486Z",
     "shell.execute_reply": "2025-09-30T00:14:46.624818Z"
    }
   },
   "outputs": [
    {
     "name": "stdout",
     "output_type": "stream",
     "text": [
      "--2025-09-30 00:14:45--  https://raw.githubusercontent.com/samplchallenges/SAMPL6/c661d3985af7fa0ba8c64a1774cfb2363cd31bda/host_guest/SAMPLing/CB8-G3-3/PDB/complex.pdb\r\n",
      "Resolving raw.githubusercontent.com (raw.githubusercontent.com)... 185.199.110.133, 185.199.111.133, 185.199.109.133, ...\r\n",
      "Connecting to raw.githubusercontent.com (raw.githubusercontent.com)|185.199.110.133|:443... connected.\r\n"
     ]
    },
    {
     "name": "stdout",
     "output_type": "stream",
     "text": [
      "HTTP request sent, awaiting response... "
     ]
    },
    {
     "name": "stdout",
     "output_type": "stream",
     "text": [
      "200 OK\r\n",
      "Length: 537508 (525K) [text/plain]\r\n",
      "Saving to: ‘complex.pdb’\r\n",
      "\r\n",
      "\r",
      "complex.pdb           0%[                    ]       0  --.-KB/s               \r",
      "complex.pdb         100%[===================>] 524.91K  --.-KB/s    in 0.03s   \r\n",
      "\r\n",
      "2025-09-30 00:14:45 (18.7 MB/s) - ‘complex.pdb’ saved [537508/537508]\r\n",
      "\r\n"
     ]
    },
    {
     "name": "stdout",
     "output_type": "stream",
     "text": [
      "--2025-09-30 00:14:46--  https://raw.githubusercontent.com/samplchallenges/SAMPL6/c661d3985af7fa0ba8c64a1774cfb2363cd31bda/host_guest/SAMPLing/CB8-G3-3/OPENMM/complex.xml\r\n",
      "Resolving raw.githubusercontent.com (raw.githubusercontent.com)... 185.199.110.133, 185.199.109.133, 185.199.111.133, ...\r\n",
      "Connecting to raw.githubusercontent.com (raw.githubusercontent.com)|185.199.110.133|:443... connected.\r\n"
     ]
    },
    {
     "name": "stdout",
     "output_type": "stream",
     "text": [
      "HTTP request sent, awaiting response... "
     ]
    },
    {
     "name": "stdout",
     "output_type": "stream",
     "text": [
      "200 OK\r\n",
      "Length: 1942552 (1.9M) [text/plain]\r\n",
      "Saving to: ‘complex.xml’\r\n",
      "\r\n",
      "\r",
      "complex.xml           0%[                    ]       0  --.-KB/s               "
     ]
    },
    {
     "name": "stdout",
     "output_type": "stream",
     "text": [
      "\r",
      "complex.xml         100%[===================>]   1.85M  --.-KB/s    in 0.04s   \r\n",
      "\r\n",
      "2025-09-30 00:14:46 (41.7 MB/s) - ‘complex.xml’ saved [1942552/1942552]\r\n",
      "\r\n"
     ]
    }
   ],
   "source": [
    "!wget -O complex.pdb https://raw.githubusercontent.com/samplchallenges/SAMPL6/c661d3985af7fa0ba8c64a1774cfb2363cd31bda/host_guest/SAMPLing/CB8-G3-3/PDB/complex.pdb\n",
    "!wget -O complex.xml https://raw.githubusercontent.com/samplchallenges/SAMPL6/c661d3985af7fa0ba8c64a1774cfb2363cd31bda/host_guest/SAMPLing/CB8-G3-3/OPENMM/complex.xml"
   ]
  },
  {
   "cell_type": "code",
   "execution_count": 3,
   "metadata": {
    "execution": {
     "iopub.execute_input": "2025-09-30T00:14:46.630837Z",
     "iopub.status.busy": "2025-09-30T00:14:46.629956Z",
     "iopub.status.idle": "2025-09-30T00:14:47.034150Z",
     "shell.execute_reply": "2025-09-30T00:14:47.033462Z"
    }
   },
   "outputs": [],
   "source": [
    "import openmm\n",
    "import openmm.app\n",
    "\n",
    "pdb_object = openmm.app.PDBFile(\"complex.pdb\")\n",
    "\n",
    "topology = pdb_object.topology\n",
    "positions = pdb_object.positions\n",
    "\n",
    "system = openmm.XmlSerializer.deserialize(open(\"complex.xml\").read())\n",
    "\n",
    "# Remove force objects that are not stored in Interchange and do not affect the energy\n",
    "for force_index in range(system.getNumForces())[::-1]:\n",
    "    if isinstance(\n",
    "        system.getForce(force_index),\n",
    "        openmm.MonteCarloBarostat | openmm.CMMotionRemover,\n",
    "    ):\n",
    "        system.removeForce(force_index)"
   ]
  },
  {
   "cell_type": "code",
   "execution_count": 4,
   "metadata": {
    "execution": {
     "iopub.execute_input": "2025-09-30T00:14:47.036410Z",
     "iopub.status.busy": "2025-09-30T00:14:47.036199Z",
     "iopub.status.idle": "2025-09-30T00:14:53.887123Z",
     "shell.execute_reply": "2025-09-30T00:14:53.886463Z"
    }
   },
   "outputs": [],
   "source": [
    "imported = Interchange.from_openmm(\n",
    "    system=system,\n",
    "    topology=pdb_object.topology,\n",
    "    positions=pdb_object.getPositions(),\n",
    ")\n",
    "\n",
    "# Residue numbers in this PDB start at 0, but GROMACS requires that\n",
    "# residue numbers start at 1, so modify them in-place\n",
    "for atom in imported.topology.atoms:\n",
    "    atom.metadata[\"residue_number\"] = str(int(atom.metadata[\"residue_number\"]) + 1)"
   ]
  },
  {
   "cell_type": "code",
   "execution_count": 5,
   "metadata": {
    "execution": {
     "iopub.execute_input": "2025-09-30T00:14:53.889467Z",
     "iopub.status.busy": "2025-09-30T00:14:53.889241Z",
     "iopub.status.idle": "2025-09-30T00:15:03.117789Z",
     "shell.execute_reply": "2025-09-30T00:15:03.117185Z"
    }
   },
   "outputs": [
    {
     "name": "stderr",
     "output_type": "stream",
     "text": [
      "/home/runner/micromamba/envs/openff-docs-examples/lib/python3.11/site-packages/openff/interchange/components/mdconfig.py:502: UserWarning: Ambiguous failure while processing constraints. Constraining h-bonds as a stopgap.\n",
      "  warnings.warn(\n"
     ]
    },
    {
     "data": {
      "text/html": [
       "<div>\n",
       "<style scoped>\n",
       "    .dataframe tbody tr th:only-of-type {\n",
       "        vertical-align: middle;\n",
       "    }\n",
       "\n",
       "    .dataframe tbody tr th {\n",
       "        vertical-align: top;\n",
       "    }\n",
       "\n",
       "    .dataframe thead th {\n",
       "        text-align: right;\n",
       "    }\n",
       "</style>\n",
       "<table border=\"1\" class=\"dataframe\">\n",
       "  <thead>\n",
       "    <tr style=\"text-align: right;\">\n",
       "      <th></th>\n",
       "      <th>Bond</th>\n",
       "      <th>Angle</th>\n",
       "      <th>Torsion</th>\n",
       "      <th>vdW</th>\n",
       "      <th>Electrostatics</th>\n",
       "      <th>RBTorsion</th>\n",
       "    </tr>\n",
       "  </thead>\n",
       "  <tbody>\n",
       "    <tr>\n",
       "      <th>OpenMM</th>\n",
       "      <td>181.5107</td>\n",
       "      <td>909.194443</td>\n",
       "      <td>516.769674</td>\n",
       "      <td>12591.934473</td>\n",
       "      <td>-109467.404433</td>\n",
       "      <td>NaN</td>\n",
       "    </tr>\n",
       "    <tr>\n",
       "      <th>GROMACS</th>\n",
       "      <td>181.5103</td>\n",
       "      <td>909.194092</td>\n",
       "      <td>516.769653</td>\n",
       "      <td>12591.974281</td>\n",
       "      <td>-109465.802429</td>\n",
       "      <td>0.0</td>\n",
       "    </tr>\n",
       "  </tbody>\n",
       "</table>\n",
       "</div>"
      ],
      "text/plain": [
       "             Bond       Angle     Torsion           vdW  Electrostatics  \\\n",
       "OpenMM   181.5107  909.194443  516.769674  12591.934473  -109467.404433   \n",
       "GROMACS  181.5103  909.194092  516.769653  12591.974281  -109465.802429   \n",
       "\n",
       "         RBTorsion  \n",
       "OpenMM         NaN  \n",
       "GROMACS        0.0  "
      ]
     },
     "execution_count": 5,
     "metadata": {},
     "output_type": "execute_result"
    }
   ],
   "source": [
    "# Interchange.to_amber is not yet optimized for biopolymer systems\n",
    "summary = get_summary_data(imported, _engines=[\"GROMACS\", \"OpenMM\"])\n",
    "summary"
   ]
  }
 ],
 "metadata": {
  "cookbook_cache_branch": "_cookbook_data_main",
  "kernelspec": {
   "display_name": "Python 3",
   "language": "python",
   "name": "python3"
  },
  "language_info": {
   "codemirror_mode": {
    "name": "ipython",
    "version": 3
   },
   "file_extension": ".py",
   "mimetype": "text/x-python",
   "name": "python",
   "nbconvert_exporter": "python",
   "pygments_lexer": "ipython3",
   "version": "3.11.13"
  },
  "src_repo_tag": "v0.4.7"
 },
 "nbformat": 4,
 "nbformat_minor": 4
}
