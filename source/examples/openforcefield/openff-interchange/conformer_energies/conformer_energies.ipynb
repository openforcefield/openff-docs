{
 "cells": [
  {
   "cell_type": "markdown",
   "metadata": {},
   "source": [
    "# Compute conformer energies for a small molecule with Interchange"
   ]
  },
  {
   "cell_type": "markdown",
   "metadata": {},
   "source": [
    "This example generates conformers for a small molecule and then evaluates their energies in OpenMM and GROMACS. "
   ]
  },
  {
   "cell_type": "code",
   "execution_count": 1,
   "metadata": {
    "execution": {
     "iopub.execute_input": "2024-07-23T03:34:13.733210Z",
     "iopub.status.busy": "2024-07-23T03:34:13.733012Z",
     "iopub.status.idle": "2024-07-23T03:34:16.944685Z",
     "shell.execute_reply": "2024-07-23T03:34:16.944034Z"
    },
    "tags": []
   },
   "outputs": [
    {
     "name": "stderr",
     "output_type": "stream",
     "text": [
      "/home/runner/micromamba/envs/openff-docs-examples/lib/python3.10/site-packages/pandas/core/computation/expressions.py:21: UserWarning: Pandas requires version '2.8.4' or newer of 'numexpr' (version '2.7.3' currently installed).\n",
      "  from pandas.core.computation.check import NUMEXPR_INSTALLED\n"
     ]
    },
    {
     "data": {
      "application/vnd.jupyter.widget-view+json": {
       "model_id": "17d0610d6dd24fe0bbceb1735b152bd7",
       "version_major": 2,
       "version_minor": 0
      },
      "text/plain": []
     },
     "metadata": {},
     "output_type": "display_data"
    }
   ],
   "source": [
    "import pandas as pd\n",
    "from openff.toolkit.topology import Molecule, Topology\n",
    "from openff.toolkit.typing.engines.smirnoff import ForceField\n",
    "from openff.units import unit\n",
    "\n",
    "from openff.interchange import Interchange\n",
    "from openff.interchange.drivers import get_gromacs_energies, get_openmm_energies"
   ]
  },
  {
   "cell_type": "markdown",
   "metadata": {},
   "source": [
    "Choose the molecule we want by specifying a SMILES:"
   ]
  },
  {
   "cell_type": "code",
   "execution_count": 2,
   "metadata": {
    "execution": {
     "iopub.execute_input": "2024-07-23T03:34:16.948342Z",
     "iopub.status.busy": "2024-07-23T03:34:16.947868Z",
     "iopub.status.idle": "2024-07-23T03:34:16.952193Z",
     "shell.execute_reply": "2024-07-23T03:34:16.951611Z"
    },
    "tags": []
   },
   "outputs": [],
   "source": [
    "SMILES = \"c1n(CCO)c(C(F)(F)(F))cc1CNCCl\""
   ]
  },
  {
   "cell_type": "markdown",
   "metadata": {},
   "source": [
    "Generate conformers with the OpenFF Toolkit. Note that these conformers are not energy-minimized with any force field, QM method, or other tool; their purpose is to generate diverse starting points for further study."
   ]
  },
  {
   "cell_type": "code",
   "execution_count": 3,
   "metadata": {
    "execution": {
     "iopub.execute_input": "2024-07-23T03:34:16.956262Z",
     "iopub.status.busy": "2024-07-23T03:34:16.955256Z",
     "iopub.status.idle": "2024-07-23T03:34:17.216904Z",
     "shell.execute_reply": "2024-07-23T03:34:17.215945Z"
    },
    "tags": []
   },
   "outputs": [],
   "source": [
    "molecule = Molecule.from_smiles(SMILES)\n",
    "molecule.generate_conformers(n_conformers=20, rms_cutoff=0.1 * unit.angstrom),\n",
    "topology = molecule.to_topology()"
   ]
  },
  {
   "cell_type": "markdown",
   "metadata": {},
   "source": [
    "Load the Sage 2.1.0 force field:"
   ]
  },
  {
   "cell_type": "code",
   "execution_count": 4,
   "metadata": {
    "execution": {
     "iopub.execute_input": "2024-07-23T03:34:17.220537Z",
     "iopub.status.busy": "2024-07-23T03:34:17.220307Z",
     "iopub.status.idle": "2024-07-23T03:34:17.696311Z",
     "shell.execute_reply": "2024-07-23T03:34:17.694537Z"
    },
    "tags": []
   },
   "outputs": [],
   "source": [
    "sage = ForceField(\"openff-2.0.0.offxml\")"
   ]
  },
  {
   "cell_type": "markdown",
   "metadata": {},
   "source": [
    "Apply the force field to the topology to generate an Interchange. This step might be slow as it needs to compute partial charges:"
   ]
  },
  {
   "cell_type": "code",
   "execution_count": 5,
   "metadata": {
    "execution": {
     "iopub.execute_input": "2024-07-23T03:34:17.699859Z",
     "iopub.status.busy": "2024-07-23T03:34:17.699604Z",
     "iopub.status.idle": "2024-07-23T03:34:30.742601Z",
     "shell.execute_reply": "2024-07-23T03:34:30.741858Z"
    },
    "tags": []
   },
   "outputs": [],
   "source": [
    "interchange = Interchange.from_smirnoff(force_field=sage, topology=topology)"
   ]
  },
  {
   "cell_type": "markdown",
   "metadata": {},
   "source": [
    "Modern versions of GROMACS do not support open boundary conditions, so we'll choose a huge box to mimic the gas phase for the single-point energy calculation:"
   ]
  },
  {
   "cell_type": "code",
   "execution_count": 6,
   "metadata": {
    "execution": {
     "iopub.execute_input": "2024-07-23T03:34:30.746262Z",
     "iopub.status.busy": "2024-07-23T03:34:30.746020Z",
     "iopub.status.idle": "2024-07-23T03:34:30.753492Z",
     "shell.execute_reply": "2024-07-23T03:34:30.750646Z"
    },
    "tags": []
   },
   "outputs": [],
   "source": [
    "interchange.box = unit.Quantity([4, 4, 4], unit.nanometer)"
   ]
  },
  {
   "cell_type": "markdown",
   "metadata": {},
   "source": [
    "Now we go over each conformer, set the Interchange's positions, perform the point energy calculation and record the results in a dataframe:"
   ]
  },
  {
   "cell_type": "code",
   "execution_count": 7,
   "metadata": {
    "execution": {
     "iopub.execute_input": "2024-07-23T03:34:30.757444Z",
     "iopub.status.busy": "2024-07-23T03:34:30.756644Z",
     "iopub.status.idle": "2024-07-23T03:34:37.210866Z",
     "shell.execute_reply": "2024-07-23T03:34:37.210178Z"
    },
    "tags": []
   },
   "outputs": [],
   "source": [
    "summary = pd.DataFrame()\n",
    "\n",
    "kj_mol = unit.kilojoule / unit.mol\n",
    "\n",
    "for idx, conformer in enumerate(molecule.conformers):\n",
    "    interchange.positions = conformer\n",
    "\n",
    "    openmm_energies = get_openmm_energies(interchange).total_energy.m_as(kj_mol)\n",
    "    gromacs_energies = get_gromacs_energies(interchange).total_energy.m_as(kj_mol)\n",
    "\n",
    "    summary = pd.concat(\n",
    "        [\n",
    "            summary,\n",
    "            pd.DataFrame.from_dict(\n",
    "                {\n",
    "                    \"Conformer No.\": [idx],\n",
    "                    \"Interchange -> OpenMM (kJ/mol)\": [round(openmm_energies, 3)],\n",
    "                    \"Interchange -> GROMACS\": [round(gromacs_energies, 3)],\n",
    "                }\n",
    "            ),\n",
    "        ]\n",
    "    )"
   ]
  },
  {
   "cell_type": "markdown",
   "metadata": {},
   "source": [
    "Finally, we can look at the results as stored in the dataframe:"
   ]
  },
  {
   "cell_type": "code",
   "execution_count": 8,
   "metadata": {
    "execution": {
     "iopub.execute_input": "2024-07-23T03:34:37.214443Z",
     "iopub.status.busy": "2024-07-23T03:34:37.214190Z",
     "iopub.status.idle": "2024-07-23T03:34:37.735498Z",
     "shell.execute_reply": "2024-07-23T03:34:37.734374Z"
    },
    "tags": []
   },
   "outputs": [
    {
     "data": {
      "text/html": [
       "<style type=\"text/css\">\n",
       "</style>\n",
       "<table id=\"T_bdc12\">\n",
       "  <thead>\n",
       "    <tr>\n",
       "      <th id=\"T_bdc12_level0_col0\" class=\"col_heading level0 col0\" >Conformer No.</th>\n",
       "      <th id=\"T_bdc12_level0_col1\" class=\"col_heading level0 col1\" >Interchange -> OpenMM (kJ/mol)</th>\n",
       "      <th id=\"T_bdc12_level0_col2\" class=\"col_heading level0 col2\" >Interchange -> GROMACS</th>\n",
       "    </tr>\n",
       "  </thead>\n",
       "  <tbody>\n",
       "    <tr>\n",
       "      <td id=\"T_bdc12_row0_col0\" class=\"data row0 col0\" >0</td>\n",
       "      <td id=\"T_bdc12_row0_col1\" class=\"data row0 col1\" >295.554000</td>\n",
       "      <td id=\"T_bdc12_row0_col2\" class=\"data row0 col2\" >295.549000</td>\n",
       "    </tr>\n",
       "    <tr>\n",
       "      <td id=\"T_bdc12_row1_col0\" class=\"data row1 col0\" >1</td>\n",
       "      <td id=\"T_bdc12_row1_col1\" class=\"data row1 col1\" >353.824000</td>\n",
       "      <td id=\"T_bdc12_row1_col2\" class=\"data row1 col2\" >353.814000</td>\n",
       "    </tr>\n",
       "    <tr>\n",
       "      <td id=\"T_bdc12_row2_col0\" class=\"data row2 col0\" >2</td>\n",
       "      <td id=\"T_bdc12_row2_col1\" class=\"data row2 col1\" >291.270000</td>\n",
       "      <td id=\"T_bdc12_row2_col2\" class=\"data row2 col2\" >291.249000</td>\n",
       "    </tr>\n",
       "    <tr>\n",
       "      <td id=\"T_bdc12_row3_col0\" class=\"data row3 col0\" >3</td>\n",
       "      <td id=\"T_bdc12_row3_col1\" class=\"data row3 col1\" >346.323000</td>\n",
       "      <td id=\"T_bdc12_row3_col2\" class=\"data row3 col2\" >346.305000</td>\n",
       "    </tr>\n",
       "    <tr>\n",
       "      <td id=\"T_bdc12_row4_col0\" class=\"data row4 col0\" >4</td>\n",
       "      <td id=\"T_bdc12_row4_col1\" class=\"data row4 col1\" >298.830000</td>\n",
       "      <td id=\"T_bdc12_row4_col2\" class=\"data row4 col2\" >298.819000</td>\n",
       "    </tr>\n",
       "    <tr>\n",
       "      <td id=\"T_bdc12_row5_col0\" class=\"data row5 col0\" >5</td>\n",
       "      <td id=\"T_bdc12_row5_col1\" class=\"data row5 col1\" >313.993000</td>\n",
       "      <td id=\"T_bdc12_row5_col2\" class=\"data row5 col2\" >313.975000</td>\n",
       "    </tr>\n",
       "    <tr>\n",
       "      <td id=\"T_bdc12_row6_col0\" class=\"data row6 col0\" >6</td>\n",
       "      <td id=\"T_bdc12_row6_col1\" class=\"data row6 col1\" >413.678000</td>\n",
       "      <td id=\"T_bdc12_row6_col2\" class=\"data row6 col2\" >413.659000</td>\n",
       "    </tr>\n",
       "    <tr>\n",
       "      <td id=\"T_bdc12_row7_col0\" class=\"data row7 col0\" >7</td>\n",
       "      <td id=\"T_bdc12_row7_col1\" class=\"data row7 col1\" >286.413000</td>\n",
       "      <td id=\"T_bdc12_row7_col2\" class=\"data row7 col2\" >286.408000</td>\n",
       "    </tr>\n",
       "    <tr>\n",
       "      <td id=\"T_bdc12_row8_col0\" class=\"data row8 col0\" >8</td>\n",
       "      <td id=\"T_bdc12_row8_col1\" class=\"data row8 col1\" >391.320000</td>\n",
       "      <td id=\"T_bdc12_row8_col2\" class=\"data row8 col2\" >391.299000</td>\n",
       "    </tr>\n",
       "    <tr>\n",
       "      <td id=\"T_bdc12_row9_col0\" class=\"data row9 col0\" >9</td>\n",
       "      <td id=\"T_bdc12_row9_col1\" class=\"data row9 col1\" >353.257000</td>\n",
       "      <td id=\"T_bdc12_row9_col2\" class=\"data row9 col2\" >353.264000</td>\n",
       "    </tr>\n",
       "    <tr>\n",
       "      <td id=\"T_bdc12_row10_col0\" class=\"data row10 col0\" >10</td>\n",
       "      <td id=\"T_bdc12_row10_col1\" class=\"data row10 col1\" >340.867000</td>\n",
       "      <td id=\"T_bdc12_row10_col2\" class=\"data row10 col2\" >340.838000</td>\n",
       "    </tr>\n",
       "    <tr>\n",
       "      <td id=\"T_bdc12_row11_col0\" class=\"data row11 col0\" >11</td>\n",
       "      <td id=\"T_bdc12_row11_col1\" class=\"data row11 col1\" >387.785000</td>\n",
       "      <td id=\"T_bdc12_row11_col2\" class=\"data row11 col2\" >387.751000</td>\n",
       "    </tr>\n",
       "    <tr>\n",
       "      <td id=\"T_bdc12_row12_col0\" class=\"data row12 col0\" >12</td>\n",
       "      <td id=\"T_bdc12_row12_col1\" class=\"data row12 col1\" >311.338000</td>\n",
       "      <td id=\"T_bdc12_row12_col2\" class=\"data row12 col2\" >311.332000</td>\n",
       "    </tr>\n",
       "    <tr>\n",
       "      <td id=\"T_bdc12_row13_col0\" class=\"data row13 col0\" >13</td>\n",
       "      <td id=\"T_bdc12_row13_col1\" class=\"data row13 col1\" >332.746000</td>\n",
       "      <td id=\"T_bdc12_row13_col2\" class=\"data row13 col2\" >332.729000</td>\n",
       "    </tr>\n",
       "    <tr>\n",
       "      <td id=\"T_bdc12_row14_col0\" class=\"data row14 col0\" >14</td>\n",
       "      <td id=\"T_bdc12_row14_col1\" class=\"data row14 col1\" >334.692000</td>\n",
       "      <td id=\"T_bdc12_row14_col2\" class=\"data row14 col2\" >334.661000</td>\n",
       "    </tr>\n",
       "    <tr>\n",
       "      <td id=\"T_bdc12_row15_col0\" class=\"data row15 col0\" >15</td>\n",
       "      <td id=\"T_bdc12_row15_col1\" class=\"data row15 col1\" >409.744000</td>\n",
       "      <td id=\"T_bdc12_row15_col2\" class=\"data row15 col2\" >409.723000</td>\n",
       "    </tr>\n",
       "    <tr>\n",
       "      <td id=\"T_bdc12_row16_col0\" class=\"data row16 col0\" >16</td>\n",
       "      <td id=\"T_bdc12_row16_col1\" class=\"data row16 col1\" >394.676000</td>\n",
       "      <td id=\"T_bdc12_row16_col2\" class=\"data row16 col2\" >394.657000</td>\n",
       "    </tr>\n",
       "    <tr>\n",
       "      <td id=\"T_bdc12_row17_col0\" class=\"data row17 col0\" >17</td>\n",
       "      <td id=\"T_bdc12_row17_col1\" class=\"data row17 col1\" >427.032000</td>\n",
       "      <td id=\"T_bdc12_row17_col2\" class=\"data row17 col2\" >427.013000</td>\n",
       "    </tr>\n",
       "    <tr>\n",
       "      <td id=\"T_bdc12_row18_col0\" class=\"data row18 col0\" >18</td>\n",
       "      <td id=\"T_bdc12_row18_col1\" class=\"data row18 col1\" >339.771000</td>\n",
       "      <td id=\"T_bdc12_row18_col2\" class=\"data row18 col2\" >339.729000</td>\n",
       "    </tr>\n",
       "    <tr>\n",
       "      <td id=\"T_bdc12_row19_col0\" class=\"data row19 col0\" >19</td>\n",
       "      <td id=\"T_bdc12_row19_col1\" class=\"data row19 col1\" >359.076000</td>\n",
       "      <td id=\"T_bdc12_row19_col2\" class=\"data row19 col2\" >359.050000</td>\n",
       "    </tr>\n",
       "  </tbody>\n",
       "</table>\n"
      ],
      "text/plain": [
       "<pandas.io.formats.style.Styler at 0x7f38ebef8ee0>"
      ]
     },
     "execution_count": 8,
     "metadata": {},
     "output_type": "execute_result"
    }
   ],
   "source": [
    "summary.style.hide(axis=\"index\")"
   ]
  },
  {
   "cell_type": "code",
   "execution_count": null,
   "metadata": {},
   "outputs": [],
   "source": []
  }
 ],
 "metadata": {
  "category": "parametrization_evaluation",
  "cookbook_cache_branch": "_cookbook_data_PR14",
  "kernelspec": {
   "display_name": "Python 3 (ipykernel)",
   "language": "python",
   "name": "python3"
  },
  "language_info": {
   "codemirror_mode": {
    "name": "ipython",
    "version": 3
   },
   "file_extension": ".py",
   "mimetype": "text/x-python",
   "name": "python",
   "nbconvert_exporter": "python",
   "pygments_lexer": "ipython3",
   "version": "3.10.14"
  },
  "src_repo_tag": "v0.3.28",
  "vscode": {
   "interpreter": {
    "hash": "86c9b142c8dc60dd36d17e2a57efabbd2ed015b9d3db80dd77f3e0894d5aea85"
   }
  },
  "widgets": {
   "application/vnd.jupyter.widget-state+json": {
    "state": {
     "17d0610d6dd24fe0bbceb1735b152bd7": {
      "model_module": "nglview-js-widgets",
      "model_module_version": "3.0.8",
      "model_name": "ColormakerRegistryModel",
      "state": {
       "_dom_classes": [],
       "_model_module": "nglview-js-widgets",
       "_model_module_version": "3.0.8",
       "_model_name": "ColormakerRegistryModel",
       "_msg_ar": [],
       "_msg_q": [],
       "_ready": false,
       "_view_count": null,
       "_view_module": "nglview-js-widgets",
       "_view_module_version": "3.0.8",
       "_view_name": "ColormakerRegistryView",
       "layout": "IPY_MODEL_7db4854cdb9b449d957946bb217ee736",
       "tabbable": null,
       "tooltip": null
      }
     },
     "7db4854cdb9b449d957946bb217ee736": {
      "model_module": "@jupyter-widgets/base",
      "model_module_version": "2.0.0",
      "model_name": "LayoutModel",
      "state": {
       "_model_module": "@jupyter-widgets/base",
       "_model_module_version": "2.0.0",
       "_model_name": "LayoutModel",
       "_view_count": null,
       "_view_module": "@jupyter-widgets/base",
       "_view_module_version": "2.0.0",
       "_view_name": "LayoutView",
       "align_content": null,
       "align_items": null,
       "align_self": null,
       "border_bottom": null,
       "border_left": null,
       "border_right": null,
       "border_top": null,
       "bottom": null,
       "display": null,
       "flex": null,
       "flex_flow": null,
       "grid_area": null,
       "grid_auto_columns": null,
       "grid_auto_flow": null,
       "grid_auto_rows": null,
       "grid_column": null,
       "grid_gap": null,
       "grid_row": null,
       "grid_template_areas": null,
       "grid_template_columns": null,
       "grid_template_rows": null,
       "height": null,
       "justify_content": null,
       "justify_items": null,
       "left": null,
       "margin": null,
       "max_height": null,
       "max_width": null,
       "min_height": null,
       "min_width": null,
       "object_fit": null,
       "object_position": null,
       "order": null,
       "overflow": null,
       "padding": null,
       "right": null,
       "top": null,
       "visibility": null,
       "width": null
      }
     }
    },
    "version_major": 2,
    "version_minor": 0
   }
  }
 },
 "nbformat": 4,
 "nbformat_minor": 4
}
