{
 "cells": [
  {
   "cell_type": "markdown",
   "metadata": {},
   "source": [
    "# Compute conformer energies for a small molecule with Interchange"
   ]
  },
  {
   "cell_type": "markdown",
   "metadata": {},
   "source": [
    "This example generates conformers for a small molecule and then evaluates their energies in OpenMM and GROMACS. "
   ]
  },
  {
   "cell_type": "code",
   "execution_count": 1,
   "metadata": {
    "execution": {
     "iopub.execute_input": "2025-09-30T00:09:34.606591Z",
     "iopub.status.busy": "2025-09-30T00:09:34.606367Z",
     "iopub.status.idle": "2025-09-30T00:09:41.296111Z",
     "shell.execute_reply": "2025-09-30T00:09:41.294436Z"
    },
    "tags": []
   },
   "outputs": [],
   "source": [
    "import pandas as pd\n",
    "from openff.toolkit.topology import Molecule\n",
    "from openff.toolkit.typing.engines.smirnoff import ForceField\n",
    "from openff.units import unit\n",
    "\n",
    "from openff.interchange import Interchange\n",
    "from openff.interchange.drivers import get_gromacs_energies, get_openmm_energies"
   ]
  },
  {
   "cell_type": "markdown",
   "metadata": {},
   "source": [
    "Choose the molecule we want by specifying a SMILES:"
   ]
  },
  {
   "cell_type": "code",
   "execution_count": 2,
   "metadata": {
    "execution": {
     "iopub.execute_input": "2025-09-30T00:09:41.298742Z",
     "iopub.status.busy": "2025-09-30T00:09:41.298266Z",
     "iopub.status.idle": "2025-09-30T00:09:41.305058Z",
     "shell.execute_reply": "2025-09-30T00:09:41.304451Z"
    },
    "tags": []
   },
   "outputs": [],
   "source": [
    "SMILES = \"c1n(CCO)c(C(F)(F)(F))cc1CNCCl\""
   ]
  },
  {
   "cell_type": "markdown",
   "metadata": {},
   "source": [
    "Generate conformers with the OpenFF Toolkit. Note that these conformers are not energy-minimized with any force field, QM method, or other tool; their purpose is to generate diverse starting points for further study."
   ]
  },
  {
   "cell_type": "code",
   "execution_count": 3,
   "metadata": {
    "execution": {
     "iopub.execute_input": "2025-09-30T00:09:41.307264Z",
     "iopub.status.busy": "2025-09-30T00:09:41.307061Z",
     "iopub.status.idle": "2025-09-30T00:09:41.601296Z",
     "shell.execute_reply": "2025-09-30T00:09:41.600672Z"
    },
    "tags": []
   },
   "outputs": [],
   "source": [
    "molecule = Molecule.from_smiles(SMILES)\n",
    "(molecule.generate_conformers(n_conformers=20, rms_cutoff=0.1 * unit.angstrom),)\n",
    "topology = molecule.to_topology()"
   ]
  },
  {
   "cell_type": "markdown",
   "metadata": {},
   "source": [
    "Load the Sage 2.1.0 force field:"
   ]
  },
  {
   "cell_type": "code",
   "execution_count": 4,
   "metadata": {
    "execution": {
     "iopub.execute_input": "2025-09-30T00:09:41.603724Z",
     "iopub.status.busy": "2025-09-30T00:09:41.603497Z",
     "iopub.status.idle": "2025-09-30T00:09:41.917062Z",
     "shell.execute_reply": "2025-09-30T00:09:41.916452Z"
    },
    "tags": []
   },
   "outputs": [],
   "source": [
    "sage = ForceField(\"openff-2.0.0.offxml\")"
   ]
  },
  {
   "cell_type": "markdown",
   "metadata": {},
   "source": [
    "Apply the force field to the topology to generate an Interchange. This step might be slow as it needs to compute partial charges:"
   ]
  },
  {
   "cell_type": "code",
   "execution_count": 5,
   "metadata": {
    "execution": {
     "iopub.execute_input": "2025-09-30T00:09:41.919429Z",
     "iopub.status.busy": "2025-09-30T00:09:41.919224Z",
     "iopub.status.idle": "2025-09-30T00:10:06.503772Z",
     "shell.execute_reply": "2025-09-30T00:10:06.503125Z"
    },
    "tags": []
   },
   "outputs": [],
   "source": [
    "interchange = Interchange.from_smirnoff(force_field=sage, topology=topology)"
   ]
  },
  {
   "cell_type": "markdown",
   "metadata": {},
   "source": [
    "Modern versions of GROMACS do not support open boundary conditions, so we'll choose a huge box to mimic the gas phase for the single-point energy calculation:"
   ]
  },
  {
   "cell_type": "code",
   "execution_count": 6,
   "metadata": {
    "execution": {
     "iopub.execute_input": "2025-09-30T00:10:06.506740Z",
     "iopub.status.busy": "2025-09-30T00:10:06.506476Z",
     "iopub.status.idle": "2025-09-30T00:10:06.510942Z",
     "shell.execute_reply": "2025-09-30T00:10:06.510303Z"
    },
    "tags": []
   },
   "outputs": [],
   "source": [
    "interchange.box = unit.Quantity([4, 4, 4], unit.nanometer)"
   ]
  },
  {
   "cell_type": "markdown",
   "metadata": {},
   "source": [
    "Now we go over each conformer, set the Interchange's positions, perform the point energy calculation and record the results in a dataframe:"
   ]
  },
  {
   "cell_type": "code",
   "execution_count": 7,
   "metadata": {
    "execution": {
     "iopub.execute_input": "2025-09-30T00:10:06.513893Z",
     "iopub.status.busy": "2025-09-30T00:10:06.513080Z",
     "iopub.status.idle": "2025-09-30T00:10:16.457254Z",
     "shell.execute_reply": "2025-09-30T00:10:16.456695Z"
    },
    "tags": []
   },
   "outputs": [],
   "source": [
    "summary = pd.DataFrame()\n",
    "\n",
    "kj_mol = unit.kilojoule / unit.mol\n",
    "\n",
    "for idx, conformer in enumerate(molecule.conformers):\n",
    "    interchange.positions = conformer\n",
    "\n",
    "    openmm_energies = get_openmm_energies(interchange).total_energy.m_as(kj_mol)\n",
    "    gromacs_energies = get_gromacs_energies(interchange).total_energy.m_as(kj_mol)\n",
    "\n",
    "    summary = pd.concat(\n",
    "        [\n",
    "            summary,\n",
    "            pd.DataFrame.from_dict(\n",
    "                {\n",
    "                    \"Conformer No.\": [idx],\n",
    "                    \"Interchange -> OpenMM (kJ/mol)\": [round(openmm_energies, 3)],\n",
    "                    \"Interchange -> GROMACS\": [round(gromacs_energies, 3)],\n",
    "                }\n",
    "            ),\n",
    "        ]\n",
    "    )"
   ]
  },
  {
   "cell_type": "markdown",
   "metadata": {},
   "source": [
    "Finally, we can look at the results as stored in the dataframe:"
   ]
  },
  {
   "cell_type": "code",
   "execution_count": 8,
   "metadata": {
    "execution": {
     "iopub.execute_input": "2025-09-30T00:10:16.463810Z",
     "iopub.status.busy": "2025-09-30T00:10:16.462043Z",
     "iopub.status.idle": "2025-09-30T00:10:16.546088Z",
     "shell.execute_reply": "2025-09-30T00:10:16.545423Z"
    },
    "tags": []
   },
   "outputs": [
    {
     "data": {
      "text/html": [
       "<style type=\"text/css\">\n",
       "</style>\n",
       "<table id=\"T_5777b\">\n",
       "  <thead>\n",
       "    <tr>\n",
       "      <th id=\"T_5777b_level0_col0\" class=\"col_heading level0 col0\" >Conformer No.</th>\n",
       "      <th id=\"T_5777b_level0_col1\" class=\"col_heading level0 col1\" >Interchange -> OpenMM (kJ/mol)</th>\n",
       "      <th id=\"T_5777b_level0_col2\" class=\"col_heading level0 col2\" >Interchange -> GROMACS</th>\n",
       "    </tr>\n",
       "  </thead>\n",
       "  <tbody>\n",
       "    <tr>\n",
       "      <td id=\"T_5777b_row0_col0\" class=\"data row0 col0\" >0</td>\n",
       "      <td id=\"T_5777b_row0_col1\" class=\"data row0 col1\" >284.781000</td>\n",
       "      <td id=\"T_5777b_row0_col2\" class=\"data row0 col2\" >284.767000</td>\n",
       "    </tr>\n",
       "    <tr>\n",
       "      <td id=\"T_5777b_row1_col0\" class=\"data row1 col0\" >1</td>\n",
       "      <td id=\"T_5777b_row1_col1\" class=\"data row1 col1\" >268.268000</td>\n",
       "      <td id=\"T_5777b_row1_col2\" class=\"data row1 col2\" >268.243000</td>\n",
       "    </tr>\n",
       "    <tr>\n",
       "      <td id=\"T_5777b_row2_col0\" class=\"data row2 col0\" >2</td>\n",
       "      <td id=\"T_5777b_row2_col1\" class=\"data row2 col1\" >288.840000</td>\n",
       "      <td id=\"T_5777b_row2_col2\" class=\"data row2 col2\" >288.838000</td>\n",
       "    </tr>\n",
       "    <tr>\n",
       "      <td id=\"T_5777b_row3_col0\" class=\"data row3 col0\" >3</td>\n",
       "      <td id=\"T_5777b_row3_col1\" class=\"data row3 col1\" >323.597000</td>\n",
       "      <td id=\"T_5777b_row3_col2\" class=\"data row3 col2\" >323.590000</td>\n",
       "    </tr>\n",
       "    <tr>\n",
       "      <td id=\"T_5777b_row4_col0\" class=\"data row4 col0\" >4</td>\n",
       "      <td id=\"T_5777b_row4_col1\" class=\"data row4 col1\" >303.745000</td>\n",
       "      <td id=\"T_5777b_row4_col2\" class=\"data row4 col2\" >303.736000</td>\n",
       "    </tr>\n",
       "    <tr>\n",
       "      <td id=\"T_5777b_row5_col0\" class=\"data row5 col0\" >5</td>\n",
       "      <td id=\"T_5777b_row5_col1\" class=\"data row5 col1\" >310.541000</td>\n",
       "      <td id=\"T_5777b_row5_col2\" class=\"data row5 col2\" >310.521000</td>\n",
       "    </tr>\n",
       "    <tr>\n",
       "      <td id=\"T_5777b_row6_col0\" class=\"data row6 col0\" >6</td>\n",
       "      <td id=\"T_5777b_row6_col1\" class=\"data row6 col1\" >311.973000</td>\n",
       "      <td id=\"T_5777b_row6_col2\" class=\"data row6 col2\" >311.943000</td>\n",
       "    </tr>\n",
       "    <tr>\n",
       "      <td id=\"T_5777b_row7_col0\" class=\"data row7 col0\" >7</td>\n",
       "      <td id=\"T_5777b_row7_col1\" class=\"data row7 col1\" >291.782000</td>\n",
       "      <td id=\"T_5777b_row7_col2\" class=\"data row7 col2\" >291.761000</td>\n",
       "    </tr>\n",
       "    <tr>\n",
       "      <td id=\"T_5777b_row8_col0\" class=\"data row8 col0\" >8</td>\n",
       "      <td id=\"T_5777b_row8_col1\" class=\"data row8 col1\" >298.616000</td>\n",
       "      <td id=\"T_5777b_row8_col2\" class=\"data row8 col2\" >298.588000</td>\n",
       "    </tr>\n",
       "    <tr>\n",
       "      <td id=\"T_5777b_row9_col0\" class=\"data row9 col0\" >9</td>\n",
       "      <td id=\"T_5777b_row9_col1\" class=\"data row9 col1\" >301.894000</td>\n",
       "      <td id=\"T_5777b_row9_col2\" class=\"data row9 col2\" >301.869000</td>\n",
       "    </tr>\n",
       "    <tr>\n",
       "      <td id=\"T_5777b_row10_col0\" class=\"data row10 col0\" >10</td>\n",
       "      <td id=\"T_5777b_row10_col1\" class=\"data row10 col1\" >328.402000</td>\n",
       "      <td id=\"T_5777b_row10_col2\" class=\"data row10 col2\" >328.387000</td>\n",
       "    </tr>\n",
       "    <tr>\n",
       "      <td id=\"T_5777b_row11_col0\" class=\"data row11 col0\" >11</td>\n",
       "      <td id=\"T_5777b_row11_col1\" class=\"data row11 col1\" >306.161000</td>\n",
       "      <td id=\"T_5777b_row11_col2\" class=\"data row11 col2\" >306.146000</td>\n",
       "    </tr>\n",
       "    <tr>\n",
       "      <td id=\"T_5777b_row12_col0\" class=\"data row12 col0\" >12</td>\n",
       "      <td id=\"T_5777b_row12_col1\" class=\"data row12 col1\" >291.642000</td>\n",
       "      <td id=\"T_5777b_row12_col2\" class=\"data row12 col2\" >291.600000</td>\n",
       "    </tr>\n",
       "    <tr>\n",
       "      <td id=\"T_5777b_row13_col0\" class=\"data row13 col0\" >13</td>\n",
       "      <td id=\"T_5777b_row13_col1\" class=\"data row13 col1\" >296.292000</td>\n",
       "      <td id=\"T_5777b_row13_col2\" class=\"data row13 col2\" >296.258000</td>\n",
       "    </tr>\n",
       "    <tr>\n",
       "      <td id=\"T_5777b_row14_col0\" class=\"data row14 col0\" >14</td>\n",
       "      <td id=\"T_5777b_row14_col1\" class=\"data row14 col1\" >324.311000</td>\n",
       "      <td id=\"T_5777b_row14_col2\" class=\"data row14 col2\" >324.291000</td>\n",
       "    </tr>\n",
       "    <tr>\n",
       "      <td id=\"T_5777b_row15_col0\" class=\"data row15 col0\" >15</td>\n",
       "      <td id=\"T_5777b_row15_col1\" class=\"data row15 col1\" >307.564000</td>\n",
       "      <td id=\"T_5777b_row15_col2\" class=\"data row15 col2\" >307.563000</td>\n",
       "    </tr>\n",
       "    <tr>\n",
       "      <td id=\"T_5777b_row16_col0\" class=\"data row16 col0\" >16</td>\n",
       "      <td id=\"T_5777b_row16_col1\" class=\"data row16 col1\" >302.106000</td>\n",
       "      <td id=\"T_5777b_row16_col2\" class=\"data row16 col2\" >302.095000</td>\n",
       "    </tr>\n",
       "    <tr>\n",
       "      <td id=\"T_5777b_row17_col0\" class=\"data row17 col0\" >17</td>\n",
       "      <td id=\"T_5777b_row17_col1\" class=\"data row17 col1\" >309.095000</td>\n",
       "      <td id=\"T_5777b_row17_col2\" class=\"data row17 col2\" >309.088000</td>\n",
       "    </tr>\n",
       "    <tr>\n",
       "      <td id=\"T_5777b_row18_col0\" class=\"data row18 col0\" >18</td>\n",
       "      <td id=\"T_5777b_row18_col1\" class=\"data row18 col1\" >335.689000</td>\n",
       "      <td id=\"T_5777b_row18_col2\" class=\"data row18 col2\" >335.666000</td>\n",
       "    </tr>\n",
       "  </tbody>\n",
       "</table>\n"
      ],
      "text/plain": [
       "<pandas.io.formats.style.Styler at 0x7fdbb35b3f50>"
      ]
     },
     "execution_count": 8,
     "metadata": {},
     "output_type": "execute_result"
    }
   ],
   "source": [
    "summary.style.hide(axis=\"index\")"
   ]
  },
  {
   "cell_type": "code",
   "execution_count": null,
   "metadata": {},
   "outputs": [],
   "source": []
  }
 ],
 "metadata": {
  "category": "parametrization_evaluation",
  "cookbook_cache_branch": "_cookbook_data_main",
  "kernelspec": {
   "display_name": "Python 3 (ipykernel)",
   "language": "python",
   "name": "python3"
  },
  "language_info": {
   "codemirror_mode": {
    "name": "ipython",
    "version": 3
   },
   "file_extension": ".py",
   "mimetype": "text/x-python",
   "name": "python",
   "nbconvert_exporter": "python",
   "pygments_lexer": "ipython3",
   "version": "3.11.13"
  },
  "src_repo_tag": "v0.4.7",
  "vscode": {
   "interpreter": {
    "hash": "86c9b142c8dc60dd36d17e2a57efabbd2ed015b9d3db80dd77f3e0894d5aea85"
   }
  }
 },
 "nbformat": 4,
 "nbformat_minor": 4
}
