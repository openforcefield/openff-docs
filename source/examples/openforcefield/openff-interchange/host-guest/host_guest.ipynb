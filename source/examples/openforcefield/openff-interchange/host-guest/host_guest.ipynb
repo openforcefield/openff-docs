{
 "cells": [
  {
   "cell_type": "markdown",
   "id": "0",
   "metadata": {
    "tags": []
   },
   "source": [
    "### Host-guest systems\n",
    "\n",
    "This is a refresh of [a notebook](https://github.com/openforcefield/openff-toolkit/blob/master/examples/deprecated/host_guest_simulation/smirnoff_host_guest.ipynb) written by David Mobley with the following modifications:\n",
    "* A pre-docked guest is used `docked_guest.mol2` was saved and converted to `guest.sdf`)\n",
    "* Mol2 files converted to SDF (`OA.mol2` was converted to `host.sdf`)\n",
    "\n",
    "In this notebook, a prepared host-guest complex is loaded "
   ]
  },
  {
   "cell_type": "code",
   "execution_count": 1,
   "id": "1",
   "metadata": {
    "execution": {
     "iopub.execute_input": "2024-04-30T21:59:34.869923Z",
     "iopub.status.busy": "2024-04-30T21:59:34.869676Z",
     "iopub.status.idle": "2024-04-30T21:59:35.762583Z",
     "shell.execute_reply": "2024-04-30T21:59:35.761131Z"
    }
   },
   "outputs": [],
   "source": [
    "from openff.toolkit import ForceField, Molecule, Topology"
   ]
  },
  {
   "cell_type": "markdown",
   "id": "2",
   "metadata": {},
   "source": [
    "Just like [any other molecule](https://docs.openforcefield.org/projects/toolkit/en/stable/users/molecule_cookbook.html), we begin by loading representations (in this case, files on disk) into `Molecule` objects."
   ]
  },
  {
   "cell_type": "code",
   "execution_count": 2,
   "id": "3",
   "metadata": {
    "execution": {
     "iopub.execute_input": "2024-04-30T21:59:35.768105Z",
     "iopub.status.busy": "2024-04-30T21:59:35.766675Z",
     "iopub.status.idle": "2024-04-30T21:59:35.842714Z",
     "shell.execute_reply": "2024-04-30T21:59:35.841674Z"
    }
   },
   "outputs": [],
   "source": [
    "guest = Molecule.from_file(\"guest.sdf\")\n",
    "host = Molecule.from_file(\"host.sdf\")"
   ]
  },
  {
   "cell_type": "markdown",
   "id": "4",
   "metadata": {},
   "source": [
    "Again, like many other workflows, we \"combine\" multiple `Molecule`s into a single `Topology` object. We can also visualize the result to ensure the guest looks reasonably docked into the host. (Use your cursor to move the complex around.)"
   ]
  },
  {
   "cell_type": "code",
   "execution_count": 3,
   "id": "5",
   "metadata": {
    "execution": {
     "iopub.execute_input": "2024-04-30T21:59:35.847763Z",
     "iopub.status.busy": "2024-04-30T21:59:35.846587Z",
     "iopub.status.idle": "2024-04-30T21:59:36.040719Z",
     "shell.execute_reply": "2024-04-30T21:59:36.039996Z"
    }
   },
   "outputs": [
    {
     "data": {
      "application/vnd.jupyter.widget-view+json": {
       "model_id": "023740434a854fdb85578b262946d70c",
       "version_major": 2,
       "version_minor": 0
      },
      "text/plain": []
     },
     "metadata": {},
     "output_type": "display_data"
    },
    {
     "data": {
      "application/vnd.jupyter.widget-view+json": {
       "model_id": "3582b00d314749659ea0665cf4b13d83",
       "version_major": 2,
       "version_minor": 0
      },
      "text/plain": [
       "NGLWidget()"
      ]
     },
     "metadata": {},
     "output_type": "display_data"
    }
   ],
   "source": [
    "docked_topology = Topology.from_molecules([guest, host])\n",
    "docked_topology.visualize()"
   ]
  },
  {
   "cell_type": "markdown",
   "id": "6",
   "metadata": {},
   "source": [
    "We can safely use Sage or a similar small molecule force field to parameterize the guest. But the host is large (128 heavy atoms, 184 atoms total) and charge assignment using AM1-BCC may take tens of minutes to hours. We can instead use [OpenFF NAGL](https://github.com/openforcefield/openff-nagl), which uses a graph-convolutional neural network (GCNN or GNN) to mimic AM1-BCC partial charges (specifically the ELF10 variant). Not counting the time it takes to import the Python module and load the model, charge assignment for the host should take on the order of hundreds of milliseconds. (Larger polymers may take slightly longer but the scaling is sub-linear with number of atoms!)\n",
    "\n",
    "For more on GCNNs, see [Espaloma](https://github.com/choderalab/espaloma) and its associated paper."
   ]
  },
  {
   "cell_type": "code",
   "execution_count": 4,
   "id": "7",
   "metadata": {
    "execution": {
     "iopub.execute_input": "2024-04-30T21:59:36.045231Z",
     "iopub.status.busy": "2024-04-30T21:59:36.043734Z",
     "iopub.status.idle": "2024-04-30T21:59:40.406964Z",
     "shell.execute_reply": "2024-04-30T21:59:40.406315Z"
    }
   },
   "outputs": [
    {
     "name": "stderr",
     "output_type": "stream",
     "text": [
      "DGL backend not selected or invalid.  Assuming PyTorch for now.\n"
     ]
    },
    {
     "name": "stdout",
     "output_type": "stream",
     "text": [
      "Setting the default backend to \"pytorch\". You can change it in the ~/.dgl/config.json file or export the DGLBACKEND environment variable.  Valid options are: pytorch, mxnet, tensorflow (all lowercase)\n"
     ]
    },
    {
     "name": "stderr",
     "output_type": "stream",
     "text": [
      "/home/runner/micromamba/envs/openff-docs-examples/lib/python3.10/site-packages/pandas/core/computation/expressions.py:21: UserWarning: Pandas requires version '2.8.4' or newer of 'numexpr' (version '2.7.3' currently installed).\n",
      "  from pandas.core.computation.check import NUMEXPR_INSTALLED\n"
     ]
    },
    {
     "data": {
      "text/html": [
       "<table><tbody><tr><th>Magnitude</th><td style='text-align:left;'><pre>[-0.093 0.013 -0.113 0.013 -0.283 -0.093 -0.441 0.047 0.225 -0.441 0.013<br> -0.093 -0.113 -0.283 -0.093 0.013 -0.441 0.047 -0.093 0.013 0.225 -0.441<br> -0.441 0.047 -0.093 -0.441 0.013 -0.283 0.013 -0.283 0.013 -0.441 -0.441<br> 0.225 -0.113 -0.093 -0.113 0.047 -0.093 0.225 -0.179 -0.12 0.098 -0.474<br> -0.179 -0.12 0.098 -0.474 -0.179 -0.12 0.098 -0.474 -0.179 -0.12 0.098<br> -0.474 -0.171 -0.316 -0.278 -0.278 0.095 0.095 -0.171 -0.316 -0.278<br> -0.278 0.095 0.095 -0.171 -0.316 -0.278 -0.278 0.095 0.095 -0.171 -0.316<br> -0.278 -0.278 0.095 0.095 -0.259 -0.259 -0.259 -0.259 -0.259 -0.259<br> -0.259 -0.073 -0.183 -0.168 -0.183 -0.207 -0.073 -0.259 -0.073 -0.183<br> -0.183 -0.168 -0.073 -0.207 -0.073 -0.183 -0.183 -0.168 -0.073 -0.207<br> 0.285 -0.635 0.285 -0.635 0.285 -0.635 -0.474 -0.474 -0.474 0.285 -0.635<br> -0.635 -0.635 -0.635 -0.635 -0.474 -0.073 -0.183 -0.168 -0.183 -0.207<br> -0.073 0.023 0.057 0.047 -0.047 0.023 0.057 0.047 -0.047 0.047 0.057<br> 0.057 -0.047 0.023 0.023 0.047 -0.047 -0.213 -0.213 -0.071 -0.071 -0.213<br> -0.213 -0.071 -0.071 -0.213 -0.213 -0.071 -0.071 -0.213 -0.213 -0.071<br> -0.071 0.058 0.046 0.046 0.058 0.046 0.046 0.058 0.046 0.046 0.058 0.046<br> 0.046 -0.049 -0.008 -0.049 -0.049 -0.049 -0.008 -0.049 -0.049 -0.008<br> -0.049 -0.008 -0.049]</pre></td></tr><tr><th>Units</th><td style='text-align:left;'>elementary_charge</td></tr></tbody></table>"
      ],
      "text/latex": [
       "$\\begin{pmatrix} &  &  &  &  &  &  &  &  &  &  &  &  &  &  &  &  &  &  &  &  &  &  &  &  &  &  &  &  &  &  &  &  &  &  &  &  &  &  &  &  &  &  &  &  &  &  &  &  &  &  &  &  &  &  &  &  &  &  &  &  &  &  &  &  &  &  &  &  &  &  &  &  &  &  &  &  &  &  &  &  &  &  &  &  &  &  &  &  &  &  &  &  &  &  &  &  &  &  &  &  &  &  &  &  &  &  &  &  &  &  &  &  &  &  &  &  &  &  &  &  &  &  &  &  &  &  &  &  &  &  &  &  &  &  &  &  &  &  &  &  &  &  &  &  &  &  &  &  &  &  &  &  &  &  &  &  &  &  &  &  &  &  &  &  &  &  &  &  &  &  &  &  &  &  &  &  &  &  &  &  &  &  & \\end{pmatrix}\\ \\mathrm{elementary\\_charge}$"
      ],
      "text/plain": [
       "array([-0.093,  0.013, -0.113,  0.013, -0.283, -0.093, -0.441,  0.047,\n",
       "        0.225, -0.441,  0.013, -0.093, -0.113, -0.283, -0.093,  0.013,\n",
       "       -0.441,  0.047, -0.093,  0.013,  0.225, -0.441, -0.441,  0.047,\n",
       "       -0.093, -0.441,  0.013, -0.283,  0.013, -0.283,  0.013, -0.441,\n",
       "       -0.441,  0.225, -0.113, -0.093, -0.113,  0.047, -0.093,  0.225,\n",
       "       -0.179, -0.12 ,  0.098, -0.474, -0.179, -0.12 ,  0.098, -0.474,\n",
       "       -0.179, -0.12 ,  0.098, -0.474, -0.179, -0.12 ,  0.098, -0.474,\n",
       "       -0.171, -0.316, -0.278, -0.278,  0.095,  0.095, -0.171, -0.316,\n",
       "       -0.278, -0.278,  0.095,  0.095, -0.171, -0.316, -0.278, -0.278,\n",
       "        0.095,  0.095, -0.171, -0.316, -0.278, -0.278,  0.095,  0.095,\n",
       "       -0.259, -0.259, -0.259, -0.259, -0.259, -0.259, -0.259, -0.073,\n",
       "       -0.183, -0.168, -0.183, -0.207, -0.073, -0.259, -0.073, -0.183,\n",
       "       -0.183, -0.168, -0.073, -0.207, -0.073, -0.183, -0.183, -0.168,\n",
       "       -0.073, -0.207,  0.285, -0.635,  0.285, -0.635,  0.285, -0.635,\n",
       "       -0.474, -0.474, -0.474,  0.285, -0.635, -0.635, -0.635, -0.635,\n",
       "       -0.635, -0.474, -0.073, -0.183, -0.168, -0.183, -0.207, -0.073,\n",
       "        0.023,  0.057,  0.047, -0.047,  0.023,  0.057,  0.047, -0.047,\n",
       "        0.047,  0.057,  0.057, -0.047,  0.023,  0.023,  0.047, -0.047,\n",
       "       -0.213, -0.213, -0.071, -0.071, -0.213, -0.213, -0.071, -0.071,\n",
       "       -0.213, -0.213, -0.071, -0.071, -0.213, -0.213, -0.071, -0.071,\n",
       "        0.058,  0.046,  0.046,  0.058,  0.046,  0.046,  0.058,  0.046,\n",
       "        0.046,  0.058,  0.046,  0.046, -0.049, -0.008, -0.049, -0.049,\n",
       "       -0.049, -0.008, -0.049, -0.049, -0.008, -0.049, -0.008, -0.049]) <Unit('elementary_charge')>"
      ]
     },
     "execution_count": 4,
     "metadata": {},
     "output_type": "execute_result"
    }
   ],
   "source": [
    "from openff.toolkit.utils.nagl_wrapper import NAGLToolkitWrapper\n",
    "\n",
    "NAGLToolkitWrapper().assign_partial_charges(\n",
    "    molecule=host,\n",
    "    partial_charge_method=\"openff-gnn-am1bcc-0.1.0-rc.1.pt\",\n",
    ")\n",
    "\n",
    "host.partial_charges.round(3)"
   ]
  },
  {
   "cell_type": "markdown",
   "id": "8",
   "metadata": {},
   "source": [
    "Now that we have partial charges for the host, we can wire it through parameterization using the `charge_from_molecules` argument. Interchange will recognize these charges and not attempt running AM1-BCC for the host, though it will use to assign charges to the guest molecule."
   ]
  },
  {
   "cell_type": "code",
   "execution_count": 5,
   "id": "9",
   "metadata": {
    "execution": {
     "iopub.execute_input": "2024-04-30T21:59:40.411236Z",
     "iopub.status.busy": "2024-04-30T21:59:40.410009Z",
     "iopub.status.idle": "2024-04-30T21:59:50.354103Z",
     "shell.execute_reply": "2024-04-30T21:59:50.353435Z"
    }
   },
   "outputs": [],
   "source": [
    "sage = ForceField(\"openff-2.1.0.offxml\")\n",
    "\n",
    "out = sage.create_interchange(topology=docked_topology, charge_from_molecules=[host])"
   ]
  },
  {
   "cell_type": "markdown",
   "id": "10",
   "metadata": {},
   "source": [
    "Now that the `Interchange` object is created, you can run simulations in [a number of engines](https://docs.openforcefield.org/projects/interchange/en/stable/using/output.html). Here we'll run a quick energy minimization and then a thirty-second OpenMM simulation. The result is a trajectory, viewable with NGLview, that shows a few tens or hundreds of frames of this host-guest complex dancing around in vacuo.\n",
    "\n",
    "None of this workflow required OpenMM until now - you can swap these steps out for analogous operations in GROMACS, Amber, or LAMMPS!"
   ]
  },
  {
   "cell_type": "code",
   "execution_count": 6,
   "id": "11",
   "metadata": {
    "execution": {
     "iopub.execute_input": "2024-04-30T21:59:50.357513Z",
     "iopub.status.busy": "2024-04-30T21:59:50.357039Z",
     "iopub.status.idle": "2024-04-30T21:59:50.851211Z",
     "shell.execute_reply": "2024-04-30T21:59:50.850533Z"
    }
   },
   "outputs": [],
   "source": [
    "import openmm\n",
    "import openmm.app\n",
    "import openmm.unit\n",
    "\n",
    "simulation = out.to_openmm_simulation(\n",
    "    openmm.LangevinMiddleIntegrator(\n",
    "        300.0 * openmm.unit.kelvin,\n",
    "        1.0 / openmm.unit.picosecond,\n",
    "        2.0 * openmm.unit.femtosecond,\n",
    "    )\n",
    ")\n",
    "\n",
    "simulation.minimizeEnergy()\n",
    "\n",
    "dcd_reporter = openmm.app.DCDReporter(\"trajectory.dcd\", 1000)\n",
    "simulation.reporters.append(dcd_reporter)\n",
    "\n",
    "simulation.context.setVelocitiesToTemperature(300.0 * openmm.unit.kelvin)"
   ]
  },
  {
   "cell_type": "code",
   "execution_count": 7,
   "id": "12",
   "metadata": {
    "execution": {
     "iopub.execute_input": "2024-04-30T21:59:50.854936Z",
     "iopub.status.busy": "2024-04-30T21:59:50.854617Z",
     "iopub.status.idle": "2024-04-30T22:00:20.860197Z",
     "shell.execute_reply": "2024-04-30T22:00:20.859556Z"
    }
   },
   "outputs": [],
   "source": [
    "simulation.runForClockTime(0.5 * openmm.unit.minute)"
   ]
  },
  {
   "cell_type": "code",
   "execution_count": 8,
   "id": "13",
   "metadata": {
    "execution": {
     "iopub.execute_input": "2024-04-30T22:00:20.863640Z",
     "iopub.status.busy": "2024-04-30T22:00:20.863369Z",
     "iopub.status.idle": "2024-04-30T22:00:20.988283Z",
     "shell.execute_reply": "2024-04-30T22:00:20.987705Z"
    }
   },
   "outputs": [
    {
     "data": {
      "application/vnd.jupyter.widget-view+json": {
       "model_id": "eefa4f4246d94e0aa78013952d0dd244",
       "version_major": 2,
       "version_minor": 0
      },
      "text/plain": [
       "NGLWidget(max_frame=69)"
      ]
     },
     "metadata": {},
     "output_type": "display_data"
    }
   ],
   "source": [
    "import mdtraj\n",
    "import nglview\n",
    "\n",
    "nglview.show_mdtraj(\n",
    "    mdtraj.load(\n",
    "        \"trajectory.dcd\",\n",
    "        top=mdtraj.Topology.from_openmm(\n",
    "            out.to_openmm_topology(),\n",
    "        ),\n",
    "    )\n",
    ")"
   ]
  }
 ],
 "metadata": {
  "cookbook_cache_branch": "_cookbook_data_PR54",
  "kernelspec": {
   "display_name": "Python 3 (ipykernel)",
   "language": "python",
   "name": "python3"
  },
  "language_info": {
   "codemirror_mode": {
    "name": "ipython",
    "version": 3
   },
   "file_extension": ".py",
   "mimetype": "text/x-python",
   "name": "python",
   "nbconvert_exporter": "python",
   "pygments_lexer": "ipython3",
   "version": "3.10.14"
  },
  "src_repo_tag": "v0.3.26",
  "widgets": {
   "application/vnd.jupyter.widget-state+json": {
    "state": {
     "023740434a854fdb85578b262946d70c": {
      "model_module": "nglview-js-widgets",
      "model_module_version": "3.0.8",
      "model_name": "ColormakerRegistryModel",
      "state": {
       "_dom_classes": [],
       "_model_module": "nglview-js-widgets",
       "_model_module_version": "3.0.8",
       "_model_name": "ColormakerRegistryModel",
       "_msg_ar": [],
       "_msg_q": [],
       "_ready": false,
       "_view_count": null,
       "_view_module": "nglview-js-widgets",
       "_view_module_version": "3.0.8",
       "_view_name": "ColormakerRegistryView",
       "layout": "IPY_MODEL_4ba22c184519477397d52ecb206999b1",
       "tabbable": null,
       "tooltip": null
      }
     },
     "0cc1cbac88b94360a21ea220948ec0c7": {
      "model_module": "@jupyter-widgets/controls",
      "model_module_version": "2.0.0",
      "model_name": "SliderStyleModel",
      "state": {
       "_model_module": "@jupyter-widgets/controls",
       "_model_module_version": "2.0.0",
       "_model_name": "SliderStyleModel",
       "_view_count": null,
       "_view_module": "@jupyter-widgets/base",
       "_view_module_version": "2.0.0",
       "_view_name": "StyleView",
       "description_width": "",
       "handle_color": null
      }
     },
     "134e05c7617545baa3aa5f1af064e9b1": {
      "model_module": "@jupyter-widgets/controls",
      "model_module_version": "2.0.0",
      "model_name": "ButtonModel",
      "state": {
       "_dom_classes": [],
       "_model_module": "@jupyter-widgets/controls",
       "_model_module_version": "2.0.0",
       "_model_name": "ButtonModel",
       "_view_count": null,
       "_view_module": "@jupyter-widgets/controls",
       "_view_module_version": "2.0.0",
       "_view_name": "ButtonView",
       "button_style": "",
       "description": "",
       "disabled": false,
       "icon": "compress",
       "layout": "IPY_MODEL_37bfea50c0d34c2ca1a3a329764c069b",
       "style": "IPY_MODEL_6bac9ac6951849558528c40713cf0610",
       "tabbable": null,
       "tooltip": null
      }
     },
     "1a056e49c6c243f2bdb782d5eb11e754": {
      "model_module": "@jupyter-widgets/controls",
      "model_module_version": "2.0.0",
      "model_name": "ButtonStyleModel",
      "state": {
       "_model_module": "@jupyter-widgets/controls",
       "_model_module_version": "2.0.0",
       "_model_name": "ButtonStyleModel",
       "_view_count": null,
       "_view_module": "@jupyter-widgets/base",
       "_view_module_version": "2.0.0",
       "_view_name": "StyleView",
       "button_color": null,
       "font_family": null,
       "font_size": null,
       "font_style": null,
       "font_variant": null,
       "font_weight": null,
       "text_color": null,
       "text_decoration": null
      }
     },
     "251f096acc314c6881e51928eb995bae": {
      "model_module": "@jupyter-widgets/base",
      "model_module_version": "2.0.0",
      "model_name": "LayoutModel",
      "state": {
       "_model_module": "@jupyter-widgets/base",
       "_model_module_version": "2.0.0",
       "_model_name": "LayoutModel",
       "_view_count": null,
       "_view_module": "@jupyter-widgets/base",
       "_view_module_version": "2.0.0",
       "_view_name": "LayoutView",
       "align_content": null,
       "align_items": null,
       "align_self": null,
       "border_bottom": null,
       "border_left": null,
       "border_right": null,
       "border_top": null,
       "bottom": null,
       "display": null,
       "flex": null,
       "flex_flow": null,
       "grid_area": null,
       "grid_auto_columns": null,
       "grid_auto_flow": null,
       "grid_auto_rows": null,
       "grid_column": null,
       "grid_gap": null,
       "grid_row": null,
       "grid_template_areas": null,
       "grid_template_columns": null,
       "grid_template_rows": null,
       "height": null,
       "justify_content": null,
       "justify_items": null,
       "left": null,
       "margin": null,
       "max_height": null,
       "max_width": null,
       "min_height": null,
       "min_width": null,
       "object_fit": null,
       "object_position": null,
       "order": null,
       "overflow": null,
       "padding": null,
       "right": null,
       "top": null,
       "visibility": null,
       "width": null
      }
     },
     "2960b831c81242eda9a8b292365ce0e3": {
      "model_module": "@jupyter-widgets/controls",
      "model_module_version": "2.0.0",
      "model_name": "LinkModel",
      "state": {
       "_model_module": "@jupyter-widgets/controls",
       "_model_module_version": "2.0.0",
       "_model_name": "LinkModel",
       "_view_count": null,
       "_view_module": "@jupyter-widgets/controls",
       "_view_module_version": "2.0.0",
       "_view_name": null,
       "source": [
        "IPY_MODEL_79b08167dca14c75821acff9cd19620c",
        "max"
       ],
       "target": [
        "IPY_MODEL_3582b00d314749659ea0665cf4b13d83",
        "max_frame"
       ]
      }
     },
     "3582b00d314749659ea0665cf4b13d83": {
      "model_module": "nglview-js-widgets",
      "model_module_version": "3.0.8",
      "model_name": "NGLModel",
      "state": {
       "_camera_orientation": [],
       "_camera_str": "orthographic",
       "_dom_classes": [],
       "_gui_theme": null,
       "_ibtn_fullscreen": "IPY_MODEL_134e05c7617545baa3aa5f1af064e9b1",
       "_igui": null,
       "_iplayer": "IPY_MODEL_376a8b58a6674e48b7de9e23e4ca4407",
       "_model_module": "nglview-js-widgets",
       "_model_module_version": "3.0.8",
       "_model_name": "NGLModel",
       "_ngl_color_dict": {},
       "_ngl_coordinate_resource": {},
       "_ngl_full_stage_parameters": {},
       "_ngl_msg_archive": [
        {
         "args": [
          {
           "binary": false,
           "data": "REMARK   1 CREATED WITH OPENMM 8.1.1, 2024-04-30\nHETATM    1  O1x UNK A   1       1.217  -0.615  -0.595  1.00  0.00           O  \nHETATM    2  C1x UNK A   1       0.213   0.246  -0.289  1.00  0.00           C  \nHETATM    3  C2x UNK A   1       0.039   1.252  -1.399  1.00  0.00           C  \nHETATM    4  C3x UNK A   1      -0.957   0.775  -2.453  1.00  0.00           C  \nHETATM    5  C4x UNK A   1      -0.706   1.413  -3.818  1.00  0.00           C  \nHETATM    6  C5x UNK A   1       0.394   0.568  -4.454  1.00  0.00           C  \nHETATM    7  C6x UNK A   1       0.325  -0.800  -3.776  1.00  0.00           C  \nHETATM    8  C7x UNK A   1      -0.809  -0.714  -2.758  1.00  0.00           C  \nHETATM    9  O2x UNK A   1      -0.439   0.191   0.742  1.00  0.00           O  \nHETATM   10  H1x UNK A   1       1.353  -1.283   0.110  1.00  0.00           H  \nHETATM   11  H2x UNK A   1       1.014   1.421  -1.869  1.00  0.00           H  \nHETATM   12  H3x UNK A   1      -0.316   2.192  -0.962  1.00  0.00           H  \nHETATM   13  H4x UNK A   1      -1.967   0.989  -2.121  1.00  0.00           H  \nHETATM   14  H5x UNK A   1      -1.612   1.439  -4.438  1.00  0.00           H  \nHETATM   15  H6x UNK A   1      -0.356   2.450  -3.706  1.00  0.00           H  \nHETATM   16  H7x UNK A   1       0.219   0.459  -5.530  1.00  0.00           H  \nHETATM   17  H8x UNK A   1       1.376   1.036  -4.329  1.00  0.00           H  \nHETATM   18  H9x UNK A   1       0.107  -1.573  -4.523  1.00  0.00           H  \nHETATM   19 H10x UNK A   1       1.273  -1.067  -3.296  1.00  0.00           H  \nHETATM   20 H11x UNK A   1      -0.534  -1.273  -1.850  1.00  0.00           H  \nHETATM   21 H12x UNK A   1      -1.739  -1.155  -3.143  1.00  0.00           H  \nTER      22      UNK A   1\nHETATM   23  C1x UNK B   1       1.978  -2.913   2.556  1.00  0.00           C  \nHETATM   24  C2x UNK B   1       3.789  -0.891   1.798  1.00  0.00           C  \nHETATM   25  C3x UNK B   1       2.095  -1.737   3.319  1.00  0.00           C  \nHETATM   26  C4x UNK B   1       2.809  -3.113   1.440  1.00  0.00           C  \nHETATM   27  C5x UNK B   1       3.750  -2.126   1.094  1.00  0.00           C  \nHETATM   28  C6x UNK B   1       2.873  -0.651   2.862  1.00  0.00           C  \nHETATM   29  O1x UNK B   1       4.548   0.204   1.313  1.00  0.00           O  \nHETATM   30  C7x UNK B   1       2.984   0.584   3.717  1.00  0.00           C  \nHETATM   31  C8x UNK B   1       3.932   1.363   0.655  1.00  0.00           C  \nHETATM   32  O2x UNK B   1       3.658   2.395   1.672  1.00  0.00           O  \nHETATM   33  C9x UNK B   1       2.364   2.527   2.188  1.00  0.00           C  \nHETATM   34 C10x UNK B   1       2.015   1.664   3.219  1.00  0.00           C  \nHETATM   35 C11x UNK B   1       0.711   1.822   3.759  1.00  0.00           C  \nHETATM   36 C12x UNK B   1       1.508   3.442   1.630  1.00  0.00           C  \nHETATM   37 C13x UNK B   1      -0.186   2.733   3.185  1.00  0.00           C  \nHETATM   38 C14x UNK B   1       0.221   3.530   2.110  1.00  0.00           C  \nHETATM   39  O3x UNK B   1      -0.647   4.303   1.401  1.00  0.00           O  \nHETATM   40 C15x UNK B   1      -1.653   2.755   3.681  1.00  0.00           C  \nHETATM   41 C16x UNK B   1      -2.574   1.870   2.877  1.00  0.00           C  \nHETATM   42 C17x UNK B   1      -3.132   2.412   1.652  1.00  0.00           C  \nHETATM   43 C18x UNK B   1      -1.538   3.660   0.425  1.00  0.00           C  \nHETATM   44  O4x UNK B   1      -2.783   3.646   1.111  1.00  0.00           O  \nHETATM   45  O5x UNK B   1       2.544  -4.128   0.497  1.00  0.00           O  \nHETATM   46 C19x UNK B   1       0.819  -3.840   2.830  1.00  0.00           C  \nHETATM   47 C20x UNK B   1      -0.432  -3.444   2.049  1.00  0.00           C  \nHETATM   48  O6x UNK B   1       0.282  -4.753  -0.020  1.00  0.00           O  \nHETATM   49 C21x UNK B   1      -0.654  -3.991   0.770  1.00  0.00           C  \nHETATM   50 C22x UNK B   1      -3.975   1.673   0.870  1.00  0.00           C  \nHETATM   51 C23x UNK B   1      -4.264   0.367   1.137  1.00  0.00           C  \nHETATM   52 C24x UNK B   1      -1.802  -3.727   0.033  1.00  0.00           C  \nHETATM   53 C25x UNK B   1      -2.775  -2.918   0.554  1.00  0.00           C  \nHETATM   54  O7x UNK B   1      -4.839  -0.410   0.131  1.00  0.00           O  \nHETATM   55  O8x UNK B   1      -3.844  -2.574  -0.224  1.00  0.00           O  \nHETATM   56 C26x UNK B   1      -3.930  -1.164  -0.733  1.00  0.00           C  \nHETATM   57 C27x UNK B   1      -1.468  -2.726   2.607  1.00  0.00           C  \nHETATM   58 C28x UNK B   1      -2.672  -2.464   1.903  1.00  0.00           C  \nHETATM   59 C29x UNK B   1      -2.927   0.510   3.198  1.00  0.00           C  \nHETATM   60 C30x UNK B   1      -3.920  -1.740   2.617  1.00  0.00           C  \nHETATM   61 C31x UNK B   1      -3.767  -0.267   2.328  1.00  0.00           C  \nHETATM   62 C32x UNK B   1       1.448  -3.948  -0.413  1.00  0.00           C  \nHETATM   63 C33x UNK B   1      -1.723   2.568   5.183  1.00  0.00           C  \nHETATM   64 C34x UNK B   1      -3.116   2.732   5.795  1.00  0.00           C  \nHETATM   65 C35x UNK B   1      -3.094   2.468   7.322  1.00  0.00           C  \nHETATM   66  O9x UNK B   1      -2.147   1.947   7.819  1.00  0.00           O  \nHETATM   67 C36x UNK B   1       2.971   0.333   5.244  1.00  0.00           C  \nHETATM   68 C37x UNK B   1       3.474   1.504   6.068  1.00  0.00           C  \nHETATM   69 C38x UNK B   1       4.965   1.511   5.971  1.00  0.00           C  \nHETATM   70 O10x UNK B   1       5.655   0.841   6.749  1.00  0.00           O  \nHETATM   71 C39x UNK B   1       0.619  -4.262   4.357  1.00  0.00           C  \nHETATM   72 C40x UNK B   1      -0.442  -5.344   4.488  1.00  0.00           C  \nHETATM   73 C41x UNK B   1       0.254  -6.613   4.033  1.00  0.00           C  \nHETATM   74 O11x UNK B   1       1.048  -7.176   4.790  1.00  0.00           O  \nHETATM   75 C42x UNK B   1      -3.973  -2.277   4.180  1.00  0.00           C  \nHETATM   76 C43x UNK B   1      -5.178  -1.580   4.856  1.00  0.00           C  \nHETATM   77 C44x UNK B   1      -5.150  -1.922   6.342  1.00  0.00           C  \nHETATM   78 O12x UNK B   1      -4.272  -1.622   7.098  1.00  0.00           O  \nHETATM   79 C45x UNK B   1       4.853   1.891  -0.409  1.00  0.00           C  \nHETATM   80 C46x UNK B   1       6.419   2.722  -2.526  1.00  0.00           C  \nHETATM   81 C47x UNK B   1       4.806   3.188  -0.838  1.00  0.00           C  \nHETATM   82 C48x UNK B   1       5.701   1.021  -1.069  1.00  0.00           C  \nHETATM   83 C49x UNK B   1       6.516   1.418  -2.128  1.00  0.00           C  \nHETATM   84 C50x UNK B   1       5.539   3.576  -1.883  1.00  0.00           C  \nHETATM   85 C51x UNK B   1       1.924  -4.169  -1.843  1.00  0.00           C  \nHETATM   86 C52x UNK B   1       2.574  -4.172  -4.542  1.00  0.00           C  \nHETATM   87 C53x UNK B   1       1.045  -4.683  -2.706  1.00  0.00           C  \nHETATM   88 C54x UNK B   1       3.164  -3.671  -2.347  1.00  0.00           C  \nHETATM   89 C55x UNK B   1       3.512  -3.700  -3.673  1.00  0.00           C  \nHETATM   90 C56x UNK B   1       1.359  -4.680  -4.087  1.00  0.00           C  \nHETATM   91 C57x UNK B   1      -4.364  -1.263  -2.171  1.00  0.00           C  \nHETATM   92 C58x UNK B   1      -5.103  -1.290  -4.808  1.00  0.00           C  \nHETATM   93 C59x UNK B   1      -5.192  -0.247  -2.658  1.00  0.00           C  \nHETATM   94 C60x UNK B   1      -3.934  -2.346  -3.026  1.00  0.00           C  \nHETATM   95 C61x UNK B   1      -4.279  -2.305  -4.398  1.00  0.00           C  \nHETATM   96 C62x UNK B   1      -5.509  -0.217  -4.001  1.00  0.00           C  \nHETATM   97 C63x UNK B   1      -1.585   4.405  -0.927  1.00  0.00           C  \nHETATM   98 C64x UNK B   1      -1.514   5.285  -3.524  1.00  0.00           C  \nHETATM   99 C65x UNK B   1      -2.738   4.357  -1.719  1.00  0.00           C  \nHETATM  100 C66x UNK B   1      -0.357   4.883  -1.423  1.00  0.00           C  \nHETATM  101 C67x UNK B   1      -0.365   5.285  -2.742  1.00  0.00           C  \nHETATM  102 C68x UNK B   1      -2.680   4.755  -2.998  1.00  0.00           C  \nHETATM  103 O13x UNK B   1       4.656  -3.132  -4.231  1.00  0.00           O  \nHETATM  104 O14x UNK B   1      -3.921  -3.316  -5.269  1.00  0.00           O  \nHETATM  105 O15x UNK B   1      -6.153   0.774  -4.597  1.00  0.00           O  \nHETATM  106 O16x UNK B   1       7.371   0.558  -2.749  1.00  0.00           O  \nHETATM  107 O17x UNK B   1       5.564   4.887  -2.369  1.00  0.00           O  \nHETATM  108 O18x UNK B   1      -3.800   4.813  -3.884  1.00  0.00           O  \nHETATM  109 O19x UNK B   1       0.847   5.553  -3.374  1.00  0.00           O  \nHETATM  110 C69x UNK B   1      -3.125  -4.382  -4.843  1.00  0.00           C  \nHETATM  111 C70x UNK B   1      -1.388  -6.331  -3.996  1.00  0.00           C  \nHETATM  112 C71x UNK B   1      -1.766  -4.242  -5.099  1.00  0.00           C  \nHETATM  113 C72x UNK B   1      -3.620  -5.488  -4.090  1.00  0.00           C  \nHETATM  114 C73x UNK B   1      -2.747  -6.471  -3.632  1.00  0.00           C  \nHETATM  115 C74x UNK B   1      -0.884  -5.201  -4.698  1.00  0.00           C  \nHETATM  116 O20x UNK B   1       0.436  -5.077  -4.966  1.00  0.00           O  \nHETATM  117 C75x UNK B   1       7.014  -0.794  -2.812  1.00  0.00           C  \nHETATM  118 C76x UNK B   1       6.603  -3.480  -2.776  1.00  0.00           C  \nHETATM  119 C77x UNK B   1       7.868  -1.619  -2.056  1.00  0.00           C  \nHETATM  120 C78x UNK B   1       5.857  -1.299  -3.437  1.00  0.00           C  \nHETATM  121 C79x UNK B   1       5.691  -2.675  -3.448  1.00  0.00           C  \nHETATM  122 C80x UNK B   1       7.644  -2.951  -2.013  1.00  0.00           C  \nHETATM  123 C81x UNK B   1      -6.108   2.039  -4.170  1.00  0.00           C  \nHETATM  124 C82x UNK B   1      -6.042   4.566  -3.046  1.00  0.00           C  \nHETATM  125 C83x UNK B   1      -7.256   2.507  -3.505  1.00  0.00           C  \nHETATM  126 C84x UNK B   1      -4.968   2.764  -4.247  1.00  0.00           C  \nHETATM  127 C85x UNK B   1      -4.902   4.035  -3.665  1.00  0.00           C  \nHETATM  128 C86x UNK B   1      -7.216   3.792  -2.924  1.00  0.00           C  \nHETATM  129 C87x UNK B   1      -8.342   4.264  -2.014  1.00  0.00           C  \nHETATM  130 O21x UNK B   1      -9.273   3.577  -1.677  1.00  0.00           O  \nHETATM  131 C88x UNK B   1       3.543   9.301  -1.437  1.00  0.00           C  \nHETATM  132 O22x UNK B   1       4.604   9.675  -1.044  1.00  0.00           O  \nHETATM  133 C89x UNK B   1       8.522  -3.870  -1.065  1.00  0.00           C  \nHETATM  134 O23x UNK B   1       8.505  -5.024  -1.277  1.00  0.00           O  \nHETATM  135 O24x UNK B   1      -4.010   2.747   7.993  1.00  0.00           O  \nHETATM  136 O25x UNK B   1      -6.186  -2.444   6.728  1.00  0.00           O  \nHETATM  137 O26x UNK B   1       0.095  -6.983   2.900  1.00  0.00           O  \nHETATM  138 C90x UNK B   1      -3.155  -7.597  -2.769  1.00  0.00           C  \nHETATM  139 O27x UNK B   1      -2.341  -8.300  -2.191  1.00  0.00           O  \nHETATM  140 O28x UNK B   1       2.509   9.998  -1.355  1.00  0.00           O  \nHETATM  141 O29x UNK B   1      -8.324   5.429  -1.640  1.00  0.00           O  \nHETATM  142 O30x UNK B   1      -4.375  -7.763  -2.582  1.00  0.00           O  \nHETATM  143 O31x UNK B   1       9.054  -3.461  -0.061  1.00  0.00           O  \nHETATM  144 O32x UNK B   1       5.522   2.279   5.195  1.00  0.00           O  \nHETATM  145 C91x UNK B   1       4.411   5.670  -2.419  1.00  0.00           C  \nHETATM  146 C92x UNK B   1       2.175   7.280  -2.247  1.00  0.00           C  \nHETATM  147 C93x UNK B   1       3.154   5.130  -2.838  1.00  0.00           C  \nHETATM  148 C94x UNK B   1       4.539   7.013  -1.988  1.00  0.00           C  \nHETATM  149 C95x UNK B   1       3.389   7.886  -1.858  1.00  0.00           C  \nHETATM  150 C96x UNK B   1       2.037   5.990  -2.767  1.00  0.00           C  \nHETATM  151  H1x UNK B   1       1.314  -1.538   4.047  1.00  0.00           H  \nHETATM  152  H2x UNK B   1       4.395  -2.261   0.229  1.00  0.00           H  \nHETATM  153  H3x UNK B   1       3.941   1.091   3.577  1.00  0.00           H  \nHETATM  154  H4x UNK B   1       2.952   1.069   0.250  1.00  0.00           H  \nHETATM  155  H5x UNK B   1       0.467   1.098   4.533  1.00  0.00           H  \nHETATM  156  H6x UNK B   1       1.843   4.022   0.774  1.00  0.00           H  \nHETATM  157  H7x UNK B   1      -1.997   3.784   3.552  1.00  0.00           H  \nHETATM  158  H8x UNK B   1      -1.286   2.608   0.223  1.00  0.00           H  \nHETATM  159  H9x UNK B   1       1.122  -4.790   2.385  1.00  0.00           H  \nHETATM  160 H10x UNK B   1      -4.370   2.125  -0.036  1.00  0.00           H  \nHETATM  161 H11x UNK B   1      -1.891  -4.197  -0.944  1.00  0.00           H  \nHETATM  162 H12x UNK B   1      -2.873  -0.867  -0.683  1.00  0.00           H  \nHETATM  163 H13x UNK B   1      -1.500  -2.400   3.644  1.00  0.00           H  \nHETATM  164 H14x UNK B   1      -2.532   0.040   4.095  1.00  0.00           H  \nHETATM  165 H15x UNK B   1      -4.883  -1.929   2.138  1.00  0.00           H  \nHETATM  166 H16x UNK B   1       1.041  -2.929  -0.343  1.00  0.00           H  \nHETATM  167 H17x UNK B   1      -1.264   1.614   5.448  1.00  0.00           H  \nHETATM  168 H18x UNK B   1      -1.085   3.347   5.606  1.00  0.00           H  \nHETATM  169 H19x UNK B   1      -3.414   3.770   5.630  1.00  0.00           H  \nHETATM  170 H20x UNK B   1      -3.774   1.984   5.347  1.00  0.00           H  \nHETATM  171 H21x UNK B   1       3.406  -0.656   5.402  1.00  0.00           H  \nHETATM  172 H22x UNK B   1       1.996   0.097   5.676  1.00  0.00           H  \nHETATM  173 H23x UNK B   1       3.011   2.450   5.779  1.00  0.00           H  \nHETATM  174 H24x UNK B   1       3.270   1.145   7.080  1.00  0.00           H  \nHETATM  175 H25x UNK B   1       1.554  -4.578   4.823  1.00  0.00           H  \nHETATM  176 H26x UNK B   1       0.270  -3.368   4.877  1.00  0.00           H  \nHETATM  177 H27x UNK B   1      -0.679  -5.340   5.554  1.00  0.00           H  \nHETATM  178 H28x UNK B   1      -1.368  -5.264   3.915  1.00  0.00           H  \nHETATM  179 H29x UNK B   1      -4.199  -3.340   4.277  1.00  0.00           H  \nHETATM  180 H30x UNK B   1      -3.135  -2.014   4.830  1.00  0.00           H  \nHETATM  181 H31x UNK B   1      -5.092  -0.496   4.762  1.00  0.00           H  \nHETATM  182 H32x UNK B   1      -6.105  -1.869   4.357  1.00  0.00           H  \nHETATM  183 H33x UNK B   1       6.926   3.160  -3.381  1.00  0.00           H  \nHETATM  184 H34x UNK B   1       4.022   3.841  -0.465  1.00  0.00           H  \nHETATM  185 H35x UNK B   1       5.818   0.034  -0.628  1.00  0.00           H  \nHETATM  186 H36x UNK B   1       2.747  -4.136  -5.614  1.00  0.00           H  \nHETATM  187 H37x UNK B   1       0.027  -4.951  -2.431  1.00  0.00           H  \nHETATM  188 H38x UNK B   1       3.824  -3.227  -1.606  1.00  0.00           H  \nHETATM  189 H39x UNK B   1      -5.329  -1.262  -5.872  1.00  0.00           H  \nHETATM  190 H40x UNK B   1      -5.436   0.603  -2.026  1.00  0.00           H  \nHETATM  191 H41x UNK B   1      -3.285  -3.112  -2.607  1.00  0.00           H  \nHETATM  192 H42x UNK B   1      -1.580   5.825  -4.465  1.00  0.00           H  \nHETATM  193 H43x UNK B   1      -3.625   3.890  -1.298  1.00  0.00           H  \nHETATM  194 H44x UNK B   1       0.549   4.837  -0.824  1.00  0.00           H  \nHETATM  195 H45x UNK B   1      -0.683  -7.078  -3.639  1.00  0.00           H  \nHETATM  196 H46x UNK B   1      -1.448  -3.328  -5.595  1.00  0.00           H  \nHETATM  197 H47x UNK B   1      -4.698  -5.582  -3.982  1.00  0.00           H  \nHETATM  198 H48x UNK B   1       6.286  -4.519  -2.731  1.00  0.00           H  \nHETATM  199 H49x UNK B   1       8.671  -1.164  -1.482  1.00  0.00           H  \nHETATM  200 H50x UNK B   1       5.075  -0.643  -3.812  1.00  0.00           H  \nHETATM  201 H51x UNK B   1      -6.130   5.577  -2.656  1.00  0.00           H  \nHETATM  202 H52x UNK B   1      -8.178   1.933  -3.529  1.00  0.00           H  \nHETATM  203 H53x UNK B   1      -4.108   2.291  -4.715  1.00  0.00           H  \nHETATM  204 H54x UNK B   1       1.273   7.875  -2.370  1.00  0.00           H  \nHETATM  205 H55x UNK B   1       3.063   4.090  -3.141  1.00  0.00           H  \nHETATM  206 H56x UNK B   1       5.499   7.465  -1.750  1.00  0.00           H  \nTER     207      UNK B   1\nCONECT    1    2   10\nCONECT    2    1    3    9\nCONECT    3    2    4   11   12\nCONECT    4    3    8    5   13\nCONECT    5    4    6   14   15\nCONECT    6    5    7   16   17\nCONECT    7    6    8   18   19\nCONECT    8    4    7   20   21\nCONECT    9    2\nCONECT   10    1\nCONECT   11    3\nCONECT   12    3\nCONECT   13    4\nCONECT   14    5\nCONECT   15    5\nCONECT   16    6\nCONECT   17    6\nCONECT   18    7\nCONECT   19    7\nCONECT   20    8\nCONECT   21    8\nCONECT   23   25   26   46\nCONECT   24   27   28   29\nCONECT   25   23   28  151\nCONECT   26   23   27   45\nCONECT   27   24   26  152\nCONECT   28   24   25   30\nCONECT   29   24   31\nCONECT   30   28   34   67  153\nCONECT   31   29   32   79  154\nCONECT   32   31   33\nCONECT   33   32   34   36\nCONECT   34   30   33   35\nCONECT   35   34   37  155\nCONECT   36   33   38  156\nCONECT   37   35   38   40\nCONECT   38   36   37   39\nCONECT   39   38   43\nCONECT   40   37   41   63  157\nCONECT   41   40   42   59\nCONECT   42   41   44   50\nCONECT   43   39   44   97  158\nCONECT   44   42   43\nCONECT   45   26   62\nCONECT   46   23   47   71  159\nCONECT   47   46   49   57\nCONECT   48   49   62\nCONECT   49   47   48   52\nCONECT   50   42   51  160\nCONECT   51   50   54   61\nCONECT   52   49   53  161\nCONECT   53   52   55   58\nCONECT   54   51   56\nCONECT   55   53   56\nCONECT   56   54   55   91  162\nCONECT   57   47   58  163\nCONECT   58   53   57   60\nCONECT   59   41   61  164\nCONECT   60   58   61   75  165\nCONECT   61   51   59   60\nCONECT   62   45   48   85  166\nCONECT   63   40   64  167  168\nCONECT   64   63   65  169  170\nCONECT   65   64   66  135\nCONECT   66   65\nCONECT   67   30   68  171  172\nCONECT   68   67   69  173  174\nCONECT   69   68   70  144\nCONECT   70   69\nCONECT   71   46   72  175  176\nCONECT   72   71   73  177  178\nCONECT   73   72   74  137\nCONECT   74   73\nCONECT   75   60   76  179  180\nCONECT   76   75   77  181  182\nCONECT   77   76   78  136\nCONECT   78   77\nCONECT   79   31   81   82\nCONECT   80   83   84  183\nCONECT   81   79   84  184\nCONECT   82   79   83  185\nCONECT   83   80   82  106\nCONECT   84   80   81  107\nCONECT   85   62   87   88\nCONECT   86   89   90  186\nCONECT   87   85   90  187\nCONECT   88   85   89  188\nCONECT   89   86   88  103\nCONECT   90   86   87  116\nCONECT   91   56   93   94\nCONECT   92   95   96  189\nCONECT   93   91   96  190\nCONECT   94   91   95  191\nCONECT   95   92   94  104\nCONECT   96   92   93  105\nCONECT   97   43   99  100\nCONECT   98  101  102  192\nCONECT   99   97  102  193\nCONECT  100   97  101  194\nCONECT  101   98  100  109\nCONECT  102   98   99  108\nCONECT  103   89  121\nCONECT  104   95  110\nCONECT  105   96  123\nCONECT  106   83  117\nCONECT  107   84  145\nCONECT  108  102  127\nCONECT  109  101  150\nCONECT  110  104  112  113\nCONECT  111  114  115  195\nCONECT  112  110  115  196\nCONECT  113  110  114  197\nCONECT  114  111  113  138\nCONECT  115  111  112  116\nCONECT  116   90  115\nCONECT  117  106  119  120\nCONECT  118  121  122  198\nCONECT  119  117  122  199\nCONECT  120  117  121  200\nCONECT  121  103  118  120\nCONECT  122  118  119  133\nCONECT  123  105  125  126\nCONECT  124  127  128  201\nCONECT  125  123  128  202\nCONECT  126  123  127  203\nCONECT  127  108  124  126\nCONECT  128  124  125  129\nCONECT  129  128  130  141\nCONECT  130  129\nCONECT  131  132  140  149\nCONECT  132  131\nCONECT  133  122  134  143\nCONECT  134  133\nCONECT  135   65\nCONECT  136   77\nCONECT  137   73\nCONECT  138  114  139  142\nCONECT  139  138\nCONECT  140  131\nCONECT  141  129\nCONECT  142  138\nCONECT  143  133\nCONECT  144   69\nCONECT  145  107  147  148\nCONECT  146  149  150  204\nCONECT  147  145  150  205\nCONECT  148  145  149  206\nCONECT  149  131  146  148\nCONECT  150  109  146  147\nCONECT  151   25\nCONECT  152   27\nCONECT  153   30\nCONECT  154   31\nCONECT  155   35\nCONECT  156   36\nCONECT  157   40\nCONECT  158   43\nCONECT  159   46\nCONECT  160   50\nCONECT  161   52\nCONECT  162   56\nCONECT  163   57\nCONECT  164   59\nCONECT  165   60\nCONECT  166   62\nCONECT  167   63\nCONECT  168   63\nCONECT  169   64\nCONECT  170   64\nCONECT  171   67\nCONECT  172   67\nCONECT  173   68\nCONECT  174   68\nCONECT  175   71\nCONECT  176   71\nCONECT  177   72\nCONECT  178   72\nCONECT  179   75\nCONECT  180   75\nCONECT  181   76\nCONECT  182   76\nCONECT  183   80\nCONECT  184   81\nCONECT  185   82\nCONECT  186   86\nCONECT  187   87\nCONECT  188   88\nCONECT  189   92\nCONECT  190   93\nCONECT  191   94\nCONECT  192   98\nCONECT  193   99\nCONECT  194  100\nCONECT  195  111\nCONECT  196  112\nCONECT  197  113\nCONECT  198  118\nCONECT  199  119\nCONECT  200  120\nCONECT  201  124\nCONECT  202  125\nCONECT  203  126\nCONECT  204  146\nCONECT  205  147\nCONECT  206  148\nEND\n",
           "type": "blob"
          }
         ],
         "kwargs": {
          "defaultRepresentation": false,
          "ext": "pdb"
         },
         "methodName": "loadFile",
         "reconstruc_color_scheme": false,
         "target": "Stage",
         "type": "call_method"
        },
        {
         "args": [],
         "component_index": 0,
         "kwargs": {},
         "methodName": "removeAllRepresentations",
         "reconstruc_color_scheme": false,
         "target": "compList",
         "type": "call_method"
        },
        {
         "args": [
          "unitcell"
         ],
         "component_index": 0,
         "kwargs": {},
         "methodName": "addRepresentation",
         "reconstruc_color_scheme": false,
         "target": "compList",
         "type": "call_method"
        },
        {
         "args": [
          "line"
         ],
         "component_index": 0,
         "kwargs": {
          "sele": "water"
         },
         "methodName": "addRepresentation",
         "reconstruc_color_scheme": false,
         "target": "compList",
         "type": "call_method"
        },
        {
         "args": [
          "spacefill"
         ],
         "component_index": 0,
         "kwargs": {
          "sele": "ion"
         },
         "methodName": "addRepresentation",
         "reconstruc_color_scheme": false,
         "target": "compList",
         "type": "call_method"
        },
        {
         "args": [
          "cartoon"
         ],
         "component_index": 0,
         "kwargs": {
          "sele": "protein"
         },
         "methodName": "addRepresentation",
         "reconstruc_color_scheme": false,
         "target": "compList",
         "type": "call_method"
        },
        {
         "args": [
          "licorice"
         ],
         "component_index": 0,
         "kwargs": {
          "multipleBond": false,
          "radius": 0.25,
          "sele": "not water and not ion and not protein"
         },
         "methodName": "addRepresentation",
         "reconstruc_color_scheme": false,
         "target": "compList",
         "type": "call_method"
        }
       ],
       "_ngl_original_stage_parameters": {},
       "_ngl_repr_dict": {},
       "_ngl_serialize": false,
       "_ngl_version": "",
       "_ngl_view_id": [],
       "_player_dict": {},
       "_scene_position": {},
       "_scene_rotation": {},
       "_synced_model_ids": [],
       "_synced_repr_model_ids": [],
       "_view_count": null,
       "_view_height": "",
       "_view_module": "nglview-js-widgets",
       "_view_module_version": "3.0.8",
       "_view_name": "NGLView",
       "_view_width": "",
       "background": "white",
       "frame": 0,
       "gui_style": null,
       "layout": "IPY_MODEL_46d42604b5f4449c861f6d5e6c0d7af0",
       "max_frame": 0,
       "n_components": 0,
       "picked": {},
       "tabbable": null,
       "tooltip": null
      }
     },
     "376a8b58a6674e48b7de9e23e4ca4407": {
      "model_module": "@jupyter-widgets/controls",
      "model_module_version": "2.0.0",
      "model_name": "HBoxModel",
      "state": {
       "_dom_classes": [],
       "_model_module": "@jupyter-widgets/controls",
       "_model_module_version": "2.0.0",
       "_model_name": "HBoxModel",
       "_view_count": null,
       "_view_module": "@jupyter-widgets/controls",
       "_view_module_version": "2.0.0",
       "_view_name": "HBoxView",
       "box_style": "",
       "children": [
        "IPY_MODEL_8108ac5b6621445ea89c1a18703baf73",
        "IPY_MODEL_79b08167dca14c75821acff9cd19620c"
       ],
       "layout": "IPY_MODEL_81982f42aaff486f8e529504df0a99a3",
       "tabbable": null,
       "tooltip": null
      }
     },
     "37bfea50c0d34c2ca1a3a329764c069b": {
      "model_module": "@jupyter-widgets/base",
      "model_module_version": "2.0.0",
      "model_name": "LayoutModel",
      "state": {
       "_model_module": "@jupyter-widgets/base",
       "_model_module_version": "2.0.0",
       "_model_name": "LayoutModel",
       "_view_count": null,
       "_view_module": "@jupyter-widgets/base",
       "_view_module_version": "2.0.0",
       "_view_name": "LayoutView",
       "align_content": null,
       "align_items": null,
       "align_self": null,
       "border_bottom": null,
       "border_left": null,
       "border_right": null,
       "border_top": null,
       "bottom": null,
       "display": null,
       "flex": null,
       "flex_flow": null,
       "grid_area": null,
       "grid_auto_columns": null,
       "grid_auto_flow": null,
       "grid_auto_rows": null,
       "grid_column": null,
       "grid_gap": null,
       "grid_row": null,
       "grid_template_areas": null,
       "grid_template_columns": null,
       "grid_template_rows": null,
       "height": null,
       "justify_content": null,
       "justify_items": null,
       "left": null,
       "margin": null,
       "max_height": null,
       "max_width": null,
       "min_height": null,
       "min_width": null,
       "object_fit": null,
       "object_position": null,
       "order": null,
       "overflow": null,
       "padding": null,
       "right": null,
       "top": null,
       "visibility": null,
       "width": "34px"
      }
     },
     "455f677b88094652833ea26e2c79dcc8": {
      "model_module": "@jupyter-widgets/controls",
      "model_module_version": "2.0.0",
      "model_name": "PlayModel",
      "state": {
       "_dom_classes": [],
       "_model_module": "@jupyter-widgets/controls",
       "_model_module_version": "2.0.0",
       "_model_name": "PlayModel",
       "_view_count": null,
       "_view_module": "@jupyter-widgets/controls",
       "_view_module_version": "2.0.0",
       "_view_name": "PlayView",
       "description": "",
       "description_allow_html": false,
       "disabled": false,
       "interval": 100,
       "layout": "IPY_MODEL_251f096acc314c6881e51928eb995bae",
       "max": 69,
       "min": 0,
       "playing": false,
       "repeat": false,
       "show_repeat": true,
       "step": 1,
       "style": "IPY_MODEL_f259d01cf55e42bbb0d44833cdb0bab1",
       "tabbable": null,
       "tooltip": null,
       "value": 0
      }
     },
     "46673374f6824e0ea25251f536525d45": {
      "buffers": [
       {
        "data": "",
        "encoding": "base64",
        "path": [
         "value"
        ]
       }
      ],
      "model_module": "@jupyter-widgets/controls",
      "model_module_version": "2.0.0",
      "model_name": "ImageModel",
      "state": {
       "_dom_classes": [],
       "_model_module": "@jupyter-widgets/controls",
       "_model_module_version": "2.0.0",
       "_model_name": "ImageModel",
       "_view_count": null,
       "_view_module": "@jupyter-widgets/controls",
       "_view_module_version": "2.0.0",
       "_view_name": "ImageView",
       "format": "png",
       "height": "",
       "layout": "IPY_MODEL_e7ed2a8d1f7446cda8b14209ca76d57a",
       "tabbable": null,
       "tooltip": null,
       "width": "900.0"
      }
     },
     "46d42604b5f4449c861f6d5e6c0d7af0": {
      "model_module": "@jupyter-widgets/base",
      "model_module_version": "2.0.0",
      "model_name": "LayoutModel",
      "state": {
       "_model_module": "@jupyter-widgets/base",
       "_model_module_version": "2.0.0",
       "_model_name": "LayoutModel",
       "_view_count": null,
       "_view_module": "@jupyter-widgets/base",
       "_view_module_version": "2.0.0",
       "_view_name": "LayoutView",
       "align_content": null,
       "align_items": null,
       "align_self": null,
       "border_bottom": null,
       "border_left": null,
       "border_right": null,
       "border_top": null,
       "bottom": null,
       "display": null,
       "flex": null,
       "flex_flow": null,
       "grid_area": null,
       "grid_auto_columns": null,
       "grid_auto_flow": null,
       "grid_auto_rows": null,
       "grid_column": null,
       "grid_gap": null,
       "grid_row": null,
       "grid_template_areas": null,
       "grid_template_columns": null,
       "grid_template_rows": null,
       "height": null,
       "justify_content": null,
       "justify_items": null,
       "left": null,
       "margin": null,
       "max_height": null,
       "max_width": null,
       "min_height": null,
       "min_width": null,
       "object_fit": null,
       "object_position": null,
       "order": null,
       "overflow": null,
       "padding": null,
       "right": null,
       "top": null,
       "visibility": null,
       "width": null
      }
     },
     "4ba22c184519477397d52ecb206999b1": {
      "model_module": "@jupyter-widgets/base",
      "model_module_version": "2.0.0",
      "model_name": "LayoutModel",
      "state": {
       "_model_module": "@jupyter-widgets/base",
       "_model_module_version": "2.0.0",
       "_model_name": "LayoutModel",
       "_view_count": null,
       "_view_module": "@jupyter-widgets/base",
       "_view_module_version": "2.0.0",
       "_view_name": "LayoutView",
       "align_content": null,
       "align_items": null,
       "align_self": null,
       "border_bottom": null,
       "border_left": null,
       "border_right": null,
       "border_top": null,
       "bottom": null,
       "display": null,
       "flex": null,
       "flex_flow": null,
       "grid_area": null,
       "grid_auto_columns": null,
       "grid_auto_flow": null,
       "grid_auto_rows": null,
       "grid_column": null,
       "grid_gap": null,
       "grid_row": null,
       "grid_template_areas": null,
       "grid_template_columns": null,
       "grid_template_rows": null,
       "height": null,
       "justify_content": null,
       "justify_items": null,
       "left": null,
       "margin": null,
       "max_height": null,
       "max_width": null,
       "min_height": null,
       "min_width": null,
       "object_fit": null,
       "object_position": null,
       "order": null,
       "overflow": null,
       "padding": null,
       "right": null,
       "top": null,
       "visibility": null,
       "width": null
      }
     },
     "5100a94a62774864a7802e60b32c5332": {
      "model_module": "@jupyter-widgets/base",
      "model_module_version": "2.0.0",
      "model_name": "LayoutModel",
      "state": {
       "_model_module": "@jupyter-widgets/base",
       "_model_module_version": "2.0.0",
       "_model_name": "LayoutModel",
       "_view_count": null,
       "_view_module": "@jupyter-widgets/base",
       "_view_module_version": "2.0.0",
       "_view_name": "LayoutView",
       "align_content": null,
       "align_items": null,
       "align_self": null,
       "border_bottom": null,
       "border_left": null,
       "border_right": null,
       "border_top": null,
       "bottom": null,
       "display": null,
       "flex": null,
       "flex_flow": null,
       "grid_area": null,
       "grid_auto_columns": null,
       "grid_auto_flow": null,
       "grid_auto_rows": null,
       "grid_column": null,
       "grid_gap": null,
       "grid_row": null,
       "grid_template_areas": null,
       "grid_template_columns": null,
       "grid_template_rows": null,
       "height": null,
       "justify_content": null,
       "justify_items": null,
       "left": null,
       "margin": null,
       "max_height": null,
       "max_width": null,
       "min_height": null,
       "min_width": null,
       "object_fit": null,
       "object_position": null,
       "order": null,
       "overflow": null,
       "padding": null,
       "right": null,
       "top": null,
       "visibility": null,
       "width": null
      }
     },
     "606a97e636b648ebb245755cf13ae14a": {
      "model_module": "@jupyter-widgets/base",
      "model_module_version": "2.0.0",
      "model_name": "LayoutModel",
      "state": {
       "_model_module": "@jupyter-widgets/base",
       "_model_module_version": "2.0.0",
       "_model_name": "LayoutModel",
       "_view_count": null,
       "_view_module": "@jupyter-widgets/base",
       "_view_module_version": "2.0.0",
       "_view_name": "LayoutView",
       "align_content": null,
       "align_items": null,
       "align_self": null,
       "border_bottom": null,
       "border_left": null,
       "border_right": null,
       "border_top": null,
       "bottom": null,
       "display": null,
       "flex": null,
       "flex_flow": null,
       "grid_area": null,
       "grid_auto_columns": null,
       "grid_auto_flow": null,
       "grid_auto_rows": null,
       "grid_column": null,
       "grid_gap": null,
       "grid_row": null,
       "grid_template_areas": null,
       "grid_template_columns": null,
       "grid_template_rows": null,
       "height": null,
       "justify_content": null,
       "justify_items": null,
       "left": null,
       "margin": null,
       "max_height": null,
       "max_width": null,
       "min_height": null,
       "min_width": null,
       "object_fit": null,
       "object_position": null,
       "order": null,
       "overflow": null,
       "padding": null,
       "right": null,
       "top": null,
       "visibility": null,
       "width": null
      }
     },
     "64d4efcbaa494c8a9de36e65f0420740": {
      "model_module": "@jupyter-widgets/controls",
      "model_module_version": "2.0.0",
      "model_name": "LinkModel",
      "state": {
       "_model_module": "@jupyter-widgets/controls",
       "_model_module_version": "2.0.0",
       "_model_name": "LinkModel",
       "_view_count": null,
       "_view_module": "@jupyter-widgets/controls",
       "_view_module_version": "2.0.0",
       "_view_name": null,
       "source": [
        "IPY_MODEL_804bc156dd254475946f0b9adb2038cf",
        "max"
       ],
       "target": [
        "IPY_MODEL_eefa4f4246d94e0aa78013952d0dd244",
        "max_frame"
       ]
      }
     },
     "64e43bf64f7545b6b96aa138a6691609": {
      "model_module": "@jupyter-widgets/controls",
      "model_module_version": "2.0.0",
      "model_name": "LinkModel",
      "state": {
       "_model_module": "@jupyter-widgets/controls",
       "_model_module_version": "2.0.0",
       "_model_name": "LinkModel",
       "_view_count": null,
       "_view_module": "@jupyter-widgets/controls",
       "_view_module_version": "2.0.0",
       "_view_name": null,
       "source": [
        "IPY_MODEL_8108ac5b6621445ea89c1a18703baf73",
        "value"
       ],
       "target": [
        "IPY_MODEL_79b08167dca14c75821acff9cd19620c",
        "value"
       ]
      }
     },
     "6ad4a68ed7944c038bdcf9f13d03eeef": {
      "model_module": "@jupyter-widgets/controls",
      "model_module_version": "2.0.0",
      "model_name": "LinkModel",
      "state": {
       "_model_module": "@jupyter-widgets/controls",
       "_model_module_version": "2.0.0",
       "_model_name": "LinkModel",
       "_view_count": null,
       "_view_module": "@jupyter-widgets/controls",
       "_view_module_version": "2.0.0",
       "_view_name": null,
       "source": [
        "IPY_MODEL_455f677b88094652833ea26e2c79dcc8",
        "value"
       ],
       "target": [
        "IPY_MODEL_eefa4f4246d94e0aa78013952d0dd244",
        "frame"
       ]
      }
     },
     "6bac9ac6951849558528c40713cf0610": {
      "model_module": "@jupyter-widgets/controls",
      "model_module_version": "2.0.0",
      "model_name": "ButtonStyleModel",
      "state": {
       "_model_module": "@jupyter-widgets/controls",
       "_model_module_version": "2.0.0",
       "_model_name": "ButtonStyleModel",
       "_view_count": null,
       "_view_module": "@jupyter-widgets/base",
       "_view_module_version": "2.0.0",
       "_view_name": "StyleView",
       "button_color": null,
       "font_family": null,
       "font_size": null,
       "font_style": null,
       "font_variant": null,
       "font_weight": null,
       "text_color": null,
       "text_decoration": null
      }
     },
     "70dc10ffc85b4dd9ace0f8b21357652f": {
      "model_module": "@jupyter-widgets/controls",
      "model_module_version": "2.0.0",
      "model_name": "LinkModel",
      "state": {
       "_model_module": "@jupyter-widgets/controls",
       "_model_module_version": "2.0.0",
       "_model_name": "LinkModel",
       "_view_count": null,
       "_view_module": "@jupyter-widgets/controls",
       "_view_module_version": "2.0.0",
       "_view_name": null,
       "source": [
        "IPY_MODEL_455f677b88094652833ea26e2c79dcc8",
        "value"
       ],
       "target": [
        "IPY_MODEL_804bc156dd254475946f0b9adb2038cf",
        "value"
       ]
      }
     },
     "79b08167dca14c75821acff9cd19620c": {
      "model_module": "@jupyter-widgets/controls",
      "model_module_version": "2.0.0",
      "model_name": "IntSliderModel",
      "state": {
       "_dom_classes": [],
       "_model_module": "@jupyter-widgets/controls",
       "_model_module_version": "2.0.0",
       "_model_name": "IntSliderModel",
       "_view_count": null,
       "_view_module": "@jupyter-widgets/controls",
       "_view_module_version": "2.0.0",
       "_view_name": "IntSliderView",
       "behavior": "drag-tap",
       "continuous_update": true,
       "description": "",
       "description_allow_html": false,
       "disabled": false,
       "layout": "IPY_MODEL_c463e17950d14120ae9d75879d8d2fb6",
       "max": 0,
       "min": 0,
       "orientation": "horizontal",
       "readout": true,
       "readout_format": "d",
       "step": 1,
       "style": "IPY_MODEL_0cc1cbac88b94360a21ea220948ec0c7",
       "tabbable": null,
       "tooltip": null,
       "value": 0
      }
     },
     "7ace732a61664c8abe97a016199fc91e": {
      "model_module": "@jupyter-widgets/base",
      "model_module_version": "2.0.0",
      "model_name": "LayoutModel",
      "state": {
       "_model_module": "@jupyter-widgets/base",
       "_model_module_version": "2.0.0",
       "_model_name": "LayoutModel",
       "_view_count": null,
       "_view_module": "@jupyter-widgets/base",
       "_view_module_version": "2.0.0",
       "_view_name": "LayoutView",
       "align_content": null,
       "align_items": null,
       "align_self": null,
       "border_bottom": null,
       "border_left": null,
       "border_right": null,
       "border_top": null,
       "bottom": null,
       "display": null,
       "flex": null,
       "flex_flow": null,
       "grid_area": null,
       "grid_auto_columns": null,
       "grid_auto_flow": null,
       "grid_auto_rows": null,
       "grid_column": null,
       "grid_gap": null,
       "grid_row": null,
       "grid_template_areas": null,
       "grid_template_columns": null,
       "grid_template_rows": null,
       "height": null,
       "justify_content": null,
       "justify_items": null,
       "left": null,
       "margin": null,
       "max_height": null,
       "max_width": null,
       "min_height": null,
       "min_width": null,
       "object_fit": null,
       "object_position": null,
       "order": null,
       "overflow": null,
       "padding": null,
       "right": null,
       "top": null,
       "visibility": null,
       "width": null
      }
     },
     "804bc156dd254475946f0b9adb2038cf": {
      "model_module": "@jupyter-widgets/controls",
      "model_module_version": "2.0.0",
      "model_name": "IntSliderModel",
      "state": {
       "_dom_classes": [],
       "_model_module": "@jupyter-widgets/controls",
       "_model_module_version": "2.0.0",
       "_model_name": "IntSliderModel",
       "_view_count": null,
       "_view_module": "@jupyter-widgets/controls",
       "_view_module_version": "2.0.0",
       "_view_name": "IntSliderView",
       "behavior": "drag-tap",
       "continuous_update": true,
       "description": "",
       "description_allow_html": false,
       "disabled": false,
       "layout": "IPY_MODEL_7ace732a61664c8abe97a016199fc91e",
       "max": 69,
       "min": 0,
       "orientation": "horizontal",
       "readout": true,
       "readout_format": "d",
       "step": 1,
       "style": "IPY_MODEL_b5ca08d9ec70422295f194531a7bccf6",
       "tabbable": null,
       "tooltip": null,
       "value": 0
      }
     },
     "8108ac5b6621445ea89c1a18703baf73": {
      "model_module": "@jupyter-widgets/controls",
      "model_module_version": "2.0.0",
      "model_name": "PlayModel",
      "state": {
       "_dom_classes": [],
       "_model_module": "@jupyter-widgets/controls",
       "_model_module_version": "2.0.0",
       "_model_name": "PlayModel",
       "_view_count": null,
       "_view_module": "@jupyter-widgets/controls",
       "_view_module_version": "2.0.0",
       "_view_name": "PlayView",
       "description": "",
       "description_allow_html": false,
       "disabled": false,
       "interval": 100,
       "layout": "IPY_MODEL_606a97e636b648ebb245755cf13ae14a",
       "max": 0,
       "min": 0,
       "playing": false,
       "repeat": false,
       "show_repeat": true,
       "step": 1,
       "style": "IPY_MODEL_9dee32030cb447fabd7d6eff8d861182",
       "tabbable": null,
       "tooltip": null,
       "value": 0
      }
     },
     "81982f42aaff486f8e529504df0a99a3": {
      "model_module": "@jupyter-widgets/base",
      "model_module_version": "2.0.0",
      "model_name": "LayoutModel",
      "state": {
       "_model_module": "@jupyter-widgets/base",
       "_model_module_version": "2.0.0",
       "_model_name": "LayoutModel",
       "_view_count": null,
       "_view_module": "@jupyter-widgets/base",
       "_view_module_version": "2.0.0",
       "_view_name": "LayoutView",
       "align_content": null,
       "align_items": null,
       "align_self": null,
       "border_bottom": null,
       "border_left": null,
       "border_right": null,
       "border_top": null,
       "bottom": null,
       "display": null,
       "flex": null,
       "flex_flow": null,
       "grid_area": null,
       "grid_auto_columns": null,
       "grid_auto_flow": null,
       "grid_auto_rows": null,
       "grid_column": null,
       "grid_gap": null,
       "grid_row": null,
       "grid_template_areas": null,
       "grid_template_columns": null,
       "grid_template_rows": null,
       "height": null,
       "justify_content": null,
       "justify_items": null,
       "left": null,
       "margin": null,
       "max_height": null,
       "max_width": null,
       "min_height": null,
       "min_width": null,
       "object_fit": null,
       "object_position": null,
       "order": null,
       "overflow": null,
       "padding": null,
       "right": null,
       "top": null,
       "visibility": null,
       "width": null
      }
     },
     "8821f8e11c9243b6a3f7fb931cb1e330": {
      "model_module": "@jupyter-widgets/base",
      "model_module_version": "2.0.0",
      "model_name": "LayoutModel",
      "state": {
       "_model_module": "@jupyter-widgets/base",
       "_model_module_version": "2.0.0",
       "_model_name": "LayoutModel",
       "_view_count": null,
       "_view_module": "@jupyter-widgets/base",
       "_view_module_version": "2.0.0",
       "_view_name": "LayoutView",
       "align_content": null,
       "align_items": null,
       "align_self": null,
       "border_bottom": null,
       "border_left": null,
       "border_right": null,
       "border_top": null,
       "bottom": null,
       "display": null,
       "flex": null,
       "flex_flow": null,
       "grid_area": null,
       "grid_auto_columns": null,
       "grid_auto_flow": null,
       "grid_auto_rows": null,
       "grid_column": null,
       "grid_gap": null,
       "grid_row": null,
       "grid_template_areas": null,
       "grid_template_columns": null,
       "grid_template_rows": null,
       "height": null,
       "justify_content": null,
       "justify_items": null,
       "left": null,
       "margin": null,
       "max_height": null,
       "max_width": null,
       "min_height": null,
       "min_width": null,
       "object_fit": null,
       "object_position": null,
       "order": null,
       "overflow": null,
       "padding": null,
       "right": null,
       "top": null,
       "visibility": null,
       "width": null
      }
     },
     "931de4f9afb143f087df46ef2be9f6f5": {
      "model_module": "@jupyter-widgets/controls",
      "model_module_version": "2.0.0",
      "model_name": "HBoxModel",
      "state": {
       "_dom_classes": [],
       "_model_module": "@jupyter-widgets/controls",
       "_model_module_version": "2.0.0",
       "_model_name": "HBoxModel",
       "_view_count": null,
       "_view_module": "@jupyter-widgets/controls",
       "_view_module_version": "2.0.0",
       "_view_name": "HBoxView",
       "box_style": "",
       "children": [
        "IPY_MODEL_455f677b88094652833ea26e2c79dcc8",
        "IPY_MODEL_804bc156dd254475946f0b9adb2038cf"
       ],
       "layout": "IPY_MODEL_f15eb486e3004a9e948c1b540949bb5c",
       "tabbable": null,
       "tooltip": null
      }
     },
     "9dee32030cb447fabd7d6eff8d861182": {
      "model_module": "@jupyter-widgets/controls",
      "model_module_version": "2.0.0",
      "model_name": "DescriptionStyleModel",
      "state": {
       "_model_module": "@jupyter-widgets/controls",
       "_model_module_version": "2.0.0",
       "_model_name": "DescriptionStyleModel",
       "_view_count": null,
       "_view_module": "@jupyter-widgets/base",
       "_view_module_version": "2.0.0",
       "_view_name": "StyleView",
       "description_width": ""
      }
     },
     "a8e20620059d4babaeb9806dc41f5d39": {
      "model_module": "@jupyter-widgets/controls",
      "model_module_version": "2.0.0",
      "model_name": "LinkModel",
      "state": {
       "_model_module": "@jupyter-widgets/controls",
       "_model_module_version": "2.0.0",
       "_model_name": "LinkModel",
       "_view_count": null,
       "_view_module": "@jupyter-widgets/controls",
       "_view_module_version": "2.0.0",
       "_view_name": null,
       "source": [
        "IPY_MODEL_455f677b88094652833ea26e2c79dcc8",
        "max"
       ],
       "target": [
        "IPY_MODEL_eefa4f4246d94e0aa78013952d0dd244",
        "max_frame"
       ]
      }
     },
     "af8e8091d1aa4749852a559f767ee684": {
      "model_module": "@jupyter-widgets/controls",
      "model_module_version": "2.0.0",
      "model_name": "LinkModel",
      "state": {
       "_model_module": "@jupyter-widgets/controls",
       "_model_module_version": "2.0.0",
       "_model_name": "LinkModel",
       "_view_count": null,
       "_view_module": "@jupyter-widgets/controls",
       "_view_module_version": "2.0.0",
       "_view_name": null,
       "source": [
        "IPY_MODEL_8108ac5b6621445ea89c1a18703baf73",
        "max"
       ],
       "target": [
        "IPY_MODEL_3582b00d314749659ea0665cf4b13d83",
        "max_frame"
       ]
      }
     },
     "b5ca08d9ec70422295f194531a7bccf6": {
      "model_module": "@jupyter-widgets/controls",
      "model_module_version": "2.0.0",
      "model_name": "SliderStyleModel",
      "state": {
       "_model_module": "@jupyter-widgets/controls",
       "_model_module_version": "2.0.0",
       "_model_name": "SliderStyleModel",
       "_view_count": null,
       "_view_module": "@jupyter-widgets/base",
       "_view_module_version": "2.0.0",
       "_view_name": "StyleView",
       "description_width": "",
       "handle_color": null
      }
     },
     "bbf0e914827146f9870c5ce9831007fb": {
      "model_module": "@jupyter-widgets/controls",
      "model_module_version": "2.0.0",
      "model_name": "ButtonModel",
      "state": {
       "_dom_classes": [],
       "_model_module": "@jupyter-widgets/controls",
       "_model_module_version": "2.0.0",
       "_model_name": "ButtonModel",
       "_view_count": null,
       "_view_module": "@jupyter-widgets/controls",
       "_view_module_version": "2.0.0",
       "_view_name": "ButtonView",
       "button_style": "",
       "description": "",
       "disabled": false,
       "icon": "compress",
       "layout": "IPY_MODEL_e932eb57e9144f44b8abd7865636ee06",
       "style": "IPY_MODEL_1a056e49c6c243f2bdb782d5eb11e754",
       "tabbable": null,
       "tooltip": null
      }
     },
     "c463e17950d14120ae9d75879d8d2fb6": {
      "model_module": "@jupyter-widgets/base",
      "model_module_version": "2.0.0",
      "model_name": "LayoutModel",
      "state": {
       "_model_module": "@jupyter-widgets/base",
       "_model_module_version": "2.0.0",
       "_model_name": "LayoutModel",
       "_view_count": null,
       "_view_module": "@jupyter-widgets/base",
       "_view_module_version": "2.0.0",
       "_view_name": "LayoutView",
       "align_content": null,
       "align_items": null,
       "align_self": null,
       "border_bottom": null,
       "border_left": null,
       "border_right": null,
       "border_top": null,
       "bottom": null,
       "display": null,
       "flex": null,
       "flex_flow": null,
       "grid_area": null,
       "grid_auto_columns": null,
       "grid_auto_flow": null,
       "grid_auto_rows": null,
       "grid_column": null,
       "grid_gap": null,
       "grid_row": null,
       "grid_template_areas": null,
       "grid_template_columns": null,
       "grid_template_rows": null,
       "height": null,
       "justify_content": null,
       "justify_items": null,
       "left": null,
       "margin": null,
       "max_height": null,
       "max_width": null,
       "min_height": null,
       "min_width": null,
       "object_fit": null,
       "object_position": null,
       "order": null,
       "overflow": null,
       "padding": null,
       "right": null,
       "top": null,
       "visibility": null,
       "width": null
      }
     },
     "c57b8e39f5284765ae2607c8b1aed463": {
      "buffers": [
       {
        "data": "",
        "encoding": "base64",
        "path": [
         "value"
        ]
       }
      ],
      "model_module": "@jupyter-widgets/controls",
      "model_module_version": "2.0.0",
      "model_name": "ImageModel",
      "state": {
       "_dom_classes": [],
       "_model_module": "@jupyter-widgets/controls",
       "_model_module_version": "2.0.0",
       "_model_name": "ImageModel",
       "_view_count": null,
       "_view_module": "@jupyter-widgets/controls",
       "_view_module_version": "2.0.0",
       "_view_name": "ImageView",
       "format": "png",
       "height": "",
       "layout": "IPY_MODEL_8821f8e11c9243b6a3f7fb931cb1e330",
       "tabbable": null,
       "tooltip": null,
       "width": "900.0"
      }
     },
     "e7ed2a8d1f7446cda8b14209ca76d57a": {
      "model_module": "@jupyter-widgets/base",
      "model_module_version": "2.0.0",
      "model_name": "LayoutModel",
      "state": {
       "_model_module": "@jupyter-widgets/base",
       "_model_module_version": "2.0.0",
       "_model_name": "LayoutModel",
       "_view_count": null,
       "_view_module": "@jupyter-widgets/base",
       "_view_module_version": "2.0.0",
       "_view_name": "LayoutView",
       "align_content": null,
       "align_items": null,
       "align_self": null,
       "border_bottom": null,
       "border_left": null,
       "border_right": null,
       "border_top": null,
       "bottom": null,
       "display": null,
       "flex": null,
       "flex_flow": null,
       "grid_area": null,
       "grid_auto_columns": null,
       "grid_auto_flow": null,
       "grid_auto_rows": null,
       "grid_column": null,
       "grid_gap": null,
       "grid_row": null,
       "grid_template_areas": null,
       "grid_template_columns": null,
       "grid_template_rows": null,
       "height": null,
       "justify_content": null,
       "justify_items": null,
       "left": null,
       "margin": null,
       "max_height": null,
       "max_width": null,
       "min_height": null,
       "min_width": null,
       "object_fit": null,
       "object_position": null,
       "order": null,
       "overflow": null,
       "padding": null,
       "right": null,
       "top": null,
       "visibility": null,
       "width": null
      }
     },
     "e932eb57e9144f44b8abd7865636ee06": {
      "model_module": "@jupyter-widgets/base",
      "model_module_version": "2.0.0",
      "model_name": "LayoutModel",
      "state": {
       "_model_module": "@jupyter-widgets/base",
       "_model_module_version": "2.0.0",
       "_model_name": "LayoutModel",
       "_view_count": null,
       "_view_module": "@jupyter-widgets/base",
       "_view_module_version": "2.0.0",
       "_view_name": "LayoutView",
       "align_content": null,
       "align_items": null,
       "align_self": null,
       "border_bottom": null,
       "border_left": null,
       "border_right": null,
       "border_top": null,
       "bottom": null,
       "display": null,
       "flex": null,
       "flex_flow": null,
       "grid_area": null,
       "grid_auto_columns": null,
       "grid_auto_flow": null,
       "grid_auto_rows": null,
       "grid_column": null,
       "grid_gap": null,
       "grid_row": null,
       "grid_template_areas": null,
       "grid_template_columns": null,
       "grid_template_rows": null,
       "height": null,
       "justify_content": null,
       "justify_items": null,
       "left": null,
       "margin": null,
       "max_height": null,
       "max_width": null,
       "min_height": null,
       "min_width": null,
       "object_fit": null,
       "object_position": null,
       "order": null,
       "overflow": null,
       "padding": null,
       "right": null,
       "top": null,
       "visibility": null,
       "width": "34px"
      }
     },
     "eefa4f4246d94e0aa78013952d0dd244": {
      "model_module": "nglview-js-widgets",
      "model_module_version": "3.0.8",
      "model_name": "NGLModel",
      "state": {
       "_camera_orientation": [],
       "_camera_str": "orthographic",
       "_dom_classes": [],
       "_gui_theme": null,
       "_ibtn_fullscreen": "IPY_MODEL_bbf0e914827146f9870c5ce9831007fb",
       "_igui": null,
       "_iplayer": "IPY_MODEL_931de4f9afb143f087df46ef2be9f6f5",
       "_model_module": "nglview-js-widgets",
       "_model_module_version": "3.0.8",
       "_model_name": "NGLModel",
       "_ngl_color_dict": {},
       "_ngl_coordinate_resource": {},
       "_ngl_full_stage_parameters": {},
       "_ngl_msg_archive": [
        {
         "args": [
          {
           "binary": false,
           "data": "MODEL        0\nATOM      1  O1x UNK A   0       2.152  -1.459   0.772  1.00  0.00           O  \nATOM      2  C1x UNK A   0       0.858  -1.162   0.925  1.00  0.00           C  \nATOM      3  C2x UNK A   0       0.133  -0.555  -0.303  1.00  0.00           C  \nATOM      4  C3x UNK A   0       0.590  -1.195  -1.714  1.00  0.00           C  \nATOM      5  C4x UNK A   0      -0.455  -0.661  -2.828  1.00  0.00           C  \nATOM      6  C5x UNK A   0      -0.112   0.781  -2.918  1.00  0.00           C  \nATOM      7  C6x UNK A   0       1.395   0.940  -2.748  1.00  0.00           C  \nATOM      8  C7x UNK A   0       1.904  -0.483  -2.195  1.00  0.00           C  \nATOM      9  O2x UNK A   0       0.364  -1.202   2.023  1.00  0.00           O  \nATOM     10  H1x UNK A   0       2.556  -1.666   1.641  1.00  0.00           H  \nATOM     11  H2x UNK A   0       0.384   0.504  -0.232  1.00  0.00           H  \nATOM     12  H3x UNK A   0      -0.948  -0.602  -0.172  1.00  0.00           H  \nATOM     13  H4x UNK A   0       0.700  -2.278  -1.665  1.00  0.00           H  \nATOM     14  H5x UNK A   0      -0.222  -1.215  -3.737  1.00  0.00           H  \nATOM     15  H6x UNK A   0      -1.488  -0.857  -2.542  1.00  0.00           H  \nATOM     16  H7x UNK A   0      -0.504   1.160  -3.862  1.00  0.00           H  \nATOM     17  H8x UNK A   0      -0.494   1.325  -2.054  1.00  0.00           H  \nATOM     18  H9x UNK A   0       1.916   1.139  -3.684  1.00  0.00           H  \nATOM     19 H10x UNK A   0       1.499   1.772  -2.051  1.00  0.00           H  \nATOM     20 H11x UNK A   0       2.647  -0.303  -1.417  1.00  0.00           H  \nATOM     21 H12x UNK A   0       2.411  -1.057  -2.970  1.00  0.00           H  \nTER      22      UNK A   0\nATOM     23  C1x UNK B   0       3.235  -3.508   3.399  1.00  0.00           C  \nATOM     24  C2x UNK B   0       4.482  -0.955   2.719  1.00  0.00           C  \nATOM     25  C3x UNK B   0       3.019  -2.308   4.200  1.00  0.00           C  \nATOM     26  C4x UNK B   0       4.059  -3.422   2.209  1.00  0.00           C  \nATOM     27  C5x UNK B   0       4.797  -2.182   1.993  1.00  0.00           C  \nATOM     28  C6x UNK B   0       3.704  -1.032   3.956  1.00  0.00           C  \nATOM     29  O1x UNK B   0       5.051   0.276   2.335  1.00  0.00           O  \nATOM     30  C7x UNK B   0       3.506   0.316   4.806  1.00  0.00           C  \nATOM     31  C8x UNK B   0       4.260   1.246   1.493  1.00  0.00           C  \nATOM     32  O2x UNK B   0       3.725   2.223   2.327  1.00  0.00           O  \nATOM     33  C9x UNK B   0       2.460   1.966   2.909  1.00  0.00           C  \nATOM     34 C10x UNK B   0       2.255   1.186   4.138  1.00  0.00           C  \nATOM     35 C11x UNK B   0       0.895   1.114   4.588  1.00  0.00           C  \nATOM     36 C12x UNK B   0       1.368   2.691   2.377  1.00  0.00           C  \nATOM     37 C13x UNK B   0      -0.280   1.820   3.939  1.00  0.00           C  \nATOM     38 C14x UNK B   0       0.035   2.560   2.787  1.00  0.00           C  \nATOM     39  O3x UNK B   0      -0.925   3.340   2.004  1.00  0.00           O  \nATOM     40 C15x UNK B   0      -1.855   1.547   4.271  1.00  0.00           C  \nATOM     41 C16x UNK B   0      -2.502   0.355   3.318  1.00  0.00           C  \nATOM     42 C17x UNK B   0      -2.899   0.735   1.997  1.00  0.00           C  \nATOM     43 C18x UNK B   0      -1.516   2.572   0.909  1.00  0.00           C  \nATOM     44  O4x UNK B   0      -2.861   2.091   1.447  1.00  0.00           O  \nATOM     45  O5x UNK B   0       4.268  -4.507   1.241  1.00  0.00           O  \nATOM     46 C19x UNK B   0       2.401  -4.886   3.657  1.00  0.00           C  \nATOM     47 C20x UNK B   0       1.033  -4.843   2.793  1.00  0.00           C  \nATOM     48  O6x UNK B   0       2.246  -5.692   0.742  1.00  0.00           O  \nATOM     49 C21x UNK B   0       1.060  -5.184   1.375  1.00  0.00           C  \nATOM     50 C22x UNK B   0      -3.265  -0.237   1.048  1.00  0.00           C  \nATOM     51 C23x UNK B   0      -3.315  -1.609   1.328  1.00  0.00           C  \nATOM     52 C24x UNK B   0      -0.101  -5.108   0.646  1.00  0.00           C  \nATOM     53 C25x UNK B   0      -1.375  -4.568   1.102  1.00  0.00           C  \nATOM     54  O7x UNK B   0      -3.765  -2.535   0.287  1.00  0.00           O  \nATOM     55  O8x UNK B   0      -2.473  -4.503   0.125  1.00  0.00           O  \nATOM     56 C26x UNK B   0      -2.723  -3.164  -0.552  1.00  0.00           C  \nATOM     57 C27x UNK B   0      -0.299  -4.299   3.276  1.00  0.00           C  \nATOM     58 C28x UNK B   0      -1.513  -4.228   2.492  1.00  0.00           C  \nATOM     59 C29x UNK B   0      -2.634  -1.049   3.670  1.00  0.00           C  \nATOM     60 C30x UNK B   0      -2.968  -3.691   2.994  1.00  0.00           C  \nATOM     61 C31x UNK B   0      -3.000  -2.101   2.672  1.00  0.00           C  \nATOM     62 C32x UNK B   0       3.204  -4.671   0.200  1.00  0.00           C  \nATOM     63 C33x UNK B   0      -2.528   1.704   5.820  1.00  0.00           C  \nATOM     64 C34x UNK B   0      -3.352   2.997   6.241  1.00  0.00           C  \nATOM     65 C35x UNK B   0      -3.807   3.237   7.748  1.00  0.00           C  \nATOM     66  O9x UNK B   0      -4.196   2.375   8.615  1.00  0.00           O  \nATOM     67 C36x UNK B   0       3.763   0.373   6.483  1.00  0.00           C  \nATOM     68 C37x UNK B   0       5.244   0.527   7.243  1.00  0.00           C  \nATOM     69 C38x UNK B   0       5.343   1.028   8.774  1.00  0.00           C  \nATOM     70 O10x UNK B   0       5.400   0.188   9.724  1.00  0.00           O  \nATOM     71 C39x UNK B   0       2.563  -5.744   5.156  1.00  0.00           C  \nATOM     72 C40x UNK B   0       3.567  -7.078   5.249  1.00  0.00           C  \nATOM     73 C41x UNK B   0       3.299  -8.074   6.558  1.00  0.00           C  \nATOM     74 O11x UNK B   0       4.184  -8.165   7.434  1.00  0.00           O  \nATOM     75 C42x UNK B   0      -3.716  -4.442   4.326  1.00  0.00           C  \nATOM     76 C43x UNK B   0      -5.313  -4.968   4.271  1.00  0.00           C  \nATOM     77 C44x UNK B   0      -5.799  -6.020   5.313  1.00  0.00           C  \nATOM     78 O12x UNK B   0      -6.644  -5.750   6.227  1.00  0.00           O  \nATOM     79 C45x UNK B   0       5.061   1.738   0.163  1.00  0.00           C  \nATOM     80 C46x UNK B   0       6.303   2.521  -2.259  1.00  0.00           C  \nATOM     81 C47x UNK B   0       4.650   2.968  -0.504  1.00  0.00           C  \nATOM     82 C48x UNK B   0       6.092   0.930  -0.456  1.00  0.00           C  \nATOM     83 C49x UNK B   0       6.745   1.281  -1.707  1.00  0.00           C  \nATOM     84 C50x UNK B   0       5.189   3.342  -1.804  1.00  0.00           C  \nATOM     85 C51x UNK B   0       3.662  -4.881  -1.397  1.00  0.00           C  \nATOM     86 C52x UNK B   0       4.383  -5.010  -4.299  1.00  0.00           C  \nATOM     87 C53x UNK B   0       2.869  -5.672  -2.360  1.00  0.00           C  \nATOM     88 C54x UNK B   0       4.879  -4.247  -1.963  1.00  0.00           C  \nATOM     89 C55x UNK B   0       5.222  -4.249  -3.377  1.00  0.00           C  \nATOM     90 C56x UNK B   0       3.154  -5.685  -3.741  1.00  0.00           C  \nATOM     91 C57x UNK B   0      -3.023  -3.212  -2.169  1.00  0.00           C  \nATOM     92 C58x UNK B   0      -3.272  -3.015  -5.049  1.00  0.00           C  \nATOM     93 C59x UNK B   0      -3.817  -2.206  -2.860  1.00  0.00           C  \nATOM     94 C60x UNK B   0      -2.501  -4.211  -3.072  1.00  0.00           C  \nATOM     95 C61x UNK B   0      -2.521  -4.045  -4.534  1.00  0.00           C  \nATOM     96 C62x UNK B   0      -3.881  -1.956  -4.296  1.00  0.00           C  \nATOM     97 C63x UNK B   0      -1.665   3.362  -0.577  1.00  0.00           C  \nATOM     98 C64x UNK B   0      -1.581   4.508  -3.316  1.00  0.00           C  \nATOM     99 C65x UNK B   0      -2.732   3.187  -1.589  1.00  0.00           C  \nATOM    100 C66x UNK B   0      -0.581   4.193  -1.082  1.00  0.00           C  \nATOM    101 C67x UNK B   0      -0.535   4.813  -2.364  1.00  0.00           C  \nATOM    102 C68x UNK B   0      -2.700   3.665  -2.954  1.00  0.00           C  \nATOM    103 O13x UNK B   0       6.457  -3.919  -4.067  1.00  0.00           O  \nATOM    104 O14x UNK B   0      -2.350  -5.113  -5.582  1.00  0.00           O  \nATOM    105 O15x UNK B   0      -4.995  -1.240  -4.919  1.00  0.00           O  \nATOM    106 O16x UNK B   0       8.087   0.749  -2.073  1.00  0.00           O  \nATOM    107 O17x UNK B   0       5.278   4.693  -2.302  1.00  0.00           O  \nATOM    108 O18x UNK B   0      -3.880   3.779  -3.785  1.00  0.00           O  \nATOM    109 O19x UNK B   0       0.213   6.054  -2.706  1.00  0.00           O  \nATOM    110 C69x UNK B   0      -1.106  -5.938  -5.612  1.00  0.00           C  \nATOM    111 C70x UNK B   0       1.024  -7.761  -6.068  1.00  0.00           C  \nATOM    112 C71x UNK B   0       0.151  -5.755  -4.890  1.00  0.00           C  \nATOM    113 C72x UNK B   0      -1.207  -7.026  -6.591  1.00  0.00           C  \nATOM    114 C73x UNK B   0      -0.209  -8.010  -6.772  1.00  0.00           C  \nATOM    115 C74x UNK B   0       1.229  -6.718  -5.113  1.00  0.00           C  \nATOM    116 O20x UNK B   0       2.609  -6.746  -4.595  1.00  0.00           O  \nATOM    117 C75x UNK B   0       8.156  -0.589  -2.720  1.00  0.00           C  \nATOM    118 C76x UNK B   0       8.815  -3.139  -4.017  1.00  0.00           C  \nATOM    119 C77x UNK B   0       9.462  -0.891  -3.292  1.00  0.00           C  \nATOM    120 C78x UNK B   0       7.127  -1.622  -2.924  1.00  0.00           C  \nATOM    121 C79x UNK B   0       7.428  -2.932  -3.522  1.00  0.00           C  \nATOM    122 C80x UNK B   0       9.834  -2.130  -3.894  1.00  0.00           C  \nATOM    123 C81x UNK B   0      -4.945   0.188  -5.061  1.00  0.00           C  \nATOM    124 C82x UNK B   0      -5.469   2.966  -5.469  1.00  0.00           C  \nATOM    125 C83x UNK B   0      -5.860   0.666  -6.108  1.00  0.00           C  \nATOM    126 C84x UNK B   0      -4.293   1.184  -4.231  1.00  0.00           C  \nATOM    127 C85x UNK B   0      -4.546   2.601  -4.417  1.00  0.00           C  \nATOM    128 C86x UNK B   0      -6.072   2.058  -6.385  1.00  0.00           C  \nATOM    129 C87x UNK B   0      -7.077   2.480  -7.447  1.00  0.00           C  \nATOM    130 O21x UNK B   0      -7.713   1.638  -8.125  1.00  0.00           O  \nATOM    131 C88x UNK B   0       3.933   9.025  -4.155  1.00  0.00           C  \nATOM    132 O22x UNK B   0       5.110   9.359  -4.371  1.00  0.00           O  \nATOM    133 C89x UNK B   0      11.313  -2.419  -4.397  1.00  0.00           C  \nATOM    134 O23x UNK B   0      11.747  -3.507  -4.949  1.00  0.00           O  \nATOM    135 O24x UNK B   0      -4.033   4.473   8.099  1.00  0.00           O  \nATOM    136 O25x UNK B   0      -5.588  -7.272   5.023  1.00  0.00           O  \nATOM    137 O26x UNK B   0       2.508  -9.043   6.386  1.00  0.00           O  \nATOM    138 C90x UNK B   0      -0.331  -9.091  -7.912  1.00  0.00           C  \nATOM    139 O27x UNK B   0       0.594  -9.779  -8.388  1.00  0.00           O  \nATOM    140 O28x UNK B   0       3.035   9.779  -4.618  1.00  0.00           O  \nATOM    141 O29x UNK B   0      -7.170   3.687  -7.849  1.00  0.00           O  \nATOM    142 O30x UNK B   0      -1.483  -9.373  -8.304  1.00  0.00           O  \nATOM    143 O31x UNK B   0      12.163  -1.501  -4.287  1.00  0.00           O  \nATOM    144 O32x UNK B   0       5.722   2.232   9.064  1.00  0.00           O  \nATOM    145 C91x UNK B   0       4.111   5.436  -2.684  1.00  0.00           C  \nATOM    146 C92x UNK B   0       2.163   7.350  -3.327  1.00  0.00           C  \nATOM    147 C93x UNK B   0       2.694   5.142  -2.511  1.00  0.00           C  \nATOM    148 C94x UNK B   0       4.449   6.679  -3.241  1.00  0.00           C  \nATOM    149 C95x UNK B   0       3.521   7.656  -3.564  1.00  0.00           C  \nATOM    150 C96x UNK B   0       1.710   6.113  -2.763  1.00  0.00           C  \nATOM    151  H1x UNK B   0       2.377  -2.294   5.070  1.00  0.00           H  \nATOM    152  H2x UNK B   0       5.417  -2.092   1.111  1.00  0.00           H  \nATOM    153  H3x UNK B   0       4.406   0.887   4.579  1.00  0.00           H  \nATOM    154  H4x UNK B   0       3.368   0.692   1.200  1.00  0.00           H  \nATOM    155  H5x UNK B   0       0.611   0.507   5.437  1.00  0.00           H  \nATOM    156  H6x UNK B   0       1.623   3.327   1.540  1.00  0.00           H  \nATOM    157  H7x UNK B   0      -2.326   2.459   3.904  1.00  0.00           H  \nATOM    158  H8x UNK B   0      -0.912   1.691   0.691  1.00  0.00           H  \nATOM    159  H9x UNK B   0       2.976  -5.633   3.110  1.00  0.00           H  \nATOM    160 H10x UNK B   0      -3.513   0.092   0.048  1.00  0.00           H  \nATOM    161 H11x UNK B   0      -0.105  -5.429  -0.387  1.00  0.00           H  \nATOM    162 H12x UNK B   0      -1.769  -2.638  -0.532  1.00  0.00           H  \nATOM    163 H13x UNK B   0      -0.409  -4.020   4.316  1.00  0.00           H  \nATOM    164 H14x UNK B   0      -2.293  -1.422   4.626  1.00  0.00           H  \nATOM    165 H15x UNK B   0      -3.627  -4.119   2.239  1.00  0.00           H  \nATOM    166 H16x UNK B   0       2.662  -3.729   0.284  1.00  0.00           H  \nATOM    167 H17x UNK B   0      -3.120   0.852   6.154  1.00  0.00           H  \nATOM    168 H18x UNK B   0      -1.780   1.728   6.613  1.00  0.00           H  \nATOM    169 H19x UNK B   0      -2.701   3.837   6.000  1.00  0.00           H  \nATOM    170 H20x UNK B   0      -4.278   3.099   5.675  1.00  0.00           H  \nATOM    171 H21x UNK B   0       3.193  -0.430   6.950  1.00  0.00           H  \nATOM    172 H22x UNK B   0       3.279   1.265   6.883  1.00  0.00           H  \nATOM    173 H23x UNK B   0       5.849  -0.380   7.220  1.00  0.00           H  \nATOM    174 H24x UNK B   0       5.753   1.276   6.635  1.00  0.00           H  \nATOM    175 H25x UNK B   0       2.905  -5.082   5.951  1.00  0.00           H  \nATOM    176 H26x UNK B   0       1.563  -6.109   5.391  1.00  0.00           H  \nATOM    177 H27x UNK B   0       3.456  -7.622   4.311  1.00  0.00           H  \nATOM    178 H28x UNK B   0       4.582  -6.682   5.278  1.00  0.00           H  \nATOM    179 H29x UNK B   0      -3.197  -5.397   4.412  1.00  0.00           H  \nATOM    180 H30x UNK B   0      -3.507  -3.883   5.239  1.00  0.00           H  \nATOM    181 H31x UNK B   0      -5.888  -4.057   4.439  1.00  0.00           H  \nATOM    182 H32x UNK B   0      -5.565  -5.427   3.315  1.00  0.00           H  \nATOM    183 H33x UNK B   0       6.871   2.882  -3.107  1.00  0.00           H  \nATOM    184 H34x UNK B   0       3.921   3.592  -0.004  1.00  0.00           H  \nATOM    185 H35x UNK B   0       6.431   0.076   0.115  1.00  0.00           H  \nATOM    186 H36x UNK B   0       4.748  -5.054  -5.317  1.00  0.00           H  \nATOM    187 H37x UNK B   0       1.986  -6.232  -2.081  1.00  0.00           H  \nATOM    188 H38x UNK B   0       5.538  -3.848  -1.205  1.00  0.00           H  \nATOM    189 H39x UNK B   0      -3.509  -2.996  -6.104  1.00  0.00           H  \nATOM    190 H40x UNK B   0      -4.181  -1.397  -2.241  1.00  0.00           H  \nATOM    191 H41x UNK B   0      -2.074  -5.125  -2.680  1.00  0.00           H  \nATOM    192 H42x UNK B   0      -1.585   5.114  -4.213  1.00  0.00           H  \nATOM    193 H43x UNK B   0      -3.630   2.682  -1.260  1.00  0.00           H  \nATOM    194 H44x UNK B   0       0.297   4.462  -0.511  1.00  0.00           H  \nATOM    195 H45x UNK B   0       1.824  -8.473  -6.215  1.00  0.00           H  \nATOM    196 H46x UNK B   0       0.217  -4.892  -4.241  1.00  0.00           H  \nATOM    197 H47x UNK B   0      -2.158  -7.147  -7.092  1.00  0.00           H  \nATOM    198 H48x UNK B   0       9.148  -4.075  -4.444  1.00  0.00           H  \nATOM    199 H49x UNK B   0      10.187  -0.088  -3.306  1.00  0.00           H  \nATOM    200 H50x UNK B   0       6.098  -1.384  -2.691  1.00  0.00           H  \nATOM    201 H51x UNK B   0      -5.730   4.003  -5.629  1.00  0.00           H  \nATOM    202 H52x UNK B   0      -6.422  -0.051  -6.692  1.00  0.00           H  \nATOM    203 H53x UNK B   0      -3.577   0.819  -3.505  1.00  0.00           H  \nATOM    204 H54x UNK B   0       1.460   8.138  -3.560  1.00  0.00           H  \nATOM    205 H55x UNK B   0       2.476   4.201  -2.023  1.00  0.00           H  \nATOM    206 H56x UNK B   0       5.504   6.854  -3.410  1.00  0.00           H  \nTER     207      UNK B   0\nENDMDL\nCONECT    1    2   10\nCONECT    2    1    3    9\nCONECT    3    2    4   11   12\nCONECT    4    3    8    5   13\nCONECT    5    4    6   14   15\nCONECT    6    5    7   16   17\nCONECT    7    6    8   18   19\nCONECT    8    4    7   20   21\nCONECT    9    2\nCONECT   10    1\nCONECT   11    3\nCONECT   12    3\nCONECT   13    4\nCONECT   14    5\nCONECT   15    5\nCONECT   16    6\nCONECT   17    6\nCONECT   18    7\nCONECT   19    7\nCONECT   20    8\nCONECT   21    8\nCONECT   23   25   26   46\nCONECT   24   27   28   29\nCONECT   25   23   28  151\nCONECT   26   23   27   45\nCONECT   27   24   26  152\nCONECT   28   24   25   30\nCONECT   29   24   31\nCONECT   30   28   34   67  153\nCONECT   31   29   32   79  154\nCONECT   32   31   33\nCONECT   33   32   34   36\nCONECT   34   30   33   35\nCONECT   35   34   37  155\nCONECT   36   33   38  156\nCONECT   37   35   38   40\nCONECT   38   36   37   39\nCONECT   39   38   43\nCONECT   40   37   41   63  157\nCONECT   41   40   42   59\nCONECT   42   41   44   50\nCONECT   43   39   44   97  158\nCONECT   44   42   43\nCONECT   45   26   62\nCONECT   46   23   47   71  159\nCONECT   47   46   49   57\nCONECT   48   49   62\nCONECT   49   47   48   52\nCONECT   50   42   51  160\nCONECT   51   50   54   61\nCONECT   52   49   53  161\nCONECT   53   52   55   58\nCONECT   54   51   56\nCONECT   55   53   56\nCONECT   56   54   55   91  162\nCONECT   57   47   58  163\nCONECT   58   53   57   60\nCONECT   59   41   61  164\nCONECT   60   58   61   75  165\nCONECT   61   51   59   60\nCONECT   62   45   48   85  166\nCONECT   63   40   64  167  168\nCONECT   64   63   65  169  170\nCONECT   65   64   66  135\nCONECT   66   65\nCONECT   67   30   68  171  172\nCONECT   68   67   69  173  174\nCONECT   69   68   70  144\nCONECT   70   69\nCONECT   71   46   72  175  176\nCONECT   72   71   73  177  178\nCONECT   73   72   74  137\nCONECT   74   73\nCONECT   75   60   76  179  180\nCONECT   76   75   77  181  182\nCONECT   77   76   78  136\nCONECT   78   77\nCONECT   79   31   81   82\nCONECT   80   83   84  183\nCONECT   81   79   84  184\nCONECT   82   79   83  185\nCONECT   83   80   82  106\nCONECT   84   80   81  107\nCONECT   85   62   87   88\nCONECT   86   89   90  186\nCONECT   87   85   90  187\nCONECT   88   85   89  188\nCONECT   89   86   88  103\nCONECT   90   86   87  116\nCONECT   91   56   93   94\nCONECT   92   95   96  189\nCONECT   93   91   96  190\nCONECT   94   91   95  191\nCONECT   95   92   94  104\nCONECT   96   92   93  105\nCONECT   97   43   99  100\nCONECT   98  101  102  192\nCONECT   99   97  102  193\nCONECT  100   97  101  194\nCONECT  101   98  100  109\nCONECT  102   98   99  108\nCONECT  103   89  121\nCONECT  104   95  110\nCONECT  105   96  123\nCONECT  106   83  117\nCONECT  107   84  145\nCONECT  108  102  127\nCONECT  109  101  150\nCONECT  110  104  112  113\nCONECT  111  114  115  195\nCONECT  112  110  115  196\nCONECT  113  110  114  197\nCONECT  114  111  113  138\nCONECT  115  111  112  116\nCONECT  116   90  115\nCONECT  117  106  119  120\nCONECT  118  121  122  198\nCONECT  119  117  122  199\nCONECT  120  117  121  200\nCONECT  121  103  118  120\nCONECT  122  118  119  133\nCONECT  123  105  125  126\nCONECT  124  127  128  201\nCONECT  125  123  128  202\nCONECT  126  123  127  203\nCONECT  127  108  124  126\nCONECT  128  124  125  129\nCONECT  129  128  130  141\nCONECT  130  129\nCONECT  131  132  140  149\nCONECT  132  131\nCONECT  133  122  134  143\nCONECT  134  133\nCONECT  135   65\nCONECT  136   77\nCONECT  137   73\nCONECT  138  114  139  142\nCONECT  139  138\nCONECT  140  131\nCONECT  141  129\nCONECT  142  138\nCONECT  143  133\nCONECT  144   69\nCONECT  145  107  147  148\nCONECT  146  149  150  204\nCONECT  147  145  150  205\nCONECT  148  145  149  206\nCONECT  149  131  146  148\nCONECT  150  109  146  147\nCONECT  151   25\nCONECT  152   27\nCONECT  153   30\nCONECT  154   31\nCONECT  155   35\nCONECT  156   36\nCONECT  157   40\nCONECT  158   43\nCONECT  159   46\nCONECT  160   50\nCONECT  161   52\nCONECT  162   56\nCONECT  163   57\nCONECT  164   59\nCONECT  165   60\nCONECT  166   62\nCONECT  167   63\nCONECT  168   63\nCONECT  169   64\nCONECT  170   64\nCONECT  171   67\nCONECT  172   67\nCONECT  173   68\nCONECT  174   68\nCONECT  175   71\nCONECT  176   71\nCONECT  177   72\nCONECT  178   72\nCONECT  179   75\nCONECT  180   75\nCONECT  181   76\nCONECT  182   76\nCONECT  183   80\nCONECT  184   81\nCONECT  185   82\nCONECT  186   86\nCONECT  187   87\nCONECT  188   88\nCONECT  189   92\nCONECT  190   93\nCONECT  191   94\nCONECT  192   98\nCONECT  193   99\nCONECT  194  100\nCONECT  195  111\nCONECT  196  112\nCONECT  197  113\nCONECT  198  118\nCONECT  199  119\nCONECT  200  120\nCONECT  201  124\nCONECT  202  125\nCONECT  203  126\nCONECT  204  146\nCONECT  205  147\nCONECT  206  148\nEND\n",
           "type": "blob"
          }
         ],
         "kwargs": {
          "defaultRepresentation": true,
          "ext": "pdb",
          "name": "nglview.adaptor.MDTrajTrajectory"
         },
         "methodName": "loadFile",
         "reconstruc_color_scheme": false,
         "target": "Stage",
         "type": "call_method"
        }
       ],
       "_ngl_original_stage_parameters": {},
       "_ngl_repr_dict": {},
       "_ngl_serialize": false,
       "_ngl_version": "",
       "_ngl_view_id": [],
       "_player_dict": {},
       "_scene_position": {},
       "_scene_rotation": {},
       "_synced_model_ids": [],
       "_synced_repr_model_ids": [],
       "_view_count": null,
       "_view_height": "",
       "_view_module": "nglview-js-widgets",
       "_view_module_version": "3.0.8",
       "_view_name": "NGLView",
       "_view_width": "",
       "background": "white",
       "frame": 0,
       "gui_style": null,
       "layout": "IPY_MODEL_5100a94a62774864a7802e60b32c5332",
       "max_frame": 69,
       "n_components": 0,
       "picked": {},
       "tabbable": null,
       "tooltip": null
      }
     },
     "efca0ea7ed8e417691ec8f45bf1511f0": {
      "model_module": "@jupyter-widgets/controls",
      "model_module_version": "2.0.0",
      "model_name": "LinkModel",
      "state": {
       "_model_module": "@jupyter-widgets/controls",
       "_model_module_version": "2.0.0",
       "_model_name": "LinkModel",
       "_view_count": null,
       "_view_module": "@jupyter-widgets/controls",
       "_view_module_version": "2.0.0",
       "_view_name": null,
       "source": [
        "IPY_MODEL_8108ac5b6621445ea89c1a18703baf73",
        "value"
       ],
       "target": [
        "IPY_MODEL_3582b00d314749659ea0665cf4b13d83",
        "frame"
       ]
      }
     },
     "f15eb486e3004a9e948c1b540949bb5c": {
      "model_module": "@jupyter-widgets/base",
      "model_module_version": "2.0.0",
      "model_name": "LayoutModel",
      "state": {
       "_model_module": "@jupyter-widgets/base",
       "_model_module_version": "2.0.0",
       "_model_name": "LayoutModel",
       "_view_count": null,
       "_view_module": "@jupyter-widgets/base",
       "_view_module_version": "2.0.0",
       "_view_name": "LayoutView",
       "align_content": null,
       "align_items": null,
       "align_self": null,
       "border_bottom": null,
       "border_left": null,
       "border_right": null,
       "border_top": null,
       "bottom": null,
       "display": null,
       "flex": null,
       "flex_flow": null,
       "grid_area": null,
       "grid_auto_columns": null,
       "grid_auto_flow": null,
       "grid_auto_rows": null,
       "grid_column": null,
       "grid_gap": null,
       "grid_row": null,
       "grid_template_areas": null,
       "grid_template_columns": null,
       "grid_template_rows": null,
       "height": null,
       "justify_content": null,
       "justify_items": null,
       "left": null,
       "margin": null,
       "max_height": null,
       "max_width": null,
       "min_height": null,
       "min_width": null,
       "object_fit": null,
       "object_position": null,
       "order": null,
       "overflow": null,
       "padding": null,
       "right": null,
       "top": null,
       "visibility": null,
       "width": null
      }
     },
     "f259d01cf55e42bbb0d44833cdb0bab1": {
      "model_module": "@jupyter-widgets/controls",
      "model_module_version": "2.0.0",
      "model_name": "DescriptionStyleModel",
      "state": {
       "_model_module": "@jupyter-widgets/controls",
       "_model_module_version": "2.0.0",
       "_model_name": "DescriptionStyleModel",
       "_view_count": null,
       "_view_module": "@jupyter-widgets/base",
       "_view_module_version": "2.0.0",
       "_view_name": "StyleView",
       "description_width": ""
      }
     }
    },
    "version_major": 2,
    "version_minor": 0
   }
  }
 },
 "nbformat": 4,
 "nbformat_minor": 5
}
