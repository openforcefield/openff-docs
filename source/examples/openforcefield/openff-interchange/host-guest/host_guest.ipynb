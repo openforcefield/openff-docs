{
 "cells": [
  {
   "cell_type": "markdown",
   "id": "0",
   "metadata": {
    "tags": []
   },
   "source": [
    "### Host-guest systems\n",
    "\n",
    "This is a refresh of [a notebook](https://github.com/openforcefield/openff-toolkit/blob/master/examples/deprecated/host_guest_simulation/smirnoff_host_guest.ipynb) written by David Mobley with the following modifications:\n",
    "* A pre-docked guest is used `docked_guest.mol2` was saved and converted to `guest.sdf`)\n",
    "* Mol2 files converted to SDF (`OA.mol2` was converted to `host.sdf`)\n",
    "\n",
    "In this notebook, a prepared host-guest complex is loaded "
   ]
  },
  {
   "cell_type": "code",
   "execution_count": 1,
   "id": "1",
   "metadata": {
    "execution": {
     "iopub.execute_input": "2024-07-23T03:31:30.777572Z",
     "iopub.status.busy": "2024-07-23T03:31:30.777366Z",
     "iopub.status.idle": "2024-07-23T03:31:33.088103Z",
     "shell.execute_reply": "2024-07-23T03:31:33.087377Z"
    }
   },
   "outputs": [],
   "source": [
    "from openff.toolkit import ForceField, Molecule, Topology"
   ]
  },
  {
   "cell_type": "markdown",
   "id": "2",
   "metadata": {},
   "source": [
    "Just like [any other molecule](https://docs.openforcefield.org/projects/toolkit/en/stable/users/molecule_cookbook.html), we begin by loading representations (in this case, files on disk) into `Molecule` objects."
   ]
  },
  {
   "cell_type": "code",
   "execution_count": 2,
   "id": "3",
   "metadata": {
    "execution": {
     "iopub.execute_input": "2024-07-23T03:31:33.092979Z",
     "iopub.status.busy": "2024-07-23T03:31:33.091624Z",
     "iopub.status.idle": "2024-07-23T03:31:33.220990Z",
     "shell.execute_reply": "2024-07-23T03:31:33.220205Z"
    }
   },
   "outputs": [],
   "source": [
    "guest = Molecule.from_file(\"guest.sdf\")\n",
    "host = Molecule.from_file(\"host.sdf\")"
   ]
  },
  {
   "cell_type": "markdown",
   "id": "4",
   "metadata": {},
   "source": [
    "Again, like many other workflows, we \"combine\" multiple `Molecule`s into a single `Topology` object. We can also visualize the result to ensure the guest looks reasonably docked into the host. (Use your cursor to move the complex around.)"
   ]
  },
  {
   "cell_type": "code",
   "execution_count": 3,
   "id": "5",
   "metadata": {
    "execution": {
     "iopub.execute_input": "2024-07-23T03:31:33.224328Z",
     "iopub.status.busy": "2024-07-23T03:31:33.224024Z",
     "iopub.status.idle": "2024-07-23T03:31:33.452174Z",
     "shell.execute_reply": "2024-07-23T03:31:33.451485Z"
    }
   },
   "outputs": [
    {
     "data": {
      "application/vnd.jupyter.widget-view+json": {
       "model_id": "6ed46a9a53e048fe8d6e94088aeb87b7",
       "version_major": 2,
       "version_minor": 0
      },
      "text/plain": []
     },
     "metadata": {},
     "output_type": "display_data"
    },
    {
     "data": {
      "application/vnd.jupyter.widget-view+json": {
       "model_id": "a022063d0815400884ea497602c97f93",
       "version_major": 2,
       "version_minor": 0
      },
      "text/plain": [
       "NGLWidget()"
      ]
     },
     "metadata": {},
     "output_type": "display_data"
    }
   ],
   "source": [
    "docked_topology = Topology.from_molecules([guest, host])\n",
    "docked_topology.visualize()"
   ]
  },
  {
   "cell_type": "markdown",
   "id": "6",
   "metadata": {},
   "source": [
    "We can safely use Sage or a similar small molecule force field to parameterize the guest. But the host is large (128 heavy atoms, 184 atoms total) and charge assignment using AM1-BCC may take tens of minutes to hours. We can instead use [OpenFF NAGL](https://github.com/openforcefield/openff-nagl), which uses a graph-convolutional neural network (GCNN or GNN) to mimic AM1-BCC partial charges (specifically the ELF10 variant). Not counting the time it takes to import the Python module and load the model, charge assignment for the host should take on the order of hundreds of milliseconds. (Larger polymers may take slightly longer but the scaling is sub-linear with number of atoms!)\n",
    "\n",
    "For more on GCNNs, see [Espaloma](https://github.com/choderalab/espaloma) and its associated paper."
   ]
  },
  {
   "cell_type": "code",
   "execution_count": 4,
   "id": "7",
   "metadata": {
    "execution": {
     "iopub.execute_input": "2024-07-23T03:31:33.455168Z",
     "iopub.status.busy": "2024-07-23T03:31:33.454724Z",
     "iopub.status.idle": "2024-07-23T03:31:39.336368Z",
     "shell.execute_reply": "2024-07-23T03:31:39.335673Z"
    }
   },
   "outputs": [
    {
     "name": "stderr",
     "output_type": "stream",
     "text": [
      "DGL backend not selected or invalid.  Assuming PyTorch for now.\n"
     ]
    },
    {
     "name": "stdout",
     "output_type": "stream",
     "text": [
      "Setting the default backend to \"pytorch\". You can change it in the ~/.dgl/config.json file or export the DGLBACKEND environment variable.  Valid options are: pytorch, mxnet, tensorflow (all lowercase)\n"
     ]
    },
    {
     "name": "stderr",
     "output_type": "stream",
     "text": [
      "/home/runner/micromamba/envs/openff-docs-examples/lib/python3.10/site-packages/pandas/core/computation/expressions.py:21: UserWarning: Pandas requires version '2.8.4' or newer of 'numexpr' (version '2.7.3' currently installed).\n",
      "  from pandas.core.computation.check import NUMEXPR_INSTALLED\n"
     ]
    },
    {
     "data": {
      "text/html": [
       "<table><tbody><tr><th>Magnitude</th><td style='text-align:left;'><pre>[-0.093 0.013 -0.113 0.013 -0.283 -0.093 -0.441 0.047 0.225 -0.441 0.013<br> -0.093 -0.113 -0.283 -0.093 0.013 -0.441 0.047 -0.093 0.013 0.225 -0.441<br> -0.441 0.047 -0.093 -0.441 0.013 -0.283 0.013 -0.283 0.013 -0.441 -0.441<br> 0.225 -0.113 -0.093 -0.113 0.047 -0.093 0.225 -0.179 -0.12 0.098 -0.474<br> -0.179 -0.12 0.098 -0.474 -0.179 -0.12 0.098 -0.474 -0.179 -0.12 0.098<br> -0.474 -0.171 -0.316 -0.278 -0.278 0.095 0.095 -0.171 -0.316 -0.278<br> -0.278 0.095 0.095 -0.171 -0.316 -0.278 -0.278 0.095 0.095 -0.171 -0.316<br> -0.278 -0.278 0.095 0.095 -0.259 -0.259 -0.259 -0.259 -0.259 -0.259<br> -0.259 -0.073 -0.183 -0.168 -0.183 -0.207 -0.073 -0.259 -0.073 -0.183<br> -0.183 -0.168 -0.073 -0.207 -0.073 -0.183 -0.183 -0.168 -0.073 -0.207<br> 0.285 -0.635 0.285 -0.635 0.285 -0.635 -0.474 -0.474 -0.474 0.285 -0.635<br> -0.635 -0.635 -0.635 -0.635 -0.474 -0.073 -0.183 -0.168 -0.183 -0.207<br> -0.073 0.023 0.057 0.047 -0.047 0.023 0.057 0.047 -0.047 0.047 0.057<br> 0.057 -0.047 0.023 0.023 0.047 -0.047 -0.213 -0.213 -0.071 -0.071 -0.213<br> -0.213 -0.071 -0.071 -0.213 -0.213 -0.071 -0.071 -0.213 -0.213 -0.071<br> -0.071 0.058 0.046 0.046 0.058 0.046 0.046 0.058 0.046 0.046 0.058 0.046<br> 0.046 -0.049 -0.008 -0.049 -0.049 -0.049 -0.008 -0.049 -0.049 -0.008<br> -0.049 -0.008 -0.049]</pre></td></tr><tr><th>Units</th><td style='text-align:left;'>elementary_charge</td></tr></tbody></table>"
      ],
      "text/latex": [
       "$\\begin{pmatrix} &  &  &  &  &  &  &  &  &  &  &  &  &  &  &  &  &  &  &  &  &  &  &  &  &  &  &  &  &  &  &  &  &  &  &  &  &  &  &  &  &  &  &  &  &  &  &  &  &  &  &  &  &  &  &  &  &  &  &  &  &  &  &  &  &  &  &  &  &  &  &  &  &  &  &  &  &  &  &  &  &  &  &  &  &  &  &  &  &  &  &  &  &  &  &  &  &  &  &  &  &  &  &  &  &  &  &  &  &  &  &  &  &  &  &  &  &  &  &  &  &  &  &  &  &  &  &  &  &  &  &  &  &  &  &  &  &  &  &  &  &  &  &  &  &  &  &  &  &  &  &  &  &  &  &  &  &  &  &  &  &  &  &  &  &  &  &  &  &  &  &  &  &  &  &  &  &  &  &  &  &  &  & \\end{pmatrix}\\ \\mathrm{elementary\\_charge}$"
      ],
      "text/plain": [
       "array([-0.093,  0.013, -0.113,  0.013, -0.283, -0.093, -0.441,  0.047,\n",
       "        0.225, -0.441,  0.013, -0.093, -0.113, -0.283, -0.093,  0.013,\n",
       "       -0.441,  0.047, -0.093,  0.013,  0.225, -0.441, -0.441,  0.047,\n",
       "       -0.093, -0.441,  0.013, -0.283,  0.013, -0.283,  0.013, -0.441,\n",
       "       -0.441,  0.225, -0.113, -0.093, -0.113,  0.047, -0.093,  0.225,\n",
       "       -0.179, -0.12 ,  0.098, -0.474, -0.179, -0.12 ,  0.098, -0.474,\n",
       "       -0.179, -0.12 ,  0.098, -0.474, -0.179, -0.12 ,  0.098, -0.474,\n",
       "       -0.171, -0.316, -0.278, -0.278,  0.095,  0.095, -0.171, -0.316,\n",
       "       -0.278, -0.278,  0.095,  0.095, -0.171, -0.316, -0.278, -0.278,\n",
       "        0.095,  0.095, -0.171, -0.316, -0.278, -0.278,  0.095,  0.095,\n",
       "       -0.259, -0.259, -0.259, -0.259, -0.259, -0.259, -0.259, -0.073,\n",
       "       -0.183, -0.168, -0.183, -0.207, -0.073, -0.259, -0.073, -0.183,\n",
       "       -0.183, -0.168, -0.073, -0.207, -0.073, -0.183, -0.183, -0.168,\n",
       "       -0.073, -0.207,  0.285, -0.635,  0.285, -0.635,  0.285, -0.635,\n",
       "       -0.474, -0.474, -0.474,  0.285, -0.635, -0.635, -0.635, -0.635,\n",
       "       -0.635, -0.474, -0.073, -0.183, -0.168, -0.183, -0.207, -0.073,\n",
       "        0.023,  0.057,  0.047, -0.047,  0.023,  0.057,  0.047, -0.047,\n",
       "        0.047,  0.057,  0.057, -0.047,  0.023,  0.023,  0.047, -0.047,\n",
       "       -0.213, -0.213, -0.071, -0.071, -0.213, -0.213, -0.071, -0.071,\n",
       "       -0.213, -0.213, -0.071, -0.071, -0.213, -0.213, -0.071, -0.071,\n",
       "        0.058,  0.046,  0.046,  0.058,  0.046,  0.046,  0.058,  0.046,\n",
       "        0.046,  0.058,  0.046,  0.046, -0.049, -0.008, -0.049, -0.049,\n",
       "       -0.049, -0.008, -0.049, -0.049, -0.008, -0.049, -0.008, -0.049]) <Unit('elementary_charge')>"
      ]
     },
     "execution_count": 4,
     "metadata": {},
     "output_type": "execute_result"
    }
   ],
   "source": [
    "from openff.toolkit.utils.nagl_wrapper import NAGLToolkitWrapper\n",
    "\n",
    "NAGLToolkitWrapper().assign_partial_charges(\n",
    "    molecule=host,\n",
    "    partial_charge_method=\"openff-gnn-am1bcc-0.1.0-rc.1.pt\",\n",
    ")\n",
    "\n",
    "host.partial_charges.round(3)"
   ]
  },
  {
   "cell_type": "markdown",
   "id": "8",
   "metadata": {},
   "source": [
    "Now that we have partial charges for the host, we can wire it through parameterization using the `charge_from_molecules` argument. Interchange will recognize these charges and not attempt running AM1-BCC for the host, though it will use to assign charges to the guest molecule."
   ]
  },
  {
   "cell_type": "code",
   "execution_count": 5,
   "id": "9",
   "metadata": {
    "execution": {
     "iopub.execute_input": "2024-07-23T03:31:39.339755Z",
     "iopub.status.busy": "2024-07-23T03:31:39.339039Z",
     "iopub.status.idle": "2024-07-23T03:31:58.180836Z",
     "shell.execute_reply": "2024-07-23T03:31:58.180208Z"
    }
   },
   "outputs": [],
   "source": [
    "sage = ForceField(\"openff-2.1.0.offxml\")\n",
    "\n",
    "out = sage.create_interchange(topology=docked_topology, charge_from_molecules=[host])"
   ]
  },
  {
   "cell_type": "markdown",
   "id": "10",
   "metadata": {},
   "source": [
    "Now that the `Interchange` object is created, you can run simulations in [a number of engines](https://docs.openforcefield.org/projects/interchange/en/stable/using/output.html). Here we'll run a quick energy minimization and then a thirty-second OpenMM simulation. The result is a trajectory, viewable with NGLview, that shows a few tens or hundreds of frames of this host-guest complex dancing around in vacuo.\n",
    "\n",
    "None of this workflow required OpenMM until now - you can swap these steps out for analogous operations in GROMACS, Amber, or LAMMPS!"
   ]
  },
  {
   "cell_type": "code",
   "execution_count": 6,
   "id": "11",
   "metadata": {
    "execution": {
     "iopub.execute_input": "2024-07-23T03:31:58.183825Z",
     "iopub.status.busy": "2024-07-23T03:31:58.183348Z",
     "iopub.status.idle": "2024-07-23T03:31:59.078670Z",
     "shell.execute_reply": "2024-07-23T03:31:59.078002Z"
    }
   },
   "outputs": [],
   "source": [
    "import openmm\n",
    "import openmm.app\n",
    "import openmm.unit\n",
    "\n",
    "simulation = out.to_openmm_simulation(\n",
    "    openmm.LangevinMiddleIntegrator(\n",
    "        300.0 * openmm.unit.kelvin,\n",
    "        1.0 / openmm.unit.picosecond,\n",
    "        2.0 * openmm.unit.femtosecond,\n",
    "    )\n",
    ")\n",
    "\n",
    "simulation.minimizeEnergy()\n",
    "\n",
    "dcd_reporter = openmm.app.DCDReporter(\"trajectory.dcd\", 1000)\n",
    "simulation.reporters.append(dcd_reporter)\n",
    "\n",
    "simulation.context.setVelocitiesToTemperature(300.0 * openmm.unit.kelvin)"
   ]
  },
  {
   "cell_type": "code",
   "execution_count": 7,
   "id": "12",
   "metadata": {
    "execution": {
     "iopub.execute_input": "2024-07-23T03:31:59.081603Z",
     "iopub.status.busy": "2024-07-23T03:31:59.081346Z",
     "iopub.status.idle": "2024-07-23T03:32:29.094405Z",
     "shell.execute_reply": "2024-07-23T03:32:29.087362Z"
    }
   },
   "outputs": [],
   "source": [
    "simulation.runForClockTime(0.5 * openmm.unit.minute)"
   ]
  },
  {
   "cell_type": "code",
   "execution_count": 8,
   "id": "13",
   "metadata": {
    "execution": {
     "iopub.execute_input": "2024-07-23T03:32:29.097922Z",
     "iopub.status.busy": "2024-07-23T03:32:29.097646Z",
     "iopub.status.idle": "2024-07-23T03:32:29.268296Z",
     "shell.execute_reply": "2024-07-23T03:32:29.267395Z"
    }
   },
   "outputs": [
    {
     "data": {
      "application/vnd.jupyter.widget-view+json": {
       "model_id": "bf41fe1325c440a1986e38df8759479c",
       "version_major": 2,
       "version_minor": 0
      },
      "text/plain": [
       "NGLWidget(max_frame=40)"
      ]
     },
     "metadata": {},
     "output_type": "display_data"
    }
   ],
   "source": [
    "import mdtraj\n",
    "import nglview\n",
    "\n",
    "nglview.show_mdtraj(\n",
    "    mdtraj.load(\n",
    "        \"trajectory.dcd\",\n",
    "        top=mdtraj.Topology.from_openmm(\n",
    "            out.to_openmm_topology(),\n",
    "        ),\n",
    "    )\n",
    ")"
   ]
  }
 ],
 "metadata": {
  "cookbook_cache_branch": "_cookbook_data_PR14",
  "kernelspec": {
   "display_name": "Python 3 (ipykernel)",
   "language": "python",
   "name": "python3"
  },
  "language_info": {
   "codemirror_mode": {
    "name": "ipython",
    "version": 3
   },
   "file_extension": ".py",
   "mimetype": "text/x-python",
   "name": "python",
   "nbconvert_exporter": "python",
   "pygments_lexer": "ipython3",
   "version": "3.10.14"
  },
  "src_repo_tag": "v0.3.28",
  "widgets": {
   "application/vnd.jupyter.widget-state+json": {
    "state": {
     "0e3bfcabc31d49ec90dbe1b075a1b6a4": {
      "model_module": "@jupyter-widgets/base",
      "model_module_version": "2.0.0",
      "model_name": "LayoutModel",
      "state": {
       "_model_module": "@jupyter-widgets/base",
       "_model_module_version": "2.0.0",
       "_model_name": "LayoutModel",
       "_view_count": null,
       "_view_module": "@jupyter-widgets/base",
       "_view_module_version": "2.0.0",
       "_view_name": "LayoutView",
       "align_content": null,
       "align_items": null,
       "align_self": null,
       "border_bottom": null,
       "border_left": null,
       "border_right": null,
       "border_top": null,
       "bottom": null,
       "display": null,
       "flex": null,
       "flex_flow": null,
       "grid_area": null,
       "grid_auto_columns": null,
       "grid_auto_flow": null,
       "grid_auto_rows": null,
       "grid_column": null,
       "grid_gap": null,
       "grid_row": null,
       "grid_template_areas": null,
       "grid_template_columns": null,
       "grid_template_rows": null,
       "height": null,
       "justify_content": null,
       "justify_items": null,
       "left": null,
       "margin": null,
       "max_height": null,
       "max_width": null,
       "min_height": null,
       "min_width": null,
       "object_fit": null,
       "object_position": null,
       "order": null,
       "overflow": null,
       "padding": null,
       "right": null,
       "top": null,
       "visibility": null,
       "width": null
      }
     },
     "0ed1653d83354930becfc0a9dc3e9833": {
      "model_module": "@jupyter-widgets/base",
      "model_module_version": "2.0.0",
      "model_name": "LayoutModel",
      "state": {
       "_model_module": "@jupyter-widgets/base",
       "_model_module_version": "2.0.0",
       "_model_name": "LayoutModel",
       "_view_count": null,
       "_view_module": "@jupyter-widgets/base",
       "_view_module_version": "2.0.0",
       "_view_name": "LayoutView",
       "align_content": null,
       "align_items": null,
       "align_self": null,
       "border_bottom": null,
       "border_left": null,
       "border_right": null,
       "border_top": null,
       "bottom": null,
       "display": null,
       "flex": null,
       "flex_flow": null,
       "grid_area": null,
       "grid_auto_columns": null,
       "grid_auto_flow": null,
       "grid_auto_rows": null,
       "grid_column": null,
       "grid_gap": null,
       "grid_row": null,
       "grid_template_areas": null,
       "grid_template_columns": null,
       "grid_template_rows": null,
       "height": null,
       "justify_content": null,
       "justify_items": null,
       "left": null,
       "margin": null,
       "max_height": null,
       "max_width": null,
       "min_height": null,
       "min_width": null,
       "object_fit": null,
       "object_position": null,
       "order": null,
       "overflow": null,
       "padding": null,
       "right": null,
       "top": null,
       "visibility": null,
       "width": null
      }
     },
     "1613f141ff5c42e2a8c9f32c5d2b3eac": {
      "model_module": "@jupyter-widgets/controls",
      "model_module_version": "2.0.0",
      "model_name": "IntSliderModel",
      "state": {
       "_dom_classes": [],
       "_model_module": "@jupyter-widgets/controls",
       "_model_module_version": "2.0.0",
       "_model_name": "IntSliderModel",
       "_view_count": null,
       "_view_module": "@jupyter-widgets/controls",
       "_view_module_version": "2.0.0",
       "_view_name": "IntSliderView",
       "behavior": "drag-tap",
       "continuous_update": true,
       "description": "",
       "description_allow_html": false,
       "disabled": false,
       "layout": "IPY_MODEL_4b2ac6ee018a4f00a10d517786bb3b8a",
       "max": 40,
       "min": 0,
       "orientation": "horizontal",
       "readout": true,
       "readout_format": "d",
       "step": 1,
       "style": "IPY_MODEL_59b178e120fd45a789c05368a4bbee5f",
       "tabbable": null,
       "tooltip": null,
       "value": 0
      }
     },
     "17e5204d15224f7caac3cb98d0fb1328": {
      "model_module": "@jupyter-widgets/base",
      "model_module_version": "2.0.0",
      "model_name": "LayoutModel",
      "state": {
       "_model_module": "@jupyter-widgets/base",
       "_model_module_version": "2.0.0",
       "_model_name": "LayoutModel",
       "_view_count": null,
       "_view_module": "@jupyter-widgets/base",
       "_view_module_version": "2.0.0",
       "_view_name": "LayoutView",
       "align_content": null,
       "align_items": null,
       "align_self": null,
       "border_bottom": null,
       "border_left": null,
       "border_right": null,
       "border_top": null,
       "bottom": null,
       "display": null,
       "flex": null,
       "flex_flow": null,
       "grid_area": null,
       "grid_auto_columns": null,
       "grid_auto_flow": null,
       "grid_auto_rows": null,
       "grid_column": null,
       "grid_gap": null,
       "grid_row": null,
       "grid_template_areas": null,
       "grid_template_columns": null,
       "grid_template_rows": null,
       "height": null,
       "justify_content": null,
       "justify_items": null,
       "left": null,
       "margin": null,
       "max_height": null,
       "max_width": null,
       "min_height": null,
       "min_width": null,
       "object_fit": null,
       "object_position": null,
       "order": null,
       "overflow": null,
       "padding": null,
       "right": null,
       "top": null,
       "visibility": null,
       "width": null
      }
     },
     "1b4a769918b048c1b08ce4e2f7003602": {
      "model_module": "@jupyter-widgets/controls",
      "model_module_version": "2.0.0",
      "model_name": "LinkModel",
      "state": {
       "_model_module": "@jupyter-widgets/controls",
       "_model_module_version": "2.0.0",
       "_model_name": "LinkModel",
       "_view_count": null,
       "_view_module": "@jupyter-widgets/controls",
       "_view_module_version": "2.0.0",
       "_view_name": null,
       "source": [
        "IPY_MODEL_b497749360b240b78392a16ab98415c1",
        "value"
       ],
       "target": [
        "IPY_MODEL_a022063d0815400884ea497602c97f93",
        "frame"
       ]
      }
     },
     "1cb7fdb35ffe462b9b4a664d4cd6564a": {
      "model_module": "@jupyter-widgets/base",
      "model_module_version": "2.0.0",
      "model_name": "LayoutModel",
      "state": {
       "_model_module": "@jupyter-widgets/base",
       "_model_module_version": "2.0.0",
       "_model_name": "LayoutModel",
       "_view_count": null,
       "_view_module": "@jupyter-widgets/base",
       "_view_module_version": "2.0.0",
       "_view_name": "LayoutView",
       "align_content": null,
       "align_items": null,
       "align_self": null,
       "border_bottom": null,
       "border_left": null,
       "border_right": null,
       "border_top": null,
       "bottom": null,
       "display": null,
       "flex": null,
       "flex_flow": null,
       "grid_area": null,
       "grid_auto_columns": null,
       "grid_auto_flow": null,
       "grid_auto_rows": null,
       "grid_column": null,
       "grid_gap": null,
       "grid_row": null,
       "grid_template_areas": null,
       "grid_template_columns": null,
       "grid_template_rows": null,
       "height": null,
       "justify_content": null,
       "justify_items": null,
       "left": null,
       "margin": null,
       "max_height": null,
       "max_width": null,
       "min_height": null,
       "min_width": null,
       "object_fit": null,
       "object_position": null,
       "order": null,
       "overflow": null,
       "padding": null,
       "right": null,
       "top": null,
       "visibility": null,
       "width": null
      }
     },
     "219d702fcbe145bca4c21bb09baba08a": {
      "model_module": "@jupyter-widgets/controls",
      "model_module_version": "2.0.0",
      "model_name": "HBoxModel",
      "state": {
       "_dom_classes": [],
       "_model_module": "@jupyter-widgets/controls",
       "_model_module_version": "2.0.0",
       "_model_name": "HBoxModel",
       "_view_count": null,
       "_view_module": "@jupyter-widgets/controls",
       "_view_module_version": "2.0.0",
       "_view_name": "HBoxView",
       "box_style": "",
       "children": [
        "IPY_MODEL_b497749360b240b78392a16ab98415c1",
        "IPY_MODEL_221362e7a8b844d1b0561be73ccfb43a"
       ],
       "layout": "IPY_MODEL_aed2ab331d2644568e81449f81202d37",
       "tabbable": null,
       "tooltip": null
      }
     },
     "221362e7a8b844d1b0561be73ccfb43a": {
      "model_module": "@jupyter-widgets/controls",
      "model_module_version": "2.0.0",
      "model_name": "IntSliderModel",
      "state": {
       "_dom_classes": [],
       "_model_module": "@jupyter-widgets/controls",
       "_model_module_version": "2.0.0",
       "_model_name": "IntSliderModel",
       "_view_count": null,
       "_view_module": "@jupyter-widgets/controls",
       "_view_module_version": "2.0.0",
       "_view_name": "IntSliderView",
       "behavior": "drag-tap",
       "continuous_update": true,
       "description": "",
       "description_allow_html": false,
       "disabled": false,
       "layout": "IPY_MODEL_9bfe2f4103ee427a8755e4969bfa7949",
       "max": 0,
       "min": 0,
       "orientation": "horizontal",
       "readout": true,
       "readout_format": "d",
       "step": 1,
       "style": "IPY_MODEL_7560f45c980f4f17912c114ec6e08409",
       "tabbable": null,
       "tooltip": null,
       "value": 0
      }
     },
     "23aac619976d4558aa2a3f0297fe2783": {
      "model_module": "@jupyter-widgets/controls",
      "model_module_version": "2.0.0",
      "model_name": "ButtonStyleModel",
      "state": {
       "_model_module": "@jupyter-widgets/controls",
       "_model_module_version": "2.0.0",
       "_model_name": "ButtonStyleModel",
       "_view_count": null,
       "_view_module": "@jupyter-widgets/base",
       "_view_module_version": "2.0.0",
       "_view_name": "StyleView",
       "button_color": null,
       "font_family": null,
       "font_size": null,
       "font_style": null,
       "font_variant": null,
       "font_weight": null,
       "text_color": null,
       "text_decoration": null
      }
     },
     "24e65b6a36d74fc9b228248c00829d26": {
      "model_module": "@jupyter-widgets/controls",
      "model_module_version": "2.0.0",
      "model_name": "ButtonModel",
      "state": {
       "_dom_classes": [],
       "_model_module": "@jupyter-widgets/controls",
       "_model_module_version": "2.0.0",
       "_model_name": "ButtonModel",
       "_view_count": null,
       "_view_module": "@jupyter-widgets/controls",
       "_view_module_version": "2.0.0",
       "_view_name": "ButtonView",
       "button_style": "",
       "description": "",
       "disabled": false,
       "icon": "compress",
       "layout": "IPY_MODEL_971b8cecd0af47e38de16556fd4d296d",
       "style": "IPY_MODEL_df3c98b974504669b46204571d25d41a",
       "tabbable": null,
       "tooltip": null
      }
     },
     "41ffa136ce924306b2dbf0d313542075": {
      "model_module": "@jupyter-widgets/controls",
      "model_module_version": "2.0.0",
      "model_name": "LinkModel",
      "state": {
       "_model_module": "@jupyter-widgets/controls",
       "_model_module_version": "2.0.0",
       "_model_name": "LinkModel",
       "_view_count": null,
       "_view_module": "@jupyter-widgets/controls",
       "_view_module_version": "2.0.0",
       "_view_name": null,
       "source": [
        "IPY_MODEL_4dee657ea11741309a98aa9ebe973933",
        "value"
       ],
       "target": [
        "IPY_MODEL_1613f141ff5c42e2a8c9f32c5d2b3eac",
        "value"
       ]
      }
     },
     "4727f10e146142e2b33d607f26be5e3e": {
      "model_module": "@jupyter-widgets/base",
      "model_module_version": "2.0.0",
      "model_name": "LayoutModel",
      "state": {
       "_model_module": "@jupyter-widgets/base",
       "_model_module_version": "2.0.0",
       "_model_name": "LayoutModel",
       "_view_count": null,
       "_view_module": "@jupyter-widgets/base",
       "_view_module_version": "2.0.0",
       "_view_name": "LayoutView",
       "align_content": null,
       "align_items": null,
       "align_self": null,
       "border_bottom": null,
       "border_left": null,
       "border_right": null,
       "border_top": null,
       "bottom": null,
       "display": null,
       "flex": null,
       "flex_flow": null,
       "grid_area": null,
       "grid_auto_columns": null,
       "grid_auto_flow": null,
       "grid_auto_rows": null,
       "grid_column": null,
       "grid_gap": null,
       "grid_row": null,
       "grid_template_areas": null,
       "grid_template_columns": null,
       "grid_template_rows": null,
       "height": null,
       "justify_content": null,
       "justify_items": null,
       "left": null,
       "margin": null,
       "max_height": null,
       "max_width": null,
       "min_height": null,
       "min_width": null,
       "object_fit": null,
       "object_position": null,
       "order": null,
       "overflow": null,
       "padding": null,
       "right": null,
       "top": null,
       "visibility": null,
       "width": null
      }
     },
     "49f588e58c9e482ca790287c2e912c24": {
      "model_module": "@jupyter-widgets/controls",
      "model_module_version": "2.0.0",
      "model_name": "LinkModel",
      "state": {
       "_model_module": "@jupyter-widgets/controls",
       "_model_module_version": "2.0.0",
       "_model_name": "LinkModel",
       "_view_count": null,
       "_view_module": "@jupyter-widgets/controls",
       "_view_module_version": "2.0.0",
       "_view_name": null,
       "source": [
        "IPY_MODEL_b497749360b240b78392a16ab98415c1",
        "max"
       ],
       "target": [
        "IPY_MODEL_a022063d0815400884ea497602c97f93",
        "max_frame"
       ]
      }
     },
     "4b2ac6ee018a4f00a10d517786bb3b8a": {
      "model_module": "@jupyter-widgets/base",
      "model_module_version": "2.0.0",
      "model_name": "LayoutModel",
      "state": {
       "_model_module": "@jupyter-widgets/base",
       "_model_module_version": "2.0.0",
       "_model_name": "LayoutModel",
       "_view_count": null,
       "_view_module": "@jupyter-widgets/base",
       "_view_module_version": "2.0.0",
       "_view_name": "LayoutView",
       "align_content": null,
       "align_items": null,
       "align_self": null,
       "border_bottom": null,
       "border_left": null,
       "border_right": null,
       "border_top": null,
       "bottom": null,
       "display": null,
       "flex": null,
       "flex_flow": null,
       "grid_area": null,
       "grid_auto_columns": null,
       "grid_auto_flow": null,
       "grid_auto_rows": null,
       "grid_column": null,
       "grid_gap": null,
       "grid_row": null,
       "grid_template_areas": null,
       "grid_template_columns": null,
       "grid_template_rows": null,
       "height": null,
       "justify_content": null,
       "justify_items": null,
       "left": null,
       "margin": null,
       "max_height": null,
       "max_width": null,
       "min_height": null,
       "min_width": null,
       "object_fit": null,
       "object_position": null,
       "order": null,
       "overflow": null,
       "padding": null,
       "right": null,
       "top": null,
       "visibility": null,
       "width": null
      }
     },
     "4dee657ea11741309a98aa9ebe973933": {
      "model_module": "@jupyter-widgets/controls",
      "model_module_version": "2.0.0",
      "model_name": "PlayModel",
      "state": {
       "_dom_classes": [],
       "_model_module": "@jupyter-widgets/controls",
       "_model_module_version": "2.0.0",
       "_model_name": "PlayModel",
       "_view_count": null,
       "_view_module": "@jupyter-widgets/controls",
       "_view_module_version": "2.0.0",
       "_view_name": "PlayView",
       "description": "",
       "description_allow_html": false,
       "disabled": false,
       "interval": 100,
       "layout": "IPY_MODEL_0ed1653d83354930becfc0a9dc3e9833",
       "max": 40,
       "min": 0,
       "playing": false,
       "repeat": false,
       "show_repeat": true,
       "step": 1,
       "style": "IPY_MODEL_685ac3a5427f47978003bfb9549a0bfb",
       "tabbable": null,
       "tooltip": null,
       "value": 0
      }
     },
     "526098e893524eda99cd665364247445": {
      "model_module": "@jupyter-widgets/controls",
      "model_module_version": "2.0.0",
      "model_name": "LinkModel",
      "state": {
       "_model_module": "@jupyter-widgets/controls",
       "_model_module_version": "2.0.0",
       "_model_name": "LinkModel",
       "_view_count": null,
       "_view_module": "@jupyter-widgets/controls",
       "_view_module_version": "2.0.0",
       "_view_name": null,
       "source": [
        "IPY_MODEL_4dee657ea11741309a98aa9ebe973933",
        "value"
       ],
       "target": [
        "IPY_MODEL_bf41fe1325c440a1986e38df8759479c",
        "frame"
       ]
      }
     },
     "52940688380e4b799be357e5a6c1f6b2": {
      "model_module": "@jupyter-widgets/base",
      "model_module_version": "2.0.0",
      "model_name": "LayoutModel",
      "state": {
       "_model_module": "@jupyter-widgets/base",
       "_model_module_version": "2.0.0",
       "_model_name": "LayoutModel",
       "_view_count": null,
       "_view_module": "@jupyter-widgets/base",
       "_view_module_version": "2.0.0",
       "_view_name": "LayoutView",
       "align_content": null,
       "align_items": null,
       "align_self": null,
       "border_bottom": null,
       "border_left": null,
       "border_right": null,
       "border_top": null,
       "bottom": null,
       "display": null,
       "flex": null,
       "flex_flow": null,
       "grid_area": null,
       "grid_auto_columns": null,
       "grid_auto_flow": null,
       "grid_auto_rows": null,
       "grid_column": null,
       "grid_gap": null,
       "grid_row": null,
       "grid_template_areas": null,
       "grid_template_columns": null,
       "grid_template_rows": null,
       "height": null,
       "justify_content": null,
       "justify_items": null,
       "left": null,
       "margin": null,
       "max_height": null,
       "max_width": null,
       "min_height": null,
       "min_width": null,
       "object_fit": null,
       "object_position": null,
       "order": null,
       "overflow": null,
       "padding": null,
       "right": null,
       "top": null,
       "visibility": null,
       "width": null
      }
     },
     "59929fd09fe74de9a1c6590a56fa12fa": {
      "model_module": "@jupyter-widgets/controls",
      "model_module_version": "2.0.0",
      "model_name": "LinkModel",
      "state": {
       "_model_module": "@jupyter-widgets/controls",
       "_model_module_version": "2.0.0",
       "_model_name": "LinkModel",
       "_view_count": null,
       "_view_module": "@jupyter-widgets/controls",
       "_view_module_version": "2.0.0",
       "_view_name": null,
       "source": [
        "IPY_MODEL_4dee657ea11741309a98aa9ebe973933",
        "max"
       ],
       "target": [
        "IPY_MODEL_bf41fe1325c440a1986e38df8759479c",
        "max_frame"
       ]
      }
     },
     "59b178e120fd45a789c05368a4bbee5f": {
      "model_module": "@jupyter-widgets/controls",
      "model_module_version": "2.0.0",
      "model_name": "SliderStyleModel",
      "state": {
       "_model_module": "@jupyter-widgets/controls",
       "_model_module_version": "2.0.0",
       "_model_name": "SliderStyleModel",
       "_view_count": null,
       "_view_module": "@jupyter-widgets/base",
       "_view_module_version": "2.0.0",
       "_view_name": "StyleView",
       "description_width": "",
       "handle_color": null
      }
     },
     "685ac3a5427f47978003bfb9549a0bfb": {
      "model_module": "@jupyter-widgets/controls",
      "model_module_version": "2.0.0",
      "model_name": "DescriptionStyleModel",
      "state": {
       "_model_module": "@jupyter-widgets/controls",
       "_model_module_version": "2.0.0",
       "_model_name": "DescriptionStyleModel",
       "_view_count": null,
       "_view_module": "@jupyter-widgets/base",
       "_view_module_version": "2.0.0",
       "_view_name": "StyleView",
       "description_width": ""
      }
     },
     "6ed46a9a53e048fe8d6e94088aeb87b7": {
      "model_module": "nglview-js-widgets",
      "model_module_version": "3.0.8",
      "model_name": "ColormakerRegistryModel",
      "state": {
       "_dom_classes": [],
       "_model_module": "nglview-js-widgets",
       "_model_module_version": "3.0.8",
       "_model_name": "ColormakerRegistryModel",
       "_msg_ar": [],
       "_msg_q": [],
       "_ready": false,
       "_view_count": null,
       "_view_module": "nglview-js-widgets",
       "_view_module_version": "3.0.8",
       "_view_name": "ColormakerRegistryView",
       "layout": "IPY_MODEL_4727f10e146142e2b33d607f26be5e3e",
       "tabbable": null,
       "tooltip": null
      }
     },
     "7560f45c980f4f17912c114ec6e08409": {
      "model_module": "@jupyter-widgets/controls",
      "model_module_version": "2.0.0",
      "model_name": "SliderStyleModel",
      "state": {
       "_model_module": "@jupyter-widgets/controls",
       "_model_module_version": "2.0.0",
       "_model_name": "SliderStyleModel",
       "_view_count": null,
       "_view_module": "@jupyter-widgets/base",
       "_view_module_version": "2.0.0",
       "_view_name": "StyleView",
       "description_width": "",
       "handle_color": null
      }
     },
     "89057eeaa2114c03935278b5fa655558": {
      "model_module": "@jupyter-widgets/base",
      "model_module_version": "2.0.0",
      "model_name": "LayoutModel",
      "state": {
       "_model_module": "@jupyter-widgets/base",
       "_model_module_version": "2.0.0",
       "_model_name": "LayoutModel",
       "_view_count": null,
       "_view_module": "@jupyter-widgets/base",
       "_view_module_version": "2.0.0",
       "_view_name": "LayoutView",
       "align_content": null,
       "align_items": null,
       "align_self": null,
       "border_bottom": null,
       "border_left": null,
       "border_right": null,
       "border_top": null,
       "bottom": null,
       "display": null,
       "flex": null,
       "flex_flow": null,
       "grid_area": null,
       "grid_auto_columns": null,
       "grid_auto_flow": null,
       "grid_auto_rows": null,
       "grid_column": null,
       "grid_gap": null,
       "grid_row": null,
       "grid_template_areas": null,
       "grid_template_columns": null,
       "grid_template_rows": null,
       "height": null,
       "justify_content": null,
       "justify_items": null,
       "left": null,
       "margin": null,
       "max_height": null,
       "max_width": null,
       "min_height": null,
       "min_width": null,
       "object_fit": null,
       "object_position": null,
       "order": null,
       "overflow": null,
       "padding": null,
       "right": null,
       "top": null,
       "visibility": null,
       "width": "34px"
      }
     },
     "8e751a89e9bf42bf91d84bb0f97105fe": {
      "model_module": "@jupyter-widgets/base",
      "model_module_version": "2.0.0",
      "model_name": "LayoutModel",
      "state": {
       "_model_module": "@jupyter-widgets/base",
       "_model_module_version": "2.0.0",
       "_model_name": "LayoutModel",
       "_view_count": null,
       "_view_module": "@jupyter-widgets/base",
       "_view_module_version": "2.0.0",
       "_view_name": "LayoutView",
       "align_content": null,
       "align_items": null,
       "align_self": null,
       "border_bottom": null,
       "border_left": null,
       "border_right": null,
       "border_top": null,
       "bottom": null,
       "display": null,
       "flex": null,
       "flex_flow": null,
       "grid_area": null,
       "grid_auto_columns": null,
       "grid_auto_flow": null,
       "grid_auto_rows": null,
       "grid_column": null,
       "grid_gap": null,
       "grid_row": null,
       "grid_template_areas": null,
       "grid_template_columns": null,
       "grid_template_rows": null,
       "height": null,
       "justify_content": null,
       "justify_items": null,
       "left": null,
       "margin": null,
       "max_height": null,
       "max_width": null,
       "min_height": null,
       "min_width": null,
       "object_fit": null,
       "object_position": null,
       "order": null,
       "overflow": null,
       "padding": null,
       "right": null,
       "top": null,
       "visibility": null,
       "width": null
      }
     },
     "8f26535c2b4b4c19b7336761258d43fc": {
      "model_module": "@jupyter-widgets/controls",
      "model_module_version": "2.0.0",
      "model_name": "ButtonModel",
      "state": {
       "_dom_classes": [],
       "_model_module": "@jupyter-widgets/controls",
       "_model_module_version": "2.0.0",
       "_model_name": "ButtonModel",
       "_view_count": null,
       "_view_module": "@jupyter-widgets/controls",
       "_view_module_version": "2.0.0",
       "_view_name": "ButtonView",
       "button_style": "",
       "description": "",
       "disabled": false,
       "icon": "compress",
       "layout": "IPY_MODEL_89057eeaa2114c03935278b5fa655558",
       "style": "IPY_MODEL_23aac619976d4558aa2a3f0297fe2783",
       "tabbable": null,
       "tooltip": null
      }
     },
     "971b8cecd0af47e38de16556fd4d296d": {
      "model_module": "@jupyter-widgets/base",
      "model_module_version": "2.0.0",
      "model_name": "LayoutModel",
      "state": {
       "_model_module": "@jupyter-widgets/base",
       "_model_module_version": "2.0.0",
       "_model_name": "LayoutModel",
       "_view_count": null,
       "_view_module": "@jupyter-widgets/base",
       "_view_module_version": "2.0.0",
       "_view_name": "LayoutView",
       "align_content": null,
       "align_items": null,
       "align_self": null,
       "border_bottom": null,
       "border_left": null,
       "border_right": null,
       "border_top": null,
       "bottom": null,
       "display": null,
       "flex": null,
       "flex_flow": null,
       "grid_area": null,
       "grid_auto_columns": null,
       "grid_auto_flow": null,
       "grid_auto_rows": null,
       "grid_column": null,
       "grid_gap": null,
       "grid_row": null,
       "grid_template_areas": null,
       "grid_template_columns": null,
       "grid_template_rows": null,
       "height": null,
       "justify_content": null,
       "justify_items": null,
       "left": null,
       "margin": null,
       "max_height": null,
       "max_width": null,
       "min_height": null,
       "min_width": null,
       "object_fit": null,
       "object_position": null,
       "order": null,
       "overflow": null,
       "padding": null,
       "right": null,
       "top": null,
       "visibility": null,
       "width": "34px"
      }
     },
     "9bfe2f4103ee427a8755e4969bfa7949": {
      "model_module": "@jupyter-widgets/base",
      "model_module_version": "2.0.0",
      "model_name": "LayoutModel",
      "state": {
       "_model_module": "@jupyter-widgets/base",
       "_model_module_version": "2.0.0",
       "_model_name": "LayoutModel",
       "_view_count": null,
       "_view_module": "@jupyter-widgets/base",
       "_view_module_version": "2.0.0",
       "_view_name": "LayoutView",
       "align_content": null,
       "align_items": null,
       "align_self": null,
       "border_bottom": null,
       "border_left": null,
       "border_right": null,
       "border_top": null,
       "bottom": null,
       "display": null,
       "flex": null,
       "flex_flow": null,
       "grid_area": null,
       "grid_auto_columns": null,
       "grid_auto_flow": null,
       "grid_auto_rows": null,
       "grid_column": null,
       "grid_gap": null,
       "grid_row": null,
       "grid_template_areas": null,
       "grid_template_columns": null,
       "grid_template_rows": null,
       "height": null,
       "justify_content": null,
       "justify_items": null,
       "left": null,
       "margin": null,
       "max_height": null,
       "max_width": null,
       "min_height": null,
       "min_width": null,
       "object_fit": null,
       "object_position": null,
       "order": null,
       "overflow": null,
       "padding": null,
       "right": null,
       "top": null,
       "visibility": null,
       "width": null
      }
     },
     "a022063d0815400884ea497602c97f93": {
      "model_module": "nglview-js-widgets",
      "model_module_version": "3.0.8",
      "model_name": "NGLModel",
      "state": {
       "_camera_orientation": [],
       "_camera_str": "orthographic",
       "_dom_classes": [],
       "_gui_theme": null,
       "_ibtn_fullscreen": "IPY_MODEL_8f26535c2b4b4c19b7336761258d43fc",
       "_igui": null,
       "_iplayer": "IPY_MODEL_219d702fcbe145bca4c21bb09baba08a",
       "_model_module": "nglview-js-widgets",
       "_model_module_version": "3.0.8",
       "_model_name": "NGLModel",
       "_ngl_color_dict": {},
       "_ngl_coordinate_resource": {},
       "_ngl_full_stage_parameters": {},
       "_ngl_msg_archive": [
        {
         "args": [
          {
           "binary": false,
           "data": "REMARK   1 CREATED WITH OPENMM 8.1.2, 2024-07-23\nHETATM    1  O1x UNK A   1       1.217  -0.615  -0.595  1.00  0.00           O  \nHETATM    2  C1x UNK A   1       0.213   0.246  -0.289  1.00  0.00           C  \nHETATM    3  C2x UNK A   1       0.039   1.252  -1.399  1.00  0.00           C  \nHETATM    4  C3x UNK A   1      -0.957   0.775  -2.453  1.00  0.00           C  \nHETATM    5  C4x UNK A   1      -0.706   1.413  -3.818  1.00  0.00           C  \nHETATM    6  C5x UNK A   1       0.394   0.568  -4.454  1.00  0.00           C  \nHETATM    7  C6x UNK A   1       0.325  -0.800  -3.776  1.00  0.00           C  \nHETATM    8  C7x UNK A   1      -0.809  -0.714  -2.758  1.00  0.00           C  \nHETATM    9  O2x UNK A   1      -0.439   0.191   0.742  1.00  0.00           O  \nHETATM   10  H1x UNK A   1       1.353  -1.283   0.110  1.00  0.00           H  \nHETATM   11  H2x UNK A   1       1.014   1.421  -1.869  1.00  0.00           H  \nHETATM   12  H3x UNK A   1      -0.316   2.192  -0.962  1.00  0.00           H  \nHETATM   13  H4x UNK A   1      -1.967   0.989  -2.121  1.00  0.00           H  \nHETATM   14  H5x UNK A   1      -1.612   1.439  -4.438  1.00  0.00           H  \nHETATM   15  H6x UNK A   1      -0.356   2.450  -3.706  1.00  0.00           H  \nHETATM   16  H7x UNK A   1       0.219   0.459  -5.530  1.00  0.00           H  \nHETATM   17  H8x UNK A   1       1.376   1.036  -4.329  1.00  0.00           H  \nHETATM   18  H9x UNK A   1       0.107  -1.573  -4.523  1.00  0.00           H  \nHETATM   19 H10x UNK A   1       1.273  -1.067  -3.296  1.00  0.00           H  \nHETATM   20 H11x UNK A   1      -0.534  -1.273  -1.850  1.00  0.00           H  \nHETATM   21 H12x UNK A   1      -1.739  -1.155  -3.143  1.00  0.00           H  \nTER      22      UNK A   1\nHETATM   23  C1x UNK B   1       1.978  -2.913   2.556  1.00  0.00           C  \nHETATM   24  C2x UNK B   1       3.789  -0.891   1.798  1.00  0.00           C  \nHETATM   25  C3x UNK B   1       2.095  -1.737   3.319  1.00  0.00           C  \nHETATM   26  C4x UNK B   1       2.809  -3.113   1.440  1.00  0.00           C  \nHETATM   27  C5x UNK B   1       3.750  -2.126   1.094  1.00  0.00           C  \nHETATM   28  C6x UNK B   1       2.873  -0.651   2.862  1.00  0.00           C  \nHETATM   29  O1x UNK B   1       4.548   0.204   1.313  1.00  0.00           O  \nHETATM   30  C7x UNK B   1       2.984   0.584   3.717  1.00  0.00           C  \nHETATM   31  C8x UNK B   1       3.932   1.363   0.655  1.00  0.00           C  \nHETATM   32  O2x UNK B   1       3.658   2.395   1.672  1.00  0.00           O  \nHETATM   33  C9x UNK B   1       2.364   2.527   2.188  1.00  0.00           C  \nHETATM   34 C10x UNK B   1       2.015   1.664   3.219  1.00  0.00           C  \nHETATM   35 C11x UNK B   1       0.711   1.822   3.759  1.00  0.00           C  \nHETATM   36 C12x UNK B   1       1.508   3.442   1.630  1.00  0.00           C  \nHETATM   37 C13x UNK B   1      -0.186   2.733   3.185  1.00  0.00           C  \nHETATM   38 C14x UNK B   1       0.221   3.530   2.110  1.00  0.00           C  \nHETATM   39  O3x UNK B   1      -0.647   4.303   1.401  1.00  0.00           O  \nHETATM   40 C15x UNK B   1      -1.653   2.755   3.681  1.00  0.00           C  \nHETATM   41 C16x UNK B   1      -2.574   1.870   2.877  1.00  0.00           C  \nHETATM   42 C17x UNK B   1      -3.132   2.412   1.652  1.00  0.00           C  \nHETATM   43 C18x UNK B   1      -1.538   3.660   0.425  1.00  0.00           C  \nHETATM   44  O4x UNK B   1      -2.783   3.646   1.111  1.00  0.00           O  \nHETATM   45  O5x UNK B   1       2.544  -4.128   0.497  1.00  0.00           O  \nHETATM   46 C19x UNK B   1       0.819  -3.840   2.830  1.00  0.00           C  \nHETATM   47 C20x UNK B   1      -0.432  -3.444   2.049  1.00  0.00           C  \nHETATM   48  O6x UNK B   1       0.282  -4.753  -0.020  1.00  0.00           O  \nHETATM   49 C21x UNK B   1      -0.654  -3.991   0.770  1.00  0.00           C  \nHETATM   50 C22x UNK B   1      -3.975   1.673   0.870  1.00  0.00           C  \nHETATM   51 C23x UNK B   1      -4.264   0.367   1.137  1.00  0.00           C  \nHETATM   52 C24x UNK B   1      -1.802  -3.727   0.033  1.00  0.00           C  \nHETATM   53 C25x UNK B   1      -2.775  -2.918   0.554  1.00  0.00           C  \nHETATM   54  O7x UNK B   1      -4.839  -0.410   0.131  1.00  0.00           O  \nHETATM   55  O8x UNK B   1      -3.844  -2.574  -0.224  1.00  0.00           O  \nHETATM   56 C26x UNK B   1      -3.930  -1.164  -0.733  1.00  0.00           C  \nHETATM   57 C27x UNK B   1      -1.468  -2.726   2.607  1.00  0.00           C  \nHETATM   58 C28x UNK B   1      -2.672  -2.464   1.903  1.00  0.00           C  \nHETATM   59 C29x UNK B   1      -2.927   0.510   3.198  1.00  0.00           C  \nHETATM   60 C30x UNK B   1      -3.920  -1.740   2.617  1.00  0.00           C  \nHETATM   61 C31x UNK B   1      -3.767  -0.267   2.328  1.00  0.00           C  \nHETATM   62 C32x UNK B   1       1.448  -3.948  -0.413  1.00  0.00           C  \nHETATM   63 C33x UNK B   1      -1.723   2.568   5.183  1.00  0.00           C  \nHETATM   64 C34x UNK B   1      -3.116   2.732   5.795  1.00  0.00           C  \nHETATM   65 C35x UNK B   1      -3.094   2.468   7.322  1.00  0.00           C  \nHETATM   66  O9x UNK B   1      -2.147   1.947   7.819  1.00  0.00           O  \nHETATM   67 C36x UNK B   1       2.971   0.333   5.244  1.00  0.00           C  \nHETATM   68 C37x UNK B   1       3.474   1.504   6.068  1.00  0.00           C  \nHETATM   69 C38x UNK B   1       4.965   1.511   5.971  1.00  0.00           C  \nHETATM   70 O10x UNK B   1       5.655   0.841   6.749  1.00  0.00           O  \nHETATM   71 C39x UNK B   1       0.619  -4.262   4.357  1.00  0.00           C  \nHETATM   72 C40x UNK B   1      -0.442  -5.344   4.488  1.00  0.00           C  \nHETATM   73 C41x UNK B   1       0.254  -6.613   4.033  1.00  0.00           C  \nHETATM   74 O11x UNK B   1       1.048  -7.176   4.790  1.00  0.00           O  \nHETATM   75 C42x UNK B   1      -3.973  -2.277   4.180  1.00  0.00           C  \nHETATM   76 C43x UNK B   1      -5.178  -1.580   4.856  1.00  0.00           C  \nHETATM   77 C44x UNK B   1      -5.150  -1.922   6.342  1.00  0.00           C  \nHETATM   78 O12x UNK B   1      -4.272  -1.622   7.098  1.00  0.00           O  \nHETATM   79 C45x UNK B   1       4.853   1.891  -0.409  1.00  0.00           C  \nHETATM   80 C46x UNK B   1       6.419   2.722  -2.526  1.00  0.00           C  \nHETATM   81 C47x UNK B   1       4.806   3.188  -0.838  1.00  0.00           C  \nHETATM   82 C48x UNK B   1       5.701   1.021  -1.069  1.00  0.00           C  \nHETATM   83 C49x UNK B   1       6.516   1.418  -2.128  1.00  0.00           C  \nHETATM   84 C50x UNK B   1       5.539   3.576  -1.883  1.00  0.00           C  \nHETATM   85 C51x UNK B   1       1.924  -4.169  -1.843  1.00  0.00           C  \nHETATM   86 C52x UNK B   1       2.574  -4.172  -4.542  1.00  0.00           C  \nHETATM   87 C53x UNK B   1       1.045  -4.683  -2.706  1.00  0.00           C  \nHETATM   88 C54x UNK B   1       3.164  -3.671  -2.347  1.00  0.00           C  \nHETATM   89 C55x UNK B   1       3.512  -3.700  -3.673  1.00  0.00           C  \nHETATM   90 C56x UNK B   1       1.359  -4.680  -4.087  1.00  0.00           C  \nHETATM   91 C57x UNK B   1      -4.364  -1.263  -2.171  1.00  0.00           C  \nHETATM   92 C58x UNK B   1      -5.103  -1.290  -4.808  1.00  0.00           C  \nHETATM   93 C59x UNK B   1      -5.192  -0.247  -2.658  1.00  0.00           C  \nHETATM   94 C60x UNK B   1      -3.934  -2.346  -3.026  1.00  0.00           C  \nHETATM   95 C61x UNK B   1      -4.279  -2.305  -4.398  1.00  0.00           C  \nHETATM   96 C62x UNK B   1      -5.509  -0.217  -4.001  1.00  0.00           C  \nHETATM   97 C63x UNK B   1      -1.585   4.405  -0.927  1.00  0.00           C  \nHETATM   98 C64x UNK B   1      -1.514   5.285  -3.524  1.00  0.00           C  \nHETATM   99 C65x UNK B   1      -2.738   4.357  -1.719  1.00  0.00           C  \nHETATM  100 C66x UNK B   1      -0.357   4.883  -1.423  1.00  0.00           C  \nHETATM  101 C67x UNK B   1      -0.365   5.285  -2.742  1.00  0.00           C  \nHETATM  102 C68x UNK B   1      -2.680   4.755  -2.998  1.00  0.00           C  \nHETATM  103 O13x UNK B   1       4.656  -3.132  -4.231  1.00  0.00           O  \nHETATM  104 O14x UNK B   1      -3.921  -3.316  -5.269  1.00  0.00           O  \nHETATM  105 O15x UNK B   1      -6.153   0.774  -4.597  1.00  0.00           O  \nHETATM  106 O16x UNK B   1       7.371   0.558  -2.749  1.00  0.00           O  \nHETATM  107 O17x UNK B   1       5.564   4.887  -2.369  1.00  0.00           O  \nHETATM  108 O18x UNK B   1      -3.800   4.813  -3.884  1.00  0.00           O  \nHETATM  109 O19x UNK B   1       0.847   5.553  -3.374  1.00  0.00           O  \nHETATM  110 C69x UNK B   1      -3.125  -4.382  -4.843  1.00  0.00           C  \nHETATM  111 C70x UNK B   1      -1.388  -6.331  -3.996  1.00  0.00           C  \nHETATM  112 C71x UNK B   1      -1.766  -4.242  -5.099  1.00  0.00           C  \nHETATM  113 C72x UNK B   1      -3.620  -5.488  -4.090  1.00  0.00           C  \nHETATM  114 C73x UNK B   1      -2.747  -6.471  -3.632  1.00  0.00           C  \nHETATM  115 C74x UNK B   1      -0.884  -5.201  -4.698  1.00  0.00           C  \nHETATM  116 O20x UNK B   1       0.436  -5.077  -4.966  1.00  0.00           O  \nHETATM  117 C75x UNK B   1       7.014  -0.794  -2.812  1.00  0.00           C  \nHETATM  118 C76x UNK B   1       6.603  -3.480  -2.776  1.00  0.00           C  \nHETATM  119 C77x UNK B   1       7.868  -1.619  -2.056  1.00  0.00           C  \nHETATM  120 C78x UNK B   1       5.857  -1.299  -3.437  1.00  0.00           C  \nHETATM  121 C79x UNK B   1       5.691  -2.675  -3.448  1.00  0.00           C  \nHETATM  122 C80x UNK B   1       7.644  -2.951  -2.013  1.00  0.00           C  \nHETATM  123 C81x UNK B   1      -6.108   2.039  -4.170  1.00  0.00           C  \nHETATM  124 C82x UNK B   1      -6.042   4.566  -3.046  1.00  0.00           C  \nHETATM  125 C83x UNK B   1      -7.256   2.507  -3.505  1.00  0.00           C  \nHETATM  126 C84x UNK B   1      -4.968   2.764  -4.247  1.00  0.00           C  \nHETATM  127 C85x UNK B   1      -4.902   4.035  -3.665  1.00  0.00           C  \nHETATM  128 C86x UNK B   1      -7.216   3.792  -2.924  1.00  0.00           C  \nHETATM  129 C87x UNK B   1      -8.342   4.264  -2.014  1.00  0.00           C  \nHETATM  130 O21x UNK B   1      -9.273   3.577  -1.677  1.00  0.00           O  \nHETATM  131 C88x UNK B   1       3.543   9.301  -1.437  1.00  0.00           C  \nHETATM  132 O22x UNK B   1       4.604   9.675  -1.044  1.00  0.00           O  \nHETATM  133 C89x UNK B   1       8.522  -3.870  -1.065  1.00  0.00           C  \nHETATM  134 O23x UNK B   1       8.505  -5.024  -1.277  1.00  0.00           O  \nHETATM  135 O24x UNK B   1      -4.010   2.747   7.993  1.00  0.00           O  \nHETATM  136 O25x UNK B   1      -6.186  -2.444   6.728  1.00  0.00           O  \nHETATM  137 O26x UNK B   1       0.095  -6.983   2.900  1.00  0.00           O  \nHETATM  138 C90x UNK B   1      -3.155  -7.597  -2.769  1.00  0.00           C  \nHETATM  139 O27x UNK B   1      -2.341  -8.300  -2.191  1.00  0.00           O  \nHETATM  140 O28x UNK B   1       2.509   9.998  -1.355  1.00  0.00           O  \nHETATM  141 O29x UNK B   1      -8.324   5.429  -1.640  1.00  0.00           O  \nHETATM  142 O30x UNK B   1      -4.375  -7.763  -2.582  1.00  0.00           O  \nHETATM  143 O31x UNK B   1       9.054  -3.461  -0.061  1.00  0.00           O  \nHETATM  144 O32x UNK B   1       5.522   2.279   5.195  1.00  0.00           O  \nHETATM  145 C91x UNK B   1       4.411   5.670  -2.419  1.00  0.00           C  \nHETATM  146 C92x UNK B   1       2.175   7.280  -2.247  1.00  0.00           C  \nHETATM  147 C93x UNK B   1       3.154   5.130  -2.838  1.00  0.00           C  \nHETATM  148 C94x UNK B   1       4.539   7.013  -1.988  1.00  0.00           C  \nHETATM  149 C95x UNK B   1       3.389   7.886  -1.858  1.00  0.00           C  \nHETATM  150 C96x UNK B   1       2.037   5.990  -2.767  1.00  0.00           C  \nHETATM  151  H1x UNK B   1       1.314  -1.538   4.047  1.00  0.00           H  \nHETATM  152  H2x UNK B   1       4.395  -2.261   0.229  1.00  0.00           H  \nHETATM  153  H3x UNK B   1       3.941   1.091   3.577  1.00  0.00           H  \nHETATM  154  H4x UNK B   1       2.952   1.069   0.250  1.00  0.00           H  \nHETATM  155  H5x UNK B   1       0.467   1.098   4.533  1.00  0.00           H  \nHETATM  156  H6x UNK B   1       1.843   4.022   0.774  1.00  0.00           H  \nHETATM  157  H7x UNK B   1      -1.997   3.784   3.552  1.00  0.00           H  \nHETATM  158  H8x UNK B   1      -1.286   2.608   0.223  1.00  0.00           H  \nHETATM  159  H9x UNK B   1       1.122  -4.790   2.385  1.00  0.00           H  \nHETATM  160 H10x UNK B   1      -4.370   2.125  -0.036  1.00  0.00           H  \nHETATM  161 H11x UNK B   1      -1.891  -4.197  -0.944  1.00  0.00           H  \nHETATM  162 H12x UNK B   1      -2.873  -0.867  -0.683  1.00  0.00           H  \nHETATM  163 H13x UNK B   1      -1.500  -2.400   3.644  1.00  0.00           H  \nHETATM  164 H14x UNK B   1      -2.532   0.040   4.095  1.00  0.00           H  \nHETATM  165 H15x UNK B   1      -4.883  -1.929   2.138  1.00  0.00           H  \nHETATM  166 H16x UNK B   1       1.041  -2.929  -0.343  1.00  0.00           H  \nHETATM  167 H17x UNK B   1      -1.264   1.614   5.448  1.00  0.00           H  \nHETATM  168 H18x UNK B   1      -1.085   3.347   5.606  1.00  0.00           H  \nHETATM  169 H19x UNK B   1      -3.414   3.770   5.630  1.00  0.00           H  \nHETATM  170 H20x UNK B   1      -3.774   1.984   5.347  1.00  0.00           H  \nHETATM  171 H21x UNK B   1       3.406  -0.656   5.402  1.00  0.00           H  \nHETATM  172 H22x UNK B   1       1.996   0.097   5.676  1.00  0.00           H  \nHETATM  173 H23x UNK B   1       3.011   2.450   5.779  1.00  0.00           H  \nHETATM  174 H24x UNK B   1       3.270   1.145   7.080  1.00  0.00           H  \nHETATM  175 H25x UNK B   1       1.554  -4.578   4.823  1.00  0.00           H  \nHETATM  176 H26x UNK B   1       0.270  -3.368   4.877  1.00  0.00           H  \nHETATM  177 H27x UNK B   1      -0.679  -5.340   5.554  1.00  0.00           H  \nHETATM  178 H28x UNK B   1      -1.368  -5.264   3.915  1.00  0.00           H  \nHETATM  179 H29x UNK B   1      -4.199  -3.340   4.277  1.00  0.00           H  \nHETATM  180 H30x UNK B   1      -3.135  -2.014   4.830  1.00  0.00           H  \nHETATM  181 H31x UNK B   1      -5.092  -0.496   4.762  1.00  0.00           H  \nHETATM  182 H32x UNK B   1      -6.105  -1.869   4.357  1.00  0.00           H  \nHETATM  183 H33x UNK B   1       6.926   3.160  -3.381  1.00  0.00           H  \nHETATM  184 H34x UNK B   1       4.022   3.841  -0.465  1.00  0.00           H  \nHETATM  185 H35x UNK B   1       5.818   0.034  -0.628  1.00  0.00           H  \nHETATM  186 H36x UNK B   1       2.747  -4.136  -5.614  1.00  0.00           H  \nHETATM  187 H37x UNK B   1       0.027  -4.951  -2.431  1.00  0.00           H  \nHETATM  188 H38x UNK B   1       3.824  -3.227  -1.606  1.00  0.00           H  \nHETATM  189 H39x UNK B   1      -5.329  -1.262  -5.872  1.00  0.00           H  \nHETATM  190 H40x UNK B   1      -5.436   0.603  -2.026  1.00  0.00           H  \nHETATM  191 H41x UNK B   1      -3.285  -3.112  -2.607  1.00  0.00           H  \nHETATM  192 H42x UNK B   1      -1.580   5.825  -4.465  1.00  0.00           H  \nHETATM  193 H43x UNK B   1      -3.625   3.890  -1.298  1.00  0.00           H  \nHETATM  194 H44x UNK B   1       0.549   4.837  -0.824  1.00  0.00           H  \nHETATM  195 H45x UNK B   1      -0.683  -7.078  -3.639  1.00  0.00           H  \nHETATM  196 H46x UNK B   1      -1.448  -3.328  -5.595  1.00  0.00           H  \nHETATM  197 H47x UNK B   1      -4.698  -5.582  -3.982  1.00  0.00           H  \nHETATM  198 H48x UNK B   1       6.286  -4.519  -2.731  1.00  0.00           H  \nHETATM  199 H49x UNK B   1       8.671  -1.164  -1.482  1.00  0.00           H  \nHETATM  200 H50x UNK B   1       5.075  -0.643  -3.812  1.00  0.00           H  \nHETATM  201 H51x UNK B   1      -6.130   5.577  -2.656  1.00  0.00           H  \nHETATM  202 H52x UNK B   1      -8.178   1.933  -3.529  1.00  0.00           H  \nHETATM  203 H53x UNK B   1      -4.108   2.291  -4.715  1.00  0.00           H  \nHETATM  204 H54x UNK B   1       1.273   7.875  -2.370  1.00  0.00           H  \nHETATM  205 H55x UNK B   1       3.063   4.090  -3.141  1.00  0.00           H  \nHETATM  206 H56x UNK B   1       5.499   7.465  -1.750  1.00  0.00           H  \nTER     207      UNK B   1\nCONECT    1    2   10\nCONECT    2    1    3    9\nCONECT    3    2    4   11   12\nCONECT    4    3    8    5   13\nCONECT    5    4    6   14   15\nCONECT    6    5    7   16   17\nCONECT    7    6    8   18   19\nCONECT    8    4    7   20   21\nCONECT    9    2\nCONECT   10    1\nCONECT   11    3\nCONECT   12    3\nCONECT   13    4\nCONECT   14    5\nCONECT   15    5\nCONECT   16    6\nCONECT   17    6\nCONECT   18    7\nCONECT   19    7\nCONECT   20    8\nCONECT   21    8\nCONECT   23   25   26   46\nCONECT   24   27   28   29\nCONECT   25   23   28  151\nCONECT   26   23   27   45\nCONECT   27   24   26  152\nCONECT   28   24   25   30\nCONECT   29   24   31\nCONECT   30   28   34   67  153\nCONECT   31   29   32   79  154\nCONECT   32   31   33\nCONECT   33   32   34   36\nCONECT   34   30   33   35\nCONECT   35   34   37  155\nCONECT   36   33   38  156\nCONECT   37   35   38   40\nCONECT   38   36   37   39\nCONECT   39   38   43\nCONECT   40   37   41   63  157\nCONECT   41   40   42   59\nCONECT   42   41   44   50\nCONECT   43   39   44   97  158\nCONECT   44   42   43\nCONECT   45   26   62\nCONECT   46   23   47   71  159\nCONECT   47   46   49   57\nCONECT   48   49   62\nCONECT   49   47   48   52\nCONECT   50   42   51  160\nCONECT   51   50   54   61\nCONECT   52   49   53  161\nCONECT   53   52   55   58\nCONECT   54   51   56\nCONECT   55   53   56\nCONECT   56   54   55   91  162\nCONECT   57   47   58  163\nCONECT   58   53   57   60\nCONECT   59   41   61  164\nCONECT   60   58   61   75  165\nCONECT   61   51   59   60\nCONECT   62   45   48   85  166\nCONECT   63   40   64  167  168\nCONECT   64   63   65  169  170\nCONECT   65   64   66  135\nCONECT   66   65\nCONECT   67   30   68  171  172\nCONECT   68   67   69  173  174\nCONECT   69   68   70  144\nCONECT   70   69\nCONECT   71   46   72  175  176\nCONECT   72   71   73  177  178\nCONECT   73   72   74  137\nCONECT   74   73\nCONECT   75   60   76  179  180\nCONECT   76   75   77  181  182\nCONECT   77   76   78  136\nCONECT   78   77\nCONECT   79   31   81   82\nCONECT   80   83   84  183\nCONECT   81   79   84  184\nCONECT   82   79   83  185\nCONECT   83   80   82  106\nCONECT   84   80   81  107\nCONECT   85   62   87   88\nCONECT   86   89   90  186\nCONECT   87   85   90  187\nCONECT   88   85   89  188\nCONECT   89   86   88  103\nCONECT   90   86   87  116\nCONECT   91   56   93   94\nCONECT   92   95   96  189\nCONECT   93   91   96  190\nCONECT   94   91   95  191\nCONECT   95   92   94  104\nCONECT   96   92   93  105\nCONECT   97   43   99  100\nCONECT   98  101  102  192\nCONECT   99   97  102  193\nCONECT  100   97  101  194\nCONECT  101   98  100  109\nCONECT  102   98   99  108\nCONECT  103   89  121\nCONECT  104   95  110\nCONECT  105   96  123\nCONECT  106   83  117\nCONECT  107   84  145\nCONECT  108  102  127\nCONECT  109  101  150\nCONECT  110  104  112  113\nCONECT  111  114  115  195\nCONECT  112  110  115  196\nCONECT  113  110  114  197\nCONECT  114  111  113  138\nCONECT  115  111  112  116\nCONECT  116   90  115\nCONECT  117  106  119  120\nCONECT  118  121  122  198\nCONECT  119  117  122  199\nCONECT  120  117  121  200\nCONECT  121  103  118  120\nCONECT  122  118  119  133\nCONECT  123  105  125  126\nCONECT  124  127  128  201\nCONECT  125  123  128  202\nCONECT  126  123  127  203\nCONECT  127  108  124  126\nCONECT  128  124  125  129\nCONECT  129  128  130  141\nCONECT  130  129\nCONECT  131  132  140  149\nCONECT  132  131\nCONECT  133  122  134  143\nCONECT  134  133\nCONECT  135   65\nCONECT  136   77\nCONECT  137   73\nCONECT  138  114  139  142\nCONECT  139  138\nCONECT  140  131\nCONECT  141  129\nCONECT  142  138\nCONECT  143  133\nCONECT  144   69\nCONECT  145  107  147  148\nCONECT  146  149  150  204\nCONECT  147  145  150  205\nCONECT  148  145  149  206\nCONECT  149  131  146  148\nCONECT  150  109  146  147\nCONECT  151   25\nCONECT  152   27\nCONECT  153   30\nCONECT  154   31\nCONECT  155   35\nCONECT  156   36\nCONECT  157   40\nCONECT  158   43\nCONECT  159   46\nCONECT  160   50\nCONECT  161   52\nCONECT  162   56\nCONECT  163   57\nCONECT  164   59\nCONECT  165   60\nCONECT  166   62\nCONECT  167   63\nCONECT  168   63\nCONECT  169   64\nCONECT  170   64\nCONECT  171   67\nCONECT  172   67\nCONECT  173   68\nCONECT  174   68\nCONECT  175   71\nCONECT  176   71\nCONECT  177   72\nCONECT  178   72\nCONECT  179   75\nCONECT  180   75\nCONECT  181   76\nCONECT  182   76\nCONECT  183   80\nCONECT  184   81\nCONECT  185   82\nCONECT  186   86\nCONECT  187   87\nCONECT  188   88\nCONECT  189   92\nCONECT  190   93\nCONECT  191   94\nCONECT  192   98\nCONECT  193   99\nCONECT  194  100\nCONECT  195  111\nCONECT  196  112\nCONECT  197  113\nCONECT  198  118\nCONECT  199  119\nCONECT  200  120\nCONECT  201  124\nCONECT  202  125\nCONECT  203  126\nCONECT  204  146\nCONECT  205  147\nCONECT  206  148\nEND\n",
           "type": "blob"
          }
         ],
         "kwargs": {
          "defaultRepresentation": false,
          "ext": "pdb"
         },
         "methodName": "loadFile",
         "reconstruc_color_scheme": false,
         "target": "Stage",
         "type": "call_method"
        },
        {
         "args": [],
         "component_index": 0,
         "kwargs": {},
         "methodName": "removeAllRepresentations",
         "reconstruc_color_scheme": false,
         "target": "compList",
         "type": "call_method"
        },
        {
         "args": [
          "unitcell"
         ],
         "component_index": 0,
         "kwargs": {},
         "methodName": "addRepresentation",
         "reconstruc_color_scheme": false,
         "target": "compList",
         "type": "call_method"
        },
        {
         "args": [
          "line"
         ],
         "component_index": 0,
         "kwargs": {
          "sele": "water"
         },
         "methodName": "addRepresentation",
         "reconstruc_color_scheme": false,
         "target": "compList",
         "type": "call_method"
        },
        {
         "args": [
          "spacefill"
         ],
         "component_index": 0,
         "kwargs": {
          "sele": "ion"
         },
         "methodName": "addRepresentation",
         "reconstruc_color_scheme": false,
         "target": "compList",
         "type": "call_method"
        },
        {
         "args": [
          "cartoon"
         ],
         "component_index": 0,
         "kwargs": {
          "sele": "protein"
         },
         "methodName": "addRepresentation",
         "reconstruc_color_scheme": false,
         "target": "compList",
         "type": "call_method"
        },
        {
         "args": [
          "licorice"
         ],
         "component_index": 0,
         "kwargs": {
          "multipleBond": false,
          "radius": 0.25,
          "sele": "not water and not ion and not protein"
         },
         "methodName": "addRepresentation",
         "reconstruc_color_scheme": false,
         "target": "compList",
         "type": "call_method"
        }
       ],
       "_ngl_original_stage_parameters": {},
       "_ngl_repr_dict": {},
       "_ngl_serialize": false,
       "_ngl_version": "",
       "_ngl_view_id": [],
       "_player_dict": {},
       "_scene_position": {},
       "_scene_rotation": {},
       "_synced_model_ids": [],
       "_synced_repr_model_ids": [],
       "_view_count": null,
       "_view_height": "",
       "_view_module": "nglview-js-widgets",
       "_view_module_version": "3.0.8",
       "_view_name": "NGLView",
       "_view_width": "",
       "background": "white",
       "frame": 0,
       "gui_style": null,
       "layout": "IPY_MODEL_1cb7fdb35ffe462b9b4a664d4cd6564a",
       "max_frame": 0,
       "n_components": 0,
       "picked": {},
       "tabbable": null,
       "tooltip": null
      }
     },
     "a75b22c9bb2c45958a685c92ceb1d0d1": {
      "model_module": "@jupyter-widgets/base",
      "model_module_version": "2.0.0",
      "model_name": "LayoutModel",
      "state": {
       "_model_module": "@jupyter-widgets/base",
       "_model_module_version": "2.0.0",
       "_model_name": "LayoutModel",
       "_view_count": null,
       "_view_module": "@jupyter-widgets/base",
       "_view_module_version": "2.0.0",
       "_view_name": "LayoutView",
       "align_content": null,
       "align_items": null,
       "align_self": null,
       "border_bottom": null,
       "border_left": null,
       "border_right": null,
       "border_top": null,
       "bottom": null,
       "display": null,
       "flex": null,
       "flex_flow": null,
       "grid_area": null,
       "grid_auto_columns": null,
       "grid_auto_flow": null,
       "grid_auto_rows": null,
       "grid_column": null,
       "grid_gap": null,
       "grid_row": null,
       "grid_template_areas": null,
       "grid_template_columns": null,
       "grid_template_rows": null,
       "height": null,
       "justify_content": null,
       "justify_items": null,
       "left": null,
       "margin": null,
       "max_height": null,
       "max_width": null,
       "min_height": null,
       "min_width": null,
       "object_fit": null,
       "object_position": null,
       "order": null,
       "overflow": null,
       "padding": null,
       "right": null,
       "top": null,
       "visibility": null,
       "width": null
      }
     },
     "aed2ab331d2644568e81449f81202d37": {
      "model_module": "@jupyter-widgets/base",
      "model_module_version": "2.0.0",
      "model_name": "LayoutModel",
      "state": {
       "_model_module": "@jupyter-widgets/base",
       "_model_module_version": "2.0.0",
       "_model_name": "LayoutModel",
       "_view_count": null,
       "_view_module": "@jupyter-widgets/base",
       "_view_module_version": "2.0.0",
       "_view_name": "LayoutView",
       "align_content": null,
       "align_items": null,
       "align_self": null,
       "border_bottom": null,
       "border_left": null,
       "border_right": null,
       "border_top": null,
       "bottom": null,
       "display": null,
       "flex": null,
       "flex_flow": null,
       "grid_area": null,
       "grid_auto_columns": null,
       "grid_auto_flow": null,
       "grid_auto_rows": null,
       "grid_column": null,
       "grid_gap": null,
       "grid_row": null,
       "grid_template_areas": null,
       "grid_template_columns": null,
       "grid_template_rows": null,
       "height": null,
       "justify_content": null,
       "justify_items": null,
       "left": null,
       "margin": null,
       "max_height": null,
       "max_width": null,
       "min_height": null,
       "min_width": null,
       "object_fit": null,
       "object_position": null,
       "order": null,
       "overflow": null,
       "padding": null,
       "right": null,
       "top": null,
       "visibility": null,
       "width": null
      }
     },
     "b4713deebc0f4b70bbe89e74e95b1cf1": {
      "model_module": "@jupyter-widgets/controls",
      "model_module_version": "2.0.0",
      "model_name": "LinkModel",
      "state": {
       "_model_module": "@jupyter-widgets/controls",
       "_model_module_version": "2.0.0",
       "_model_name": "LinkModel",
       "_view_count": null,
       "_view_module": "@jupyter-widgets/controls",
       "_view_module_version": "2.0.0",
       "_view_name": null,
       "source": [
        "IPY_MODEL_221362e7a8b844d1b0561be73ccfb43a",
        "max"
       ],
       "target": [
        "IPY_MODEL_a022063d0815400884ea497602c97f93",
        "max_frame"
       ]
      }
     },
     "b497749360b240b78392a16ab98415c1": {
      "model_module": "@jupyter-widgets/controls",
      "model_module_version": "2.0.0",
      "model_name": "PlayModel",
      "state": {
       "_dom_classes": [],
       "_model_module": "@jupyter-widgets/controls",
       "_model_module_version": "2.0.0",
       "_model_name": "PlayModel",
       "_view_count": null,
       "_view_module": "@jupyter-widgets/controls",
       "_view_module_version": "2.0.0",
       "_view_name": "PlayView",
       "description": "",
       "description_allow_html": false,
       "disabled": false,
       "interval": 100,
       "layout": "IPY_MODEL_17e5204d15224f7caac3cb98d0fb1328",
       "max": 0,
       "min": 0,
       "playing": false,
       "repeat": false,
       "show_repeat": true,
       "step": 1,
       "style": "IPY_MODEL_e7b906fb348a4b0d87f24024e497dbe3",
       "tabbable": null,
       "tooltip": null,
       "value": 0
      }
     },
     "bf41fe1325c440a1986e38df8759479c": {
      "model_module": "nglview-js-widgets",
      "model_module_version": "3.0.8",
      "model_name": "NGLModel",
      "state": {
       "_camera_orientation": [],
       "_camera_str": "orthographic",
       "_dom_classes": [],
       "_gui_theme": null,
       "_ibtn_fullscreen": "IPY_MODEL_24e65b6a36d74fc9b228248c00829d26",
       "_igui": null,
       "_iplayer": "IPY_MODEL_c4c16ba402f04789b0b02d48a5d539d2",
       "_model_module": "nglview-js-widgets",
       "_model_module_version": "3.0.8",
       "_model_name": "NGLModel",
       "_ngl_color_dict": {},
       "_ngl_coordinate_resource": {},
       "_ngl_full_stage_parameters": {},
       "_ngl_msg_archive": [
        {
         "args": [
          {
           "binary": false,
           "data": "MODEL        0\nATOM      1  O1x UNK A   0       2.219  -1.763  -0.913  1.00  0.00           O  \nATOM      2  C1x UNK A   0       1.208  -0.973  -0.548  1.00  0.00           C  \nATOM      3  C2x UNK A   0       0.615   0.031  -1.483  1.00  0.00           C  \nATOM      4  C3x UNK A   0      -0.813  -0.343  -2.045  1.00  0.00           C  \nATOM      5  C4x UNK A   0      -1.536   0.830  -2.765  1.00  0.00           C  \nATOM      6  C5x UNK A   0      -2.140   0.281  -4.035  1.00  0.00           C  \nATOM      7  C6x UNK A   0      -1.097  -0.798  -4.397  1.00  0.00           C  \nATOM      8  C7x UNK A   0      -0.662  -1.425  -3.170  1.00  0.00           C  \nATOM      9  O2x UNK A   0       0.759  -1.102   0.562  1.00  0.00           O  \nATOM     10  H1x UNK A   0       2.434  -2.385  -0.185  1.00  0.00           H  \nATOM     11  H2x UNK A   0       1.349   0.186  -2.275  1.00  0.00           H  \nATOM     12  H3x UNK A   0       0.442   0.955  -0.930  1.00  0.00           H  \nATOM     13  H4x UNK A   0      -1.416  -0.649  -1.190  1.00  0.00           H  \nATOM     14  H5x UNK A   0      -2.347   1.284  -2.196  1.00  0.00           H  \nATOM     15  H6x UNK A   0      -0.877   1.687  -2.904  1.00  0.00           H  \nATOM     16  H7x UNK A   0      -3.113  -0.135  -3.772  1.00  0.00           H  \nATOM     17  H8x UNK A   0      -2.277   1.019  -4.826  1.00  0.00           H  \nATOM     18  H9x UNK A   0      -1.592  -1.438  -5.127  1.00  0.00           H  \nATOM     19 H10x UNK A   0      -0.206  -0.311  -4.795  1.00  0.00           H  \nATOM     20 H11x UNK A   0       0.381  -1.734  -3.244  1.00  0.00           H  \nATOM     21 H12x UNK A   0      -1.267  -2.307  -2.956  1.00  0.00           H  \nTER      22      UNK A   0\nATOM     23  C1x UNK B   0       2.466  -3.627   2.835  1.00  0.00           C  \nATOM     24  C2x UNK B   0       4.311  -1.508   1.913  1.00  0.00           C  \nATOM     25  C3x UNK B   0       2.784  -2.396   3.613  1.00  0.00           C  \nATOM     26  C4x UNK B   0       3.134  -3.778   1.526  1.00  0.00           C  \nATOM     27  C5x UNK B   0       4.020  -2.740   1.153  1.00  0.00           C  \nATOM     28  C6x UNK B   0       3.683  -1.314   3.160  1.00  0.00           C  \nATOM     29  O1x UNK B   0       5.060  -0.467   1.307  1.00  0.00           O  \nATOM     30  C7x UNK B   0       3.822   0.179   3.926  1.00  0.00           C  \nATOM     31  C8x UNK B   0       4.268   0.531   0.512  1.00  0.00           C  \nATOM     32  O2x UNK B   0       4.002   1.687   1.413  1.00  0.00           O  \nATOM     33  C9x UNK B   0       2.780   1.792   2.184  1.00  0.00           C  \nATOM     34 C10x UNK B   0       2.594   1.197   3.430  1.00  0.00           C  \nATOM     35 C11x UNK B   0       1.288   1.410   4.096  1.00  0.00           C  \nATOM     36 C12x UNK B   0       1.821   2.751   1.743  1.00  0.00           C  \nATOM     37 C13x UNK B   0       0.161   2.247   3.595  1.00  0.00           C  \nATOM     38 C14x UNK B   0       0.530   2.931   2.348  1.00  0.00           C  \nATOM     39  O3x UNK B   0      -0.398   3.778   1.628  1.00  0.00           O  \nATOM     40 C15x UNK B   0      -1.318   2.333   4.170  1.00  0.00           C  \nATOM     41 C16x UNK B   0      -2.260   1.274   3.477  1.00  0.00           C  \nATOM     42 C17x UNK B   0      -2.829   1.607   2.214  1.00  0.00           C  \nATOM     43 C18x UNK B   0      -1.505   3.111   0.748  1.00  0.00           C  \nATOM     44  O4x UNK B   0      -2.676   2.896   1.573  1.00  0.00           O  \nATOM     45  O5x UNK B   0       3.011  -4.875   0.567  1.00  0.00           O  \nATOM     46 C19x UNK B   0       1.512  -4.947   3.351  1.00  0.00           C  \nATOM     47 C20x UNK B   0       0.054  -4.651   2.783  1.00  0.00           C  \nATOM     48  O6x UNK B   0       0.739  -5.721   0.447  1.00  0.00           O  \nATOM     49 C21x UNK B   0      -0.140  -4.994   1.351  1.00  0.00           C  \nATOM     50 C22x UNK B   0      -3.582   0.616   1.476  1.00  0.00           C  \nATOM     51 C23x UNK B   0      -3.803  -0.690   1.885  1.00  0.00           C  \nATOM     52 C24x UNK B   0      -1.424  -4.595   0.783  1.00  0.00           C  \nATOM     53 C25x UNK B   0      -2.469  -3.921   1.421  1.00  0.00           C  \nATOM     54  O7x UNK B   0      -4.549  -1.524   0.943  1.00  0.00           O  \nATOM     55  O8x UNK B   0      -3.646  -3.720   0.635  1.00  0.00           O  \nATOM     56 C26x UNK B   0      -3.786  -2.382  -0.034  1.00  0.00           C  \nATOM     57 C27x UNK B   0      -1.090  -4.035   3.524  1.00  0.00           C  \nATOM     58 C28x UNK B   0      -2.354  -3.614   2.916  1.00  0.00           C  \nATOM     59 C29x UNK B   0      -2.486  -0.123   3.924  1.00  0.00           C  \nATOM     60 C30x UNK B   0      -3.588  -2.749   3.596  1.00  0.00           C  \nATOM     61 C31x UNK B   0      -3.342  -1.078   3.197  1.00  0.00           C  \nATOM     62 C32x UNK B   0       1.742  -4.894  -0.307  1.00  0.00           C  \nATOM     63 C33x UNK B   0      -1.592   2.701   5.753  1.00  0.00           C  \nATOM     64 C34x UNK B   0      -2.627   3.966   6.049  1.00  0.00           C  \nATOM     65 C35x UNK B   0      -2.691   4.712   7.495  1.00  0.00           C  \nATOM     66  O9x UNK B   0      -2.370   5.949   7.623  1.00  0.00           O  \nATOM     67 C36x UNK B   0       4.507   0.113   5.540  1.00  0.00           C  \nATOM     68 C37x UNK B   0       5.634   1.156   5.941  1.00  0.00           C  \nATOM     69 C38x UNK B   0       6.276   1.225   7.423  1.00  0.00           C  \nATOM     70 O10x UNK B   0       6.372   2.347   8.033  1.00  0.00           O  \nATOM     71 C39x UNK B   0       1.633  -5.759   4.909  1.00  0.00           C  \nATOM     72 C40x UNK B   0       1.873  -7.347   4.873  1.00  0.00           C  \nATOM     73 C41x UNK B   0       2.092  -8.375   6.105  1.00  0.00           C  \nATOM     74 O11x UNK B   0       2.239  -9.619   5.931  1.00  0.00           O  \nATOM     75 C42x UNK B   0      -4.139  -3.065   5.165  1.00  0.00           C  \nATOM     76 C43x UNK B   0      -5.386  -4.152   5.345  1.00  0.00           C  \nATOM     77 C44x UNK B   0      -6.248  -4.264   6.668  1.00  0.00           C  \nATOM     78 O12x UNK B   0      -5.926  -3.622   7.695  1.00  0.00           O  \nATOM     79 C45x UNK B   0       4.753   0.919  -0.994  1.00  0.00           C  \nATOM     80 C46x UNK B   0       5.678   1.590  -3.653  1.00  0.00           C  \nATOM     81 C47x UNK B   0       4.445   2.237  -1.593  1.00  0.00           C  \nATOM     82 C48x UNK B   0       5.430  -0.049  -1.770  1.00  0.00           C  \nATOM     83 C49x UNK B   0       5.925   0.229  -3.174  1.00  0.00           C  \nATOM     84 C50x UNK B   0       4.897   2.613  -2.979  1.00  0.00           C  \nATOM     85 C51x UNK B   0       1.997  -5.316  -1.892  1.00  0.00           C  \nATOM     86 C52x UNK B   0       2.405  -5.600  -4.740  1.00  0.00           C  \nATOM     87 C53x UNK B   0       0.901  -5.708  -2.785  1.00  0.00           C  \nATOM     88 C54x UNK B   0       3.230  -5.030  -2.547  1.00  0.00           C  \nATOM     89 C55x UNK B   0       3.500  -5.139  -3.975  1.00  0.00           C  \nATOM     90 C56x UNK B   0       1.128  -5.845  -4.213  1.00  0.00           C  \nATOM     91 C57x UNK B   0      -4.437  -2.398  -1.603  1.00  0.00           C  \nATOM     92 C58x UNK B   0      -5.143  -2.181  -4.403  1.00  0.00           C  \nATOM     93 C59x UNK B   0      -5.165  -1.248  -2.127  1.00  0.00           C  \nATOM     94 C60x UNK B   0      -4.055  -3.388  -2.623  1.00  0.00           C  \nATOM     95 C61x UNK B   0      -4.414  -3.381  -3.966  1.00  0.00           C  \nATOM     96 C62x UNK B   0      -5.511  -1.092  -3.547  1.00  0.00           C  \nATOM     97 C63x UNK B   0      -1.646   3.846  -0.706  1.00  0.00           C  \nATOM     98 C64x UNK B   0      -1.753   4.869  -3.449  1.00  0.00           C  \nATOM     99 C65x UNK B   0      -2.841   3.676  -1.527  1.00  0.00           C  \nATOM    100 C66x UNK B   0      -0.479   4.538  -1.367  1.00  0.00           C  \nATOM    101 C67x UNK B   0      -0.479   5.027  -2.722  1.00  0.00           C  \nATOM    102 C68x UNK B   0      -2.955   4.217  -2.873  1.00  0.00           C  \nATOM    103 O13x UNK B   0       4.802  -5.233  -4.542  1.00  0.00           O  \nATOM    104 O14x UNK B   0      -4.594  -4.506  -4.885  1.00  0.00           O  \nATOM    105 O15x UNK B   0      -6.546  -0.124  -4.056  1.00  0.00           O  \nATOM    106 O16x UNK B   0       7.051  -0.562  -3.798  1.00  0.00           O  \nATOM    107 O17x UNK B   0       5.095   4.004  -3.513  1.00  0.00           O  \nATOM    108 O18x UNK B   0      -4.187   4.536  -3.555  1.00  0.00           O  \nATOM    109 O19x UNK B   0       0.347   6.127  -3.110  1.00  0.00           O  \nATOM    110 C69x UNK B   0      -3.496  -5.329  -5.288  1.00  0.00           C  \nATOM    111 C70x UNK B   0      -1.694  -7.254  -6.334  1.00  0.00           C  \nATOM    112 C71x UNK B   0      -2.117  -5.318  -4.843  1.00  0.00           C  \nATOM    113 C72x UNK B   0      -3.885  -6.300  -6.323  1.00  0.00           C  \nATOM    114 C73x UNK B   0      -3.032  -7.274  -6.838  1.00  0.00           C  \nATOM    115 C74x UNK B   0      -1.179  -6.297  -5.354  1.00  0.00           C  \nATOM    116 O20x UNK B   0       0.272  -6.564  -5.154  1.00  0.00           O  \nATOM    117 C75x UNK B   0       6.802  -1.841  -4.474  1.00  0.00           C  \nATOM    118 C76x UNK B   0       6.742  -4.399  -5.723  1.00  0.00           C  \nATOM    119 C77x UNK B   0       7.927  -2.325  -5.234  1.00  0.00           C  \nATOM    120 C78x UNK B   0       5.643  -2.756  -4.217  1.00  0.00           C  \nATOM    121 C79x UNK B   0       5.605  -4.099  -4.850  1.00  0.00           C  \nATOM    122 C80x UNK B   0       7.881  -3.567  -5.914  1.00  0.00           C  \nATOM    123 C81x UNK B   0      -6.277   1.293  -4.318  1.00  0.00           C  \nATOM    124 C82x UNK B   0      -6.078   4.000  -4.898  1.00  0.00           C  \nATOM    125 C83x UNK B   0      -7.244   1.934  -5.113  1.00  0.00           C  \nATOM    126 C84x UNK B   0      -5.153   2.077  -3.761  1.00  0.00           C  \nATOM    127 C85x UNK B   0      -5.124   3.473  -4.002  1.00  0.00           C  \nATOM    128 C86x UNK B   0      -7.224   3.348  -5.441  1.00  0.00           C  \nATOM    129 C87x UNK B   0      -8.281   4.071  -6.353  1.00  0.00           C  \nATOM    130 O21x UNK B   0      -9.304   3.445  -6.814  1.00  0.00           O  \nATOM    131 C88x UNK B   0       3.901   8.479  -5.704  1.00  0.00           C  \nATOM    132 O22x UNK B   0       5.047   8.659  -6.233  1.00  0.00           O  \nATOM    133 C89x UNK B   0       9.061  -4.041  -6.821  1.00  0.00           C  \nATOM    134 O23x UNK B   0       9.095  -5.180  -7.382  1.00  0.00           O  \nATOM    135 O24x UNK B   0      -3.432   4.243   8.462  1.00  0.00           O  \nATOM    136 O25x UNK B   0      -7.421  -4.710   6.667  1.00  0.00           O  \nATOM    137 O26x UNK B   0       2.087  -7.983   7.314  1.00  0.00           O  \nATOM    138 C90x UNK B   0      -3.395  -8.181  -8.065  1.00  0.00           C  \nATOM    139 O27x UNK B   0      -2.589  -8.957  -8.630  1.00  0.00           O  \nATOM    140 O28x UNK B   0       3.114   9.403  -5.983  1.00  0.00           O  \nATOM    141 O29x UNK B   0      -8.304   5.322  -6.594  1.00  0.00           O  \nATOM    142 O30x UNK B   0      -4.621  -8.270  -8.542  1.00  0.00           O  \nATOM    143 O31x UNK B   0      10.050  -3.318  -7.098  1.00  0.00           O  \nATOM    144 O32x UNK B   0       6.811   0.238   7.949  1.00  0.00           O  \nATOM    145 C91x UNK B   0       3.908   4.908  -3.840  1.00  0.00           C  \nATOM    146 C92x UNK B   0       2.065   7.073  -4.457  1.00  0.00           C  \nATOM    147 C93x UNK B   0       2.503   4.856  -3.454  1.00  0.00           C  \nATOM    148 C94x UNK B   0       4.319   6.122  -4.531  1.00  0.00           C  \nATOM    149 C95x UNK B   0       3.435   7.252  -4.874  1.00  0.00           C  \nATOM    150 C96x UNK B   0       1.571   5.888  -3.758  1.00  0.00           C  \nATOM    151  H1x UNK B   0       2.358  -2.183   4.585  1.00  0.00           H  \nATOM    152  H2x UNK B   0       4.502  -2.897   0.196  1.00  0.00           H  \nATOM    153  H3x UNK B   0       4.651   0.658   3.405  1.00  0.00           H  \nATOM    154  H4x UNK B   0       3.309   0.074   0.269  1.00  0.00           H  \nATOM    155  H5x UNK B   0       1.212   0.874   5.032  1.00  0.00           H  \nATOM    156  H6x UNK B   0       1.924   3.200   0.764  1.00  0.00           H  \nATOM    157  H7x UNK B   0      -1.658   3.257   3.702  1.00  0.00           H  \nATOM    158  H8x UNK B   0      -1.096   2.114   0.583  1.00  0.00           H  \nATOM    159  H9x UNK B   0       1.837  -5.764   2.707  1.00  0.00           H  \nATOM    160 H10x UNK B   0      -3.854   0.875   0.461  1.00  0.00           H  \nATOM    161 H11x UNK B   0      -1.568  -4.861  -0.256  1.00  0.00           H  \nATOM    162 H12x UNK B   0      -2.793  -1.942  -0.135  1.00  0.00           H  \nATOM    163 H13x UNK B   0      -0.801  -3.774   4.533  1.00  0.00           H  \nATOM    164 H14x UNK B   0      -1.935  -0.277   4.843  1.00  0.00           H  \nATOM    165 H15x UNK B   0      -4.508  -3.008   3.071  1.00  0.00           H  \nATOM    166 H16x UNK B   0       1.300  -3.898  -0.341  1.00  0.00           H  \nATOM    167 H17x UNK B   0      -1.757   1.821   6.373  1.00  0.00           H  \nATOM    168 H18x UNK B   0      -0.658   3.120   6.129  1.00  0.00           H  \nATOM    169 H19x UNK B   0      -2.473   4.742   5.299  1.00  0.00           H  \nATOM    170 H20x UNK B   0      -3.608   3.555   5.806  1.00  0.00           H  \nATOM    171 H21x UNK B   0       5.039  -0.832   5.656  1.00  0.00           H  \nATOM    172 H22x UNK B   0       3.739   0.061   6.312  1.00  0.00           H  \nATOM    173 H23x UNK B   0       6.408   1.269   5.182  1.00  0.00           H  \nATOM    174 H24x UNK B   0       5.169   2.132   5.798  1.00  0.00           H  \nATOM    175 H25x UNK B   0       2.506  -5.390   5.447  1.00  0.00           H  \nATOM    176 H26x UNK B   0       0.777  -5.556   5.552  1.00  0.00           H  \nATOM    177 H27x UNK B   0       1.084  -7.766   4.248  1.00  0.00           H  \nATOM    178 H28x UNK B   0       2.756  -7.447   4.242  1.00  0.00           H  \nATOM    179 H29x UNK B   0      -3.378  -3.281   5.915  1.00  0.00           H  \nATOM    180 H30x UNK B   0      -4.515  -2.101   5.506  1.00  0.00           H  \nATOM    181 H31x UNK B   0      -6.020  -3.910   4.492  1.00  0.00           H  \nATOM    182 H32x UNK B   0      -5.060  -5.175   5.158  1.00  0.00           H  \nATOM    183 H33x UNK B   0       6.170   1.819  -4.589  1.00  0.00           H  \nATOM    184 H34x UNK B   0       3.968   3.008  -1.004  1.00  0.00           H  \nATOM    185 H35x UNK B   0       5.607  -0.990  -1.266  1.00  0.00           H  \nATOM    186 H36x UNK B   0       2.602  -5.743  -5.794  1.00  0.00           H  \nATOM    187 H37x UNK B   0      -0.040  -5.973  -2.321  1.00  0.00           H  \nATOM    188 H38x UNK B   0       4.070  -4.759  -1.921  1.00  0.00           H  \nATOM    189 H39x UNK B   0      -5.461  -2.204  -5.437  1.00  0.00           H  \nATOM    190 H40x UNK B   0      -5.309  -0.360  -1.527  1.00  0.00           H  \nATOM    191 H41x UNK B   0      -3.498  -4.253  -2.290  1.00  0.00           H  \nATOM    192 H42x UNK B   0      -1.831   5.364  -4.409  1.00  0.00           H  \nATOM    193 H43x UNK B   0      -3.697   3.203  -1.064  1.00  0.00           H  \nATOM    194 H44x UNK B   0       0.459   4.757  -0.875  1.00  0.00           H  \nATOM    195 H45x UNK B   0      -1.059  -8.004  -6.786  1.00  0.00           H  \nATOM    196 H46x UNK B   0      -1.731  -4.593  -4.139  1.00  0.00           H  \nATOM    197 H47x UNK B   0      -4.938  -6.357  -6.566  1.00  0.00           H  \nATOM    198 H48x UNK B   0       6.816  -5.412  -6.095  1.00  0.00           H  \nATOM    199 H49x UNK B   0       8.811  -1.710  -5.124  1.00  0.00           H  \nATOM    200 H50x UNK B   0       4.919  -2.444  -3.477  1.00  0.00           H  \nATOM    201 H51x UNK B   0      -6.055   5.060  -5.111  1.00  0.00           H  \nATOM    202 H52x UNK B   0      -8.074   1.353  -5.493  1.00  0.00           H  \nATOM    203 H53x UNK B   0      -4.365   1.572  -3.218  1.00  0.00           H  \nATOM    204 H54x UNK B   0       1.345   7.874  -4.562  1.00  0.00           H  \nATOM    205 H55x UNK B   0       2.040   4.068  -2.875  1.00  0.00           H  \nATOM    206 H56x UNK B   0       5.378   6.259  -4.706  1.00  0.00           H  \nTER     207      UNK B   0\nENDMDL\nCONECT    1    2   10\nCONECT    2    1    3    9\nCONECT    3    2    4   11   12\nCONECT    4    3    8    5   13\nCONECT    5    4    6   14   15\nCONECT    6    5    7   16   17\nCONECT    7    6    8   18   19\nCONECT    8    4    7   20   21\nCONECT    9    2\nCONECT   10    1\nCONECT   11    3\nCONECT   12    3\nCONECT   13    4\nCONECT   14    5\nCONECT   15    5\nCONECT   16    6\nCONECT   17    6\nCONECT   18    7\nCONECT   19    7\nCONECT   20    8\nCONECT   21    8\nCONECT   23   25   26   46\nCONECT   24   27   28   29\nCONECT   25   23   28  151\nCONECT   26   23   27   45\nCONECT   27   24   26  152\nCONECT   28   24   25   30\nCONECT   29   24   31\nCONECT   30   28   34   67  153\nCONECT   31   29   32   79  154\nCONECT   32   31   33\nCONECT   33   32   34   36\nCONECT   34   30   33   35\nCONECT   35   34   37  155\nCONECT   36   33   38  156\nCONECT   37   35   38   40\nCONECT   38   36   37   39\nCONECT   39   38   43\nCONECT   40   37   41   63  157\nCONECT   41   40   42   59\nCONECT   42   41   44   50\nCONECT   43   39   44   97  158\nCONECT   44   42   43\nCONECT   45   26   62\nCONECT   46   23   47   71  159\nCONECT   47   46   49   57\nCONECT   48   49   62\nCONECT   49   47   48   52\nCONECT   50   42   51  160\nCONECT   51   50   54   61\nCONECT   52   49   53  161\nCONECT   53   52   55   58\nCONECT   54   51   56\nCONECT   55   53   56\nCONECT   56   54   55   91  162\nCONECT   57   47   58  163\nCONECT   58   53   57   60\nCONECT   59   41   61  164\nCONECT   60   58   61   75  165\nCONECT   61   51   59   60\nCONECT   62   45   48   85  166\nCONECT   63   40   64  167  168\nCONECT   64   63   65  169  170\nCONECT   65   64   66  135\nCONECT   66   65\nCONECT   67   30   68  171  172\nCONECT   68   67   69  173  174\nCONECT   69   68   70  144\nCONECT   70   69\nCONECT   71   46   72  175  176\nCONECT   72   71   73  177  178\nCONECT   73   72   74  137\nCONECT   74   73\nCONECT   75   60   76  179  180\nCONECT   76   75   77  181  182\nCONECT   77   76   78  136\nCONECT   78   77\nCONECT   79   31   81   82\nCONECT   80   83   84  183\nCONECT   81   79   84  184\nCONECT   82   79   83  185\nCONECT   83   80   82  106\nCONECT   84   80   81  107\nCONECT   85   62   87   88\nCONECT   86   89   90  186\nCONECT   87   85   90  187\nCONECT   88   85   89  188\nCONECT   89   86   88  103\nCONECT   90   86   87  116\nCONECT   91   56   93   94\nCONECT   92   95   96  189\nCONECT   93   91   96  190\nCONECT   94   91   95  191\nCONECT   95   92   94  104\nCONECT   96   92   93  105\nCONECT   97   43   99  100\nCONECT   98  101  102  192\nCONECT   99   97  102  193\nCONECT  100   97  101  194\nCONECT  101   98  100  109\nCONECT  102   98   99  108\nCONECT  103   89  121\nCONECT  104   95  110\nCONECT  105   96  123\nCONECT  106   83  117\nCONECT  107   84  145\nCONECT  108  102  127\nCONECT  109  101  150\nCONECT  110  104  112  113\nCONECT  111  114  115  195\nCONECT  112  110  115  196\nCONECT  113  110  114  197\nCONECT  114  111  113  138\nCONECT  115  111  112  116\nCONECT  116   90  115\nCONECT  117  106  119  120\nCONECT  118  121  122  198\nCONECT  119  117  122  199\nCONECT  120  117  121  200\nCONECT  121  103  118  120\nCONECT  122  118  119  133\nCONECT  123  105  125  126\nCONECT  124  127  128  201\nCONECT  125  123  128  202\nCONECT  126  123  127  203\nCONECT  127  108  124  126\nCONECT  128  124  125  129\nCONECT  129  128  130  141\nCONECT  130  129\nCONECT  131  132  140  149\nCONECT  132  131\nCONECT  133  122  134  143\nCONECT  134  133\nCONECT  135   65\nCONECT  136   77\nCONECT  137   73\nCONECT  138  114  139  142\nCONECT  139  138\nCONECT  140  131\nCONECT  141  129\nCONECT  142  138\nCONECT  143  133\nCONECT  144   69\nCONECT  145  107  147  148\nCONECT  146  149  150  204\nCONECT  147  145  150  205\nCONECT  148  145  149  206\nCONECT  149  131  146  148\nCONECT  150  109  146  147\nCONECT  151   25\nCONECT  152   27\nCONECT  153   30\nCONECT  154   31\nCONECT  155   35\nCONECT  156   36\nCONECT  157   40\nCONECT  158   43\nCONECT  159   46\nCONECT  160   50\nCONECT  161   52\nCONECT  162   56\nCONECT  163   57\nCONECT  164   59\nCONECT  165   60\nCONECT  166   62\nCONECT  167   63\nCONECT  168   63\nCONECT  169   64\nCONECT  170   64\nCONECT  171   67\nCONECT  172   67\nCONECT  173   68\nCONECT  174   68\nCONECT  175   71\nCONECT  176   71\nCONECT  177   72\nCONECT  178   72\nCONECT  179   75\nCONECT  180   75\nCONECT  181   76\nCONECT  182   76\nCONECT  183   80\nCONECT  184   81\nCONECT  185   82\nCONECT  186   86\nCONECT  187   87\nCONECT  188   88\nCONECT  189   92\nCONECT  190   93\nCONECT  191   94\nCONECT  192   98\nCONECT  193   99\nCONECT  194  100\nCONECT  195  111\nCONECT  196  112\nCONECT  197  113\nCONECT  198  118\nCONECT  199  119\nCONECT  200  120\nCONECT  201  124\nCONECT  202  125\nCONECT  203  126\nCONECT  204  146\nCONECT  205  147\nCONECT  206  148\nEND\n",
           "type": "blob"
          }
         ],
         "kwargs": {
          "defaultRepresentation": true,
          "ext": "pdb",
          "name": "nglview.adaptor.MDTrajTrajectory"
         },
         "methodName": "loadFile",
         "reconstruc_color_scheme": false,
         "target": "Stage",
         "type": "call_method"
        }
       ],
       "_ngl_original_stage_parameters": {},
       "_ngl_repr_dict": {},
       "_ngl_serialize": false,
       "_ngl_version": "",
       "_ngl_view_id": [],
       "_player_dict": {},
       "_scene_position": {},
       "_scene_rotation": {},
       "_synced_model_ids": [],
       "_synced_repr_model_ids": [],
       "_view_count": null,
       "_view_height": "",
       "_view_module": "nglview-js-widgets",
       "_view_module_version": "3.0.8",
       "_view_name": "NGLView",
       "_view_width": "",
       "background": "white",
       "frame": 0,
       "gui_style": null,
       "layout": "IPY_MODEL_a75b22c9bb2c45958a685c92ceb1d0d1",
       "max_frame": 40,
       "n_components": 0,
       "picked": {},
       "tabbable": null,
       "tooltip": null
      }
     },
     "c24a3cf721df432e919bd4699673d78e": {
      "model_module": "@jupyter-widgets/controls",
      "model_module_version": "2.0.0",
      "model_name": "LinkModel",
      "state": {
       "_model_module": "@jupyter-widgets/controls",
       "_model_module_version": "2.0.0",
       "_model_name": "LinkModel",
       "_view_count": null,
       "_view_module": "@jupyter-widgets/controls",
       "_view_module_version": "2.0.0",
       "_view_name": null,
       "source": [
        "IPY_MODEL_1613f141ff5c42e2a8c9f32c5d2b3eac",
        "max"
       ],
       "target": [
        "IPY_MODEL_bf41fe1325c440a1986e38df8759479c",
        "max_frame"
       ]
      }
     },
     "c4adb39de4c5491b9c8bc2ef80aa2cc9": {
      "model_module": "@jupyter-widgets/controls",
      "model_module_version": "2.0.0",
      "model_name": "LinkModel",
      "state": {
       "_model_module": "@jupyter-widgets/controls",
       "_model_module_version": "2.0.0",
       "_model_name": "LinkModel",
       "_view_count": null,
       "_view_module": "@jupyter-widgets/controls",
       "_view_module_version": "2.0.0",
       "_view_name": null,
       "source": [
        "IPY_MODEL_b497749360b240b78392a16ab98415c1",
        "value"
       ],
       "target": [
        "IPY_MODEL_221362e7a8b844d1b0561be73ccfb43a",
        "value"
       ]
      }
     },
     "c4c16ba402f04789b0b02d48a5d539d2": {
      "model_module": "@jupyter-widgets/controls",
      "model_module_version": "2.0.0",
      "model_name": "HBoxModel",
      "state": {
       "_dom_classes": [],
       "_model_module": "@jupyter-widgets/controls",
       "_model_module_version": "2.0.0",
       "_model_name": "HBoxModel",
       "_view_count": null,
       "_view_module": "@jupyter-widgets/controls",
       "_view_module_version": "2.0.0",
       "_view_name": "HBoxView",
       "box_style": "",
       "children": [
        "IPY_MODEL_4dee657ea11741309a98aa9ebe973933",
        "IPY_MODEL_1613f141ff5c42e2a8c9f32c5d2b3eac"
       ],
       "layout": "IPY_MODEL_0e3bfcabc31d49ec90dbe1b075a1b6a4",
       "tabbable": null,
       "tooltip": null
      }
     },
     "df3c98b974504669b46204571d25d41a": {
      "model_module": "@jupyter-widgets/controls",
      "model_module_version": "2.0.0",
      "model_name": "ButtonStyleModel",
      "state": {
       "_model_module": "@jupyter-widgets/controls",
       "_model_module_version": "2.0.0",
       "_model_name": "ButtonStyleModel",
       "_view_count": null,
       "_view_module": "@jupyter-widgets/base",
       "_view_module_version": "2.0.0",
       "_view_name": "StyleView",
       "button_color": null,
       "font_family": null,
       "font_size": null,
       "font_style": null,
       "font_variant": null,
       "font_weight": null,
       "text_color": null,
       "text_decoration": null
      }
     },
     "e7b906fb348a4b0d87f24024e497dbe3": {
      "model_module": "@jupyter-widgets/controls",
      "model_module_version": "2.0.0",
      "model_name": "DescriptionStyleModel",
      "state": {
       "_model_module": "@jupyter-widgets/controls",
       "_model_module_version": "2.0.0",
       "_model_name": "DescriptionStyleModel",
       "_view_count": null,
       "_view_module": "@jupyter-widgets/base",
       "_view_module_version": "2.0.0",
       "_view_name": "StyleView",
       "description_width": ""
      }
     },
     "e9f70f36617b43ecb05528eb4c626aef": {
      "buffers": [
       {
        "data": "",
        "encoding": "base64",
        "path": [
         "value"
        ]
       }
      ],
      "model_module": "@jupyter-widgets/controls",
      "model_module_version": "2.0.0",
      "model_name": "ImageModel",
      "state": {
       "_dom_classes": [],
       "_model_module": "@jupyter-widgets/controls",
       "_model_module_version": "2.0.0",
       "_model_name": "ImageModel",
       "_view_count": null,
       "_view_module": "@jupyter-widgets/controls",
       "_view_module_version": "2.0.0",
       "_view_name": "ImageView",
       "format": "png",
       "height": "",
       "layout": "IPY_MODEL_52940688380e4b799be357e5a6c1f6b2",
       "tabbable": null,
       "tooltip": null,
       "width": "900.0"
      }
     },
     "f28ad22f62fd4117a694e61aefc33350": {
      "buffers": [
       {
        "data": "",
        "encoding": "base64",
        "path": [
         "value"
        ]
       }
      ],
      "model_module": "@jupyter-widgets/controls",
      "model_module_version": "2.0.0",
      "model_name": "ImageModel",
      "state": {
       "_dom_classes": [],
       "_model_module": "@jupyter-widgets/controls",
       "_model_module_version": "2.0.0",
       "_model_name": "ImageModel",
       "_view_count": null,
       "_view_module": "@jupyter-widgets/controls",
       "_view_module_version": "2.0.0",
       "_view_name": "ImageView",
       "format": "png",
       "height": "",
       "layout": "IPY_MODEL_8e751a89e9bf42bf91d84bb0f97105fe",
       "tabbable": null,
       "tooltip": null,
       "width": "900.0"
      }
     }
    },
    "version_major": 2,
    "version_minor": 0
   }
  }
 },
 "nbformat": 4,
 "nbformat_minor": 5
}
