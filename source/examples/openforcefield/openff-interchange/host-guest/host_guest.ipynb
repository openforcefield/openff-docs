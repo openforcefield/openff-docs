{
 "cells": [
  {
   "cell_type": "markdown",
   "id": "0",
   "metadata": {
    "tags": []
   },
   "source": [
    "### Host-guest systems\n",
    "\n",
    "This is a refresh of [a notebook](https://github.com/openforcefield/openff-toolkit/blob/master/examples/deprecated/host_guest_simulation/smirnoff_host_guest.ipynb) written by David Mobley with the following modifications:\n",
    "* A pre-docked guest is used `docked_guest.mol2` was saved and converted to `guest.sdf`)\n",
    "* Mol2 files converted to SDF (`OA.mol2` was converted to `host.sdf`)\n",
    "\n",
    "In this notebook, a prepared host-guest complex is loaded "
   ]
  },
  {
   "cell_type": "code",
   "execution_count": 1,
   "id": "1",
   "metadata": {
    "execution": {
     "iopub.execute_input": "2025-11-01T00:12:55.371353Z",
     "iopub.status.busy": "2025-11-01T00:12:55.371143Z",
     "iopub.status.idle": "2025-11-01T00:13:01.060779Z",
     "shell.execute_reply": "2025-11-01T00:13:01.059968Z"
    }
   },
   "outputs": [
    {
     "data": {
      "application/vnd.jupyter.widget-view+json": {
       "model_id": "380e2398f98143e8a56528ed54558f17",
       "version_major": 2,
       "version_minor": 0
      },
      "text/plain": []
     },
     "metadata": {},
     "output_type": "display_data"
    }
   ],
   "source": [
    "import mdtraj\n",
    "import nglview\n",
    "import openmm\n",
    "import openmm.app\n",
    "import openmm.unit\n",
    "from openff.toolkit import ForceField, Molecule, Topology\n",
    "from openff.toolkit.utils.nagl_wrapper import NAGLToolkitWrapper"
   ]
  },
  {
   "cell_type": "markdown",
   "id": "2",
   "metadata": {},
   "source": [
    "Just like [any other molecule](https://docs.openforcefield.org/projects/toolkit/en/stable/users/molecule_cookbook.html), we begin by loading representations (in this case, files on disk) into `Molecule` objects."
   ]
  },
  {
   "cell_type": "code",
   "execution_count": 2,
   "id": "3",
   "metadata": {
    "execution": {
     "iopub.execute_input": "2025-11-01T00:13:01.063338Z",
     "iopub.status.busy": "2025-11-01T00:13:01.062894Z",
     "iopub.status.idle": "2025-11-01T00:13:01.170387Z",
     "shell.execute_reply": "2025-11-01T00:13:01.168870Z"
    }
   },
   "outputs": [],
   "source": [
    "guest = Molecule.from_file(\"guest.sdf\")\n",
    "host = Molecule.from_file(\"host.sdf\")"
   ]
  },
  {
   "cell_type": "markdown",
   "id": "4",
   "metadata": {},
   "source": [
    "Again, like many other workflows, we \"combine\" multiple `Molecule`s into a single `Topology` object. We can also visualize the result to ensure the guest looks reasonably docked into the host. (Use your cursor to move the complex around.)"
   ]
  },
  {
   "cell_type": "code",
   "execution_count": 3,
   "id": "5",
   "metadata": {
    "execution": {
     "iopub.execute_input": "2025-11-01T00:13:01.172349Z",
     "iopub.status.busy": "2025-11-01T00:13:01.172162Z",
     "iopub.status.idle": "2025-11-01T00:13:01.247203Z",
     "shell.execute_reply": "2025-11-01T00:13:01.246256Z"
    }
   },
   "outputs": [
    {
     "data": {
      "application/vnd.jupyter.widget-view+json": {
       "model_id": "503553f9d36545329f827d849b84ffb4",
       "version_major": 2,
       "version_minor": 0
      },
      "text/plain": [
       "NGLWidget()"
      ]
     },
     "metadata": {},
     "output_type": "display_data"
    }
   ],
   "source": [
    "docked_topology = Topology.from_molecules([guest, host])\n",
    "docked_topology.visualize()"
   ]
  },
  {
   "cell_type": "markdown",
   "id": "6",
   "metadata": {},
   "source": [
    "We can safely use Sage or a similar small molecule force field to parameterize the guest. But the host is large (128 heavy atoms, 184 atoms total) and charge assignment using AM1-BCC may take tens of minutes to hours. We can instead use [OpenFF NAGL](https://github.com/openforcefield/openff-nagl), which uses a graph-convolutional neural network (GCNN or GNN) to mimic AM1-BCC partial charges (specifically the ELF10 variant). Not counting the time it takes to import the Python module and load the model, charge assignment for the host should take on the order of hundreds of milliseconds. (Larger polymers may take slightly longer but the scaling is sub-linear with number of atoms!)\n",
    "\n",
    "For more on GCNNs, see [Espaloma](https://github.com/choderalab/espaloma) and its associated paper."
   ]
  },
  {
   "cell_type": "code",
   "execution_count": 4,
   "id": "7",
   "metadata": {
    "execution": {
     "iopub.execute_input": "2025-11-01T00:13:01.256506Z",
     "iopub.status.busy": "2025-11-01T00:13:01.256328Z",
     "iopub.status.idle": "2025-11-01T00:13:04.150113Z",
     "shell.execute_reply": "2025-11-01T00:13:04.148844Z"
    }
   },
   "outputs": [
    {
     "name": "stderr",
     "output_type": "stream",
     "text": [
      "DGL backend not selected or invalid.  Assuming PyTorch for now.\n"
     ]
    },
    {
     "name": "stdout",
     "output_type": "stream",
     "text": [
      "Setting the default backend to \"pytorch\". You can change it in the ~/.dgl/config.json file or export the DGLBACKEND environment variable.  Valid options are: pytorch, mxnet, tensorflow (all lowercase)\n"
     ]
    },
    {
     "data": {
      "text/html": [
       "<table><tbody><tr><th>Magnitude</th><td style='text-align:left;'><pre>[-0.108 -0.004 -0.159 -0.004 -0.285 -0.108 -0.458 -0.026 0.205 -0.458 -0.004 -0.108 -0.159 -0.285 -0.108 -0.004 -0.458 -0.026 -0.108 -0.004 0.205 -0.458 -0.458 -0.026 -0.108 -0.458 -0.004 -0.285 -0.004 -0.285 -0.004 -0.458 -0.458 0.205 -0.159 -0.108 -0.159 -0.026 -0.108 0.205 -0.188 -0.112 0.114 -0.382 -0.188 -0.112 0.114 -0.382 -0.188 -0.112 0.114 -0.382 -0.188 -0.112 0.114 -0.382 -0.206 -0.291 -0.27 -0.27 0.048 0.048 -0.206 -0.291 -0.27 -0.27 0.048 0.048 -0.206 -0.291 -0.27 -0.27 0.048 0.048 -0.206 -0.291 -0.27 -0.27 0.048 0.048 -0.329 -0.329 -0.329 -0.329 -0.329 -0.329 -0.329 -0.056 -0.223 -0.191 -0.223 -0.121 -0.056 -0.329 -0.056 -0.223 -0.223 -0.191 -0.056 -0.121 -0.056 -0.223 -0.223 -0.191 -0.056 -0.121 -0.001 -0.436 -0.001 -0.436 -0.001 -0.436 -0.382 -0.382 -0.382 -0.001 -0.436 -0.436 -0.436 -0.436 -0.436 -0.382 -0.056 -0.223 -0.191 -0.223 -0.121 -0.056 0.019 0.043 -0.03 -0.065 0.019 0.043 -0.03 -0.065 -0.03 0.043 0.043 -0.065 0.019 0.019 -0.03 -0.065 -0.134 -0.134 -0.089 -0.089 -0.134 -0.134 -0.089 -0.089 -0.134 -0.134 -0.089 -0.089 -0.134 -0.134 -0.089 -0.089 0.042 0.034 0.034 0.042 0.034 0.034 0.042 0.034 0.034 0.042 0.034 0.034 0.041 -0.019 0.041 0.041 0.041 -0.019 0.041 0.041 -0.019 0.041 -0.019 0.041]</pre></td></tr><tr><th>Units</th><td style='text-align:left;'>elementary_charge</td></tr></tbody></table>"
      ],
      "text/latex": [
       "$\\begin{pmatrix} &  &  &  &  &  &  &  &  &  &  &  &  &  &  &  &  &  &  &  &  &  &  &  &  &  &  &  &  &  &  &  &  &  &  &  &  &  &  &  &  &  &  &  &  &  &  &  &  &  &  &  &  &  &  &  &  &  &  &  &  &  &  &  &  &  &  &  &  &  &  &  &  &  &  &  &  &  &  &  &  &  &  &  &  &  &  &  &  &  &  &  &  &  &  &  &  &  &  &  &  &  &  &  &  &  &  &  &  &  &  &  &  &  &  &  &  &  &  &  &  &  &  &  &  &  &  &  &  &  &  &  &  &  &  &  &  &  &  &  &  &  &  &  &  &  &  &  &  &  &  &  &  &  &  &  &  &  &  &  &  &  &  &  &  &  &  &  &  &  &  &  &  &  &  &  &  &  &  &  &  &  &  & \\end{pmatrix}\\ \\mathrm{elementary\\_charge}$"
      ],
      "text/plain": [
       "<Quantity([-0.108 -0.004 -0.159 -0.004 -0.285 -0.108 -0.458 -0.026  0.205 -0.458\n",
       " -0.004 -0.108 -0.159 -0.285 -0.108 -0.004 -0.458 -0.026 -0.108 -0.004\n",
       "  0.205 -0.458 -0.458 -0.026 -0.108 -0.458 -0.004 -0.285 -0.004 -0.285\n",
       " -0.004 -0.458 -0.458  0.205 -0.159 -0.108 -0.159 -0.026 -0.108  0.205\n",
       " -0.188 -0.112  0.114 -0.382 -0.188 -0.112  0.114 -0.382 -0.188 -0.112\n",
       "  0.114 -0.382 -0.188 -0.112  0.114 -0.382 -0.206 -0.291 -0.27  -0.27\n",
       "  0.048  0.048 -0.206 -0.291 -0.27  -0.27   0.048  0.048 -0.206 -0.291\n",
       " -0.27  -0.27   0.048  0.048 -0.206 -0.291 -0.27  -0.27   0.048  0.048\n",
       " -0.329 -0.329 -0.329 -0.329 -0.329 -0.329 -0.329 -0.056 -0.223 -0.191\n",
       " -0.223 -0.121 -0.056 -0.329 -0.056 -0.223 -0.223 -0.191 -0.056 -0.121\n",
       " -0.056 -0.223 -0.223 -0.191 -0.056 -0.121 -0.001 -0.436 -0.001 -0.436\n",
       " -0.001 -0.436 -0.382 -0.382 -0.382 -0.001 -0.436 -0.436 -0.436 -0.436\n",
       " -0.436 -0.382 -0.056 -0.223 -0.191 -0.223 -0.121 -0.056  0.019  0.043\n",
       " -0.03  -0.065  0.019  0.043 -0.03  -0.065 -0.03   0.043  0.043 -0.065\n",
       "  0.019  0.019 -0.03  -0.065 -0.134 -0.134 -0.089 -0.089 -0.134 -0.134\n",
       " -0.089 -0.089 -0.134 -0.134 -0.089 -0.089 -0.134 -0.134 -0.089 -0.089\n",
       "  0.042  0.034  0.034  0.042  0.034  0.034  0.042  0.034  0.034  0.042\n",
       "  0.034  0.034  0.041 -0.019  0.041  0.041  0.041 -0.019  0.041  0.041\n",
       " -0.019  0.041 -0.019  0.041], 'elementary_charge')>"
      ]
     },
     "execution_count": 4,
     "metadata": {},
     "output_type": "execute_result"
    }
   ],
   "source": [
    "NAGLToolkitWrapper().assign_partial_charges(\n",
    "    molecule=host,\n",
    "    partial_charge_method=\"openff-gnn-am1bcc-0.1.0-rc.3.pt\",\n",
    ")\n",
    "\n",
    "host.partial_charges.round(3)"
   ]
  },
  {
   "cell_type": "markdown",
   "id": "8",
   "metadata": {},
   "source": [
    "Now that we have partial charges for the host, we can wire it through parameterization using the `charge_from_molecules` argument. Interchange will recognize these charges and not attempt running AM1-BCC for the host, though it will use to assign charges to the guest molecule."
   ]
  },
  {
   "cell_type": "code",
   "execution_count": 5,
   "id": "9",
   "metadata": {
    "execution": {
     "iopub.execute_input": "2025-11-01T00:13:04.152565Z",
     "iopub.status.busy": "2025-11-01T00:13:04.152120Z",
     "iopub.status.idle": "2025-11-01T00:13:17.983573Z",
     "shell.execute_reply": "2025-11-01T00:13:17.982776Z"
    }
   },
   "outputs": [],
   "source": [
    "sage = ForceField(\"openff-2.2.1.offxml\")\n",
    "\n",
    "out = sage.create_interchange(topology=docked_topology, charge_from_molecules=[host])"
   ]
  },
  {
   "cell_type": "markdown",
   "id": "10",
   "metadata": {},
   "source": [
    "Now that the `Interchange` object is created, you can run simulations in [a number of engines](https://docs.openforcefield.org/projects/interchange/en/stable/using/output.html). Here we'll run a quick energy minimization and then a thirty-second OpenMM simulation. The result is a trajectory, viewable with NGLview, that shows a few tens or hundreds of frames of this host-guest complex dancing around in vacuo.\n",
    "\n",
    "None of this workflow required OpenMM until now - you can swap these steps out for analogous operations in GROMACS, Amber, or LAMMPS!"
   ]
  },
  {
   "cell_type": "code",
   "execution_count": 6,
   "id": "11",
   "metadata": {
    "execution": {
     "iopub.execute_input": "2025-11-01T00:13:17.985823Z",
     "iopub.status.busy": "2025-11-01T00:13:17.985638Z",
     "iopub.status.idle": "2025-11-01T00:13:18.877613Z",
     "shell.execute_reply": "2025-11-01T00:13:18.876972Z"
    }
   },
   "outputs": [],
   "source": [
    "simulation = out.to_openmm_simulation(\n",
    "    openmm.LangevinMiddleIntegrator(\n",
    "        300.0 * openmm.unit.kelvin,\n",
    "        1.0 / openmm.unit.picosecond,\n",
    "        2.0 * openmm.unit.femtosecond,\n",
    "    )\n",
    ")\n",
    "\n",
    "simulation.minimizeEnergy()\n",
    "\n",
    "dcd_reporter = openmm.app.DCDReporter(\"trajectory.dcd\", 1000)\n",
    "simulation.reporters.append(dcd_reporter)\n",
    "\n",
    "simulation.context.setVelocitiesToTemperature(300.0 * openmm.unit.kelvin)"
   ]
  },
  {
   "cell_type": "code",
   "execution_count": 7,
   "id": "12",
   "metadata": {
    "execution": {
     "iopub.execute_input": "2025-11-01T00:13:18.879868Z",
     "iopub.status.busy": "2025-11-01T00:13:18.879689Z",
     "iopub.status.idle": "2025-11-01T00:13:48.893212Z",
     "shell.execute_reply": "2025-11-01T00:13:48.891885Z"
    }
   },
   "outputs": [],
   "source": [
    "simulation.runForClockTime(0.5 * openmm.unit.minute)"
   ]
  },
  {
   "cell_type": "code",
   "execution_count": 8,
   "id": "13",
   "metadata": {
    "execution": {
     "iopub.execute_input": "2025-11-01T00:13:48.898078Z",
     "iopub.status.busy": "2025-11-01T00:13:48.895002Z",
     "iopub.status.idle": "2025-11-01T00:13:48.957026Z",
     "shell.execute_reply": "2025-11-01T00:13:48.956418Z"
    }
   },
   "outputs": [
    {
     "data": {
      "application/vnd.jupyter.widget-view+json": {
       "model_id": "5198a3e31fb04754b8238edad523cf74",
       "version_major": 2,
       "version_minor": 0
      },
      "text/plain": [
       "NGLWidget(max_frame=43)"
      ]
     },
     "metadata": {},
     "output_type": "display_data"
    }
   ],
   "source": [
    "nglview.show_mdtraj(\n",
    "    mdtraj.load(\n",
    "        \"trajectory.dcd\",\n",
    "        top=mdtraj.Topology.from_openmm(\n",
    "            out.to_openmm_topology(),\n",
    "        ),\n",
    "    )\n",
    ")"
   ]
  }
 ],
 "metadata": {
  "cookbook_cache_branch": "_cookbook_data_main",
  "kernelspec": {
   "display_name": "Python 3 (ipykernel)",
   "language": "python",
   "name": "python3"
  },
  "language_info": {
   "codemirror_mode": {
    "name": "ipython",
    "version": 3
   },
   "file_extension": ".py",
   "mimetype": "text/x-python",
   "name": "python",
   "nbconvert_exporter": "python",
   "pygments_lexer": "ipython3",
   "version": "3.11.14"
  },
  "src_repo_tag": "v0.4.8",
  "widgets": {
   "application/vnd.jupyter.widget-state+json": {
    "state": {
     "12e69559c7f44c38892fc373a8229bcc": {
      "model_module": "@jupyter-widgets/controls",
      "model_module_version": "2.0.0",
      "model_name": "LinkModel",
      "state": {
       "_model_module": "@jupyter-widgets/controls",
       "_model_module_version": "2.0.0",
       "_model_name": "LinkModel",
       "_view_count": null,
       "_view_module": "@jupyter-widgets/controls",
       "_view_module_version": "2.0.0",
       "_view_name": null,
       "source": [
        "IPY_MODEL_dd6136e3377d4b9db039825b45cdfc0b",
        "max"
       ],
       "target": [
        "IPY_MODEL_503553f9d36545329f827d849b84ffb4",
        "max_frame"
       ]
      }
     },
     "1b20455854554a9583ceb76ec2c0f319": {
      "model_module": "@jupyter-widgets/base",
      "model_module_version": "2.0.0",
      "model_name": "LayoutModel",
      "state": {
       "_model_module": "@jupyter-widgets/base",
       "_model_module_version": "2.0.0",
       "_model_name": "LayoutModel",
       "_view_count": null,
       "_view_module": "@jupyter-widgets/base",
       "_view_module_version": "2.0.0",
       "_view_name": "LayoutView",
       "align_content": null,
       "align_items": null,
       "align_self": null,
       "border_bottom": null,
       "border_left": null,
       "border_right": null,
       "border_top": null,
       "bottom": null,
       "display": null,
       "flex": null,
       "flex_flow": null,
       "grid_area": null,
       "grid_auto_columns": null,
       "grid_auto_flow": null,
       "grid_auto_rows": null,
       "grid_column": null,
       "grid_gap": null,
       "grid_row": null,
       "grid_template_areas": null,
       "grid_template_columns": null,
       "grid_template_rows": null,
       "height": null,
       "justify_content": null,
       "justify_items": null,
       "left": null,
       "margin": null,
       "max_height": null,
       "max_width": null,
       "min_height": null,
       "min_width": null,
       "object_fit": null,
       "object_position": null,
       "order": null,
       "overflow": null,
       "padding": null,
       "right": null,
       "top": null,
       "visibility": null,
       "width": null
      }
     },
     "1b6e6b7c905f49bc869d83c53a55ec32": {
      "model_module": "@jupyter-widgets/controls",
      "model_module_version": "2.0.0",
      "model_name": "HBoxModel",
      "state": {
       "_dom_classes": [],
       "_model_module": "@jupyter-widgets/controls",
       "_model_module_version": "2.0.0",
       "_model_name": "HBoxModel",
       "_view_count": null,
       "_view_module": "@jupyter-widgets/controls",
       "_view_module_version": "2.0.0",
       "_view_name": "HBoxView",
       "box_style": "",
       "children": [
        "IPY_MODEL_28fb6f630e304b33bb6fcb851addddc4",
        "IPY_MODEL_5cbe6be347844065bd0db862dd441f92"
       ],
       "layout": "IPY_MODEL_a5e886fb70104628b06b1d7d32c040f7",
       "tabbable": null,
       "tooltip": null
      }
     },
     "28fb6f630e304b33bb6fcb851addddc4": {
      "model_module": "@jupyter-widgets/controls",
      "model_module_version": "2.0.0",
      "model_name": "PlayModel",
      "state": {
       "_dom_classes": [],
       "_model_module": "@jupyter-widgets/controls",
       "_model_module_version": "2.0.0",
       "_model_name": "PlayModel",
       "_view_count": null,
       "_view_module": "@jupyter-widgets/controls",
       "_view_module_version": "2.0.0",
       "_view_name": "PlayView",
       "description": "",
       "description_allow_html": false,
       "disabled": false,
       "interval": 100,
       "layout": "IPY_MODEL_fbb9edf8d0e94796bc9054e7b83835d3",
       "max": 43,
       "min": 0,
       "playing": false,
       "repeat": false,
       "show_repeat": true,
       "step": 1,
       "style": "IPY_MODEL_ec210c754262482db0a355bc7a027d4e",
       "tabbable": null,
       "tooltip": null,
       "value": 0
      }
     },
     "2f59548215874a0dae81b92b9a52cdee": {
      "model_module": "@jupyter-widgets/base",
      "model_module_version": "2.0.0",
      "model_name": "LayoutModel",
      "state": {
       "_model_module": "@jupyter-widgets/base",
       "_model_module_version": "2.0.0",
       "_model_name": "LayoutModel",
       "_view_count": null,
       "_view_module": "@jupyter-widgets/base",
       "_view_module_version": "2.0.0",
       "_view_name": "LayoutView",
       "align_content": null,
       "align_items": null,
       "align_self": null,
       "border_bottom": null,
       "border_left": null,
       "border_right": null,
       "border_top": null,
       "bottom": null,
       "display": null,
       "flex": null,
       "flex_flow": null,
       "grid_area": null,
       "grid_auto_columns": null,
       "grid_auto_flow": null,
       "grid_auto_rows": null,
       "grid_column": null,
       "grid_gap": null,
       "grid_row": null,
       "grid_template_areas": null,
       "grid_template_columns": null,
       "grid_template_rows": null,
       "height": null,
       "justify_content": null,
       "justify_items": null,
       "left": null,
       "margin": null,
       "max_height": null,
       "max_width": null,
       "min_height": null,
       "min_width": null,
       "object_fit": null,
       "object_position": null,
       "order": null,
       "overflow": null,
       "padding": null,
       "right": null,
       "top": null,
       "visibility": null,
       "width": null
      }
     },
     "380e2398f98143e8a56528ed54558f17": {
      "model_module": "nglview-js-widgets",
      "model_module_version": "3.0.8",
      "model_name": "ColormakerRegistryModel",
      "state": {
       "_dom_classes": [],
       "_model_module": "nglview-js-widgets",
       "_model_module_version": "3.0.8",
       "_model_name": "ColormakerRegistryModel",
       "_msg_ar": [],
       "_msg_q": [],
       "_ready": false,
       "_view_count": null,
       "_view_module": "nglview-js-widgets",
       "_view_module_version": "3.0.8",
       "_view_name": "ColormakerRegistryView",
       "layout": "IPY_MODEL_6acc015d25f84d99bd0223e6422a1725",
       "tabbable": null,
       "tooltip": null
      }
     },
     "3e696ab5ffcc4e27adec73c5403c51af": {
      "model_module": "@jupyter-widgets/base",
      "model_module_version": "2.0.0",
      "model_name": "LayoutModel",
      "state": {
       "_model_module": "@jupyter-widgets/base",
       "_model_module_version": "2.0.0",
       "_model_name": "LayoutModel",
       "_view_count": null,
       "_view_module": "@jupyter-widgets/base",
       "_view_module_version": "2.0.0",
       "_view_name": "LayoutView",
       "align_content": null,
       "align_items": null,
       "align_self": null,
       "border_bottom": null,
       "border_left": null,
       "border_right": null,
       "border_top": null,
       "bottom": null,
       "display": null,
       "flex": null,
       "flex_flow": null,
       "grid_area": null,
       "grid_auto_columns": null,
       "grid_auto_flow": null,
       "grid_auto_rows": null,
       "grid_column": null,
       "grid_gap": null,
       "grid_row": null,
       "grid_template_areas": null,
       "grid_template_columns": null,
       "grid_template_rows": null,
       "height": null,
       "justify_content": null,
       "justify_items": null,
       "left": null,
       "margin": null,
       "max_height": null,
       "max_width": null,
       "min_height": null,
       "min_width": null,
       "object_fit": null,
       "object_position": null,
       "order": null,
       "overflow": null,
       "padding": null,
       "right": null,
       "top": null,
       "visibility": null,
       "width": null
      }
     },
     "480720ee0c1f48879754438c24455a79": {
      "model_module": "@jupyter-widgets/controls",
      "model_module_version": "2.0.0",
      "model_name": "DescriptionStyleModel",
      "state": {
       "_model_module": "@jupyter-widgets/controls",
       "_model_module_version": "2.0.0",
       "_model_name": "DescriptionStyleModel",
       "_view_count": null,
       "_view_module": "@jupyter-widgets/base",
       "_view_module_version": "2.0.0",
       "_view_name": "StyleView",
       "description_width": ""
      }
     },
     "4dbc875185874b819de6ab29dc50b041": {
      "model_module": "@jupyter-widgets/controls",
      "model_module_version": "2.0.0",
      "model_name": "LinkModel",
      "state": {
       "_model_module": "@jupyter-widgets/controls",
       "_model_module_version": "2.0.0",
       "_model_name": "LinkModel",
       "_view_count": null,
       "_view_module": "@jupyter-widgets/controls",
       "_view_module_version": "2.0.0",
       "_view_name": null,
       "source": [
        "IPY_MODEL_dd6136e3377d4b9db039825b45cdfc0b",
        "value"
       ],
       "target": [
        "IPY_MODEL_f1f268b8fa634bafba155e03167dccea",
        "value"
       ]
      }
     },
     "503553f9d36545329f827d849b84ffb4": {
      "model_module": "nglview-js-widgets",
      "model_module_version": "3.0.8",
      "model_name": "NGLModel",
      "state": {
       "_camera_orientation": [],
       "_camera_str": "orthographic",
       "_dom_classes": [],
       "_gui_theme": null,
       "_ibtn_fullscreen": "IPY_MODEL_a691b8ff47cc49b69ae3e6a21bdc28de",
       "_igui": null,
       "_iplayer": "IPY_MODEL_7ef00e0498b1467989a14a25dac0d406",
       "_model_module": "nglview-js-widgets",
       "_model_module_version": "3.0.8",
       "_model_name": "NGLModel",
       "_ngl_color_dict": {},
       "_ngl_coordinate_resource": {},
       "_ngl_full_stage_parameters": {},
       "_ngl_msg_archive": [
        {
         "args": [
          {
           "binary": false,
           "data": "REMARK   1 CREATED WITH OPENMM 8.4, 2025-11-01\nHETATM    1  O1x UNK A   1       1.217  -0.615  -0.595  1.00  0.00           O  \nHETATM    2  C1x UNK A   1       0.213   0.246  -0.289  1.00  0.00           C  \nHETATM    3  C2x UNK A   1       0.039   1.252  -1.399  1.00  0.00           C  \nHETATM    4  C3x UNK A   1      -0.957   0.775  -2.453  1.00  0.00           C  \nHETATM    5  C4x UNK A   1      -0.706   1.413  -3.818  1.00  0.00           C  \nHETATM    6  C5x UNK A   1       0.394   0.568  -4.454  1.00  0.00           C  \nHETATM    7  C6x UNK A   1       0.325  -0.800  -3.776  1.00  0.00           C  \nHETATM    8  C7x UNK A   1      -0.809  -0.714  -2.758  1.00  0.00           C  \nHETATM    9  O2x UNK A   1      -0.439   0.191   0.742  1.00  0.00           O  \nHETATM   10  H1x UNK A   1       1.353  -1.283   0.110  1.00  0.00           H  \nHETATM   11  H2x UNK A   1       1.014   1.421  -1.869  1.00  0.00           H  \nHETATM   12  H3x UNK A   1      -0.316   2.192  -0.962  1.00  0.00           H  \nHETATM   13  H4x UNK A   1      -1.967   0.989  -2.121  1.00  0.00           H  \nHETATM   14  H5x UNK A   1      -1.612   1.439  -4.438  1.00  0.00           H  \nHETATM   15  H6x UNK A   1      -0.356   2.450  -3.706  1.00  0.00           H  \nHETATM   16  H7x UNK A   1       0.219   0.459  -5.530  1.00  0.00           H  \nHETATM   17  H8x UNK A   1       1.376   1.036  -4.329  1.00  0.00           H  \nHETATM   18  H9x UNK A   1       0.107  -1.573  -4.523  1.00  0.00           H  \nHETATM   19 H10x UNK A   1       1.273  -1.067  -3.296  1.00  0.00           H  \nHETATM   20 H11x UNK A   1      -0.534  -1.273  -1.850  1.00  0.00           H  \nHETATM   21 H12x UNK A   1      -1.739  -1.155  -3.143  1.00  0.00           H  \nTER      22      UNK A   1\nHETATM   23  C1x UNK B   1       1.978  -2.913   2.556  1.00  0.00           C  \nHETATM   24  C2x UNK B   1       3.789  -0.891   1.798  1.00  0.00           C  \nHETATM   25  C3x UNK B   1       2.095  -1.737   3.319  1.00  0.00           C  \nHETATM   26  C4x UNK B   1       2.809  -3.113   1.440  1.00  0.00           C  \nHETATM   27  C5x UNK B   1       3.750  -2.126   1.094  1.00  0.00           C  \nHETATM   28  C6x UNK B   1       2.873  -0.651   2.862  1.00  0.00           C  \nHETATM   29  O1x UNK B   1       4.548   0.204   1.313  1.00  0.00           O  \nHETATM   30  C7x UNK B   1       2.984   0.584   3.717  1.00  0.00           C  \nHETATM   31  C8x UNK B   1       3.932   1.363   0.655  1.00  0.00           C  \nHETATM   32  O2x UNK B   1       3.658   2.395   1.672  1.00  0.00           O  \nHETATM   33  C9x UNK B   1       2.364   2.527   2.188  1.00  0.00           C  \nHETATM   34 C10x UNK B   1       2.015   1.664   3.219  1.00  0.00           C  \nHETATM   35 C11x UNK B   1       0.711   1.822   3.759  1.00  0.00           C  \nHETATM   36 C12x UNK B   1       1.508   3.442   1.630  1.00  0.00           C  \nHETATM   37 C13x UNK B   1      -0.186   2.733   3.185  1.00  0.00           C  \nHETATM   38 C14x UNK B   1       0.221   3.530   2.110  1.00  0.00           C  \nHETATM   39  O3x UNK B   1      -0.647   4.303   1.401  1.00  0.00           O  \nHETATM   40 C15x UNK B   1      -1.653   2.755   3.681  1.00  0.00           C  \nHETATM   41 C16x UNK B   1      -2.574   1.870   2.877  1.00  0.00           C  \nHETATM   42 C17x UNK B   1      -3.132   2.412   1.652  1.00  0.00           C  \nHETATM   43 C18x UNK B   1      -1.538   3.660   0.425  1.00  0.00           C  \nHETATM   44  O4x UNK B   1      -2.783   3.646   1.111  1.00  0.00           O  \nHETATM   45  O5x UNK B   1       2.544  -4.128   0.497  1.00  0.00           O  \nHETATM   46 C19x UNK B   1       0.819  -3.840   2.830  1.00  0.00           C  \nHETATM   47 C20x UNK B   1      -0.432  -3.444   2.049  1.00  0.00           C  \nHETATM   48  O6x UNK B   1       0.282  -4.753  -0.020  1.00  0.00           O  \nHETATM   49 C21x UNK B   1      -0.654  -3.991   0.770  1.00  0.00           C  \nHETATM   50 C22x UNK B   1      -3.975   1.673   0.870  1.00  0.00           C  \nHETATM   51 C23x UNK B   1      -4.264   0.367   1.137  1.00  0.00           C  \nHETATM   52 C24x UNK B   1      -1.802  -3.727   0.033  1.00  0.00           C  \nHETATM   53 C25x UNK B   1      -2.775  -2.918   0.554  1.00  0.00           C  \nHETATM   54  O7x UNK B   1      -4.839  -0.410   0.131  1.00  0.00           O  \nHETATM   55  O8x UNK B   1      -3.844  -2.574  -0.224  1.00  0.00           O  \nHETATM   56 C26x UNK B   1      -3.930  -1.164  -0.733  1.00  0.00           C  \nHETATM   57 C27x UNK B   1      -1.468  -2.726   2.607  1.00  0.00           C  \nHETATM   58 C28x UNK B   1      -2.672  -2.464   1.903  1.00  0.00           C  \nHETATM   59 C29x UNK B   1      -2.927   0.510   3.198  1.00  0.00           C  \nHETATM   60 C30x UNK B   1      -3.920  -1.740   2.617  1.00  0.00           C  \nHETATM   61 C31x UNK B   1      -3.767  -0.267   2.328  1.00  0.00           C  \nHETATM   62 C32x UNK B   1       1.448  -3.948  -0.413  1.00  0.00           C  \nHETATM   63 C33x UNK B   1      -1.723   2.568   5.183  1.00  0.00           C  \nHETATM   64 C34x UNK B   1      -3.116   2.732   5.795  1.00  0.00           C  \nHETATM   65 C35x UNK B   1      -3.094   2.468   7.322  1.00  0.00           C  \nHETATM   66  O9x UNK B   1      -2.147   1.947   7.819  1.00  0.00           O  \nHETATM   67 C36x UNK B   1       2.971   0.333   5.244  1.00  0.00           C  \nHETATM   68 C37x UNK B   1       3.474   1.504   6.068  1.00  0.00           C  \nHETATM   69 C38x UNK B   1       4.965   1.511   5.971  1.00  0.00           C  \nHETATM   70 O10x UNK B   1       5.655   0.841   6.749  1.00  0.00           O  \nHETATM   71 C39x UNK B   1       0.619  -4.262   4.357  1.00  0.00           C  \nHETATM   72 C40x UNK B   1      -0.442  -5.344   4.488  1.00  0.00           C  \nHETATM   73 C41x UNK B   1       0.254  -6.613   4.033  1.00  0.00           C  \nHETATM   74 O11x UNK B   1       1.048  -7.176   4.790  1.00  0.00           O  \nHETATM   75 C42x UNK B   1      -3.973  -2.277   4.180  1.00  0.00           C  \nHETATM   76 C43x UNK B   1      -5.178  -1.580   4.856  1.00  0.00           C  \nHETATM   77 C44x UNK B   1      -5.150  -1.922   6.342  1.00  0.00           C  \nHETATM   78 O12x UNK B   1      -4.272  -1.622   7.098  1.00  0.00           O  \nHETATM   79 C45x UNK B   1       4.853   1.891  -0.409  1.00  0.00           C  \nHETATM   80 C46x UNK B   1       6.419   2.722  -2.526  1.00  0.00           C  \nHETATM   81 C47x UNK B   1       4.806   3.188  -0.838  1.00  0.00           C  \nHETATM   82 C48x UNK B   1       5.701   1.021  -1.069  1.00  0.00           C  \nHETATM   83 C49x UNK B   1       6.516   1.418  -2.128  1.00  0.00           C  \nHETATM   84 C50x UNK B   1       5.539   3.576  -1.883  1.00  0.00           C  \nHETATM   85 C51x UNK B   1       1.924  -4.169  -1.843  1.00  0.00           C  \nHETATM   86 C52x UNK B   1       2.574  -4.172  -4.542  1.00  0.00           C  \nHETATM   87 C53x UNK B   1       1.045  -4.683  -2.706  1.00  0.00           C  \nHETATM   88 C54x UNK B   1       3.164  -3.671  -2.347  1.00  0.00           C  \nHETATM   89 C55x UNK B   1       3.512  -3.700  -3.673  1.00  0.00           C  \nHETATM   90 C56x UNK B   1       1.359  -4.680  -4.087  1.00  0.00           C  \nHETATM   91 C57x UNK B   1      -4.364  -1.263  -2.171  1.00  0.00           C  \nHETATM   92 C58x UNK B   1      -5.103  -1.290  -4.808  1.00  0.00           C  \nHETATM   93 C59x UNK B   1      -5.192  -0.247  -2.658  1.00  0.00           C  \nHETATM   94 C60x UNK B   1      -3.934  -2.346  -3.026  1.00  0.00           C  \nHETATM   95 C61x UNK B   1      -4.279  -2.305  -4.398  1.00  0.00           C  \nHETATM   96 C62x UNK B   1      -5.509  -0.217  -4.001  1.00  0.00           C  \nHETATM   97 C63x UNK B   1      -1.585   4.405  -0.927  1.00  0.00           C  \nHETATM   98 C64x UNK B   1      -1.514   5.285  -3.524  1.00  0.00           C  \nHETATM   99 C65x UNK B   1      -2.738   4.357  -1.719  1.00  0.00           C  \nHETATM  100 C66x UNK B   1      -0.357   4.883  -1.423  1.00  0.00           C  \nHETATM  101 C67x UNK B   1      -0.365   5.285  -2.742  1.00  0.00           C  \nHETATM  102 C68x UNK B   1      -2.680   4.755  -2.998  1.00  0.00           C  \nHETATM  103 O13x UNK B   1       4.656  -3.132  -4.231  1.00  0.00           O  \nHETATM  104 O14x UNK B   1      -3.921  -3.316  -5.269  1.00  0.00           O  \nHETATM  105 O15x UNK B   1      -6.153   0.774  -4.597  1.00  0.00           O  \nHETATM  106 O16x UNK B   1       7.371   0.558  -2.749  1.00  0.00           O  \nHETATM  107 O17x UNK B   1       5.564   4.887  -2.369  1.00  0.00           O  \nHETATM  108 O18x UNK B   1      -3.800   4.813  -3.884  1.00  0.00           O  \nHETATM  109 O19x UNK B   1       0.847   5.553  -3.374  1.00  0.00           O  \nHETATM  110 C69x UNK B   1      -3.125  -4.382  -4.843  1.00  0.00           C  \nHETATM  111 C70x UNK B   1      -1.388  -6.331  -3.996  1.00  0.00           C  \nHETATM  112 C71x UNK B   1      -1.766  -4.242  -5.099  1.00  0.00           C  \nHETATM  113 C72x UNK B   1      -3.620  -5.488  -4.090  1.00  0.00           C  \nHETATM  114 C73x UNK B   1      -2.747  -6.471  -3.632  1.00  0.00           C  \nHETATM  115 C74x UNK B   1      -0.884  -5.201  -4.698  1.00  0.00           C  \nHETATM  116 O20x UNK B   1       0.436  -5.077  -4.966  1.00  0.00           O  \nHETATM  117 C75x UNK B   1       7.014  -0.794  -2.812  1.00  0.00           C  \nHETATM  118 C76x UNK B   1       6.603  -3.480  -2.776  1.00  0.00           C  \nHETATM  119 C77x UNK B   1       7.868  -1.619  -2.056  1.00  0.00           C  \nHETATM  120 C78x UNK B   1       5.857  -1.299  -3.437  1.00  0.00           C  \nHETATM  121 C79x UNK B   1       5.691  -2.675  -3.448  1.00  0.00           C  \nHETATM  122 C80x UNK B   1       7.644  -2.951  -2.013  1.00  0.00           C  \nHETATM  123 C81x UNK B   1      -6.108   2.039  -4.170  1.00  0.00           C  \nHETATM  124 C82x UNK B   1      -6.042   4.566  -3.046  1.00  0.00           C  \nHETATM  125 C83x UNK B   1      -7.256   2.507  -3.505  1.00  0.00           C  \nHETATM  126 C84x UNK B   1      -4.968   2.764  -4.247  1.00  0.00           C  \nHETATM  127 C85x UNK B   1      -4.902   4.035  -3.665  1.00  0.00           C  \nHETATM  128 C86x UNK B   1      -7.216   3.792  -2.924  1.00  0.00           C  \nHETATM  129 C87x UNK B   1      -8.342   4.264  -2.014  1.00  0.00           C  \nHETATM  130 O21x UNK B   1      -9.273   3.577  -1.677  1.00  0.00           O  \nHETATM  131 C88x UNK B   1       3.543   9.301  -1.437  1.00  0.00           C  \nHETATM  132 O22x UNK B   1       4.604   9.675  -1.044  1.00  0.00           O  \nHETATM  133 C89x UNK B   1       8.522  -3.870  -1.065  1.00  0.00           C  \nHETATM  134 O23x UNK B   1       8.505  -5.024  -1.277  1.00  0.00           O  \nHETATM  135 O24x UNK B   1      -4.010   2.747   7.993  1.00  0.00           O  \nHETATM  136 O25x UNK B   1      -6.186  -2.444   6.728  1.00  0.00           O  \nHETATM  137 O26x UNK B   1       0.095  -6.983   2.900  1.00  0.00           O  \nHETATM  138 C90x UNK B   1      -3.155  -7.597  -2.769  1.00  0.00           C  \nHETATM  139 O27x UNK B   1      -2.341  -8.300  -2.191  1.00  0.00           O  \nHETATM  140 O28x UNK B   1       2.509   9.998  -1.355  1.00  0.00           O  \nHETATM  141 O29x UNK B   1      -8.324   5.429  -1.640  1.00  0.00           O  \nHETATM  142 O30x UNK B   1      -4.375  -7.763  -2.582  1.00  0.00           O  \nHETATM  143 O31x UNK B   1       9.054  -3.461  -0.061  1.00  0.00           O  \nHETATM  144 O32x UNK B   1       5.522   2.279   5.195  1.00  0.00           O  \nHETATM  145 C91x UNK B   1       4.411   5.670  -2.419  1.00  0.00           C  \nHETATM  146 C92x UNK B   1       2.175   7.280  -2.247  1.00  0.00           C  \nHETATM  147 C93x UNK B   1       3.154   5.130  -2.838  1.00  0.00           C  \nHETATM  148 C94x UNK B   1       4.539   7.013  -1.988  1.00  0.00           C  \nHETATM  149 C95x UNK B   1       3.389   7.886  -1.858  1.00  0.00           C  \nHETATM  150 C96x UNK B   1       2.037   5.990  -2.767  1.00  0.00           C  \nHETATM  151  H1x UNK B   1       1.314  -1.538   4.047  1.00  0.00           H  \nHETATM  152  H2x UNK B   1       4.395  -2.261   0.229  1.00  0.00           H  \nHETATM  153  H3x UNK B   1       3.941   1.091   3.577  1.00  0.00           H  \nHETATM  154  H4x UNK B   1       2.952   1.069   0.250  1.00  0.00           H  \nHETATM  155  H5x UNK B   1       0.467   1.098   4.533  1.00  0.00           H  \nHETATM  156  H6x UNK B   1       1.843   4.022   0.774  1.00  0.00           H  \nHETATM  157  H7x UNK B   1      -1.997   3.784   3.552  1.00  0.00           H  \nHETATM  158  H8x UNK B   1      -1.286   2.608   0.223  1.00  0.00           H  \nHETATM  159  H9x UNK B   1       1.122  -4.790   2.385  1.00  0.00           H  \nHETATM  160 H10x UNK B   1      -4.370   2.125  -0.036  1.00  0.00           H  \nHETATM  161 H11x UNK B   1      -1.891  -4.197  -0.944  1.00  0.00           H  \nHETATM  162 H12x UNK B   1      -2.873  -0.867  -0.683  1.00  0.00           H  \nHETATM  163 H13x UNK B   1      -1.500  -2.400   3.644  1.00  0.00           H  \nHETATM  164 H14x UNK B   1      -2.532   0.040   4.095  1.00  0.00           H  \nHETATM  165 H15x UNK B   1      -4.883  -1.929   2.138  1.00  0.00           H  \nHETATM  166 H16x UNK B   1       1.041  -2.929  -0.343  1.00  0.00           H  \nHETATM  167 H17x UNK B   1      -1.264   1.614   5.448  1.00  0.00           H  \nHETATM  168 H18x UNK B   1      -1.085   3.347   5.606  1.00  0.00           H  \nHETATM  169 H19x UNK B   1      -3.414   3.770   5.630  1.00  0.00           H  \nHETATM  170 H20x UNK B   1      -3.774   1.984   5.347  1.00  0.00           H  \nHETATM  171 H21x UNK B   1       3.406  -0.656   5.402  1.00  0.00           H  \nHETATM  172 H22x UNK B   1       1.996   0.097   5.676  1.00  0.00           H  \nHETATM  173 H23x UNK B   1       3.011   2.450   5.779  1.00  0.00           H  \nHETATM  174 H24x UNK B   1       3.270   1.145   7.080  1.00  0.00           H  \nHETATM  175 H25x UNK B   1       1.554  -4.578   4.823  1.00  0.00           H  \nHETATM  176 H26x UNK B   1       0.270  -3.368   4.877  1.00  0.00           H  \nHETATM  177 H27x UNK B   1      -0.679  -5.340   5.554  1.00  0.00           H  \nHETATM  178 H28x UNK B   1      -1.368  -5.264   3.915  1.00  0.00           H  \nHETATM  179 H29x UNK B   1      -4.199  -3.340   4.277  1.00  0.00           H  \nHETATM  180 H30x UNK B   1      -3.135  -2.014   4.830  1.00  0.00           H  \nHETATM  181 H31x UNK B   1      -5.092  -0.496   4.762  1.00  0.00           H  \nHETATM  182 H32x UNK B   1      -6.105  -1.869   4.357  1.00  0.00           H  \nHETATM  183 H33x UNK B   1       6.926   3.160  -3.381  1.00  0.00           H  \nHETATM  184 H34x UNK B   1       4.022   3.841  -0.465  1.00  0.00           H  \nHETATM  185 H35x UNK B   1       5.818   0.034  -0.628  1.00  0.00           H  \nHETATM  186 H36x UNK B   1       2.747  -4.136  -5.614  1.00  0.00           H  \nHETATM  187 H37x UNK B   1       0.027  -4.951  -2.431  1.00  0.00           H  \nHETATM  188 H38x UNK B   1       3.824  -3.227  -1.606  1.00  0.00           H  \nHETATM  189 H39x UNK B   1      -5.329  -1.262  -5.872  1.00  0.00           H  \nHETATM  190 H40x UNK B   1      -5.436   0.603  -2.026  1.00  0.00           H  \nHETATM  191 H41x UNK B   1      -3.285  -3.112  -2.607  1.00  0.00           H  \nHETATM  192 H42x UNK B   1      -1.580   5.825  -4.465  1.00  0.00           H  \nHETATM  193 H43x UNK B   1      -3.625   3.890  -1.298  1.00  0.00           H  \nHETATM  194 H44x UNK B   1       0.549   4.837  -0.824  1.00  0.00           H  \nHETATM  195 H45x UNK B   1      -0.683  -7.078  -3.639  1.00  0.00           H  \nHETATM  196 H46x UNK B   1      -1.448  -3.328  -5.595  1.00  0.00           H  \nHETATM  197 H47x UNK B   1      -4.698  -5.582  -3.982  1.00  0.00           H  \nHETATM  198 H48x UNK B   1       6.286  -4.519  -2.731  1.00  0.00           H  \nHETATM  199 H49x UNK B   1       8.671  -1.164  -1.482  1.00  0.00           H  \nHETATM  200 H50x UNK B   1       5.075  -0.643  -3.812  1.00  0.00           H  \nHETATM  201 H51x UNK B   1      -6.130   5.577  -2.656  1.00  0.00           H  \nHETATM  202 H52x UNK B   1      -8.178   1.933  -3.529  1.00  0.00           H  \nHETATM  203 H53x UNK B   1      -4.108   2.291  -4.715  1.00  0.00           H  \nHETATM  204 H54x UNK B   1       1.273   7.875  -2.370  1.00  0.00           H  \nHETATM  205 H55x UNK B   1       3.063   4.090  -3.141  1.00  0.00           H  \nHETATM  206 H56x UNK B   1       5.499   7.465  -1.750  1.00  0.00           H  \nTER     207      UNK B   1\nCONECT    1    2   10\nCONECT    2    1    3    9\nCONECT    3    2    4   11   12\nCONECT    4    3    8    5   13\nCONECT    5    4    6   14   15\nCONECT    6    5    7   16   17\nCONECT    7    6    8   18   19\nCONECT    8    4    7   20   21\nCONECT    9    2\nCONECT   10    1\nCONECT   11    3\nCONECT   12    3\nCONECT   13    4\nCONECT   14    5\nCONECT   15    5\nCONECT   16    6\nCONECT   17    6\nCONECT   18    7\nCONECT   19    7\nCONECT   20    8\nCONECT   21    8\nCONECT   23   25   26   46\nCONECT   24   27   28   29\nCONECT   25   23   28  151\nCONECT   26   23   27   45\nCONECT   27   24   26  152\nCONECT   28   24   25   30\nCONECT   29   24   31\nCONECT   30   28   34   67  153\nCONECT   31   29   32   79  154\nCONECT   32   31   33\nCONECT   33   32   34   36\nCONECT   34   30   33   35\nCONECT   35   34   37  155\nCONECT   36   33   38  156\nCONECT   37   35   38   40\nCONECT   38   36   37   39\nCONECT   39   38   43\nCONECT   40   37   41   63  157\nCONECT   41   40   42   59\nCONECT   42   41   44   50\nCONECT   43   39   44   97  158\nCONECT   44   42   43\nCONECT   45   26   62\nCONECT   46   23   47   71  159\nCONECT   47   46   49   57\nCONECT   48   49   62\nCONECT   49   47   48   52\nCONECT   50   42   51  160\nCONECT   51   50   54   61\nCONECT   52   49   53  161\nCONECT   53   52   55   58\nCONECT   54   51   56\nCONECT   55   53   56\nCONECT   56   54   55   91  162\nCONECT   57   47   58  163\nCONECT   58   53   57   60\nCONECT   59   41   61  164\nCONECT   60   58   61   75  165\nCONECT   61   51   59   60\nCONECT   62   45   48   85  166\nCONECT   63   40   64  167  168\nCONECT   64   63   65  169  170\nCONECT   65   64   66  135\nCONECT   66   65\nCONECT   67   30   68  171  172\nCONECT   68   67   69  173  174\nCONECT   69   68   70  144\nCONECT   70   69\nCONECT   71   46   72  175  176\nCONECT   72   71   73  177  178\nCONECT   73   72   74  137\nCONECT   74   73\nCONECT   75   60   76  179  180\nCONECT   76   75   77  181  182\nCONECT   77   76   78  136\nCONECT   78   77\nCONECT   79   31   81   82\nCONECT   80   83   84  183\nCONECT   81   79   84  184\nCONECT   82   79   83  185\nCONECT   83   80   82  106\nCONECT   84   80   81  107\nCONECT   85   62   87   88\nCONECT   86   89   90  186\nCONECT   87   85   90  187\nCONECT   88   85   89  188\nCONECT   89   86   88  103\nCONECT   90   86   87  116\nCONECT   91   56   93   94\nCONECT   92   95   96  189\nCONECT   93   91   96  190\nCONECT   94   91   95  191\nCONECT   95   92   94  104\nCONECT   96   92   93  105\nCONECT   97   43   99  100\nCONECT   98  101  102  192\nCONECT   99   97  102  193\nCONECT  100   97  101  194\nCONECT  101   98  100  109\nCONECT  102   98   99  108\nCONECT  103   89  121\nCONECT  104   95  110\nCONECT  105   96  123\nCONECT  106   83  117\nCONECT  107   84  145\nCONECT  108  102  127\nCONECT  109  101  150\nCONECT  110  104  112  113\nCONECT  111  114  115  195\nCONECT  112  110  115  196\nCONECT  113  110  114  197\nCONECT  114  111  113  138\nCONECT  115  111  112  116\nCONECT  116   90  115\nCONECT  117  106  119  120\nCONECT  118  121  122  198\nCONECT  119  117  122  199\nCONECT  120  117  121  200\nCONECT  121  103  118  120\nCONECT  122  118  119  133\nCONECT  123  105  125  126\nCONECT  124  127  128  201\nCONECT  125  123  128  202\nCONECT  126  123  127  203\nCONECT  127  108  124  126\nCONECT  128  124  125  129\nCONECT  129  128  130  141\nCONECT  130  129\nCONECT  131  132  140  149\nCONECT  132  131\nCONECT  133  122  134  143\nCONECT  134  133\nCONECT  135   65\nCONECT  136   77\nCONECT  137   73\nCONECT  138  114  139  142\nCONECT  139  138\nCONECT  140  131\nCONECT  141  129\nCONECT  142  138\nCONECT  143  133\nCONECT  144   69\nCONECT  145  107  147  148\nCONECT  146  149  150  204\nCONECT  147  145  150  205\nCONECT  148  145  149  206\nCONECT  149  131  146  148\nCONECT  150  109  146  147\nCONECT  151   25\nCONECT  152   27\nCONECT  153   30\nCONECT  154   31\nCONECT  155   35\nCONECT  156   36\nCONECT  157   40\nCONECT  158   43\nCONECT  159   46\nCONECT  160   50\nCONECT  161   52\nCONECT  162   56\nCONECT  163   57\nCONECT  164   59\nCONECT  165   60\nCONECT  166   62\nCONECT  167   63\nCONECT  168   63\nCONECT  169   64\nCONECT  170   64\nCONECT  171   67\nCONECT  172   67\nCONECT  173   68\nCONECT  174   68\nCONECT  175   71\nCONECT  176   71\nCONECT  177   72\nCONECT  178   72\nCONECT  179   75\nCONECT  180   75\nCONECT  181   76\nCONECT  182   76\nCONECT  183   80\nCONECT  184   81\nCONECT  185   82\nCONECT  186   86\nCONECT  187   87\nCONECT  188   88\nCONECT  189   92\nCONECT  190   93\nCONECT  191   94\nCONECT  192   98\nCONECT  193   99\nCONECT  194  100\nCONECT  195  111\nCONECT  196  112\nCONECT  197  113\nCONECT  198  118\nCONECT  199  119\nCONECT  200  120\nCONECT  201  124\nCONECT  202  125\nCONECT  203  126\nCONECT  204  146\nCONECT  205  147\nCONECT  206  148\nEND\n",
           "type": "blob"
          }
         ],
         "kwargs": {
          "defaultRepresentation": false,
          "ext": "pdb"
         },
         "methodName": "loadFile",
         "reconstruc_color_scheme": false,
         "target": "Stage",
         "type": "call_method"
        },
        {
         "args": [],
         "component_index": 0,
         "kwargs": {},
         "methodName": "removeAllRepresentations",
         "reconstruc_color_scheme": false,
         "target": "compList",
         "type": "call_method"
        },
        {
         "args": [
          "unitcell"
         ],
         "component_index": 0,
         "kwargs": {},
         "methodName": "addRepresentation",
         "reconstruc_color_scheme": false,
         "target": "compList",
         "type": "call_method"
        },
        {
         "args": [
          "line"
         ],
         "component_index": 0,
         "kwargs": {
          "sele": "water"
         },
         "methodName": "addRepresentation",
         "reconstruc_color_scheme": false,
         "target": "compList",
         "type": "call_method"
        },
        {
         "args": [
          "spacefill"
         ],
         "component_index": 0,
         "kwargs": {
          "sele": "ion"
         },
         "methodName": "addRepresentation",
         "reconstruc_color_scheme": false,
         "target": "compList",
         "type": "call_method"
        },
        {
         "args": [
          "cartoon"
         ],
         "component_index": 0,
         "kwargs": {
          "sele": "protein"
         },
         "methodName": "addRepresentation",
         "reconstruc_color_scheme": false,
         "target": "compList",
         "type": "call_method"
        },
        {
         "args": [
          "licorice"
         ],
         "component_index": 0,
         "kwargs": {
          "multipleBond": false,
          "radius": 0.25,
          "sele": "not water and not ion and not protein"
         },
         "methodName": "addRepresentation",
         "reconstruc_color_scheme": false,
         "target": "compList",
         "type": "call_method"
        }
       ],
       "_ngl_original_stage_parameters": {},
       "_ngl_repr_dict": {},
       "_ngl_serialize": false,
       "_ngl_version": "",
       "_ngl_view_id": [],
       "_player_dict": {},
       "_scene_position": {},
       "_scene_rotation": {},
       "_synced_model_ids": [],
       "_synced_repr_model_ids": [],
       "_view_count": null,
       "_view_height": "",
       "_view_module": "nglview-js-widgets",
       "_view_module_version": "3.0.8",
       "_view_name": "NGLView",
       "_view_width": "",
       "background": "white",
       "frame": 0,
       "gui_style": null,
       "layout": "IPY_MODEL_3e696ab5ffcc4e27adec73c5403c51af",
       "max_frame": 0,
       "n_components": 0,
       "picked": {},
       "tabbable": null,
       "tooltip": null
      }
     },
     "5198a3e31fb04754b8238edad523cf74": {
      "model_module": "nglview-js-widgets",
      "model_module_version": "3.0.8",
      "model_name": "NGLModel",
      "state": {
       "_camera_orientation": [],
       "_camera_str": "orthographic",
       "_dom_classes": [],
       "_gui_theme": null,
       "_ibtn_fullscreen": "IPY_MODEL_a1ffe4ec91e8442394cbf2a0e193b120",
       "_igui": null,
       "_iplayer": "IPY_MODEL_1b6e6b7c905f49bc869d83c53a55ec32",
       "_model_module": "nglview-js-widgets",
       "_model_module_version": "3.0.8",
       "_model_name": "NGLModel",
       "_ngl_color_dict": {},
       "_ngl_coordinate_resource": {},
       "_ngl_full_stage_parameters": {},
       "_ngl_msg_archive": [
        {
         "args": [
          {
           "binary": false,
           "data": "ATOM      1  O1x UNK X   0       1.964  -0.861  -0.248  1.00  0.00           O  \nATOM      2  C1x UNK X   0       1.114   0.095   0.209  1.00  0.00           C  \nATOM      3  C2x UNK X   0       0.493   1.073  -0.731  1.00  0.00           C  \nATOM      4  C3x UNK X   0      -0.885   0.552  -1.197  1.00  0.00           C  \nATOM      5  C4x UNK X   0      -1.481   1.562  -2.252  1.00  0.00           C  \nATOM      6  C5x UNK X   0      -1.425   0.864  -3.601  1.00  0.00           C  \nATOM      7  C6x UNK X   0      -1.414  -0.665  -3.326  1.00  0.00           C  \nATOM      8  C7x UNK X   0      -0.770  -0.830  -1.890  1.00  0.00           C  \nATOM      9  O2x UNK X   0       0.862   0.106   1.377  1.00  0.00           O  \nATOM     10  H1x UNK X   0       2.253  -1.415   0.501  1.00  0.00           H  \nATOM     11  H2x UNK X   0       1.196   1.122  -1.567  1.00  0.00           H  \nATOM     12  H3x UNK X   0       0.251   2.033  -0.266  1.00  0.00           H  \nATOM     13  H4x UNK X   0      -1.598   0.540  -0.368  1.00  0.00           H  \nATOM     14  H5x UNK X   0      -2.489   1.828  -1.921  1.00  0.00           H  \nATOM     15  H6x UNK X   0      -0.875   2.472  -2.239  1.00  0.00           H  \nATOM     16  H7x UNK X   0      -2.289   1.161  -4.202  1.00  0.00           H  \nATOM     17  H8x UNK X   0      -0.462   1.194  -4.001  1.00  0.00           H  \nATOM     18  H9x UNK X   0      -2.427  -1.078  -3.308  1.00  0.00           H  \nATOM     19 H10x UNK X   0      -0.942  -1.285  -4.094  1.00  0.00           H  \nATOM     20 H11x UNK X   0       0.296  -1.058  -1.979  1.00  0.00           H  \nATOM     21 H12x UNK X   0      -1.305  -1.611  -1.342  1.00  0.00           H  \nTER      22      UNK X   0\nATOM     23  C1x UNK X   0       1.967  -2.945   3.239  1.00  0.00           C  \nATOM     24  C2x UNK X   0       3.880  -0.813   2.590  1.00  0.00           C  \nATOM     25  C3x UNK X   0       2.177  -1.801   4.164  1.00  0.00           C  \nATOM     26  C4x UNK X   0       2.783  -3.027   1.994  1.00  0.00           C  \nATOM     27  C5x UNK X   0       3.787  -1.989   1.778  1.00  0.00           C  \nATOM     28  C6x UNK X   0       3.098  -0.710   3.828  1.00  0.00           C  \nATOM     29  O1x UNK X   0       4.745   0.326   2.119  1.00  0.00           O  \nATOM     30  C7x UNK X   0       3.205   0.714   4.635  1.00  0.00           C  \nATOM     31  C8x UNK X   0       4.112   1.476   1.326  1.00  0.00           C  \nATOM     32  O2x UNK X   0       3.874   2.645   2.273  1.00  0.00           O  \nATOM     33  C9x UNK X   0       2.589   2.685   2.882  1.00  0.00           C  \nATOM     34 C10x UNK X   0       2.113   1.811   3.951  1.00  0.00           C  \nATOM     35 C11x UNK X   0       0.706   1.940   4.379  1.00  0.00           C  \nATOM     36 C12x UNK X   0       1.629   3.596   2.330  1.00  0.00           C  \nATOM     37 C13x UNK X   0      -0.219   2.908   3.855  1.00  0.00           C  \nATOM     38 C14x UNK X   0       0.232   3.650   2.708  1.00  0.00           C  \nATOM     39  O3x UNK X   0      -0.604   4.496   1.962  1.00  0.00           O  \nATOM     40 C15x UNK X   0      -1.809   3.114   4.364  1.00  0.00           C  \nATOM     41 C16x UNK X   0      -2.743   2.055   3.497  1.00  0.00           C  \nATOM     42 C17x UNK X   0      -3.226   2.471   2.212  1.00  0.00           C  \nATOM     43 C18x UNK X   0      -1.602   3.876   0.982  1.00  0.00           C  \nATOM     44  O4x UNK X   0      -2.933   3.743   1.687  1.00  0.00           O  \nATOM     45  O5x UNK X   0       2.659  -4.121   1.020  1.00  0.00           O  \nATOM     46 C19x UNK X   0       0.981  -4.154   3.596  1.00  0.00           C  \nATOM     47 C20x UNK X   0      -0.471  -3.866   2.870  1.00  0.00           C  \nATOM     48  O6x UNK X   0       0.329  -4.932   0.675  1.00  0.00           O  \nATOM     49 C21x UNK X   0      -0.657  -4.180   1.478  1.00  0.00           C  \nATOM     50 C22x UNK X   0      -4.005   1.591   1.409  1.00  0.00           C  \nATOM     51 C23x UNK X   0      -4.275   0.232   1.742  1.00  0.00           C  \nATOM     52 C24x UNK X   0      -1.872  -3.883   0.816  1.00  0.00           C  \nATOM     53 C25x UNK X   0      -2.968  -3.130   1.390  1.00  0.00           C  \nATOM     54  O7x UNK X   0      -5.007  -0.613   0.838  1.00  0.00           O  \nATOM     55  O8x UNK X   0      -4.049  -2.865   0.560  1.00  0.00           O  \nATOM     56 C26x UNK X   0      -4.212  -1.522  -0.156  1.00  0.00           C  \nATOM     57 C27x UNK X   0      -1.610  -3.113   3.511  1.00  0.00           C  \nATOM     58 C28x UNK X   0      -2.901  -2.786   2.857  1.00  0.00           C  \nATOM     59 C29x UNK X   0      -3.065   0.672   3.863  1.00  0.00           C  \nATOM     60 C30x UNK X   0      -4.116  -1.917   3.458  1.00  0.00           C  \nATOM     61 C31x UNK X   0      -3.837  -0.265   3.067  1.00  0.00           C  \nATOM     62 C32x UNK X   0       1.434  -4.058   0.065  1.00  0.00           C  \nATOM     63 C33x UNK X   0      -2.212   3.302   6.044  1.00  0.00           C  \nATOM     64 C34x UNK X   0      -2.195   4.805   6.745  1.00  0.00           C  \nATOM     65 C35x UNK X   0      -2.779   5.190   8.155  1.00  0.00           C  \nATOM     66  O9x UNK X   0      -3.864   5.905   8.343  1.00  0.00           O  \nATOM     67 C36x UNK X   0       3.464   0.793   6.291  1.00  0.00           C  \nATOM     68 C37x UNK X   0       4.985   0.236   6.759  1.00  0.00           C  \nATOM     69 C38x UNK X   0       5.424   0.456   8.248  1.00  0.00           C  \nATOM     70 O10x UNK X   0       5.321  -0.459   9.136  1.00  0.00           O  \nATOM     71 C39x UNK X   0       1.083  -4.728   5.231  1.00  0.00           C  \nATOM     72 C40x UNK X   0       1.463  -6.357   5.451  1.00  0.00           C  \nATOM     73 C41x UNK X   0       1.697  -6.844   7.069  1.00  0.00           C  \nATOM     74 O11x UNK X   0       0.794  -7.457   7.711  1.00  0.00           O  \nATOM     75 C42x UNK X   0      -4.957  -2.288   4.864  1.00  0.00           C  \nATOM     76 C43x UNK X   0      -6.617  -2.176   4.888  1.00  0.00           C  \nATOM     77 C44x UNK X   0      -7.369  -2.802   6.098  1.00  0.00           C  \nATOM     78 O12x UNK X   0      -6.966  -2.983   7.305  1.00  0.00           O  \nATOM     79 C45x UNK X   0       4.813   1.871  -0.163  1.00  0.00           C  \nATOM     80 C46x UNK X   0       6.040   2.415  -2.789  1.00  0.00           C  \nATOM     81 C47x UNK X   0       4.711   3.170  -0.803  1.00  0.00           C  \nATOM     82 C48x UNK X   0       5.475   0.849  -0.979  1.00  0.00           C  \nATOM     83 C49x UNK X   0       6.097   1.051  -2.266  1.00  0.00           C  \nATOM     84 C50x UNK X   0       5.312   3.458  -2.138  1.00  0.00           C  \nATOM     85 C51x UNK X   0       1.807  -4.476  -1.546  1.00  0.00           C  \nATOM     86 C52x UNK X   0       2.421  -4.736  -4.356  1.00  0.00           C  \nATOM     87 C53x UNK X   0       0.783  -4.939  -2.531  1.00  0.00           C  \nATOM     88 C54x UNK X   0       3.118  -4.198  -2.092  1.00  0.00           C  \nATOM     89 C55x UNK X   0       3.442  -4.302  -3.519  1.00  0.00           C  \nATOM     90 C56x UNK X   0       1.058  -4.996  -3.943  1.00  0.00           C  \nATOM     91 C57x UNK X   0      -4.742  -1.528  -1.706  1.00  0.00           C  \nATOM     92 C58x UNK X   0      -5.449  -1.330  -4.545  1.00  0.00           C  \nATOM     93 C59x UNK X   0      -5.324  -0.293  -2.340  1.00  0.00           C  \nATOM     94 C60x UNK X   0      -4.485  -2.611  -2.719  1.00  0.00           C  \nATOM     95 C61x UNK X   0      -4.762  -2.482  -4.105  1.00  0.00           C  \nATOM     96 C62x UNK X   0      -5.649  -0.187  -3.743  1.00  0.00           C  \nATOM     97 C63x UNK X   0      -1.616   4.709  -0.476  1.00  0.00           C  \nATOM     98 C64x UNK X   0      -1.513   5.834  -3.197  1.00  0.00           C  \nATOM     99 C65x UNK X   0      -2.751   4.596  -1.467  1.00  0.00           C  \nATOM    100 C66x UNK X   0      -0.462   5.456  -0.995  1.00  0.00           C  \nATOM    101 C67x UNK X   0      -0.294   5.956  -2.370  1.00  0.00           C  \nATOM    102 C68x UNK X   0      -2.712   5.152  -2.758  1.00  0.00           C  \nATOM    103 O13x UNK X   0       4.816  -4.422  -4.006  1.00  0.00           O  \nATOM    104 O14x UNK X   0      -4.593  -3.534  -5.133  1.00  0.00           O  \nATOM    105 O15x UNK X   0      -6.593   0.775  -4.234  1.00  0.00           O  \nATOM    106 O16x UNK X   0       7.175   0.232  -2.743  1.00  0.00           O  \nATOM    107 O17x UNK X   0       5.499   4.813  -2.729  1.00  0.00           O  \nATOM    108 O18x UNK X   0      -3.909   5.414  -3.542  1.00  0.00           O  \nATOM    109 O19x UNK X   0       0.641   7.004  -2.661  1.00  0.00           O  \nATOM    110 C69x UNK X   0      -3.521  -4.647  -5.111  1.00  0.00           C  \nATOM    111 C70x UNK X   0      -1.756  -6.899  -5.612  1.00  0.00           C  \nATOM    112 C71x UNK X   0      -2.111  -4.532  -4.817  1.00  0.00           C  \nATOM    113 C72x UNK X   0      -3.981  -5.931  -5.711  1.00  0.00           C  \nATOM    114 C73x UNK X   0      -3.085  -6.997  -6.085  1.00  0.00           C  \nATOM    115 C74x UNK X   0      -1.207  -5.704  -4.942  1.00  0.00           C  \nATOM    116 O20x UNK X   0       0.238  -5.666  -4.942  1.00  0.00           O  \nATOM    117 C75x UNK X   0       6.945  -1.055  -3.510  1.00  0.00           C  \nATOM    118 C76x UNK X   0       6.986  -3.635  -4.868  1.00  0.00           C  \nATOM    119 C77x UNK X   0       8.021  -1.423  -4.420  1.00  0.00           C  \nATOM    120 C78x UNK X   0       5.824  -2.016  -3.335  1.00  0.00           C  \nATOM    121 C79x UNK X   0       5.793  -3.306  -4.062  1.00  0.00           C  \nATOM    122 C80x UNK X   0       8.092  -2.721  -5.094  1.00  0.00           C  \nATOM    123 C81x UNK X   0      -6.235   2.222  -4.396  1.00  0.00           C  \nATOM    124 C82x UNK X   0      -5.752   5.007  -5.042  1.00  0.00           C  \nATOM    125 C83x UNK X   0      -7.116   3.010  -5.196  1.00  0.00           C  \nATOM    126 C84x UNK X   0      -5.133   2.926  -3.740  1.00  0.00           C  \nATOM    127 C85x UNK X   0      -4.859   4.378  -4.076  1.00  0.00           C  \nATOM    128 C86x UNK X   0      -6.876   4.378  -5.568  1.00  0.00           C  \nATOM    129 C87x UNK X   0      -7.870   5.143  -6.514  1.00  0.00           C  \nATOM    130 O21x UNK X   0      -8.931   4.602  -7.039  1.00  0.00           O  \nATOM    131 C88x UNK X   0       4.474   9.102  -5.154  1.00  0.00           C  \nATOM    132 O22x UNK X   0       5.709   9.374  -5.227  1.00  0.00           O  \nATOM    133 C89x UNK X   0       9.262  -3.213  -6.018  1.00  0.00           C  \nATOM    134 O23x UNK X   0       9.219  -4.217  -6.743  1.00  0.00           O  \nATOM    135 O24x UNK X   0      -2.061   4.957   9.185  1.00  0.00           O  \nATOM    136 O25x UNK X   0      -8.641  -2.822   6.025  1.00  0.00           O  \nATOM    137 O26x UNK X   0       2.840  -7.194   7.459  1.00  0.00           O  \nATOM    138 C90x UNK X   0      -3.647  -8.283  -6.976  1.00  0.00           C  \nATOM    139 O27x UNK X   0      -2.888  -9.233  -7.281  1.00  0.00           O  \nATOM    140 O28x UNK X   0       3.730   9.847  -5.853  1.00  0.00           O  \nATOM    141 O29x UNK X   0      -7.671   6.314  -6.905  1.00  0.00           O  \nATOM    142 O30x UNK X   0      -4.775  -8.298  -7.540  1.00  0.00           O  \nATOM    143 O31x UNK X   0      10.330  -2.615  -6.041  1.00  0.00           O  \nATOM    144 O32x UNK X   0       6.241   1.409   8.507  1.00  0.00           O  \nATOM    145 C91x UNK X   0       4.388   5.757  -3.081  1.00  0.00           C  \nATOM    146 C92x UNK X   0       2.587   7.838  -3.916  1.00  0.00           C  \nATOM    147 C93x UNK X   0       2.965   5.663  -2.801  1.00  0.00           C  \nATOM    148 C94x UNK X   0       4.901   6.914  -3.760  1.00  0.00           C  \nATOM    149 C95x UNK X   0       4.012   7.929  -4.277  1.00  0.00           C  \nATOM    150 C96x UNK X   0       2.027   6.696  -3.207  1.00  0.00           C  \nATOM    151  H1x UNK X   0       1.419  -1.764   4.940  1.00  0.00           H  \nATOM    152  H2x UNK X   0       4.439  -2.086   0.915  1.00  0.00           H  \nATOM    153  H3x UNK X   0       4.151   1.157   4.312  1.00  0.00           H  \nATOM    154  H4x UNK X   0       3.098   1.115   1.128  1.00  0.00           H  \nATOM    155  H5x UNK X   0       0.362   1.329   5.208  1.00  0.00           H  \nATOM    156  H6x UNK X   0       2.028   4.272   1.580  1.00  0.00           H  \nATOM    157  H7x UNK X   0      -2.105   4.087   3.960  1.00  0.00           H  \nATOM    158  H8x UNK X   0      -1.241   2.865   0.774  1.00  0.00           H  \nATOM    159  H9x UNK X   0       1.429  -5.006   3.075  1.00  0.00           H  \nATOM    160 H10x UNK X   0      -4.399   1.839   0.428  1.00  0.00           H  \nATOM    161 H11x UNK X   0      -1.890  -4.045  -0.257  1.00  0.00           H  \nATOM    162 H12x UNK X   0      -3.220  -1.069  -0.251  1.00  0.00           H  \nATOM    163 H13x UNK X   0      -1.552  -2.804   4.551  1.00  0.00           H  \nATOM    164 H14x UNK X   0      -2.578   0.306   4.762  1.00  0.00           H  \nATOM    165 H15x UNK X   0      -4.948  -2.141   2.783  1.00  0.00           H  \nATOM    166 H16x UNK X   0       1.117  -3.011   0.040  1.00  0.00           H  \nATOM    167 H17x UNK X   0      -3.177   2.837   6.265  1.00  0.00           H  \nATOM    168 H18x UNK X   0      -1.504   2.659   6.574  1.00  0.00           H  \nATOM    169 H19x UNK X   0      -1.165   5.155   6.633  1.00  0.00           H  \nATOM    170 H20x UNK X   0      -2.581   5.619   6.125  1.00  0.00           H  \nATOM    171 H21x UNK X   0       2.755   0.149   6.820  1.00  0.00           H  \nATOM    172 H22x UNK X   0       3.386   1.857   6.531  1.00  0.00           H  \nATOM    173 H23x UNK X   0       5.023  -0.843   6.582  1.00  0.00           H  \nATOM    174 H24x UNK X   0       5.770   0.701   6.156  1.00  0.00           H  \nATOM    175 H25x UNK X   0       1.954  -4.211   5.644  1.00  0.00           H  \nATOM    176 H26x UNK X   0       0.255  -4.378   5.855  1.00  0.00           H  \nATOM    177 H27x UNK X   0       0.634  -6.885   4.970  1.00  0.00           H  \nATOM    178 H28x UNK X   0       2.424  -6.538   4.961  1.00  0.00           H  \nATOM    179 H29x UNK X   0      -4.745  -3.342   5.063  1.00  0.00           H  \nATOM    180 H30x UNK X   0      -4.511  -1.843   5.758  1.00  0.00           H  \nATOM    181 H31x UNK X   0      -6.888  -1.128   4.734  1.00  0.00           H  \nATOM    182 H32x UNK X   0      -7.012  -2.604   3.962  1.00  0.00           H  \nATOM    183 H33x UNK X   0       6.744   2.744  -3.548  1.00  0.00           H  \nATOM    184 H34x UNK X   0       4.222   3.897  -0.162  1.00  0.00           H  \nATOM    185 H35x UNK X   0       5.523  -0.157  -0.574  1.00  0.00           H  \nATOM    186 H36x UNK X   0       2.602  -4.929  -5.409  1.00  0.00           H  \nATOM    187 H37x UNK X   0      -0.179  -5.269  -2.152  1.00  0.00           H  \nATOM    188 H38x UNK X   0       3.950  -3.903  -1.460  1.00  0.00           H  \nATOM    189 H39x UNK X   0      -5.794  -1.405  -5.572  1.00  0.00           H  \nATOM    190 H40x UNK X   0      -5.493   0.561  -1.691  1.00  0.00           H  \nATOM    191 H41x UNK X   0      -3.896  -3.417  -2.292  1.00  0.00           H  \nATOM    192 H42x UNK X   0      -1.599   6.327  -4.161  1.00  0.00           H  \nATOM    193 H43x UNK X   0      -3.655   4.087  -1.147  1.00  0.00           H  \nATOM    194 H44x UNK X   0       0.350   5.714  -0.321  1.00  0.00           H  \nATOM    195 H45x UNK X   0      -1.070  -7.722  -5.787  1.00  0.00           H  \nATOM    196 H46x UNK X   0      -1.660  -3.550  -4.710  1.00  0.00           H  \nATOM    197 H47x UNK X   0      -5.021  -6.094  -5.977  1.00  0.00           H  \nATOM    198 H48x UNK X   0       7.024  -4.602  -5.359  1.00  0.00           H  \nATOM    199 H49x UNK X   0       8.844  -0.730  -4.568  1.00  0.00           H  \nATOM    200 H50x UNK X   0       4.922  -1.761  -2.787  1.00  0.00           H  \nATOM    201 H51x UNK X   0      -5.569   6.044  -5.308  1.00  0.00           H  \nATOM    202 H52x UNK X   0      -8.041   2.554  -5.536  1.00  0.00           H  \nATOM    203 H53x UNK X   0      -4.665   2.489  -2.863  1.00  0.00           H  \nATOM    204 H54x UNK X   0       1.945   8.687  -4.132  1.00  0.00           H  \nATOM    205 H55x UNK X   0       2.491   4.887  -2.207  1.00  0.00           H  \nATOM    206 H56x UNK X   0       5.963   6.999  -3.967  1.00  0.00           H  \nTER     207      UNK X   0\nCONECT    1    2   10\nCONECT    2    1    3    9\nCONECT    3    2    4   11   12\nCONECT    4    3    8    5   13\nCONECT    5    4    6   14   15\nCONECT    6    5    7   16   17\nCONECT    7    6    8   18   19\nCONECT    8    4    7   20   21\nCONECT    9    2\nCONECT   10    1\nCONECT   11    3\nCONECT   12    3\nCONECT   13    4\nCONECT   14    5\nCONECT   15    5\nCONECT   16    6\nCONECT   17    6\nCONECT   18    7\nCONECT   19    7\nCONECT   20    8\nCONECT   21    8\nCONECT   23   25   26   46\nCONECT   24   27   28   29\nCONECT   25   23   28  151\nCONECT   26   23   27   45\nCONECT   27   24   26  152\nCONECT   28   24   25   30\nCONECT   29   24   31\nCONECT   30   28   34   67  153\nCONECT   31   29   32   79  154\nCONECT   32   31   33\nCONECT   33   32   34   36\nCONECT   34   30   33   35\nCONECT   35   34   37  155\nCONECT   36   33   38  156\nCONECT   37   35   38   40\nCONECT   38   36   37   39\nCONECT   39   38   43\nCONECT   40   37   41   63  157\nCONECT   41   40   42   59\nCONECT   42   41   44   50\nCONECT   43   39   44   97  158\nCONECT   44   42   43\nCONECT   45   26   62\nCONECT   46   23   47   71  159\nCONECT   47   46   49   57\nCONECT   48   49   62\nCONECT   49   47   48   52\nCONECT   50   42   51  160\nCONECT   51   50   54   61\nCONECT   52   49   53  161\nCONECT   53   52   55   58\nCONECT   54   51   56\nCONECT   55   53   56\nCONECT   56   54   55   91  162\nCONECT   57   47   58  163\nCONECT   58   53   57   60\nCONECT   59   41   61  164\nCONECT   60   58   61   75  165\nCONECT   61   51   59   60\nCONECT   62   45   48   85  166\nCONECT   63   40   64  167  168\nCONECT   64   63   65  169  170\nCONECT   65   64   66  135\nCONECT   66   65\nCONECT   67   30   68  171  172\nCONECT   68   67   69  173  174\nCONECT   69   68   70  144\nCONECT   70   69\nCONECT   71   46   72  175  176\nCONECT   72   71   73  177  178\nCONECT   73   72   74  137\nCONECT   74   73\nCONECT   75   60   76  179  180\nCONECT   76   75   77  181  182\nCONECT   77   76   78  136\nCONECT   78   77\nCONECT   79   31   81   82\nCONECT   80   83   84  183\nCONECT   81   79   84  184\nCONECT   82   79   83  185\nCONECT   83   80   82  106\nCONECT   84   80   81  107\nCONECT   85   62   87   88\nCONECT   86   89   90  186\nCONECT   87   85   90  187\nCONECT   88   85   89  188\nCONECT   89   86   88  103\nCONECT   90   86   87  116\nCONECT   91   56   93   94\nCONECT   92   95   96  189\nCONECT   93   91   96  190\nCONECT   94   91   95  191\nCONECT   95   92   94  104\nCONECT   96   92   93  105\nCONECT   97   43   99  100\nCONECT   98  101  102  192\nCONECT   99   97  102  193\nCONECT  100   97  101  194\nCONECT  101   98  100  109\nCONECT  102   98   99  108\nCONECT  103   89  121\nCONECT  104   95  110\nCONECT  105   96  123\nCONECT  106   83  117\nCONECT  107   84  145\nCONECT  108  102  127\nCONECT  109  101  150\nCONECT  110  104  112  113\nCONECT  111  114  115  195\nCONECT  112  110  115  196\nCONECT  113  110  114  197\nCONECT  114  111  113  138\nCONECT  115  111  112  116\nCONECT  116   90  115\nCONECT  117  106  119  120\nCONECT  118  121  122  198\nCONECT  119  117  122  199\nCONECT  120  117  121  200\nCONECT  121  103  118  120\nCONECT  122  118  119  133\nCONECT  123  105  125  126\nCONECT  124  127  128  201\nCONECT  125  123  128  202\nCONECT  126  123  127  203\nCONECT  127  108  124  126\nCONECT  128  124  125  129\nCONECT  129  128  130  141\nCONECT  130  129\nCONECT  131  132  140  149\nCONECT  132  131\nCONECT  133  122  134  143\nCONECT  134  133\nCONECT  135   65\nCONECT  136   77\nCONECT  137   73\nCONECT  138  114  139  142\nCONECT  139  138\nCONECT  140  131\nCONECT  141  129\nCONECT  142  138\nCONECT  143  133\nCONECT  144   69\nCONECT  145  107  147  148\nCONECT  146  149  150  204\nCONECT  147  145  150  205\nCONECT  148  145  149  206\nCONECT  149  131  146  148\nCONECT  150  109  146  147\nCONECT  151   25\nCONECT  152   27\nCONECT  153   30\nCONECT  154   31\nCONECT  155   35\nCONECT  156   36\nCONECT  157   40\nCONECT  158   43\nCONECT  159   46\nCONECT  160   50\nCONECT  161   52\nCONECT  162   56\nCONECT  163   57\nCONECT  164   59\nCONECT  165   60\nCONECT  166   62\nCONECT  167   63\nCONECT  168   63\nCONECT  169   64\nCONECT  170   64\nCONECT  171   67\nCONECT  172   67\nCONECT  173   68\nCONECT  174   68\nCONECT  175   71\nCONECT  176   71\nCONECT  177   72\nCONECT  178   72\nCONECT  179   75\nCONECT  180   75\nCONECT  181   76\nCONECT  182   76\nCONECT  183   80\nCONECT  184   81\nCONECT  185   82\nCONECT  186   86\nCONECT  187   87\nCONECT  188   88\nCONECT  189   92\nCONECT  190   93\nCONECT  191   94\nCONECT  192   98\nCONECT  193   99\nCONECT  194  100\nCONECT  195  111\nCONECT  196  112\nCONECT  197  113\nCONECT  198  118\nCONECT  199  119\nCONECT  200  120\nCONECT  201  124\nCONECT  202  125\nCONECT  203  126\nCONECT  204  146\nCONECT  205  147\nCONECT  206  148\nEND\n",
           "type": "blob"
          }
         ],
         "kwargs": {
          "defaultRepresentation": true,
          "ext": "pdb",
          "name": "nglview.adaptor.MDTrajTrajectory"
         },
         "methodName": "loadFile",
         "reconstruc_color_scheme": false,
         "target": "Stage",
         "type": "call_method"
        }
       ],
       "_ngl_original_stage_parameters": {},
       "_ngl_repr_dict": {},
       "_ngl_serialize": false,
       "_ngl_version": "",
       "_ngl_view_id": [],
       "_player_dict": {},
       "_scene_position": {},
       "_scene_rotation": {},
       "_synced_model_ids": [],
       "_synced_repr_model_ids": [],
       "_view_count": null,
       "_view_height": "",
       "_view_module": "nglview-js-widgets",
       "_view_module_version": "3.0.8",
       "_view_name": "NGLView",
       "_view_width": "",
       "background": "white",
       "frame": 0,
       "gui_style": null,
       "layout": "IPY_MODEL_d5fbca83e92c409d81c56ae911069aa4",
       "max_frame": 43,
       "n_components": 0,
       "picked": {},
       "tabbable": null,
       "tooltip": null
      }
     },
     "5732181a75f64e61b1941dc4f26d3074": {
      "model_module": "@jupyter-widgets/controls",
      "model_module_version": "2.0.0",
      "model_name": "LinkModel",
      "state": {
       "_model_module": "@jupyter-widgets/controls",
       "_model_module_version": "2.0.0",
       "_model_name": "LinkModel",
       "_view_count": null,
       "_view_module": "@jupyter-widgets/controls",
       "_view_module_version": "2.0.0",
       "_view_name": null,
       "source": [
        "IPY_MODEL_28fb6f630e304b33bb6fcb851addddc4",
        "value"
       ],
       "target": [
        "IPY_MODEL_5cbe6be347844065bd0db862dd441f92",
        "value"
       ]
      }
     },
     "5cbe6be347844065bd0db862dd441f92": {
      "model_module": "@jupyter-widgets/controls",
      "model_module_version": "2.0.0",
      "model_name": "IntSliderModel",
      "state": {
       "_dom_classes": [],
       "_model_module": "@jupyter-widgets/controls",
       "_model_module_version": "2.0.0",
       "_model_name": "IntSliderModel",
       "_view_count": null,
       "_view_module": "@jupyter-widgets/controls",
       "_view_module_version": "2.0.0",
       "_view_name": "IntSliderView",
       "behavior": "drag-tap",
       "continuous_update": true,
       "description": "",
       "description_allow_html": false,
       "disabled": false,
       "layout": "IPY_MODEL_a53a7fcf7af54b64a85cccb8d334d8fd",
       "max": 43,
       "min": 0,
       "orientation": "horizontal",
       "readout": true,
       "readout_format": "d",
       "step": 1,
       "style": "IPY_MODEL_7be071bff170495aae1c0a15c0ae8e6c",
       "tabbable": null,
       "tooltip": null,
       "value": 0
      }
     },
     "681ca6be2d6d4342b2fcafd260e5dd35": {
      "model_module": "@jupyter-widgets/controls",
      "model_module_version": "2.0.0",
      "model_name": "LinkModel",
      "state": {
       "_model_module": "@jupyter-widgets/controls",
       "_model_module_version": "2.0.0",
       "_model_name": "LinkModel",
       "_view_count": null,
       "_view_module": "@jupyter-widgets/controls",
       "_view_module_version": "2.0.0",
       "_view_name": null,
       "source": [
        "IPY_MODEL_f1f268b8fa634bafba155e03167dccea",
        "max"
       ],
       "target": [
        "IPY_MODEL_503553f9d36545329f827d849b84ffb4",
        "max_frame"
       ]
      }
     },
     "6974aa3820aa48f4af0edc55f4031108": {
      "model_module": "@jupyter-widgets/controls",
      "model_module_version": "2.0.0",
      "model_name": "LinkModel",
      "state": {
       "_model_module": "@jupyter-widgets/controls",
       "_model_module_version": "2.0.0",
       "_model_name": "LinkModel",
       "_view_count": null,
       "_view_module": "@jupyter-widgets/controls",
       "_view_module_version": "2.0.0",
       "_view_name": null,
       "source": [
        "IPY_MODEL_28fb6f630e304b33bb6fcb851addddc4",
        "max"
       ],
       "target": [
        "IPY_MODEL_5198a3e31fb04754b8238edad523cf74",
        "max_frame"
       ]
      }
     },
     "6acc015d25f84d99bd0223e6422a1725": {
      "model_module": "@jupyter-widgets/base",
      "model_module_version": "2.0.0",
      "model_name": "LayoutModel",
      "state": {
       "_model_module": "@jupyter-widgets/base",
       "_model_module_version": "2.0.0",
       "_model_name": "LayoutModel",
       "_view_count": null,
       "_view_module": "@jupyter-widgets/base",
       "_view_module_version": "2.0.0",
       "_view_name": "LayoutView",
       "align_content": null,
       "align_items": null,
       "align_self": null,
       "border_bottom": null,
       "border_left": null,
       "border_right": null,
       "border_top": null,
       "bottom": null,
       "display": null,
       "flex": null,
       "flex_flow": null,
       "grid_area": null,
       "grid_auto_columns": null,
       "grid_auto_flow": null,
       "grid_auto_rows": null,
       "grid_column": null,
       "grid_gap": null,
       "grid_row": null,
       "grid_template_areas": null,
       "grid_template_columns": null,
       "grid_template_rows": null,
       "height": null,
       "justify_content": null,
       "justify_items": null,
       "left": null,
       "margin": null,
       "max_height": null,
       "max_width": null,
       "min_height": null,
       "min_width": null,
       "object_fit": null,
       "object_position": null,
       "order": null,
       "overflow": null,
       "padding": null,
       "right": null,
       "top": null,
       "visibility": null,
       "width": null
      }
     },
     "7be071bff170495aae1c0a15c0ae8e6c": {
      "model_module": "@jupyter-widgets/controls",
      "model_module_version": "2.0.0",
      "model_name": "SliderStyleModel",
      "state": {
       "_model_module": "@jupyter-widgets/controls",
       "_model_module_version": "2.0.0",
       "_model_name": "SliderStyleModel",
       "_view_count": null,
       "_view_module": "@jupyter-widgets/base",
       "_view_module_version": "2.0.0",
       "_view_name": "StyleView",
       "description_width": "",
       "handle_color": null
      }
     },
     "7ef00e0498b1467989a14a25dac0d406": {
      "model_module": "@jupyter-widgets/controls",
      "model_module_version": "2.0.0",
      "model_name": "HBoxModel",
      "state": {
       "_dom_classes": [],
       "_model_module": "@jupyter-widgets/controls",
       "_model_module_version": "2.0.0",
       "_model_name": "HBoxModel",
       "_view_count": null,
       "_view_module": "@jupyter-widgets/controls",
       "_view_module_version": "2.0.0",
       "_view_name": "HBoxView",
       "box_style": "",
       "children": [
        "IPY_MODEL_dd6136e3377d4b9db039825b45cdfc0b",
        "IPY_MODEL_f1f268b8fa634bafba155e03167dccea"
       ],
       "layout": "IPY_MODEL_e66e150816364465a1cdff7d535408e5",
       "tabbable": null,
       "tooltip": null
      }
     },
     "88a5b7a307a840849b20685c369a0830": {
      "buffers": [
       {
        "data": "",
        "encoding": "base64",
        "path": [
         "value"
        ]
       }
      ],
      "model_module": "@jupyter-widgets/controls",
      "model_module_version": "2.0.0",
      "model_name": "ImageModel",
      "state": {
       "_dom_classes": [],
       "_model_module": "@jupyter-widgets/controls",
       "_model_module_version": "2.0.0",
       "_model_name": "ImageModel",
       "_view_count": null,
       "_view_module": "@jupyter-widgets/controls",
       "_view_module_version": "2.0.0",
       "_view_name": "ImageView",
       "format": "png",
       "height": "",
       "layout": "IPY_MODEL_8bf34ab093b14018a0883493c66d790f",
       "tabbable": null,
       "tooltip": null,
       "width": "900.0"
      }
     },
     "8bf34ab093b14018a0883493c66d790f": {
      "model_module": "@jupyter-widgets/base",
      "model_module_version": "2.0.0",
      "model_name": "LayoutModel",
      "state": {
       "_model_module": "@jupyter-widgets/base",
       "_model_module_version": "2.0.0",
       "_model_name": "LayoutModel",
       "_view_count": null,
       "_view_module": "@jupyter-widgets/base",
       "_view_module_version": "2.0.0",
       "_view_name": "LayoutView",
       "align_content": null,
       "align_items": null,
       "align_self": null,
       "border_bottom": null,
       "border_left": null,
       "border_right": null,
       "border_top": null,
       "bottom": null,
       "display": null,
       "flex": null,
       "flex_flow": null,
       "grid_area": null,
       "grid_auto_columns": null,
       "grid_auto_flow": null,
       "grid_auto_rows": null,
       "grid_column": null,
       "grid_gap": null,
       "grid_row": null,
       "grid_template_areas": null,
       "grid_template_columns": null,
       "grid_template_rows": null,
       "height": null,
       "justify_content": null,
       "justify_items": null,
       "left": null,
       "margin": null,
       "max_height": null,
       "max_width": null,
       "min_height": null,
       "min_width": null,
       "object_fit": null,
       "object_position": null,
       "order": null,
       "overflow": null,
       "padding": null,
       "right": null,
       "top": null,
       "visibility": null,
       "width": null
      }
     },
     "90c5f3d4de1d452dafaa2c8d091c5669": {
      "model_module": "@jupyter-widgets/controls",
      "model_module_version": "2.0.0",
      "model_name": "LinkModel",
      "state": {
       "_model_module": "@jupyter-widgets/controls",
       "_model_module_version": "2.0.0",
       "_model_name": "LinkModel",
       "_view_count": null,
       "_view_module": "@jupyter-widgets/controls",
       "_view_module_version": "2.0.0",
       "_view_name": null,
       "source": [
        "IPY_MODEL_dd6136e3377d4b9db039825b45cdfc0b",
        "value"
       ],
       "target": [
        "IPY_MODEL_503553f9d36545329f827d849b84ffb4",
        "frame"
       ]
      }
     },
     "a1ffe4ec91e8442394cbf2a0e193b120": {
      "model_module": "@jupyter-widgets/controls",
      "model_module_version": "2.0.0",
      "model_name": "ButtonModel",
      "state": {
       "_dom_classes": [],
       "_model_module": "@jupyter-widgets/controls",
       "_model_module_version": "2.0.0",
       "_model_name": "ButtonModel",
       "_view_count": null,
       "_view_module": "@jupyter-widgets/controls",
       "_view_module_version": "2.0.0",
       "_view_name": "ButtonView",
       "button_style": "",
       "description": "",
       "disabled": false,
       "icon": "compress",
       "layout": "IPY_MODEL_bdc7c2e8f29c48db838177554ec67ebb",
       "style": "IPY_MODEL_e1ac5b1944b342b99a9b2dabed9bae4a",
       "tabbable": null,
       "tooltip": null
      }
     },
     "a53a7fcf7af54b64a85cccb8d334d8fd": {
      "model_module": "@jupyter-widgets/base",
      "model_module_version": "2.0.0",
      "model_name": "LayoutModel",
      "state": {
       "_model_module": "@jupyter-widgets/base",
       "_model_module_version": "2.0.0",
       "_model_name": "LayoutModel",
       "_view_count": null,
       "_view_module": "@jupyter-widgets/base",
       "_view_module_version": "2.0.0",
       "_view_name": "LayoutView",
       "align_content": null,
       "align_items": null,
       "align_self": null,
       "border_bottom": null,
       "border_left": null,
       "border_right": null,
       "border_top": null,
       "bottom": null,
       "display": null,
       "flex": null,
       "flex_flow": null,
       "grid_area": null,
       "grid_auto_columns": null,
       "grid_auto_flow": null,
       "grid_auto_rows": null,
       "grid_column": null,
       "grid_gap": null,
       "grid_row": null,
       "grid_template_areas": null,
       "grid_template_columns": null,
       "grid_template_rows": null,
       "height": null,
       "justify_content": null,
       "justify_items": null,
       "left": null,
       "margin": null,
       "max_height": null,
       "max_width": null,
       "min_height": null,
       "min_width": null,
       "object_fit": null,
       "object_position": null,
       "order": null,
       "overflow": null,
       "padding": null,
       "right": null,
       "top": null,
       "visibility": null,
       "width": null
      }
     },
     "a5e886fb70104628b06b1d7d32c040f7": {
      "model_module": "@jupyter-widgets/base",
      "model_module_version": "2.0.0",
      "model_name": "LayoutModel",
      "state": {
       "_model_module": "@jupyter-widgets/base",
       "_model_module_version": "2.0.0",
       "_model_name": "LayoutModel",
       "_view_count": null,
       "_view_module": "@jupyter-widgets/base",
       "_view_module_version": "2.0.0",
       "_view_name": "LayoutView",
       "align_content": null,
       "align_items": null,
       "align_self": null,
       "border_bottom": null,
       "border_left": null,
       "border_right": null,
       "border_top": null,
       "bottom": null,
       "display": null,
       "flex": null,
       "flex_flow": null,
       "grid_area": null,
       "grid_auto_columns": null,
       "grid_auto_flow": null,
       "grid_auto_rows": null,
       "grid_column": null,
       "grid_gap": null,
       "grid_row": null,
       "grid_template_areas": null,
       "grid_template_columns": null,
       "grid_template_rows": null,
       "height": null,
       "justify_content": null,
       "justify_items": null,
       "left": null,
       "margin": null,
       "max_height": null,
       "max_width": null,
       "min_height": null,
       "min_width": null,
       "object_fit": null,
       "object_position": null,
       "order": null,
       "overflow": null,
       "padding": null,
       "right": null,
       "top": null,
       "visibility": null,
       "width": null
      }
     },
     "a691b8ff47cc49b69ae3e6a21bdc28de": {
      "model_module": "@jupyter-widgets/controls",
      "model_module_version": "2.0.0",
      "model_name": "ButtonModel",
      "state": {
       "_dom_classes": [],
       "_model_module": "@jupyter-widgets/controls",
       "_model_module_version": "2.0.0",
       "_model_name": "ButtonModel",
       "_view_count": null,
       "_view_module": "@jupyter-widgets/controls",
       "_view_module_version": "2.0.0",
       "_view_name": "ButtonView",
       "button_style": "",
       "description": "",
       "disabled": false,
       "icon": "compress",
       "layout": "IPY_MODEL_d8f4e06a616b4fc59aca313b9a45bf1f",
       "style": "IPY_MODEL_cc38bb444f5b4064a565e9da58bbf1e7",
       "tabbable": null,
       "tooltip": null
      }
     },
     "ab4d0f2de3a045f089e2176e166ff75f": {
      "model_module": "@jupyter-widgets/base",
      "model_module_version": "2.0.0",
      "model_name": "LayoutModel",
      "state": {
       "_model_module": "@jupyter-widgets/base",
       "_model_module_version": "2.0.0",
       "_model_name": "LayoutModel",
       "_view_count": null,
       "_view_module": "@jupyter-widgets/base",
       "_view_module_version": "2.0.0",
       "_view_name": "LayoutView",
       "align_content": null,
       "align_items": null,
       "align_self": null,
       "border_bottom": null,
       "border_left": null,
       "border_right": null,
       "border_top": null,
       "bottom": null,
       "display": null,
       "flex": null,
       "flex_flow": null,
       "grid_area": null,
       "grid_auto_columns": null,
       "grid_auto_flow": null,
       "grid_auto_rows": null,
       "grid_column": null,
       "grid_gap": null,
       "grid_row": null,
       "grid_template_areas": null,
       "grid_template_columns": null,
       "grid_template_rows": null,
       "height": null,
       "justify_content": null,
       "justify_items": null,
       "left": null,
       "margin": null,
       "max_height": null,
       "max_width": null,
       "min_height": null,
       "min_width": null,
       "object_fit": null,
       "object_position": null,
       "order": null,
       "overflow": null,
       "padding": null,
       "right": null,
       "top": null,
       "visibility": null,
       "width": null
      }
     },
     "b3e1433aa6304115836cf1ab4db22bc7": {
      "model_module": "@jupyter-widgets/controls",
      "model_module_version": "2.0.0",
      "model_name": "LinkModel",
      "state": {
       "_model_module": "@jupyter-widgets/controls",
       "_model_module_version": "2.0.0",
       "_model_name": "LinkModel",
       "_view_count": null,
       "_view_module": "@jupyter-widgets/controls",
       "_view_module_version": "2.0.0",
       "_view_name": null,
       "source": [
        "IPY_MODEL_28fb6f630e304b33bb6fcb851addddc4",
        "value"
       ],
       "target": [
        "IPY_MODEL_5198a3e31fb04754b8238edad523cf74",
        "frame"
       ]
      }
     },
     "bdc67aafeb14486f8f853b420268e7ee": {
      "buffers": [
       {
        "data": "",
        "encoding": "base64",
        "path": [
         "value"
        ]
       }
      ],
      "model_module": "@jupyter-widgets/controls",
      "model_module_version": "2.0.0",
      "model_name": "ImageModel",
      "state": {
       "_dom_classes": [],
       "_model_module": "@jupyter-widgets/controls",
       "_model_module_version": "2.0.0",
       "_model_name": "ImageModel",
       "_view_count": null,
       "_view_module": "@jupyter-widgets/controls",
       "_view_module_version": "2.0.0",
       "_view_name": "ImageView",
       "format": "png",
       "height": "",
       "layout": "IPY_MODEL_1b20455854554a9583ceb76ec2c0f319",
       "tabbable": null,
       "tooltip": null,
       "width": "900.0"
      }
     },
     "bdc7c2e8f29c48db838177554ec67ebb": {
      "model_module": "@jupyter-widgets/base",
      "model_module_version": "2.0.0",
      "model_name": "LayoutModel",
      "state": {
       "_model_module": "@jupyter-widgets/base",
       "_model_module_version": "2.0.0",
       "_model_name": "LayoutModel",
       "_view_count": null,
       "_view_module": "@jupyter-widgets/base",
       "_view_module_version": "2.0.0",
       "_view_name": "LayoutView",
       "align_content": null,
       "align_items": null,
       "align_self": null,
       "border_bottom": null,
       "border_left": null,
       "border_right": null,
       "border_top": null,
       "bottom": null,
       "display": null,
       "flex": null,
       "flex_flow": null,
       "grid_area": null,
       "grid_auto_columns": null,
       "grid_auto_flow": null,
       "grid_auto_rows": null,
       "grid_column": null,
       "grid_gap": null,
       "grid_row": null,
       "grid_template_areas": null,
       "grid_template_columns": null,
       "grid_template_rows": null,
       "height": null,
       "justify_content": null,
       "justify_items": null,
       "left": null,
       "margin": null,
       "max_height": null,
       "max_width": null,
       "min_height": null,
       "min_width": null,
       "object_fit": null,
       "object_position": null,
       "order": null,
       "overflow": null,
       "padding": null,
       "right": null,
       "top": null,
       "visibility": null,
       "width": "34px"
      }
     },
     "cc38bb444f5b4064a565e9da58bbf1e7": {
      "model_module": "@jupyter-widgets/controls",
      "model_module_version": "2.0.0",
      "model_name": "ButtonStyleModel",
      "state": {
       "_model_module": "@jupyter-widgets/controls",
       "_model_module_version": "2.0.0",
       "_model_name": "ButtonStyleModel",
       "_view_count": null,
       "_view_module": "@jupyter-widgets/base",
       "_view_module_version": "2.0.0",
       "_view_name": "StyleView",
       "button_color": null,
       "font_family": null,
       "font_size": null,
       "font_style": null,
       "font_variant": null,
       "font_weight": null,
       "text_color": null,
       "text_decoration": null
      }
     },
     "d5fbca83e92c409d81c56ae911069aa4": {
      "model_module": "@jupyter-widgets/base",
      "model_module_version": "2.0.0",
      "model_name": "LayoutModel",
      "state": {
       "_model_module": "@jupyter-widgets/base",
       "_model_module_version": "2.0.0",
       "_model_name": "LayoutModel",
       "_view_count": null,
       "_view_module": "@jupyter-widgets/base",
       "_view_module_version": "2.0.0",
       "_view_name": "LayoutView",
       "align_content": null,
       "align_items": null,
       "align_self": null,
       "border_bottom": null,
       "border_left": null,
       "border_right": null,
       "border_top": null,
       "bottom": null,
       "display": null,
       "flex": null,
       "flex_flow": null,
       "grid_area": null,
       "grid_auto_columns": null,
       "grid_auto_flow": null,
       "grid_auto_rows": null,
       "grid_column": null,
       "grid_gap": null,
       "grid_row": null,
       "grid_template_areas": null,
       "grid_template_columns": null,
       "grid_template_rows": null,
       "height": null,
       "justify_content": null,
       "justify_items": null,
       "left": null,
       "margin": null,
       "max_height": null,
       "max_width": null,
       "min_height": null,
       "min_width": null,
       "object_fit": null,
       "object_position": null,
       "order": null,
       "overflow": null,
       "padding": null,
       "right": null,
       "top": null,
       "visibility": null,
       "width": null
      }
     },
     "d8f4e06a616b4fc59aca313b9a45bf1f": {
      "model_module": "@jupyter-widgets/base",
      "model_module_version": "2.0.0",
      "model_name": "LayoutModel",
      "state": {
       "_model_module": "@jupyter-widgets/base",
       "_model_module_version": "2.0.0",
       "_model_name": "LayoutModel",
       "_view_count": null,
       "_view_module": "@jupyter-widgets/base",
       "_view_module_version": "2.0.0",
       "_view_name": "LayoutView",
       "align_content": null,
       "align_items": null,
       "align_self": null,
       "border_bottom": null,
       "border_left": null,
       "border_right": null,
       "border_top": null,
       "bottom": null,
       "display": null,
       "flex": null,
       "flex_flow": null,
       "grid_area": null,
       "grid_auto_columns": null,
       "grid_auto_flow": null,
       "grid_auto_rows": null,
       "grid_column": null,
       "grid_gap": null,
       "grid_row": null,
       "grid_template_areas": null,
       "grid_template_columns": null,
       "grid_template_rows": null,
       "height": null,
       "justify_content": null,
       "justify_items": null,
       "left": null,
       "margin": null,
       "max_height": null,
       "max_width": null,
       "min_height": null,
       "min_width": null,
       "object_fit": null,
       "object_position": null,
       "order": null,
       "overflow": null,
       "padding": null,
       "right": null,
       "top": null,
       "visibility": null,
       "width": "34px"
      }
     },
     "dd6136e3377d4b9db039825b45cdfc0b": {
      "model_module": "@jupyter-widgets/controls",
      "model_module_version": "2.0.0",
      "model_name": "PlayModel",
      "state": {
       "_dom_classes": [],
       "_model_module": "@jupyter-widgets/controls",
       "_model_module_version": "2.0.0",
       "_model_name": "PlayModel",
       "_view_count": null,
       "_view_module": "@jupyter-widgets/controls",
       "_view_module_version": "2.0.0",
       "_view_name": "PlayView",
       "description": "",
       "description_allow_html": false,
       "disabled": false,
       "interval": 100,
       "layout": "IPY_MODEL_ab4d0f2de3a045f089e2176e166ff75f",
       "max": 0,
       "min": 0,
       "playing": false,
       "repeat": false,
       "show_repeat": true,
       "step": 1,
       "style": "IPY_MODEL_480720ee0c1f48879754438c24455a79",
       "tabbable": null,
       "tooltip": null,
       "value": 0
      }
     },
     "df392dc7b7a24fab8274584de695e6f4": {
      "model_module": "@jupyter-widgets/controls",
      "model_module_version": "2.0.0",
      "model_name": "SliderStyleModel",
      "state": {
       "_model_module": "@jupyter-widgets/controls",
       "_model_module_version": "2.0.0",
       "_model_name": "SliderStyleModel",
       "_view_count": null,
       "_view_module": "@jupyter-widgets/base",
       "_view_module_version": "2.0.0",
       "_view_name": "StyleView",
       "description_width": "",
       "handle_color": null
      }
     },
     "e1ac5b1944b342b99a9b2dabed9bae4a": {
      "model_module": "@jupyter-widgets/controls",
      "model_module_version": "2.0.0",
      "model_name": "ButtonStyleModel",
      "state": {
       "_model_module": "@jupyter-widgets/controls",
       "_model_module_version": "2.0.0",
       "_model_name": "ButtonStyleModel",
       "_view_count": null,
       "_view_module": "@jupyter-widgets/base",
       "_view_module_version": "2.0.0",
       "_view_name": "StyleView",
       "button_color": null,
       "font_family": null,
       "font_size": null,
       "font_style": null,
       "font_variant": null,
       "font_weight": null,
       "text_color": null,
       "text_decoration": null
      }
     },
     "e66e150816364465a1cdff7d535408e5": {
      "model_module": "@jupyter-widgets/base",
      "model_module_version": "2.0.0",
      "model_name": "LayoutModel",
      "state": {
       "_model_module": "@jupyter-widgets/base",
       "_model_module_version": "2.0.0",
       "_model_name": "LayoutModel",
       "_view_count": null,
       "_view_module": "@jupyter-widgets/base",
       "_view_module_version": "2.0.0",
       "_view_name": "LayoutView",
       "align_content": null,
       "align_items": null,
       "align_self": null,
       "border_bottom": null,
       "border_left": null,
       "border_right": null,
       "border_top": null,
       "bottom": null,
       "display": null,
       "flex": null,
       "flex_flow": null,
       "grid_area": null,
       "grid_auto_columns": null,
       "grid_auto_flow": null,
       "grid_auto_rows": null,
       "grid_column": null,
       "grid_gap": null,
       "grid_row": null,
       "grid_template_areas": null,
       "grid_template_columns": null,
       "grid_template_rows": null,
       "height": null,
       "justify_content": null,
       "justify_items": null,
       "left": null,
       "margin": null,
       "max_height": null,
       "max_width": null,
       "min_height": null,
       "min_width": null,
       "object_fit": null,
       "object_position": null,
       "order": null,
       "overflow": null,
       "padding": null,
       "right": null,
       "top": null,
       "visibility": null,
       "width": null
      }
     },
     "ec210c754262482db0a355bc7a027d4e": {
      "model_module": "@jupyter-widgets/controls",
      "model_module_version": "2.0.0",
      "model_name": "DescriptionStyleModel",
      "state": {
       "_model_module": "@jupyter-widgets/controls",
       "_model_module_version": "2.0.0",
       "_model_name": "DescriptionStyleModel",
       "_view_count": null,
       "_view_module": "@jupyter-widgets/base",
       "_view_module_version": "2.0.0",
       "_view_name": "StyleView",
       "description_width": ""
      }
     },
     "f07df063eef2414b8ff8ab8578ffe643": {
      "model_module": "@jupyter-widgets/controls",
      "model_module_version": "2.0.0",
      "model_name": "LinkModel",
      "state": {
       "_model_module": "@jupyter-widgets/controls",
       "_model_module_version": "2.0.0",
       "_model_name": "LinkModel",
       "_view_count": null,
       "_view_module": "@jupyter-widgets/controls",
       "_view_module_version": "2.0.0",
       "_view_name": null,
       "source": [
        "IPY_MODEL_5cbe6be347844065bd0db862dd441f92",
        "max"
       ],
       "target": [
        "IPY_MODEL_5198a3e31fb04754b8238edad523cf74",
        "max_frame"
       ]
      }
     },
     "f1f268b8fa634bafba155e03167dccea": {
      "model_module": "@jupyter-widgets/controls",
      "model_module_version": "2.0.0",
      "model_name": "IntSliderModel",
      "state": {
       "_dom_classes": [],
       "_model_module": "@jupyter-widgets/controls",
       "_model_module_version": "2.0.0",
       "_model_name": "IntSliderModel",
       "_view_count": null,
       "_view_module": "@jupyter-widgets/controls",
       "_view_module_version": "2.0.0",
       "_view_name": "IntSliderView",
       "behavior": "drag-tap",
       "continuous_update": true,
       "description": "",
       "description_allow_html": false,
       "disabled": false,
       "layout": "IPY_MODEL_2f59548215874a0dae81b92b9a52cdee",
       "max": 0,
       "min": 0,
       "orientation": "horizontal",
       "readout": true,
       "readout_format": "d",
       "step": 1,
       "style": "IPY_MODEL_df392dc7b7a24fab8274584de695e6f4",
       "tabbable": null,
       "tooltip": null,
       "value": 0
      }
     },
     "fbb9edf8d0e94796bc9054e7b83835d3": {
      "model_module": "@jupyter-widgets/base",
      "model_module_version": "2.0.0",
      "model_name": "LayoutModel",
      "state": {
       "_model_module": "@jupyter-widgets/base",
       "_model_module_version": "2.0.0",
       "_model_name": "LayoutModel",
       "_view_count": null,
       "_view_module": "@jupyter-widgets/base",
       "_view_module_version": "2.0.0",
       "_view_name": "LayoutView",
       "align_content": null,
       "align_items": null,
       "align_self": null,
       "border_bottom": null,
       "border_left": null,
       "border_right": null,
       "border_top": null,
       "bottom": null,
       "display": null,
       "flex": null,
       "flex_flow": null,
       "grid_area": null,
       "grid_auto_columns": null,
       "grid_auto_flow": null,
       "grid_auto_rows": null,
       "grid_column": null,
       "grid_gap": null,
       "grid_row": null,
       "grid_template_areas": null,
       "grid_template_columns": null,
       "grid_template_rows": null,
       "height": null,
       "justify_content": null,
       "justify_items": null,
       "left": null,
       "margin": null,
       "max_height": null,
       "max_width": null,
       "min_height": null,
       "min_width": null,
       "object_fit": null,
       "object_position": null,
       "order": null,
       "overflow": null,
       "padding": null,
       "right": null,
       "top": null,
       "visibility": null,
       "width": null
      }
     }
    },
    "version_major": 2,
    "version_minor": 0
   }
  }
 },
 "nbformat": 4,
 "nbformat_minor": 5
}
