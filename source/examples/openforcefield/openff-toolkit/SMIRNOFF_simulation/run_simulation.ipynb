{
 "cells": [
  {
   "cell_type": "markdown",
   "metadata": {},
   "source": [
    "# Mixture simulation with Sage: Ethanol and cyclohexane\n",
    "\n",
    "This example shows how to use the Open Force Field Toolkit to create a parametrized `System` object that can be used to run a molecular dynamic simulation with OpenMM. If you want to run MD with a different engine, see the example in `examples/conversion_amber_gromacs/`."
   ]
  },
  {
   "cell_type": "markdown",
   "metadata": {
    "tags": []
   },
   "source": [
    "## Create an Interchange\n",
    "\n",
    "We start by loading a PDB file containing one copy of ethanol and cyclohexane. Our goal is to create an OFF `Topology` object describing this system that we can parametrize with the SMIRNOFF-format \"Sage\" force field. The parametrized system is stored in an `Interchange` object, which can then produce input files for a number of simulation engines.\n",
    "\n",
    "The two `Molecule` objects created from the SMILES strings can contain information such as partial charges and stereochemistry that is not included in an OpenMM topology. In this example, partial charges are not explicitly given, and `ForceField` will assign AM1/BCC charges as specified by the \"Sage\" force field."
   ]
  },
  {
   "cell_type": "code",
   "execution_count": 1,
   "metadata": {
    "execution": {
     "iopub.execute_input": "2025-09-30T00:07:54.984653Z",
     "iopub.status.busy": "2025-09-30T00:07:54.983949Z",
     "iopub.status.idle": "2025-09-30T00:08:01.911885Z",
     "shell.execute_reply": "2025-09-30T00:08:01.911163Z"
    }
   },
   "outputs": [],
   "source": [
    "from openff.toolkit.utils import get_data_file_path"
   ]
  },
  {
   "cell_type": "markdown",
   "metadata": {},
   "source": [
    "We use the `get_data_file_path` utility function to easily access the data installed with the toolkit. Here you have the option to load example systems of increasing complexity. For speed, we recommend that you begin by loading a system with a single ethanol and a single cyclohexane."
   ]
  },
  {
   "cell_type": "code",
   "execution_count": 2,
   "metadata": {
    "execution": {
     "iopub.execute_input": "2025-09-30T00:08:01.914567Z",
     "iopub.status.busy": "2025-09-30T00:08:01.914180Z",
     "iopub.status.idle": "2025-09-30T00:08:01.918920Z",
     "shell.execute_reply": "2025-09-30T00:08:01.918288Z"
    }
   },
   "outputs": [],
   "source": [
    "# 1 molecule of ethanol and 1 of cyclohexane.\n",
    "pdb_file_path = get_data_file_path(\"systems/test_systems/1_cyclohexane_1_ethanol.pdb\")\n",
    "\n",
    "# 40%-60% cyclohexane-ethanol mixture.\n",
    "# pdb_file_path = get_data_file_path('systems/packmol_boxes/cyclohexane_ethanol_0.4_0.6.pdb')"
   ]
  },
  {
   "cell_type": "markdown",
   "metadata": {},
   "source": [
    "PDB files are not a reliable source of bond orders, so the toolkit requires users to supply a more detailed description of the molecule and its connectivity. SMILES records, SDF, and MOL2 files are among the [many ways to create a `Molecule`.](https://docs.openforcefield.org/projects/toolkit/en/stable/users/molecule_cookbook.html)"
   ]
  },
  {
   "cell_type": "code",
   "execution_count": 3,
   "metadata": {
    "execution": {
     "iopub.execute_input": "2025-09-30T00:08:01.921516Z",
     "iopub.status.busy": "2025-09-30T00:08:01.920878Z",
     "iopub.status.idle": "2025-09-30T00:08:02.000883Z",
     "shell.execute_reply": "2025-09-30T00:08:01.998495Z"
    }
   },
   "outputs": [],
   "source": [
    "from openff.toolkit import Molecule\n",
    "\n",
    "ethanol = Molecule.from_smiles(\"CCO\")\n",
    "cyclohexane = Molecule.from_smiles(\"C1CCCCC1\")"
   ]
  },
  {
   "cell_type": "markdown",
   "metadata": {},
   "source": [
    "Alternatively, if you have `sdf` files of the molecules, or if you have OpenEye installed and `mol2` files available, you can get the same results as above by loading the detailed molecule information from the files."
   ]
  },
  {
   "cell_type": "code",
   "execution_count": 4,
   "metadata": {
    "execution": {
     "iopub.execute_input": "2025-09-30T00:08:02.003494Z",
     "iopub.status.busy": "2025-09-30T00:08:02.002825Z",
     "iopub.status.idle": "2025-09-30T00:08:02.011481Z",
     "shell.execute_reply": "2025-09-30T00:08:02.011057Z"
    }
   },
   "outputs": [],
   "source": [
    "from openff.toolkit.utils.toolkits import OpenEyeToolkitWrapper\n",
    "\n",
    "if OpenEyeToolkitWrapper.is_available():\n",
    "    ethanol = Molecule.from_file(get_data_file_path(\"molecules/ethanol.mol2\"))\n",
    "    cyclohexane = Molecule.from_file(get_data_file_path(\"molecules/cyclohexane.mol2\"))"
   ]
  },
  {
   "cell_type": "markdown",
   "metadata": {},
   "source": [
    "We now create the Open Force Field Toolkit `Topology` describing the system from an OpenMM `Topology` object. The OFF `Topology` include more information (supplied by the two `Molecule` objects) than the OpenMM `Topology` such as (optionally) partial charges and stereochemistry. In this example, partial charges are not explicitly given, and `ForceField` will assign AM1/BCC charges as specified by the \"Sage\" force field.\n",
    "\n",
    "Note that the Open Force Field Toolkit produces deterministic charges that do not depend on the input conformation of parameterized molecules. See the [FAQ](https://docs.openforcefield.org/projects/toolkit/en/stable/faq.html#the-partial-charges-generated-by-the-toolkit-dont-seem-to-depend-on-the-molecules-conformation-is-this-a-bug) for more information.\n",
    "\n",
    "<div class=\"alert alert-block alert-info\">\n",
    "    <b>Note on partial charges:</b> The full 1.0.0 release will implement support for the definition of semiempirical partial charge treatment directly into the SMIRNOFF force field file (for details, see https://openforcefield.github.io/standards/standards/smirnoff/#partial-charge-and-electrostatics-models). Moreover, it will be possible to import charges directly from sdf and mol2 files.\n",
    "</div>"
   ]
  },
  {
   "cell_type": "code",
   "execution_count": 5,
   "metadata": {
    "execution": {
     "iopub.execute_input": "2025-09-30T00:08:02.013347Z",
     "iopub.status.busy": "2025-09-30T00:08:02.013149Z",
     "iopub.status.idle": "2025-09-30T00:08:04.513156Z",
     "shell.execute_reply": "2025-09-30T00:08:04.512595Z"
    }
   },
   "outputs": [],
   "source": [
    "from openff.toolkit import ForceField, Topology\n",
    "\n",
    "# Create the OpenFF Topology from an PDB file\n",
    "topology = Topology.from_pdb(\n",
    "    pdb_file_path,\n",
    "    unique_molecules=[ethanol, cyclohexane],\n",
    ")\n",
    "\n",
    "# Load the OpenFF \"Sage\" force field.\n",
    "forcefield = ForceField(\"openff-2.2.0.offxml\")\n",
    "\n",
    "# Parametrize the topology and create an Interchange object.\n",
    "interchange = forcefield.create_interchange(topology)"
   ]
  },
  {
   "cell_type": "markdown",
   "metadata": {},
   "source": [
    "## Run a simulation\n",
    "\n",
    "We can now use the `Interchange` object to prepare and run molecular dynamics simulations with OpenMM."
   ]
  },
  {
   "cell_type": "code",
   "execution_count": 6,
   "metadata": {
    "execution": {
     "iopub.execute_input": "2025-09-30T00:08:04.516085Z",
     "iopub.status.busy": "2025-09-30T00:08:04.515531Z",
     "iopub.status.idle": "2025-09-30T00:08:04.625534Z",
     "shell.execute_reply": "2025-09-30T00:08:04.625030Z"
    }
   },
   "outputs": [],
   "source": [
    "import openmm\n",
    "from openmm import unit\n",
    "\n",
    "# Propagate the System with Langevin dynamics.\n",
    "time_step = 2 * unit.femtoseconds  # simulation timestep\n",
    "temperature = 300 * unit.kelvin  # simulation temperature\n",
    "friction = 1 / unit.picosecond  # collision rate\n",
    "integrator = openmm.LangevinIntegrator(temperature, friction, time_step)\n",
    "\n",
    "# Length of the simulation.\n",
    "num_steps = 1000  # number of integration steps to run\n",
    "\n",
    "# Logging options.\n",
    "trj_freq = 100  # number of steps per written trajectory frame\n",
    "data_freq = 100  # number of steps per written simulation statistics\n",
    "\n",
    "# Set up an OpenMM simulation.\n",
    "simulation = interchange.to_openmm_simulation(integrator)\n",
    "\n",
    "# Randomize the velocities from a Boltzmann distribution at a given temperature.\n",
    "simulation.context.setVelocitiesToTemperature(temperature)\n",
    "\n",
    "# Configure the information in the output files.\n",
    "pdb_reporter = openmm.app.PDBReporter(\"trajectory.pdb\", trj_freq)\n",
    "state_data_reporter = openmm.app.StateDataReporter(\n",
    "    \"data.csv\",\n",
    "    data_freq,\n",
    "    step=True,\n",
    "    potentialEnergy=True,\n",
    "    temperature=True,\n",
    "    density=True,\n",
    ")\n",
    "simulation.reporters.append(pdb_reporter)\n",
    "simulation.reporters.append(state_data_reporter)"
   ]
  },
  {
   "cell_type": "code",
   "execution_count": 7,
   "metadata": {
    "execution": {
     "iopub.execute_input": "2025-09-30T00:08:04.627596Z",
     "iopub.status.busy": "2025-09-30T00:08:04.627395Z",
     "iopub.status.idle": "2025-09-30T00:08:08.860679Z",
     "shell.execute_reply": "2025-09-30T00:08:08.859859Z"
    }
   },
   "outputs": [
    {
     "name": "stdout",
     "output_type": "stream",
     "text": [
      "Starting simulation\n"
     ]
    },
    {
     "name": "stdout",
     "output_type": "stream",
     "text": [
      "Elapsed time 2.09 seconds\n",
      "Done!\n"
     ]
    }
   ],
   "source": [
    "import time\n",
    "\n",
    "print(\"Starting simulation\")\n",
    "start = time.process_time()\n",
    "\n",
    "# Run the simulation\n",
    "simulation.step(num_steps)\n",
    "\n",
    "end = time.process_time()\n",
    "print(\"Elapsed time %.2f seconds\" % (end - start))\n",
    "print(\"Done!\")"
   ]
  },
  {
   "cell_type": "markdown",
   "metadata": {},
   "source": [
    "If successful, the directory where your jupyter notebook is running should contain a `trajectory.pdb` file that you can visualize and a `data.csv` file including potential energy, density, and temperature of each frame."
   ]
  },
  {
   "cell_type": "code",
   "execution_count": 8,
   "metadata": {
    "execution": {
     "iopub.execute_input": "2025-09-30T00:08:08.862536Z",
     "iopub.status.busy": "2025-09-30T00:08:08.862332Z",
     "iopub.status.idle": "2025-09-30T00:08:09.081136Z",
     "shell.execute_reply": "2025-09-30T00:08:09.079836Z"
    },
    "scrolled": true
   },
   "outputs": [
    {
     "name": "stdout",
     "output_type": "stream",
     "text": [
      "#\"Step\",\"Potential Energy (kJ/mole)\",\"Temperature (K)\",\"Density (g/mL)\"\r\n",
      "100,76.46904759316162,115.45328786897689,0.006671086812409914\r\n",
      "200,74.08892185110298,233.62804614585784,0.006671086812409914\r\n",
      "300,91.02867456000287,221.98584306241597,0.006671086812409914\r\n",
      "400,78.1152104240355,256.93718505884533,0.006671086812409914\r\n",
      "500,73.22372646304467,392.0067970637528,0.006671086812409914\r\n",
      "600,88.82536591437834,397.34741723042436,0.006671086812409914\r\n",
      "700,101.92346122286631,299.6762371456368,0.006671086812409914\r\n",
      "800,89.2846013326075,336.62200131219225,0.006671086812409914\r\n",
      "900,85.08317375739391,365.6925010001911,0.006671086812409914\r\n",
      "1000,92.6044159452467,304.48713546620803,0.006671086812409914\r\n"
     ]
    }
   ],
   "source": [
    "!cat data.csv"
   ]
  },
  {
   "cell_type": "code",
   "execution_count": null,
   "metadata": {},
   "outputs": [],
   "source": []
  }
 ],
 "metadata": {
  "category": "parametrization_evaluation",
  "cookbook_cache_branch": "_cookbook_data_main",
  "kernelspec": {
   "display_name": "Python 3 (ipykernel)",
   "language": "python",
   "name": "python3"
  },
  "language_info": {
   "codemirror_mode": {
    "name": "ipython",
    "version": 3
   },
   "file_extension": ".py",
   "mimetype": "text/x-python",
   "name": "python",
   "nbconvert_exporter": "python",
   "pygments_lexer": "ipython3",
   "version": "3.11.13"
  },
  "src_repo_tag": "0.17.0",
  "widgets": {
   "application/vnd.jupyter.widget-state+json": {
    "state": {
     "1f9d9a5a15b045c1ab18661385a15a0d": {
      "model_module": "nglview-js-widgets",
      "model_module_version": "3.0.6",
      "model_name": "ColormakerRegistryModel",
      "state": {
       "_dom_classes": [],
       "_model_module": "nglview-js-widgets",
       "_model_module_version": "3.0.6",
       "_model_name": "ColormakerRegistryModel",
       "_msg_ar": [],
       "_msg_q": [],
       "_ready": false,
       "_view_count": null,
       "_view_module": "nglview-js-widgets",
       "_view_module_version": "3.0.6",
       "_view_name": "ColormakerRegistryView",
       "layout": "IPY_MODEL_c1dd3367d9294a209f6fea73feed04aa",
       "tabbable": null,
       "tooltip": null
      }
     },
     "c1dd3367d9294a209f6fea73feed04aa": {
      "model_module": "@jupyter-widgets/base",
      "model_module_version": "2.0.0",
      "model_name": "LayoutModel",
      "state": {
       "_model_module": "@jupyter-widgets/base",
       "_model_module_version": "2.0.0",
       "_model_name": "LayoutModel",
       "_view_count": null,
       "_view_module": "@jupyter-widgets/base",
       "_view_module_version": "2.0.0",
       "_view_name": "LayoutView",
       "align_content": null,
       "align_items": null,
       "align_self": null,
       "border_bottom": null,
       "border_left": null,
       "border_right": null,
       "border_top": null,
       "bottom": null,
       "display": null,
       "flex": null,
       "flex_flow": null,
       "grid_area": null,
       "grid_auto_columns": null,
       "grid_auto_flow": null,
       "grid_auto_rows": null,
       "grid_column": null,
       "grid_gap": null,
       "grid_row": null,
       "grid_template_areas": null,
       "grid_template_columns": null,
       "grid_template_rows": null,
       "height": null,
       "justify_content": null,
       "justify_items": null,
       "left": null,
       "margin": null,
       "max_height": null,
       "max_width": null,
       "min_height": null,
       "min_width": null,
       "object_fit": null,
       "object_position": null,
       "order": null,
       "overflow": null,
       "padding": null,
       "right": null,
       "top": null,
       "visibility": null,
       "width": null
      }
     }
    },
    "version_major": 2,
    "version_minor": 0
   }
  }
 },
 "nbformat": 4,
 "nbformat_minor": 4
}
