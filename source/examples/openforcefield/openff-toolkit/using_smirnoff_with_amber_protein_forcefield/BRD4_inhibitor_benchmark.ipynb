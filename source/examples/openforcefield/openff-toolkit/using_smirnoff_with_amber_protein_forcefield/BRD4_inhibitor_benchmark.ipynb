{
 "cells": [
  {
   "cell_type": "markdown",
   "metadata": {
    "tags": []
   },
   "source": [
    "## Mixing Sage and Amber force fields: BRD4 benchmark\n",
    "\n",
    "This example applies SMIRNOFF-format parameters to BRD4 inhibitors from the [living review on binding free energy benchmark systems](https://www.annualreviews.org/doi/abs/10.1146/annurev-biophys-070816-033654) by Mobley and Gilson. The BRD4 system comes from the [accompanying GitHub repository](https://github.com/MobleyLab/benchmarksets/tree/master/input_files/BRD4)."
   ]
  },
  {
   "cell_type": "code",
   "execution_count": 1,
   "metadata": {
    "execution": {
     "iopub.execute_input": "2025-09-30T00:07:35.182270Z",
     "iopub.status.busy": "2025-09-30T00:07:35.182067Z",
     "iopub.status.idle": "2025-09-30T00:07:35.925323Z",
     "shell.execute_reply": "2025-09-30T00:07:35.924672Z"
    }
   },
   "outputs": [],
   "source": [
    "# Retrieve protein and ligand files for BRD4 and a docked inhibitor from the benchmark systems GitHub repository\n",
    "# https://github.com/MobleyLab/benchmarksets\n",
    "import requests\n",
    "\n",
    "repo_url = \"https://raw.githubusercontent.com/MobleyLab/benchmarksets/master/input_files/\"\n",
    "sources = {\n",
    "    \"receptor.pdb\": repo_url + \"BRD4/pdb/BRD4.pdb\",\n",
    "    \"ligand.pdb\": repo_url + \"BRD4/pdb/ligand-1.pdb\",\n",
    "    \"ligand.sdf\": repo_url + \"BRD4/sdf/ligand-1.sdf\",\n",
    "}\n",
    "for filename, url in sources.items():\n",
    "    r = requests.get(url)\n",
    "    open(filename, \"w\").write(r.text)"
   ]
  },
  {
   "cell_type": "code",
   "execution_count": 2,
   "metadata": {
    "execution": {
     "iopub.execute_input": "2025-09-30T00:07:35.927827Z",
     "iopub.status.busy": "2025-09-30T00:07:35.927593Z",
     "iopub.status.idle": "2025-09-30T00:07:41.586924Z",
     "shell.execute_reply": "2025-09-30T00:07:41.584296Z"
    }
   },
   "outputs": [],
   "source": [
    "from openff.toolkit import ForceField, Molecule, Quantity, Topology"
   ]
  },
  {
   "cell_type": "markdown",
   "metadata": {},
   "source": [
    "Combining parametrization results from different force fields requires the use of `Interchange.combine`, which is a newer feature and has not been tested for every conceivable combination of inputs. It may not work as expected for all systems. If extending this workflow, please validate results to avoid surprises in simulation results!"
   ]
  },
  {
   "cell_type": "code",
   "execution_count": 3,
   "metadata": {
    "execution": {
     "iopub.execute_input": "2025-09-30T00:07:41.589486Z",
     "iopub.status.busy": "2025-09-30T00:07:41.589052Z",
     "iopub.status.idle": "2025-09-30T00:08:31.608868Z",
     "shell.execute_reply": "2025-09-30T00:08:31.607814Z"
    },
    "scrolled": true,
    "tags": []
   },
   "outputs": [
    {
     "name": "stderr",
     "output_type": "stream",
     "text": [
      "/home/runner/micromamba/envs/openff-docs-examples/lib/python3.11/site-packages/openff/interchange/operations/_combine.py:104: InterchangeCombinationWarning: Interchange object combination is complex and may produce strange results outside of use cases it has been tested in. Use with caution and thoroughly validate results!\n",
      "  warnings.warn(\n"
     ]
    },
    {
     "name": "stderr",
     "output_type": "stream",
     "text": [
      "/home/runner/micromamba/envs/openff-docs-examples/lib/python3.11/site-packages/openff/interchange/operations/_combine.py:84: InterchangeCombinationWarning: Found electrostatics 1-4 scaling factors of 5/6 with slightly different rounding (0.833333 and 0.8333333333). This likely stems from OpenFF using more digits in rounding 1/1.2. The value of 0.8333333333 will be used, which may or may not introduce small errors. \n",
      "  warnings.warn(\n"
     ]
    }
   ],
   "source": [
    "ligand_molecule = Molecule.from_file(\"ligand.sdf\")\n",
    "\n",
    "sage = ForceField(\"openff-2.2.0.offxml\")\n",
    "\n",
    "ligand_system = sage.create_interchange(topology=ligand_molecule.to_topology())\n",
    "\n",
    "receptor_topology = Topology.from_pdb(\"receptor.pdb\")\n",
    "\n",
    "ff14sb = ForceField(\"ff14sb_off_impropers_0.0.4.offxml\")\n",
    "\n",
    "receptor_system = ff14sb.create_interchange(topology=receptor_topology)\n",
    "\n",
    "complex_system = receptor_system.combine(ligand_system)\n",
    "\n",
    "# Make pseudo-vacuum because GROMACS does not support proper vacuum simulations\n",
    "complex_system.box = Quantity([5, 5, 5], \"nanometer\")"
   ]
  },
  {
   "cell_type": "markdown",
   "metadata": {},
   "source": [
    "### Export to OpenMM\n",
    "\n",
    "By default, `Interchange.to_openmm()` returns an `openmm.System` object. There is also `Interchange.to_openmm_simulation()` which requires an `openmm.Integrator` as an argument and returns a `openmm.app.Simulation` object containing information about the topology, box vectors, and particle positions.\n",
    "\n",
    "See the [Interchange user docs](https://docs.openforcefield.org/projects/interchange/en/stable/using/output.html#openmm) for more optional features."
   ]
  },
  {
   "cell_type": "code",
   "execution_count": 4,
   "metadata": {
    "execution": {
     "iopub.execute_input": "2025-09-30T00:08:31.612339Z",
     "iopub.status.busy": "2025-09-30T00:08:31.611946Z",
     "iopub.status.idle": "2025-09-30T00:08:35.593284Z",
     "shell.execute_reply": "2025-09-30T00:08:35.592456Z"
    }
   },
   "outputs": [
    {
     "data": {
      "text/plain": [
       "<openmm.openmm.System; proxy of <Swig Object of type 'OpenMM::System *' at 0x7f6c91491b60> >"
      ]
     },
     "execution_count": 4,
     "metadata": {},
     "output_type": "execute_result"
    }
   ],
   "source": [
    "complex_system.to_openmm()"
   ]
  },
  {
   "cell_type": "markdown",
   "metadata": {
    "tags": []
   },
   "source": [
    "### Export to Amber\n",
    "\n",
    "Amber parameter/topology (`.prmtop`), coordinate (`.inpcrd`) and run control (`.in`) files can each be written out separately with individual `Interchange.to_x` methods. These are wrapped up into a convenient `Interchange.to_amber` method which handles them all at once.\n",
    "\n",
    "See the [Interchange user docs](https://docs.openforcefield.org/projects/interchange/en/stable/using/output.html#amber) for more."
   ]
  },
  {
   "cell_type": "code",
   "execution_count": 5,
   "metadata": {
    "execution": {
     "iopub.execute_input": "2025-09-30T00:08:35.595563Z",
     "iopub.status.busy": "2025-09-30T00:08:35.595343Z",
     "iopub.status.idle": "2025-09-30T00:08:56.103852Z",
     "shell.execute_reply": "2025-09-30T00:08:56.103084Z"
    }
   },
   "outputs": [
    {
     "name": "stderr",
     "output_type": "stream",
     "text": [
      "/home/runner/micromamba/envs/openff-docs-examples/lib/python3.11/site-packages/openff/interchange/components/mdconfig.py:502: UserWarning: Ambiguous failure while processing constraints. Constraining h-bonds as a stopgap.\n",
      "  warnings.warn(\n",
      "/home/runner/micromamba/envs/openff-docs-examples/lib/python3.11/site-packages/openff/interchange/components/mdconfig.py:430: SwitchingFunctionNotImplementedWarning: A switching distance 8.0 angstrom was specified by the force field, but Amber does not implement a switching function. Using a hard cut-off instead. Non-bonded interactions will be affected.\n",
      "  warnings.warn(\n"
     ]
    }
   ],
   "source": [
    "complex_system.to_amber(\"complex\")"
   ]
  },
  {
   "cell_type": "markdown",
   "metadata": {},
   "source": [
    "### Export to GROMACS\n",
    "\n",
    "Gromacs topology (`.top`), coordinate (`.gro`) and run control (`.mdp`) files can each be written out separately with individual `Interchange.to_x` methods. These are wrapped up into a convenient `Interchange.to_gromacs` method which handles them all at once.\n",
    "\n",
    "See the [Interchange user docs](https://docs.openforcefield.org/projects/interchange/en/stable/using/output.html#gromacs) for more."
   ]
  },
  {
   "cell_type": "code",
   "execution_count": 6,
   "metadata": {
    "execution": {
     "iopub.execute_input": "2025-09-30T00:08:56.106174Z",
     "iopub.status.busy": "2025-09-30T00:08:56.105982Z",
     "iopub.status.idle": "2025-09-30T00:09:00.527277Z",
     "shell.execute_reply": "2025-09-30T00:09:00.526412Z"
    },
    "scrolled": true,
    "tags": []
   },
   "outputs": [
    {
     "name": "stderr",
     "output_type": "stream",
     "text": [
      "/home/runner/micromamba/envs/openff-docs-examples/lib/python3.11/site-packages/openff/interchange/components/mdconfig.py:502: UserWarning: Ambiguous failure while processing constraints. Constraining h-bonds as a stopgap.\n",
      "  warnings.warn(\n"
     ]
    }
   ],
   "source": [
    "complex_system.to_gromacs(prefix=\"complex\")"
   ]
  }
 ],
 "metadata": {
  "category": "force_field_interop",
  "cookbook_cache_branch": "_cookbook_data_main",
  "kernelspec": {
   "display_name": "Python 3 (ipykernel)",
   "language": "python",
   "name": "python3"
  },
  "language_info": {
   "codemirror_mode": {
    "name": "ipython",
    "version": 3
   },
   "file_extension": ".py",
   "mimetype": "text/x-python",
   "name": "python",
   "nbconvert_exporter": "python",
   "pygments_lexer": "ipython3",
   "version": "3.11.13"
  },
  "src_repo_tag": "0.17.0"
 },
 "nbformat": 4,
 "nbformat_minor": 4
}
