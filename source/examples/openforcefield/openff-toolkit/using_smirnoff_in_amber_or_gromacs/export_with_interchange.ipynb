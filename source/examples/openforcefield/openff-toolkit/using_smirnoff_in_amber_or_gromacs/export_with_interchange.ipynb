{
 "cells": [
  {
   "cell_type": "markdown",
   "metadata": {},
   "source": [
    "## Using OpenFF force fields in Amber and GROMACS\n",
    "\n",
    "The OpenFF Toolkit can create create parametrized `openmm.System` objects and also, with an extra API call to [Interchange](https://docs.openforcefield.org/projects/interchange/en/stable/), input files for simulations in Amber and GROMACS. This example prepares a system, parametrizes it with Sage, shows how simple it is to write Amber and GROMACS files, and also validates the results."
   ]
  },
  {
   "cell_type": "markdown",
   "metadata": {
    "tags": []
   },
   "source": [
    "### Preparing an OpenFF Topology\n",
    "\n",
    "We start by loading a PDB file containing one copy of ethanol and cyclohexane. Our goal is to create an OpenFF `Topology` object describing this system that we can parametrize with the SMIRNOFF-format \"Sage\" force field.\n",
    "\n",
    "The two `Molecule` objects created from the SMILES strings can contain information such as formal charges and stereochemistry that is not included in a PDB file. These objects are passed to the PDB loading function via the `unique_molecules` argument. In this example, partial charges are not explicitly given, and `ForceField` will assign AM1/BCC charges as specified by the \"Sage\" force field. Note that the OpenFF Toolkit produces partial charges that do not depend on the input conformation of parameterized molecules. See the [FAQ](https://open-forcefield-toolkit.readthedocs.io/en/latest/faq.html#the-partial-charges-generated-by-the-toolkit-don-t-seem-to-depend-on-the-molecule-s-conformation-is-this-a-bug) for more information."
   ]
  },
  {
   "cell_type": "code",
   "execution_count": 1,
   "metadata": {
    "execution": {
     "iopub.execute_input": "2025-11-01T00:08:33.789409Z",
     "iopub.status.busy": "2025-11-01T00:08:33.789227Z",
     "iopub.status.idle": "2025-11-01T00:08:39.815773Z",
     "shell.execute_reply": "2025-11-01T00:08:39.814971Z"
    }
   },
   "outputs": [],
   "source": [
    "from pprint import pprint\n",
    "from shutil import which\n",
    "\n",
    "from openff.toolkit import ForceField, Molecule, Topology"
   ]
  },
  {
   "cell_type": "code",
   "execution_count": 2,
   "metadata": {
    "execution": {
     "iopub.execute_input": "2025-11-01T00:08:39.818910Z",
     "iopub.status.busy": "2025-11-01T00:08:39.818079Z",
     "iopub.status.idle": "2025-11-01T00:08:40.488947Z",
     "shell.execute_reply": "2025-11-01T00:08:40.488039Z"
    }
   },
   "outputs": [
    {
     "data": {
      "application/vnd.jupyter.widget-view+json": {
       "model_id": "e17d0943a87445798deffa72c01fb460",
       "version_major": 2,
       "version_minor": 0
      },
      "text/plain": []
     },
     "metadata": {},
     "output_type": "display_data"
    },
    {
     "data": {
      "application/vnd.jupyter.widget-view+json": {
       "model_id": "62c75fbca5d24229b75edf4cd4eebc98",
       "version_major": 2,
       "version_minor": 0
      },
      "text/plain": [
       "NGLWidget()"
      ]
     },
     "metadata": {},
     "output_type": "display_data"
    }
   ],
   "source": [
    "ethanol = Molecule.from_smiles(\"CCO\")\n",
    "cyclohexane = Molecule.from_smiles(\"C1CCCCC1\")\n",
    "\n",
    "# Load the topology from a PDB file and `Molecule` objects\n",
    "topology = Topology.from_pdb(\n",
    "    \"1_cyclohexane_1_ethanol.pdb\",\n",
    "    unique_molecules=[ethanol, cyclohexane],\n",
    ")\n",
    "\n",
    "topology.visualize()"
   ]
  },
  {
   "cell_type": "markdown",
   "metadata": {},
   "source": [
    "### Preparing an OpenFF ForceField\n",
    "\n",
    "Once the `ForceField` class is imported, the only decision to make is which force field to use. An exhaustive list of force fields released by the Open Force Field Initiative can be found [here](https://github.com/openforcefield/openff-forcefields#how-to-cite).\n",
    "\n",
    "Here we will use force field from the \"Sage\" line."
   ]
  },
  {
   "cell_type": "code",
   "execution_count": 3,
   "metadata": {
    "execution": {
     "iopub.execute_input": "2025-11-01T00:08:40.541479Z",
     "iopub.status.busy": "2025-11-01T00:08:40.541018Z",
     "iopub.status.idle": "2025-11-01T00:08:41.069664Z",
     "shell.execute_reply": "2025-11-01T00:08:41.069183Z"
    }
   },
   "outputs": [
    {
     "data": {
      "text/plain": [
       "<openff.toolkit.typing.engines.smirnoff.forcefield.ForceField at 0x7f2bdb171350>"
      ]
     },
     "execution_count": 3,
     "metadata": {},
     "output_type": "execute_result"
    }
   ],
   "source": [
    "forcefield = ForceField(\"openff-2.2.0.offxml\")\n",
    "forcefield"
   ]
  },
  {
   "cell_type": "markdown",
   "metadata": {},
   "source": [
    "### Preparing an OpenMM System\n",
    "\n",
    "Once a force field and topology have been loaded, an `openmm.System` can be generated natively with the OpenFF Toolkit."
   ]
  },
  {
   "cell_type": "code",
   "execution_count": 4,
   "metadata": {
    "execution": {
     "iopub.execute_input": "2025-11-01T00:08:41.076321Z",
     "iopub.status.busy": "2025-11-01T00:08:41.075958Z",
     "iopub.status.idle": "2025-11-01T00:08:43.070495Z",
     "shell.execute_reply": "2025-11-01T00:08:43.069960Z"
    }
   },
   "outputs": [
    {
     "data": {
      "text/plain": [
       "<openmm.openmm.System; proxy of <Swig Object of type 'OpenMM::System *' at 0x7f2bdb1b88f0> >"
      ]
     },
     "execution_count": 4,
     "metadata": {},
     "output_type": "execute_result"
    }
   ],
   "source": [
    "omm_system = forcefield.create_openmm_system(topology)\n",
    "omm_system"
   ]
  },
  {
   "cell_type": "markdown",
   "metadata": {
    "tags": []
   },
   "source": [
    "### Preparing an Interchange object\n",
    "\n",
    "To export to engines other than OpenMM, we will make use of the [Interchange](https://openff-interchange.readthedocs.io/) project. There is a high-level `ForceField.create_interchange` method which acts much like `ForceField.create_openmm_system`. It uses OpenFF `Topology` and  `ForceField` objects to produce an `Interchange` object which can then be exported to formats understood by other molecular simulation engines. This extra step is needed to provide a clean interface between _applied_ parameters and engines. Note also that this step does not create an `openmm.system` under the hood; `ForceField.create_interchange` is an entirely in-memory conversion without calls to external engines or conversion tools."
   ]
  },
  {
   "cell_type": "code",
   "execution_count": 5,
   "metadata": {
    "execution": {
     "iopub.execute_input": "2025-11-01T00:08:43.073016Z",
     "iopub.status.busy": "2025-11-01T00:08:43.072578Z",
     "iopub.status.idle": "2025-11-01T00:08:43.188497Z",
     "shell.execute_reply": "2025-11-01T00:08:43.186631Z"
    }
   },
   "outputs": [
    {
     "data": {
      "text/plain": [
       "Interchange with 7 collections, periodic topology with 27 atoms."
      ]
     },
     "execution_count": 5,
     "metadata": {},
     "output_type": "execute_result"
    }
   ],
   "source": [
    "interchange = forcefield.create_interchange(topology)\n",
    "interchange"
   ]
  },
  {
   "cell_type": "markdown",
   "metadata": {},
   "source": [
    "### Exporting to Amber and GROMACS files\n",
    "\n",
    "Once an `Interchange` object has been constructed, its API [can be used to export](https://docs.openforcefield.org/projects/interchange/en/stable/using/output.html) to files understood by GROMACS, Amber, and more."
   ]
  },
  {
   "cell_type": "code",
   "execution_count": 6,
   "metadata": {
    "execution": {
     "iopub.execute_input": "2025-11-01T00:08:43.190341Z",
     "iopub.status.busy": "2025-11-01T00:08:43.190161Z",
     "iopub.status.idle": "2025-11-01T00:08:43.538516Z",
     "shell.execute_reply": "2025-11-01T00:08:43.536612Z"
    }
   },
   "outputs": [
    {
     "name": "stderr",
     "output_type": "stream",
     "text": [
      "/home/runner/micromamba/envs/openff-docs-examples/lib/python3.11/site-packages/openff/interchange/components/mdconfig.py:430: SwitchingFunctionNotImplementedWarning: A switching distance 8.0 angstrom was specified by the force field, but Amber does not implement a switching function. Using a hard cut-off instead. Non-bonded interactions will be affected.\n",
      "  warnings.warn(\n"
     ]
    },
    {
     "name": "stdout",
     "output_type": "stream",
     "text": [
      "system.gro     system.prmtop  system_pointenergy.in\r\n",
      "system.inpcrd  system.top     system_pointenergy.mdp\r\n"
     ]
    }
   ],
   "source": [
    "# Export AMBER files.\n",
    "interchange.to_amber(prefix=\"system\")\n",
    "\n",
    "# Export GROMACS files.\n",
    "interchange.to_gromacs(prefix=\"system\")\n",
    "\n",
    "# List the produced input files\n",
    "!ls system*"
   ]
  },
  {
   "cell_type": "markdown",
   "metadata": {},
   "source": [
    "### Validating the conversion to Amber files\n",
    "\n",
    "The Interchange project includes functions that take in an `Interchange` object and call out to simulation engines to run single-point energy calculations (with no minimization or dynamics) for the purpose of validating the export layer with each engine. Under the hood, each of these functions calls API points like those used above while converting to files understood by each engine. These rely on having each engine installed and accessible in the current `$PATH`."
   ]
  },
  {
   "cell_type": "code",
   "execution_count": 7,
   "metadata": {
    "execution": {
     "iopub.execute_input": "2025-11-01T00:08:43.540726Z",
     "iopub.status.busy": "2025-11-01T00:08:43.540531Z",
     "iopub.status.idle": "2025-11-01T00:08:43.553519Z",
     "shell.execute_reply": "2025-11-01T00:08:43.552774Z"
    }
   },
   "outputs": [],
   "source": [
    "from openff.interchange.drivers import get_amber_energies, get_openmm_energies"
   ]
  },
  {
   "cell_type": "code",
   "execution_count": 8,
   "metadata": {
    "execution": {
     "iopub.execute_input": "2025-11-01T00:08:43.555743Z",
     "iopub.status.busy": "2025-11-01T00:08:43.555106Z",
     "iopub.status.idle": "2025-11-01T00:08:43.626867Z",
     "shell.execute_reply": "2025-11-01T00:08:43.626365Z"
    },
    "scrolled": true
   },
   "outputs": [
    {
     "name": "stdout",
     "output_type": "stream",
     "text": [
      "{'Angle': <Quantity(8.66086395, 'kilojoule / mole')>,\n",
      " 'Bond': <Quantity(0.728703487, 'kilojoule / mole')>,\n",
      " 'Nonbonded': <Quantity(2.81834152, 'kilojoule / mole')>,\n",
      " 'Torsion': <Quantity(24.8254772, 'kilojoule / mole')>}\n"
     ]
    }
   ],
   "source": [
    "openmm_energies = get_openmm_energies(interchange)\n",
    "pprint(openmm_energies.energies)"
   ]
  },
  {
   "cell_type": "code",
   "execution_count": 9,
   "metadata": {
    "execution": {
     "iopub.execute_input": "2025-11-01T00:08:43.628973Z",
     "iopub.status.busy": "2025-11-01T00:08:43.628762Z",
     "iopub.status.idle": "2025-11-01T00:08:43.774790Z",
     "shell.execute_reply": "2025-11-01T00:08:43.774171Z"
    },
    "scrolled": true
   },
   "outputs": [
    {
     "name": "stdout",
     "output_type": "stream",
     "text": [
      "{'Angle': <Quantity(8.66088, 'kilojoule / mole')>,\n",
      " 'Bond': <Quantity(0.7288528, 'kilojoule / mole')>,\n",
      " 'Electrostatics': <Quantity(-6.84084, 'kilojoule / mole')>,\n",
      " 'Torsion': <Quantity(24.8253456, 'kilojoule / mole')>,\n",
      " 'vdW': <Quantity(9.6667136, 'kilojoule / mole')>}\n"
     ]
    },
    {
     "name": "stderr",
     "output_type": "stream",
     "text": [
      "/home/runner/micromamba/envs/openff-docs-examples/lib/python3.11/site-packages/openff/interchange/components/mdconfig.py:430: SwitchingFunctionNotImplementedWarning: A switching distance 8.0 angstrom was specified by the force field, but Amber does not implement a switching function. Using a hard cut-off instead. Non-bonded interactions will be affected.\n",
      "  warnings.warn(\n"
     ]
    }
   ],
   "source": [
    "amber_energies = get_amber_energies(interchange)\n",
    "pprint(amber_energies.energies)"
   ]
  },
  {
   "cell_type": "markdown",
   "metadata": {},
   "source": [
    "### Appendix: Validating the conversion to GROMACS and LAMMPS files\n",
    "\n",
    "If GROMACS and/or LAMMPS are installed on your machine, the same comparisons can also take place with those engines. They are available via `conda` by running a command like:\n",
    "\n",
    "```mamba install \"gromacs >=2021=nompi*\" lammps -c conda-forge```"
   ]
  },
  {
   "cell_type": "code",
   "execution_count": 10,
   "metadata": {
    "execution": {
     "iopub.execute_input": "2025-11-01T00:08:43.777630Z",
     "iopub.status.busy": "2025-11-01T00:08:43.776502Z",
     "iopub.status.idle": "2025-11-01T00:08:43.782424Z",
     "shell.execute_reply": "2025-11-01T00:08:43.781430Z"
    }
   },
   "outputs": [],
   "source": [
    "from openff.interchange.drivers import get_gromacs_energies, get_lammps_energies"
   ]
  },
  {
   "cell_type": "code",
   "execution_count": 11,
   "metadata": {
    "execution": {
     "iopub.execute_input": "2025-11-01T00:08:43.783862Z",
     "iopub.status.busy": "2025-11-01T00:08:43.783681Z",
     "iopub.status.idle": "2025-11-01T00:08:43.874032Z",
     "shell.execute_reply": "2025-11-01T00:08:43.872315Z"
    }
   },
   "outputs": [
    {
     "name": "stderr",
     "output_type": "stream",
     "text": [
      "/home/runner/micromamba/envs/openff-docs-examples/lib/python3.11/site-packages/openff/interchange/components/mdconfig.py:295: SwitchingFunctionNotImplementedWarning: A switching distance 8.0 angstrom was specified by the force field, but LAMMPS may not implement a switching function as specified by SMIRNOFF. Using a hard cut-off instead. Non-bonded interactions will be affected.\n",
      "  warnings.warn(\n"
     ]
    },
    {
     "name": "stdout",
     "output_type": "stream",
     "text": [
      "{'Angle': <Quantity(8.66086395, 'kilojoule / mole')>,\n",
      " 'Bond': <Quantity(0.728703487, 'kilojoule / mole')>,\n",
      " 'Electrostatics': <Quantity(-6.94429666, 'kilojoule / mole')>,\n",
      " 'Torsion': <Quantity(24.8254772, 'kilojoule / mole')>,\n",
      " 'vdW': <Quantity(9.63099892, 'kilojoule / mole')>}\n"
     ]
    }
   ],
   "source": [
    "if which(\"lmp_serial\"):\n",
    "    pprint(get_lammps_energies(interchange).energies)"
   ]
  },
  {
   "cell_type": "code",
   "execution_count": 12,
   "metadata": {
    "execution": {
     "iopub.execute_input": "2025-11-01T00:08:43.877972Z",
     "iopub.status.busy": "2025-11-01T00:08:43.875599Z",
     "iopub.status.idle": "2025-11-01T00:08:44.810775Z",
     "shell.execute_reply": "2025-11-01T00:08:44.787624Z"
    }
   },
   "outputs": [
    {
     "name": "stdout",
     "output_type": "stream",
     "text": [
      "{'Angle': <Quantity(8.66089058, 'kilojoule / mole')>,\n",
      " 'Bond': <Quantity(0.728675842, 'kilojoule / mole')>,\n",
      " 'Electrostatics': <Quantity(-6.84726572, 'kilojoule / mole')>,\n",
      " 'RBTorsion': <Quantity(0.0, 'kilojoule / mole')>,\n",
      " 'Torsion': <Quantity(24.8254776, 'kilojoule / mole')>,\n",
      " 'vdW': <Quantity(9.66705119, 'kilojoule / mole')>}\n"
     ]
    }
   ],
   "source": [
    "if which(\"gmx\"):\n",
    "    pprint(get_gromacs_energies(interchange).energies)"
   ]
  },
  {
   "cell_type": "markdown",
   "metadata": {},
   "source": [
    "Finally, there is a helper function `get_summary_data` that will attempt to run drivers of each engine. A summary reported is prepared as a Pandas `DataFrame`."
   ]
  },
  {
   "cell_type": "code",
   "execution_count": 13,
   "metadata": {
    "execution": {
     "iopub.execute_input": "2025-11-01T00:08:44.812575Z",
     "iopub.status.busy": "2025-11-01T00:08:44.812368Z",
     "iopub.status.idle": "2025-11-01T00:08:45.939356Z",
     "shell.execute_reply": "2025-11-01T00:08:45.938299Z"
    }
   },
   "outputs": [
    {
     "name": "stderr",
     "output_type": "stream",
     "text": [
      "/home/runner/micromamba/envs/openff-docs-examples/lib/python3.11/site-packages/openff/interchange/components/mdconfig.py:430: SwitchingFunctionNotImplementedWarning: A switching distance 8.0 angstrom was specified by the force field, but Amber does not implement a switching function. Using a hard cut-off instead. Non-bonded interactions will be affected.\n",
      "  warnings.warn(\n"
     ]
    },
    {
     "name": "stderr",
     "output_type": "stream",
     "text": [
      "/home/runner/micromamba/envs/openff-docs-examples/lib/python3.11/site-packages/openff/interchange/components/mdconfig.py:295: SwitchingFunctionNotImplementedWarning: A switching distance 8.0 angstrom was specified by the force field, but LAMMPS may not implement a switching function as specified by SMIRNOFF. Using a hard cut-off instead. Non-bonded interactions will be affected.\n",
      "  warnings.warn(\n"
     ]
    },
    {
     "data": {
      "text/html": [
       "<div>\n",
       "<style scoped>\n",
       "    .dataframe tbody tr th:only-of-type {\n",
       "        vertical-align: middle;\n",
       "    }\n",
       "\n",
       "    .dataframe tbody tr th {\n",
       "        vertical-align: top;\n",
       "    }\n",
       "\n",
       "    .dataframe thead th {\n",
       "        text-align: right;\n",
       "    }\n",
       "</style>\n",
       "<table border=\"1\" class=\"dataframe\">\n",
       "  <thead>\n",
       "    <tr style=\"text-align: right;\">\n",
       "      <th></th>\n",
       "      <th>Bond</th>\n",
       "      <th>Angle</th>\n",
       "      <th>Torsion</th>\n",
       "      <th>vdW</th>\n",
       "      <th>Electrostatics</th>\n",
       "      <th>RBTorsion</th>\n",
       "    </tr>\n",
       "  </thead>\n",
       "  <tbody>\n",
       "    <tr>\n",
       "      <th>OpenMM</th>\n",
       "      <td>0.728703</td>\n",
       "      <td>8.660864</td>\n",
       "      <td>24.825477</td>\n",
       "      <td>9.658657</td>\n",
       "      <td>-6.840315</td>\n",
       "      <td>NaN</td>\n",
       "    </tr>\n",
       "    <tr>\n",
       "      <th>Amber</th>\n",
       "      <td>0.728853</td>\n",
       "      <td>8.660880</td>\n",
       "      <td>24.825346</td>\n",
       "      <td>9.666714</td>\n",
       "      <td>-6.840840</td>\n",
       "      <td>NaN</td>\n",
       "    </tr>\n",
       "    <tr>\n",
       "      <th>GROMACS</th>\n",
       "      <td>0.728676</td>\n",
       "      <td>8.660891</td>\n",
       "      <td>24.825478</td>\n",
       "      <td>9.667051</td>\n",
       "      <td>-6.847266</td>\n",
       "      <td>0.0</td>\n",
       "    </tr>\n",
       "    <tr>\n",
       "      <th>LAMMPS</th>\n",
       "      <td>0.728703</td>\n",
       "      <td>8.660864</td>\n",
       "      <td>24.825477</td>\n",
       "      <td>9.630999</td>\n",
       "      <td>-6.944297</td>\n",
       "      <td>NaN</td>\n",
       "    </tr>\n",
       "  </tbody>\n",
       "</table>\n",
       "</div>"
      ],
      "text/plain": [
       "             Bond     Angle    Torsion       vdW  Electrostatics  RBTorsion\n",
       "OpenMM   0.728703  8.660864  24.825477  9.658657       -6.840315        NaN\n",
       "Amber    0.728853  8.660880  24.825346  9.666714       -6.840840        NaN\n",
       "GROMACS  0.728676  8.660891  24.825478  9.667051       -6.847266        0.0\n",
       "LAMMPS   0.728703  8.660864  24.825477  9.630999       -6.944297        NaN"
      ]
     },
     "execution_count": 13,
     "metadata": {},
     "output_type": "execute_result"
    }
   ],
   "source": [
    "from openff.interchange.drivers.all import get_summary_data\n",
    "\n",
    "get_summary_data(interchange)"
   ]
  }
 ],
 "metadata": {
  "category": "parametrization_evaluation",
  "cookbook_cache_branch": "_cookbook_data_main",
  "kernelspec": {
   "display_name": "Python 3 (ipykernel)",
   "language": "python",
   "name": "python3"
  },
  "language_info": {
   "codemirror_mode": {
    "name": "ipython",
    "version": 3
   },
   "file_extension": ".py",
   "mimetype": "text/x-python",
   "name": "python",
   "nbconvert_exporter": "python",
   "pygments_lexer": "ipython3",
   "version": "3.11.14"
  },
  "src_repo_tag": "0.17.1",
  "widgets": {
   "application/vnd.jupyter.widget-state+json": {
    "state": {
     "11127b45520040ebb7ba67caf5198aa0": {
      "model_module": "@jupyter-widgets/controls",
      "model_module_version": "2.0.0",
      "model_name": "SliderStyleModel",
      "state": {
       "_model_module": "@jupyter-widgets/controls",
       "_model_module_version": "2.0.0",
       "_model_name": "SliderStyleModel",
       "_view_count": null,
       "_view_module": "@jupyter-widgets/base",
       "_view_module_version": "2.0.0",
       "_view_name": "StyleView",
       "description_width": "",
       "handle_color": null
      }
     },
     "25c26eb76c5d4eaab471937e84547554": {
      "model_module": "@jupyter-widgets/controls",
      "model_module_version": "2.0.0",
      "model_name": "ButtonModel",
      "state": {
       "_dom_classes": [],
       "_model_module": "@jupyter-widgets/controls",
       "_model_module_version": "2.0.0",
       "_model_name": "ButtonModel",
       "_view_count": null,
       "_view_module": "@jupyter-widgets/controls",
       "_view_module_version": "2.0.0",
       "_view_name": "ButtonView",
       "button_style": "",
       "description": "",
       "disabled": false,
       "icon": "compress",
       "layout": "IPY_MODEL_f7a91c2591ac4ad58d90d07640294038",
       "style": "IPY_MODEL_d339c2400ec84dc5944ce3d9f371d1ca",
       "tabbable": null,
       "tooltip": null
      }
     },
     "3e80e7fb52e146d7af090172203287f1": {
      "model_module": "@jupyter-widgets/controls",
      "model_module_version": "2.0.0",
      "model_name": "PlayModel",
      "state": {
       "_dom_classes": [],
       "_model_module": "@jupyter-widgets/controls",
       "_model_module_version": "2.0.0",
       "_model_name": "PlayModel",
       "_view_count": null,
       "_view_module": "@jupyter-widgets/controls",
       "_view_module_version": "2.0.0",
       "_view_name": "PlayView",
       "description": "",
       "description_allow_html": false,
       "disabled": false,
       "interval": 100,
       "layout": "IPY_MODEL_d94b0b98ae4a4e1584d9c169486afff5",
       "max": 0,
       "min": 0,
       "playing": false,
       "repeat": false,
       "show_repeat": true,
       "step": 1,
       "style": "IPY_MODEL_8e48191b3db14a72a9cdb1df87bd2775",
       "tabbable": null,
       "tooltip": null,
       "value": 0
      }
     },
     "62c75fbca5d24229b75edf4cd4eebc98": {
      "model_module": "nglview-js-widgets",
      "model_module_version": "3.0.8",
      "model_name": "NGLModel",
      "state": {
       "_camera_orientation": [],
       "_camera_str": "orthographic",
       "_dom_classes": [],
       "_gui_theme": null,
       "_ibtn_fullscreen": "IPY_MODEL_25c26eb76c5d4eaab471937e84547554",
       "_igui": null,
       "_iplayer": "IPY_MODEL_70b592415b65463fb7e00a45447f7147",
       "_model_module": "nglview-js-widgets",
       "_model_module_version": "3.0.8",
       "_model_name": "NGLModel",
       "_ngl_color_dict": {},
       "_ngl_coordinate_resource": {},
       "_ngl_full_stage_parameters": {},
       "_ngl_msg_archive": [
        {
         "args": [
          {
           "binary": false,
           "data": "REMARK   1 CREATED WITH OPENMM 8.4, 2025-11-01\nCRYST1   31.885   31.885   31.885  90.00  90.00  90.00 P 1           1 \nHETATM    1  C1  ZBE A   1      12.532  10.813  10.386  1.00  0.00           C  \nHETATM    2  C2  ZBE A   1      12.348  10.339  11.825  1.00  0.00           C  \nHETATM    3  C3  ZBE A   1      10.880  10.365  12.244  1.00  0.00           C  \nHETATM    4  C4  ZBE A   1      10.256  11.739  12.020  1.00  0.00           C  \nHETATM    5  C5  ZBE A   1      10.439  12.213  10.581  1.00  0.00           C  \nHETATM    6  C6  ZBE A   1      11.907  12.187  10.162  1.00  0.00           C  \nHETATM    7  H1  ZBE A   1      12.072  10.088   9.703  1.00  0.00           H  \nHETATM    8  H2  ZBE A   1      13.600  10.849  10.143  1.00  0.00           H  \nHETATM    9  H3  ZBE A   1      12.745   9.324  11.932  1.00  0.00           H  \nHETATM   10  H4  ZBE A   1      12.930  10.982  12.497  1.00  0.00           H  \nHETATM   11  H5  ZBE A   1      10.324   9.614  11.669  1.00  0.00           H  \nHETATM   12  H6  ZBE A   1      10.793  10.088  13.300  1.00  0.00           H  \nHETATM   13  H7  ZBE A   1       9.188  11.703  12.264  1.00  0.00           H  \nHETATM   14  H8  ZBE A   1      10.716  12.464  12.704  1.00  0.00           H  \nHETATM   15  H9  ZBE A   1       9.858  11.571   9.909  1.00  0.00           H  \nHETATM   16  H10 ZBE A   1      10.043  13.230  10.474  1.00  0.00           H  \nHETATM   17  H11 ZBE A   1      11.994  12.465   9.105  1.00  0.00           H  \nHETATM   18  H12 ZBE A   1      12.463  12.938  10.737  1.00  0.00           H  \nTER      19      ZBE A   1\nHETATM   20  C1  ZXQ B   1      10.172  31.276  27.866  1.00  0.00           C  \nHETATM   21  C2  ZXQ B   1       8.746  30.961  27.471  1.00  0.00           C  \nHETATM   22  O1  ZXQ B   1       8.752  30.264  26.234  1.00  0.00           O  \nHETATM   23  H1  ZXQ B   1      10.204  31.815  28.818  1.00  0.00           H  \nHETATM   24  H2  ZXQ B   1      10.758  30.356  27.962  1.00  0.00           H  \nHETATM   25  H3  ZXQ B   1      10.661  31.886  27.099  1.00  0.00           H  \nHETATM   26  H4  ZXQ B   1       8.169  31.883  27.352  1.00  0.00           H  \nHETATM   27  H5  ZXQ B   1       8.267  30.333  28.228  1.00  0.00           H  \nHETATM   28  H6  ZXQ B   1       7.826  30.079  26.011  1.00  0.00           H  \nTER      29      ZXQ B   1\nCONECT    1    6    2    7    8\nCONECT    2    1    3    9   10\nCONECT    3    2    4   11   12\nCONECT    4    3    5   13   14\nCONECT    5    4    6   15   16\nCONECT    6    1    5   17   18\nCONECT    7    1\nCONECT    8    1\nCONECT    9    2\nCONECT   10    2\nCONECT   11    3\nCONECT   12    3\nCONECT   13    4\nCONECT   14    4\nCONECT   15    5\nCONECT   16    5\nCONECT   17    6\nCONECT   18    6\nCONECT   20   21   23   24   25\nCONECT   21   20   22   26   27\nCONECT   22   21   28\nCONECT   23   20\nCONECT   24   20\nCONECT   25   20\nCONECT   26   21\nCONECT   27   21\nCONECT   28   22\nEND\n",
           "type": "blob"
          }
         ],
         "kwargs": {
          "defaultRepresentation": false,
          "ext": "pdb"
         },
         "methodName": "loadFile",
         "reconstruc_color_scheme": false,
         "target": "Stage",
         "type": "call_method"
        },
        {
         "args": [],
         "component_index": 0,
         "kwargs": {},
         "methodName": "removeAllRepresentations",
         "reconstruc_color_scheme": false,
         "target": "compList",
         "type": "call_method"
        },
        {
         "args": [
          "unitcell"
         ],
         "component_index": 0,
         "kwargs": {},
         "methodName": "addRepresentation",
         "reconstruc_color_scheme": false,
         "target": "compList",
         "type": "call_method"
        },
        {
         "args": [
          "line"
         ],
         "component_index": 0,
         "kwargs": {
          "sele": "water"
         },
         "methodName": "addRepresentation",
         "reconstruc_color_scheme": false,
         "target": "compList",
         "type": "call_method"
        },
        {
         "args": [
          "spacefill"
         ],
         "component_index": 0,
         "kwargs": {
          "sele": "ion"
         },
         "methodName": "addRepresentation",
         "reconstruc_color_scheme": false,
         "target": "compList",
         "type": "call_method"
        },
        {
         "args": [
          "cartoon"
         ],
         "component_index": 0,
         "kwargs": {
          "sele": "protein"
         },
         "methodName": "addRepresentation",
         "reconstruc_color_scheme": false,
         "target": "compList",
         "type": "call_method"
        },
        {
         "args": [
          "licorice"
         ],
         "component_index": 0,
         "kwargs": {
          "multipleBond": false,
          "radius": 0.25,
          "sele": "not water and not ion and not protein"
         },
         "methodName": "addRepresentation",
         "reconstruc_color_scheme": false,
         "target": "compList",
         "type": "call_method"
        }
       ],
       "_ngl_original_stage_parameters": {},
       "_ngl_repr_dict": {},
       "_ngl_serialize": false,
       "_ngl_version": "",
       "_ngl_view_id": [],
       "_player_dict": {},
       "_scene_position": {},
       "_scene_rotation": {},
       "_synced_model_ids": [],
       "_synced_repr_model_ids": [],
       "_view_count": null,
       "_view_height": "",
       "_view_module": "nglview-js-widgets",
       "_view_module_version": "3.0.8",
       "_view_name": "NGLView",
       "_view_width": "",
       "background": "white",
       "frame": 0,
       "gui_style": null,
       "layout": "IPY_MODEL_c9f21b394e004bc487a86d599fd36740",
       "max_frame": 0,
       "n_components": 0,
       "picked": {},
       "tabbable": null,
       "tooltip": null
      }
     },
     "6d231b8e7220497a8d90cba6afd90fb1": {
      "model_module": "@jupyter-widgets/controls",
      "model_module_version": "2.0.0",
      "model_name": "LinkModel",
      "state": {
       "_model_module": "@jupyter-widgets/controls",
       "_model_module_version": "2.0.0",
       "_model_name": "LinkModel",
       "_view_count": null,
       "_view_module": "@jupyter-widgets/controls",
       "_view_module_version": "2.0.0",
       "_view_name": null,
       "source": [
        "IPY_MODEL_3e80e7fb52e146d7af090172203287f1",
        "max"
       ],
       "target": [
        "IPY_MODEL_62c75fbca5d24229b75edf4cd4eebc98",
        "max_frame"
       ]
      }
     },
     "70b592415b65463fb7e00a45447f7147": {
      "model_module": "@jupyter-widgets/controls",
      "model_module_version": "2.0.0",
      "model_name": "HBoxModel",
      "state": {
       "_dom_classes": [],
       "_model_module": "@jupyter-widgets/controls",
       "_model_module_version": "2.0.0",
       "_model_name": "HBoxModel",
       "_view_count": null,
       "_view_module": "@jupyter-widgets/controls",
       "_view_module_version": "2.0.0",
       "_view_name": "HBoxView",
       "box_style": "",
       "children": [
        "IPY_MODEL_3e80e7fb52e146d7af090172203287f1",
        "IPY_MODEL_f86da539f0c34318913bec92d4696218"
       ],
       "layout": "IPY_MODEL_d78e597371ea40eb8a9b91d53b95345c",
       "tabbable": null,
       "tooltip": null
      }
     },
     "7b8ad3d96985421ba7807031d3531091": {
      "model_module": "@jupyter-widgets/controls",
      "model_module_version": "2.0.0",
      "model_name": "LinkModel",
      "state": {
       "_model_module": "@jupyter-widgets/controls",
       "_model_module_version": "2.0.0",
       "_model_name": "LinkModel",
       "_view_count": null,
       "_view_module": "@jupyter-widgets/controls",
       "_view_module_version": "2.0.0",
       "_view_name": null,
       "source": [
        "IPY_MODEL_3e80e7fb52e146d7af090172203287f1",
        "value"
       ],
       "target": [
        "IPY_MODEL_f86da539f0c34318913bec92d4696218",
        "value"
       ]
      }
     },
     "84a8e8749f2e46289896cdf9bb7f4f78": {
      "model_module": "@jupyter-widgets/base",
      "model_module_version": "2.0.0",
      "model_name": "LayoutModel",
      "state": {
       "_model_module": "@jupyter-widgets/base",
       "_model_module_version": "2.0.0",
       "_model_name": "LayoutModel",
       "_view_count": null,
       "_view_module": "@jupyter-widgets/base",
       "_view_module_version": "2.0.0",
       "_view_name": "LayoutView",
       "align_content": null,
       "align_items": null,
       "align_self": null,
       "border_bottom": null,
       "border_left": null,
       "border_right": null,
       "border_top": null,
       "bottom": null,
       "display": null,
       "flex": null,
       "flex_flow": null,
       "grid_area": null,
       "grid_auto_columns": null,
       "grid_auto_flow": null,
       "grid_auto_rows": null,
       "grid_column": null,
       "grid_gap": null,
       "grid_row": null,
       "grid_template_areas": null,
       "grid_template_columns": null,
       "grid_template_rows": null,
       "height": null,
       "justify_content": null,
       "justify_items": null,
       "left": null,
       "margin": null,
       "max_height": null,
       "max_width": null,
       "min_height": null,
       "min_width": null,
       "object_fit": null,
       "object_position": null,
       "order": null,
       "overflow": null,
       "padding": null,
       "right": null,
       "top": null,
       "visibility": null,
       "width": null
      }
     },
     "8e48191b3db14a72a9cdb1df87bd2775": {
      "model_module": "@jupyter-widgets/controls",
      "model_module_version": "2.0.0",
      "model_name": "DescriptionStyleModel",
      "state": {
       "_model_module": "@jupyter-widgets/controls",
       "_model_module_version": "2.0.0",
       "_model_name": "DescriptionStyleModel",
       "_view_count": null,
       "_view_module": "@jupyter-widgets/base",
       "_view_module_version": "2.0.0",
       "_view_name": "StyleView",
       "description_width": ""
      }
     },
     "ad7e8955c107479890523c6e3bda4548": {
      "model_module": "@jupyter-widgets/base",
      "model_module_version": "2.0.0",
      "model_name": "LayoutModel",
      "state": {
       "_model_module": "@jupyter-widgets/base",
       "_model_module_version": "2.0.0",
       "_model_name": "LayoutModel",
       "_view_count": null,
       "_view_module": "@jupyter-widgets/base",
       "_view_module_version": "2.0.0",
       "_view_name": "LayoutView",
       "align_content": null,
       "align_items": null,
       "align_self": null,
       "border_bottom": null,
       "border_left": null,
       "border_right": null,
       "border_top": null,
       "bottom": null,
       "display": null,
       "flex": null,
       "flex_flow": null,
       "grid_area": null,
       "grid_auto_columns": null,
       "grid_auto_flow": null,
       "grid_auto_rows": null,
       "grid_column": null,
       "grid_gap": null,
       "grid_row": null,
       "grid_template_areas": null,
       "grid_template_columns": null,
       "grid_template_rows": null,
       "height": null,
       "justify_content": null,
       "justify_items": null,
       "left": null,
       "margin": null,
       "max_height": null,
       "max_width": null,
       "min_height": null,
       "min_width": null,
       "object_fit": null,
       "object_position": null,
       "order": null,
       "overflow": null,
       "padding": null,
       "right": null,
       "top": null,
       "visibility": null,
       "width": null
      }
     },
     "c3e0ff1208914f4c9b5fe180bd3f51ac": {
      "buffers": [
       {
        "data": "",
        "encoding": "base64",
        "path": [
         "value"
        ]
       }
      ],
      "model_module": "@jupyter-widgets/controls",
      "model_module_version": "2.0.0",
      "model_name": "ImageModel",
      "state": {
       "_dom_classes": [],
       "_model_module": "@jupyter-widgets/controls",
       "_model_module_version": "2.0.0",
       "_model_name": "ImageModel",
       "_view_count": null,
       "_view_module": "@jupyter-widgets/controls",
       "_view_module_version": "2.0.0",
       "_view_name": "ImageView",
       "format": "png",
       "height": "",
       "layout": "IPY_MODEL_f943584cc3be426794f03f648a001369",
       "tabbable": null,
       "tooltip": null,
       "width": "900.0"
      }
     },
     "c9f21b394e004bc487a86d599fd36740": {
      "model_module": "@jupyter-widgets/base",
      "model_module_version": "2.0.0",
      "model_name": "LayoutModel",
      "state": {
       "_model_module": "@jupyter-widgets/base",
       "_model_module_version": "2.0.0",
       "_model_name": "LayoutModel",
       "_view_count": null,
       "_view_module": "@jupyter-widgets/base",
       "_view_module_version": "2.0.0",
       "_view_name": "LayoutView",
       "align_content": null,
       "align_items": null,
       "align_self": null,
       "border_bottom": null,
       "border_left": null,
       "border_right": null,
       "border_top": null,
       "bottom": null,
       "display": null,
       "flex": null,
       "flex_flow": null,
       "grid_area": null,
       "grid_auto_columns": null,
       "grid_auto_flow": null,
       "grid_auto_rows": null,
       "grid_column": null,
       "grid_gap": null,
       "grid_row": null,
       "grid_template_areas": null,
       "grid_template_columns": null,
       "grid_template_rows": null,
       "height": null,
       "justify_content": null,
       "justify_items": null,
       "left": null,
       "margin": null,
       "max_height": null,
       "max_width": null,
       "min_height": null,
       "min_width": null,
       "object_fit": null,
       "object_position": null,
       "order": null,
       "overflow": null,
       "padding": null,
       "right": null,
       "top": null,
       "visibility": null,
       "width": null
      }
     },
     "d339c2400ec84dc5944ce3d9f371d1ca": {
      "model_module": "@jupyter-widgets/controls",
      "model_module_version": "2.0.0",
      "model_name": "ButtonStyleModel",
      "state": {
       "_model_module": "@jupyter-widgets/controls",
       "_model_module_version": "2.0.0",
       "_model_name": "ButtonStyleModel",
       "_view_count": null,
       "_view_module": "@jupyter-widgets/base",
       "_view_module_version": "2.0.0",
       "_view_name": "StyleView",
       "button_color": null,
       "font_family": null,
       "font_size": null,
       "font_style": null,
       "font_variant": null,
       "font_weight": null,
       "text_color": null,
       "text_decoration": null
      }
     },
     "d78e597371ea40eb8a9b91d53b95345c": {
      "model_module": "@jupyter-widgets/base",
      "model_module_version": "2.0.0",
      "model_name": "LayoutModel",
      "state": {
       "_model_module": "@jupyter-widgets/base",
       "_model_module_version": "2.0.0",
       "_model_name": "LayoutModel",
       "_view_count": null,
       "_view_module": "@jupyter-widgets/base",
       "_view_module_version": "2.0.0",
       "_view_name": "LayoutView",
       "align_content": null,
       "align_items": null,
       "align_self": null,
       "border_bottom": null,
       "border_left": null,
       "border_right": null,
       "border_top": null,
       "bottom": null,
       "display": null,
       "flex": null,
       "flex_flow": null,
       "grid_area": null,
       "grid_auto_columns": null,
       "grid_auto_flow": null,
       "grid_auto_rows": null,
       "grid_column": null,
       "grid_gap": null,
       "grid_row": null,
       "grid_template_areas": null,
       "grid_template_columns": null,
       "grid_template_rows": null,
       "height": null,
       "justify_content": null,
       "justify_items": null,
       "left": null,
       "margin": null,
       "max_height": null,
       "max_width": null,
       "min_height": null,
       "min_width": null,
       "object_fit": null,
       "object_position": null,
       "order": null,
       "overflow": null,
       "padding": null,
       "right": null,
       "top": null,
       "visibility": null,
       "width": null
      }
     },
     "d94b0b98ae4a4e1584d9c169486afff5": {
      "model_module": "@jupyter-widgets/base",
      "model_module_version": "2.0.0",
      "model_name": "LayoutModel",
      "state": {
       "_model_module": "@jupyter-widgets/base",
       "_model_module_version": "2.0.0",
       "_model_name": "LayoutModel",
       "_view_count": null,
       "_view_module": "@jupyter-widgets/base",
       "_view_module_version": "2.0.0",
       "_view_name": "LayoutView",
       "align_content": null,
       "align_items": null,
       "align_self": null,
       "border_bottom": null,
       "border_left": null,
       "border_right": null,
       "border_top": null,
       "bottom": null,
       "display": null,
       "flex": null,
       "flex_flow": null,
       "grid_area": null,
       "grid_auto_columns": null,
       "grid_auto_flow": null,
       "grid_auto_rows": null,
       "grid_column": null,
       "grid_gap": null,
       "grid_row": null,
       "grid_template_areas": null,
       "grid_template_columns": null,
       "grid_template_rows": null,
       "height": null,
       "justify_content": null,
       "justify_items": null,
       "left": null,
       "margin": null,
       "max_height": null,
       "max_width": null,
       "min_height": null,
       "min_width": null,
       "object_fit": null,
       "object_position": null,
       "order": null,
       "overflow": null,
       "padding": null,
       "right": null,
       "top": null,
       "visibility": null,
       "width": null
      }
     },
     "dc8653bc89eb4c1a89f7f495d5fbad08": {
      "model_module": "@jupyter-widgets/controls",
      "model_module_version": "2.0.0",
      "model_name": "LinkModel",
      "state": {
       "_model_module": "@jupyter-widgets/controls",
       "_model_module_version": "2.0.0",
       "_model_name": "LinkModel",
       "_view_count": null,
       "_view_module": "@jupyter-widgets/controls",
       "_view_module_version": "2.0.0",
       "_view_name": null,
       "source": [
        "IPY_MODEL_3e80e7fb52e146d7af090172203287f1",
        "value"
       ],
       "target": [
        "IPY_MODEL_62c75fbca5d24229b75edf4cd4eebc98",
        "frame"
       ]
      }
     },
     "e17d0943a87445798deffa72c01fb460": {
      "model_module": "nglview-js-widgets",
      "model_module_version": "3.0.8",
      "model_name": "ColormakerRegistryModel",
      "state": {
       "_dom_classes": [],
       "_model_module": "nglview-js-widgets",
       "_model_module_version": "3.0.8",
       "_model_name": "ColormakerRegistryModel",
       "_msg_ar": [],
       "_msg_q": [],
       "_ready": false,
       "_view_count": null,
       "_view_module": "nglview-js-widgets",
       "_view_module_version": "3.0.8",
       "_view_name": "ColormakerRegistryView",
       "layout": "IPY_MODEL_ad7e8955c107479890523c6e3bda4548",
       "tabbable": null,
       "tooltip": null
      }
     },
     "efe57dc51ca34c069a6f8719b36795ac": {
      "model_module": "@jupyter-widgets/controls",
      "model_module_version": "2.0.0",
      "model_name": "LinkModel",
      "state": {
       "_model_module": "@jupyter-widgets/controls",
       "_model_module_version": "2.0.0",
       "_model_name": "LinkModel",
       "_view_count": null,
       "_view_module": "@jupyter-widgets/controls",
       "_view_module_version": "2.0.0",
       "_view_name": null,
       "source": [
        "IPY_MODEL_f86da539f0c34318913bec92d4696218",
        "max"
       ],
       "target": [
        "IPY_MODEL_62c75fbca5d24229b75edf4cd4eebc98",
        "max_frame"
       ]
      }
     },
     "f7a91c2591ac4ad58d90d07640294038": {
      "model_module": "@jupyter-widgets/base",
      "model_module_version": "2.0.0",
      "model_name": "LayoutModel",
      "state": {
       "_model_module": "@jupyter-widgets/base",
       "_model_module_version": "2.0.0",
       "_model_name": "LayoutModel",
       "_view_count": null,
       "_view_module": "@jupyter-widgets/base",
       "_view_module_version": "2.0.0",
       "_view_name": "LayoutView",
       "align_content": null,
       "align_items": null,
       "align_self": null,
       "border_bottom": null,
       "border_left": null,
       "border_right": null,
       "border_top": null,
       "bottom": null,
       "display": null,
       "flex": null,
       "flex_flow": null,
       "grid_area": null,
       "grid_auto_columns": null,
       "grid_auto_flow": null,
       "grid_auto_rows": null,
       "grid_column": null,
       "grid_gap": null,
       "grid_row": null,
       "grid_template_areas": null,
       "grid_template_columns": null,
       "grid_template_rows": null,
       "height": null,
       "justify_content": null,
       "justify_items": null,
       "left": null,
       "margin": null,
       "max_height": null,
       "max_width": null,
       "min_height": null,
       "min_width": null,
       "object_fit": null,
       "object_position": null,
       "order": null,
       "overflow": null,
       "padding": null,
       "right": null,
       "top": null,
       "visibility": null,
       "width": "34px"
      }
     },
     "f86da539f0c34318913bec92d4696218": {
      "model_module": "@jupyter-widgets/controls",
      "model_module_version": "2.0.0",
      "model_name": "IntSliderModel",
      "state": {
       "_dom_classes": [],
       "_model_module": "@jupyter-widgets/controls",
       "_model_module_version": "2.0.0",
       "_model_name": "IntSliderModel",
       "_view_count": null,
       "_view_module": "@jupyter-widgets/controls",
       "_view_module_version": "2.0.0",
       "_view_name": "IntSliderView",
       "behavior": "drag-tap",
       "continuous_update": true,
       "description": "",
       "description_allow_html": false,
       "disabled": false,
       "layout": "IPY_MODEL_84a8e8749f2e46289896cdf9bb7f4f78",
       "max": 0,
       "min": 0,
       "orientation": "horizontal",
       "readout": true,
       "readout_format": "d",
       "step": 1,
       "style": "IPY_MODEL_11127b45520040ebb7ba67caf5198aa0",
       "tabbable": null,
       "tooltip": null,
       "value": 0
      }
     },
     "f943584cc3be426794f03f648a001369": {
      "model_module": "@jupyter-widgets/base",
      "model_module_version": "2.0.0",
      "model_name": "LayoutModel",
      "state": {
       "_model_module": "@jupyter-widgets/base",
       "_model_module_version": "2.0.0",
       "_model_name": "LayoutModel",
       "_view_count": null,
       "_view_module": "@jupyter-widgets/base",
       "_view_module_version": "2.0.0",
       "_view_name": "LayoutView",
       "align_content": null,
       "align_items": null,
       "align_self": null,
       "border_bottom": null,
       "border_left": null,
       "border_right": null,
       "border_top": null,
       "bottom": null,
       "display": null,
       "flex": null,
       "flex_flow": null,
       "grid_area": null,
       "grid_auto_columns": null,
       "grid_auto_flow": null,
       "grid_auto_rows": null,
       "grid_column": null,
       "grid_gap": null,
       "grid_row": null,
       "grid_template_areas": null,
       "grid_template_columns": null,
       "grid_template_rows": null,
       "height": null,
       "justify_content": null,
       "justify_items": null,
       "left": null,
       "margin": null,
       "max_height": null,
       "max_width": null,
       "min_height": null,
       "min_width": null,
       "object_fit": null,
       "object_position": null,
       "order": null,
       "overflow": null,
       "padding": null,
       "right": null,
       "top": null,
       "visibility": null,
       "width": null
      }
     }
    },
    "version_major": 2,
    "version_minor": 0
   }
  }
 },
 "nbformat": 4,
 "nbformat_minor": 4
}
