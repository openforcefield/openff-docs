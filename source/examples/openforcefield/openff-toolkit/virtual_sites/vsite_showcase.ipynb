{
 "cells": [
  {
   "cell_type": "markdown",
   "metadata": {},
   "source": [
    "# Virtual Sites Showcase"
   ]
  },
  {
   "cell_type": "markdown",
   "metadata": {},
   "source": [
    "The OpenFF Toolkit supports specifying virtual sites in a SMIRNOFF force field. This approach treats virtual sites as a feature of the potential energy function, rather than of the chemical system, cleanly seperating the system being modelled from the model itself. This notebook demonstrates the specification and use of virtual sites and compares a SMIRNOFF implementation of TIP5P water to the implementation distributed with OpenMM."
   ]
  },
  {
   "cell_type": "markdown",
   "metadata": {},
   "source": [
    "## Setup"
   ]
  },
  {
   "cell_type": "code",
   "execution_count": 1,
   "metadata": {
    "execution": {
     "iopub.execute_input": "2025-09-30T00:08:33.025104Z",
     "iopub.status.busy": "2025-09-30T00:08:33.024918Z",
     "iopub.status.idle": "2025-09-30T00:08:39.967284Z",
     "shell.execute_reply": "2025-09-30T00:08:39.966676Z"
    },
    "pycharm": {
     "name": "#%%\n"
    }
   },
   "outputs": [],
   "source": [
    "import time\n",
    "\n",
    "import numpy\n",
    "import openmm\n",
    "import openmm.app\n",
    "import openmm.unit\n",
    "from openff.interchange import Interchange\n",
    "from openff.units import Quantity, unit\n",
    "\n",
    "from openff.toolkit import ForceField, Molecule, Topology"
   ]
  },
  {
   "cell_type": "code",
   "execution_count": 2,
   "metadata": {
    "execution": {
     "iopub.execute_input": "2025-09-30T00:08:39.969893Z",
     "iopub.status.busy": "2025-09-30T00:08:39.969473Z",
     "iopub.status.idle": "2025-09-30T00:08:39.981924Z",
     "shell.execute_reply": "2025-09-30T00:08:39.979481Z"
    }
   },
   "outputs": [],
   "source": [
    "def prepare_simulation(interchange: Interchange) -> openmm.app.Simulation:\n",
    "    \"\"\"Propagate an OpenMM System with Langevin dynamics.\"\"\"\n",
    "    time_step = 2 * openmm.unit.femtoseconds\n",
    "    temperature = 300 * openmm.unit.kelvin\n",
    "    friction = 1 / openmm.unit.picosecond\n",
    "    integrator = openmm.LangevinIntegrator(temperature, friction, time_step)\n",
    "\n",
    "    trj_freq, data_freq = 100, 100\n",
    "\n",
    "    simulation = interchange.to_openmm_simulation(integrator=integrator)\n",
    "\n",
    "    # It's important to run energy minimization before computing velocities; otherwise the initial\n",
    "    # velocities of virtual sites may be too high as a result of high initial forces, causing a crash\n",
    "    # See https://github.com/openmm/openmm/issues/3736#issuecomment-1217250635\n",
    "    simulation.minimizeEnergy()\n",
    "\n",
    "    # Since we placed all virtual sites at [0.0, 0.0, 0.0], compute virtual site positions to avoid a crash\n",
    "    simulation.context.computeVirtualSites()\n",
    "\n",
    "    simulation.context.setVelocitiesToTemperature(temperature)\n",
    "\n",
    "    pdb_reporter = openmm.app.PDBReporter(\"trajectory.pdb\", trj_freq)\n",
    "    state_data_reporter = openmm.app.StateDataReporter(\n",
    "        \"data.csv\",\n",
    "        data_freq,\n",
    "        step=True,\n",
    "        potentialEnergy=True,\n",
    "        temperature=True,\n",
    "        density=True,\n",
    "    )\n",
    "    simulation.reporters.append(pdb_reporter)\n",
    "    simulation.reporters.append(state_data_reporter)\n",
    "\n",
    "    return simulation\n",
    "\n",
    "\n",
    "def run_simulation(simulation: openmm.app.Simulation, num_steps: int = 1000):\n",
    "    print(\"Starting simulation\")\n",
    "    start = time.process_time()\n",
    "\n",
    "    simulation.step(num_steps)\n",
    "\n",
    "    end = time.process_time()\n",
    "    print(\"Elapsed time %.2f seconds\" % (end - start))\n",
    "    print(\"Done!\")"
   ]
  },
  {
   "cell_type": "markdown",
   "metadata": {
    "pycharm": {
     "name": "#%% md\n"
    }
   },
   "source": [
    "## Part 1: Run a short simulation with a virtual sites on sulfur lone pair and chloride groups"
   ]
  },
  {
   "cell_type": "markdown",
   "metadata": {},
   "source": [
    "This part demonstrates the specification of virtual sites in the SMIRNOFF format.\n",
    "\n",
    "First, we write the definition of a SMIRNOFF force field with virtual sites in OFFXML format. We will append this force field to the OpenFF Sage small molecule force field, so it only needs to specify the virtual sites we want to supplement Sage with. For details, see the [SMIRNOFF specification].\n",
    "\n",
    "[SMIRNOFF specification]: https://openforcefield.github.io/standards/standards/smirnoff/#virtualsites-virtual-sites-for-off-atom-charges"
   ]
  },
  {
   "cell_type": "code",
   "execution_count": 3,
   "metadata": {
    "execution": {
     "iopub.execute_input": "2025-09-30T00:08:39.985759Z",
     "iopub.status.busy": "2025-09-30T00:08:39.983860Z",
     "iopub.status.idle": "2025-09-30T00:08:40.399108Z",
     "shell.execute_reply": "2025-09-30T00:08:40.398517Z"
    },
    "pycharm": {
     "name": "#%%\n"
    }
   },
   "outputs": [],
   "source": [
    "vsite_offxml = \"\"\"<?xml version=\"1.0\" encoding=\"utf-8\"?>\n",
    "<SMIRNOFF version=\"0.3\" aromaticity_model=\"OEAroModel_MDL\">\n",
    "    <VirtualSites version=\"0.3\">\n",
    "        <VirtualSite\n",
    "            type=\"DivalentLonePair\"\n",
    "            name=\"EP\"\n",
    "            smirks=\"[*:2]-[#16X2:1]-[*:3]\"\n",
    "            distance=\"0.70 * angstrom\"\n",
    "            charge_increment1=\"0.1205*elementary_charge\"\n",
    "            charge_increment2=\"0.0*elementary_charge\"\n",
    "            charge_increment3=\"0.1205*elementary_charge\"\n",
    "            sigma=\"0.1*angstrom\"\n",
    "            epsilon=\"0.0*kilocalories_per_mole\"\n",
    "            outOfPlaneAngle=\"54.71384225*degree\"\n",
    "            match=\"all_permutations\" >\n",
    "        </VirtualSite>\n",
    "        <VirtualSite\n",
    "            type=\"BondCharge\"\n",
    "            name=\"EP\"\n",
    "            smirks=\"[*:2][Cl:1]\"\n",
    "            distance=\"0.4*angstrom\"\n",
    "            charge_increment1=\"0.2*elementary_charge\"\n",
    "            charge_increment2=\"0.0*elementary_charge\"\n",
    "            sigma=\"0.1*angstrom\"\n",
    "            epsilon=\"0.05*kilocalories_per_mole\"\n",
    "            match=\"all_permutations\" >\n",
    "        </VirtualSite>\n",
    "        <VirtualSite\n",
    "            type=\"BondCharge\"\n",
    "            name=\"EP\"\n",
    "            smirks=\"[*:2][F:1]\"\n",
    "            distance=\"0.4*angstrom\"\n",
    "            charge_increment1=\"0.2*elementary_charge\"\n",
    "            charge_increment2=\"0.0*elementary_charge\"\n",
    "            sigma=\"0.1*angstrom\"\n",
    "            epsilon=\"0.05*kilocalories_per_mole\"\n",
    "            match=\"all_permutations\" >\n",
    "        </VirtualSite>\n",
    "    </VirtualSites>\n",
    "</SMIRNOFF>\n",
    "\"\"\"\n",
    "\n",
    "# Load Sage and append our virtual sites\n",
    "force_field = ForceField(\"openff-2.2.0.offxml\", vsite_offxml)"
   ]
  },
  {
   "cell_type": "markdown",
   "metadata": {},
   "source": [
    "Load a molecule including a divalent sulfur atom:"
   ]
  },
  {
   "cell_type": "code",
   "execution_count": 4,
   "metadata": {
    "execution": {
     "iopub.execute_input": "2025-09-30T00:08:40.401670Z",
     "iopub.status.busy": "2025-09-30T00:08:40.401316Z",
     "iopub.status.idle": "2025-09-30T00:08:40.530935Z",
     "shell.execute_reply": "2025-09-30T00:08:40.530333Z"
    },
    "pycharm": {
     "name": "#%%\n"
    }
   },
   "outputs": [
    {
     "data": {
      "image/svg+xml": [
       "<svg xmlns=\"http://www.w3.org/2000/svg\" xmlns:rdkit=\"http://www.rdkit.org/xml\" xmlns:xlink=\"http://www.w3.org/1999/xlink\" version=\"1.1\" baseProfile=\"full\" xml:space=\"preserve\" width=\"500px\" height=\"300px\" viewBox=\"0 0 500 300\">\n",
       "<!-- END OF HEADER -->\n",
       "<rect style=\"opacity:1.0;fill:#FFFFFF;stroke:none\" width=\"500.0\" height=\"300.0\" x=\"0.0\" y=\"0.0\"> </rect>\n",
       "<path class=\"bond-0 atom-0 atom-1\" d=\"M 354.5,177.7 L 354.5,216.9\" style=\"fill:none;fill-rule:evenodd;stroke:#000000;stroke-width:2.0px;stroke-linecap:butt;stroke-linejoin:miter;stroke-opacity:1\"/>\n",
       "<path class=\"bond-0 atom-0 atom-1\" d=\"M 348.6,181.1 L 348.7,213.6\" style=\"fill:none;fill-rule:evenodd;stroke:#000000;stroke-width:2.0px;stroke-linecap:butt;stroke-linejoin:miter;stroke-opacity:1\"/>\n",
       "<path class=\"bond-1 atom-1 atom-2\" d=\"M 354.5,216.9 L 320.7,236.7\" style=\"fill:none;fill-rule:evenodd;stroke:#000000;stroke-width:2.0px;stroke-linecap:butt;stroke-linejoin:miter;stroke-opacity:1\"/>\n",
       "<path class=\"bond-2 atom-2 atom-3\" d=\"M 320.7,236.7 L 320.8,251.7\" style=\"fill:none;fill-rule:evenodd;stroke:#000000;stroke-width:2.0px;stroke-linecap:butt;stroke-linejoin:miter;stroke-opacity:1\"/>\n",
       "<path class=\"bond-2 atom-2 atom-3\" d=\"M 320.8,251.7 L 320.8,266.7\" style=\"fill:none;fill-rule:evenodd;stroke:#00CC00;stroke-width:2.0px;stroke-linecap:butt;stroke-linejoin:miter;stroke-opacity:1\"/>\n",
       "<path class=\"bond-3 atom-2 atom-4\" d=\"M 320.7,236.7 L 286.6,217.2\" style=\"fill:none;fill-rule:evenodd;stroke:#000000;stroke-width:2.0px;stroke-linecap:butt;stroke-linejoin:miter;stroke-opacity:1\"/>\n",
       "<path class=\"bond-3 atom-2 atom-4\" d=\"M 320.7,229.9 L 292.4,213.8\" style=\"fill:none;fill-rule:evenodd;stroke:#000000;stroke-width:2.0px;stroke-linecap:butt;stroke-linejoin:miter;stroke-opacity:1\"/>\n",
       "<path class=\"bond-4 atom-4 atom-5\" d=\"M 286.6,217.2 L 286.5,178.0\" style=\"fill:none;fill-rule:evenodd;stroke:#000000;stroke-width:2.0px;stroke-linecap:butt;stroke-linejoin:miter;stroke-opacity:1\"/>\n",
       "<path class=\"bond-5 atom-5 atom-6\" d=\"M 286.5,178.0 L 320.4,158.2\" style=\"fill:none;fill-rule:evenodd;stroke:#000000;stroke-width:2.0px;stroke-linecap:butt;stroke-linejoin:miter;stroke-opacity:1\"/>\n",
       "<path class=\"bond-5 atom-5 atom-6\" d=\"M 292.4,181.3 L 320.4,164.9\" style=\"fill:none;fill-rule:evenodd;stroke:#000000;stroke-width:2.0px;stroke-linecap:butt;stroke-linejoin:miter;stroke-opacity:1\"/>\n",
       "<path class=\"bond-6 atom-6 atom-7\" d=\"M 320.4,158.2 L 320.7,119.4\" style=\"fill:none;fill-rule:evenodd;stroke:#000000;stroke-width:2.0px;stroke-linecap:butt;stroke-linejoin:miter;stroke-opacity:1\"/>\n",
       "<path class=\"bond-7 atom-7 atom-8\" d=\"M 320.7,122.7 L 334.0,115.1\" style=\"fill:none;fill-rule:evenodd;stroke:#000000;stroke-width:2.0px;stroke-linecap:butt;stroke-linejoin:miter;stroke-opacity:1\"/>\n",
       "<path class=\"bond-7 atom-7 atom-8\" d=\"M 334.0,115.1 L 347.3,107.5\" style=\"fill:none;fill-rule:evenodd;stroke:#FF0000;stroke-width:2.0px;stroke-linecap:butt;stroke-linejoin:miter;stroke-opacity:1\"/>\n",
       "<path class=\"bond-7 atom-7 atom-8\" d=\"M 317.8,117.7 L 331.1,110.1\" style=\"fill:none;fill-rule:evenodd;stroke:#000000;stroke-width:2.0px;stroke-linecap:butt;stroke-linejoin:miter;stroke-opacity:1\"/>\n",
       "<path class=\"bond-7 atom-7 atom-8\" d=\"M 331.1,110.1 L 344.4,102.5\" style=\"fill:none;fill-rule:evenodd;stroke:#FF0000;stroke-width:2.0px;stroke-linecap:butt;stroke-linejoin:miter;stroke-opacity:1\"/>\n",
       "<path class=\"bond-8 atom-7 atom-9\" d=\"M 320.7,119.4 L 287.6,100.0\" style=\"fill:none;fill-rule:evenodd;stroke:#000000;stroke-width:2.0px;stroke-linecap:butt;stroke-linejoin:miter;stroke-opacity:1\"/>\n",
       "<path class=\"bond-9 atom-9 atom-10\" d=\"M 287.6,100.0 L 273.5,108.0\" style=\"fill:none;fill-rule:evenodd;stroke:#000000;stroke-width:2.0px;stroke-linecap:butt;stroke-linejoin:miter;stroke-opacity:1\"/>\n",
       "<path class=\"bond-9 atom-9 atom-10\" d=\"M 273.5,108.0 L 259.4,115.9\" style=\"fill:none;fill-rule:evenodd;stroke:#CCCC00;stroke-width:2.0px;stroke-linecap:butt;stroke-linejoin:miter;stroke-opacity:1\"/>\n",
       "<path class=\"bond-10 atom-10 atom-11\" d=\"M 246.1,115.9 L 232.2,108.0\" style=\"fill:none;fill-rule:evenodd;stroke:#CCCC00;stroke-width:2.0px;stroke-linecap:butt;stroke-linejoin:miter;stroke-opacity:1\"/>\n",
       "<path class=\"bond-10 atom-10 atom-11\" d=\"M 232.2,108.0 L 218.3,100.1\" style=\"fill:none;fill-rule:evenodd;stroke:#000000;stroke-width:2.0px;stroke-linecap:butt;stroke-linejoin:miter;stroke-opacity:1\"/>\n",
       "<path class=\"bond-11 atom-11 atom-12\" d=\"M 218.3,100.1 L 218.2,60.8\" style=\"fill:none;fill-rule:evenodd;stroke:#000000;stroke-width:2.0px;stroke-linecap:butt;stroke-linejoin:miter;stroke-opacity:1\"/>\n",
       "<path class=\"bond-11 atom-11 atom-12\" d=\"M 212.4,96.7 L 212.4,64.2\" style=\"fill:none;fill-rule:evenodd;stroke:#000000;stroke-width:2.0px;stroke-linecap:butt;stroke-linejoin:miter;stroke-opacity:1\"/>\n",
       "<path class=\"bond-12 atom-12 atom-13\" d=\"M 218.2,60.8 L 205.7,53.5\" style=\"fill:none;fill-rule:evenodd;stroke:#000000;stroke-width:2.0px;stroke-linecap:butt;stroke-linejoin:miter;stroke-opacity:1\"/>\n",
       "<path class=\"bond-12 atom-12 atom-13\" d=\"M 205.7,53.5 L 193.2,46.2\" style=\"fill:none;fill-rule:evenodd;stroke:#FF0000;stroke-width:2.0px;stroke-linecap:butt;stroke-linejoin:miter;stroke-opacity:1\"/>\n",
       "<path class=\"bond-13 atom-13 atom-14\" d=\"M 175.3,46.2 L 162.8,53.4\" style=\"fill:none;fill-rule:evenodd;stroke:#FF0000;stroke-width:2.0px;stroke-linecap:butt;stroke-linejoin:miter;stroke-opacity:1\"/>\n",
       "<path class=\"bond-13 atom-13 atom-14\" d=\"M 162.8,53.4 L 150.3,60.6\" style=\"fill:none;fill-rule:evenodd;stroke:#000000;stroke-width:2.0px;stroke-linecap:butt;stroke-linejoin:miter;stroke-opacity:1\"/>\n",
       "<path class=\"bond-14 atom-14 atom-15\" d=\"M 150.3,60.6 L 137.9,61.7\" style=\"fill:none;fill-rule:evenodd;stroke:#000000;stroke-width:2.0px;stroke-linecap:butt;stroke-linejoin:miter;stroke-opacity:1\"/>\n",
       "<path class=\"bond-14 atom-14 atom-15\" d=\"M 137.9,61.7 L 125.6,62.9\" style=\"fill:none;fill-rule:evenodd;stroke:#33CCCC;stroke-width:2.0px;stroke-linecap:butt;stroke-linejoin:miter;stroke-opacity:1\"/>\n",
       "<path class=\"bond-15 atom-14 atom-16\" d=\"M 150.3,60.6 L 145.7,46.8\" style=\"fill:none;fill-rule:evenodd;stroke:#000000;stroke-width:2.0px;stroke-linecap:butt;stroke-linejoin:miter;stroke-opacity:1\"/>\n",
       "<path class=\"bond-15 atom-14 atom-16\" d=\"M 145.7,46.8 L 141.2,32.9\" style=\"fill:none;fill-rule:evenodd;stroke:#33CCCC;stroke-width:2.0px;stroke-linecap:butt;stroke-linejoin:miter;stroke-opacity:1\"/>\n",
       "<path class=\"bond-16 atom-14 atom-17\" d=\"M 150.3,60.6 L 150.1,99.9\" style=\"fill:none;fill-rule:evenodd;stroke:#000000;stroke-width:2.0px;stroke-linecap:butt;stroke-linejoin:miter;stroke-opacity:1\"/>\n",
       "<path class=\"bond-17 atom-17 atom-18\" d=\"M 150.1,99.9 L 184.2,119.6\" style=\"fill:none;fill-rule:evenodd;stroke:#000000;stroke-width:2.0px;stroke-linecap:butt;stroke-linejoin:miter;stroke-opacity:1\"/>\n",
       "<path class=\"bond-18 atom-6 atom-0\" d=\"M 320.4,158.2 L 354.5,177.7\" style=\"fill:none;fill-rule:evenodd;stroke:#000000;stroke-width:2.0px;stroke-linecap:butt;stroke-linejoin:miter;stroke-opacity:1\"/>\n",
       "<path class=\"bond-19 atom-18 atom-11\" d=\"M 184.2,119.6 L 218.3,100.1\" style=\"fill:none;fill-rule:evenodd;stroke:#000000;stroke-width:2.0px;stroke-linecap:butt;stroke-linejoin:miter;stroke-opacity:1\"/>\n",
       "<path class=\"bond-20 atom-0 atom-19\" d=\"M 354.5,177.7 L 380.5,162.5\" style=\"fill:none;fill-rule:evenodd;stroke:#000000;stroke-width:2.0px;stroke-linecap:butt;stroke-linejoin:miter;stroke-opacity:1\"/>\n",
       "<path class=\"bond-21 atom-1 atom-20\" d=\"M 354.5,216.9 L 380.8,231.9\" style=\"fill:none;fill-rule:evenodd;stroke:#000000;stroke-width:2.0px;stroke-linecap:butt;stroke-linejoin:miter;stroke-opacity:1\"/>\n",
       "<path class=\"bond-22 atom-4 atom-21\" d=\"M 286.6,217.2 L 260.6,232.3\" style=\"fill:none;fill-rule:evenodd;stroke:#000000;stroke-width:2.0px;stroke-linecap:butt;stroke-linejoin:miter;stroke-opacity:1\"/>\n",
       "<path class=\"bond-23 atom-5 atom-22\" d=\"M 286.5,178.0 L 260.3,162.9\" style=\"fill:none;fill-rule:evenodd;stroke:#000000;stroke-width:2.0px;stroke-linecap:butt;stroke-linejoin:miter;stroke-opacity:1\"/>\n",
       "<path class=\"bond-24 atom-9 atom-23\" d=\"M 287.6,100.0 L 274.6,76.2\" style=\"fill:none;fill-rule:evenodd;stroke:#000000;stroke-width:2.0px;stroke-linecap:butt;stroke-linejoin:miter;stroke-opacity:1\"/>\n",
       "<path class=\"bond-25 atom-9 atom-24\" d=\"M 287.6,100.0 L 301.9,75.8\" style=\"fill:none;fill-rule:evenodd;stroke:#000000;stroke-width:2.0px;stroke-linecap:butt;stroke-linejoin:miter;stroke-opacity:1\"/>\n",
       "<path class=\"bond-26 atom-12 atom-25\" d=\"M 218.2,60.8 L 243.0,46.0\" style=\"fill:none;fill-rule:evenodd;stroke:#000000;stroke-width:2.0px;stroke-linecap:butt;stroke-linejoin:miter;stroke-opacity:1\"/>\n",
       "<path class=\"bond-27 atom-17 atom-26\" d=\"M 150.1,99.9 L 138.8,125.9\" style=\"fill:none;fill-rule:evenodd;stroke:#000000;stroke-width:2.0px;stroke-linecap:butt;stroke-linejoin:miter;stroke-opacity:1\"/>\n",
       "<path class=\"bond-28 atom-17 atom-27\" d=\"M 150.1,99.9 L 119.2,95.1\" style=\"fill:none;fill-rule:evenodd;stroke:#000000;stroke-width:2.0px;stroke-linecap:butt;stroke-linejoin:miter;stroke-opacity:1\"/>\n",
       "<path class=\"bond-29 atom-18 atom-28\" d=\"M 184.2,119.6 L 202.8,140.1\" style=\"fill:none;fill-rule:evenodd;stroke:#000000;stroke-width:2.0px;stroke-linecap:butt;stroke-linejoin:miter;stroke-opacity:1\"/>\n",
       "<path class=\"bond-30 atom-18 atom-29\" d=\"M 184.2,119.6 L 168.6,141.7\" style=\"fill:none;fill-rule:evenodd;stroke:#000000;stroke-width:2.0px;stroke-linecap:butt;stroke-linejoin:miter;stroke-opacity:1\"/>\n",
       "<path d=\"M 320.7,121.3 L 320.7,119.4 L 319.0,118.4\" style=\"fill:none;stroke:#000000;stroke-width:2.0px;stroke-linecap:butt;stroke-linejoin:miter;stroke-miterlimit:10;stroke-opacity:1;\"/>\n",
       "<path class=\"atom-3\" d=\"M 314.4 276.4 Q 314.4 272.3, 316.3 270.1 Q 318.3 267.9, 322.0 267.9 Q 325.4 267.9, 327.2 270.4 L 325.7 271.6 Q 324.4 269.9, 322.0 269.9 Q 319.5 269.9, 318.1 271.6 Q 316.8 273.2, 316.8 276.4 Q 316.8 279.7, 318.2 281.4 Q 319.6 283.1, 322.2 283.1 Q 324.1 283.1, 326.2 282.0 L 326.9 283.8 Q 326.0 284.3, 324.7 284.7 Q 323.4 285.0, 321.9 285.0 Q 318.3 285.0, 316.3 282.8 Q 314.4 280.6, 314.4 276.4 \" fill=\"#00CC00\"/>\n",
       "<path class=\"atom-3\" d=\"M 328.9 266.9 L 331.1 266.9 L 331.1 284.8 L 328.9 284.8 L 328.9 266.9 \" fill=\"#00CC00\"/>\n",
       "<path class=\"atom-8\" d=\"M 347.1 100.0 Q 347.1 96.0, 349.1 93.7 Q 351.1 91.5, 354.7 91.5 Q 358.4 91.5, 360.4 93.7 Q 362.4 96.0, 362.4 100.0 Q 362.4 104.0, 360.4 106.3 Q 358.4 108.6, 354.7 108.6 Q 351.1 108.6, 349.1 106.3 Q 347.1 104.0, 347.1 100.0 M 354.7 106.7 Q 357.3 106.7, 358.6 105.0 Q 360.0 103.3, 360.0 100.0 Q 360.0 96.7, 358.6 95.0 Q 357.3 93.4, 354.7 93.4 Q 352.2 93.4, 350.8 95.0 Q 349.5 96.7, 349.5 100.0 Q 349.5 103.3, 350.8 105.0 Q 352.2 106.7, 354.7 106.7 \" fill=\"#FF0000\"/>\n",
       "<path class=\"atom-10\" d=\"M 248.1 125.4 Q 248.2 125.5, 249.0 125.8 Q 249.8 126.1, 250.6 126.3 Q 251.5 126.5, 252.4 126.5 Q 253.9 126.5, 254.9 125.8 Q 255.8 125.0, 255.8 123.7 Q 255.8 122.7, 255.3 122.2 Q 254.9 121.6, 254.2 121.3 Q 253.4 121.0, 252.3 120.7 Q 250.8 120.2, 249.9 119.8 Q 249.0 119.4, 248.4 118.5 Q 247.8 117.6, 247.8 116.1 Q 247.8 114.0, 249.2 112.7 Q 250.6 111.4, 253.4 111.4 Q 255.4 111.4, 257.6 112.3 L 257.0 114.1 Q 255.0 113.3, 253.5 113.3 Q 251.9 113.3, 251.0 114.0 Q 250.1 114.6, 250.1 115.8 Q 250.1 116.7, 250.6 117.2 Q 251.0 117.8, 251.7 118.1 Q 252.4 118.4, 253.5 118.7 Q 255.0 119.2, 255.9 119.7 Q 256.8 120.1, 257.4 121.1 Q 258.1 122.0, 258.1 123.7 Q 258.1 126.0, 256.6 127.2 Q 255.0 128.4, 252.5 128.4 Q 251.0 128.4, 249.8 128.1 Q 248.7 127.8, 247.4 127.3 L 248.1 125.4 \" fill=\"#CCCC00\"/>\n",
       "<path class=\"atom-13\" d=\"M 176.6 41.1 Q 176.6 37.1, 178.6 34.8 Q 180.6 32.6, 184.3 32.6 Q 187.9 32.6, 189.9 34.8 Q 191.9 37.1, 191.9 41.1 Q 191.9 45.1, 189.9 47.4 Q 187.9 49.7, 184.3 49.7 Q 180.6 49.7, 178.6 47.4 Q 176.6 45.1, 176.6 41.1 M 184.3 47.8 Q 186.8 47.8, 188.2 46.1 Q 189.5 44.4, 189.5 41.1 Q 189.5 37.8, 188.2 36.2 Q 186.8 34.5, 184.3 34.5 Q 181.7 34.5, 180.3 36.1 Q 179.0 37.8, 179.0 41.1 Q 179.0 44.4, 180.3 46.1 Q 181.7 47.8, 184.3 47.8 \" fill=\"#FF0000\"/>\n",
       "<path class=\"atom-15\" d=\"M 114.4 55.1 L 124.3 55.1 L 124.3 57.0 L 116.6 57.0 L 116.6 62.1 L 123.5 62.1 L 123.5 64.0 L 116.6 64.0 L 116.6 71.8 L 114.4 71.8 L 114.4 55.1 \" fill=\"#33CCCC\"/>\n",
       "<path class=\"atom-16\" d=\"M 133.1 15.0 L 143.0 15.0 L 143.0 16.9 L 135.3 16.9 L 135.3 22.0 L 142.2 22.0 L 142.2 23.9 L 135.3 23.9 L 135.3 31.7 L 133.1 31.7 L 133.1 15.0 \" fill=\"#33CCCC\"/>\n",
       "<path class=\"atom-19\" d=\"M 381.8 149.7 L 384.0 149.7 L 384.0 156.8 L 392.6 156.8 L 392.6 149.7 L 394.8 149.7 L 394.8 166.3 L 392.6 166.3 L 392.6 158.6 L 384.0 158.6 L 384.0 166.3 L 381.8 166.3 L 381.8 149.7 \" fill=\"#000000\"/>\n",
       "<path class=\"atom-20\" d=\"M 382.1 228.1 L 384.3 228.1 L 384.3 235.2 L 392.8 235.2 L 392.8 228.1 L 395.1 228.1 L 395.1 244.7 L 392.8 244.7 L 392.8 237.0 L 384.3 237.0 L 384.3 244.7 L 382.1 244.7 L 382.1 228.1 \" fill=\"#000000\"/>\n",
       "<path class=\"atom-21\" d=\"M 246.2 228.6 L 248.5 228.6 L 248.5 235.6 L 257.0 235.6 L 257.0 228.6 L 259.3 228.6 L 259.3 245.2 L 257.0 245.2 L 257.0 237.5 L 248.5 237.5 L 248.5 245.2 L 246.2 245.2 L 246.2 228.6 \" fill=\"#000000\"/>\n",
       "<path class=\"atom-22\" d=\"M 246.0 150.1 L 248.2 150.1 L 248.2 157.2 L 256.8 157.2 L 256.8 150.1 L 259.0 150.1 L 259.0 166.8 L 256.8 166.8 L 256.8 159.1 L 248.2 159.1 L 248.2 166.8 L 246.0 166.8 L 246.0 150.1 \" fill=\"#000000\"/>\n",
       "<path class=\"atom-23\" d=\"M 262.8 58.3 L 265.1 58.3 L 265.1 65.4 L 273.6 65.4 L 273.6 58.3 L 275.9 58.3 L 275.9 74.9 L 273.6 74.9 L 273.6 67.2 L 265.1 67.2 L 265.1 74.9 L 262.8 74.9 L 262.8 58.3 \" fill=\"#000000\"/>\n",
       "<path class=\"atom-24\" d=\"M 301.1 57.9 L 303.3 57.9 L 303.3 65.0 L 311.8 65.0 L 311.8 57.9 L 314.1 57.9 L 314.1 74.5 L 311.8 74.5 L 311.8 66.8 L 303.3 66.8 L 303.3 74.5 L 301.1 74.5 L 301.1 57.9 \" fill=\"#000000\"/>\n",
       "<path class=\"atom-25\" d=\"M 244.2 33.0 L 246.5 33.0 L 246.5 40.1 L 255.0 40.1 L 255.0 33.0 L 257.3 33.0 L 257.3 49.6 L 255.0 49.6 L 255.0 41.9 L 246.5 41.9 L 246.5 49.6 L 244.2 49.6 L 244.2 33.0 \" fill=\"#000000\"/>\n",
       "<path class=\"atom-26\" d=\"M 128.1 127.2 L 130.4 127.2 L 130.4 134.2 L 138.9 134.2 L 138.9 127.2 L 141.1 127.2 L 141.1 143.8 L 138.9 143.8 L 138.9 136.1 L 130.4 136.1 L 130.4 143.8 L 128.1 143.8 L 128.1 127.2 \" fill=\"#000000\"/>\n",
       "<path class=\"atom-27\" d=\"M 104.9 85.6 L 107.2 85.6 L 107.2 92.7 L 115.7 92.7 L 115.7 85.6 L 117.9 85.6 L 117.9 102.3 L 115.7 102.3 L 115.7 94.6 L 107.2 94.6 L 107.2 102.3 L 104.9 102.3 L 104.9 85.6 \" fill=\"#000000\"/>\n",
       "<path class=\"atom-28\" d=\"M 204.1 140.4 L 206.4 140.4 L 206.4 147.4 L 214.9 147.4 L 214.9 140.4 L 217.1 140.4 L 217.1 157.0 L 214.9 157.0 L 214.9 149.3 L 206.4 149.3 L 206.4 157.0 L 204.1 157.0 L 204.1 140.4 \" fill=\"#000000\"/>\n",
       "<path class=\"atom-29\" d=\"M 155.3 142.9 L 157.5 142.9 L 157.5 150.0 L 166.0 150.0 L 166.0 142.9 L 168.3 142.9 L 168.3 159.6 L 166.0 159.6 L 166.0 151.9 L 157.5 151.9 L 157.5 159.6 L 155.3 159.6 L 155.3 142.9 \" fill=\"#000000\"/>\n",
       "</svg>"
      ],
      "text/plain": [
       "<IPython.core.display.SVG object>"
      ]
     },
     "execution_count": 4,
     "metadata": {},
     "output_type": "execute_result"
    }
   ],
   "source": [
    "molecule = Molecule.from_smiles(\"c1cc(Cl)ccc1C(=O)CS[C]1=CO[C](F)(F)CC1\")\n",
    "molecule.generate_conformers(n_conformers=1)\n",
    "molecule.visualize()"
   ]
  },
  {
   "cell_type": "markdown",
   "metadata": {},
   "source": [
    "Create an Interchange object, which parametrizes the molecule and stores information needed for OpenMM (and other engines) to understand virtual sites as applied by a force field:"
   ]
  },
  {
   "cell_type": "code",
   "execution_count": 5,
   "metadata": {
    "execution": {
     "iopub.execute_input": "2025-09-30T00:08:40.533020Z",
     "iopub.status.busy": "2025-09-30T00:08:40.532803Z",
     "iopub.status.idle": "2025-09-30T00:11:51.802230Z",
     "shell.execute_reply": "2025-09-30T00:11:51.801483Z"
    },
    "pycharm": {
     "name": "#%%\n"
    }
   },
   "outputs": [
    {
     "name": "stdout",
     "output_type": "stream",
     "text": [
      "There are 5 virtual particles in this topology.\n"
     ]
    }
   ],
   "source": [
    "interchange = force_field.create_interchange(topology=molecule.to_topology())\n",
    "\n",
    "assert \"VirtualSites\" in interchange.collections.keys()\n",
    "\n",
    "n_virtual_sites = len(interchange.collections[\"VirtualSites\"].key_map)\n",
    "\n",
    "print(f\"There are {n_virtual_sites} virtual particles in this topology.\")"
   ]
  },
  {
   "cell_type": "markdown",
   "metadata": {},
   "source": [
    "*This may take a moment, as it must compute partial charges for the molecule*"
   ]
  },
  {
   "cell_type": "markdown",
   "metadata": {},
   "source": [
    "At this point, each of our OpenFF objects have processed and stored all of the information needed to run a simulation in OpenMM. Different [OpenMM objects](https://docs.openforcefield.org/projects/interchange/en/stable/using/output.html#openmm) can be created from an `Interchange` object:\n",
    "\n",
    "* `openmm.System`: `Interchange.to_openmm()`\n",
    "* `openmm.app.Topology`: `Interchange.to_openmm_topology()`\n",
    "* `openmm.app.Simulation`: `Interchange.to_openmm_simulation()`\n",
    "\n",
    "For simplicity, we'll just create a `Simulation` object with the function we defined above since that's all we need to run a simulation in OpenMM:"
   ]
  },
  {
   "cell_type": "code",
   "execution_count": 6,
   "metadata": {
    "execution": {
     "iopub.execute_input": "2025-09-30T00:11:51.804707Z",
     "iopub.status.busy": "2025-09-30T00:11:51.804477Z",
     "iopub.status.idle": "2025-09-30T00:11:55.004334Z",
     "shell.execute_reply": "2025-09-30T00:11:55.003797Z"
    },
    "pycharm": {
     "name": "#%%\n"
    },
    "scrolled": true
   },
   "outputs": [
    {
     "name": "stdout",
     "output_type": "stream",
     "text": [
      "Starting simulation\n"
     ]
    },
    {
     "name": "stdout",
     "output_type": "stream",
     "text": [
      "Elapsed time 2.14 seconds\n",
      "Done!\n"
     ]
    }
   ],
   "source": [
    "simulation = prepare_simulation(interchange)\n",
    "\n",
    "run_simulation(simulation, 10000)"
   ]
  },
  {
   "cell_type": "markdown",
   "metadata": {},
   "source": [
    "We can visualize the resulting trajectory:"
   ]
  },
  {
   "cell_type": "code",
   "execution_count": 7,
   "metadata": {
    "execution": {
     "iopub.execute_input": "2025-09-30T00:11:55.006486Z",
     "iopub.status.busy": "2025-09-30T00:11:55.006304Z",
     "iopub.status.idle": "2025-09-30T00:11:55.195931Z",
     "shell.execute_reply": "2025-09-30T00:11:55.193334Z"
    },
    "scrolled": true
   },
   "outputs": [
    {
     "data": {
      "application/vnd.jupyter.widget-view+json": {
       "model_id": "3be43ece49ee4865add81970db3c4505",
       "version_major": 2,
       "version_minor": 0
      },
      "text/plain": []
     },
     "metadata": {},
     "output_type": "display_data"
    },
    {
     "data": {
      "application/vnd.jupyter.widget-view+json": {
       "model_id": "f1d6475c155a453088a768812dde95be",
       "version_major": 2,
       "version_minor": 0
      },
      "text/plain": [
       "NGLWidget(max_frame=99)"
      ]
     },
     "metadata": {},
     "output_type": "display_data"
    }
   ],
   "source": [
    "import mdtraj\n",
    "\n",
    "# Visualize the trajectory. There will probably be errant bonds drawn between atoms and virtual sites.\n",
    "import nglview\n",
    "\n",
    "nglview.show_mdtraj(mdtraj.load(\"trajectory.pdb\"))"
   ]
  },
  {
   "cell_type": "markdown",
   "metadata": {
    "pycharm": {
     "name": "#%% md\n"
    }
   },
   "source": [
    "## Part 2: Numerical comparison of OpenMM's TIP5P and an equivalent SMIRNOFF implementation"
   ]
  },
  {
   "cell_type": "markdown",
   "metadata": {
    "pycharm": {
     "name": "#%% md\n"
    }
   },
   "source": [
    "We will now parametrize a water box with OpenFF/SMIRNOFF and OpenMM implementations of TIP5P water.\n",
    "\n",
    "This code examines the geometry and energy between the two, and examines cases where minimization is performed.\n",
    "\n",
    "The virtual site definitions give rise to small differences in geometry due to how they are defined relative to their parent atoms. OpenMM's force field uses the `openmm.OutOfPlaneSite` class whereas OpenFF's force field uses `openmm.LocalCoordinatesSite`. In each case, these objects are OpenMM objects for use in OpenMM simulations; implementations in other engines are not covered here.\n",
    "\n",
    "Virtual sites are defined geometrically in terms of a single *parent* atom and multiple *orientation* atoms. In water models, the parent atom is oxygen and the orientation atoms are the oxygen and hydrogens; in other chemistries virtual sites may be definited differently. `OutOfPlaneSite` virtual sites' positions are determined based on the positions of the orientation atoms. `LocalCoordinatesSite` virtual sites' positions relative to orientation atoms are fixed in order to adhere to the SMIRNOFF specification.\n",
    "\n",
    "A consequence of this difference is that tiny fluctuations in the molecular geometry cause slightly different coordinates and, therefore, energy evaluations. This can arise from marginally different initial positions or from the dynamics of a simulation, but when averaged over a large number of configurations at equilibrium the descriptions should match. Further nuance is described in the [OpenMM User Guide] and API docs.\n",
    "\n",
    "This example uses water molecules, but both OpenFF and OpenMM infrastructure support a variety of other virtual site definitions for use in other chemistries. One key difference between OpenFF and OpenMM code paths is the bookkeepping of virtual sites relative to atomistic particles. OpenMM interleaves the virtual site particles at the end of _each molecule_, whereas OpenFF places all virtual sites at the end of the `openmm.System`, topology, and related objects.\n",
    "\n",
    "[OpenMM User Guide]: http://docs.openmm.org/8.0.0/userguide/theory/05_other_features.html#virtual-sites"
   ]
  },
  {
   "cell_type": "markdown",
   "metadata": {},
   "source": [
    "First, define some supporting functions:"
   ]
  },
  {
   "cell_type": "code",
   "execution_count": 8,
   "metadata": {
    "execution": {
     "iopub.execute_input": "2025-09-30T00:11:55.198978Z",
     "iopub.status.busy": "2025-09-30T00:11:55.198030Z",
     "iopub.status.idle": "2025-09-30T00:11:55.207651Z",
     "shell.execute_reply": "2025-09-30T00:11:55.207169Z"
    },
    "pycharm": {
     "name": "#%%\n"
    },
    "scrolled": true
   },
   "outputs": [],
   "source": [
    "def _evaluate_positions_and_energy(\n",
    "    openmm_topology: openmm.app.Topology,\n",
    "    openmm_system: openmm.app.Simulation,\n",
    "    particle_positions: openmm.unit.Quantity,\n",
    "    minimize=False,\n",
    ") -> tuple[numpy.ndarray, Quantity]:\n",
    "    \"\"\"\n",
    "    Calculate particle positions and potential energy of the a system.\n",
    "\n",
    "    Parameters\n",
    "    ----------\n",
    "    openmm_topology: openmm.app.Topology, OpenMM Topology\n",
    "    openmm_system: openmm.app.System, OpenMM System\n",
    "    particle_positions: openff.units.Quantity, (N, 3) array of positions in nanometers\n",
    "    minimize: bool, Whether or not to perform an energy minimization before calculating energy\n",
    "\n",
    "    Returns\n",
    "    -------\n",
    "    positions: numpy.ndarray, array of particle positions (as nanometers)\n",
    "    energy: openmm.unit.Quantity, The potential energy of the systems\n",
    "\n",
    "    \"\"\"\n",
    "\n",
    "    integrator = openmm.LangevinIntegrator(\n",
    "        300 * openmm.unit.kelvin,\n",
    "        1 / openmm.unit.picosecond,\n",
    "        0.002 * openmm.unit.picoseconds,\n",
    "    )\n",
    "\n",
    "    sim = openmm.app.Simulation(openmm_topology, openmm_system, integrator)\n",
    "\n",
    "    sim.context.setPositions(particle_positions)\n",
    "    sim.context.applyConstraints(1e-5)\n",
    "\n",
    "    if minimize:\n",
    "        sim.minimizeEnergy()\n",
    "\n",
    "    state = sim.context.getState(getEnergy=True, getPositions=True)\n",
    "    ene = state.getPotentialEnergy()\n",
    "    pos = openmm.unit.Quantity(\n",
    "        [list(xyz) for xyz in state.getPositions().value_in_unit(openmm.unit.nanometer)],\n",
    "        openmm.unit.nanometer,\n",
    "    )\n",
    "\n",
    "    return pos, ene"
   ]
  },
  {
   "cell_type": "code",
   "execution_count": 9,
   "metadata": {
    "execution": {
     "iopub.execute_input": "2025-09-30T00:11:55.210233Z",
     "iopub.status.busy": "2025-09-30T00:11:55.209518Z",
     "iopub.status.idle": "2025-09-30T00:11:55.227007Z",
     "shell.execute_reply": "2025-09-30T00:11:55.226541Z"
    },
    "pycharm": {
     "name": "#%%\n"
    }
   },
   "outputs": [],
   "source": [
    "def build_water_lattice(\n",
    "    num_duplicates: list[int] = [1, 1, 1],\n",
    "    spacing: list[float] = [2.0, 2.0, 2.0],\n",
    ") -> list[Molecule]:\n",
    "    \"\"\"\n",
    "    Generate a box of water molecules as OpenFF Molecules\n",
    "\n",
    "    Parameters\n",
    "    ----------\n",
    "        num_duplicates: list[int], The number of molecules in each dimension\n",
    "        spacing: list[float], The spacing between the molecules in each dimension, implicitly in Angstrom\n",
    "\n",
    "    Returns\n",
    "    -------\n",
    "        water_box: list[Molecule], A list of Molecule objcets with a 3D conformation\n",
    "    \"\"\"\n",
    "    from math import cos, sin\n",
    "\n",
    "    Lx, Ly, Lz = (num_duplicates[i] * spacing[i] for i in range(3))\n",
    "    Z, Y, X = numpy.mgrid[\n",
    "        0 : Lz : spacing[0],\n",
    "        0 : Ly : spacing[1],\n",
    "        0 : Lx : spacing[2],\n",
    "    ]\n",
    "    XYZ = [list(xyz) for xyz in zip(X.flat, Y.flat, Z.flat)]\n",
    "\n",
    "    water_box = list([None] * len(XYZ))\n",
    "    water_reference = Molecule.from_mapped_smiles(\"[O:1]([H:2])[H:3]\")\n",
    "    water_reference.atoms[0].name = \"O\"\n",
    "    water_reference.atoms[1].name = \"H1\"\n",
    "    water_reference.atoms[2].name = \"H2\"\n",
    "\n",
    "    # Add ideal TIP5P geometry\n",
    "    bond_length = Quantity(0.9572, unit.angstrom)\n",
    "    theta = Quantity(104.52, unit.degree).to(unit.radian)\n",
    "\n",
    "    water_reference.add_conformer(\n",
    "        bond_length\n",
    "        * Quantity(\n",
    "            [\n",
    "                [0.0, 0.0, 0.0],\n",
    "                [-sin(theta / 2), cos(theta / 2), 0.0],\n",
    "                [sin(theta / 2), cos(theta / 2), 0.0],\n",
    "            ]\n",
    "        )\n",
    "    )\n",
    "\n",
    "    for i, xyz in enumerate(XYZ):\n",
    "        water_box[i] = Molecule(water_reference)\n",
    "        water_box[i].conformers[0] = water_box[i].conformers[0] + xyz * unit.angstrom\n",
    "\n",
    "    return water_box\n",
    "\n",
    "\n",
    "def reorder(\n",
    "    number_molecules: int,\n",
    "    atoms_per_molecule: int = 3,\n",
    "    virtual_sites_per_molecule: int = 2,\n",
    ") -> list[int]:\n",
    "    \"\"\"Return an mapping between collated and un-collated particle indices.\"\"\"\n",
    "    particles_per_molecule = atoms_per_molecule + virtual_sites_per_molecule\n",
    "\n",
    "    atoms = list()\n",
    "    virtual_sites = list()\n",
    "\n",
    "    for particle_index in range(number_molecules * particles_per_molecule):\n",
    "        if particle_index % particles_per_molecule < atoms_per_molecule:\n",
    "            atoms.append(particle_index)\n",
    "        else:\n",
    "            virtual_sites.append(particle_index)\n",
    "\n",
    "    return atoms + virtual_sites"
   ]
  },
  {
   "cell_type": "code",
   "execution_count": 10,
   "metadata": {
    "execution": {
     "iopub.execute_input": "2025-09-30T00:11:55.229318Z",
     "iopub.status.busy": "2025-09-30T00:11:55.228783Z",
     "iopub.status.idle": "2025-09-30T00:11:55.237132Z",
     "shell.execute_reply": "2025-09-30T00:11:55.236661Z"
    },
    "pycharm": {
     "name": "#%%\n"
    }
   },
   "outputs": [],
   "source": [
    "def evaluate_openmm(\n",
    "    water: list[Molecule],\n",
    "    openmm_force_field: openmm.app.ForceField,\n",
    "    minimize: bool = False,\n",
    "):\n",
    "    \"\"\"\n",
    "    Given a list of molecules and a force field definition, calculate the\n",
    "    positions and energy.\n",
    "\n",
    "    Parameters\n",
    "    ----------\n",
    "        water: list[Molecule], each with a 3D conformation\n",
    "        openmm_force_field: openmm.app.ForceField, OpenMM ForceField object\n",
    "        minimize: bool, default = False, whether the structure should be minimized\n",
    "\n",
    "    Returns\n",
    "    -------\n",
    "        xyz: List The coordinates of all particles in the system (OpenMM ordering)\n",
    "        ene: float, The potential energy\n",
    "    \"\"\"\n",
    "\n",
    "    # First, get an OpenMM Topology and atom positions with no virtual sites\n",
    "    _topology: openmm.app.Topology = Topology.from_molecules(water).to_openmm()\n",
    "\n",
    "    atom_positions_unitless = numpy.vstack([mol.conformers[0].m_as(unit.nanometer) for mol in water])\n",
    "    atom_positions = openmm.unit.Quantity(atom_positions_unitless, openmm.unit.nanometer)\n",
    "\n",
    "    # Use OpenMM's Modeller to add virtual particles as perscribed by the force field\n",
    "    modeller = openmm.app.Modeller(_topology, atom_positions)\n",
    "    modeller.addExtraParticles(openmm_force_field)\n",
    "\n",
    "    # This topology includes virtual particles, so we can use it to create a System\n",
    "    topology = modeller.getTopology()\n",
    "\n",
    "    system: openmm.System = openmm_force_field.createSystem(topology, nonbondedMethod=openmm.app.NoCutoff)\n",
    "\n",
    "    # Add positions of virtual particles now that the topology includes them\n",
    "    particle_positions = modeller.getPositions()\n",
    "\n",
    "    return _evaluate_positions_and_energy(topology, system, particle_positions, minimize=minimize)"
   ]
  },
  {
   "cell_type": "code",
   "execution_count": 11,
   "metadata": {
    "execution": {
     "iopub.execute_input": "2025-09-30T00:11:55.238862Z",
     "iopub.status.busy": "2025-09-30T00:11:55.238676Z",
     "iopub.status.idle": "2025-09-30T00:11:55.245127Z",
     "shell.execute_reply": "2025-09-30T00:11:55.244659Z"
    },
    "pycharm": {
     "name": "#%%\n"
    }
   },
   "outputs": [],
   "source": [
    "def evaluate_openff(\n",
    "    water: list[Molecule],\n",
    "    force_field: ForceField,\n",
    "    minimize: bool = False,\n",
    "):\n",
    "    \"\"\"\n",
    "    Given a list of molecules and a force field definition, calculate the\n",
    "    positions and energy.\n",
    "\n",
    "    Parameters\n",
    "    ----------\n",
    "        water: list[Molecule], each with a 3D conformation\n",
    "        force_field: ForceField, an OpenFF ForceField object\n",
    "        minimize: boolean, default= False, whether the structure should be minimized\n",
    "\n",
    "    Returns\n",
    "    -------\n",
    "        xyz: list The coordinates of all particles in the system (OpenMM ordering)\n",
    "        ene: float, The potential energy\n",
    "    \"\"\"\n",
    "    from openff.interchange.interop.openmm import to_openmm_positions\n",
    "\n",
    "    openff_topology = Topology.from_molecules(water)\n",
    "    interchange = Interchange.from_smirnoff(force_field, openff_topology)\n",
    "\n",
    "    return _evaluate_positions_and_energy(\n",
    "        interchange.to_openmm_topology(),\n",
    "        interchange.to_openmm(combine_nonbonded_forces=True),\n",
    "        to_openmm_positions(interchange),\n",
    "    )"
   ]
  },
  {
   "cell_type": "markdown",
   "metadata": {},
   "source": [
    "Next, construct TIP5P force fields from each software project:"
   ]
  },
  {
   "cell_type": "code",
   "execution_count": 12,
   "metadata": {
    "execution": {
     "iopub.execute_input": "2025-09-30T00:11:55.247671Z",
     "iopub.status.busy": "2025-09-30T00:11:55.246941Z",
     "iopub.status.idle": "2025-09-30T00:11:55.278917Z",
     "shell.execute_reply": "2025-09-30T00:11:55.273678Z"
    },
    "pycharm": {
     "name": "#%%\n"
    }
   },
   "outputs": [],
   "source": [
    "# The TIP5P force field in SMIRNOFF format, provided by the OpenFF Toolkit\n",
    "openff_force_field = ForceField(\"tip5p.offxml\")\n",
    "\n",
    "# The OpenMM definition of TIP5P\n",
    "openmm_force_field = openmm.app.ForceField(\"tip5p.xml\")"
   ]
  },
  {
   "cell_type": "markdown",
   "metadata": {},
   "source": [
    "Finally, compare them:"
   ]
  },
  {
   "cell_type": "code",
   "execution_count": 13,
   "metadata": {
    "execution": {
     "iopub.execute_input": "2025-09-30T00:11:55.280721Z",
     "iopub.status.busy": "2025-09-30T00:11:55.280525Z",
     "iopub.status.idle": "2025-09-30T00:11:55.342456Z",
     "shell.execute_reply": "2025-09-30T00:11:55.341913Z"
    },
    "pycharm": {
     "name": "#%%\n"
    },
    "scrolled": true
   },
   "outputs": [],
   "source": [
    "minimize = False\n",
    "\n",
    "num_duplicates = (2, 2, 2)  # 2x2x2 = 8 water molecules\n",
    "spacing = (3.0, 3.0, 3.0)  # water spaced 3A apart in each direction\n",
    "\n",
    "waters = build_water_lattice(num_duplicates, spacing)\n",
    "\n",
    "# Generate OpenFF coordinates and energies\n",
    "off_crds, off_ene = evaluate_openff(waters, openff_force_field, minimize=minimize)\n",
    "off_crds = numpy.array(off_crds.value_in_unit(openmm.unit.angstrom))\n",
    "\n",
    "# Generate OpenMM coordinates and energies\n",
    "omm_crds, omm_ene = evaluate_openmm(waters, openmm_force_field, minimize=minimize)\n",
    "omm_crds = numpy.array(omm_crds.value_in_unit(openmm.unit.angstrom))\n",
    "\n",
    "# Compute the RMS difference in atom positions per molecule, reordering\n",
    "# OpenMM coordinates to match OpenFF.\n",
    "coordinate_difference = Quantity(\n",
    "    numpy.linalg.norm(off_crds - omm_crds[reorder(numpy.prod(num_duplicates)), :]),\n",
    "    unit.angstrom,\n",
    ")\n",
    "coordinate_difference /= numpy.prod(num_duplicates)\n",
    "# Compute the mean energy difference per molecule\n",
    "energy_difference = abs(off_ene - omm_ene) / numpy.prod(num_duplicates)"
   ]
  },
  {
   "cell_type": "markdown",
   "metadata": {},
   "source": [
    "And take a look!"
   ]
  },
  {
   "cell_type": "code",
   "execution_count": 14,
   "metadata": {
    "execution": {
     "iopub.execute_input": "2025-09-30T00:11:55.345086Z",
     "iopub.status.busy": "2025-09-30T00:11:55.344859Z",
     "iopub.status.idle": "2025-09-30T00:11:55.354209Z",
     "shell.execute_reply": "2025-09-30T00:11:55.353270Z"
    }
   },
   "outputs": [
    {
     "name": "stdout",
     "output_type": "stream",
     "text": [
      "Results for: OpenFF – OpenMM comparison (per molecule) \n",
      "Energy difference (kilojoule / mole):\n",
      "\t1.025e-05\n",
      "Coordinates difference (angstrom, norm):\n",
      "\t2.156e-08\n",
      "\n"
     ]
    }
   ],
   "source": [
    "from openff.units.openmm import from_openmm\n",
    "\n",
    "_energy_difference = from_openmm(energy_difference)\n",
    "\n",
    "print(\n",
    "    f\"Results for: OpenFF – OpenMM comparison (per molecule) \\n\"  # noqa: RUF001\n",
    "    f\"Energy difference ({_energy_difference.units}):\\n\\t\"\n",
    "    f\"{_energy_difference.m:0.3e}\\n\"\n",
    "    f\"Coordinates difference ({coordinate_difference.units}, norm):\\n\\t\"\n",
    "    f\"{coordinate_difference.m:0.3e}\\n\"\n",
    ")\n",
    "\n",
    "assert coordinate_difference < Quantity(1e-6, unit.angstrom), (\n",
    "    f\"Coordinates differ by a norm of {coordinate_difference}\"\n",
    ")\n",
    "assert energy_difference < 1e-4 * openmm.unit.kilojoule_per_mole, f\"Energies differ by {energy_difference}\""
   ]
  },
  {
   "cell_type": "markdown",
   "metadata": {},
   "source": [
    "This tiny difference is expected, and comes from the slightly different geometric definitions of the virtual sites, as described above."
   ]
  }
 ],
 "metadata": {
  "category": "force_field_dev",
  "cookbook_cache_branch": "_cookbook_data_main",
  "kernelspec": {
   "display_name": "Python 3 (ipykernel)",
   "language": "python",
   "name": "python3"
  },
  "language_info": {
   "codemirror_mode": {
    "name": "ipython",
    "version": 3
   },
   "file_extension": ".py",
   "mimetype": "text/x-python",
   "name": "python",
   "nbconvert_exporter": "python",
   "pygments_lexer": "ipython3",
   "version": "3.11.13"
  },
  "src_repo_tag": "0.17.0",
  "widgets": {
   "application/vnd.jupyter.widget-state+json": {
    "state": {
     "0ba82e70436c4652b349193239dcd150": {
      "model_module": "@jupyter-widgets/controls",
      "model_module_version": "2.0.0",
      "model_name": "PlayModel",
      "state": {
       "_dom_classes": [],
       "_model_module": "@jupyter-widgets/controls",
       "_model_module_version": "2.0.0",
       "_model_name": "PlayModel",
       "_view_count": null,
       "_view_module": "@jupyter-widgets/controls",
       "_view_module_version": "2.0.0",
       "_view_name": "PlayView",
       "description": "",
       "description_allow_html": false,
       "disabled": false,
       "interval": 100,
       "layout": "IPY_MODEL_a43ff606ce5f499aba14fff8ac6f0c95",
       "max": 99,
       "min": 0,
       "playing": false,
       "repeat": false,
       "show_repeat": true,
       "step": 1,
       "style": "IPY_MODEL_4a7c90e00be247aaa4aff164f70eafb9",
       "tabbable": null,
       "tooltip": null,
       "value": 0
      }
     },
     "17285c0307c04b34b941227c6d095f08": {
      "model_module": "@jupyter-widgets/controls",
      "model_module_version": "2.0.0",
      "model_name": "LinkModel",
      "state": {
       "_model_module": "@jupyter-widgets/controls",
       "_model_module_version": "2.0.0",
       "_model_name": "LinkModel",
       "_view_count": null,
       "_view_module": "@jupyter-widgets/controls",
       "_view_module_version": "2.0.0",
       "_view_name": null,
       "source": [
        "IPY_MODEL_0ba82e70436c4652b349193239dcd150",
        "value"
       ],
       "target": [
        "IPY_MODEL_b441e5ad356342cab88eade88c26df26",
        "value"
       ]
      }
     },
     "18af2a8187ef4d868b5bedfcc5e0a4df": {
      "model_module": "@jupyter-widgets/controls",
      "model_module_version": "2.0.0",
      "model_name": "ButtonStyleModel",
      "state": {
       "_model_module": "@jupyter-widgets/controls",
       "_model_module_version": "2.0.0",
       "_model_name": "ButtonStyleModel",
       "_view_count": null,
       "_view_module": "@jupyter-widgets/base",
       "_view_module_version": "2.0.0",
       "_view_name": "StyleView",
       "button_color": null,
       "font_family": null,
       "font_size": null,
       "font_style": null,
       "font_variant": null,
       "font_weight": null,
       "text_color": null,
       "text_decoration": null
      }
     },
     "1d0f445a940d42daaec7575e9d27edc9": {
      "model_module": "@jupyter-widgets/base",
      "model_module_version": "2.0.0",
      "model_name": "LayoutModel",
      "state": {
       "_model_module": "@jupyter-widgets/base",
       "_model_module_version": "2.0.0",
       "_model_name": "LayoutModel",
       "_view_count": null,
       "_view_module": "@jupyter-widgets/base",
       "_view_module_version": "2.0.0",
       "_view_name": "LayoutView",
       "align_content": null,
       "align_items": null,
       "align_self": null,
       "border_bottom": null,
       "border_left": null,
       "border_right": null,
       "border_top": null,
       "bottom": null,
       "display": null,
       "flex": null,
       "flex_flow": null,
       "grid_area": null,
       "grid_auto_columns": null,
       "grid_auto_flow": null,
       "grid_auto_rows": null,
       "grid_column": null,
       "grid_gap": null,
       "grid_row": null,
       "grid_template_areas": null,
       "grid_template_columns": null,
       "grid_template_rows": null,
       "height": null,
       "justify_content": null,
       "justify_items": null,
       "left": null,
       "margin": null,
       "max_height": null,
       "max_width": null,
       "min_height": null,
       "min_width": null,
       "object_fit": null,
       "object_position": null,
       "order": null,
       "overflow": null,
       "padding": null,
       "right": null,
       "top": null,
       "visibility": null,
       "width": null
      }
     },
     "1d21da39cfd042d2adebc0290412cf17": {
      "model_module": "@jupyter-widgets/controls",
      "model_module_version": "2.0.0",
      "model_name": "HBoxModel",
      "state": {
       "_dom_classes": [],
       "_model_module": "@jupyter-widgets/controls",
       "_model_module_version": "2.0.0",
       "_model_name": "HBoxModel",
       "_view_count": null,
       "_view_module": "@jupyter-widgets/controls",
       "_view_module_version": "2.0.0",
       "_view_name": "HBoxView",
       "box_style": "",
       "children": [
        "IPY_MODEL_0ba82e70436c4652b349193239dcd150",
        "IPY_MODEL_b441e5ad356342cab88eade88c26df26"
       ],
       "layout": "IPY_MODEL_9f88653d8f50455f805689b89a2cf527",
       "tabbable": null,
       "tooltip": null
      }
     },
     "3be43ece49ee4865add81970db3c4505": {
      "model_module": "nglview-js-widgets",
      "model_module_version": "3.0.8",
      "model_name": "ColormakerRegistryModel",
      "state": {
       "_dom_classes": [],
       "_model_module": "nglview-js-widgets",
       "_model_module_version": "3.0.8",
       "_model_name": "ColormakerRegistryModel",
       "_msg_ar": [],
       "_msg_q": [],
       "_ready": false,
       "_view_count": null,
       "_view_module": "nglview-js-widgets",
       "_view_module_version": "3.0.8",
       "_view_name": "ColormakerRegistryView",
       "layout": "IPY_MODEL_d072f03368ad416da6925dc2d9a45802",
       "tabbable": null,
       "tooltip": null
      }
     },
     "4416813a10cd44d988c5443e2e1d30c4": {
      "model_module": "@jupyter-widgets/controls",
      "model_module_version": "2.0.0",
      "model_name": "LinkModel",
      "state": {
       "_model_module": "@jupyter-widgets/controls",
       "_model_module_version": "2.0.0",
       "_model_name": "LinkModel",
       "_view_count": null,
       "_view_module": "@jupyter-widgets/controls",
       "_view_module_version": "2.0.0",
       "_view_name": null,
       "source": [
        "IPY_MODEL_0ba82e70436c4652b349193239dcd150",
        "max"
       ],
       "target": [
        "IPY_MODEL_f1d6475c155a453088a768812dde95be",
        "max_frame"
       ]
      }
     },
     "44227e6c63ec4265a98a1c598703673a": {
      "model_module": "@jupyter-widgets/base",
      "model_module_version": "2.0.0",
      "model_name": "LayoutModel",
      "state": {
       "_model_module": "@jupyter-widgets/base",
       "_model_module_version": "2.0.0",
       "_model_name": "LayoutModel",
       "_view_count": null,
       "_view_module": "@jupyter-widgets/base",
       "_view_module_version": "2.0.0",
       "_view_name": "LayoutView",
       "align_content": null,
       "align_items": null,
       "align_self": null,
       "border_bottom": null,
       "border_left": null,
       "border_right": null,
       "border_top": null,
       "bottom": null,
       "display": null,
       "flex": null,
       "flex_flow": null,
       "grid_area": null,
       "grid_auto_columns": null,
       "grid_auto_flow": null,
       "grid_auto_rows": null,
       "grid_column": null,
       "grid_gap": null,
       "grid_row": null,
       "grid_template_areas": null,
       "grid_template_columns": null,
       "grid_template_rows": null,
       "height": null,
       "justify_content": null,
       "justify_items": null,
       "left": null,
       "margin": null,
       "max_height": null,
       "max_width": null,
       "min_height": null,
       "min_width": null,
       "object_fit": null,
       "object_position": null,
       "order": null,
       "overflow": null,
       "padding": null,
       "right": null,
       "top": null,
       "visibility": null,
       "width": "34px"
      }
     },
     "4a7c90e00be247aaa4aff164f70eafb9": {
      "model_module": "@jupyter-widgets/controls",
      "model_module_version": "2.0.0",
      "model_name": "DescriptionStyleModel",
      "state": {
       "_model_module": "@jupyter-widgets/controls",
       "_model_module_version": "2.0.0",
       "_model_name": "DescriptionStyleModel",
       "_view_count": null,
       "_view_module": "@jupyter-widgets/base",
       "_view_module_version": "2.0.0",
       "_view_name": "StyleView",
       "description_width": ""
      }
     },
     "67dda684fadf4d31a392f9283769a74f": {
      "buffers": [
       {
        "data": "",
        "encoding": "base64",
        "path": [
         "value"
        ]
       }
      ],
      "model_module": "@jupyter-widgets/controls",
      "model_module_version": "2.0.0",
      "model_name": "ImageModel",
      "state": {
       "_dom_classes": [],
       "_model_module": "@jupyter-widgets/controls",
       "_model_module_version": "2.0.0",
       "_model_name": "ImageModel",
       "_view_count": null,
       "_view_module": "@jupyter-widgets/controls",
       "_view_module_version": "2.0.0",
       "_view_name": "ImageView",
       "format": "png",
       "height": "",
       "layout": "IPY_MODEL_1d0f445a940d42daaec7575e9d27edc9",
       "tabbable": null,
       "tooltip": null,
       "width": "900.0"
      }
     },
     "96ad7b0f4fd348568e6751b863173408": {
      "model_module": "@jupyter-widgets/base",
      "model_module_version": "2.0.0",
      "model_name": "LayoutModel",
      "state": {
       "_model_module": "@jupyter-widgets/base",
       "_model_module_version": "2.0.0",
       "_model_name": "LayoutModel",
       "_view_count": null,
       "_view_module": "@jupyter-widgets/base",
       "_view_module_version": "2.0.0",
       "_view_name": "LayoutView",
       "align_content": null,
       "align_items": null,
       "align_self": null,
       "border_bottom": null,
       "border_left": null,
       "border_right": null,
       "border_top": null,
       "bottom": null,
       "display": null,
       "flex": null,
       "flex_flow": null,
       "grid_area": null,
       "grid_auto_columns": null,
       "grid_auto_flow": null,
       "grid_auto_rows": null,
       "grid_column": null,
       "grid_gap": null,
       "grid_row": null,
       "grid_template_areas": null,
       "grid_template_columns": null,
       "grid_template_rows": null,
       "height": null,
       "justify_content": null,
       "justify_items": null,
       "left": null,
       "margin": null,
       "max_height": null,
       "max_width": null,
       "min_height": null,
       "min_width": null,
       "object_fit": null,
       "object_position": null,
       "order": null,
       "overflow": null,
       "padding": null,
       "right": null,
       "top": null,
       "visibility": null,
       "width": null
      }
     },
     "9f88653d8f50455f805689b89a2cf527": {
      "model_module": "@jupyter-widgets/base",
      "model_module_version": "2.0.0",
      "model_name": "LayoutModel",
      "state": {
       "_model_module": "@jupyter-widgets/base",
       "_model_module_version": "2.0.0",
       "_model_name": "LayoutModel",
       "_view_count": null,
       "_view_module": "@jupyter-widgets/base",
       "_view_module_version": "2.0.0",
       "_view_name": "LayoutView",
       "align_content": null,
       "align_items": null,
       "align_self": null,
       "border_bottom": null,
       "border_left": null,
       "border_right": null,
       "border_top": null,
       "bottom": null,
       "display": null,
       "flex": null,
       "flex_flow": null,
       "grid_area": null,
       "grid_auto_columns": null,
       "grid_auto_flow": null,
       "grid_auto_rows": null,
       "grid_column": null,
       "grid_gap": null,
       "grid_row": null,
       "grid_template_areas": null,
       "grid_template_columns": null,
       "grid_template_rows": null,
       "height": null,
       "justify_content": null,
       "justify_items": null,
       "left": null,
       "margin": null,
       "max_height": null,
       "max_width": null,
       "min_height": null,
       "min_width": null,
       "object_fit": null,
       "object_position": null,
       "order": null,
       "overflow": null,
       "padding": null,
       "right": null,
       "top": null,
       "visibility": null,
       "width": null
      }
     },
     "a43ff606ce5f499aba14fff8ac6f0c95": {
      "model_module": "@jupyter-widgets/base",
      "model_module_version": "2.0.0",
      "model_name": "LayoutModel",
      "state": {
       "_model_module": "@jupyter-widgets/base",
       "_model_module_version": "2.0.0",
       "_model_name": "LayoutModel",
       "_view_count": null,
       "_view_module": "@jupyter-widgets/base",
       "_view_module_version": "2.0.0",
       "_view_name": "LayoutView",
       "align_content": null,
       "align_items": null,
       "align_self": null,
       "border_bottom": null,
       "border_left": null,
       "border_right": null,
       "border_top": null,
       "bottom": null,
       "display": null,
       "flex": null,
       "flex_flow": null,
       "grid_area": null,
       "grid_auto_columns": null,
       "grid_auto_flow": null,
       "grid_auto_rows": null,
       "grid_column": null,
       "grid_gap": null,
       "grid_row": null,
       "grid_template_areas": null,
       "grid_template_columns": null,
       "grid_template_rows": null,
       "height": null,
       "justify_content": null,
       "justify_items": null,
       "left": null,
       "margin": null,
       "max_height": null,
       "max_width": null,
       "min_height": null,
       "min_width": null,
       "object_fit": null,
       "object_position": null,
       "order": null,
       "overflow": null,
       "padding": null,
       "right": null,
       "top": null,
       "visibility": null,
       "width": null
      }
     },
     "a95bac4a6ddd4e9dbf1b2c873e23e559": {
      "model_module": "@jupyter-widgets/controls",
      "model_module_version": "2.0.0",
      "model_name": "LinkModel",
      "state": {
       "_model_module": "@jupyter-widgets/controls",
       "_model_module_version": "2.0.0",
       "_model_name": "LinkModel",
       "_view_count": null,
       "_view_module": "@jupyter-widgets/controls",
       "_view_module_version": "2.0.0",
       "_view_name": null,
       "source": [
        "IPY_MODEL_b441e5ad356342cab88eade88c26df26",
        "max"
       ],
       "target": [
        "IPY_MODEL_f1d6475c155a453088a768812dde95be",
        "max_frame"
       ]
      }
     },
     "b441e5ad356342cab88eade88c26df26": {
      "model_module": "@jupyter-widgets/controls",
      "model_module_version": "2.0.0",
      "model_name": "IntSliderModel",
      "state": {
       "_dom_classes": [],
       "_model_module": "@jupyter-widgets/controls",
       "_model_module_version": "2.0.0",
       "_model_name": "IntSliderModel",
       "_view_count": null,
       "_view_module": "@jupyter-widgets/controls",
       "_view_module_version": "2.0.0",
       "_view_name": "IntSliderView",
       "behavior": "drag-tap",
       "continuous_update": true,
       "description": "",
       "description_allow_html": false,
       "disabled": false,
       "layout": "IPY_MODEL_96ad7b0f4fd348568e6751b863173408",
       "max": 99,
       "min": 0,
       "orientation": "horizontal",
       "readout": true,
       "readout_format": "d",
       "step": 1,
       "style": "IPY_MODEL_f18e7031df2846c6afab5eb675c6a944",
       "tabbable": null,
       "tooltip": null,
       "value": 0
      }
     },
     "b76a9eca30ca491aa0fd61e08f7d2cbc": {
      "model_module": "@jupyter-widgets/base",
      "model_module_version": "2.0.0",
      "model_name": "LayoutModel",
      "state": {
       "_model_module": "@jupyter-widgets/base",
       "_model_module_version": "2.0.0",
       "_model_name": "LayoutModel",
       "_view_count": null,
       "_view_module": "@jupyter-widgets/base",
       "_view_module_version": "2.0.0",
       "_view_name": "LayoutView",
       "align_content": null,
       "align_items": null,
       "align_self": null,
       "border_bottom": null,
       "border_left": null,
       "border_right": null,
       "border_top": null,
       "bottom": null,
       "display": null,
       "flex": null,
       "flex_flow": null,
       "grid_area": null,
       "grid_auto_columns": null,
       "grid_auto_flow": null,
       "grid_auto_rows": null,
       "grid_column": null,
       "grid_gap": null,
       "grid_row": null,
       "grid_template_areas": null,
       "grid_template_columns": null,
       "grid_template_rows": null,
       "height": null,
       "justify_content": null,
       "justify_items": null,
       "left": null,
       "margin": null,
       "max_height": null,
       "max_width": null,
       "min_height": null,
       "min_width": null,
       "object_fit": null,
       "object_position": null,
       "order": null,
       "overflow": null,
       "padding": null,
       "right": null,
       "top": null,
       "visibility": null,
       "width": null
      }
     },
     "d072f03368ad416da6925dc2d9a45802": {
      "model_module": "@jupyter-widgets/base",
      "model_module_version": "2.0.0",
      "model_name": "LayoutModel",
      "state": {
       "_model_module": "@jupyter-widgets/base",
       "_model_module_version": "2.0.0",
       "_model_name": "LayoutModel",
       "_view_count": null,
       "_view_module": "@jupyter-widgets/base",
       "_view_module_version": "2.0.0",
       "_view_name": "LayoutView",
       "align_content": null,
       "align_items": null,
       "align_self": null,
       "border_bottom": null,
       "border_left": null,
       "border_right": null,
       "border_top": null,
       "bottom": null,
       "display": null,
       "flex": null,
       "flex_flow": null,
       "grid_area": null,
       "grid_auto_columns": null,
       "grid_auto_flow": null,
       "grid_auto_rows": null,
       "grid_column": null,
       "grid_gap": null,
       "grid_row": null,
       "grid_template_areas": null,
       "grid_template_columns": null,
       "grid_template_rows": null,
       "height": null,
       "justify_content": null,
       "justify_items": null,
       "left": null,
       "margin": null,
       "max_height": null,
       "max_width": null,
       "min_height": null,
       "min_width": null,
       "object_fit": null,
       "object_position": null,
       "order": null,
       "overflow": null,
       "padding": null,
       "right": null,
       "top": null,
       "visibility": null,
       "width": null
      }
     },
     "d6306594b1e54736b252daefed732ff6": {
      "model_module": "@jupyter-widgets/controls",
      "model_module_version": "2.0.0",
      "model_name": "ButtonModel",
      "state": {
       "_dom_classes": [],
       "_model_module": "@jupyter-widgets/controls",
       "_model_module_version": "2.0.0",
       "_model_name": "ButtonModel",
       "_view_count": null,
       "_view_module": "@jupyter-widgets/controls",
       "_view_module_version": "2.0.0",
       "_view_name": "ButtonView",
       "button_style": "",
       "description": "",
       "disabled": false,
       "icon": "compress",
       "layout": "IPY_MODEL_44227e6c63ec4265a98a1c598703673a",
       "style": "IPY_MODEL_18af2a8187ef4d868b5bedfcc5e0a4df",
       "tabbable": null,
       "tooltip": null
      }
     },
     "d95a7c9b7c6d4f07baa59484baf5f704": {
      "model_module": "@jupyter-widgets/controls",
      "model_module_version": "2.0.0",
      "model_name": "LinkModel",
      "state": {
       "_model_module": "@jupyter-widgets/controls",
       "_model_module_version": "2.0.0",
       "_model_name": "LinkModel",
       "_view_count": null,
       "_view_module": "@jupyter-widgets/controls",
       "_view_module_version": "2.0.0",
       "_view_name": null,
       "source": [
        "IPY_MODEL_0ba82e70436c4652b349193239dcd150",
        "value"
       ],
       "target": [
        "IPY_MODEL_f1d6475c155a453088a768812dde95be",
        "frame"
       ]
      }
     },
     "f18e7031df2846c6afab5eb675c6a944": {
      "model_module": "@jupyter-widgets/controls",
      "model_module_version": "2.0.0",
      "model_name": "SliderStyleModel",
      "state": {
       "_model_module": "@jupyter-widgets/controls",
       "_model_module_version": "2.0.0",
       "_model_name": "SliderStyleModel",
       "_view_count": null,
       "_view_module": "@jupyter-widgets/base",
       "_view_module_version": "2.0.0",
       "_view_name": "StyleView",
       "description_width": "",
       "handle_color": null
      }
     },
     "f1d6475c155a453088a768812dde95be": {
      "model_module": "nglview-js-widgets",
      "model_module_version": "3.0.8",
      "model_name": "NGLModel",
      "state": {
       "_camera_orientation": [],
       "_camera_str": "orthographic",
       "_dom_classes": [],
       "_gui_theme": null,
       "_ibtn_fullscreen": "IPY_MODEL_d6306594b1e54736b252daefed732ff6",
       "_igui": null,
       "_iplayer": "IPY_MODEL_1d21da39cfd042d2adebc0290412cf17",
       "_model_module": "nglview-js-widgets",
       "_model_module_version": "3.0.8",
       "_model_name": "NGLModel",
       "_ngl_color_dict": {},
       "_ngl_coordinate_resource": {},
       "_ngl_full_stage_parameters": {},
       "_ngl_msg_archive": [
        {
         "args": [
          {
           "binary": false,
           "data": "ATOM      1  C1x UNK A   1       4.132  -1.335  -0.377  1.00  0.00           C  \nATOM      2  C2x UNK A   1       5.353  -0.649  -0.221  1.00  0.00           C  \nATOM      3  C3x UNK A   1       5.376   0.667   0.207  1.00  0.00           C  \nATOM      4 Cl1x UNK A   1       6.832   1.498   0.312  1.00  0.00          Cl  \nATOM      5  C4x UNK A   1       4.183   1.354   0.466  1.00  0.00           C  \nATOM      6  C5x UNK A   1       2.950   0.656   0.360  1.00  0.00           C  \nATOM      7  C6x UNK A   1       2.928  -0.679   0.017  1.00  0.00           C  \nATOM      8  C7x UNK A   1       1.638  -1.323  -0.176  1.00  0.00           C  \nATOM      9  O1x UNK A   1       1.622  -2.461  -0.621  1.00  0.00           O  \nATOM     10  C8x UNK A   1       0.345  -0.872   0.461  1.00  0.00           C  \nATOM     11  S1x UNK A   1      -0.416   0.500  -0.550  1.00  0.00           S  \nATOM     12  C9x UNK A   1      -2.102   0.623  -0.027  1.00  0.00           C  \nATOM     13 C10x UNK A   1      -2.775   1.794  -0.257  1.00  0.00           C  \nATOM     14  O2x UNK A   1      -4.163   2.045  -0.051  1.00  0.00           O  \nATOM     15 C11x UNK A   1      -5.028   0.881   0.333  1.00  0.00           C  \nATOM     16  F1x UNK A   1      -5.220   0.894   1.654  1.00  0.00           F  \nATOM     17  F2x UNK A   1      -6.259   0.953  -0.240  1.00  0.00           F  \nATOM     18 C12x UNK A   1      -4.349  -0.484  -0.112  1.00  0.00           C  \nATOM     19 C13x UNK A   1      -2.893  -0.574   0.350  1.00  0.00           C  \nATOM     20  H1x UNK A   1       4.111  -2.322  -0.829  1.00  0.00           H  \nATOM     21  H2x UNK A   1       6.300  -1.143  -0.414  1.00  0.00           H  \nATOM     22  H3x UNK A   1       4.238   2.418   0.676  1.00  0.00           H  \nATOM     23  H4x UNK A   1       2.040   1.222   0.531  1.00  0.00           H  \nATOM     24  H5x UNK A   1      -0.379  -1.692   0.443  1.00  0.00           H  \nATOM     25  H6x UNK A   1       0.503  -0.577   1.503  1.00  0.00           H  \nATOM     26  H7x UNK A   1      -2.214   2.650  -0.619  1.00  0.00           H  \nATOM     27  H8x UNK A   1      -4.288  -0.388  -1.200  1.00  0.00           H  \nATOM     28  H9x UNK A   1      -4.976  -1.317   0.220  1.00  0.00           H  \nATOM     29 H10x UNK A   1      -2.740  -0.816   1.406  1.00  0.00           H  \nATOM     30 H11x UNK A   1      -2.537  -1.518  -0.073  1.00  0.00           H  \nTER      31      UNK A   1\nATOM     32 EP   UNK B   1      -0.093   1.110  -0.434  1.00  0.00          VS  \nATOM     33 EP   UNK B   1      -0.397   0.352  -1.234  1.00  0.00          VS  \nATOM     34 EP   UNK B   1       7.179   1.696   0.337  1.00  0.00          VS  \nATOM     35 EP   UNK B   1      -5.277   0.897   2.050  1.00  0.00          VS  \nATOM     36 EP   UNK B   1      -6.621   0.974  -0.408  1.00  0.00          VS  \nTER      37      UNK B   1\nEND\n",
           "type": "blob"
          }
         ],
         "kwargs": {
          "defaultRepresentation": true,
          "ext": "pdb",
          "name": "nglview.adaptor.MDTrajTrajectory"
         },
         "methodName": "loadFile",
         "reconstruc_color_scheme": false,
         "target": "Stage",
         "type": "call_method"
        }
       ],
       "_ngl_original_stage_parameters": {},
       "_ngl_repr_dict": {},
       "_ngl_serialize": false,
       "_ngl_version": "",
       "_ngl_view_id": [],
       "_player_dict": {},
       "_scene_position": {},
       "_scene_rotation": {},
       "_synced_model_ids": [],
       "_synced_repr_model_ids": [],
       "_view_count": null,
       "_view_height": "",
       "_view_module": "nglview-js-widgets",
       "_view_module_version": "3.0.8",
       "_view_name": "NGLView",
       "_view_width": "",
       "background": "white",
       "frame": 0,
       "gui_style": null,
       "layout": "IPY_MODEL_b76a9eca30ca491aa0fd61e08f7d2cbc",
       "max_frame": 99,
       "n_components": 0,
       "picked": {},
       "tabbable": null,
       "tooltip": null
      }
     }
    },
    "version_major": 2,
    "version_minor": 0
   }
  }
 },
 "nbformat": 4,
 "nbformat_minor": 4
}
