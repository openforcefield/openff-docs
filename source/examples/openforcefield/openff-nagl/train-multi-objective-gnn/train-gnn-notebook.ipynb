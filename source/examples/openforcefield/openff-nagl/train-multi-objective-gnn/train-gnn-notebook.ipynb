{
 "cells": [
  {
   "cell_type": "markdown",
   "id": "480cf57f-a1ec-4c18-84a6-40af4268511e",
   "metadata": {},
   "source": [
    "# Training a Graph Neural Network with NAGL with multiple objectives"
   ]
  },
  {
   "cell_type": "markdown",
   "id": "70ed15cf",
   "metadata": {
    "tags": []
   },
   "source": [
    "This notebook will go through the process of training a new Graph Neural Network (GNN) on a small dataset of alkanes with multiple objectives. Please see the `train-gnn-notebook` tutorial for more on what's happening under the hood."
   ]
  },
  {
   "cell_type": "markdown",
   "id": "25fbe5ab",
   "metadata": {},
   "source": [
    "\n",
    "## Imports"
   ]
  },
  {
   "cell_type": "code",
   "execution_count": 1,
   "id": "893b5720",
   "metadata": {
    "execution": {
     "iopub.execute_input": "2025-09-30T00:17:15.183275Z",
     "iopub.status.busy": "2025-09-30T00:17:15.182936Z",
     "iopub.status.idle": "2025-09-30T00:17:19.848200Z",
     "shell.execute_reply": "2025-09-30T00:17:19.847666Z"
    }
   },
   "outputs": [],
   "source": [
    "from pathlib import Path\n",
    "\n",
    "import numpy as np\n",
    "\n",
    "from openff.toolkit import Molecule\n",
    "from openff.units import unit"
   ]
  },
  {
   "cell_type": "markdown",
   "id": "6804facd",
   "metadata": {},
   "source": [
    "## Create the model"
   ]
  },
  {
   "cell_type": "markdown",
   "id": "9f6ef898-5084-43b8-86a6-315b4d095f67",
   "metadata": {},
   "source": [
    "First, let's specify the model features."
   ]
  },
  {
   "cell_type": "code",
   "execution_count": 2,
   "id": "ada8176d",
   "metadata": {
    "execution": {
     "iopub.execute_input": "2025-09-30T00:17:19.850906Z",
     "iopub.status.busy": "2025-09-30T00:17:19.850332Z",
     "iopub.status.idle": "2025-09-30T00:17:19.854747Z",
     "shell.execute_reply": "2025-09-30T00:17:19.854260Z"
    }
   },
   "outputs": [],
   "source": [
    "from openff.nagl.features import atoms\n",
    "\n",
    "atom_features = (\n",
    "    atoms.AtomicElement(categories=[\"C\", \"H\"]), # Is the atom Carbon or Hydrogen?\n",
    "    atoms.AtomConnectivity(), # Is the atom bonded to 1, 2, 3, or 4 other atoms?\n",
    "    atoms.AtomAverageFormalCharge(), # What is the atom's mean formal charge over the molecule's tautomers?\n",
    "    atoms.AtomHybridization(), # What is the hybridization of the atom?\n",
    "    atoms.AtomInRingOfSize(ring_size=3), # Is the atom in a 3-membered ring?\n",
    "    atoms.AtomInRingOfSize(ring_size=4), # Is the atom in a 4-membered ring?\n",
    "    atoms.AtomInRingOfSize(ring_size=5), # Is the atom in a 5-membered ring?\n",
    "    atoms.AtomInRingOfSize(ring_size=6), # Is the atom in a 6-membered ring?\n",
    ")"
   ]
  },
  {
   "cell_type": "markdown",
   "id": "ccf9dbff-bbc8-475c-a089-1b6b70f2a2e3",
   "metadata": {},
   "source": [
    "We also need to specify the architecture of the GNN. We can make this as complicated as we like."
   ]
  },
  {
   "cell_type": "code",
   "execution_count": 3,
   "id": "8f675f1b",
   "metadata": {
    "execution": {
     "iopub.execute_input": "2025-09-30T00:17:19.857087Z",
     "iopub.status.busy": "2025-09-30T00:17:19.856369Z",
     "iopub.status.idle": "2025-09-30T00:17:19.861197Z",
     "shell.execute_reply": "2025-09-30T00:17:19.860738Z"
    }
   },
   "outputs": [],
   "source": [
    "from openff.nagl.config.model import (\n",
    "    ConvolutionLayer,\n",
    "    ConvolutionModule,\n",
    ")\n",
    "from openff.nagl import GNNModel\n",
    "from openff.nagl.nn.gcn import SAGEConvStack\n",
    "from torch.nn import ReLU\n",
    "from openff.nagl.nn.postprocess import ComputePartialCharges\n",
    "\n",
    "single_convolution_layer = ConvolutionLayer(\n",
    "    hidden_feature_size=128,  # 128 features per hidden convolution layer\n",
    "    aggregator_type=\"mean\",  # aggregate atom representations with mean\n",
    "    activation_function=\"ReLU\", # max(0, x) activation function for layer\n",
    "    dropout=0.0, # no dropout\n",
    ")\n",
    "\n",
    "convolution_module = ConvolutionModule(\n",
    "    architecture=\"SAGEConv\", # GraphSAGE GCN\n",
    "    layers=[single_convolution_layer] * 3, # 3 hidden convolution layers        \n",
    ")"
   ]
  },
  {
   "cell_type": "markdown",
   "id": "36064769-5355-4493-9bfa-690a30d6a066",
   "metadata": {},
   "source": [
    "We then specify the readout module."
   ]
  },
  {
   "cell_type": "code",
   "execution_count": 4,
   "id": "9ce164b4-d150-4d8f-920d-d778f770c2ea",
   "metadata": {
    "execution": {
     "iopub.execute_input": "2025-09-30T00:17:19.862968Z",
     "iopub.status.busy": "2025-09-30T00:17:19.862803Z",
     "iopub.status.idle": "2025-09-30T00:17:19.867696Z",
     "shell.execute_reply": "2025-09-30T00:17:19.867191Z"
    }
   },
   "outputs": [],
   "source": [
    "from openff.nagl.config.model import (\n",
    "    ForwardLayer,\n",
    "    ReadoutModule,\n",
    ")\n",
    "\n",
    "single_readout_layer = ForwardLayer(\n",
    "    hidden_feature_size=128,  # 128 features per hidden convolution layer\n",
    "    activation_function=\"ReLU\", # max(0, x) activation function for layer\n",
    "    dropout=0.0, # no dropout\n",
    ")\n",
    "\n",
    "normal_readout_module = ReadoutModule(\n",
    "    pooling=\"atoms\",\n",
    "    layers=[single_readout_layer] * 4, # 4 internal readout layers\n",
    "    # calculate charges with charge equilibration scheme from\n",
    "    # electronegativity and hardness\n",
    "    postprocess=\"compute_partial_charges\"\n",
    ")\n",
    "regularised_readout_module = ReadoutModule(\n",
    "    pooling=\"atoms\",\n",
    "    layers=[single_readout_layer] * 4, # 4 internal readout layers\n",
    "    # calculate charges with charge equilibration scheme from\n",
    "    # electronegativity, hardness, and an initial charge prediction\n",
    "    postprocess=\"regularized_compute_partial_charges\"\n",
    ")"
   ]
  },
  {
   "cell_type": "markdown",
   "id": "0881c65c-5c8b-4c8b-b713-127b841f12bc",
   "metadata": {},
   "source": [
    "Now we can put them together in a full `ModelConfig`. This can be passed to create a `GNNModel`. A model can have multiple readouts that derive different properties from the convolution representation, so each readout module is specified in a dictionary with a label.\n",
    "\n",
    "Here, the [`GNNModel`] class represents all the hyperparameters for a model, but after we train it the same object will store weights as well.\n",
    "\n",
    "[`GNNModel`]: https://docs.openforcefield.org/projects/nagl/en/latest/api/generated/openff.nagl.GNNModel.html"
   ]
  },
  {
   "cell_type": "code",
   "execution_count": 5,
   "id": "fa53e2fb-f37f-4054-be1d-a8a471bd6a77",
   "metadata": {
    "execution": {
     "iopub.execute_input": "2025-09-30T00:17:19.869791Z",
     "iopub.status.busy": "2025-09-30T00:17:19.869584Z",
     "iopub.status.idle": "2025-09-30T00:17:19.873819Z",
     "shell.execute_reply": "2025-09-30T00:17:19.873287Z"
    }
   },
   "outputs": [],
   "source": [
    "from openff.nagl.config.model import ModelConfig\n",
    "\n",
    "model_config = ModelConfig(\n",
    "    version=\"0.1\",\n",
    "    atom_features=atom_features,\n",
    "    bond_features=[],\n",
    "    convolution=convolution_module,\n",
    "    readouts={\n",
    "        \"predicted-am1bcc-charges\": normal_readout_module,\n",
    "        \"predicted-am1-charges\": regularised_readout_module\n",
    "    }\n",
    ")"
   ]
  },
  {
   "cell_type": "markdown",
   "id": "3de99f0d",
   "metadata": {},
   "source": [
    "## Put together our datasets"
   ]
  },
  {
   "cell_type": "markdown",
   "id": "aabbfb4c",
   "metadata": {},
   "source": [
    "We need to set up three datasets hers:\n",
    "\n",
    "- **training**: Data the model is trained against\n",
    "\n",
    "- **validation**: Data used to validate the model as it is trained\n",
    "\n",
    "- **tests**: Data used to test that the final model is good\n",
    "\n",
    "In this example, we'll use a collection of ten molecules for training. We'll also build a test/validation dataset of 3 molecules that are not in the training set."
   ]
  },
  {
   "cell_type": "markdown",
   "id": "3dc9982e",
   "metadata": {},
   "source": [
    "We can use the [`LabelledDataset`] class to generate training data that is saved in the `training_data` directory (or use `pyarrow` directly). First we can generate the dataset from SMILES:"
   ]
  },
  {
   "cell_type": "code",
   "execution_count": 6,
   "id": "54c17298",
   "metadata": {
    "execution": {
     "iopub.execute_input": "2025-09-30T00:17:19.876155Z",
     "iopub.status.busy": "2025-09-30T00:17:19.875794Z",
     "iopub.status.idle": "2025-09-30T00:17:20.260867Z",
     "shell.execute_reply": "2025-09-30T00:17:20.260296Z"
    }
   },
   "outputs": [
    {
     "data": {
      "text/html": [
       "<div>\n",
       "<style scoped>\n",
       "    .dataframe tbody tr th:only-of-type {\n",
       "        vertical-align: middle;\n",
       "    }\n",
       "\n",
       "    .dataframe tbody tr th {\n",
       "        vertical-align: top;\n",
       "    }\n",
       "\n",
       "    .dataframe thead th {\n",
       "        text-align: right;\n",
       "    }\n",
       "</style>\n",
       "<table border=\"1\" class=\"dataframe\">\n",
       "  <thead>\n",
       "    <tr style=\"text-align: right;\">\n",
       "      <th></th>\n",
       "      <th>mapped_smiles</th>\n",
       "    </tr>\n",
       "  </thead>\n",
       "  <tbody>\n",
       "    <tr>\n",
       "      <th>0</th>\n",
       "      <td>[C:1]([H:2])([H:3])([H:4])[H:5]</td>\n",
       "    </tr>\n",
       "    <tr>\n",
       "      <th>1</th>\n",
       "      <td>[C:1]([C:2]([H:6])([H:7])[H:8])([H:3])([H:4])[...</td>\n",
       "    </tr>\n",
       "    <tr>\n",
       "      <th>2</th>\n",
       "      <td>[C:1]([C:2]([C:3]([H:9])([H:10])[H:11])([H:7])...</td>\n",
       "    </tr>\n",
       "    <tr>\n",
       "      <th>3</th>\n",
       "      <td>[C:1]([C:2]([C:3]([C:4]([H:12])([H:13])[H:14])...</td>\n",
       "    </tr>\n",
       "    <tr>\n",
       "      <th>4</th>\n",
       "      <td>[C:1]([C:2]([C:3]([H:9])([H:10])[H:11])([C:4](...</td>\n",
       "    </tr>\n",
       "    <tr>\n",
       "      <th>5</th>\n",
       "      <td>[C:1]([C:2]([C:3]([C:4]([C:5]([H:15])([H:16])[...</td>\n",
       "    </tr>\n",
       "    <tr>\n",
       "      <th>6</th>\n",
       "      <td>[C:1]([C:2]([C:3]([H:10])([H:11])[H:12])([C:4]...</td>\n",
       "    </tr>\n",
       "    <tr>\n",
       "      <th>7</th>\n",
       "      <td>[C:1]([C:2]([C:3]([C:4]([C:5]([C:6]([H:18])([H...</td>\n",
       "    </tr>\n",
       "    <tr>\n",
       "      <th>8</th>\n",
       "      <td>[C:1]([C:2]([C:3]([H:11])([H:12])[H:13])([C:4]...</td>\n",
       "    </tr>\n",
       "    <tr>\n",
       "      <th>9</th>\n",
       "      <td>[C:1]([C:2]([C:3]([C:4]([H:13])([H:14])[H:15])...</td>\n",
       "    </tr>\n",
       "  </tbody>\n",
       "</table>\n",
       "</div>"
      ],
      "text/plain": [
       "                                       mapped_smiles\n",
       "0                    [C:1]([H:2])([H:3])([H:4])[H:5]\n",
       "1  [C:1]([C:2]([H:6])([H:7])[H:8])([H:3])([H:4])[...\n",
       "2  [C:1]([C:2]([C:3]([H:9])([H:10])[H:11])([H:7])...\n",
       "3  [C:1]([C:2]([C:3]([C:4]([H:12])([H:13])[H:14])...\n",
       "4  [C:1]([C:2]([C:3]([H:9])([H:10])[H:11])([C:4](...\n",
       "5  [C:1]([C:2]([C:3]([C:4]([C:5]([H:15])([H:16])[...\n",
       "6  [C:1]([C:2]([C:3]([H:10])([H:11])[H:12])([C:4]...\n",
       "7  [C:1]([C:2]([C:3]([C:4]([C:5]([C:6]([H:18])([H...\n",
       "8  [C:1]([C:2]([C:3]([H:11])([H:12])[H:13])([C:4]...\n",
       "9  [C:1]([C:2]([C:3]([C:4]([H:13])([H:14])[H:15])..."
      ]
     },
     "execution_count": 6,
     "metadata": {},
     "output_type": "execute_result"
    }
   ],
   "source": [
    "from openff.nagl.label.dataset import LabelledDataset\n",
    "\n",
    "training_alkanes = [\n",
    "    'C',\n",
    "     'CC',\n",
    "     'CCC',\n",
    "     'CCCC',\n",
    "     'CC(C)C',\n",
    "     'CCCCC',\n",
    "     'CC(C)CC',\n",
    "     'CCCCCC',\n",
    "     'CC(C)CCC',\n",
    "     'CC(CC)CC',\n",
    "]\n",
    "\n",
    "training_dataset = LabelledDataset.from_smiles(\n",
    "    \"training_data\",\n",
    "    training_alkanes,\n",
    "    mapped=False,\n",
    "    overwrite_existing=True,\n",
    ")\n",
    "training_dataset.to_pandas()"
   ]
  },
  {
   "cell_type": "markdown",
   "id": "f08ac77c-486d-4fce-a269-2fd53e7161ec",
   "metadata": {},
   "source": [
    "Below we specify label functions to label our molecules with the information that we will use in training and testing. Each argument is specified and annotated to explain their purpose; however, all label functions can be instantiated with default arguments (e.g. `LabelConformers()`) unless you need specific column names or arguments (e.g. changing the charge method).\n",
    "\n",
    "**Note: the ESP label function requires `openff-recharge` to be installed.**"
   ]
  },
  {
   "cell_type": "code",
   "execution_count": 7,
   "id": "185c204a-8dfa-4256-92e4-620d18fbd351",
   "metadata": {
    "execution": {
     "iopub.execute_input": "2025-09-30T00:17:20.263315Z",
     "iopub.status.busy": "2025-09-30T00:17:20.262863Z",
     "iopub.status.idle": "2025-09-30T00:17:20.270417Z",
     "shell.execute_reply": "2025-09-30T00:17:20.269873Z"
    }
   },
   "outputs": [],
   "source": [
    "from openff.nagl.label.labels import (\n",
    "    LabelConformers,\n",
    "    LabelCharges,\n",
    "    LabelMultipleDipoles,\n",
    "    LabelMultipleESPs,\n",
    ")\n",
    "import openff.recharge\n",
    "\n",
    "# generate ELF conformers\n",
    "label_conformers = LabelConformers(\n",
    "    # create a new 'conformers' with output conformers\n",
    "    conformer_column=\"conformers\",\n",
    "    # create a new 'n_conformers' with number of conformers\n",
    "    n_conformer_column=\"n_conformers\",\n",
    "    n_conformer_pool=500, # initially generate 500 conformers\n",
    "    n_conformers=10, # prune to max 10 conformers\n",
    "    rms_cutoff=0.05,\n",
    ")\n",
    "\n",
    "# generate AM1 charges\n",
    "label_am1_charges = LabelCharges(\n",
    "    charge_method=\"am1-mulliken\", # AM1\n",
    "    # use previously generate conformers instead of new ones\n",
    "    use_existing_conformers=True,\n",
    "    # use the 'conformers' column as input for charge assignment\n",
    "    conformer_column=\"conformers\",\n",
    "    # write generated charges to 'target-am1-charges' column\n",
    "    charge_column=\"target-am1-charges\",\n",
    ")\n",
    "\n",
    "# generate AM1-BCC charges\n",
    "label_am1bcc_charges = LabelCharges(\n",
    "    charge_method=\"am1bcc\", # AM1BCC\n",
    "    # use previously generate conformers instead of new ones\n",
    "    use_existing_conformers=True,\n",
    "    # use the 'conformers' column as input for charge assignment\n",
    "    conformer_column=\"conformers\",\n",
    "    # write generated charges to 'target-am1bcc-charges' column\n",
    "    charge_column=\"target-am1bcc-charges\",\n",
    ")\n",
    "\n",
    "label_am1bcc_dipoles = LabelMultipleDipoles(\n",
    "    # use the 'conformers' column as input to calculate dipole moments\n",
    "    conformer_column=\"conformers\",\n",
    "    # use the 'n_conformers' column as input\n",
    "    n_conformer_column=\"n_conformers\",\n",
    "    # use the \"target-am1bcc-charges\" column as input to calculate dipole moments\n",
    "    charge_column=\"target-am1bcc-charges\",\n",
    "    # write calculated dipoles to 'target-am1bcc-dipoles' column\n",
    "    dipole_column=\"target-am1bcc-dipoles\",\n",
    ")\n",
    "\n",
    "label_am1bcc_esps = LabelMultipleESPs(\n",
    "    # use the 'conformers' column as input to calculate ESPs\n",
    "    conformer_column=\"conformers\",\n",
    "    # use the 'n_conformers' column as input\n",
    "    n_conformer_column=\"n_conformers\",\n",
    "    # use the \"target-am1bcc-charges\" column as input to calculate ESPS\n",
    "    charge_column=\"target-am1bcc-charges\",\n",
    "    # generate new grids and inverse distances to points\n",
    "    use_existing_inverse_distances=False,\n",
    "    # write inverse distances from conformer to surface to this column\n",
    "    inverse_distance_matrix_column=\"grid_inverse_distances\",\n",
    "    # write number of grid points for each surface to this column\n",
    "    grid_length_column=\"esp_lengths\",\n",
    "    # write calculated ESPs to 'esps' column\n",
    "    esp_column=\"esps\",\n",
    ")"
   ]
  },
  {
   "cell_type": "markdown",
   "id": "9fc7e32e-4c2b-4f19-8797-17f4dcf85630",
   "metadata": {},
   "source": [
    "Below we apply the label functions to actually generate the labels. The order matters, as later label functions use the output of earlier ones."
   ]
  },
  {
   "cell_type": "code",
   "execution_count": 8,
   "id": "eb502fad-6eec-4395-bd78-b06bb8a27e19",
   "metadata": {
    "execution": {
     "iopub.execute_input": "2025-09-30T00:17:20.272157Z",
     "iopub.status.busy": "2025-09-30T00:17:20.271972Z",
     "iopub.status.idle": "2025-09-30T00:17:42.742972Z",
     "shell.execute_reply": "2025-09-30T00:17:42.742437Z"
    }
   },
   "outputs": [
    {
     "name": "stderr",
     "output_type": "stream",
     "text": [
      "/home/runner/micromamba/envs/openff-docs-examples/lib/python3.11/site-packages/openff/toolkit/utils/toolkit_registry.py:262: UserWarning: `NAGLToolkitWrapper.assign_partial_charges` was passed optional argument `use_conformers` which will not be used. OpenFF NAGL does not generate conformers as part of assigning partial charges.\n",
      "  return method(*args, **kwargs)\n",
      "/home/runner/micromamba/envs/openff-docs-examples/lib/python3.11/site-packages/openff/toolkit/utils/toolkit_registry.py:262: UserWarning: `NAGLToolkitWrapper.assign_partial_charges` was passed optional argument `use_conformers` which will not be used. OpenFF NAGL does not generate conformers as part of assigning partial charges.\n",
      "  return method(*args, **kwargs)\n"
     ]
    },
    {
     "name": "stderr",
     "output_type": "stream",
     "text": [
      "/home/runner/micromamba/envs/openff-docs-examples/lib/python3.11/site-packages/openff/toolkit/utils/toolkit_registry.py:262: UserWarning: `NAGLToolkitWrapper.assign_partial_charges` was passed optional argument `use_conformers` which will not be used. OpenFF NAGL does not generate conformers as part of assigning partial charges.\n",
      "  return method(*args, **kwargs)\n"
     ]
    },
    {
     "name": "stderr",
     "output_type": "stream",
     "text": [
      "/home/runner/micromamba/envs/openff-docs-examples/lib/python3.11/site-packages/openff/toolkit/utils/toolkit_registry.py:262: UserWarning: `NAGLToolkitWrapper.assign_partial_charges` was passed optional argument `use_conformers` which will not be used. OpenFF NAGL does not generate conformers as part of assigning partial charges.\n",
      "  return method(*args, **kwargs)\n"
     ]
    },
    {
     "name": "stderr",
     "output_type": "stream",
     "text": [
      "/home/runner/micromamba/envs/openff-docs-examples/lib/python3.11/site-packages/openff/toolkit/utils/toolkit_registry.py:262: UserWarning: `NAGLToolkitWrapper.assign_partial_charges` was passed optional argument `use_conformers` which will not be used. OpenFF NAGL does not generate conformers as part of assigning partial charges.\n",
      "  return method(*args, **kwargs)\n"
     ]
    },
    {
     "name": "stderr",
     "output_type": "stream",
     "text": [
      "/home/runner/micromamba/envs/openff-docs-examples/lib/python3.11/site-packages/openff/toolkit/utils/toolkit_registry.py:262: UserWarning: `NAGLToolkitWrapper.assign_partial_charges` was passed optional argument `use_conformers` which will not be used. OpenFF NAGL does not generate conformers as part of assigning partial charges.\n",
      "  return method(*args, **kwargs)\n"
     ]
    },
    {
     "name": "stderr",
     "output_type": "stream",
     "text": [
      "/home/runner/micromamba/envs/openff-docs-examples/lib/python3.11/site-packages/openff/toolkit/utils/toolkit_registry.py:262: UserWarning: `NAGLToolkitWrapper.assign_partial_charges` was passed optional argument `use_conformers` which will not be used. OpenFF NAGL does not generate conformers as part of assigning partial charges.\n",
      "  return method(*args, **kwargs)\n"
     ]
    },
    {
     "name": "stderr",
     "output_type": "stream",
     "text": [
      "/home/runner/micromamba/envs/openff-docs-examples/lib/python3.11/site-packages/openff/toolkit/utils/toolkit_registry.py:262: UserWarning: `NAGLToolkitWrapper.assign_partial_charges` was passed optional argument `use_conformers` which will not be used. OpenFF NAGL does not generate conformers as part of assigning partial charges.\n",
      "  return method(*args, **kwargs)\n"
     ]
    },
    {
     "name": "stderr",
     "output_type": "stream",
     "text": [
      "/home/runner/micromamba/envs/openff-docs-examples/lib/python3.11/site-packages/openff/toolkit/utils/toolkit_registry.py:262: UserWarning: `NAGLToolkitWrapper.assign_partial_charges` was passed optional argument `use_conformers` which will not be used. OpenFF NAGL does not generate conformers as part of assigning partial charges.\n",
      "  return method(*args, **kwargs)\n"
     ]
    },
    {
     "name": "stderr",
     "output_type": "stream",
     "text": [
      "/home/runner/micromamba/envs/openff-docs-examples/lib/python3.11/site-packages/openff/toolkit/utils/toolkit_registry.py:262: UserWarning: `NAGLToolkitWrapper.assign_partial_charges` was passed optional argument `use_conformers` which will not be used. OpenFF NAGL does not generate conformers as part of assigning partial charges.\n",
      "  return method(*args, **kwargs)\n"
     ]
    },
    {
     "name": "stderr",
     "output_type": "stream",
     "text": [
      "/home/runner/micromamba/envs/openff-docs-examples/lib/python3.11/site-packages/openff/toolkit/utils/toolkit_registry.py:262: UserWarning: `NAGLToolkitWrapper.assign_partial_charges` was passed optional argument `use_conformers` which will not be used. OpenFF NAGL does not generate conformers as part of assigning partial charges.\n",
      "  return method(*args, **kwargs)\n",
      "/home/runner/micromamba/envs/openff-docs-examples/lib/python3.11/site-packages/openff/toolkit/utils/toolkit_registry.py:262: UserWarning: `NAGLToolkitWrapper.assign_partial_charges` was passed optional argument `use_conformers` which will not be used. OpenFF NAGL does not generate conformers as part of assigning partial charges.\n",
      "  return method(*args, **kwargs)\n"
     ]
    },
    {
     "name": "stderr",
     "output_type": "stream",
     "text": [
      "/home/runner/micromamba/envs/openff-docs-examples/lib/python3.11/site-packages/openff/toolkit/utils/toolkit_registry.py:262: UserWarning: `NAGLToolkitWrapper.assign_partial_charges` was passed optional argument `use_conformers` which will not be used. OpenFF NAGL does not generate conformers as part of assigning partial charges.\n",
      "  return method(*args, **kwargs)\n"
     ]
    },
    {
     "name": "stderr",
     "output_type": "stream",
     "text": [
      "/home/runner/micromamba/envs/openff-docs-examples/lib/python3.11/site-packages/openff/toolkit/utils/toolkit_registry.py:262: UserWarning: `NAGLToolkitWrapper.assign_partial_charges` was passed optional argument `use_conformers` which will not be used. OpenFF NAGL does not generate conformers as part of assigning partial charges.\n",
      "  return method(*args, **kwargs)\n"
     ]
    },
    {
     "name": "stderr",
     "output_type": "stream",
     "text": [
      "/home/runner/micromamba/envs/openff-docs-examples/lib/python3.11/site-packages/openff/toolkit/utils/toolkit_registry.py:262: UserWarning: `NAGLToolkitWrapper.assign_partial_charges` was passed optional argument `use_conformers` which will not be used. OpenFF NAGL does not generate conformers as part of assigning partial charges.\n",
      "  return method(*args, **kwargs)\n"
     ]
    },
    {
     "name": "stderr",
     "output_type": "stream",
     "text": [
      "/home/runner/micromamba/envs/openff-docs-examples/lib/python3.11/site-packages/openff/toolkit/utils/toolkit_registry.py:262: UserWarning: `NAGLToolkitWrapper.assign_partial_charges` was passed optional argument `use_conformers` which will not be used. OpenFF NAGL does not generate conformers as part of assigning partial charges.\n",
      "  return method(*args, **kwargs)\n"
     ]
    },
    {
     "name": "stderr",
     "output_type": "stream",
     "text": [
      "/home/runner/micromamba/envs/openff-docs-examples/lib/python3.11/site-packages/openff/toolkit/utils/toolkit_registry.py:262: UserWarning: `NAGLToolkitWrapper.assign_partial_charges` was passed optional argument `use_conformers` which will not be used. OpenFF NAGL does not generate conformers as part of assigning partial charges.\n",
      "  return method(*args, **kwargs)\n"
     ]
    },
    {
     "name": "stderr",
     "output_type": "stream",
     "text": [
      "/home/runner/micromamba/envs/openff-docs-examples/lib/python3.11/site-packages/openff/toolkit/utils/toolkit_registry.py:262: UserWarning: `NAGLToolkitWrapper.assign_partial_charges` was passed optional argument `use_conformers` which will not be used. OpenFF NAGL does not generate conformers as part of assigning partial charges.\n",
      "  return method(*args, **kwargs)\n"
     ]
    },
    {
     "name": "stderr",
     "output_type": "stream",
     "text": [
      "/home/runner/micromamba/envs/openff-docs-examples/lib/python3.11/site-packages/openff/toolkit/utils/toolkit_registry.py:262: UserWarning: `NAGLToolkitWrapper.assign_partial_charges` was passed optional argument `use_conformers` which will not be used. OpenFF NAGL does not generate conformers as part of assigning partial charges.\n",
      "  return method(*args, **kwargs)\n"
     ]
    },
    {
     "name": "stderr",
     "output_type": "stream",
     "text": [
      "/home/runner/micromamba/envs/openff-docs-examples/lib/python3.11/site-packages/openff/toolkit/utils/toolkit_registry.py:262: UserWarning: `NAGLToolkitWrapper.assign_partial_charges` was passed optional argument `use_conformers` which will not be used. OpenFF NAGL does not generate conformers as part of assigning partial charges.\n",
      "  return method(*args, **kwargs)\n"
     ]
    },
    {
     "data": {
      "text/html": [
       "<div>\n",
       "<style scoped>\n",
       "    .dataframe tbody tr th:only-of-type {\n",
       "        vertical-align: middle;\n",
       "    }\n",
       "\n",
       "    .dataframe tbody tr th {\n",
       "        vertical-align: top;\n",
       "    }\n",
       "\n",
       "    .dataframe thead th {\n",
       "        text-align: right;\n",
       "    }\n",
       "</style>\n",
       "<table border=\"1\" class=\"dataframe\">\n",
       "  <thead>\n",
       "    <tr style=\"text-align: right;\">\n",
       "      <th></th>\n",
       "      <th>mapped_smiles</th>\n",
       "      <th>conformers</th>\n",
       "      <th>n_conformers</th>\n",
       "      <th>target-am1-charges</th>\n",
       "      <th>target-am1bcc-charges</th>\n",
       "      <th>target-am1bcc-dipoles</th>\n",
       "      <th>esp_lengths</th>\n",
       "      <th>grid_inverse_distances</th>\n",
       "      <th>esps</th>\n",
       "    </tr>\n",
       "  </thead>\n",
       "  <tbody>\n",
       "    <tr>\n",
       "      <th>0</th>\n",
       "      <td>[C:1]([H:2])([H:3])([H:4])[H:5]</td>\n",
       "      <td>[0.005118712612069831, -0.010620498663889949, ...</td>\n",
       "      <td>1</td>\n",
       "      <td>[-0.2656, 0.0664, 0.0664, 0.0664, 0.0664]</td>\n",
       "      <td>[-0.1084, 0.0271, 0.0271, 0.0271, 0.0271]</td>\n",
       "      <td>[-0.0006935855589354639, 0.001439077568957078,...</td>\n",
       "      <td>[398]</td>\n",
       "      <td>[0.22234336592604098, 0.1691980088400493, 0.26...</td>\n",
       "      <td>[-0.0004840379389589103, -0.000719721399576952...</td>\n",
       "    </tr>\n",
       "    <tr>\n",
       "      <th>1</th>\n",
       "      <td>[C:1]([C:2]([H:6])([H:7])[H:8])([H:3])([H:4])[...</td>\n",
       "      <td>[-0.7476366827021611, 0.04183756987532164, 0.0...</td>\n",
       "      <td>1</td>\n",
       "      <td>[-0.21225, -0.21225, 0.07075, 0.07075, 0.07075...</td>\n",
       "      <td>[-0.09435, -0.09435, 0.03145, 0.03145, 0.03145...</td>\n",
       "      <td>[-0.00041758620441836175, -0.00538507227854946...</td>\n",
       "      <td>[496]</td>\n",
       "      <td>[0.22234336592604098, 0.1875765310312512, 0.30...</td>\n",
       "      <td>[-0.0013845549815025733, -0.00291925136435707,...</td>\n",
       "    </tr>\n",
       "    <tr>\n",
       "      <th>2</th>\n",
       "      <td>[C:1]([C:2]([C:3]([H:9])([H:10])[H:11])([H:7])...</td>\n",
       "      <td>[1.217152984776736, -0.2427629117673087, 0.210...</td>\n",
       "      <td>1</td>\n",
       "      <td>[-0.211, -0.16, -0.211, 0.072, 0.072, 0.071, 0...</td>\n",
       "      <td>[-0.09310018181818182, -0.08140018181818182, -...</td>\n",
       "      <td>[-0.004730849295705435, -0.0099036645566341, 0...</td>\n",
       "      <td>[602]</td>\n",
       "      <td>[0.22234336592604098, 0.20444340100593927, 0.1...</td>\n",
       "      <td>[-0.002897594388970582, -0.0009646163309668544...</td>\n",
       "    </tr>\n",
       "    <tr>\n",
       "      <th>3</th>\n",
       "      <td>[C:1]([C:2]([C:3]([C:4]([H:12])([H:13])[H:14])...</td>\n",
       "      <td>[1.891468422129933, 0.051344513264112185, 0.24...</td>\n",
       "      <td>1</td>\n",
       "      <td>[-0.21028571428571427, -0.15928571428571428, -...</td>\n",
       "      <td>[-0.09238585714285714, -0.08068585714285714, -...</td>\n",
       "      <td>[-0.003913810727719819, -0.0051085581947480085...</td>\n",
       "      <td>[695]</td>\n",
       "      <td>[0.22234336592604098, 0.17093193901394524, 0.1...</td>\n",
       "      <td>[-0.0009134260983215646, 2.1779035910940436e-0...</td>\n",
       "    </tr>\n",
       "    <tr>\n",
       "      <th>4</th>\n",
       "      <td>[C:1]([C:2]([C:3]([H:9])([H:10])[H:11])([C:4](...</td>\n",
       "      <td>[1.4395471764526913, 0.2764834314806461, 0.136...</td>\n",
       "      <td>1</td>\n",
       "      <td>[-0.20735714285714285, -0.10935714285714285, -...</td>\n",
       "      <td>[-0.08945692857142856, -0.07005692857142856, -...</td>\n",
       "      <td>[-0.005837276089204181, -0.00952804644804893, ...</td>\n",
       "      <td>[676]</td>\n",
       "      <td>[0.22234336592604098, 0.1907834050561498, 0.14...</td>\n",
       "      <td>[-0.0008623206152059484, -0.003368057557777097...</td>\n",
       "    </tr>\n",
       "    <tr>\n",
       "      <th>5</th>\n",
       "      <td>[C:1]([C:2]([C:3]([C:4]([C:5]([H:15])([H:16])[...</td>\n",
       "      <td>[2.4653833360039563, -0.04588079514691061, 0.0...</td>\n",
       "      <td>1</td>\n",
       "      <td>[-0.21, -0.159, -0.158, -0.159, -0.21, 0.07200...</td>\n",
       "      <td>[-0.09210011764705882, -0.08040011764705882, -...</td>\n",
       "      <td>[-0.004338372099247187, 0.00563319678122937, 0...</td>\n",
       "      <td>[787]</td>\n",
       "      <td>[0.22234336592604098, 0.14190690004407353, 0.1...</td>\n",
       "      <td>[0.0004648774077559226, 0.00017203291543353792...</td>\n",
       "    </tr>\n",
       "    <tr>\n",
       "      <th>6</th>\n",
       "      <td>[C:1]([C:2]([C:3]([H:10])([H:11])[H:12])([C:4]...</td>\n",
       "      <td>[-1.2553449739454556, 1.0455464122726073, 0.03...</td>\n",
       "      <td>1</td>\n",
       "      <td>[-0.207, -0.10599999999999998, -0.207, -0.153,...</td>\n",
       "      <td>[-0.08909988235294117, -0.06669988235294116, -...</td>\n",
       "      <td>[-0.0008746985584004857, -0.009802552244059657...</td>\n",
       "      <td>[764]</td>\n",
       "      <td>[0.22234336592604098, 0.152566347362172, 0.152...</td>\n",
       "      <td>[-0.00046918108049532215, -0.00142647829661626...</td>\n",
       "    </tr>\n",
       "    <tr>\n",
       "      <th>7</th>\n",
       "      <td>[C:1]([C:2]([C:3]([C:4]([C:5]([C:6]([H:18])([H...</td>\n",
       "      <td>[-3.0866505208004993, -0.19318766577556695, -0...</td>\n",
       "      <td>1</td>\n",
       "      <td>[-0.21009999999999998, -0.1591, -0.1581, -0.15...</td>\n",
       "      <td>[-0.0922, -0.0805, -0.0795, -0.0795, -0.0805, ...</td>\n",
       "      <td>[0.0022991477813734673, -0.016943484604316585,...</td>\n",
       "      <td>[908]</td>\n",
       "      <td>[0.22234336592604098, 0.1991620565557507, 0.15...</td>\n",
       "      <td>[-0.0012872440678624066, -9.717755939488842e-0...</td>\n",
       "    </tr>\n",
       "    <tr>\n",
       "      <th>8</th>\n",
       "      <td>[C:1]([C:2]([C:3]([H:11])([H:12])[H:13])([C:4]...</td>\n",
       "      <td>[-1.349605809430762, 1.2814441466436928, -0.33...</td>\n",
       "      <td>1</td>\n",
       "      <td>[-0.20694999999999997, -0.10694999999999998, -...</td>\n",
       "      <td>[-0.08955004999999999, -0.06765004999999999, -...</td>\n",
       "      <td>[-0.011423378526822306, 0.003635155692599444, ...</td>\n",
       "      <td>[844]</td>\n",
       "      <td>[0.22234336592604098, 0.18702403117186644, 0.1...</td>\n",
       "      <td>[-0.0013863964468524385, -0.002495649132384168...</td>\n",
       "    </tr>\n",
       "    <tr>\n",
       "      <th>9</th>\n",
       "      <td>[C:1]([C:2]([C:3]([C:4]([H:13])([H:14])[H:15])...</td>\n",
       "      <td>[-0.3994646663766072, -1.422662911831976, -0.9...</td>\n",
       "      <td>1</td>\n",
       "      <td>[-0.20794999999999997, -0.10594999999999999, -...</td>\n",
       "      <td>[-0.09005, -0.06665, -0.07785, -0.09205, -0.07...</td>\n",
       "      <td>[0.00010295224717736529, -0.012780436276269232...</td>\n",
       "      <td>[826]</td>\n",
       "      <td>[0.22234336592604098, 0.14355645184882204, 0.1...</td>\n",
       "      <td>[-0.000479682493800114, -0.0002510645713823499...</td>\n",
       "    </tr>\n",
       "  </tbody>\n",
       "</table>\n",
       "</div>"
      ],
      "text/plain": [
       "                                       mapped_smiles  \\\n",
       "0                    [C:1]([H:2])([H:3])([H:4])[H:5]   \n",
       "1  [C:1]([C:2]([H:6])([H:7])[H:8])([H:3])([H:4])[...   \n",
       "2  [C:1]([C:2]([C:3]([H:9])([H:10])[H:11])([H:7])...   \n",
       "3  [C:1]([C:2]([C:3]([C:4]([H:12])([H:13])[H:14])...   \n",
       "4  [C:1]([C:2]([C:3]([H:9])([H:10])[H:11])([C:4](...   \n",
       "5  [C:1]([C:2]([C:3]([C:4]([C:5]([H:15])([H:16])[...   \n",
       "6  [C:1]([C:2]([C:3]([H:10])([H:11])[H:12])([C:4]...   \n",
       "7  [C:1]([C:2]([C:3]([C:4]([C:5]([C:6]([H:18])([H...   \n",
       "8  [C:1]([C:2]([C:3]([H:11])([H:12])[H:13])([C:4]...   \n",
       "9  [C:1]([C:2]([C:3]([C:4]([H:13])([H:14])[H:15])...   \n",
       "\n",
       "                                          conformers  n_conformers  \\\n",
       "0  [0.005118712612069831, -0.010620498663889949, ...             1   \n",
       "1  [-0.7476366827021611, 0.04183756987532164, 0.0...             1   \n",
       "2  [1.217152984776736, -0.2427629117673087, 0.210...             1   \n",
       "3  [1.891468422129933, 0.051344513264112185, 0.24...             1   \n",
       "4  [1.4395471764526913, 0.2764834314806461, 0.136...             1   \n",
       "5  [2.4653833360039563, -0.04588079514691061, 0.0...             1   \n",
       "6  [-1.2553449739454556, 1.0455464122726073, 0.03...             1   \n",
       "7  [-3.0866505208004993, -0.19318766577556695, -0...             1   \n",
       "8  [-1.349605809430762, 1.2814441466436928, -0.33...             1   \n",
       "9  [-0.3994646663766072, -1.422662911831976, -0.9...             1   \n",
       "\n",
       "                                  target-am1-charges  \\\n",
       "0          [-0.2656, 0.0664, 0.0664, 0.0664, 0.0664]   \n",
       "1  [-0.21225, -0.21225, 0.07075, 0.07075, 0.07075...   \n",
       "2  [-0.211, -0.16, -0.211, 0.072, 0.072, 0.071, 0...   \n",
       "3  [-0.21028571428571427, -0.15928571428571428, -...   \n",
       "4  [-0.20735714285714285, -0.10935714285714285, -...   \n",
       "5  [-0.21, -0.159, -0.158, -0.159, -0.21, 0.07200...   \n",
       "6  [-0.207, -0.10599999999999998, -0.207, -0.153,...   \n",
       "7  [-0.21009999999999998, -0.1591, -0.1581, -0.15...   \n",
       "8  [-0.20694999999999997, -0.10694999999999998, -...   \n",
       "9  [-0.20794999999999997, -0.10594999999999999, -...   \n",
       "\n",
       "                               target-am1bcc-charges  \\\n",
       "0          [-0.1084, 0.0271, 0.0271, 0.0271, 0.0271]   \n",
       "1  [-0.09435, -0.09435, 0.03145, 0.03145, 0.03145...   \n",
       "2  [-0.09310018181818182, -0.08140018181818182, -...   \n",
       "3  [-0.09238585714285714, -0.08068585714285714, -...   \n",
       "4  [-0.08945692857142856, -0.07005692857142856, -...   \n",
       "5  [-0.09210011764705882, -0.08040011764705882, -...   \n",
       "6  [-0.08909988235294117, -0.06669988235294116, -...   \n",
       "7  [-0.0922, -0.0805, -0.0795, -0.0795, -0.0805, ...   \n",
       "8  [-0.08955004999999999, -0.06765004999999999, -...   \n",
       "9  [-0.09005, -0.06665, -0.07785, -0.09205, -0.07...   \n",
       "\n",
       "                               target-am1bcc-dipoles esp_lengths  \\\n",
       "0  [-0.0006935855589354639, 0.001439077568957078,...       [398]   \n",
       "1  [-0.00041758620441836175, -0.00538507227854946...       [496]   \n",
       "2  [-0.004730849295705435, -0.0099036645566341, 0...       [602]   \n",
       "3  [-0.003913810727719819, -0.0051085581947480085...       [695]   \n",
       "4  [-0.005837276089204181, -0.00952804644804893, ...       [676]   \n",
       "5  [-0.004338372099247187, 0.00563319678122937, 0...       [787]   \n",
       "6  [-0.0008746985584004857, -0.009802552244059657...       [764]   \n",
       "7  [0.0022991477813734673, -0.016943484604316585,...       [908]   \n",
       "8  [-0.011423378526822306, 0.003635155692599444, ...       [844]   \n",
       "9  [0.00010295224717736529, -0.012780436276269232...       [826]   \n",
       "\n",
       "                              grid_inverse_distances  \\\n",
       "0  [0.22234336592604098, 0.1691980088400493, 0.26...   \n",
       "1  [0.22234336592604098, 0.1875765310312512, 0.30...   \n",
       "2  [0.22234336592604098, 0.20444340100593927, 0.1...   \n",
       "3  [0.22234336592604098, 0.17093193901394524, 0.1...   \n",
       "4  [0.22234336592604098, 0.1907834050561498, 0.14...   \n",
       "5  [0.22234336592604098, 0.14190690004407353, 0.1...   \n",
       "6  [0.22234336592604098, 0.152566347362172, 0.152...   \n",
       "7  [0.22234336592604098, 0.1991620565557507, 0.15...   \n",
       "8  [0.22234336592604098, 0.18702403117186644, 0.1...   \n",
       "9  [0.22234336592604098, 0.14355645184882204, 0.1...   \n",
       "\n",
       "                                                esps  \n",
       "0  [-0.0004840379389589103, -0.000719721399576952...  \n",
       "1  [-0.0013845549815025733, -0.00291925136435707,...  \n",
       "2  [-0.002897594388970582, -0.0009646163309668544...  \n",
       "3  [-0.0009134260983215646, 2.1779035910940436e-0...  \n",
       "4  [-0.0008623206152059484, -0.003368057557777097...  \n",
       "5  [0.0004648774077559226, 0.00017203291543353792...  \n",
       "6  [-0.00046918108049532215, -0.00142647829661626...  \n",
       "7  [-0.0012872440678624066, -9.717755939488842e-0...  \n",
       "8  [-0.0013863964468524385, -0.002495649132384168...  \n",
       "9  [-0.000479682493800114, -0.0002510645713823499...  "
      ]
     },
     "execution_count": 8,
     "metadata": {},
     "output_type": "execute_result"
    }
   ],
   "source": [
    "labellers = [\n",
    "    label_conformers, # generate initial conformers,\n",
    "    label_am1_charges,\n",
    "    label_am1bcc_charges,\n",
    "    label_am1bcc_dipoles,\n",
    "    label_am1bcc_esps,\n",
    "]\n",
    "\n",
    "training_dataset.apply_labellers(labellers)\n",
    "training_dataset.to_pandas()"
   ]
  },
  {
   "cell_type": "markdown",
   "id": "75907f1f",
   "metadata": {},
   "source": [
    "### Building a test dataset"
   ]
  },
  {
   "cell_type": "markdown",
   "id": "4938cee0-ee07-4b6a-987e-215449149db7",
   "metadata": {},
   "source": [
    "To augment the provided training set, we'll quickly prepare a second dataset for testing and validation. We use the same label functions:"
   ]
  },
  {
   "cell_type": "code",
   "execution_count": 9,
   "id": "1de9bd3a",
   "metadata": {
    "execution": {
     "iopub.execute_input": "2025-09-30T00:17:42.744878Z",
     "iopub.status.busy": "2025-09-30T00:17:42.744694Z",
     "iopub.status.idle": "2025-09-30T00:18:04.900881Z",
     "shell.execute_reply": "2025-09-30T00:18:04.900356Z"
    }
   },
   "outputs": [
    {
     "name": "stderr",
     "output_type": "stream",
     "text": [
      "/home/runner/micromamba/envs/openff-docs-examples/lib/python3.11/site-packages/openff/toolkit/utils/toolkit_registry.py:262: UserWarning: `NAGLToolkitWrapper.assign_partial_charges` was passed optional argument `use_conformers` which will not be used. OpenFF NAGL does not generate conformers as part of assigning partial charges.\n",
      "  return method(*args, **kwargs)\n"
     ]
    },
    {
     "name": "stderr",
     "output_type": "stream",
     "text": [
      "/home/runner/micromamba/envs/openff-docs-examples/lib/python3.11/site-packages/openff/toolkit/utils/toolkit_registry.py:262: UserWarning: `NAGLToolkitWrapper.assign_partial_charges` was passed optional argument `use_conformers` which will not be used. OpenFF NAGL does not generate conformers as part of assigning partial charges.\n",
      "  return method(*args, **kwargs)\n"
     ]
    },
    {
     "name": "stderr",
     "output_type": "stream",
     "text": [
      "/home/runner/micromamba/envs/openff-docs-examples/lib/python3.11/site-packages/openff/toolkit/utils/toolkit_registry.py:262: UserWarning: `NAGLToolkitWrapper.assign_partial_charges` was passed optional argument `use_conformers` which will not be used. OpenFF NAGL does not generate conformers as part of assigning partial charges.\n",
      "  return method(*args, **kwargs)\n"
     ]
    },
    {
     "name": "stderr",
     "output_type": "stream",
     "text": [
      "/home/runner/micromamba/envs/openff-docs-examples/lib/python3.11/site-packages/openff/toolkit/utils/toolkit_registry.py:262: UserWarning: `NAGLToolkitWrapper.assign_partial_charges` was passed optional argument `use_conformers` which will not be used. OpenFF NAGL does not generate conformers as part of assigning partial charges.\n",
      "  return method(*args, **kwargs)\n"
     ]
    },
    {
     "name": "stderr",
     "output_type": "stream",
     "text": [
      "/home/runner/micromamba/envs/openff-docs-examples/lib/python3.11/site-packages/openff/toolkit/utils/toolkit_registry.py:262: UserWarning: `NAGLToolkitWrapper.assign_partial_charges` was passed optional argument `use_conformers` which will not be used. OpenFF NAGL does not generate conformers as part of assigning partial charges.\n",
      "  return method(*args, **kwargs)\n"
     ]
    },
    {
     "name": "stderr",
     "output_type": "stream",
     "text": [
      "/home/runner/micromamba/envs/openff-docs-examples/lib/python3.11/site-packages/openff/toolkit/utils/toolkit_registry.py:262: UserWarning: `NAGLToolkitWrapper.assign_partial_charges` was passed optional argument `use_conformers` which will not be used. OpenFF NAGL does not generate conformers as part of assigning partial charges.\n",
      "  return method(*args, **kwargs)\n"
     ]
    },
    {
     "name": "stderr",
     "output_type": "stream",
     "text": [
      "/home/runner/micromamba/envs/openff-docs-examples/lib/python3.11/site-packages/openff/toolkit/utils/toolkit_registry.py:262: UserWarning: `NAGLToolkitWrapper.assign_partial_charges` was passed optional argument `use_conformers` which will not be used. OpenFF NAGL does not generate conformers as part of assigning partial charges.\n",
      "  return method(*args, **kwargs)\n"
     ]
    },
    {
     "name": "stderr",
     "output_type": "stream",
     "text": [
      "/home/runner/micromamba/envs/openff-docs-examples/lib/python3.11/site-packages/openff/toolkit/utils/toolkit_registry.py:262: UserWarning: `NAGLToolkitWrapper.assign_partial_charges` was passed optional argument `use_conformers` which will not be used. OpenFF NAGL does not generate conformers as part of assigning partial charges.\n",
      "  return method(*args, **kwargs)\n"
     ]
    },
    {
     "name": "stderr",
     "output_type": "stream",
     "text": [
      "/home/runner/micromamba/envs/openff-docs-examples/lib/python3.11/site-packages/openff/toolkit/utils/toolkit_registry.py:262: UserWarning: `NAGLToolkitWrapper.assign_partial_charges` was passed optional argument `use_conformers` which will not be used. OpenFF NAGL does not generate conformers as part of assigning partial charges.\n",
      "  return method(*args, **kwargs)\n"
     ]
    },
    {
     "name": "stderr",
     "output_type": "stream",
     "text": [
      "/home/runner/micromamba/envs/openff-docs-examples/lib/python3.11/site-packages/openff/toolkit/utils/toolkit_registry.py:262: UserWarning: `NAGLToolkitWrapper.assign_partial_charges` was passed optional argument `use_conformers` which will not be used. OpenFF NAGL does not generate conformers as part of assigning partial charges.\n",
      "  return method(*args, **kwargs)\n"
     ]
    },
    {
     "data": {
      "text/html": [
       "<div>\n",
       "<style scoped>\n",
       "    .dataframe tbody tr th:only-of-type {\n",
       "        vertical-align: middle;\n",
       "    }\n",
       "\n",
       "    .dataframe tbody tr th {\n",
       "        vertical-align: top;\n",
       "    }\n",
       "\n",
       "    .dataframe thead th {\n",
       "        text-align: right;\n",
       "    }\n",
       "</style>\n",
       "<table border=\"1\" class=\"dataframe\">\n",
       "  <thead>\n",
       "    <tr style=\"text-align: right;\">\n",
       "      <th></th>\n",
       "      <th>mapped_smiles</th>\n",
       "      <th>conformers</th>\n",
       "      <th>n_conformers</th>\n",
       "      <th>target-am1-charges</th>\n",
       "      <th>target-am1bcc-charges</th>\n",
       "      <th>target-am1bcc-dipoles</th>\n",
       "      <th>esp_lengths</th>\n",
       "      <th>grid_inverse_distances</th>\n",
       "      <th>esps</th>\n",
       "    </tr>\n",
       "  </thead>\n",
       "  <tbody>\n",
       "    <tr>\n",
       "      <th>0</th>\n",
       "      <td>[C:1]([C:2]([C:3]([C:4]([C:5]([C:6]([C:7]([H:2...</td>\n",
       "      <td>[-3.546068940192181, 0.5935908094613401, 0.079...</td>\n",
       "      <td>3</td>\n",
       "      <td>[-0.2103333333333333, -0.15866666666666665, -0...</td>\n",
       "      <td>[-0.09226657971014492, -0.0797332463768116, -0...</td>\n",
       "      <td>[-0.009115162009838196, -0.001027786866909089,...</td>\n",
       "      <td>[938, 884, 964]</td>\n",
       "      <td>[0.22234336592604098, 0.22104114061872154, 0.1...</td>\n",
       "      <td>[-0.001134141142072569, -0.000448680152903249,...</td>\n",
       "    </tr>\n",
       "    <tr>\n",
       "      <th>1</th>\n",
       "      <td>[C:1]([C:2]([C:3]([H:11])([H:12])[H:13])([C:4]...</td>\n",
       "      <td>[0.9780009691126561, -0.9290358087611312, 0.93...</td>\n",
       "      <td>1</td>\n",
       "      <td>[-0.20589999999999997, -0.10289999999999998, -...</td>\n",
       "      <td>[-0.0890002, -0.06360020000000001, -0.0890002,...</td>\n",
       "      <td>[-0.0018496136981201866, -0.010091856232488358...</td>\n",
       "      <td>[800]</td>\n",
       "      <td>[0.22234336592604098, 0.17975898869235704, 0.1...</td>\n",
       "      <td>[-0.00103851821294269, -0.00010425322732013007...</td>\n",
       "    </tr>\n",
       "    <tr>\n",
       "      <th>2</th>\n",
       "      <td>[C:1]([C:2]([C:3]([H:9])([H:10])[H:11])([C:4](...</td>\n",
       "      <td>[1.2931714944742823, -0.7654495089444694, -0.0...</td>\n",
       "      <td>1</td>\n",
       "      <td>[-0.20323529411764704, -0.06023529411764704, -...</td>\n",
       "      <td>[-0.08533529411764705, -0.06023529411764706, -...</td>\n",
       "      <td>[0.0033685192825578057, 0.010316515532278664, ...</td>\n",
       "      <td>[743]</td>\n",
       "      <td>[0.22234336592604098, 0.16293914207377264, 0.1...</td>\n",
       "      <td>[6.830848951215086e-06, 0.0004037088118935212,...</td>\n",
       "    </tr>\n",
       "  </tbody>\n",
       "</table>\n",
       "</div>"
      ],
      "text/plain": [
       "                                       mapped_smiles  \\\n",
       "0  [C:1]([C:2]([C:3]([C:4]([C:5]([C:6]([C:7]([H:2...   \n",
       "1  [C:1]([C:2]([C:3]([H:11])([H:12])[H:13])([C:4]...   \n",
       "2  [C:1]([C:2]([C:3]([H:9])([H:10])[H:11])([C:4](...   \n",
       "\n",
       "                                          conformers  n_conformers  \\\n",
       "0  [-3.546068940192181, 0.5935908094613401, 0.079...             3   \n",
       "1  [0.9780009691126561, -0.9290358087611312, 0.93...             1   \n",
       "2  [1.2931714944742823, -0.7654495089444694, -0.0...             1   \n",
       "\n",
       "                                  target-am1-charges  \\\n",
       "0  [-0.2103333333333333, -0.15866666666666665, -0...   \n",
       "1  [-0.20589999999999997, -0.10289999999999998, -...   \n",
       "2  [-0.20323529411764704, -0.06023529411764704, -...   \n",
       "\n",
       "                               target-am1bcc-charges  \\\n",
       "0  [-0.09226657971014492, -0.0797332463768116, -0...   \n",
       "1  [-0.0890002, -0.06360020000000001, -0.0890002,...   \n",
       "2  [-0.08533529411764705, -0.06023529411764706, -...   \n",
       "\n",
       "                               target-am1bcc-dipoles      esp_lengths  \\\n",
       "0  [-0.009115162009838196, -0.001027786866909089,...  [938, 884, 964]   \n",
       "1  [-0.0018496136981201866, -0.010091856232488358...            [800]   \n",
       "2  [0.0033685192825578057, 0.010316515532278664, ...            [743]   \n",
       "\n",
       "                              grid_inverse_distances  \\\n",
       "0  [0.22234336592604098, 0.22104114061872154, 0.1...   \n",
       "1  [0.22234336592604098, 0.17975898869235704, 0.1...   \n",
       "2  [0.22234336592604098, 0.16293914207377264, 0.1...   \n",
       "\n",
       "                                                esps  \n",
       "0  [-0.001134141142072569, -0.000448680152903249,...  \n",
       "1  [-0.00103851821294269, -0.00010425322732013007...  \n",
       "2  [6.830848951215086e-06, 0.0004037088118935212,...  "
      ]
     },
     "execution_count": 9,
     "metadata": {},
     "output_type": "execute_result"
    }
   ],
   "source": [
    "from openff.nagl.label.labels import LabelCharges\n",
    "\n",
    "# Choose the molecules to put in this dataset\n",
    "# Note that these molecules aren't in the training dataset!\n",
    "test_smiles = [\n",
    "    \"CCCCCCC\",\n",
    "    \"CC(C)C(C)C\",\n",
    "    \"CC(C)(C)C\",\n",
    "]\n",
    "\n",
    "test_dataset = LabelledDataset.from_smiles(\n",
    "    \"my_first_test_dataset\",  # path to save to\n",
    "    test_smiles,\n",
    "    mapped=False,\n",
    "    overwrite_existing=True,\n",
    ")\n",
    "\n",
    "test_dataset.apply_labellers(labellers)\n",
    "test_dataset.to_pandas()"
   ]
  },
  {
   "cell_type": "markdown",
   "id": "c26946d2",
   "metadata": {},
   "source": [
    "### Curating our data module"
   ]
  },
  {
   "cell_type": "markdown",
   "id": "5f0f2cb9-10ec-4df9-9019-3bc2c38d3fca",
   "metadata": {},
   "source": [
    "Now we assemble our datasets into a `DataConfig`. For each `DatasetConfig`, we need to specify the targets we are choosing to fit. A `Target` is what we used to construct the objective function and calculate loss. Below we:\n",
    "- fit the `predicted-am1-charges` property directly to the labelled `target-am1-charges`\n",
    "- fit the `predicted-am1bcc-charges` property to a combined objective of:\n",
    "  - charge RMSE\n",
    "  - dipole moments\n",
    "  - ESP targets\n",
    " \n",
    "For the physical properties, we need additional information (the `conformers`, `n_conformers`, ... columns) to calculate the dipole moments and ESPs for comparison. Each of these has been annotated. The `target_label` always refers to the column in the input dataset that is the property we are comparing."
   ]
  },
  {
   "cell_type": "code",
   "execution_count": 10,
   "id": "1f67b4f8-72d2-455f-aa2e-1b3301786809",
   "metadata": {
    "execution": {
     "iopub.execute_input": "2025-09-30T00:18:04.902938Z",
     "iopub.status.busy": "2025-09-30T00:18:04.902755Z",
     "iopub.status.idle": "2025-09-30T00:18:04.908386Z",
     "shell.execute_reply": "2025-09-30T00:18:04.907872Z"
    }
   },
   "outputs": [],
   "source": [
    "from openff.nagl.config.data import DatasetConfig, DataConfig\n",
    "from openff.nagl.training.metrics import RMSEMetric\n",
    "from openff.nagl.training.loss import ReadoutTarget, MultipleDipoleTarget, MultipleESPTarget\n",
    "\n",
    "\n",
    "am1_charge_rmse_target = ReadoutTarget(\n",
    "    metric=RMSEMetric(),  # use RMSE to calculate loss\n",
    "    target_label=\"target-am1-charges\", # column to use from data as reference target\n",
    "    prediction_label=\"predicted-am1-charges\", # readout value to compare to target\n",
    "    denominator=1.0, # denominator to normalise loss -- important for multi-target objectives\n",
    "    weight=1.0, # how much to weight the loss -- important for multi-target objectives\n",
    ")\n",
    "\n",
    "am1bcc_charge_rmse_target = ReadoutTarget(\n",
    "    metric=RMSEMetric(),  # use RMSE to calculate loss\n",
    "    target_label=\"target-am1bcc-charges\", # column to use from data as reference target\n",
    "    prediction_label=\"predicted-am1bcc-charges\", # readout value to compare to target\n",
    "    denominator=0.001, # denominator to normalise loss -- important for multi-target objectives\n",
    "    weight=1.0, # how much to weight the loss -- important for multi-target objectives\n",
    ")\n",
    "\n",
    "am1bcc_dipole_target = MultipleDipoleTarget(\n",
    "    metric=RMSEMetric(),\n",
    "    target_label=\"target-am1bcc-dipoles\", # column to use from input data as reference target\n",
    "    charge_label=\"predicted-am1bcc-charges\", # readout charge value to calculate dipoles with\n",
    "    conformation_column=\"conformers\", # input data to use for calculating dipoles\n",
    "    n_conformation_column=\"n_conformers\", # input data to use for calculating dipoles\n",
    "    denominator=0.01,\n",
    "    weight=1.0\n",
    ")\n",
    "\n",
    "am1bcc_esp_target = MultipleESPTarget(\n",
    "    metric=RMSEMetric(),\n",
    "    target_label=\"esps\", # column to use from input data as reference target\n",
    "    charge_label=\"predicted-am1bcc-charges\", # readout charge value to calculate ESPs with\n",
    "    inverse_distance_matrix_column=\"grid_inverse_distances\", # input data to use to calculate ESPs\n",
    "    esp_length_column=\"esp_lengths\", # input data to use to calculate ESPs\n",
    "    n_esp_column=\"n_conformers\", # input data to use to calculate ESPs\n",
    "    denominator=0.001,\n",
    "    weight=1.0\n",
    ")"
   ]
  },
  {
   "cell_type": "markdown",
   "id": "b4e12a9f-9313-4cac-b9ee-4f96edaf3b79",
   "metadata": {},
   "source": [
    "Now we combine each of these targets into each `DatasetConfig`."
   ]
  },
  {
   "cell_type": "code",
   "execution_count": 11,
   "id": "16cf0284-4c0d-4d6e-8a6b-0479e31823bc",
   "metadata": {
    "execution": {
     "iopub.execute_input": "2025-09-30T00:18:04.910670Z",
     "iopub.status.busy": "2025-09-30T00:18:04.910354Z",
     "iopub.status.idle": "2025-09-30T00:18:04.914427Z",
     "shell.execute_reply": "2025-09-30T00:18:04.913930Z"
    }
   },
   "outputs": [],
   "source": [
    "targets = [\n",
    "    am1_charge_rmse_target,\n",
    "    am1bcc_charge_rmse_target,\n",
    "    am1bcc_dipole_target,\n",
    "    am1bcc_esp_target,\n",
    "]\n",
    "    \n",
    "\n",
    "training_dataset_config = DatasetConfig(\n",
    "    sources=[\"training_data\"],\n",
    "    targets=targets,\n",
    "    batch_size=1000,\n",
    ")\n",
    "\n",
    "test_dataset_config = validation_dataset_config = DatasetConfig(\n",
    "    sources=[\"my_first_test_dataset\"],\n",
    "    targets=targets,\n",
    "    batch_size=1000,\n",
    ")\n",
    "\n",
    "data_config = DataConfig(\n",
    "    training=training_dataset_config,\n",
    "    validation=validation_dataset_config,\n",
    "    test=test_dataset_config\n",
    ")"
   ]
  },
  {
   "cell_type": "markdown",
   "id": "37e228a5",
   "metadata": {},
   "source": [
    "## Train the model"
   ]
  },
  {
   "cell_type": "markdown",
   "id": "f08e1846-fd1d-4c35-9653-d658218a9c41",
   "metadata": {},
   "source": [
    "We've prepared our model architecture and our training, validation and test data; now we just need to fit the model! To do this, we need to specify optimization settings with a `OptimizerConfig`, and then put everything together in a `TrainingConfig`."
   ]
  },
  {
   "cell_type": "code",
   "execution_count": 12,
   "id": "b7320ab2-8412-40a8-ac74-4346412e3d8e",
   "metadata": {
    "execution": {
     "iopub.execute_input": "2025-09-30T00:18:04.916179Z",
     "iopub.status.busy": "2025-09-30T00:18:04.916002Z",
     "iopub.status.idle": "2025-09-30T00:18:04.919204Z",
     "shell.execute_reply": "2025-09-30T00:18:04.918718Z"
    }
   },
   "outputs": [],
   "source": [
    "from openff.nagl.config.optimizer import OptimizerConfig\n",
    "from openff.nagl.config.training import TrainingConfig\n",
    "\n",
    "optimizer_config = OptimizerConfig(\n",
    "    optimizer=\"Adam\",\n",
    "    learning_rate=0.001,\n",
    ")\n",
    "\n",
    "training_config = TrainingConfig(\n",
    "    model=model_config,\n",
    "    data=data_config,\n",
    "    optimizer=optimizer_config\n",
    ")"
   ]
  },
  {
   "cell_type": "code",
   "execution_count": 13,
   "id": "7897285f-6039-4c8c-aa2f-c685f814c21c",
   "metadata": {
    "execution": {
     "iopub.execute_input": "2025-09-30T00:18:04.920751Z",
     "iopub.status.busy": "2025-09-30T00:18:04.920564Z",
     "iopub.status.idle": "2025-09-30T00:18:05.309074Z",
     "shell.execute_reply": "2025-09-30T00:18:05.308454Z"
    }
   },
   "outputs": [],
   "source": [
    "from openff.nagl.training.training import TrainingGNNModel, DGLMoleculeDataModule\n",
    "\n",
    "training_model = TrainingGNNModel(training_config)\n",
    "data_module = DGLMoleculeDataModule(training_config)"
   ]
  },
  {
   "cell_type": "markdown",
   "id": "c8195a2b-2f27-462b-b607-c8327a780291",
   "metadata": {},
   "source": [
    "To properly fit the model, we use the [`Trainer`] class from PyTorch Lightning. This allows us to configure how data and progress are stored and reported using callbacks. The [`fit()`] method trains and validates against the data module we provide it: \n",
    "\n",
    "[`Trainer`]: https://pytorch-lightning.readthedocs.io/en/stable/common/trainer.html\n",
    "[`fit()`]: https://pytorch-lightning.readthedocs.io/en/stable/api/pytorch_lightning.trainer.trainer.Trainer.html#pytorch_lightning.trainer.trainer.Trainer.fit"
   ]
  },
  {
   "cell_type": "code",
   "execution_count": 14,
   "id": "afe8f0fe",
   "metadata": {
    "execution": {
     "iopub.execute_input": "2025-09-30T00:18:05.311044Z",
     "iopub.status.busy": "2025-09-30T00:18:05.310862Z",
     "iopub.status.idle": "2025-09-30T00:18:15.320177Z",
     "shell.execute_reply": "2025-09-30T00:18:15.319155Z"
    },
    "scrolled": true
   },
   "outputs": [
    {
     "name": "stderr",
     "output_type": "stream",
     "text": [
      "💡 Tip: For seamless cloud uploads and versioning, try installing [litmodels](https://pypi.org/project/litmodels/) to enable LitModelCheckpoint, which syncs automatically with the Lightning model registry.\n"
     ]
    },
    {
     "name": "stderr",
     "output_type": "stream",
     "text": [
      "GPU available: False, used: False\n"
     ]
    },
    {
     "name": "stderr",
     "output_type": "stream",
     "text": [
      "TPU available: False, using: 0 TPU cores\n"
     ]
    },
    {
     "name": "stderr",
     "output_type": "stream",
     "text": [
      "HPU available: False, using: 0 HPUs\n"
     ]
    },
    {
     "name": "stderr",
     "output_type": "stream",
     "text": [
      "\r",
      "Featurizing dataset: 0it [00:00, ?it/s]"
     ]
    },
    {
     "name": "stderr",
     "output_type": "stream",
     "text": [
      "\n"
     ]
    },
    {
     "name": "stderr",
     "output_type": "stream",
     "text": [
      "\r",
      "Featurizing batch:   0%|          | 0/10 [00:00<?, ?it/s]"
     ]
    },
    {
     "name": "stderr",
     "output_type": "stream",
     "text": [
      "\u001b[A"
     ]
    },
    {
     "name": "stderr",
     "output_type": "stream",
     "text": [
      "\n"
     ]
    },
    {
     "name": "stderr",
     "output_type": "stream",
     "text": [
      "\r",
      "Featurizing batch:  90%|█████████ | 9/10 [00:00<00:00, 86.08it/s]"
     ]
    },
    {
     "name": "stderr",
     "output_type": "stream",
     "text": [
      "\u001b[A"
     ]
    },
    {
     "name": "stderr",
     "output_type": "stream",
     "text": [
      "\r",
      "Featurizing batch: 100%|██████████| 10/10 [00:00<00:00, 82.37it/s]"
     ]
    },
    {
     "name": "stderr",
     "output_type": "stream",
     "text": [
      "\n",
      "\r",
      "Featurizing dataset: 1it [00:00,  5.58it/s]"
     ]
    },
    {
     "name": "stderr",
     "output_type": "stream",
     "text": [
      "\r",
      "Featurizing dataset: 1it [00:00,  5.54it/s]"
     ]
    },
    {
     "name": "stderr",
     "output_type": "stream",
     "text": [
      "\n"
     ]
    },
    {
     "name": "stderr",
     "output_type": "stream",
     "text": [
      "\r",
      "Featurizing dataset: 0it [00:00, ?it/s]"
     ]
    },
    {
     "name": "stderr",
     "output_type": "stream",
     "text": [
      "\n"
     ]
    },
    {
     "name": "stderr",
     "output_type": "stream",
     "text": [
      "\r",
      "Featurizing batch:   0%|          | 0/3 [00:00<?, ?it/s]"
     ]
    },
    {
     "name": "stderr",
     "output_type": "stream",
     "text": [
      "\u001b[A"
     ]
    },
    {
     "name": "stderr",
     "output_type": "stream",
     "text": [
      "\r",
      "Featurizing batch: 100%|██████████| 3/3 [00:00<00:00, 68.30it/s]"
     ]
    },
    {
     "name": "stderr",
     "output_type": "stream",
     "text": [
      "\n",
      "\r",
      "Featurizing dataset: 1it [00:00, 11.79it/s]"
     ]
    },
    {
     "name": "stderr",
     "output_type": "stream",
     "text": [
      "\n"
     ]
    },
    {
     "name": "stderr",
     "output_type": "stream",
     "text": [
      "\r",
      "Featurizing dataset: 0it [00:00, ?it/s]"
     ]
    },
    {
     "name": "stderr",
     "output_type": "stream",
     "text": [
      "\n"
     ]
    },
    {
     "name": "stderr",
     "output_type": "stream",
     "text": [
      "\r",
      "Featurizing batch:   0%|          | 0/3 [00:00<?, ?it/s]"
     ]
    },
    {
     "name": "stderr",
     "output_type": "stream",
     "text": [
      "\u001b[A"
     ]
    },
    {
     "name": "stderr",
     "output_type": "stream",
     "text": [
      "\r",
      "Featurizing batch: 100%|██████████| 3/3 [00:00<00:00, 65.74it/s]"
     ]
    },
    {
     "name": "stderr",
     "output_type": "stream",
     "text": [
      "\n",
      "\r",
      "Featurizing dataset: 1it [00:00, 11.40it/s]"
     ]
    },
    {
     "name": "stderr",
     "output_type": "stream",
     "text": [
      "\n"
     ]
    },
    {
     "name": "stderr",
     "output_type": "stream",
     "text": [
      "2025-09-30 00:18:05.951504: I tensorflow/core/platform/cpu_feature_guard.cc:210] This TensorFlow binary is optimized to use available CPU instructions in performance-critical operations.\n",
      "To enable the following instructions: SSE4.1 SSE4.2 AVX AVX2 FMA, in other operations, rebuild TensorFlow with the appropriate compiler flags.\n"
     ]
    },
    {
     "name": "stderr",
     "output_type": "stream",
     "text": [
      "\r",
      "Featurizing dataset: 0it [00:00, ?it/s]"
     ]
    },
    {
     "name": "stderr",
     "output_type": "stream",
     "text": [
      "\n"
     ]
    },
    {
     "name": "stderr",
     "output_type": "stream",
     "text": [
      "\r",
      "Featurizing batch:   0%|          | 0/10 [00:00<?, ?it/s]"
     ]
    },
    {
     "name": "stderr",
     "output_type": "stream",
     "text": [
      "\u001b[A"
     ]
    },
    {
     "name": "stderr",
     "output_type": "stream",
     "text": [
      "\r",
      "Featurizing batch: 100%|██████████| 10/10 [00:00<00:00, 101.11it/s]"
     ]
    },
    {
     "name": "stderr",
     "output_type": "stream",
     "text": [
      "\n",
      "\r",
      "Featurizing dataset: 1it [00:00,  6.48it/s]"
     ]
    },
    {
     "name": "stderr",
     "output_type": "stream",
     "text": [
      "\r",
      "Featurizing dataset: 1it [00:00,  6.45it/s]"
     ]
    },
    {
     "name": "stderr",
     "output_type": "stream",
     "text": [
      "\n"
     ]
    },
    {
     "name": "stderr",
     "output_type": "stream",
     "text": [
      "\r",
      "Featurizing dataset: 0it [00:00, ?it/s]"
     ]
    },
    {
     "name": "stderr",
     "output_type": "stream",
     "text": [
      "\n"
     ]
    },
    {
     "name": "stderr",
     "output_type": "stream",
     "text": [
      "\r",
      "Featurizing batch:   0%|          | 0/3 [00:00<?, ?it/s]"
     ]
    },
    {
     "name": "stderr",
     "output_type": "stream",
     "text": [
      "\u001b[A"
     ]
    },
    {
     "name": "stderr",
     "output_type": "stream",
     "text": [
      "\r",
      "Featurizing batch: 100%|██████████| 3/3 [00:00<00:00, 65.65it/s]"
     ]
    },
    {
     "name": "stderr",
     "output_type": "stream",
     "text": [
      "\n",
      "\r",
      "Featurizing dataset: 1it [00:00, 10.69it/s]"
     ]
    },
    {
     "name": "stderr",
     "output_type": "stream",
     "text": [
      "\n"
     ]
    },
    {
     "name": "stderr",
     "output_type": "stream",
     "text": [
      "\r",
      "Featurizing dataset: 0it [00:00, ?it/s]"
     ]
    },
    {
     "name": "stderr",
     "output_type": "stream",
     "text": [
      "\n"
     ]
    },
    {
     "name": "stderr",
     "output_type": "stream",
     "text": [
      "\r",
      "Featurizing batch:   0%|          | 0/3 [00:00<?, ?it/s]"
     ]
    },
    {
     "name": "stderr",
     "output_type": "stream",
     "text": [
      "\u001b[A"
     ]
    },
    {
     "name": "stderr",
     "output_type": "stream",
     "text": [
      "\r",
      "Featurizing batch: 100%|██████████| 3/3 [00:00<00:00, 67.60it/s]"
     ]
    },
    {
     "name": "stderr",
     "output_type": "stream",
     "text": [
      "\n",
      "\r",
      "Featurizing dataset: 1it [00:00, 11.34it/s]"
     ]
    },
    {
     "name": "stderr",
     "output_type": "stream",
     "text": [
      "\n",
      "\n",
      "  | Name  | Type     | Params | Mode \n",
      "-------------------------------------------\n",
      "0 | model | GNNModel | 203 K  | train\n",
      "-------------------------------------------\n",
      "203 K     Trainable params\n",
      "0         Non-trainable params\n",
      "203 K     Total params\n",
      "0.812     Total estimated model params size (MB)\n",
      "57        Modules in train mode\n",
      "0         Modules in eval mode\n"
     ]
    },
    {
     "name": "stderr",
     "output_type": "stream",
     "text": [
      "/home/runner/micromamba/envs/openff-docs-examples/lib/python3.11/site-packages/pytorch_lightning/trainer/connectors/data_connector.py:433: The 'val_dataloader' does not have many workers which may be a bottleneck. Consider increasing the value of the `num_workers` argument` to `num_workers=3` in the `DataLoader` to improve performance.\n"
     ]
    },
    {
     "name": "stderr",
     "output_type": "stream",
     "text": [
      "/home/runner/micromamba/envs/openff-docs-examples/lib/python3.11/site-packages/pytorch_lightning/trainer/connectors/data_connector.py:433: The 'train_dataloader' does not have many workers which may be a bottleneck. Consider increasing the value of the `num_workers` argument` to `num_workers=3` in the `DataLoader` to improve performance.\n",
      "/home/runner/micromamba/envs/openff-docs-examples/lib/python3.11/site-packages/pytorch_lightning/loops/fit_loop.py:310: The number of training batches (1) is smaller than the logging interval Trainer(log_every_n_steps=50). Set a lower value for log_every_n_steps if you want to see logs for the training epoch.\n"
     ]
    },
    {
     "name": "stderr",
     "output_type": "stream",
     "text": [
      "`Trainer.fit` stopped: `max_epochs=200` reached.\n"
     ]
    }
   ],
   "source": [
    "from pytorch_lightning import Trainer\n",
    "\n",
    "trainer = Trainer(max_epochs=200)\n",
    "\n",
    "trainer.progress_bar_callback.disable()\n",
    "trainer.checkpoint_callback.monitor = \"val/loss\"\n",
    "\n",
    "trainer.fit(\n",
    "    training_model,\n",
    "    datamodule=data_module\n",
    ")"
   ]
  },
  {
   "cell_type": "markdown",
   "id": "0fb4de68",
   "metadata": {},
   "source": [
    "## Results!"
   ]
  },
  {
   "cell_type": "markdown",
   "id": "d43eeb50",
   "metadata": {},
   "source": [
    "We can use the `Trainer` object's [`test()`] method to evaluate the model against our test data:\n",
    "\n",
    "[`test()`]: https://pytorch-lightning.readthedocs.io/en/stable/api/pytorch_lightning.trainer.trainer.Trainer.html#pytorch_lightning.trainer.trainer.Trainer.test"
   ]
  },
  {
   "cell_type": "code",
   "execution_count": 15,
   "id": "3ffade64",
   "metadata": {
    "execution": {
     "iopub.execute_input": "2025-09-30T00:18:15.322902Z",
     "iopub.status.busy": "2025-09-30T00:18:15.322193Z",
     "iopub.status.idle": "2025-09-30T00:18:16.110917Z",
     "shell.execute_reply": "2025-09-30T00:18:16.110115Z"
    }
   },
   "outputs": [
    {
     "name": "stderr",
     "output_type": "stream",
     "text": [
      "\r",
      "Featurizing dataset: 0it [00:00, ?it/s]"
     ]
    },
    {
     "name": "stderr",
     "output_type": "stream",
     "text": [
      "\n"
     ]
    },
    {
     "name": "stderr",
     "output_type": "stream",
     "text": [
      "\r",
      "Featurizing batch:   0%|          | 0/10 [00:00<?, ?it/s]"
     ]
    },
    {
     "name": "stderr",
     "output_type": "stream",
     "text": [
      "\u001b[A"
     ]
    },
    {
     "name": "stderr",
     "output_type": "stream",
     "text": [
      "\n"
     ]
    },
    {
     "name": "stderr",
     "output_type": "stream",
     "text": [
      "\r",
      "Featurizing batch:  90%|█████████ | 9/10 [00:00<00:00, 85.87it/s]"
     ]
    },
    {
     "name": "stderr",
     "output_type": "stream",
     "text": [
      "\u001b[A"
     ]
    },
    {
     "name": "stderr",
     "output_type": "stream",
     "text": [
      "\r",
      "Featurizing batch: 100%|██████████| 10/10 [00:00<00:00, 80.83it/s]"
     ]
    },
    {
     "name": "stderr",
     "output_type": "stream",
     "text": [
      "\n",
      "\r",
      "Featurizing dataset: 1it [00:00,  5.54it/s]"
     ]
    },
    {
     "name": "stderr",
     "output_type": "stream",
     "text": [
      "\r",
      "Featurizing dataset: 1it [00:00,  5.52it/s]"
     ]
    },
    {
     "name": "stderr",
     "output_type": "stream",
     "text": [
      "\n"
     ]
    },
    {
     "name": "stderr",
     "output_type": "stream",
     "text": [
      "\r",
      "Featurizing dataset: 0it [00:00, ?it/s]"
     ]
    },
    {
     "name": "stderr",
     "output_type": "stream",
     "text": [
      "\n"
     ]
    },
    {
     "name": "stderr",
     "output_type": "stream",
     "text": [
      "\r",
      "Featurizing batch:   0%|          | 0/3 [00:00<?, ?it/s]"
     ]
    },
    {
     "name": "stderr",
     "output_type": "stream",
     "text": [
      "\u001b[A"
     ]
    },
    {
     "name": "stderr",
     "output_type": "stream",
     "text": [
      "\r",
      "Featurizing batch: 100%|██████████| 3/3 [00:00<00:00, 65.88it/s]"
     ]
    },
    {
     "name": "stderr",
     "output_type": "stream",
     "text": [
      "\n",
      "\r",
      "Featurizing dataset: 1it [00:00, 11.08it/s]"
     ]
    },
    {
     "name": "stderr",
     "output_type": "stream",
     "text": [
      "\n"
     ]
    },
    {
     "name": "stderr",
     "output_type": "stream",
     "text": [
      "\r",
      "Featurizing dataset: 0it [00:00, ?it/s]"
     ]
    },
    {
     "name": "stderr",
     "output_type": "stream",
     "text": [
      "\n"
     ]
    },
    {
     "name": "stderr",
     "output_type": "stream",
     "text": [
      "\r",
      "Featurizing batch:   0%|          | 0/3 [00:00<?, ?it/s]"
     ]
    },
    {
     "name": "stderr",
     "output_type": "stream",
     "text": [
      "\u001b[A"
     ]
    },
    {
     "name": "stderr",
     "output_type": "stream",
     "text": [
      "\r",
      "Featurizing batch: 100%|██████████| 3/3 [00:00<00:00, 62.99it/s]"
     ]
    },
    {
     "name": "stderr",
     "output_type": "stream",
     "text": [
      "\n",
      "\r",
      "Featurizing dataset: 1it [00:00, 10.99it/s]"
     ]
    },
    {
     "name": "stderr",
     "output_type": "stream",
     "text": [
      "\n"
     ]
    },
    {
     "name": "stderr",
     "output_type": "stream",
     "text": [
      "\r",
      "Featurizing dataset: 0it [00:00, ?it/s]"
     ]
    },
    {
     "name": "stderr",
     "output_type": "stream",
     "text": [
      "\n"
     ]
    },
    {
     "name": "stderr",
     "output_type": "stream",
     "text": [
      "\r",
      "Featurizing batch:   0%|          | 0/10 [00:00<?, ?it/s]"
     ]
    },
    {
     "name": "stderr",
     "output_type": "stream",
     "text": [
      "\u001b[A"
     ]
    },
    {
     "name": "stderr",
     "output_type": "stream",
     "text": [
      "\n"
     ]
    },
    {
     "name": "stderr",
     "output_type": "stream",
     "text": [
      "\r",
      "Featurizing batch:  90%|█████████ | 9/10 [00:00<00:00, 87.06it/s]"
     ]
    },
    {
     "name": "stderr",
     "output_type": "stream",
     "text": [
      "\u001b[A"
     ]
    },
    {
     "name": "stderr",
     "output_type": "stream",
     "text": [
      "\r",
      "Featurizing batch: 100%|██████████| 10/10 [00:00<00:00, 84.62it/s]"
     ]
    },
    {
     "name": "stderr",
     "output_type": "stream",
     "text": [
      "\n",
      "\r",
      "Featurizing dataset: 1it [00:00,  5.88it/s]"
     ]
    },
    {
     "name": "stderr",
     "output_type": "stream",
     "text": [
      "\r",
      "Featurizing dataset: 1it [00:00,  5.84it/s]"
     ]
    },
    {
     "name": "stderr",
     "output_type": "stream",
     "text": [
      "\n"
     ]
    },
    {
     "name": "stderr",
     "output_type": "stream",
     "text": [
      "\r",
      "Featurizing dataset: 0it [00:00, ?it/s]"
     ]
    },
    {
     "name": "stderr",
     "output_type": "stream",
     "text": [
      "\n"
     ]
    },
    {
     "name": "stderr",
     "output_type": "stream",
     "text": [
      "\r",
      "Featurizing batch:   0%|          | 0/3 [00:00<?, ?it/s]"
     ]
    },
    {
     "name": "stderr",
     "output_type": "stream",
     "text": [
      "\u001b[A"
     ]
    },
    {
     "name": "stderr",
     "output_type": "stream",
     "text": [
      "\r",
      "Featurizing batch: 100%|██████████| 3/3 [00:00<00:00, 61.69it/s]"
     ]
    },
    {
     "name": "stderr",
     "output_type": "stream",
     "text": [
      "\n",
      "\r",
      "Featurizing dataset: 1it [00:00, 10.92it/s]"
     ]
    },
    {
     "name": "stderr",
     "output_type": "stream",
     "text": [
      "\n"
     ]
    },
    {
     "name": "stderr",
     "output_type": "stream",
     "text": [
      "\r",
      "Featurizing dataset: 0it [00:00, ?it/s]"
     ]
    },
    {
     "name": "stderr",
     "output_type": "stream",
     "text": [
      "\n"
     ]
    },
    {
     "name": "stderr",
     "output_type": "stream",
     "text": [
      "\r",
      "Featurizing batch:   0%|          | 0/3 [00:00<?, ?it/s]"
     ]
    },
    {
     "name": "stderr",
     "output_type": "stream",
     "text": [
      "\u001b[A"
     ]
    },
    {
     "name": "stderr",
     "output_type": "stream",
     "text": [
      "\r",
      "Featurizing batch: 100%|██████████| 3/3 [00:00<00:00, 63.85it/s]"
     ]
    },
    {
     "name": "stderr",
     "output_type": "stream",
     "text": [
      "\n",
      "\r",
      "Featurizing dataset: 1it [00:00, 10.85it/s]"
     ]
    },
    {
     "name": "stderr",
     "output_type": "stream",
     "text": [
      "\n"
     ]
    },
    {
     "name": "stderr",
     "output_type": "stream",
     "text": [
      "/home/runner/micromamba/envs/openff-docs-examples/lib/python3.11/site-packages/pytorch_lightning/trainer/connectors/data_connector.py:433: The 'test_dataloader' does not have many workers which may be a bottleneck. Consider increasing the value of the `num_workers` argument` to `num_workers=3` in the `DataLoader` to improve performance.\n"
     ]
    },
    {
     "data": {
      "text/html": [
       "<pre style=\"white-space:pre;overflow-x:auto;line-height:normal;font-family:Menlo,'DejaVu Sans Mono',consolas,'Courier New',monospace\">┏━━━━━━━━━━━━━━━━━━━━━━━━━━━━━━━━━━━━━━━━━━━━━━━━━━━━━━━━┳━━━━━━━━━━━━━━━━━━━━━━━━━━━━━━━━━━━━━━━━━━━━━━━━━━━━━━━━┓\n",
       "┃<span style=\"font-weight: bold\">                      Test metric                       </span>┃<span style=\"font-weight: bold\">                      DataLoader 0                      </span>┃\n",
       "┡━━━━━━━━━━━━━━━━━━━━━━━━━━━━━━━━━━━━━━━━━━━━━━━━━━━━━━━━╇━━━━━━━━━━━━━━━━━━━━━━━━━━━━━━━━━━━━━━━━━━━━━━━━━━━━━━━━┩\n",
       "│<span style=\"color: #008080; text-decoration-color: #008080\">         test/esps/multiple_esps/rmse/1.0/0.001         </span>│<span style=\"color: #800080; text-decoration-color: #800080\">                  0.07542254775762558                   </span>│\n",
       "│<span style=\"color: #008080; text-decoration-color: #008080\">                       test/loss                        </span>│<span style=\"color: #800080; text-decoration-color: #800080\">                   2.484649181365967                    </span>│\n",
       "│<span style=\"color: #008080; text-decoration-color: #008080\">      test/target-am1-charges/readout/rmse/1.0/1.0      </span>│<span style=\"color: #800080; text-decoration-color: #800080\">                 0.0038553886115550995                  </span>│\n",
       "│<span style=\"color: #008080; text-decoration-color: #008080\">   test/target-am1bcc-charges/readout/rmse/1.0/0.001    </span>│<span style=\"color: #800080; text-decoration-color: #800080\">                   2.2266829013824463                   </span>│\n",
       "│<span style=\"color: #008080; text-decoration-color: #008080\"> test/target-am1bcc-dipoles/multiple_dipoles/rmse/1.0/… </span>│<span style=\"color: #800080; text-decoration-color: #800080\">                  0.17868827283382416                   </span>│\n",
       "└────────────────────────────────────────────────────────┴────────────────────────────────────────────────────────┘\n",
       "</pre>\n"
      ],
      "text/plain": [
       "┏━━━━━━━━━━━━━━━━━━━━━━━━━━━━━━━━━━━━━━━━━━━━━━━━━━━━━━━━┳━━━━━━━━━━━━━━━━━━━━━━━━━━━━━━━━━━━━━━━━━━━━━━━━━━━━━━━━┓\n",
       "┃\u001b[1m \u001b[0m\u001b[1m                     Test metric                      \u001b[0m\u001b[1m \u001b[0m┃\u001b[1m \u001b[0m\u001b[1m                     DataLoader 0                     \u001b[0m\u001b[1m \u001b[0m┃\n",
       "┡━━━━━━━━━━━━━━━━━━━━━━━━━━━━━━━━━━━━━━━━━━━━━━━━━━━━━━━━╇━━━━━━━━━━━━━━━━━━━━━━━━━━━━━━━━━━━━━━━━━━━━━━━━━━━━━━━━┩\n",
       "│\u001b[36m \u001b[0m\u001b[36m        test/esps/multiple_esps/rmse/1.0/0.001        \u001b[0m\u001b[36m \u001b[0m│\u001b[35m \u001b[0m\u001b[35m                 0.07542254775762558                  \u001b[0m\u001b[35m \u001b[0m│\n",
       "│\u001b[36m \u001b[0m\u001b[36m                      test/loss                       \u001b[0m\u001b[36m \u001b[0m│\u001b[35m \u001b[0m\u001b[35m                  2.484649181365967                   \u001b[0m\u001b[35m \u001b[0m│\n",
       "│\u001b[36m \u001b[0m\u001b[36m     test/target-am1-charges/readout/rmse/1.0/1.0     \u001b[0m\u001b[36m \u001b[0m│\u001b[35m \u001b[0m\u001b[35m                0.0038553886115550995                 \u001b[0m\u001b[35m \u001b[0m│\n",
       "│\u001b[36m \u001b[0m\u001b[36m  test/target-am1bcc-charges/readout/rmse/1.0/0.001   \u001b[0m\u001b[36m \u001b[0m│\u001b[35m \u001b[0m\u001b[35m                  2.2266829013824463                  \u001b[0m\u001b[35m \u001b[0m│\n",
       "│\u001b[36m \u001b[0m\u001b[36mtest/target-am1bcc-dipoles/multiple_dipoles/rmse/1.0/…\u001b[0m\u001b[36m \u001b[0m│\u001b[35m \u001b[0m\u001b[35m                 0.17868827283382416                  \u001b[0m\u001b[35m \u001b[0m│\n",
       "└────────────────────────────────────────────────────────┴────────────────────────────────────────────────────────┘\n"
      ]
     },
     "metadata": {},
     "output_type": "display_data"
    },
    {
     "data": {
      "text/plain": [
       "[{'test/target-am1-charges/readout/rmse/1.0/1.0': 0.0038553886115550995,\n",
       "  'test/target-am1bcc-charges/readout/rmse/1.0/0.001': 2.2266829013824463,\n",
       "  'test/target-am1bcc-dipoles/multiple_dipoles/rmse/1.0/0.01': 0.17868827283382416,\n",
       "  'test/esps/multiple_esps/rmse/1.0/0.001': 0.07542254775762558,\n",
       "  'test/loss': 2.484649181365967}]"
      ]
     },
     "execution_count": 15,
     "metadata": {},
     "output_type": "execute_result"
    }
   ],
   "source": [
    "trainer.test(training_model, data_module)"
   ]
  },
  {
   "cell_type": "markdown",
   "id": "2cae1cc7-8f9b-421d-9343-b03f806425ba",
   "metadata": {},
   "source": [
    "We can isolate the model itself from all the training requirements:"
   ]
  },
  {
   "cell_type": "code",
   "execution_count": 16,
   "id": "ffaaec52-8a1d-4157-b728-b6373bcde57c",
   "metadata": {
    "execution": {
     "iopub.execute_input": "2025-09-30T00:18:16.114426Z",
     "iopub.status.busy": "2025-09-30T00:18:16.114223Z",
     "iopub.status.idle": "2025-09-30T00:18:16.116824Z",
     "shell.execute_reply": "2025-09-30T00:18:16.116310Z"
    }
   },
   "outputs": [],
   "source": [
    "model = training_model.model"
   ]
  },
  {
   "cell_type": "markdown",
   "id": "f7bc2260",
   "metadata": {},
   "source": [
    "Octane isn't in any of our data, so the model hasn't seen it yet! We can predict its partial charges with the [`compute_property()`] method:\n",
    "\n",
    "[`compute_property()`]: https://docs.openforcefield.org/projects/nagl/en/stable/api/generated/openff.nagl.GNNModel.html#openff.nagl.GNNModel.compute_property"
   ]
  },
  {
   "cell_type": "code",
   "execution_count": 17,
   "id": "87609fdd",
   "metadata": {
    "execution": {
     "iopub.execute_input": "2025-09-30T00:18:16.120343Z",
     "iopub.status.busy": "2025-09-30T00:18:16.119570Z",
     "iopub.status.idle": "2025-09-30T00:18:16.147252Z",
     "shell.execute_reply": "2025-09-30T00:18:16.146765Z"
    }
   },
   "outputs": [],
   "source": [
    "octane = Molecule.from_smiles(\"CCCCCCCC\")\n",
    "\n",
    "am1bcc_charges = model.compute_property(octane, readout_name=\"predicted-am1bcc-charges\")"
   ]
  },
  {
   "cell_type": "markdown",
   "id": "e5831c8e",
   "metadata": {},
   "source": [
    "And we can compare that to the AM1BCC partial charges produced by the OpenFF Toolkit:"
   ]
  },
  {
   "cell_type": "code",
   "execution_count": 18,
   "id": "08e12208",
   "metadata": {
    "execution": {
     "iopub.execute_input": "2025-09-30T00:18:16.149268Z",
     "iopub.status.busy": "2025-09-30T00:18:16.149086Z",
     "iopub.status.idle": "2025-09-30T00:18:20.114050Z",
     "shell.execute_reply": "2025-09-30T00:18:20.113413Z"
    }
   },
   "outputs": [
    {
     "data": {
      "text/html": [
       "<table><tbody><tr><th>Magnitude</th><td style='text-align:left;'><pre>[-0.09306153846153846 -0.07936153846153846 -0.07836153846153845 -0.07836153846153845 -0.07836153846153845 -0.07836153846153845 -0.07936153846153846 -0.09306153846153846 0.03223846153846154 0.03223846153846154 0.03223846153846154 0.03798846153846154 0.03798846153846154 0.03848846153846154 0.03848846153846154 0.03973846153846154 0.03973846153846154 0.03973846153846154 0.03973846153846154 0.03848846153846154 0.03848846153846154 0.03798846153846154 0.03798846153846154 0.03223846153846154 0.03223846153846154 0.03223846153846154]</pre></td></tr><tr><th>Units</th><td style='text-align:left;'>elementary_charge</td></tr></tbody></table>"
      ],
      "text/latex": [
       "$\\begin{pmatrix} &  &  &  &  &  &  &  &  &  &  &  &  &  &  &  &  &  &  &  &  &  &  &  &  & \\end{pmatrix}\\ \\mathrm{elementary\\_charge}$"
      ],
      "text/plain": [
       "<Quantity([-0.09306154 -0.07936154 -0.07836154 -0.07836154 -0.07836154 -0.07836154\n",
       " -0.07936154 -0.09306154  0.03223846  0.03223846  0.03223846  0.03798846\n",
       "  0.03798846  0.03848846  0.03848846  0.03973846  0.03973846  0.03973846\n",
       "  0.03973846  0.03848846  0.03848846  0.03798846  0.03798846  0.03223846\n",
       "  0.03223846  0.03223846], 'elementary_charge')>"
      ]
     },
     "execution_count": 18,
     "metadata": {},
     "output_type": "execute_result"
    }
   ],
   "source": [
    "octane.assign_partial_charges(\"am1bcc\")\n",
    "octane.partial_charges"
   ]
  },
  {
   "cell_type": "code",
   "execution_count": 19,
   "id": "c1ef45d7",
   "metadata": {
    "execution": {
     "iopub.execute_input": "2025-09-30T00:18:20.115881Z",
     "iopub.status.busy": "2025-09-30T00:18:20.115685Z",
     "iopub.status.idle": "2025-09-30T00:18:20.125831Z",
     "shell.execute_reply": "2025-09-30T00:18:20.125295Z"
    }
   },
   "outputs": [
    {
     "data": {
      "text/html": [
       "<table><tbody><tr><th>Magnitude</th><td style='text-align:left;'><pre>[0.004212195102068092 0.0016143052495442844 0.0022787128008328883 0.0023898903645001857 0.0023898903645001857 0.0022787128008328883 0.0016143052495442844 0.004212195102068092 0.0008130785965002538 0.0008130785965002538 0.0008130785965002538 0.001128990187553261 0.001128990187553261 0.0008244690441168295 0.0008244690441168295 0.0020744690441168306 0.0020744690441168306 0.0020744690441168306 0.0020744690441168306 0.0008244690441168295 0.0008244690441168295 0.001128990187553261 0.001128990187553261 0.0008130785965002538 0.0008130785965002538 0.0008130785965002538]</pre></td></tr><tr><th>Units</th><td style='text-align:left;'>elementary_charge</td></tr></tbody></table>"
      ],
      "text/latex": [
       "$\\begin{pmatrix} &  &  &  &  &  &  &  &  &  &  &  &  &  &  &  &  &  &  &  &  &  &  &  &  & \\end{pmatrix}\\ \\mathrm{elementary\\_charge}$"
      ],
      "text/plain": [
       "<Quantity([0.0042122  0.00161431 0.00227871 0.00238989 0.00238989 0.00227871\n",
       " 0.00161431 0.0042122  0.00081308 0.00081308 0.00081308 0.00112899\n",
       " 0.00112899 0.00082447 0.00082447 0.00207447 0.00207447 0.00207447\n",
       " 0.00207447 0.00082447 0.00082447 0.00112899 0.00112899 0.00081308\n",
       " 0.00081308 0.00081308], 'elementary_charge')>"
      ]
     },
     "execution_count": 19,
     "metadata": {},
     "output_type": "execute_result"
    }
   ],
   "source": [
    "prediction = am1bcc_charges * unit.elementary_charge\n",
    "np.abs(prediction - octane.partial_charges)"
   ]
  },
  {
   "cell_type": "markdown",
   "id": "d1a81b2f",
   "metadata": {},
   "source": [
    "All within 0.002 elementary charge units of true AM1BCC charges! Not too bad!"
   ]
  },
  {
   "cell_type": "markdown",
   "id": "6e8445af-3803-455e-a982-d8c7702ceb53",
   "metadata": {},
   "source": [
    "Similarly, looking at AM1 charges:"
   ]
  },
  {
   "cell_type": "code",
   "execution_count": 20,
   "id": "4c21c45d-c88e-4b03-8c96-9c80071f637f",
   "metadata": {
    "execution": {
     "iopub.execute_input": "2025-09-30T00:18:20.127758Z",
     "iopub.status.busy": "2025-09-30T00:18:20.127531Z",
     "iopub.status.idle": "2025-09-30T00:18:20.151692Z",
     "shell.execute_reply": "2025-09-30T00:18:20.150850Z"
    }
   },
   "outputs": [
    {
     "data": {
      "text/plain": [
       "array([-0.20439398, -0.1541368 , -0.15309134, -0.15229988, -0.15229988,\n",
       "       -0.15309134, -0.1541368 , -0.20439398,  0.06896329,  0.06896329,\n",
       "        0.06896329,  0.07554835,  0.07554835,  0.07648391,  0.07648391,\n",
       "        0.07648391,  0.07648391,  0.07648391,  0.07648391,  0.07648391,\n",
       "        0.07648391,  0.07554835,  0.07554835,  0.06896329,  0.06896329,\n",
       "        0.06896329], dtype=float32)"
      ]
     },
     "execution_count": 20,
     "metadata": {},
     "output_type": "execute_result"
    }
   ],
   "source": [
    "am1_charges = model.compute_property(octane, readout_name=\"predicted-am1-charges\")\n",
    "am1_charges"
   ]
  },
  {
   "cell_type": "code",
   "execution_count": 21,
   "id": "f298428e-3558-4683-8ac4-45974f0d726a",
   "metadata": {
    "execution": {
     "iopub.execute_input": "2025-09-30T00:18:20.153544Z",
     "iopub.status.busy": "2025-09-30T00:18:20.153364Z",
     "iopub.status.idle": "2025-09-30T00:18:24.135507Z",
     "shell.execute_reply": "2025-09-30T00:18:24.134252Z"
    }
   },
   "outputs": [
    {
     "data": {
      "text/html": [
       "<table><tbody><tr><th>Magnitude</th><td style='text-align:left;'><pre>[-0.21096153846153842 -0.15896153846153843 -0.15696153846153843 -0.15796153846153843 -0.15596153846153843 -0.15696153846153843 -0.15696153846153843 -0.21096153846153842 0.07103846153846155 0.07103846153846155 0.07103846153846155 0.07903846153846156 0.07803846153846156 0.07903846153846156 0.07703846153846156 0.07903846153846156 0.08003846153846156 0.08103846153846156 0.07603846153846155 0.08003846153846156 0.07503846153846155 0.07703846153846156 0.07503846153846155 0.07403846153846155 0.07003846153846156 0.07203846153846155]</pre></td></tr><tr><th>Units</th><td style='text-align:left;'>elementary_charge</td></tr></tbody></table>"
      ],
      "text/latex": [
       "$\\begin{pmatrix} &  &  &  &  &  &  &  &  &  &  &  &  &  &  &  &  &  &  &  &  &  &  &  &  & \\end{pmatrix}\\ \\mathrm{elementary\\_charge}$"
      ],
      "text/plain": [
       "<Quantity([-0.21096154 -0.15896154 -0.15696154 -0.15796154 -0.15596154 -0.15696154\n",
       " -0.15696154 -0.21096154  0.07103846  0.07103846  0.07103846  0.07903846\n",
       "  0.07803846  0.07903846  0.07703846  0.07903846  0.08003846  0.08103846\n",
       "  0.07603846  0.08003846  0.07503846  0.07703846  0.07503846  0.07403846\n",
       "  0.07003846  0.07203846], 'elementary_charge')>"
      ]
     },
     "execution_count": 21,
     "metadata": {},
     "output_type": "execute_result"
    }
   ],
   "source": [
    "octane.assign_partial_charges(\"am1-mulliken\")\n",
    "octane.partial_charges"
   ]
  },
  {
   "cell_type": "code",
   "execution_count": 22,
   "id": "27d2bf7b-dd40-457e-b786-834dc3f6e8a8",
   "metadata": {
    "execution": {
     "iopub.execute_input": "2025-09-30T00:18:24.137170Z",
     "iopub.status.busy": "2025-09-30T00:18:24.137004Z",
     "iopub.status.idle": "2025-09-30T00:18:24.144381Z",
     "shell.execute_reply": "2025-09-30T00:18:24.143955Z"
    }
   },
   "outputs": [
    {
     "data": {
      "text/html": [
       "<table><tbody><tr><th>Magnitude</th><td style='text-align:left;'><pre>[0.006567555574270356 0.0048247317350827434 0.0038701972044430932 0.0056616574800931185 0.0036616574800931168 0.0038701972044430932 0.0028247317350827417 0.006567555574270356 0.0020751722775972925 0.0020751722775972925 0.0020751722775972925 0.0034901107274569187 0.002490110727456918 0.0025545562230623875 0.0005545562230623857 0.0025545562230623875 0.0035545562230623884 0.004554556223062389 0.00044544377693761517 0.0035545562230623884 0.001445443776937616 0.001490110727456917 0.0005098892725430848 0.005075172277597295 0.0010751722775973055 0.0030751722775972934]</pre></td></tr><tr><th>Units</th><td style='text-align:left;'>elementary_charge</td></tr></tbody></table>"
      ],
      "text/latex": [
       "$\\begin{pmatrix} &  &  &  &  &  &  &  &  &  &  &  &  &  &  &  &  &  &  &  &  &  &  &  &  & \\end{pmatrix}\\ \\mathrm{elementary\\_charge}$"
      ],
      "text/plain": [
       "<Quantity([0.00656756 0.00482473 0.0038702  0.00566166 0.00366166 0.0038702\n",
       " 0.00282473 0.00656756 0.00207517 0.00207517 0.00207517 0.00349011\n",
       " 0.00249011 0.00255456 0.00055456 0.00255456 0.00355456 0.00455456\n",
       " 0.00044544 0.00355456 0.00144544 0.00149011 0.00050989 0.00507517\n",
       " 0.00107517 0.00307517], 'elementary_charge')>"
      ]
     },
     "execution_count": 22,
     "metadata": {},
     "output_type": "execute_result"
    }
   ],
   "source": [
    "am1_prediction = am1_charges * unit.elementary_charge\n",
    "np.abs(am1_prediction - octane.partial_charges)"
   ]
  },
  {
   "cell_type": "markdown",
   "id": "41188824-a304-4323-9080-7ba4890845d1",
   "metadata": {},
   "source": [
    "This is slightly less accurate (to within 0.02 elementary charge), possibly because AM1 charges were only fit to the charges directly, with none of the physical properties."
   ]
  },
  {
   "cell_type": "markdown",
   "id": "3f055919",
   "metadata": {},
   "source": [
    "## Saving and loading our model"
   ]
  },
  {
   "cell_type": "markdown",
   "id": "777c6140",
   "metadata": {},
   "source": [
    "We can save the final model with the `model.save()` method. This'll let us store it for later."
   ]
  },
  {
   "cell_type": "code",
   "execution_count": 23,
   "id": "7020a42c",
   "metadata": {
    "execution": {
     "iopub.execute_input": "2025-09-30T00:18:24.146519Z",
     "iopub.status.busy": "2025-09-30T00:18:24.146342Z",
     "iopub.status.idle": "2025-09-30T00:18:24.152191Z",
     "shell.execute_reply": "2025-09-30T00:18:24.151613Z"
    }
   },
   "outputs": [],
   "source": [
    "model.save(\"trained_alkane_model.pt\")"
   ]
  },
  {
   "cell_type": "markdown",
   "id": "6e7dec08",
   "metadata": {},
   "source": [
    "When we want it again, we can use the `GNNModel.load()` method:"
   ]
  },
  {
   "cell_type": "code",
   "execution_count": 24,
   "id": "6beb2faa",
   "metadata": {
    "execution": {
     "iopub.execute_input": "2025-09-30T00:18:24.154002Z",
     "iopub.status.busy": "2025-09-30T00:18:24.153818Z",
     "iopub.status.idle": "2025-09-30T00:18:24.182269Z",
     "shell.execute_reply": "2025-09-30T00:18:24.181327Z"
    }
   },
   "outputs": [
    {
     "data": {
      "text/plain": [
       "array([-0.08884934, -0.07774723, -0.07608283, -0.07597165, -0.07597165,\n",
       "       -0.07608283, -0.07774723, -0.08884934,  0.03142538,  0.03142538,\n",
       "        0.03142538,  0.03685947,  0.03685947,  0.03766399,  0.03766399,\n",
       "        0.03766399,  0.03766399,  0.03766399,  0.03766399,  0.03766399,\n",
       "        0.03766399,  0.03685947,  0.03685947,  0.03142538,  0.03142538,\n",
       "        0.03142538], dtype=float32)"
      ]
     },
     "execution_count": 24,
     "metadata": {},
     "output_type": "execute_result"
    }
   ],
   "source": [
    "model_from_disk = GNNModel.load(\"trained_alkane_model.pt\")\n",
    "model_from_disk.compute_property(octane, readout_name=\"predicted-am1bcc-charges\")"
   ]
  },
  {
   "cell_type": "code",
   "execution_count": null,
   "id": "24399a7f",
   "metadata": {},
   "outputs": [],
   "source": []
  }
 ],
 "metadata": {
  "cookbook_cache_branch": "_cookbook_data_main",
  "kernelspec": {
   "display_name": "Python 3 (ipykernel)",
   "language": "python",
   "name": "python3"
  },
  "language_info": {
   "codemirror_mode": {
    "name": "ipython",
    "version": 3
   },
   "file_extension": ".py",
   "mimetype": "text/x-python",
   "name": "python",
   "nbconvert_exporter": "python",
   "pygments_lexer": "ipython3",
   "version": "3.11.13"
  },
  "src_repo_tag": "v0.5.3"
 },
 "nbformat": 4,
 "nbformat_minor": 5
}
