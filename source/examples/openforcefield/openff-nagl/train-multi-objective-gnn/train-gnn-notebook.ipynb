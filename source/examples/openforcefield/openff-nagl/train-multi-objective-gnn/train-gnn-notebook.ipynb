{
 "cells": [
  {
   "cell_type": "markdown",
   "id": "480cf57f-a1ec-4c18-84a6-40af4268511e",
   "metadata": {},
   "source": [
    "# Training a Graph Neural Network with NAGL with multiple objectives"
   ]
  },
  {
   "cell_type": "markdown",
   "id": "70ed15cf",
   "metadata": {
    "tags": []
   },
   "source": [
    "This notebook will go through the process of training a new Graph Neural Network (GNN) on a small dataset of alkanes with multiple objectives. Please see the `train-gnn-notebook` tutorial for more on what's happening under the hood."
   ]
  },
  {
   "cell_type": "markdown",
   "id": "25fbe5ab",
   "metadata": {},
   "source": [
    "\n",
    "## Imports"
   ]
  },
  {
   "cell_type": "code",
   "execution_count": 1,
   "id": "893b5720",
   "metadata": {
    "execution": {
     "iopub.execute_input": "2024-07-23T03:46:46.322528Z",
     "iopub.status.busy": "2024-07-23T03:46:46.322297Z",
     "iopub.status.idle": "2024-07-23T03:46:48.190068Z",
     "shell.execute_reply": "2024-07-23T03:46:48.189418Z"
    }
   },
   "outputs": [],
   "source": [
    "from pathlib import Path\n",
    "\n",
    "import numpy as np\n",
    "\n",
    "from openff.toolkit import Molecule\n",
    "from openff.units import unit"
   ]
  },
  {
   "cell_type": "markdown",
   "id": "6804facd",
   "metadata": {},
   "source": [
    "## Create the model"
   ]
  },
  {
   "cell_type": "markdown",
   "id": "9f6ef898-5084-43b8-86a6-315b4d095f67",
   "metadata": {},
   "source": [
    "First, let's specify the model features."
   ]
  },
  {
   "cell_type": "code",
   "execution_count": 2,
   "id": "ada8176d",
   "metadata": {
    "execution": {
     "iopub.execute_input": "2024-07-23T03:46:48.194626Z",
     "iopub.status.busy": "2024-07-23T03:46:48.193524Z",
     "iopub.status.idle": "2024-07-23T03:46:51.696207Z",
     "shell.execute_reply": "2024-07-23T03:46:51.695546Z"
    }
   },
   "outputs": [],
   "source": [
    "from openff.nagl.features import atoms\n",
    "\n",
    "atom_features = (\n",
    "    atoms.AtomicElement(categories=[\"C\", \"H\"]), # Is the atom Carbon or Hydrogen?\n",
    "    atoms.AtomConnectivity(), # Is the atom bonded to 1, 2, 3, or 4 other atoms?\n",
    "    atoms.AtomAverageFormalCharge(), # What is the atom's mean formal charge over the molecule's tautomers?\n",
    "    atoms.AtomHybridization(), # What is the hybridization of the atom?\n",
    "    atoms.AtomInRingOfSize(ring_size=3), # Is the atom in a 3-membered ring?\n",
    "    atoms.AtomInRingOfSize(ring_size=4), # Is the atom in a 4-membered ring?\n",
    "    atoms.AtomInRingOfSize(ring_size=5), # Is the atom in a 5-membered ring?\n",
    "    atoms.AtomInRingOfSize(ring_size=6), # Is the atom in a 6-membered ring?\n",
    ")"
   ]
  },
  {
   "cell_type": "markdown",
   "id": "ccf9dbff-bbc8-475c-a089-1b6b70f2a2e3",
   "metadata": {},
   "source": [
    "We also need to specify the architecture of the GNN. We can make this as complicated as we like."
   ]
  },
  {
   "cell_type": "code",
   "execution_count": 3,
   "id": "8f675f1b",
   "metadata": {
    "execution": {
     "iopub.execute_input": "2024-07-23T03:46:51.700092Z",
     "iopub.status.busy": "2024-07-23T03:46:51.699343Z",
     "iopub.status.idle": "2024-07-23T03:46:51.704403Z",
     "shell.execute_reply": "2024-07-23T03:46:51.703786Z"
    }
   },
   "outputs": [],
   "source": [
    "from openff.nagl.config.model import (\n",
    "    ConvolutionLayer,\n",
    "    ConvolutionModule,\n",
    ")\n",
    "from openff.nagl import GNNModel\n",
    "from openff.nagl.nn.gcn import SAGEConvStack\n",
    "from torch.nn import ReLU\n",
    "from openff.nagl.nn.postprocess import ComputePartialCharges\n",
    "\n",
    "single_convolution_layer = ConvolutionLayer(\n",
    "    hidden_feature_size=128,  # 128 features per hidden convolution layer\n",
    "    aggregator_type=\"mean\",  # aggregate atom representations with mean\n",
    "    activation_function=\"ReLU\", # max(0, x) activation function for layer\n",
    "    dropout=0.0, # no dropout\n",
    ")\n",
    "\n",
    "convolution_module = ConvolutionModule(\n",
    "    architecture=\"SAGEConv\", # GraphSAGE GCN\n",
    "    layers=[single_convolution_layer] * 3, # 3 hidden convolution layers        \n",
    ")"
   ]
  },
  {
   "cell_type": "markdown",
   "id": "36064769-5355-4493-9bfa-690a30d6a066",
   "metadata": {},
   "source": [
    "We then specify the readout module."
   ]
  },
  {
   "cell_type": "code",
   "execution_count": 4,
   "id": "9ce164b4-d150-4d8f-920d-d778f770c2ea",
   "metadata": {
    "execution": {
     "iopub.execute_input": "2024-07-23T03:46:51.707179Z",
     "iopub.status.busy": "2024-07-23T03:46:51.706953Z",
     "iopub.status.idle": "2024-07-23T03:46:51.712182Z",
     "shell.execute_reply": "2024-07-23T03:46:51.711632Z"
    }
   },
   "outputs": [],
   "source": [
    "from openff.nagl.config.model import (\n",
    "    ForwardLayer,\n",
    "    ReadoutModule,\n",
    ")\n",
    "\n",
    "single_readout_layer = ForwardLayer(\n",
    "    hidden_feature_size=128,  # 128 features per hidden convolution layer\n",
    "    activation_function=\"ReLU\", # max(0, x) activation function for layer\n",
    "    dropout=0.0, # no dropout\n",
    ")\n",
    "\n",
    "normal_readout_module = ReadoutModule(\n",
    "    pooling=\"atoms\",\n",
    "    layers=[single_readout_layer] * 4, # 4 internal readout layers\n",
    "    # calculate charges with charge equilibration scheme from\n",
    "    # electronegativity and hardness\n",
    "    postprocess=\"compute_partial_charges\"\n",
    ")\n",
    "regularised_readout_module = ReadoutModule(\n",
    "    pooling=\"atoms\",\n",
    "    layers=[single_readout_layer] * 4, # 4 internal readout layers\n",
    "    # calculate charges with charge equilibration scheme from\n",
    "    # electronegativity, hardness, and an initial charge prediction\n",
    "    postprocess=\"regularized_compute_partial_charges\"\n",
    ")"
   ]
  },
  {
   "cell_type": "markdown",
   "id": "0881c65c-5c8b-4c8b-b713-127b841f12bc",
   "metadata": {},
   "source": [
    "Now we can put them together in a full `ModelConfig`. This can be passed to create a `GNNModel`. A model can have multiple readouts that derive different properties from the convolution representation, so each readout module is specified in a dictionary with a label.\n",
    "\n",
    "Here, the [`GNNModel`] class represents all the hyperparameters for a model, but after we train it the same object will store weights as well.\n",
    "\n",
    "[`GNNModel`]: https://docs.openforcefield.org/projects/nagl/en/latest/api/generated/openff.nagl.GNNModel.html"
   ]
  },
  {
   "cell_type": "code",
   "execution_count": 5,
   "id": "fa53e2fb-f37f-4054-be1d-a8a471bd6a77",
   "metadata": {
    "execution": {
     "iopub.execute_input": "2024-07-23T03:46:51.716037Z",
     "iopub.status.busy": "2024-07-23T03:46:51.715030Z",
     "iopub.status.idle": "2024-07-23T03:46:51.720089Z",
     "shell.execute_reply": "2024-07-23T03:46:51.719486Z"
    }
   },
   "outputs": [],
   "source": [
    "from openff.nagl.config.model import ModelConfig\n",
    "\n",
    "model_config = ModelConfig(\n",
    "    version=\"0.1\",\n",
    "    atom_features=atom_features,\n",
    "    bond_features=[],\n",
    "    convolution=convolution_module,\n",
    "    readouts={\n",
    "        \"predicted-am1bcc-charges\": normal_readout_module,\n",
    "        \"predicted-am1-charges\": regularised_readout_module\n",
    "    }\n",
    ")"
   ]
  },
  {
   "cell_type": "markdown",
   "id": "3de99f0d",
   "metadata": {},
   "source": [
    "## Put together our datasets"
   ]
  },
  {
   "cell_type": "markdown",
   "id": "aabbfb4c",
   "metadata": {},
   "source": [
    "We need to set up three datasets hers:\n",
    "\n",
    "- **training**: Data the model is trained against\n",
    "\n",
    "- **validation**: Data used to validate the model as it is trained\n",
    "\n",
    "- **tests**: Data used to test that the final model is good\n",
    "\n",
    "In this example, we'll use a collection of ten molecules for training. We'll also build a test/validation dataset of 3 molecules that are not in the training set."
   ]
  },
  {
   "cell_type": "markdown",
   "id": "3dc9982e",
   "metadata": {},
   "source": [
    "We can use the [`LabelledDataset`] class to generate training data that is saved in the `training_data` directory (or use `pyarrow` directly). First we can generate the dataset from SMILES:"
   ]
  },
  {
   "cell_type": "code",
   "execution_count": 6,
   "id": "54c17298",
   "metadata": {
    "execution": {
     "iopub.execute_input": "2024-07-23T03:46:51.724412Z",
     "iopub.status.busy": "2024-07-23T03:46:51.723205Z",
     "iopub.status.idle": "2024-07-23T03:46:52.331266Z",
     "shell.execute_reply": "2024-07-23T03:46:52.330645Z"
    }
   },
   "outputs": [
    {
     "name": "stderr",
     "output_type": "stream",
     "text": [
      "/home/runner/micromamba/envs/openff-docs-examples/lib/python3.10/site-packages/pandas/core/computation/expressions.py:21: UserWarning: Pandas requires version '2.8.4' or newer of 'numexpr' (version '2.7.3' currently installed).\n",
      "  from pandas.core.computation.check import NUMEXPR_INSTALLED\n"
     ]
    },
    {
     "data": {
      "text/html": [
       "<div>\n",
       "<style scoped>\n",
       "    .dataframe tbody tr th:only-of-type {\n",
       "        vertical-align: middle;\n",
       "    }\n",
       "\n",
       "    .dataframe tbody tr th {\n",
       "        vertical-align: top;\n",
       "    }\n",
       "\n",
       "    .dataframe thead th {\n",
       "        text-align: right;\n",
       "    }\n",
       "</style>\n",
       "<table border=\"1\" class=\"dataframe\">\n",
       "  <thead>\n",
       "    <tr style=\"text-align: right;\">\n",
       "      <th></th>\n",
       "      <th>mapped_smiles</th>\n",
       "    </tr>\n",
       "  </thead>\n",
       "  <tbody>\n",
       "    <tr>\n",
       "      <th>0</th>\n",
       "      <td>[C:1]([H:2])([H:3])([H:4])[H:5]</td>\n",
       "    </tr>\n",
       "    <tr>\n",
       "      <th>1</th>\n",
       "      <td>[C:1]([C:2]([H:6])([H:7])[H:8])([H:3])([H:4])[...</td>\n",
       "    </tr>\n",
       "    <tr>\n",
       "      <th>2</th>\n",
       "      <td>[C:1]([C:2]([C:3]([H:9])([H:10])[H:11])([H:7])...</td>\n",
       "    </tr>\n",
       "    <tr>\n",
       "      <th>3</th>\n",
       "      <td>[C:1]([C:2]([C:3]([C:4]([H:12])([H:13])[H:14])...</td>\n",
       "    </tr>\n",
       "    <tr>\n",
       "      <th>4</th>\n",
       "      <td>[C:1]([C:2]([C:3]([H:9])([H:10])[H:11])([C:4](...</td>\n",
       "    </tr>\n",
       "    <tr>\n",
       "      <th>5</th>\n",
       "      <td>[C:1]([C:2]([C:3]([C:4]([C:5]([H:15])([H:16])[...</td>\n",
       "    </tr>\n",
       "    <tr>\n",
       "      <th>6</th>\n",
       "      <td>[C:1]([C:2]([C:3]([H:10])([H:11])[H:12])([C:4]...</td>\n",
       "    </tr>\n",
       "    <tr>\n",
       "      <th>7</th>\n",
       "      <td>[C:1]([C:2]([C:3]([C:4]([C:5]([C:6]([H:18])([H...</td>\n",
       "    </tr>\n",
       "    <tr>\n",
       "      <th>8</th>\n",
       "      <td>[C:1]([C:2]([C:3]([H:11])([H:12])[H:13])([C:4]...</td>\n",
       "    </tr>\n",
       "    <tr>\n",
       "      <th>9</th>\n",
       "      <td>[C:1]([C:2]([C:3]([C:4]([H:13])([H:14])[H:15])...</td>\n",
       "    </tr>\n",
       "  </tbody>\n",
       "</table>\n",
       "</div>"
      ],
      "text/plain": [
       "                                       mapped_smiles\n",
       "0                    [C:1]([H:2])([H:3])([H:4])[H:5]\n",
       "1  [C:1]([C:2]([H:6])([H:7])[H:8])([H:3])([H:4])[...\n",
       "2  [C:1]([C:2]([C:3]([H:9])([H:10])[H:11])([H:7])...\n",
       "3  [C:1]([C:2]([C:3]([C:4]([H:12])([H:13])[H:14])...\n",
       "4  [C:1]([C:2]([C:3]([H:9])([H:10])[H:11])([C:4](...\n",
       "5  [C:1]([C:2]([C:3]([C:4]([C:5]([H:15])([H:16])[...\n",
       "6  [C:1]([C:2]([C:3]([H:10])([H:11])[H:12])([C:4]...\n",
       "7  [C:1]([C:2]([C:3]([C:4]([C:5]([C:6]([H:18])([H...\n",
       "8  [C:1]([C:2]([C:3]([H:11])([H:12])[H:13])([C:4]...\n",
       "9  [C:1]([C:2]([C:3]([C:4]([H:13])([H:14])[H:15])..."
      ]
     },
     "execution_count": 6,
     "metadata": {},
     "output_type": "execute_result"
    }
   ],
   "source": [
    "from openff.nagl.label.dataset import LabelledDataset\n",
    "\n",
    "training_alkanes = [\n",
    "    'C',\n",
    "     'CC',\n",
    "     'CCC',\n",
    "     'CCCC',\n",
    "     'CC(C)C',\n",
    "     'CCCCC',\n",
    "     'CC(C)CC',\n",
    "     'CCCCCC',\n",
    "     'CC(C)CCC',\n",
    "     'CC(CC)CC',\n",
    "]\n",
    "\n",
    "training_dataset = LabelledDataset.from_smiles(\n",
    "    \"training_data\",\n",
    "    training_alkanes,\n",
    "    mapped=False,\n",
    "    overwrite_existing=True,\n",
    ")\n",
    "training_dataset.to_pandas()"
   ]
  },
  {
   "cell_type": "markdown",
   "id": "f08ac77c-486d-4fce-a269-2fd53e7161ec",
   "metadata": {},
   "source": [
    "Below we specify label functions to label our molecules with the information that we will use in training and testing. Each argument is specified and annotated to explain their purpose; however, all label functions can be instantiated with default arguments (e.g. `LabelConformers()`) unless you need specific column names or arguments (e.g. changing the charge method).\n",
    "\n",
    "**Note: the ESP label function requires `openff-recharge` to be installed.**"
   ]
  },
  {
   "cell_type": "code",
   "execution_count": 7,
   "id": "185c204a-8dfa-4256-92e4-620d18fbd351",
   "metadata": {
    "execution": {
     "iopub.execute_input": "2024-07-23T03:46:52.335273Z",
     "iopub.status.busy": "2024-07-23T03:46:52.334837Z",
     "iopub.status.idle": "2024-07-23T03:46:52.342995Z",
     "shell.execute_reply": "2024-07-23T03:46:52.342429Z"
    }
   },
   "outputs": [],
   "source": [
    "from openff.nagl.label.labels import (\n",
    "    LabelConformers,\n",
    "    LabelCharges,\n",
    "    LabelMultipleDipoles,\n",
    "    LabelMultipleESPs,\n",
    ")\n",
    "import openff.recharge\n",
    "\n",
    "# generate ELF conformers\n",
    "label_conformers = LabelConformers(\n",
    "    # create a new 'conformers' with output conformers\n",
    "    conformer_column=\"conformers\",\n",
    "    # create a new 'n_conformers' with number of conformers\n",
    "    n_conformer_column=\"n_conformers\",\n",
    "    n_conformer_pool=500, # initially generate 500 conformers\n",
    "    n_conformers=10, # prune to max 10 conformers\n",
    "    rms_cutoff=0.05,\n",
    ")\n",
    "\n",
    "# generate AM1 charges\n",
    "label_am1_charges = LabelCharges(\n",
    "    charge_method=\"am1-mulliken\", # AM1\n",
    "    # use previously generate conformers instead of new ones\n",
    "    use_existing_conformers=True,\n",
    "    # use the 'conformers' column as input for charge assignment\n",
    "    conformer_column=\"conformers\",\n",
    "    # write generated charges to 'target-am1-charges' column\n",
    "    charge_column=\"target-am1-charges\",\n",
    ")\n",
    "\n",
    "# generate AM1-BCC charges\n",
    "label_am1bcc_charges = LabelCharges(\n",
    "    charge_method=\"am1bcc\", # AM1BCC\n",
    "    # use previously generate conformers instead of new ones\n",
    "    use_existing_conformers=True,\n",
    "    # use the 'conformers' column as input for charge assignment\n",
    "    conformer_column=\"conformers\",\n",
    "    # write generated charges to 'target-am1bcc-charges' column\n",
    "    charge_column=\"target-am1bcc-charges\",\n",
    ")\n",
    "\n",
    "label_am1bcc_dipoles = LabelMultipleDipoles(\n",
    "    # use the 'conformers' column as input to calculate dipole moments\n",
    "    conformer_column=\"conformers\",\n",
    "    # use the 'n_conformers' column as input\n",
    "    n_conformer_column=\"n_conformers\",\n",
    "    # use the \"target-am1bcc-charges\" column as input to calculate dipole moments\n",
    "    charge_column=\"target-am1bcc-charges\",\n",
    "    # write calculated dipoles to 'target-am1bcc-dipoles' column\n",
    "    dipole_column=\"target-am1bcc-dipoles\",\n",
    ")\n",
    "\n",
    "label_am1bcc_esps = LabelMultipleESPs(\n",
    "    # use the 'conformers' column as input to calculate ESPs\n",
    "    conformer_column=\"conformers\",\n",
    "    # use the 'n_conformers' column as input\n",
    "    n_conformer_column=\"n_conformers\",\n",
    "    # use the \"target-am1bcc-charges\" column as input to calculate ESPS\n",
    "    charge_column=\"target-am1bcc-charges\",\n",
    "    # generate new grids and inverse distances to points\n",
    "    use_existing_inverse_distances=False,\n",
    "    # write inverse distances from conformer to surface to this column\n",
    "    inverse_distance_matrix_column=\"grid_inverse_distances\",\n",
    "    # write number of grid points for each surface to this column\n",
    "    grid_length_column=\"esp_lengths\",\n",
    "    # write calculated ESPs to 'esps' column\n",
    "    esp_column=\"esps\",\n",
    ")"
   ]
  },
  {
   "cell_type": "markdown",
   "id": "9fc7e32e-4c2b-4f19-8797-17f4dcf85630",
   "metadata": {},
   "source": [
    "Below we apply the label functions to actually generate the labels. The order matters, as later label functions use the output of earlier ones."
   ]
  },
  {
   "cell_type": "code",
   "execution_count": 8,
   "id": "eb502fad-6eec-4395-bd78-b06bb8a27e19",
   "metadata": {
    "execution": {
     "iopub.execute_input": "2024-07-23T03:46:52.346810Z",
     "iopub.status.busy": "2024-07-23T03:46:52.345852Z",
     "iopub.status.idle": "2024-07-23T03:47:22.566644Z",
     "shell.execute_reply": "2024-07-23T03:47:22.566097Z"
    }
   },
   "outputs": [
    {
     "data": {
      "text/html": [
       "<div>\n",
       "<style scoped>\n",
       "    .dataframe tbody tr th:only-of-type {\n",
       "        vertical-align: middle;\n",
       "    }\n",
       "\n",
       "    .dataframe tbody tr th {\n",
       "        vertical-align: top;\n",
       "    }\n",
       "\n",
       "    .dataframe thead th {\n",
       "        text-align: right;\n",
       "    }\n",
       "</style>\n",
       "<table border=\"1\" class=\"dataframe\">\n",
       "  <thead>\n",
       "    <tr style=\"text-align: right;\">\n",
       "      <th></th>\n",
       "      <th>mapped_smiles</th>\n",
       "      <th>conformers</th>\n",
       "      <th>n_conformers</th>\n",
       "      <th>target-am1-charges</th>\n",
       "      <th>target-am1bcc-charges</th>\n",
       "      <th>target-am1bcc-dipoles</th>\n",
       "      <th>esp_lengths</th>\n",
       "      <th>grid_inverse_distances</th>\n",
       "      <th>esps</th>\n",
       "    </tr>\n",
       "  </thead>\n",
       "  <tbody>\n",
       "    <tr>\n",
       "      <th>0</th>\n",
       "      <td>[C:1]([H:2])([H:3])([H:4])[H:5]</td>\n",
       "      <td>[0.005118712612069831, -0.010620498663889949, ...</td>\n",
       "      <td>1</td>\n",
       "      <td>[-0.2656, 0.0664, 0.0664, 0.0664, 0.0664]</td>\n",
       "      <td>[-0.1084, 0.0271, 0.0271, 0.0271, 0.0271]</td>\n",
       "      <td>[-0.0006935855589354605, 0.0014390775689570746...</td>\n",
       "      <td>[398]</td>\n",
       "      <td>[0.22234336592604098, 0.1691980088400493, 0.26...</td>\n",
       "      <td>[-0.00048403793895890833, -0.00071972139957695...</td>\n",
       "    </tr>\n",
       "    <tr>\n",
       "      <th>1</th>\n",
       "      <td>[C:1]([C:2]([H:6])([H:7])[H:8])([H:3])([H:4])[...</td>\n",
       "      <td>[-0.7455231747504416, 0.04144445508118371, 0.0...</td>\n",
       "      <td>1</td>\n",
       "      <td>[-0.21225, -0.21225, 0.07075, 0.07075, 0.07075...</td>\n",
       "      <td>[-0.09435, -0.09435, 0.03145, 0.03145, 0.03145...</td>\n",
       "      <td>[-0.0002285229334980654, -0.005575840474810592...</td>\n",
       "      <td>[500]</td>\n",
       "      <td>[0.22234336592604098, 0.18774435919748517, 0.3...</td>\n",
       "      <td>[-0.001407404714360157, -0.0029490792419474554...</td>\n",
       "    </tr>\n",
       "    <tr>\n",
       "      <th>2</th>\n",
       "      <td>[C:1]([C:2]([C:3]([H:9])([H:10])[H:11])([H:7])...</td>\n",
       "      <td>[1.2163074727474537, -0.24294836930504896, 0.2...</td>\n",
       "      <td>1</td>\n",
       "      <td>[-0.211, -0.16, -0.211, 0.072, 0.072, 0.071, 0...</td>\n",
       "      <td>[-0.09310018181818182, -0.08140018181818182, -...</td>\n",
       "      <td>[-0.0043053606473935704, -0.009872806411602934...</td>\n",
       "      <td>[602]</td>\n",
       "      <td>[0.22234336592604098, 0.2043827690515404, 0.18...</td>\n",
       "      <td>[-0.002920570510046846, -0.0009924942195456941...</td>\n",
       "    </tr>\n",
       "    <tr>\n",
       "      <th>3</th>\n",
       "      <td>[C:1]([C:2]([C:3]([C:4]([H:12])([H:13])[H:14])...</td>\n",
       "      <td>[1.8901957496718658, 0.042575097521835, 0.2431...</td>\n",
       "      <td>1</td>\n",
       "      <td>[-0.21028571428571427, -0.15928571428571428, -...</td>\n",
       "      <td>[-0.09238585714285714, -0.08068585714285714, -...</td>\n",
       "      <td>[-0.003195845195204508, -0.00494009309346443, ...</td>\n",
       "      <td>[690]</td>\n",
       "      <td>[0.22234336592604098, 0.17092450502366457, 0.1...</td>\n",
       "      <td>[-0.000870799470089798, 4.8700196369716106e-05...</td>\n",
       "    </tr>\n",
       "    <tr>\n",
       "      <th>4</th>\n",
       "      <td>[C:1]([C:2]([C:3]([H:9])([H:10])[H:11])([C:4](...</td>\n",
       "      <td>[1.4351901021861362, 0.27740245802875496, 0.13...</td>\n",
       "      <td>1</td>\n",
       "      <td>[-0.20735714285714285, -0.10935714285714285, -...</td>\n",
       "      <td>[-0.08945692857142856, -0.07005692857142856, -...</td>\n",
       "      <td>[-0.0059915089786667305, -0.009373247525965786...</td>\n",
       "      <td>[672]</td>\n",
       "      <td>[0.22234336592604098, 0.19109842170559405, 0.1...</td>\n",
       "      <td>[-0.0008717150501716528, -0.003425712120807677...</td>\n",
       "    </tr>\n",
       "    <tr>\n",
       "      <th>5</th>\n",
       "      <td>[C:1]([C:2]([C:3]([C:4]([C:5]([H:15])([H:16])[...</td>\n",
       "      <td>[2.4660243557948207, -0.0503036791214956, 0.03...</td>\n",
       "      <td>1</td>\n",
       "      <td>[-0.21, -0.159, -0.158, -0.159, -0.21, 0.07200...</td>\n",
       "      <td>[-0.09210011764705882, -0.08040011764705882, -...</td>\n",
       "      <td>[-0.003987426571054067, 0.005559284278063413, ...</td>\n",
       "      <td>[791]</td>\n",
       "      <td>[0.22234336592604098, 0.14213609699084526, 0.1...</td>\n",
       "      <td>[0.0005046598853891658, 0.0002250632479590313,...</td>\n",
       "    </tr>\n",
       "    <tr>\n",
       "      <th>6</th>\n",
       "      <td>[C:1]([C:2]([C:3]([H:10])([H:11])[H:12])([C:4]...</td>\n",
       "      <td>[-1.2418582991411082, 1.052060941462957, 0.017...</td>\n",
       "      <td>1</td>\n",
       "      <td>[-0.207, -0.10599999999999998, -0.207, -0.153,...</td>\n",
       "      <td>[-0.08909988235294117, -0.06669988235294116, -...</td>\n",
       "      <td>[-0.0026498796085173554, -0.008039775679738135...</td>\n",
       "      <td>[750]</td>\n",
       "      <td>[0.22234336592604098, 0.15192142508151973, 0.1...</td>\n",
       "      <td>[-0.00023715760591162555, -0.00101041663676669...</td>\n",
       "    </tr>\n",
       "    <tr>\n",
       "      <th>7</th>\n",
       "      <td>[C:1]([C:2]([C:3]([C:4]([C:5]([C:6]([H:18])([H...</td>\n",
       "      <td>[-3.0907008742942494, -0.14370944748493916, -0...</td>\n",
       "      <td>1</td>\n",
       "      <td>[-0.21009999999999998, -0.1591, -0.1581, -0.15...</td>\n",
       "      <td>[-0.0922, -0.0805, -0.0795, -0.0795, -0.0805, ...</td>\n",
       "      <td>[0.0018400328214143447, -0.014928553541414105,...</td>\n",
       "      <td>[901]</td>\n",
       "      <td>[0.22234336592604098, 0.1986135821292406, 0.15...</td>\n",
       "      <td>[-0.0014053749951576907, -0.000203661455117260...</td>\n",
       "    </tr>\n",
       "    <tr>\n",
       "      <th>8</th>\n",
       "      <td>[C:1]([C:2]([C:3]([H:11])([H:12])[H:13])([C:4]...</td>\n",
       "      <td>[-1.3441616214248866, 1.2928572296227032, -0.3...</td>\n",
       "      <td>1</td>\n",
       "      <td>[-0.20694999999999997, -0.10694999999999998, -...</td>\n",
       "      <td>[-0.08955004999999999, -0.06765004999999999, -...</td>\n",
       "      <td>[-0.00816547475433177, 0.0055545221371308545, ...</td>\n",
       "      <td>[844]</td>\n",
       "      <td>[0.22234336592604098, 0.1852101593428309, 0.13...</td>\n",
       "      <td>[-0.0012388351037772895, -0.002423698057369004...</td>\n",
       "    </tr>\n",
       "    <tr>\n",
       "      <th>9</th>\n",
       "      <td>[C:1]([C:2]([C:3]([C:4]([H:13])([H:14])[H:15])...</td>\n",
       "      <td>[-0.40122078234363445, -1.422374025464223, -0....</td>\n",
       "      <td>1</td>\n",
       "      <td>[-0.20794999999999997, -0.10594999999999999, -...</td>\n",
       "      <td>[-0.09005, -0.06665, -0.07785, -0.09205, -0.07...</td>\n",
       "      <td>[0.001310505146191715, -0.012141030775731199, ...</td>\n",
       "      <td>[829]</td>\n",
       "      <td>[0.22234336592604098, 0.1436149999840705, 0.11...</td>\n",
       "      <td>[-0.00044908769940229555, -0.00022010214148746...</td>\n",
       "    </tr>\n",
       "  </tbody>\n",
       "</table>\n",
       "</div>"
      ],
      "text/plain": [
       "                                       mapped_smiles  \\\n",
       "0                    [C:1]([H:2])([H:3])([H:4])[H:5]   \n",
       "1  [C:1]([C:2]([H:6])([H:7])[H:8])([H:3])([H:4])[...   \n",
       "2  [C:1]([C:2]([C:3]([H:9])([H:10])[H:11])([H:7])...   \n",
       "3  [C:1]([C:2]([C:3]([C:4]([H:12])([H:13])[H:14])...   \n",
       "4  [C:1]([C:2]([C:3]([H:9])([H:10])[H:11])([C:4](...   \n",
       "5  [C:1]([C:2]([C:3]([C:4]([C:5]([H:15])([H:16])[...   \n",
       "6  [C:1]([C:2]([C:3]([H:10])([H:11])[H:12])([C:4]...   \n",
       "7  [C:1]([C:2]([C:3]([C:4]([C:5]([C:6]([H:18])([H...   \n",
       "8  [C:1]([C:2]([C:3]([H:11])([H:12])[H:13])([C:4]...   \n",
       "9  [C:1]([C:2]([C:3]([C:4]([H:13])([H:14])[H:15])...   \n",
       "\n",
       "                                          conformers  n_conformers  \\\n",
       "0  [0.005118712612069831, -0.010620498663889949, ...             1   \n",
       "1  [-0.7455231747504416, 0.04144445508118371, 0.0...             1   \n",
       "2  [1.2163074727474537, -0.24294836930504896, 0.2...             1   \n",
       "3  [1.8901957496718658, 0.042575097521835, 0.2431...             1   \n",
       "4  [1.4351901021861362, 0.27740245802875496, 0.13...             1   \n",
       "5  [2.4660243557948207, -0.0503036791214956, 0.03...             1   \n",
       "6  [-1.2418582991411082, 1.052060941462957, 0.017...             1   \n",
       "7  [-3.0907008742942494, -0.14370944748493916, -0...             1   \n",
       "8  [-1.3441616214248866, 1.2928572296227032, -0.3...             1   \n",
       "9  [-0.40122078234363445, -1.422374025464223, -0....             1   \n",
       "\n",
       "                                  target-am1-charges  \\\n",
       "0          [-0.2656, 0.0664, 0.0664, 0.0664, 0.0664]   \n",
       "1  [-0.21225, -0.21225, 0.07075, 0.07075, 0.07075...   \n",
       "2  [-0.211, -0.16, -0.211, 0.072, 0.072, 0.071, 0...   \n",
       "3  [-0.21028571428571427, -0.15928571428571428, -...   \n",
       "4  [-0.20735714285714285, -0.10935714285714285, -...   \n",
       "5  [-0.21, -0.159, -0.158, -0.159, -0.21, 0.07200...   \n",
       "6  [-0.207, -0.10599999999999998, -0.207, -0.153,...   \n",
       "7  [-0.21009999999999998, -0.1591, -0.1581, -0.15...   \n",
       "8  [-0.20694999999999997, -0.10694999999999998, -...   \n",
       "9  [-0.20794999999999997, -0.10594999999999999, -...   \n",
       "\n",
       "                               target-am1bcc-charges  \\\n",
       "0          [-0.1084, 0.0271, 0.0271, 0.0271, 0.0271]   \n",
       "1  [-0.09435, -0.09435, 0.03145, 0.03145, 0.03145...   \n",
       "2  [-0.09310018181818182, -0.08140018181818182, -...   \n",
       "3  [-0.09238585714285714, -0.08068585714285714, -...   \n",
       "4  [-0.08945692857142856, -0.07005692857142856, -...   \n",
       "5  [-0.09210011764705882, -0.08040011764705882, -...   \n",
       "6  [-0.08909988235294117, -0.06669988235294116, -...   \n",
       "7  [-0.0922, -0.0805, -0.0795, -0.0795, -0.0805, ...   \n",
       "8  [-0.08955004999999999, -0.06765004999999999, -...   \n",
       "9  [-0.09005, -0.06665, -0.07785, -0.09205, -0.07...   \n",
       "\n",
       "                               target-am1bcc-dipoles esp_lengths  \\\n",
       "0  [-0.0006935855589354605, 0.0014390775689570746...       [398]   \n",
       "1  [-0.0002285229334980654, -0.005575840474810592...       [500]   \n",
       "2  [-0.0043053606473935704, -0.009872806411602934...       [602]   \n",
       "3  [-0.003195845195204508, -0.00494009309346443, ...       [690]   \n",
       "4  [-0.0059915089786667305, -0.009373247525965786...       [672]   \n",
       "5  [-0.003987426571054067, 0.005559284278063413, ...       [791]   \n",
       "6  [-0.0026498796085173554, -0.008039775679738135...       [750]   \n",
       "7  [0.0018400328214143447, -0.014928553541414105,...       [901]   \n",
       "8  [-0.00816547475433177, 0.0055545221371308545, ...       [844]   \n",
       "9  [0.001310505146191715, -0.012141030775731199, ...       [829]   \n",
       "\n",
       "                              grid_inverse_distances  \\\n",
       "0  [0.22234336592604098, 0.1691980088400493, 0.26...   \n",
       "1  [0.22234336592604098, 0.18774435919748517, 0.3...   \n",
       "2  [0.22234336592604098, 0.2043827690515404, 0.18...   \n",
       "3  [0.22234336592604098, 0.17092450502366457, 0.1...   \n",
       "4  [0.22234336592604098, 0.19109842170559405, 0.1...   \n",
       "5  [0.22234336592604098, 0.14213609699084526, 0.1...   \n",
       "6  [0.22234336592604098, 0.15192142508151973, 0.1...   \n",
       "7  [0.22234336592604098, 0.1986135821292406, 0.15...   \n",
       "8  [0.22234336592604098, 0.1852101593428309, 0.13...   \n",
       "9  [0.22234336592604098, 0.1436149999840705, 0.11...   \n",
       "\n",
       "                                                esps  \n",
       "0  [-0.00048403793895890833, -0.00071972139957695...  \n",
       "1  [-0.001407404714360157, -0.0029490792419474554...  \n",
       "2  [-0.002920570510046846, -0.0009924942195456941...  \n",
       "3  [-0.000870799470089798, 4.8700196369716106e-05...  \n",
       "4  [-0.0008717150501716528, -0.003425712120807677...  \n",
       "5  [0.0005046598853891658, 0.0002250632479590313,...  \n",
       "6  [-0.00023715760591162555, -0.00101041663676669...  \n",
       "7  [-0.0014053749951576907, -0.000203661455117260...  \n",
       "8  [-0.0012388351037772895, -0.002423698057369004...  \n",
       "9  [-0.00044908769940229555, -0.00022010214148746...  "
      ]
     },
     "execution_count": 8,
     "metadata": {},
     "output_type": "execute_result"
    }
   ],
   "source": [
    "labellers = [\n",
    "    label_conformers, # generate initial conformers,\n",
    "    label_am1_charges,\n",
    "    label_am1bcc_charges,\n",
    "    label_am1bcc_dipoles,\n",
    "    label_am1bcc_esps,\n",
    "]\n",
    "\n",
    "training_dataset.apply_labellers(labellers)\n",
    "training_dataset.to_pandas()"
   ]
  },
  {
   "cell_type": "markdown",
   "id": "75907f1f",
   "metadata": {},
   "source": [
    "### Building a test dataset"
   ]
  },
  {
   "cell_type": "markdown",
   "id": "4938cee0-ee07-4b6a-987e-215449149db7",
   "metadata": {},
   "source": [
    "To augment the provided training set, we'll quickly prepare a second dataset for testing and validation. We use the same label functions:"
   ]
  },
  {
   "cell_type": "code",
   "execution_count": 9,
   "id": "1de9bd3a",
   "metadata": {
    "execution": {
     "iopub.execute_input": "2024-07-23T03:47:22.571270Z",
     "iopub.status.busy": "2024-07-23T03:47:22.569671Z",
     "iopub.status.idle": "2024-07-23T03:47:35.507066Z",
     "shell.execute_reply": "2024-07-23T03:47:35.506424Z"
    }
   },
   "outputs": [
    {
     "data": {
      "text/html": [
       "<div>\n",
       "<style scoped>\n",
       "    .dataframe tbody tr th:only-of-type {\n",
       "        vertical-align: middle;\n",
       "    }\n",
       "\n",
       "    .dataframe tbody tr th {\n",
       "        vertical-align: top;\n",
       "    }\n",
       "\n",
       "    .dataframe thead th {\n",
       "        text-align: right;\n",
       "    }\n",
       "</style>\n",
       "<table border=\"1\" class=\"dataframe\">\n",
       "  <thead>\n",
       "    <tr style=\"text-align: right;\">\n",
       "      <th></th>\n",
       "      <th>mapped_smiles</th>\n",
       "      <th>conformers</th>\n",
       "      <th>n_conformers</th>\n",
       "      <th>target-am1-charges</th>\n",
       "      <th>target-am1bcc-charges</th>\n",
       "      <th>target-am1bcc-dipoles</th>\n",
       "      <th>esp_lengths</th>\n",
       "      <th>grid_inverse_distances</th>\n",
       "      <th>esps</th>\n",
       "    </tr>\n",
       "  </thead>\n",
       "  <tbody>\n",
       "    <tr>\n",
       "      <th>0</th>\n",
       "      <td>[C:1]([C:2]([C:3]([C:4]([C:5]([C:6]([C:7]([H:2...</td>\n",
       "      <td>[-3.545070958260261, 0.5832530008833098, 0.079...</td>\n",
       "      <td>1</td>\n",
       "      <td>[-0.21008695652173912, -0.15908695652173913, -...</td>\n",
       "      <td>[-0.09218686956521739, -0.07998686956521739, -...</td>\n",
       "      <td>[-0.00595775894206417, 0.0008582141430205914, ...</td>\n",
       "      <td>[944]</td>\n",
       "      <td>[0.22234336592604098, 0.19692667350664092, 0.1...</td>\n",
       "      <td>[-0.0006610506078259431, -0.000516657266085287...</td>\n",
       "    </tr>\n",
       "    <tr>\n",
       "      <th>1</th>\n",
       "      <td>[C:1]([C:2]([C:3]([H:11])([H:12])[H:13])([C:4]...</td>\n",
       "      <td>[0.9713614798232566, -0.892209543378047, 1.004...</td>\n",
       "      <td>1</td>\n",
       "      <td>[-0.20589999999999997, -0.10289999999999998, -...</td>\n",
       "      <td>[-0.0890002, -0.06360020000000001, -0.0890002,...</td>\n",
       "      <td>[-0.002531086126934007, -0.00711238458844677, ...</td>\n",
       "      <td>[803]</td>\n",
       "      <td>[0.22234336592604098, 0.17641696600758316, 0.1...</td>\n",
       "      <td>[-0.0006969112009999837, -0.000166671288359785...</td>\n",
       "    </tr>\n",
       "    <tr>\n",
       "      <th>2</th>\n",
       "      <td>[C:1]([C:2]([C:3]([H:9])([H:10])[H:11])([C:4](...</td>\n",
       "      <td>[1.2935034573089457, -0.7675514803987564, -0.0...</td>\n",
       "      <td>1</td>\n",
       "      <td>[-0.20323529411764704, -0.06023529411764704, -...</td>\n",
       "      <td>[-0.08533529411764705, -0.06023529411764706, -...</td>\n",
       "      <td>[0.003012641718856162, 0.010054820006400858, 0...</td>\n",
       "      <td>[743]</td>\n",
       "      <td>[0.22234336592604098, 0.1629178797473639, 0.18...</td>\n",
       "      <td>[1.7940051204891212e-05, 0.0004078426202498559...</td>\n",
       "    </tr>\n",
       "  </tbody>\n",
       "</table>\n",
       "</div>"
      ],
      "text/plain": [
       "                                       mapped_smiles  \\\n",
       "0  [C:1]([C:2]([C:3]([C:4]([C:5]([C:6]([C:7]([H:2...   \n",
       "1  [C:1]([C:2]([C:3]([H:11])([H:12])[H:13])([C:4]...   \n",
       "2  [C:1]([C:2]([C:3]([H:9])([H:10])[H:11])([C:4](...   \n",
       "\n",
       "                                          conformers  n_conformers  \\\n",
       "0  [-3.545070958260261, 0.5832530008833098, 0.079...             1   \n",
       "1  [0.9713614798232566, -0.892209543378047, 1.004...             1   \n",
       "2  [1.2935034573089457, -0.7675514803987564, -0.0...             1   \n",
       "\n",
       "                                  target-am1-charges  \\\n",
       "0  [-0.21008695652173912, -0.15908695652173913, -...   \n",
       "1  [-0.20589999999999997, -0.10289999999999998, -...   \n",
       "2  [-0.20323529411764704, -0.06023529411764704, -...   \n",
       "\n",
       "                               target-am1bcc-charges  \\\n",
       "0  [-0.09218686956521739, -0.07998686956521739, -...   \n",
       "1  [-0.0890002, -0.06360020000000001, -0.0890002,...   \n",
       "2  [-0.08533529411764705, -0.06023529411764706, -...   \n",
       "\n",
       "                               target-am1bcc-dipoles esp_lengths  \\\n",
       "0  [-0.00595775894206417, 0.0008582141430205914, ...       [944]   \n",
       "1  [-0.002531086126934007, -0.00711238458844677, ...       [803]   \n",
       "2  [0.003012641718856162, 0.010054820006400858, 0...       [743]   \n",
       "\n",
       "                              grid_inverse_distances  \\\n",
       "0  [0.22234336592604098, 0.19692667350664092, 0.1...   \n",
       "1  [0.22234336592604098, 0.17641696600758316, 0.1...   \n",
       "2  [0.22234336592604098, 0.1629178797473639, 0.18...   \n",
       "\n",
       "                                                esps  \n",
       "0  [-0.0006610506078259431, -0.000516657266085287...  \n",
       "1  [-0.0006969112009999837, -0.000166671288359785...  \n",
       "2  [1.7940051204891212e-05, 0.0004078426202498559...  "
      ]
     },
     "execution_count": 9,
     "metadata": {},
     "output_type": "execute_result"
    }
   ],
   "source": [
    "from openff.nagl.label.labels import LabelCharges\n",
    "\n",
    "# Choose the molecules to put in this dataset\n",
    "# Note that these molecules aren't in the training dataset!\n",
    "test_smiles = [\n",
    "    \"CCCCCCC\",\n",
    "    \"CC(C)C(C)C\",\n",
    "    \"CC(C)(C)C\",\n",
    "]\n",
    "\n",
    "test_dataset = LabelledDataset.from_smiles(\n",
    "    \"my_first_test_dataset\",  # path to save to\n",
    "    test_smiles,\n",
    "    mapped=False,\n",
    "    overwrite_existing=True,\n",
    ")\n",
    "\n",
    "test_dataset.apply_labellers(labellers)\n",
    "test_dataset.to_pandas()"
   ]
  },
  {
   "cell_type": "markdown",
   "id": "c26946d2",
   "metadata": {},
   "source": [
    "### Curating our data module"
   ]
  },
  {
   "cell_type": "markdown",
   "id": "5f0f2cb9-10ec-4df9-9019-3bc2c38d3fca",
   "metadata": {},
   "source": [
    "Now we assemble our datasets into a `DataConfig`. For each `DatasetConfig`, we need to specify the targets we are choosing to fit. A `Target` is what we used to construct the objective function and calculate loss. Below we:\n",
    "- fit the `predicted-am1-charges` property directly to the labelled `target-am1-charges`\n",
    "- fit the `predicted-am1bcc-charges` property to a combined objective of:\n",
    "  - charge RMSE\n",
    "  - dipole moments\n",
    "  - ESP targets\n",
    " \n",
    "For the physical properties, we need additional information (the `conformers`, `n_conformers`, ... columns) to calculate the dipole moments and ESPs for comparison. Each of these has been annotated. The `target_label` always refers to the column in the input dataset that is the property we are comparing."
   ]
  },
  {
   "cell_type": "code",
   "execution_count": 10,
   "id": "1f67b4f8-72d2-455f-aa2e-1b3301786809",
   "metadata": {
    "execution": {
     "iopub.execute_input": "2024-07-23T03:47:35.511443Z",
     "iopub.status.busy": "2024-07-23T03:47:35.510360Z",
     "iopub.status.idle": "2024-07-23T03:47:35.519424Z",
     "shell.execute_reply": "2024-07-23T03:47:35.518692Z"
    }
   },
   "outputs": [],
   "source": [
    "from openff.nagl.config.data import DatasetConfig, DataConfig\n",
    "from openff.nagl.training.metrics import RMSEMetric\n",
    "from openff.nagl.training.loss import ReadoutTarget, MultipleDipoleTarget, MultipleESPTarget\n",
    "\n",
    "\n",
    "am1_charge_rmse_target = ReadoutTarget(\n",
    "    metric=RMSEMetric(),  # use RMSE to calculate loss\n",
    "    target_label=\"target-am1-charges\", # column to use from data as reference target\n",
    "    prediction_label=\"predicted-am1-charges\", # readout value to compare to target\n",
    "    denominator=1.0, # denominator to normalise loss -- important for multi-target objectives\n",
    "    weight=1.0, # how much to weight the loss -- important for multi-target objectives\n",
    ")\n",
    "\n",
    "am1bcc_charge_rmse_target = ReadoutTarget(\n",
    "    metric=RMSEMetric(),  # use RMSE to calculate loss\n",
    "    target_label=\"target-am1bcc-charges\", # column to use from data as reference target\n",
    "    prediction_label=\"predicted-am1bcc-charges\", # readout value to compare to target\n",
    "    denominator=0.001, # denominator to normalise loss -- important for multi-target objectives\n",
    "    weight=1.0, # how much to weight the loss -- important for multi-target objectives\n",
    ")\n",
    "\n",
    "am1bcc_dipole_target = MultipleDipoleTarget(\n",
    "    metric=RMSEMetric(),\n",
    "    target_label=\"target-am1bcc-dipoles\", # column to use from input data as reference target\n",
    "    charge_label=\"predicted-am1bcc-charges\", # readout charge value to calculate dipoles with\n",
    "    conformation_column=\"conformers\", # input data to use for calculating dipoles\n",
    "    n_conformation_column=\"n_conformers\", # input data to use for calculating dipoles\n",
    "    denominator=0.01,\n",
    "    weight=1.0\n",
    ")\n",
    "\n",
    "am1bcc_esp_target = MultipleESPTarget(\n",
    "    metric=RMSEMetric(),\n",
    "    target_label=\"esps\", # column to use from input data as reference target\n",
    "    charge_label=\"predicted-am1bcc-charges\", # readout charge value to calculate ESPs with\n",
    "    inverse_distance_matrix_column=\"grid_inverse_distances\", # input data to use to calculate ESPs\n",
    "    esp_length_column=\"esp_lengths\", # input data to use to calculate ESPs\n",
    "    n_esp_column=\"n_conformers\", # input data to use to calculate ESPs\n",
    "    denominator=0.001,\n",
    "    weight=1.0\n",
    ")"
   ]
  },
  {
   "cell_type": "markdown",
   "id": "b4e12a9f-9313-4cac-b9ee-4f96edaf3b79",
   "metadata": {},
   "source": [
    "Now we combine each of these targets into each `DatasetConfig`."
   ]
  },
  {
   "cell_type": "code",
   "execution_count": 11,
   "id": "16cf0284-4c0d-4d6e-8a6b-0479e31823bc",
   "metadata": {
    "execution": {
     "iopub.execute_input": "2024-07-23T03:47:35.524040Z",
     "iopub.status.busy": "2024-07-23T03:47:35.522838Z",
     "iopub.status.idle": "2024-07-23T03:47:35.529111Z",
     "shell.execute_reply": "2024-07-23T03:47:35.528481Z"
    }
   },
   "outputs": [],
   "source": [
    "targets = [\n",
    "    am1_charge_rmse_target,\n",
    "    am1bcc_charge_rmse_target,\n",
    "    am1bcc_dipole_target,\n",
    "    am1bcc_esp_target,\n",
    "]\n",
    "    \n",
    "\n",
    "training_dataset_config = DatasetConfig(\n",
    "    sources=[\"training_data\"],\n",
    "    targets=targets,\n",
    "    batch_size=1000,\n",
    ")\n",
    "\n",
    "test_dataset_config = validation_dataset_config = DatasetConfig(\n",
    "    sources=[\"my_first_test_dataset\"],\n",
    "    targets=targets,\n",
    "    batch_size=1000,\n",
    ")\n",
    "\n",
    "data_config = DataConfig(\n",
    "    training=training_dataset_config,\n",
    "    validation=validation_dataset_config,\n",
    "    test=test_dataset_config\n",
    ")"
   ]
  },
  {
   "cell_type": "markdown",
   "id": "37e228a5",
   "metadata": {},
   "source": [
    "## Train the model"
   ]
  },
  {
   "cell_type": "markdown",
   "id": "f08e1846-fd1d-4c35-9653-d658218a9c41",
   "metadata": {},
   "source": [
    "We've prepared our model architecture and our training, validation and test data; now we just need to fit the model! To do this, we need to specify optimization settings with a `OptimizerConfig`, and then put everything together in a `TrainingConfig`."
   ]
  },
  {
   "cell_type": "code",
   "execution_count": 12,
   "id": "b7320ab2-8412-40a8-ac74-4346412e3d8e",
   "metadata": {
    "execution": {
     "iopub.execute_input": "2024-07-23T03:47:35.533821Z",
     "iopub.status.busy": "2024-07-23T03:47:35.532656Z",
     "iopub.status.idle": "2024-07-23T03:47:35.538111Z",
     "shell.execute_reply": "2024-07-23T03:47:35.537476Z"
    }
   },
   "outputs": [],
   "source": [
    "from openff.nagl.config.optimizer import OptimizerConfig\n",
    "from openff.nagl.config.training import TrainingConfig\n",
    "\n",
    "optimizer_config = OptimizerConfig(\n",
    "    optimizer=\"Adam\",\n",
    "    learning_rate=0.001,\n",
    ")\n",
    "\n",
    "training_config = TrainingConfig(\n",
    "    model=model_config,\n",
    "    data=data_config,\n",
    "    optimizer=optimizer_config\n",
    ")"
   ]
  },
  {
   "cell_type": "code",
   "execution_count": 13,
   "id": "7897285f-6039-4c8c-aa2f-c685f814c21c",
   "metadata": {
    "execution": {
     "iopub.execute_input": "2024-07-23T03:47:35.542214Z",
     "iopub.status.busy": "2024-07-23T03:47:35.541148Z",
     "iopub.status.idle": "2024-07-23T03:47:35.944559Z",
     "shell.execute_reply": "2024-07-23T03:47:35.943866Z"
    }
   },
   "outputs": [],
   "source": [
    "from openff.nagl.training.training import TrainingGNNModel, DGLMoleculeDataModule\n",
    "\n",
    "training_model = TrainingGNNModel(training_config)\n",
    "data_module = DGLMoleculeDataModule(training_config)"
   ]
  },
  {
   "cell_type": "markdown",
   "id": "c8195a2b-2f27-462b-b607-c8327a780291",
   "metadata": {},
   "source": [
    "To properly fit the model, we use the [`Trainer`] class from PyTorch Lightning. This allows us to configure how data and progress are stored and reported using callbacks. The [`fit()`] method trains and validates against the data module we provide it: \n",
    "\n",
    "[`Trainer`]: https://pytorch-lightning.readthedocs.io/en/stable/common/trainer.html\n",
    "[`fit()`]: https://pytorch-lightning.readthedocs.io/en/stable/api/pytorch_lightning.trainer.trainer.Trainer.html#pytorch_lightning.trainer.trainer.Trainer.fit"
   ]
  },
  {
   "cell_type": "code",
   "execution_count": 14,
   "id": "afe8f0fe",
   "metadata": {
    "execution": {
     "iopub.execute_input": "2024-07-23T03:47:35.949383Z",
     "iopub.status.busy": "2024-07-23T03:47:35.948299Z",
     "iopub.status.idle": "2024-07-23T03:47:48.688904Z",
     "shell.execute_reply": "2024-07-23T03:47:48.687943Z"
    },
    "scrolled": true
   },
   "outputs": [
    {
     "name": "stderr",
     "output_type": "stream",
     "text": [
      "GPU available: False, used: False\n"
     ]
    },
    {
     "name": "stderr",
     "output_type": "stream",
     "text": [
      "TPU available: False, using: 0 TPU cores\n"
     ]
    },
    {
     "name": "stderr",
     "output_type": "stream",
     "text": [
      "HPU available: False, using: 0 HPUs\n"
     ]
    },
    {
     "name": "stderr",
     "output_type": "stream",
     "text": [
      "Missing logger folder: /home/runner/work/openff-docs/openff-docs/build/cookbook/src/openforcefield/openff-nagl/train-multi-objective-gnn/lightning_logs\n"
     ]
    },
    {
     "name": "stderr",
     "output_type": "stream",
     "text": [
      "\r",
      "Featurizing dataset: 0it [00:00, ?it/s]"
     ]
    },
    {
     "name": "stderr",
     "output_type": "stream",
     "text": [
      "\n"
     ]
    },
    {
     "name": "stderr",
     "output_type": "stream",
     "text": [
      "\r",
      "Featurizing batch:   0%|          | 0/10 [00:00<?, ?it/s]"
     ]
    },
    {
     "name": "stderr",
     "output_type": "stream",
     "text": [
      "\u001b[A"
     ]
    },
    {
     "name": "stderr",
     "output_type": "stream",
     "text": [
      "\n"
     ]
    },
    {
     "name": "stderr",
     "output_type": "stream",
     "text": [
      "\r",
      "Featurizing batch:  50%|█████     | 5/10 [00:00<00:00, 48.50it/s]"
     ]
    },
    {
     "name": "stderr",
     "output_type": "stream",
     "text": [
      "\u001b[A"
     ]
    },
    {
     "name": "stderr",
     "output_type": "stream",
     "text": [
      "\n"
     ]
    },
    {
     "name": "stderr",
     "output_type": "stream",
     "text": [
      "\r",
      "Featurizing batch: 100%|██████████| 10/10 [00:00<00:00, 49.20it/s]"
     ]
    },
    {
     "name": "stderr",
     "output_type": "stream",
     "text": [
      "\u001b[A"
     ]
    },
    {
     "name": "stderr",
     "output_type": "stream",
     "text": [
      "\r",
      "Featurizing batch: 100%|██████████| 10/10 [00:00<00:00, 48.62it/s]"
     ]
    },
    {
     "name": "stderr",
     "output_type": "stream",
     "text": [
      "\n",
      "\r",
      "Featurizing dataset: 1it [00:00,  3.80it/s]"
     ]
    },
    {
     "name": "stderr",
     "output_type": "stream",
     "text": [
      "\r",
      "Featurizing dataset: 1it [00:00,  3.79it/s]"
     ]
    },
    {
     "name": "stderr",
     "output_type": "stream",
     "text": [
      "\n"
     ]
    },
    {
     "name": "stderr",
     "output_type": "stream",
     "text": [
      "\r",
      "Featurizing dataset: 0it [00:00, ?it/s]"
     ]
    },
    {
     "name": "stderr",
     "output_type": "stream",
     "text": [
      "\n"
     ]
    },
    {
     "name": "stderr",
     "output_type": "stream",
     "text": [
      "\r",
      "Featurizing batch:   0%|          | 0/3 [00:00<?, ?it/s]"
     ]
    },
    {
     "name": "stderr",
     "output_type": "stream",
     "text": [
      "\u001b[A"
     ]
    },
    {
     "name": "stderr",
     "output_type": "stream",
     "text": [
      "\r",
      "Featurizing batch: 100%|██████████| 3/3 [00:00<00:00, 30.30it/s]"
     ]
    },
    {
     "name": "stderr",
     "output_type": "stream",
     "text": [
      "\n",
      "\r",
      "Featurizing dataset: 1it [00:00,  8.43it/s]"
     ]
    },
    {
     "name": "stderr",
     "output_type": "stream",
     "text": [
      "\r",
      "Featurizing dataset: 1it [00:00,  8.37it/s]"
     ]
    },
    {
     "name": "stderr",
     "output_type": "stream",
     "text": [
      "\n"
     ]
    },
    {
     "name": "stderr",
     "output_type": "stream",
     "text": [
      "\r",
      "Featurizing dataset: 0it [00:00, ?it/s]"
     ]
    },
    {
     "name": "stderr",
     "output_type": "stream",
     "text": [
      "\n"
     ]
    },
    {
     "name": "stderr",
     "output_type": "stream",
     "text": [
      "\r",
      "Featurizing batch:   0%|          | 0/3 [00:00<?, ?it/s]"
     ]
    },
    {
     "name": "stderr",
     "output_type": "stream",
     "text": [
      "\u001b[A"
     ]
    },
    {
     "name": "stderr",
     "output_type": "stream",
     "text": [
      "\n"
     ]
    },
    {
     "name": "stderr",
     "output_type": "stream",
     "text": [
      "\r",
      "Featurizing batch: 100%|██████████| 3/3 [00:00<00:00, 28.66it/s]"
     ]
    },
    {
     "name": "stderr",
     "output_type": "stream",
     "text": [
      "\u001b[A"
     ]
    },
    {
     "name": "stderr",
     "output_type": "stream",
     "text": [
      "\r",
      "Featurizing batch: 100%|██████████| 3/3 [00:00<00:00, 27.95it/s]"
     ]
    },
    {
     "name": "stderr",
     "output_type": "stream",
     "text": [
      "\n",
      "\r",
      "Featurizing dataset: 1it [00:00,  7.23it/s]"
     ]
    },
    {
     "name": "stderr",
     "output_type": "stream",
     "text": [
      "\r",
      "Featurizing dataset: 1it [00:00,  7.18it/s]"
     ]
    },
    {
     "name": "stderr",
     "output_type": "stream",
     "text": [
      "\n"
     ]
    },
    {
     "name": "stderr",
     "output_type": "stream",
     "text": [
      "2024-07-23 03:47:36.810789: I tensorflow/core/platform/cpu_feature_guard.cc:210] This TensorFlow binary is optimized to use available CPU instructions in performance-critical operations.\n",
      "To enable the following instructions: SSE4.1 SSE4.2 AVX AVX2 FMA, in other operations, rebuild TensorFlow with the appropriate compiler flags.\n"
     ]
    },
    {
     "name": "stderr",
     "output_type": "stream",
     "text": [
      "\r",
      "Featurizing dataset: 0it [00:00, ?it/s]"
     ]
    },
    {
     "name": "stderr",
     "output_type": "stream",
     "text": [
      "\n"
     ]
    },
    {
     "name": "stderr",
     "output_type": "stream",
     "text": [
      "\r",
      "Featurizing batch:   0%|          | 0/10 [00:00<?, ?it/s]"
     ]
    },
    {
     "name": "stderr",
     "output_type": "stream",
     "text": [
      "\u001b[A"
     ]
    },
    {
     "name": "stderr",
     "output_type": "stream",
     "text": [
      "\n"
     ]
    },
    {
     "name": "stderr",
     "output_type": "stream",
     "text": [
      "\r",
      "Featurizing batch:  60%|██████    | 6/10 [00:00<00:00, 48.74it/s]"
     ]
    },
    {
     "name": "stderr",
     "output_type": "stream",
     "text": [
      "\u001b[A"
     ]
    },
    {
     "name": "stderr",
     "output_type": "stream",
     "text": [
      "\r",
      "Featurizing batch: 100%|██████████| 10/10 [00:00<00:00, 40.70it/s]"
     ]
    },
    {
     "name": "stderr",
     "output_type": "stream",
     "text": [
      "\n",
      "\r",
      "Featurizing dataset: 1it [00:00,  3.41it/s]"
     ]
    },
    {
     "name": "stderr",
     "output_type": "stream",
     "text": [
      "\r",
      "Featurizing dataset: 1it [00:00,  3.40it/s]"
     ]
    },
    {
     "name": "stderr",
     "output_type": "stream",
     "text": [
      "\n"
     ]
    },
    {
     "name": "stderr",
     "output_type": "stream",
     "text": [
      "\r",
      "Featurizing dataset: 0it [00:00, ?it/s]"
     ]
    },
    {
     "name": "stderr",
     "output_type": "stream",
     "text": [
      "\n"
     ]
    },
    {
     "name": "stderr",
     "output_type": "stream",
     "text": [
      "\r",
      "Featurizing batch:   0%|          | 0/3 [00:00<?, ?it/s]"
     ]
    },
    {
     "name": "stderr",
     "output_type": "stream",
     "text": [
      "\u001b[A"
     ]
    },
    {
     "name": "stderr",
     "output_type": "stream",
     "text": [
      "\r",
      "Featurizing batch: 100%|██████████| 3/3 [00:00<00:00, 30.17it/s]"
     ]
    },
    {
     "name": "stderr",
     "output_type": "stream",
     "text": [
      "\n",
      "\r",
      "Featurizing dataset: 1it [00:00,  7.68it/s]"
     ]
    },
    {
     "name": "stderr",
     "output_type": "stream",
     "text": [
      "\r",
      "Featurizing dataset: 1it [00:00,  7.58it/s]"
     ]
    },
    {
     "name": "stderr",
     "output_type": "stream",
     "text": [
      "\n"
     ]
    },
    {
     "name": "stderr",
     "output_type": "stream",
     "text": [
      "\r",
      "Featurizing dataset: 0it [00:00, ?it/s]"
     ]
    },
    {
     "name": "stderr",
     "output_type": "stream",
     "text": [
      "\n"
     ]
    },
    {
     "name": "stderr",
     "output_type": "stream",
     "text": [
      "\r",
      "Featurizing batch:   0%|          | 0/3 [00:00<?, ?it/s]"
     ]
    },
    {
     "name": "stderr",
     "output_type": "stream",
     "text": [
      "\u001b[A"
     ]
    },
    {
     "name": "stderr",
     "output_type": "stream",
     "text": [
      "\r",
      "Featurizing batch: 100%|██████████| 3/3 [00:00<00:00, 32.44it/s]"
     ]
    },
    {
     "name": "stderr",
     "output_type": "stream",
     "text": [
      "\n",
      "\r",
      "Featurizing dataset: 1it [00:00,  8.41it/s]"
     ]
    },
    {
     "name": "stderr",
     "output_type": "stream",
     "text": [
      "\r",
      "Featurizing dataset: 1it [00:00,  8.35it/s]"
     ]
    },
    {
     "name": "stderr",
     "output_type": "stream",
     "text": [
      "\n",
      "\n",
      "  | Name  | Type     | Params | Mode \n",
      "-------------------------------------------\n",
      "0 | model | GNNModel | 203 K  | train\n",
      "-------------------------------------------\n",
      "203 K     Trainable params\n",
      "0         Non-trainable params\n",
      "203 K     Total params\n",
      "0.812     Total estimated model params size (MB)\n"
     ]
    },
    {
     "name": "stderr",
     "output_type": "stream",
     "text": [
      "/home/runner/micromamba/envs/openff-docs-examples/lib/python3.10/site-packages/pytorch_lightning/trainer/connectors/data_connector.py:424: The 'val_dataloader' does not have many workers which may be a bottleneck. Consider increasing the value of the `num_workers` argument` to `num_workers=3` in the `DataLoader` to improve performance.\n"
     ]
    },
    {
     "name": "stderr",
     "output_type": "stream",
     "text": [
      "/home/runner/micromamba/envs/openff-docs-examples/lib/python3.10/site-packages/pytorch_lightning/trainer/connectors/data_connector.py:424: The 'train_dataloader' does not have many workers which may be a bottleneck. Consider increasing the value of the `num_workers` argument` to `num_workers=3` in the `DataLoader` to improve performance.\n"
     ]
    },
    {
     "name": "stderr",
     "output_type": "stream",
     "text": [
      "/home/runner/micromamba/envs/openff-docs-examples/lib/python3.10/site-packages/pytorch_lightning/loops/fit_loop.py:298: The number of training batches (1) is smaller than the logging interval Trainer(log_every_n_steps=50). Set a lower value for log_every_n_steps if you want to see logs for the training epoch.\n"
     ]
    },
    {
     "name": "stderr",
     "output_type": "stream",
     "text": [
      "`Trainer.fit` stopped: `max_epochs=200` reached.\n"
     ]
    }
   ],
   "source": [
    "from pytorch_lightning import Trainer\n",
    "\n",
    "trainer = Trainer(max_epochs=200)\n",
    "\n",
    "trainer.progress_bar_callback.disable()\n",
    "trainer.checkpoint_callback.monitor = \"val/loss\"\n",
    "\n",
    "trainer.fit(\n",
    "    training_model,\n",
    "    datamodule=data_module\n",
    ")"
   ]
  },
  {
   "cell_type": "markdown",
   "id": "0fb4de68",
   "metadata": {},
   "source": [
    "## Results!"
   ]
  },
  {
   "cell_type": "markdown",
   "id": "d43eeb50",
   "metadata": {},
   "source": [
    "We can use the `Trainer` object's [`test()`] method to evaluate the model against our test data:\n",
    "\n",
    "[`test()`]: https://pytorch-lightning.readthedocs.io/en/stable/api/pytorch_lightning.trainer.trainer.Trainer.html#pytorch_lightning.trainer.trainer.Trainer.test"
   ]
  },
  {
   "cell_type": "code",
   "execution_count": 15,
   "id": "3ffade64",
   "metadata": {
    "execution": {
     "iopub.execute_input": "2024-07-23T03:47:48.692069Z",
     "iopub.status.busy": "2024-07-23T03:47:48.691814Z",
     "iopub.status.idle": "2024-07-23T03:47:49.824024Z",
     "shell.execute_reply": "2024-07-23T03:47:49.823466Z"
    }
   },
   "outputs": [
    {
     "name": "stderr",
     "output_type": "stream",
     "text": [
      "\r",
      "Featurizing dataset: 0it [00:00, ?it/s]"
     ]
    },
    {
     "name": "stderr",
     "output_type": "stream",
     "text": [
      "\n"
     ]
    },
    {
     "name": "stderr",
     "output_type": "stream",
     "text": [
      "\r",
      "Featurizing batch:   0%|          | 0/10 [00:00<?, ?it/s]"
     ]
    },
    {
     "name": "stderr",
     "output_type": "stream",
     "text": [
      "\u001b[A"
     ]
    },
    {
     "name": "stderr",
     "output_type": "stream",
     "text": [
      "\n"
     ]
    },
    {
     "name": "stderr",
     "output_type": "stream",
     "text": [
      "\r",
      "Featurizing batch:  50%|█████     | 5/10 [00:00<00:00, 48.28it/s]"
     ]
    },
    {
     "name": "stderr",
     "output_type": "stream",
     "text": [
      "\u001b[A"
     ]
    },
    {
     "name": "stderr",
     "output_type": "stream",
     "text": [
      "\n"
     ]
    },
    {
     "name": "stderr",
     "output_type": "stream",
     "text": [
      "\r",
      "Featurizing batch: 100%|██████████| 10/10 [00:00<00:00, 37.91it/s]"
     ]
    },
    {
     "name": "stderr",
     "output_type": "stream",
     "text": [
      "\u001b[A"
     ]
    },
    {
     "name": "stderr",
     "output_type": "stream",
     "text": [
      "\r",
      "Featurizing batch: 100%|██████████| 10/10 [00:00<00:00, 38.77it/s]"
     ]
    },
    {
     "name": "stderr",
     "output_type": "stream",
     "text": [
      "\n",
      "\r",
      "Featurizing dataset: 1it [00:00,  2.97it/s]"
     ]
    },
    {
     "name": "stderr",
     "output_type": "stream",
     "text": [
      "\r",
      "Featurizing dataset: 1it [00:00,  2.96it/s]"
     ]
    },
    {
     "name": "stderr",
     "output_type": "stream",
     "text": [
      "\n"
     ]
    },
    {
     "name": "stderr",
     "output_type": "stream",
     "text": [
      "\r",
      "Featurizing dataset: 0it [00:00, ?it/s]"
     ]
    },
    {
     "name": "stderr",
     "output_type": "stream",
     "text": [
      "\n"
     ]
    },
    {
     "name": "stderr",
     "output_type": "stream",
     "text": [
      "\r",
      "Featurizing batch:   0%|          | 0/3 [00:00<?, ?it/s]"
     ]
    },
    {
     "name": "stderr",
     "output_type": "stream",
     "text": [
      "\u001b[A"
     ]
    },
    {
     "name": "stderr",
     "output_type": "stream",
     "text": [
      "\r",
      "Featurizing batch: 100%|██████████| 3/3 [00:00<00:00, 32.43it/s]"
     ]
    },
    {
     "name": "stderr",
     "output_type": "stream",
     "text": [
      "\n",
      "\r",
      "Featurizing dataset: 1it [00:00,  8.35it/s]"
     ]
    },
    {
     "name": "stderr",
     "output_type": "stream",
     "text": [
      "\r",
      "Featurizing dataset: 1it [00:00,  8.28it/s]"
     ]
    },
    {
     "name": "stderr",
     "output_type": "stream",
     "text": [
      "\n"
     ]
    },
    {
     "name": "stderr",
     "output_type": "stream",
     "text": [
      "\r",
      "Featurizing dataset: 0it [00:00, ?it/s]"
     ]
    },
    {
     "name": "stderr",
     "output_type": "stream",
     "text": [
      "\n"
     ]
    },
    {
     "name": "stderr",
     "output_type": "stream",
     "text": [
      "\r",
      "Featurizing batch:   0%|          | 0/3 [00:00<?, ?it/s]"
     ]
    },
    {
     "name": "stderr",
     "output_type": "stream",
     "text": [
      "\u001b[A"
     ]
    },
    {
     "name": "stderr",
     "output_type": "stream",
     "text": [
      "\r",
      "Featurizing batch: 100%|██████████| 3/3 [00:00<00:00, 36.93it/s]"
     ]
    },
    {
     "name": "stderr",
     "output_type": "stream",
     "text": [
      "\n",
      "\r",
      "Featurizing dataset: 1it [00:00,  9.64it/s]"
     ]
    },
    {
     "name": "stderr",
     "output_type": "stream",
     "text": [
      "\r",
      "Featurizing dataset: 1it [00:00,  9.46it/s]"
     ]
    },
    {
     "name": "stderr",
     "output_type": "stream",
     "text": [
      "\n"
     ]
    },
    {
     "name": "stderr",
     "output_type": "stream",
     "text": [
      "\r",
      "Featurizing dataset: 0it [00:00, ?it/s]"
     ]
    },
    {
     "name": "stderr",
     "output_type": "stream",
     "text": [
      "\n"
     ]
    },
    {
     "name": "stderr",
     "output_type": "stream",
     "text": [
      "\r",
      "Featurizing batch:   0%|          | 0/10 [00:00<?, ?it/s]"
     ]
    },
    {
     "name": "stderr",
     "output_type": "stream",
     "text": [
      "\u001b[A"
     ]
    },
    {
     "name": "stderr",
     "output_type": "stream",
     "text": [
      "\n"
     ]
    },
    {
     "name": "stderr",
     "output_type": "stream",
     "text": [
      "\r",
      "Featurizing batch:  60%|██████    | 6/10 [00:00<00:00, 59.24it/s]"
     ]
    },
    {
     "name": "stderr",
     "output_type": "stream",
     "text": [
      "\u001b[A"
     ]
    },
    {
     "name": "stderr",
     "output_type": "stream",
     "text": [
      "\r",
      "Featurizing batch: 100%|██████████| 10/10 [00:00<00:00, 46.17it/s]"
     ]
    },
    {
     "name": "stderr",
     "output_type": "stream",
     "text": [
      "\n",
      "\r",
      "Featurizing dataset: 1it [00:00,  3.92it/s]"
     ]
    },
    {
     "name": "stderr",
     "output_type": "stream",
     "text": [
      "\r",
      "Featurizing dataset: 1it [00:00,  3.91it/s]"
     ]
    },
    {
     "name": "stderr",
     "output_type": "stream",
     "text": [
      "\n"
     ]
    },
    {
     "name": "stderr",
     "output_type": "stream",
     "text": [
      "\r",
      "Featurizing dataset: 0it [00:00, ?it/s]"
     ]
    },
    {
     "name": "stderr",
     "output_type": "stream",
     "text": [
      "\n"
     ]
    },
    {
     "name": "stderr",
     "output_type": "stream",
     "text": [
      "\r",
      "Featurizing batch:   0%|          | 0/3 [00:00<?, ?it/s]"
     ]
    },
    {
     "name": "stderr",
     "output_type": "stream",
     "text": [
      "\u001b[A"
     ]
    },
    {
     "name": "stderr",
     "output_type": "stream",
     "text": [
      "\r",
      "Featurizing batch: 100%|██████████| 3/3 [00:00<00:00, 34.18it/s]"
     ]
    },
    {
     "name": "stderr",
     "output_type": "stream",
     "text": [
      "\n",
      "\r",
      "Featurizing dataset: 1it [00:00,  8.60it/s]"
     ]
    },
    {
     "name": "stderr",
     "output_type": "stream",
     "text": [
      "\r",
      "Featurizing dataset: 1it [00:00,  8.48it/s]"
     ]
    },
    {
     "name": "stderr",
     "output_type": "stream",
     "text": [
      "\n"
     ]
    },
    {
     "name": "stderr",
     "output_type": "stream",
     "text": [
      "\r",
      "Featurizing dataset: 0it [00:00, ?it/s]"
     ]
    },
    {
     "name": "stderr",
     "output_type": "stream",
     "text": [
      "\n"
     ]
    },
    {
     "name": "stderr",
     "output_type": "stream",
     "text": [
      "\r",
      "Featurizing batch:   0%|          | 0/3 [00:00<?, ?it/s]"
     ]
    },
    {
     "name": "stderr",
     "output_type": "stream",
     "text": [
      "\u001b[A"
     ]
    },
    {
     "name": "stderr",
     "output_type": "stream",
     "text": [
      "\r",
      "Featurizing batch: 100%|██████████| 3/3 [00:00<00:00, 33.98it/s]"
     ]
    },
    {
     "name": "stderr",
     "output_type": "stream",
     "text": [
      "\n",
      "\r",
      "Featurizing dataset: 1it [00:00,  8.42it/s]"
     ]
    },
    {
     "name": "stderr",
     "output_type": "stream",
     "text": [
      "\r",
      "Featurizing dataset: 1it [00:00,  8.30it/s]"
     ]
    },
    {
     "name": "stderr",
     "output_type": "stream",
     "text": [
      "\n",
      "/home/runner/micromamba/envs/openff-docs-examples/lib/python3.10/site-packages/pytorch_lightning/trainer/connectors/data_connector.py:424: The 'test_dataloader' does not have many workers which may be a bottleneck. Consider increasing the value of the `num_workers` argument` to `num_workers=3` in the `DataLoader` to improve performance.\n"
     ]
    },
    {
     "data": {
      "text/html": [
       "<pre style=\"white-space:pre;overflow-x:auto;line-height:normal;font-family:Menlo,'DejaVu Sans Mono',consolas,'Courier New',monospace\">┏━━━━━━━━━━━━━━━━━━━━━━━━━━━━━━━━━━━━━━━━━━━━━━━━━━━━━━━━┳━━━━━━━━━━━━━━━━━━━━━━━━━━━━━━━━━━━━━━━━━━━━━━━━━━━━━━━━┓\n",
       "┃<span style=\"font-weight: bold\">                      Test metric                       </span>┃<span style=\"font-weight: bold\">                      DataLoader 0                      </span>┃\n",
       "┡━━━━━━━━━━━━━━━━━━━━━━━━━━━━━━━━━━━━━━━━━━━━━━━━━━━━━━━━╇━━━━━━━━━━━━━━━━━━━━━━━━━━━━━━━━━━━━━━━━━━━━━━━━━━━━━━━━┩\n",
       "│<span style=\"color: #008080; text-decoration-color: #008080\">         test/esps/multiple_esps/rmse/1.0/0.001         </span>│<span style=\"color: #800080; text-decoration-color: #800080\">                  0.06906867027282715                   </span>│\n",
       "│<span style=\"color: #008080; text-decoration-color: #008080\">                       test/loss                        </span>│<span style=\"color: #800080; text-decoration-color: #800080\">                   2.535820722579956                    </span>│\n",
       "│<span style=\"color: #008080; text-decoration-color: #008080\">      test/target-am1-charges/readout/rmse/1.0/1.0      </span>│<span style=\"color: #800080; text-decoration-color: #800080\">                  0.004047995433211327                  </span>│\n",
       "│<span style=\"color: #008080; text-decoration-color: #008080\">   test/target-am1bcc-charges/readout/rmse/1.0/0.001    </span>│<span style=\"color: #800080; text-decoration-color: #800080\">                   2.309880256652832                    </span>│\n",
       "│<span style=\"color: #008080; text-decoration-color: #008080\"> test/target-am1bcc-dipoles/multiple_dipoles/rmse/1.0/… </span>│<span style=\"color: #800080; text-decoration-color: #800080\">                  0.15282373130321503                   </span>│\n",
       "└────────────────────────────────────────────────────────┴────────────────────────────────────────────────────────┘\n",
       "</pre>\n"
      ],
      "text/plain": [
       "┏━━━━━━━━━━━━━━━━━━━━━━━━━━━━━━━━━━━━━━━━━━━━━━━━━━━━━━━━┳━━━━━━━━━━━━━━━━━━━━━━━━━━━━━━━━━━━━━━━━━━━━━━━━━━━━━━━━┓\n",
       "┃\u001b[1m \u001b[0m\u001b[1m                     Test metric                      \u001b[0m\u001b[1m \u001b[0m┃\u001b[1m \u001b[0m\u001b[1m                     DataLoader 0                     \u001b[0m\u001b[1m \u001b[0m┃\n",
       "┡━━━━━━━━━━━━━━━━━━━━━━━━━━━━━━━━━━━━━━━━━━━━━━━━━━━━━━━━╇━━━━━━━━━━━━━━━━━━━━━━━━━━━━━━━━━━━━━━━━━━━━━━━━━━━━━━━━┩\n",
       "│\u001b[36m \u001b[0m\u001b[36m        test/esps/multiple_esps/rmse/1.0/0.001        \u001b[0m\u001b[36m \u001b[0m│\u001b[35m \u001b[0m\u001b[35m                 0.06906867027282715                  \u001b[0m\u001b[35m \u001b[0m│\n",
       "│\u001b[36m \u001b[0m\u001b[36m                      test/loss                       \u001b[0m\u001b[36m \u001b[0m│\u001b[35m \u001b[0m\u001b[35m                  2.535820722579956                   \u001b[0m\u001b[35m \u001b[0m│\n",
       "│\u001b[36m \u001b[0m\u001b[36m     test/target-am1-charges/readout/rmse/1.0/1.0     \u001b[0m\u001b[36m \u001b[0m│\u001b[35m \u001b[0m\u001b[35m                 0.004047995433211327                 \u001b[0m\u001b[35m \u001b[0m│\n",
       "│\u001b[36m \u001b[0m\u001b[36m  test/target-am1bcc-charges/readout/rmse/1.0/0.001   \u001b[0m\u001b[36m \u001b[0m│\u001b[35m \u001b[0m\u001b[35m                  2.309880256652832                   \u001b[0m\u001b[35m \u001b[0m│\n",
       "│\u001b[36m \u001b[0m\u001b[36mtest/target-am1bcc-dipoles/multiple_dipoles/rmse/1.0/…\u001b[0m\u001b[36m \u001b[0m│\u001b[35m \u001b[0m\u001b[35m                 0.15282373130321503                  \u001b[0m\u001b[35m \u001b[0m│\n",
       "└────────────────────────────────────────────────────────┴────────────────────────────────────────────────────────┘\n"
      ]
     },
     "metadata": {},
     "output_type": "display_data"
    },
    {
     "data": {
      "text/plain": [
       "[{'test/target-am1-charges/readout/rmse/1.0/1.0': 0.004047995433211327,\n",
       "  'test/target-am1bcc-charges/readout/rmse/1.0/0.001': 2.309880256652832,\n",
       "  'test/target-am1bcc-dipoles/multiple_dipoles/rmse/1.0/0.01': 0.15282373130321503,\n",
       "  'test/esps/multiple_esps/rmse/1.0/0.001': 0.06906867027282715,\n",
       "  'test/loss': 2.535820722579956}]"
      ]
     },
     "execution_count": 15,
     "metadata": {},
     "output_type": "execute_result"
    }
   ],
   "source": [
    "trainer.test(training_model, data_module)"
   ]
  },
  {
   "cell_type": "markdown",
   "id": "2cae1cc7-8f9b-421d-9343-b03f806425ba",
   "metadata": {},
   "source": [
    "We can isolate the model itself from all the training requirements:"
   ]
  },
  {
   "cell_type": "code",
   "execution_count": 16,
   "id": "ffaaec52-8a1d-4157-b728-b6373bcde57c",
   "metadata": {
    "execution": {
     "iopub.execute_input": "2024-07-23T03:47:49.827196Z",
     "iopub.status.busy": "2024-07-23T03:47:49.826818Z",
     "iopub.status.idle": "2024-07-23T03:47:49.831333Z",
     "shell.execute_reply": "2024-07-23T03:47:49.830657Z"
    }
   },
   "outputs": [],
   "source": [
    "model = training_model.model"
   ]
  },
  {
   "cell_type": "markdown",
   "id": "f7bc2260",
   "metadata": {},
   "source": [
    "Octane isn't in any of our data, so the model hasn't seen it yet! We can predict its partial charges with the [`compute_property()`] method:\n",
    "\n",
    "[`compute_property()`]: https://docs.openforcefield.org/projects/nagl/en/stable/api/generated/openff.nagl.GNNModel.html#openff.nagl.GNNModel.compute_property"
   ]
  },
  {
   "cell_type": "code",
   "execution_count": 17,
   "id": "87609fdd",
   "metadata": {
    "execution": {
     "iopub.execute_input": "2024-07-23T03:47:49.834066Z",
     "iopub.status.busy": "2024-07-23T03:47:49.833818Z",
     "iopub.status.idle": "2024-07-23T03:47:49.912243Z",
     "shell.execute_reply": "2024-07-23T03:47:49.911636Z"
    }
   },
   "outputs": [],
   "source": [
    "octane = Molecule.from_smiles(\"CCCCCCCC\")\n",
    "\n",
    "am1bcc_charges = model.compute_property(octane, readout_name=\"predicted-am1bcc-charges\")"
   ]
  },
  {
   "cell_type": "markdown",
   "id": "e5831c8e",
   "metadata": {},
   "source": [
    "And we can compare that to the AM1BCC partial charges produced by the OpenFF Toolkit:"
   ]
  },
  {
   "cell_type": "code",
   "execution_count": 18,
   "id": "08e12208",
   "metadata": {
    "execution": {
     "iopub.execute_input": "2024-07-23T03:47:49.916450Z",
     "iopub.status.busy": "2024-07-23T03:47:49.915517Z",
     "iopub.status.idle": "2024-07-23T03:47:52.990535Z",
     "shell.execute_reply": "2024-07-23T03:47:52.989926Z"
    }
   },
   "outputs": [
    {
     "data": {
      "text/html": [
       "<table><tbody><tr><th>Magnitude</th><td style='text-align:left;'><pre>[-0.09306153846153846 -0.07936153846153846 -0.07836153846153845<br> -0.07836153846153845 -0.07836153846153845 -0.07836153846153845<br> -0.07936153846153846 -0.09306153846153846 0.03223846153846154<br> 0.03223846153846154 0.03223846153846154 0.03798846153846154<br> 0.03798846153846154 0.03848846153846154 0.03848846153846154<br> 0.03973846153846154 0.03973846153846154 0.03973846153846154<br> 0.03973846153846154 0.03848846153846154 0.03848846153846154<br> 0.03798846153846154 0.03798846153846154 0.03223846153846154<br> 0.03223846153846154 0.03223846153846154]</pre></td></tr><tr><th>Units</th><td style='text-align:left;'>elementary_charge</td></tr></tbody></table>"
      ],
      "text/latex": [
       "$\\begin{pmatrix} &  &  &  &  &  &  &  &  &  &  &  &  &  &  &  &  &  &  &  &  &  &  &  &  & \\end{pmatrix}\\ \\mathrm{elementary\\_charge}$"
      ],
      "text/plain": [
       "array([-0.09306154, -0.07936154, -0.07836154, -0.07836154, -0.07836154,\n",
       "       -0.07836154, -0.07936154, -0.09306154,  0.03223846,  0.03223846,\n",
       "        0.03223846,  0.03798846,  0.03798846,  0.03848846,  0.03848846,\n",
       "        0.03973846,  0.03973846,  0.03973846,  0.03973846,  0.03848846,\n",
       "        0.03848846,  0.03798846,  0.03798846,  0.03223846,  0.03223846,\n",
       "        0.03223846]) <Unit('elementary_charge')>"
      ]
     },
     "execution_count": 18,
     "metadata": {},
     "output_type": "execute_result"
    }
   ],
   "source": [
    "octane.assign_partial_charges(\"am1bcc\")\n",
    "octane.partial_charges"
   ]
  },
  {
   "cell_type": "code",
   "execution_count": 19,
   "id": "c1ef45d7",
   "metadata": {
    "execution": {
     "iopub.execute_input": "2024-07-23T03:47:52.993802Z",
     "iopub.status.busy": "2024-07-23T03:47:52.993549Z",
     "iopub.status.idle": "2024-07-23T03:47:53.003873Z",
     "shell.execute_reply": "2024-07-23T03:47:53.003355Z"
    }
   },
   "outputs": [
    {
     "data": {
      "text/html": [
       "<table><tbody><tr><th>Magnitude</th><td style='text-align:left;'><pre>[0.004696594599577095 0.002135376504751346 0.002422926238866946<br> 0.0026800308741055934 0.0026800308741055934 0.002422926238866946<br> 0.002135376504751346 0.004696594599577095 0.0008413572751558782<br> 0.0008413572751558782 0.0008413572751558782 0.001324273630288933<br> 0.001324273630288933 0.0010655661069429861 0.0010655661069429861<br> 0.0023155661069429873 0.0023155661069429873 0.0023155661069429873<br> 0.0023155661069429873 0.0010655661069429861 0.0010655661069429861<br> 0.001324273630288933 0.001324273630288933 0.0008413572751558782<br> 0.0008413572751558782 0.0008413572751558782]</pre></td></tr><tr><th>Units</th><td style='text-align:left;'>elementary_charge</td></tr></tbody></table>"
      ],
      "text/latex": [
       "$\\begin{pmatrix} &  &  &  &  &  &  &  &  &  &  &  &  &  &  &  &  &  &  &  &  &  &  &  &  & \\end{pmatrix}\\ \\mathrm{elementary\\_charge}$"
      ],
      "text/plain": [
       "array([0.00469659, 0.00213538, 0.00242293, 0.00268003, 0.00268003,\n",
       "       0.00242293, 0.00213538, 0.00469659, 0.00084136, 0.00084136,\n",
       "       0.00084136, 0.00132427, 0.00132427, 0.00106557, 0.00106557,\n",
       "       0.00231557, 0.00231557, 0.00231557, 0.00231557, 0.00106557,\n",
       "       0.00106557, 0.00132427, 0.00132427, 0.00084136, 0.00084136,\n",
       "       0.00084136]) <Unit('elementary_charge')>"
      ]
     },
     "execution_count": 19,
     "metadata": {},
     "output_type": "execute_result"
    }
   ],
   "source": [
    "prediction = am1bcc_charges * unit.elementary_charge\n",
    "np.abs(prediction - octane.partial_charges)"
   ]
  },
  {
   "cell_type": "markdown",
   "id": "d1a81b2f",
   "metadata": {},
   "source": [
    "All within 0.002 elementary charge units of true AM1BCC charges! Not too bad!"
   ]
  },
  {
   "cell_type": "markdown",
   "id": "6e8445af-3803-455e-a982-d8c7702ceb53",
   "metadata": {},
   "source": [
    "Similarly, looking at AM1 charges:"
   ]
  },
  {
   "cell_type": "code",
   "execution_count": 20,
   "id": "4c21c45d-c88e-4b03-8c96-9c80071f637f",
   "metadata": {
    "execution": {
     "iopub.execute_input": "2024-07-23T03:47:53.006441Z",
     "iopub.status.busy": "2024-07-23T03:47:53.006072Z",
     "iopub.status.idle": "2024-07-23T03:47:53.043420Z",
     "shell.execute_reply": "2024-07-23T03:47:53.042805Z"
    }
   },
   "outputs": [
    {
     "data": {
      "text/plain": [
       "array([-0.2030851 , -0.15269575, -0.15133709, -0.15053785, -0.15053785,\n",
       "       -0.15133709, -0.15269575, -0.2030851 ,  0.06876528,  0.06876528,\n",
       "        0.06876528,  0.07388288,  0.07388288,  0.07589844,  0.07589844,\n",
       "        0.07589844,  0.07589844,  0.07589844,  0.07589844,  0.07589844,\n",
       "        0.07589844,  0.07388288,  0.07388288,  0.06876528,  0.06876528,\n",
       "        0.06876528], dtype=float32)"
      ]
     },
     "execution_count": 20,
     "metadata": {},
     "output_type": "execute_result"
    }
   ],
   "source": [
    "am1_charges = model.compute_property(octane, readout_name=\"predicted-am1-charges\")\n",
    "am1_charges"
   ]
  },
  {
   "cell_type": "code",
   "execution_count": 21,
   "id": "f298428e-3558-4683-8ac4-45974f0d726a",
   "metadata": {
    "execution": {
     "iopub.execute_input": "2024-07-23T03:47:53.047158Z",
     "iopub.status.busy": "2024-07-23T03:47:53.046747Z",
     "iopub.status.idle": "2024-07-23T03:47:56.446352Z",
     "shell.execute_reply": "2024-07-23T03:47:56.445549Z"
    }
   },
   "outputs": [
    {
     "data": {
      "text/html": [
       "<table><tbody><tr><th>Magnitude</th><td style='text-align:left;'><pre>[-0.21096153846153842 -0.15896153846153843 -0.15696153846153843<br> -0.15796153846153843 -0.15596153846153843 -0.15696153846153843<br> -0.15696153846153843 -0.21096153846153842 0.07103846153846155<br> 0.07103846153846155 0.07103846153846155 0.07903846153846156<br> 0.07803846153846156 0.07903846153846156 0.07703846153846156<br> 0.07903846153846156 0.08003846153846156 0.08103846153846156<br> 0.07603846153846155 0.08003846153846156 0.07503846153846155<br> 0.07703846153846156 0.07503846153846155 0.07403846153846155<br> 0.07003846153846156 0.07203846153846155]</pre></td></tr><tr><th>Units</th><td style='text-align:left;'>elementary_charge</td></tr></tbody></table>"
      ],
      "text/latex": [
       "$\\begin{pmatrix} &  &  &  &  &  &  &  &  &  &  &  &  &  &  &  &  &  &  &  &  &  &  &  &  & \\end{pmatrix}\\ \\mathrm{elementary\\_charge}$"
      ],
      "text/plain": [
       "array([-0.21096154, -0.15896154, -0.15696154, -0.15796154, -0.15596154,\n",
       "       -0.15696154, -0.15696154, -0.21096154,  0.07103846,  0.07103846,\n",
       "        0.07103846,  0.07903846,  0.07803846,  0.07903846,  0.07703846,\n",
       "        0.07903846,  0.08003846,  0.08103846,  0.07603846,  0.08003846,\n",
       "        0.07503846,  0.07703846,  0.07503846,  0.07403846,  0.07003846,\n",
       "        0.07203846]) <Unit('elementary_charge')>"
      ]
     },
     "execution_count": 21,
     "metadata": {},
     "output_type": "execute_result"
    }
   ],
   "source": [
    "octane.assign_partial_charges(\"am1-mulliken\")\n",
    "octane.partial_charges"
   ]
  },
  {
   "cell_type": "code",
   "execution_count": 22,
   "id": "27d2bf7b-dd40-457e-b786-834dc3f6e8a8",
   "metadata": {
    "execution": {
     "iopub.execute_input": "2024-07-23T03:47:56.449247Z",
     "iopub.status.busy": "2024-07-23T03:47:56.448749Z",
     "iopub.status.idle": "2024-07-23T03:47:56.459717Z",
     "shell.execute_reply": "2024-07-23T03:47:56.458915Z"
    }
   },
   "outputs": [
    {
     "data": {
      "text/html": [
       "<table><tbody><tr><th>Magnitude</th><td style='text-align:left;'><pre>[0.007876443771215547 0.006265793231817363 0.005624451307150002<br> 0.007423689988943216 0.005423689988943214 0.005624451307150002<br> 0.004265793231817361 0.007876443771215547 0.00227317890754114<br> 0.00227317890754114 0.00227317890754114 0.005155583711770884<br> 0.004155583711770883 0.003140022846368662 0.0011400228463686601<br> 0.003140022846368662 0.004140022846368663 0.005140022846368664<br> 0.00014002284636865925 0.004140022846368663 0.0008599771536313416<br> 0.003155583711770882 0.00115558371177088 0.005273178907541143<br> 0.0012731789075411531 0.003273178907541141]</pre></td></tr><tr><th>Units</th><td style='text-align:left;'>elementary_charge</td></tr></tbody></table>"
      ],
      "text/latex": [
       "$\\begin{pmatrix} &  &  &  &  &  &  &  &  &  &  &  &  &  &  &  &  &  &  &  &  &  &  &  &  & \\end{pmatrix}\\ \\mathrm{elementary\\_charge}$"
      ],
      "text/plain": [
       "array([0.00787644, 0.00626579, 0.00562445, 0.00742369, 0.00542369,\n",
       "       0.00562445, 0.00426579, 0.00787644, 0.00227318, 0.00227318,\n",
       "       0.00227318, 0.00515558, 0.00415558, 0.00314002, 0.00114002,\n",
       "       0.00314002, 0.00414002, 0.00514002, 0.00014002, 0.00414002,\n",
       "       0.00085998, 0.00315558, 0.00115558, 0.00527318, 0.00127318,\n",
       "       0.00327318]) <Unit('elementary_charge')>"
      ]
     },
     "execution_count": 22,
     "metadata": {},
     "output_type": "execute_result"
    }
   ],
   "source": [
    "am1_prediction = am1_charges * unit.elementary_charge\n",
    "np.abs(am1_prediction - octane.partial_charges)"
   ]
  },
  {
   "cell_type": "markdown",
   "id": "41188824-a304-4323-9080-7ba4890845d1",
   "metadata": {},
   "source": [
    "This is slightly less accurate (to within 0.02 elementary charge), possibly because AM1 charges were only fit to the charges directly, with none of the physical properties."
   ]
  },
  {
   "cell_type": "markdown",
   "id": "3f055919",
   "metadata": {},
   "source": [
    "## Saving and loading our model"
   ]
  },
  {
   "cell_type": "markdown",
   "id": "777c6140",
   "metadata": {},
   "source": [
    "We can save the final model with the `model.save()` method. This'll let us store it for later."
   ]
  },
  {
   "cell_type": "code",
   "execution_count": 23,
   "id": "7020a42c",
   "metadata": {
    "execution": {
     "iopub.execute_input": "2024-07-23T03:47:56.462405Z",
     "iopub.status.busy": "2024-07-23T03:47:56.461941Z",
     "iopub.status.idle": "2024-07-23T03:47:56.467947Z",
     "shell.execute_reply": "2024-07-23T03:47:56.467361Z"
    }
   },
   "outputs": [],
   "source": [
    "model.save(\"trained_alkane_model.pt\")"
   ]
  },
  {
   "cell_type": "markdown",
   "id": "6e7dec08",
   "metadata": {},
   "source": [
    "When we want it again, we can use the `GNNModel.load()` method:"
   ]
  },
  {
   "cell_type": "code",
   "execution_count": 24,
   "id": "6beb2faa",
   "metadata": {
    "execution": {
     "iopub.execute_input": "2024-07-23T03:47:56.470255Z",
     "iopub.status.busy": "2024-07-23T03:47:56.470070Z",
     "iopub.status.idle": "2024-07-23T03:47:56.522574Z",
     "shell.execute_reply": "2024-07-23T03:47:56.521947Z"
    }
   },
   "outputs": [
    {
     "data": {
      "text/plain": [
       "array([-0.08836494, -0.07722616, -0.07593861, -0.07568151, -0.07568151,\n",
       "       -0.07593861, -0.07722616, -0.08836494,  0.0313971 ,  0.0313971 ,\n",
       "        0.0313971 ,  0.03666419,  0.03666419,  0.0374229 ,  0.0374229 ,\n",
       "        0.0374229 ,  0.0374229 ,  0.0374229 ,  0.0374229 ,  0.0374229 ,\n",
       "        0.0374229 ,  0.03666419,  0.03666419,  0.0313971 ,  0.0313971 ,\n",
       "        0.0313971 ], dtype=float32)"
      ]
     },
     "execution_count": 24,
     "metadata": {},
     "output_type": "execute_result"
    }
   ],
   "source": [
    "model_from_disk = GNNModel.load(\"trained_alkane_model.pt\")\n",
    "model_from_disk.compute_property(octane, readout_name=\"predicted-am1bcc-charges\")"
   ]
  },
  {
   "cell_type": "code",
   "execution_count": null,
   "id": "24399a7f",
   "metadata": {},
   "outputs": [],
   "source": []
  }
 ],
 "metadata": {
  "cookbook_cache_branch": "_cookbook_data_PR14",
  "kernelspec": {
   "display_name": "Python 3 (ipykernel)",
   "language": "python",
   "name": "python3"
  },
  "language_info": {
   "codemirror_mode": {
    "name": "ipython",
    "version": 3
   },
   "file_extension": ".py",
   "mimetype": "text/x-python",
   "name": "python",
   "nbconvert_exporter": "python",
   "pygments_lexer": "ipython3",
   "version": "3.10.14"
  },
  "src_repo_tag": "v0.4.0"
 },
 "nbformat": 4,
 "nbformat_minor": 5
}
