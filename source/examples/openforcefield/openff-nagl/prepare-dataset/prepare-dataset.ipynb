{
 "cells": [
  {
   "cell_type": "markdown",
   "id": "39925afd-2d45-4e2d-b36d-269df8f6c7f0",
   "metadata": {},
   "source": [
    "# Prepare a NAGL dataset for training"
   ]
  },
  {
   "cell_type": "markdown",
   "id": "ab93793c",
   "metadata": {
    "tags": []
   },
   "source": [
    "Training a GCN requires a collection of examples that the GCN should reproduce and interpolate between. This notebook describes how to prepare such a dataset for predicting partial charges."
   ]
  },
  {
   "cell_type": "markdown",
   "id": "9488da95",
   "metadata": {},
   "source": [
    "## Imports"
   ]
  },
  {
   "cell_type": "code",
   "execution_count": 1,
   "id": "f5f27dae",
   "metadata": {
    "execution": {
     "iopub.execute_input": "2024-07-23T03:46:26.150528Z",
     "iopub.status.busy": "2024-07-23T03:46:26.150290Z",
     "iopub.status.idle": "2024-07-23T03:46:31.764858Z",
     "shell.execute_reply": "2024-07-23T03:46:31.764213Z"
    }
   },
   "outputs": [],
   "source": [
    "from pathlib import Path\n",
    "\n",
    "from tqdm import tqdm\n",
    "\n",
    "from openff.toolkit.topology import Molecule\n",
    "\n",
    "from openff.nagl.label.dataset import LabelledDataset\n",
    "from openff.nagl.label.labels import LabelCharges"
   ]
  },
  {
   "cell_type": "markdown",
   "id": "84aca730",
   "metadata": {},
   "source": [
    "## Choosing our molecules"
   ]
  },
  {
   "cell_type": "markdown",
   "id": "45833757",
   "metadata": {},
   "source": [
    "The simplest way to specify the molecules in our dataset is with SMILES, though [anything you can load](https://docs.openforcefield.org/projects/toolkit/en/stable/users/molecule_cookbook.html) into an OpenFF [`Molecule`] is fair game. For instance, with the [`Molecule.from_file()`] method you could load partial charges from SDF files. But for this example, we'll have NAGL generate our charges, so we can just provide the SMILES themselves:\n",
    "\n",
    "[`Molecule`]: https://docs.openforcefield.org/projects/toolkit/en/stable/api/generated/openff.toolkit.topology.Molecule.html\n",
    "[`Molecule.from_file()`]: https://docs.openforcefield.org/projects/toolkit/en/stable/api/generated/openff.toolkit.topology.Molecule.html#openff.toolkit.topology.Molecule.from_file"
   ]
  },
  {
   "cell_type": "code",
   "execution_count": 2,
   "id": "aecc3e2d",
   "metadata": {
    "execution": {
     "iopub.execute_input": "2024-07-23T03:46:31.769327Z",
     "iopub.status.busy": "2024-07-23T03:46:31.767935Z",
     "iopub.status.idle": "2024-07-23T03:46:31.777877Z",
     "shell.execute_reply": "2024-07-23T03:46:31.777276Z"
    }
   },
   "outputs": [
    {
     "data": {
      "text/plain": [
       "['C',\n",
       " 'CC',\n",
       " 'CCC',\n",
       " 'CCCC',\n",
       " 'CC(C)C',\n",
       " 'CCCCC',\n",
       " 'CC(C)CC',\n",
       " 'CCCCCC',\n",
       " 'CC(C)CCC',\n",
       " 'CC(CC)CC']"
      ]
     },
     "execution_count": 2,
     "metadata": {},
     "output_type": "execute_result"
    }
   ],
   "source": [
    "alkanes_smiles = Path(\"alkanes.smi\").read_text().splitlines()\n",
    "alkanes_smiles"
   ]
  },
  {
   "cell_type": "markdown",
   "id": "09ffb131-7982-4b40-88ff-8f456b33cf65",
   "metadata": {},
   "source": [
    "## Generating a LabelledDataset\n",
    "\n",
    "A LabelledDataset is a wrapper over an [Apache Arrow Dataset](https://arrow.apache.org/docs/python/api/dataset.html) to make it easy to generate data. When we train GNN models, the data is read directly as an Arrow dataset, so there is no need to use a `LabelledDataset` to generate your data other than convenience. Here we demonstrate the conveniences of a `LabelledDataset`."
   ]
  },
  {
   "cell_type": "code",
   "execution_count": 3,
   "id": "a09b3046-3bbf-4cb7-8962-4cd57db5608e",
   "metadata": {
    "execution": {
     "iopub.execute_input": "2024-07-23T03:46:31.782103Z",
     "iopub.status.busy": "2024-07-23T03:46:31.781045Z",
     "iopub.status.idle": "2024-07-23T03:46:32.398401Z",
     "shell.execute_reply": "2024-07-23T03:46:32.397804Z"
    }
   },
   "outputs": [
    {
     "name": "stderr",
     "output_type": "stream",
     "text": [
      "/home/runner/micromamba/envs/openff-docs-examples/lib/python3.10/site-packages/pandas/core/computation/expressions.py:21: UserWarning: Pandas requires version '2.8.4' or newer of 'numexpr' (version '2.7.3' currently installed).\n",
      "  from pandas.core.computation.check import NUMEXPR_INSTALLED\n"
     ]
    },
    {
     "data": {
      "text/html": [
       "<div>\n",
       "<style scoped>\n",
       "    .dataframe tbody tr th:only-of-type {\n",
       "        vertical-align: middle;\n",
       "    }\n",
       "\n",
       "    .dataframe tbody tr th {\n",
       "        vertical-align: top;\n",
       "    }\n",
       "\n",
       "    .dataframe thead th {\n",
       "        text-align: right;\n",
       "    }\n",
       "</style>\n",
       "<table border=\"1\" class=\"dataframe\">\n",
       "  <thead>\n",
       "    <tr style=\"text-align: right;\">\n",
       "      <th></th>\n",
       "      <th>mapped_smiles</th>\n",
       "    </tr>\n",
       "  </thead>\n",
       "  <tbody>\n",
       "    <tr>\n",
       "      <th>0</th>\n",
       "      <td>[C:1]([H:2])([H:3])([H:4])[H:5]</td>\n",
       "    </tr>\n",
       "    <tr>\n",
       "      <th>1</th>\n",
       "      <td>[C:1]([C:2]([H:6])([H:7])[H:8])([H:3])([H:4])[...</td>\n",
       "    </tr>\n",
       "    <tr>\n",
       "      <th>2</th>\n",
       "      <td>[C:1]([C:2]([C:3]([H:9])([H:10])[H:11])([H:7])...</td>\n",
       "    </tr>\n",
       "    <tr>\n",
       "      <th>3</th>\n",
       "      <td>[C:1]([C:2]([C:3]([C:4]([H:12])([H:13])[H:14])...</td>\n",
       "    </tr>\n",
       "    <tr>\n",
       "      <th>4</th>\n",
       "      <td>[C:1]([C:2]([C:3]([H:9])([H:10])[H:11])([C:4](...</td>\n",
       "    </tr>\n",
       "    <tr>\n",
       "      <th>5</th>\n",
       "      <td>[C:1]([C:2]([C:3]([C:4]([C:5]([H:15])([H:16])[...</td>\n",
       "    </tr>\n",
       "    <tr>\n",
       "      <th>6</th>\n",
       "      <td>[C:1]([C:2]([C:3]([H:10])([H:11])[H:12])([C:4]...</td>\n",
       "    </tr>\n",
       "    <tr>\n",
       "      <th>7</th>\n",
       "      <td>[C:1]([C:2]([C:3]([C:4]([C:5]([C:6]([H:18])([H...</td>\n",
       "    </tr>\n",
       "    <tr>\n",
       "      <th>8</th>\n",
       "      <td>[C:1]([C:2]([C:3]([H:11])([H:12])[H:13])([C:4]...</td>\n",
       "    </tr>\n",
       "    <tr>\n",
       "      <th>9</th>\n",
       "      <td>[C:1]([C:2]([C:3]([C:4]([H:13])([H:14])[H:15])...</td>\n",
       "    </tr>\n",
       "  </tbody>\n",
       "</table>\n",
       "</div>"
      ],
      "text/plain": [
       "                                       mapped_smiles\n",
       "0                    [C:1]([H:2])([H:3])([H:4])[H:5]\n",
       "1  [C:1]([C:2]([H:6])([H:7])[H:8])([H:3])([H:4])[...\n",
       "2  [C:1]([C:2]([C:3]([H:9])([H:10])[H:11])([H:7])...\n",
       "3  [C:1]([C:2]([C:3]([C:4]([H:12])([H:13])[H:14])...\n",
       "4  [C:1]([C:2]([C:3]([H:9])([H:10])[H:11])([C:4](...\n",
       "5  [C:1]([C:2]([C:3]([C:4]([C:5]([H:15])([H:16])[...\n",
       "6  [C:1]([C:2]([C:3]([H:10])([H:11])[H:12])([C:4]...\n",
       "7  [C:1]([C:2]([C:3]([C:4]([C:5]([C:6]([H:18])([H...\n",
       "8  [C:1]([C:2]([C:3]([H:11])([H:12])[H:13])([C:4]...\n",
       "9  [C:1]([C:2]([C:3]([C:4]([H:13])([H:14])[H:15])..."
      ]
     },
     "execution_count": 3,
     "metadata": {},
     "output_type": "execute_result"
    }
   ],
   "source": [
    "dataset = LabelledDataset.from_smiles(\n",
    "    \"labelled_alkanes\",  # path to save to\n",
    "    alkanes_smiles,\n",
    "    mapped=False,\n",
    "    overwrite_existing=True,\n",
    ")\n",
    "dataset.to_pandas()"
   ]
  },
  {
   "cell_type": "code",
   "execution_count": 4,
   "id": "4d5c39f8-0aaf-4673-80ab-cdce7e01f59e",
   "metadata": {
    "execution": {
     "iopub.execute_input": "2024-07-23T03:46:32.402213Z",
     "iopub.status.busy": "2024-07-23T03:46:32.400999Z",
     "iopub.status.idle": "2024-07-23T03:46:32.407301Z",
     "shell.execute_reply": "2024-07-23T03:46:32.406765Z"
    }
   },
   "outputs": [
    {
     "data": {
      "text/plain": [
       "'labelled_alkanes'"
      ]
     },
     "execution_count": 4,
     "metadata": {},
     "output_type": "execute_result"
    }
   ],
   "source": [
    "# path to directory containing parquet files of dataset\n",
    "dataset.source"
   ]
  },
  {
   "cell_type": "code",
   "execution_count": 5,
   "id": "4422e8b8-71e5-488f-8119-c085217f3a0d",
   "metadata": {
    "execution": {
     "iopub.execute_input": "2024-07-23T03:46:32.410983Z",
     "iopub.status.busy": "2024-07-23T03:46:32.410026Z",
     "iopub.status.idle": "2024-07-23T03:46:32.415947Z",
     "shell.execute_reply": "2024-07-23T03:46:32.415422Z"
    }
   },
   "outputs": [
    {
     "data": {
      "text/plain": [
       "['labelled_alkanes/part-0.parquet']"
      ]
     },
     "execution_count": 5,
     "metadata": {},
     "output_type": "execute_result"
    }
   ],
   "source": [
    "# actual files of the dataset\n",
    "dataset.dataset.files"
   ]
  },
  {
   "cell_type": "markdown",
   "id": "62b074d8",
   "metadata": {},
   "source": [
    "## Generating charges"
   ]
  },
  {
   "cell_type": "markdown",
   "id": "e32cbc2a",
   "metadata": {},
   "source": [
    "NAGL can generate AM1-BCC and AM1-Mulliken charges automatically with the OpenFF Toolkit.\n",
    "`exist_ok` defines whether to error if the `charge_column` is already present in the dataset.\n",
    "Normally we want this to be `False`, but it's set to `True` here in case we run the cell\n",
    "multiple times."
   ]
  },
  {
   "cell_type": "code",
   "execution_count": 6,
   "id": "6c4b9242",
   "metadata": {
    "execution": {
     "iopub.execute_input": "2024-07-23T03:46:32.419891Z",
     "iopub.status.busy": "2024-07-23T03:46:32.419681Z",
     "iopub.status.idle": "2024-07-23T03:46:52.339931Z",
     "shell.execute_reply": "2024-07-23T03:46:52.339090Z"
    }
   },
   "outputs": [
    {
     "name": "stderr",
     "output_type": "stream",
     "text": [
      "\r",
      "Applying labellers to batches: 0it [00:00, ?it/s]"
     ]
    },
    {
     "name": "stderr",
     "output_type": "stream",
     "text": [
      "\n"
     ]
    },
    {
     "name": "stderr",
     "output_type": "stream",
     "text": [
      "\r",
      "Assigning charges:   0%|          | 0/10 [00:00<?, ?it/s]"
     ]
    },
    {
     "name": "stderr",
     "output_type": "stream",
     "text": [
      "\u001b[A"
     ]
    },
    {
     "name": "stderr",
     "output_type": "stream",
     "text": [
      "\n"
     ]
    },
    {
     "name": "stderr",
     "output_type": "stream",
     "text": [
      "\r",
      "Assigning charges:  10%|█         | 1/10 [00:00<00:01,  7.52it/s]"
     ]
    },
    {
     "name": "stderr",
     "output_type": "stream",
     "text": [
      "\u001b[A"
     ]
    },
    {
     "name": "stderr",
     "output_type": "stream",
     "text": [
      "\n"
     ]
    },
    {
     "name": "stderr",
     "output_type": "stream",
     "text": [
      "\r",
      "Assigning charges:  20%|██        | 2/10 [00:00<00:01,  5.99it/s]"
     ]
    },
    {
     "name": "stderr",
     "output_type": "stream",
     "text": [
      "\u001b[A"
     ]
    },
    {
     "name": "stderr",
     "output_type": "stream",
     "text": [
      "\n"
     ]
    },
    {
     "name": "stderr",
     "output_type": "stream",
     "text": [
      "\r",
      "Assigning charges:  30%|███       | 3/10 [00:00<00:01,  3.71it/s]"
     ]
    },
    {
     "name": "stderr",
     "output_type": "stream",
     "text": [
      "\u001b[A"
     ]
    },
    {
     "name": "stderr",
     "output_type": "stream",
     "text": [
      "\n"
     ]
    },
    {
     "name": "stderr",
     "output_type": "stream",
     "text": [
      "\r",
      "Assigning charges:  40%|████      | 4/10 [00:01<00:01,  3.37it/s]"
     ]
    },
    {
     "name": "stderr",
     "output_type": "stream",
     "text": [
      "\u001b[A"
     ]
    },
    {
     "name": "stderr",
     "output_type": "stream",
     "text": [
      "\n"
     ]
    },
    {
     "name": "stderr",
     "output_type": "stream",
     "text": [
      "\r",
      "Assigning charges:  50%|█████     | 5/10 [00:01<00:01,  2.50it/s]"
     ]
    },
    {
     "name": "stderr",
     "output_type": "stream",
     "text": [
      "\u001b[A"
     ]
    },
    {
     "name": "stderr",
     "output_type": "stream",
     "text": [
      "\n"
     ]
    },
    {
     "name": "stderr",
     "output_type": "stream",
     "text": [
      "\r",
      "Assigning charges:  60%|██████    | 6/10 [00:02<00:02,  1.63it/s]"
     ]
    },
    {
     "name": "stderr",
     "output_type": "stream",
     "text": [
      "\u001b[A"
     ]
    },
    {
     "name": "stderr",
     "output_type": "stream",
     "text": [
      "\n"
     ]
    },
    {
     "name": "stderr",
     "output_type": "stream",
     "text": [
      "\r",
      "Assigning charges:  70%|███████   | 7/10 [00:04<00:02,  1.05it/s]"
     ]
    },
    {
     "name": "stderr",
     "output_type": "stream",
     "text": [
      "\u001b[A"
     ]
    },
    {
     "name": "stderr",
     "output_type": "stream",
     "text": [
      "\n"
     ]
    },
    {
     "name": "stderr",
     "output_type": "stream",
     "text": [
      "\r",
      "Assigning charges:  80%|████████  | 8/10 [00:05<00:02,  1.11s/it]"
     ]
    },
    {
     "name": "stderr",
     "output_type": "stream",
     "text": [
      "\u001b[A"
     ]
    },
    {
     "name": "stderr",
     "output_type": "stream",
     "text": [
      "\n"
     ]
    },
    {
     "name": "stderr",
     "output_type": "stream",
     "text": [
      "\r",
      "Assigning charges:  90%|█████████ | 9/10 [00:07<00:01,  1.39s/it]"
     ]
    },
    {
     "name": "stderr",
     "output_type": "stream",
     "text": [
      "\u001b[A"
     ]
    },
    {
     "name": "stderr",
     "output_type": "stream",
     "text": [
      "\n"
     ]
    },
    {
     "name": "stderr",
     "output_type": "stream",
     "text": [
      "\r",
      "Assigning charges: 100%|██████████| 10/10 [00:09<00:00,  1.56s/it]"
     ]
    },
    {
     "name": "stderr",
     "output_type": "stream",
     "text": [
      "\u001b[A"
     ]
    },
    {
     "name": "stderr",
     "output_type": "stream",
     "text": [
      "\r",
      "Assigning charges: 100%|██████████| 10/10 [00:09<00:00,  1.03it/s]"
     ]
    },
    {
     "name": "stderr",
     "output_type": "stream",
     "text": [
      "\n"
     ]
    },
    {
     "name": "stderr",
     "output_type": "stream",
     "text": [
      "\n"
     ]
    },
    {
     "name": "stderr",
     "output_type": "stream",
     "text": [
      "\r",
      "Assigning charges:   0%|          | 0/10 [00:00<?, ?it/s]"
     ]
    },
    {
     "name": "stderr",
     "output_type": "stream",
     "text": [
      "\u001b[A"
     ]
    },
    {
     "name": "stderr",
     "output_type": "stream",
     "text": [
      "\n"
     ]
    },
    {
     "name": "stderr",
     "output_type": "stream",
     "text": [
      "\r",
      "Assigning charges:  10%|█         | 1/10 [00:00<00:01,  7.89it/s]"
     ]
    },
    {
     "name": "stderr",
     "output_type": "stream",
     "text": [
      "\u001b[A"
     ]
    },
    {
     "name": "stderr",
     "output_type": "stream",
     "text": [
      "\n"
     ]
    },
    {
     "name": "stderr",
     "output_type": "stream",
     "text": [
      "\r",
      "Assigning charges:  20%|██        | 2/10 [00:00<00:01,  6.17it/s]"
     ]
    },
    {
     "name": "stderr",
     "output_type": "stream",
     "text": [
      "\u001b[A"
     ]
    },
    {
     "name": "stderr",
     "output_type": "stream",
     "text": [
      "\n"
     ]
    },
    {
     "name": "stderr",
     "output_type": "stream",
     "text": [
      "\r",
      "Assigning charges:  30%|███       | 3/10 [00:00<00:01,  3.92it/s]"
     ]
    },
    {
     "name": "stderr",
     "output_type": "stream",
     "text": [
      "\u001b[A"
     ]
    },
    {
     "name": "stderr",
     "output_type": "stream",
     "text": [
      "\n"
     ]
    },
    {
     "name": "stderr",
     "output_type": "stream",
     "text": [
      "\r",
      "Assigning charges:  40%|████      | 4/10 [00:01<00:02,  2.55it/s]"
     ]
    },
    {
     "name": "stderr",
     "output_type": "stream",
     "text": [
      "\u001b[A"
     ]
    },
    {
     "name": "stderr",
     "output_type": "stream",
     "text": [
      "\n"
     ]
    },
    {
     "name": "stderr",
     "output_type": "stream",
     "text": [
      "\r",
      "Assigning charges:  50%|█████     | 5/10 [00:01<00:02,  2.14it/s]"
     ]
    },
    {
     "name": "stderr",
     "output_type": "stream",
     "text": [
      "\u001b[A"
     ]
    },
    {
     "name": "stderr",
     "output_type": "stream",
     "text": [
      "\n"
     ]
    },
    {
     "name": "stderr",
     "output_type": "stream",
     "text": [
      "\r",
      "Assigning charges:  60%|██████    | 6/10 [00:03<00:02,  1.42it/s]"
     ]
    },
    {
     "name": "stderr",
     "output_type": "stream",
     "text": [
      "\u001b[A"
     ]
    },
    {
     "name": "stderr",
     "output_type": "stream",
     "text": [
      "\n"
     ]
    },
    {
     "name": "stderr",
     "output_type": "stream",
     "text": [
      "\r",
      "Assigning charges:  70%|███████   | 7/10 [00:04<00:03,  1.01s/it]"
     ]
    },
    {
     "name": "stderr",
     "output_type": "stream",
     "text": [
      "\u001b[A"
     ]
    },
    {
     "name": "stderr",
     "output_type": "stream",
     "text": [
      "\n"
     ]
    },
    {
     "name": "stderr",
     "output_type": "stream",
     "text": [
      "\r",
      "Assigning charges:  80%|████████  | 8/10 [00:06<00:02,  1.15s/it]"
     ]
    },
    {
     "name": "stderr",
     "output_type": "stream",
     "text": [
      "\u001b[A"
     ]
    },
    {
     "name": "stderr",
     "output_type": "stream",
     "text": [
      "\n"
     ]
    },
    {
     "name": "stderr",
     "output_type": "stream",
     "text": [
      "\r",
      "Assigning charges:  90%|█████████ | 9/10 [00:08<00:01,  1.54s/it]"
     ]
    },
    {
     "name": "stderr",
     "output_type": "stream",
     "text": [
      "\u001b[A"
     ]
    },
    {
     "name": "stderr",
     "output_type": "stream",
     "text": [
      "\n"
     ]
    },
    {
     "name": "stderr",
     "output_type": "stream",
     "text": [
      "\r",
      "Assigning charges: 100%|██████████| 10/10 [00:10<00:00,  1.57s/it]"
     ]
    },
    {
     "name": "stderr",
     "output_type": "stream",
     "text": [
      "\u001b[A"
     ]
    },
    {
     "name": "stderr",
     "output_type": "stream",
     "text": [
      "\r",
      "Assigning charges: 100%|██████████| 10/10 [00:10<00:00,  1.02s/it]"
     ]
    },
    {
     "name": "stderr",
     "output_type": "stream",
     "text": [
      "\n",
      "\r",
      "Applying labellers to batches: 1it [00:19, 19.89s/it]"
     ]
    },
    {
     "name": "stderr",
     "output_type": "stream",
     "text": [
      "\r",
      "Applying labellers to batches: 1it [00:19, 19.89s/it]"
     ]
    },
    {
     "name": "stderr",
     "output_type": "stream",
     "text": [
      "\n"
     ]
    },
    {
     "data": {
      "text/html": [
       "<div>\n",
       "<style scoped>\n",
       "    .dataframe tbody tr th:only-of-type {\n",
       "        vertical-align: middle;\n",
       "    }\n",
       "\n",
       "    .dataframe tbody tr th {\n",
       "        vertical-align: top;\n",
       "    }\n",
       "\n",
       "    .dataframe thead th {\n",
       "        text-align: right;\n",
       "    }\n",
       "</style>\n",
       "<table border=\"1\" class=\"dataframe\">\n",
       "  <thead>\n",
       "    <tr style=\"text-align: right;\">\n",
       "      <th></th>\n",
       "      <th>mapped_smiles</th>\n",
       "      <th>am1_charges</th>\n",
       "      <th>am1bcc_charges</th>\n",
       "    </tr>\n",
       "  </thead>\n",
       "  <tbody>\n",
       "    <tr>\n",
       "      <th>0</th>\n",
       "      <td>[C:1]([H:2])([H:3])([H:4])[H:5]</td>\n",
       "      <td>[-0.2656, 0.0664, 0.0664, 0.0664, 0.0664]</td>\n",
       "      <td>[-0.1084, 0.0271, 0.0271, 0.0271, 0.0271]</td>\n",
       "    </tr>\n",
       "    <tr>\n",
       "      <th>1</th>\n",
       "      <td>[C:1]([C:2]([H:6])([H:7])[H:8])([H:3])([H:4])[...</td>\n",
       "      <td>[-0.21225, -0.21225, 0.07075, 0.07075, 0.07075...</td>\n",
       "      <td>[-0.09435, -0.09435, 0.03145, 0.03145, 0.03145...</td>\n",
       "    </tr>\n",
       "    <tr>\n",
       "      <th>2</th>\n",
       "      <td>[C:1]([C:2]([C:3]([H:9])([H:10])[H:11])([H:7])...</td>\n",
       "      <td>[-0.211, -0.16, -0.211, 0.072, 0.072, 0.071, 0...</td>\n",
       "      <td>[-0.09310018181818182, -0.08140018181818182, -...</td>\n",
       "    </tr>\n",
       "    <tr>\n",
       "      <th>3</th>\n",
       "      <td>[C:1]([C:2]([C:3]([C:4]([H:12])([H:13])[H:14])...</td>\n",
       "      <td>[-0.21028571428571427, -0.15928571428571428, -...</td>\n",
       "      <td>[-0.09238585714285714, -0.08068585714285714, -...</td>\n",
       "    </tr>\n",
       "    <tr>\n",
       "      <th>4</th>\n",
       "      <td>[C:1]([C:2]([C:3]([H:9])([H:10])[H:11])([C:4](...</td>\n",
       "      <td>[-0.20735714285714285, -0.10935714285714285, -...</td>\n",
       "      <td>[-0.08945692857142856, -0.07005692857142856, -...</td>\n",
       "    </tr>\n",
       "    <tr>\n",
       "      <th>5</th>\n",
       "      <td>[C:1]([C:2]([C:3]([C:4]([C:5]([H:15])([H:16])[...</td>\n",
       "      <td>[-0.21, -0.159, -0.158, -0.159, -0.21, 0.07200...</td>\n",
       "      <td>[-0.09210011764705882, -0.08040011764705882, -...</td>\n",
       "    </tr>\n",
       "    <tr>\n",
       "      <th>6</th>\n",
       "      <td>[C:1]([C:2]([C:3]([H:10])([H:11])[H:12])([C:4]...</td>\n",
       "      <td>[-0.207, -0.10599999999999998, -0.207, -0.153,...</td>\n",
       "      <td>[-0.08909988235294117, -0.06669988235294116, -...</td>\n",
       "    </tr>\n",
       "    <tr>\n",
       "      <th>7</th>\n",
       "      <td>[C:1]([C:2]([C:3]([C:4]([C:5]([C:6]([H:18])([H...</td>\n",
       "      <td>[-0.21009999999999998, -0.1591, -0.1581, -0.15...</td>\n",
       "      <td>[-0.0922, -0.0805, -0.0795, -0.0795, -0.0805, ...</td>\n",
       "    </tr>\n",
       "    <tr>\n",
       "      <th>8</th>\n",
       "      <td>[C:1]([C:2]([C:3]([H:11])([H:12])[H:13])([C:4]...</td>\n",
       "      <td>[-0.20694999999999997, -0.10694999999999998, -...</td>\n",
       "      <td>[-0.08955004999999999, -0.06765004999999999, -...</td>\n",
       "    </tr>\n",
       "    <tr>\n",
       "      <th>9</th>\n",
       "      <td>[C:1]([C:2]([C:3]([C:4]([H:13])([H:14])[H:15])...</td>\n",
       "      <td>[-0.20794999999999997, -0.10594999999999999, -...</td>\n",
       "      <td>[-0.09005, -0.06665, -0.07785, -0.09205, -0.07...</td>\n",
       "    </tr>\n",
       "  </tbody>\n",
       "</table>\n",
       "</div>"
      ],
      "text/plain": [
       "                                       mapped_smiles  \\\n",
       "0                    [C:1]([H:2])([H:3])([H:4])[H:5]   \n",
       "1  [C:1]([C:2]([H:6])([H:7])[H:8])([H:3])([H:4])[...   \n",
       "2  [C:1]([C:2]([C:3]([H:9])([H:10])[H:11])([H:7])...   \n",
       "3  [C:1]([C:2]([C:3]([C:4]([H:12])([H:13])[H:14])...   \n",
       "4  [C:1]([C:2]([C:3]([H:9])([H:10])[H:11])([C:4](...   \n",
       "5  [C:1]([C:2]([C:3]([C:4]([C:5]([H:15])([H:16])[...   \n",
       "6  [C:1]([C:2]([C:3]([H:10])([H:11])[H:12])([C:4]...   \n",
       "7  [C:1]([C:2]([C:3]([C:4]([C:5]([C:6]([H:18])([H...   \n",
       "8  [C:1]([C:2]([C:3]([H:11])([H:12])[H:13])([C:4]...   \n",
       "9  [C:1]([C:2]([C:3]([C:4]([H:13])([H:14])[H:15])...   \n",
       "\n",
       "                                         am1_charges  \\\n",
       "0          [-0.2656, 0.0664, 0.0664, 0.0664, 0.0664]   \n",
       "1  [-0.21225, -0.21225, 0.07075, 0.07075, 0.07075...   \n",
       "2  [-0.211, -0.16, -0.211, 0.072, 0.072, 0.071, 0...   \n",
       "3  [-0.21028571428571427, -0.15928571428571428, -...   \n",
       "4  [-0.20735714285714285, -0.10935714285714285, -...   \n",
       "5  [-0.21, -0.159, -0.158, -0.159, -0.21, 0.07200...   \n",
       "6  [-0.207, -0.10599999999999998, -0.207, -0.153,...   \n",
       "7  [-0.21009999999999998, -0.1591, -0.1581, -0.15...   \n",
       "8  [-0.20694999999999997, -0.10694999999999998, -...   \n",
       "9  [-0.20794999999999997, -0.10594999999999999, -...   \n",
       "\n",
       "                                      am1bcc_charges  \n",
       "0          [-0.1084, 0.0271, 0.0271, 0.0271, 0.0271]  \n",
       "1  [-0.09435, -0.09435, 0.03145, 0.03145, 0.03145...  \n",
       "2  [-0.09310018181818182, -0.08140018181818182, -...  \n",
       "3  [-0.09238585714285714, -0.08068585714285714, -...  \n",
       "4  [-0.08945692857142856, -0.07005692857142856, -...  \n",
       "5  [-0.09210011764705882, -0.08040011764705882, -...  \n",
       "6  [-0.08909988235294117, -0.06669988235294116, -...  \n",
       "7  [-0.0922, -0.0805, -0.0795, -0.0795, -0.0805, ...  \n",
       "8  [-0.08955004999999999, -0.06765004999999999, -...  \n",
       "9  [-0.09005, -0.06665, -0.07785, -0.09205, -0.07...  "
      ]
     },
     "execution_count": 6,
     "metadata": {},
     "output_type": "execute_result"
    }
   ],
   "source": [
    "am1bcc_labeller = LabelCharges(\n",
    "    charge_method=\"am1bcc\",\n",
    "    charge_column=\"am1bcc_charges\",\n",
    "    exist_ok=True,\n",
    ")\n",
    "am1_labeller = LabelCharges(\n",
    "    charge_method=\"am1-mulliken\",\n",
    "    charge_column=\"am1_charges\",\n",
    "    exist_ok=True,\n",
    ")\n",
    "    \n",
    "\n",
    "dataset.apply_labellers(\n",
    "    [am1_labeller, am1bcc_labeller],\n",
    "    verbose=True,\n",
    ")\n",
    "dataset.to_pandas()"
   ]
  },
  {
   "cell_type": "markdown",
   "id": "ebe91ec8-760f-4783-b909-fd616f5bd04c",
   "metadata": {},
   "source": [
    "If you have your own charges to add, use the `LabelledDataset.append_columns`. **Warning: this does not run any checks as to the validity of the charges, such as the length or type!**"
   ]
  },
  {
   "cell_type": "code",
   "execution_count": 7,
   "id": "232d0165-4023-4265-933d-5779e8736215",
   "metadata": {
    "execution": {
     "iopub.execute_input": "2024-07-23T03:46:52.344154Z",
     "iopub.status.busy": "2024-07-23T03:46:52.343097Z",
     "iopub.status.idle": "2024-07-23T03:46:52.368757Z",
     "shell.execute_reply": "2024-07-23T03:46:52.368144Z"
    }
   },
   "outputs": [
    {
     "data": {
      "text/html": [
       "<div>\n",
       "<style scoped>\n",
       "    .dataframe tbody tr th:only-of-type {\n",
       "        vertical-align: middle;\n",
       "    }\n",
       "\n",
       "    .dataframe tbody tr th {\n",
       "        vertical-align: top;\n",
       "    }\n",
       "\n",
       "    .dataframe thead th {\n",
       "        text-align: right;\n",
       "    }\n",
       "</style>\n",
       "<table border=\"1\" class=\"dataframe\">\n",
       "  <thead>\n",
       "    <tr style=\"text-align: right;\">\n",
       "      <th></th>\n",
       "      <th>mapped_smiles</th>\n",
       "      <th>am1_charges</th>\n",
       "      <th>am1bcc_charges</th>\n",
       "      <th>custom_charges</th>\n",
       "    </tr>\n",
       "  </thead>\n",
       "  <tbody>\n",
       "    <tr>\n",
       "      <th>0</th>\n",
       "      <td>[C:1]([H:2])([H:3])([H:4])[H:5]</td>\n",
       "      <td>[-0.2656, 0.0664, 0.0664, 0.0664, 0.0664]</td>\n",
       "      <td>[-0.1084, 0.0271, 0.0271, 0.0271, 0.0271]</td>\n",
       "      <td>[0]</td>\n",
       "    </tr>\n",
       "    <tr>\n",
       "      <th>1</th>\n",
       "      <td>[C:1]([C:2]([H:6])([H:7])[H:8])([H:3])([H:4])[...</td>\n",
       "      <td>[-0.21225, -0.21225, 0.07075, 0.07075, 0.07075...</td>\n",
       "      <td>[-0.09435, -0.09435, 0.03145, 0.03145, 0.03145...</td>\n",
       "      <td>[1]</td>\n",
       "    </tr>\n",
       "    <tr>\n",
       "      <th>2</th>\n",
       "      <td>[C:1]([C:2]([C:3]([H:9])([H:10])[H:11])([H:7])...</td>\n",
       "      <td>[-0.211, -0.16, -0.211, 0.072, 0.072, 0.071, 0...</td>\n",
       "      <td>[-0.09310018181818182, -0.08140018181818182, -...</td>\n",
       "      <td>[2]</td>\n",
       "    </tr>\n",
       "    <tr>\n",
       "      <th>3</th>\n",
       "      <td>[C:1]([C:2]([C:3]([C:4]([H:12])([H:13])[H:14])...</td>\n",
       "      <td>[-0.21028571428571427, -0.15928571428571428, -...</td>\n",
       "      <td>[-0.09238585714285714, -0.08068585714285714, -...</td>\n",
       "      <td>[3]</td>\n",
       "    </tr>\n",
       "    <tr>\n",
       "      <th>4</th>\n",
       "      <td>[C:1]([C:2]([C:3]([H:9])([H:10])[H:11])([C:4](...</td>\n",
       "      <td>[-0.20735714285714285, -0.10935714285714285, -...</td>\n",
       "      <td>[-0.08945692857142856, -0.07005692857142856, -...</td>\n",
       "      <td>[4]</td>\n",
       "    </tr>\n",
       "    <tr>\n",
       "      <th>5</th>\n",
       "      <td>[C:1]([C:2]([C:3]([C:4]([C:5]([H:15])([H:16])[...</td>\n",
       "      <td>[-0.21, -0.159, -0.158, -0.159, -0.21, 0.07200...</td>\n",
       "      <td>[-0.09210011764705882, -0.08040011764705882, -...</td>\n",
       "      <td>[5]</td>\n",
       "    </tr>\n",
       "    <tr>\n",
       "      <th>6</th>\n",
       "      <td>[C:1]([C:2]([C:3]([H:10])([H:11])[H:12])([C:4]...</td>\n",
       "      <td>[-0.207, -0.10599999999999998, -0.207, -0.153,...</td>\n",
       "      <td>[-0.08909988235294117, -0.06669988235294116, -...</td>\n",
       "      <td>[6]</td>\n",
       "    </tr>\n",
       "    <tr>\n",
       "      <th>7</th>\n",
       "      <td>[C:1]([C:2]([C:3]([C:4]([C:5]([C:6]([H:18])([H...</td>\n",
       "      <td>[-0.21009999999999998, -0.1591, -0.1581, -0.15...</td>\n",
       "      <td>[-0.0922, -0.0805, -0.0795, -0.0795, -0.0805, ...</td>\n",
       "      <td>[7]</td>\n",
       "    </tr>\n",
       "    <tr>\n",
       "      <th>8</th>\n",
       "      <td>[C:1]([C:2]([C:3]([H:11])([H:12])[H:13])([C:4]...</td>\n",
       "      <td>[-0.20694999999999997, -0.10694999999999998, -...</td>\n",
       "      <td>[-0.08955004999999999, -0.06765004999999999, -...</td>\n",
       "      <td>[8]</td>\n",
       "    </tr>\n",
       "    <tr>\n",
       "      <th>9</th>\n",
       "      <td>[C:1]([C:2]([C:3]([C:4]([H:13])([H:14])[H:15])...</td>\n",
       "      <td>[-0.20794999999999997, -0.10594999999999999, -...</td>\n",
       "      <td>[-0.09005, -0.06665, -0.07785, -0.09205, -0.07...</td>\n",
       "      <td>[9]</td>\n",
       "    </tr>\n",
       "  </tbody>\n",
       "</table>\n",
       "</div>"
      ],
      "text/plain": [
       "                                       mapped_smiles  \\\n",
       "0                    [C:1]([H:2])([H:3])([H:4])[H:5]   \n",
       "1  [C:1]([C:2]([H:6])([H:7])[H:8])([H:3])([H:4])[...   \n",
       "2  [C:1]([C:2]([C:3]([H:9])([H:10])[H:11])([H:7])...   \n",
       "3  [C:1]([C:2]([C:3]([C:4]([H:12])([H:13])[H:14])...   \n",
       "4  [C:1]([C:2]([C:3]([H:9])([H:10])[H:11])([C:4](...   \n",
       "5  [C:1]([C:2]([C:3]([C:4]([C:5]([H:15])([H:16])[...   \n",
       "6  [C:1]([C:2]([C:3]([H:10])([H:11])[H:12])([C:4]...   \n",
       "7  [C:1]([C:2]([C:3]([C:4]([C:5]([C:6]([H:18])([H...   \n",
       "8  [C:1]([C:2]([C:3]([H:11])([H:12])[H:13])([C:4]...   \n",
       "9  [C:1]([C:2]([C:3]([C:4]([H:13])([H:14])[H:15])...   \n",
       "\n",
       "                                         am1_charges  \\\n",
       "0          [-0.2656, 0.0664, 0.0664, 0.0664, 0.0664]   \n",
       "1  [-0.21225, -0.21225, 0.07075, 0.07075, 0.07075...   \n",
       "2  [-0.211, -0.16, -0.211, 0.072, 0.072, 0.071, 0...   \n",
       "3  [-0.21028571428571427, -0.15928571428571428, -...   \n",
       "4  [-0.20735714285714285, -0.10935714285714285, -...   \n",
       "5  [-0.21, -0.159, -0.158, -0.159, -0.21, 0.07200...   \n",
       "6  [-0.207, -0.10599999999999998, -0.207, -0.153,...   \n",
       "7  [-0.21009999999999998, -0.1591, -0.1581, -0.15...   \n",
       "8  [-0.20694999999999997, -0.10694999999999998, -...   \n",
       "9  [-0.20794999999999997, -0.10594999999999999, -...   \n",
       "\n",
       "                                      am1bcc_charges custom_charges  \n",
       "0          [-0.1084, 0.0271, 0.0271, 0.0271, 0.0271]            [0]  \n",
       "1  [-0.09435, -0.09435, 0.03145, 0.03145, 0.03145...            [1]  \n",
       "2  [-0.09310018181818182, -0.08140018181818182, -...            [2]  \n",
       "3  [-0.09238585714285714, -0.08068585714285714, -...            [3]  \n",
       "4  [-0.08945692857142856, -0.07005692857142856, -...            [4]  \n",
       "5  [-0.09210011764705882, -0.08040011764705882, -...            [5]  \n",
       "6  [-0.08909988235294117, -0.06669988235294116, -...            [6]  \n",
       "7  [-0.0922, -0.0805, -0.0795, -0.0795, -0.0805, ...            [7]  \n",
       "8  [-0.08955004999999999, -0.06765004999999999, -...            [8]  \n",
       "9  [-0.09005, -0.06665, -0.07785, -0.09205, -0.07...            [9]  "
      ]
     },
     "execution_count": 7,
     "metadata": {},
     "output_type": "execute_result"
    }
   ],
   "source": [
    "dataset.append_columns(\n",
    "    columns={\n",
    "        \"custom_charges\": [\n",
    "            [i]\n",
    "            for i in range(len(alkanes_smiles))\n",
    "        ]\n",
    "    }\n",
    ")\n",
    "dataset.to_pandas()"
   ]
  },
  {
   "cell_type": "code",
   "execution_count": null,
   "id": "9967c526",
   "metadata": {},
   "outputs": [],
   "source": []
  }
 ],
 "metadata": {
  "cookbook_cache_branch": "_cookbook_data_PR14",
  "kernelspec": {
   "display_name": "Python 3 (ipykernel)",
   "language": "python",
   "name": "python3"
  },
  "language_info": {
   "codemirror_mode": {
    "name": "ipython",
    "version": 3
   },
   "file_extension": ".py",
   "mimetype": "text/x-python",
   "name": "python",
   "nbconvert_exporter": "python",
   "pygments_lexer": "ipython3",
   "version": "3.10.14"
  },
  "src_repo_tag": "v0.4.0"
 },
 "nbformat": 4,
 "nbformat_minor": 5
}
