{
 "cells": [
  {
   "cell_type": "code",
   "execution_count": null,
   "id": "c26bbfcd-1535-4650-826b-f806308620a0",
   "metadata": {},
   "outputs": [],
   "source": [
    "!pip install -U https://github.com/conda-incubator/condacolab/archive/cuda-version-12.tar.gz\n",
    "import condacolab\n",
    "condacolab.install_mambaforge()"
   ]
  },
  {
   "cell_type": "code",
   "execution_count": null,
   "id": "2eb5268c-d168-4ed5-9c6a-0dfa09e8e39d",
   "metadata": {},
   "outputs": [],
   "source": [
    "!wget -qN https://raw.githubusercontent.com/openforcefield/openff-docs/main/source/workshops/2024/vignettes/utils.py\n",
    "!wget -qN https://raw.githubusercontent.com/openforcefield/openff-docs/main/source/workshops/2024/vignettes/colab-env.yml\n",
    "!wget -qN https://raw.githubusercontent.com/openforcefield/openff-docs/main/source/workshops/2024/vignettes/micelle-self-assembly-backup.xtc\n",
    "!wget -qN https://raw.githubusercontent.com/openforcefield/openff-docs/main/source/workshops/2024/vignettes/micelle-self-assembly-start-backup.pdb\n",
    "!wget -qN -P inputs https://raw.githubusercontent.com/openforcefield/openff-docs/main/source/workshops/2024/vignettes/inputs/3ip9_dye_solvated.pdb\n",
    "!wget -qN -P inputs https://raw.githubusercontent.com/openforcefield/openff-docs/main/source/workshops/2024/vignettes/inputs/dlpc.sdf\n",
    "!wget -qN -P inputs https://raw.githubusercontent.com/openforcefield/openff-docs/main/source/workshops/2024/vignettes/inputs/example-vsites-parameters-forcefield.offxml\n",
    "!wget -qN -P inputs https://raw.githubusercontent.com/openforcefield/openff-docs/main/source/workshops/2024/vignettes/inputs/PT2385.sdf\n",
    "!wget -qN -P inputs https://raw.githubusercontent.com/openforcefield/openff-docs/main/source/workshops/2024/vignettes/inputs/solvated_complex.pdb\n",
    "!wget -qN -P inputs https://raw.githubusercontent.com/openforcefield/openff-docs/main/source/workshops/2024/vignettes/inputs/ribozymes.pdb\n",
    "!mamba env update -q --name=base --file=colab-env.yml"
   ]
  },
  {
   "cell_type": "code",
   "execution_count": null,
   "id": "9470a40b-638c-427b-8471-7175f2f6d599",
   "metadata": {},
   "outputs": [],
   "source": [
    "from google.colab import output\n",
    "output.enable_custom_widget_manager()"
   ]
  },
  {
   "cell_type": "markdown",
   "id": "76618db2-10e6-44c7-ad19-a469b75d516f",
   "metadata": {},
   "source": [
    "# Basic Simulation from PDB"
   ]
  },
  {
   "attachments": {},
   "cell_type": "markdown",
   "id": "34131dc6",
   "metadata": {},
   "source": [
    "The starting configuration for this vignette comes from the Toolkit Showcase, which assembles and solvates this topology starting from a prepared protein PDB and ligand SDF. \n",
    "\n",
    "https://github.com/openforcefield/openff-toolkit/tree/main/examples/toolkit_showcase\n",
    "\n",
    "This notebook describes the basic workflow for any OpenFF simulation."
   ]
  },
  {
   "attachments": {},
   "cell_type": "markdown",
   "id": "461250f5",
   "metadata": {},
   "source": [
    "## OpenFF Code"
   ]
  },
  {
   "cell_type": "code",
   "execution_count": null,
   "id": "2bdfddd4",
   "metadata": {},
   "outputs": [],
   "source": [
    "from openff.toolkit import ForceField, Molecule, Topology\n",
    "\n",
    "ligand = Molecule.from_file(\"inputs/PT2385.sdf\")\n",
    "top = Topology.from_pdb(\"inputs/solvated_complex.pdb\", unique_molecules=[ligand])\n",
    "ff = ForceField(\"openff-2.2.0.offxml\", \"ff14sb_off_impropers_0.0.4.offxml\")\n",
    "\n",
    "ic = ff.create_interchange(top)\n",
    "ic.visualize()"
   ]
  },
  {
   "attachments": {},
   "cell_type": "markdown",
   "id": "457a114d",
   "metadata": {},
   "source": [
    "## OpenMM Code"
   ]
  },
  {
   "cell_type": "code",
   "execution_count": null,
   "id": "59558d93",
   "metadata": {},
   "outputs": [],
   "source": [
    "import openmm\n",
    "from openff.units import Quantity, unit\n",
    "\n",
    "simulation = ic.to_openmm_simulation(\n",
    "    openmm.LangevinIntegrator(\n",
    "        300 * openmm.unit.kelvin,\n",
    "        1 / openmm.unit.picosecond,\n",
    "        2 * openmm.unit.femtoseconds,\n",
    "    )\n",
    ")\n",
    "\n",
    "# Energy minimize\n",
    "simulation.minimizeEnergy()\n",
    "\n",
    "# Add a reporter to record the structure every 1000 steps\n",
    "dcd_reporter = openmm.app.DCDReporter(\"trajectory.dcd\", 1000)\n",
    "simulation.reporters.append(dcd_reporter)\n",
    "simulation.context.setVelocitiesToTemperature(simulation.integrator.getTemperature())\n",
    "simulation.runForClockTime(1 * openmm.unit.minute)"
   ]
  },
  {
   "attachments": {},
   "cell_type": "markdown",
   "id": "188a7ec0",
   "metadata": {},
   "source": [
    "## NGLView"
   ]
  },
  {
   "cell_type": "code",
   "execution_count": null,
   "id": "f320bae7",
   "metadata": {},
   "outputs": [],
   "source": [
    "import mdtraj\n",
    "import nglview\n",
    "\n",
    "trajectory: mdtraj.Trajectory = mdtraj.load(\n",
    "    \"trajectory.dcd\", top=mdtraj.Topology.from_openmm(top.to_openmm())\n",
    ")\n",
    "\n",
    "view = nglview.show_mdtraj(trajectory.image_molecules())\n",
    "view.add_representation(\"line\", selection=\"water\")\n",
    "view.add_representation(\n",
    "    \"hyperball\", radiusSize=1, radiusScale=0.5, selection=\"not protein and not water\"\n",
    ")\n",
    "view"
   ]
  },
  {
   "cell_type": "code",
   "execution_count": null,
   "id": "ac4079ba",
   "metadata": {},
   "outputs": [],
   "source": []
  },
  {
   "cell_type": "markdown",
   "id": "e54c4721-a45c-4d68-a010-a7c231f9fbad",
   "metadata": {},
   "source": [
    "# Virtual Sites\n",
    "\n",
    "This notebook describes the use of virtual sites in OpenFF force fields."
   ]
  },
  {
   "cell_type": "code",
   "execution_count": null,
   "id": "1a0790ab-982a-4485-9d0b-73c13c50887c",
   "metadata": {},
   "outputs": [],
   "source": [
    "from openff.toolkit import ForceField\n",
    "\n",
    "sage_with_example_virtual_sites = ForceField(\n",
    "    \"openff-2.2.0.offxml\",\n",
    "    \"inputs/example-vsites-parameters-forcefield.offxml\",\n",
    ")"
   ]
  },
  {
   "cell_type": "code",
   "execution_count": null,
   "id": "67f898ca-2a1f-4213-9e83-a35b010ee725",
   "metadata": {},
   "outputs": [],
   "source": [
    "import mdtraj\n",
    "import nglview\n",
    "import openmm\n",
    "import openmm.unit\n",
    "from openff.toolkit import Molecule\n",
    "\n",
    "def _add_vsite_reps(widget, interchange):\n",
    "    widget.clear_representations()\n",
    "    atoms_with_vsites = [*interchange.to_openmm_topology().atoms()]\n",
    "    if len(atoms_with_vsites) == interchange.topology.n_atoms + 1:\n",
    "        vsite = next(iter(interchange[\"VirtualSites\"].key_map))\n",
    "    \n",
    "        atom1 = vsite.orientation_atom_indices[0]\n",
    "        name = vsite.name\n",
    "    \n",
    "        atom2 = [atom.index for atom in atoms_with_vsites if atom.name == name][0]\n",
    "    \n",
    "        widget.add_distance(atomPair=[[f\"@{atom1}\", f\"@{atom2}\"]])\n",
    "\n",
    "    vsite_idcs = [\n",
    "        str(v.index) for v in atoms_with_vsites[interchange.topology.n_atoms:]\n",
    "    ]\n",
    "    not_vsite_idcs = [\n",
    "        str(v.index) for v in atoms_with_vsites[:interchange.topology.n_atoms]\n",
    "    ]\n",
    "\n",
    "    widget.add_licorice(selection=\"@\" + \",\".join(not_vsite_idcs))\n",
    "    widget.add_representation(\"ball+stick\", selection=\"@\" + \",\".join(vsite_idcs))\n",
    "\n",
    "    return widget\n",
    "        \n",
    "def viz(\n",
    "    smiles: str,\n",
    "    force_field: ForceField = sage_with_example_virtual_sites,\n",
    ") -> nglview.NGLWidget:\n",
    "    molecule = Molecule.from_smiles(smiles, allow_undefined_stereo=True)\n",
    "    molecule.generate_conformers(n_conformers=1)\n",
    "\n",
    "    interchange = force_field.create_interchange(molecule.to_topology())\n",
    "    \n",
    "    w = interchange.visualize(backend='nglview', include_virtual_sites=True)\n",
    "    return _add_vsite_reps(w, interchange)\n",
    "\n",
    "\n",
    "def run(\n",
    "    smiles: str,\n",
    "    name: str,\n",
    "    force_field: ForceField = sage_with_example_virtual_sites,\n",
    ") -> nglview.NGLWidget:\n",
    "    molecule = Molecule.from_smiles(smiles, allow_undefined_stereo=True)\n",
    "    molecule.generate_conformers(n_conformers=1)\n",
    "\n",
    "    interchange = force_field.create_interchange(molecule.to_topology())\n",
    "\n",
    "    integrator = openmm.LangevinIntegrator(\n",
    "        300 * openmm.unit.kelvin,\n",
    "        1 / openmm.unit.picosecond,\n",
    "        1 * openmm.unit.femtoseconds,\n",
    "    )\n",
    "\n",
    "    simulation = interchange.to_openmm_simulation(integrator=integrator)\n",
    "\n",
    "    dcd_reporter = openmm.app.DCDReporter(\"trajectory.dcd\", 10)\n",
    "    simulation.reporters.append(dcd_reporter)\n",
    "\n",
    "    simulation.context.computeVirtualSites()\n",
    "    simulation.minimizeEnergy()\n",
    "    simulation.context.setVelocitiesToTemperature(integrator.getTemperature())\n",
    "    simulation.step(1000)\n",
    "\n",
    "    interchange.positions = simulation.context.getState(\n",
    "        getPositions=True\n",
    "    ).getPositions()\n",
    "\n",
    "    open(f\"{name}.xml\", \"w\").write(\n",
    "        openmm.XmlSerializer.serialize(interchange.to_openmm())\n",
    "    )\n",
    "\n",
    "    w = nglview.show_mdtraj(\n",
    "        mdtraj.load(\n",
    "            \"trajectory.dcd\",\n",
    "            top=mdtraj.Topology.from_openmm(\n",
    "                interchange.to_openmm_topology(),\n",
    "            ),\n",
    "        )\n",
    "    )\n",
    "    return _add_vsite_reps(w, interchange)\n"
   ]
  },
  {
   "cell_type": "markdown",
   "id": "de1c50d7-50a8-4653-a65a-3e1a2fcd1d77",
   "metadata": {},
   "source": [
    "## `BondCharge` virtual site\n",
    "\n",
    "This supports placement of a virtual site S along a vector between two specified atoms, e.g. to allow for a sigma hole for halogens or similar contexts. With positive values of the distance, the virtual site lies outside the first indexed atom (cyan in this image).\n",
    "\n",
    "![](https://raw.githubusercontent.com/openforcefield/openff-docs/main/source/workshops/2024/vignettes/images/vsite_bondcharge.jpg)"
   ]
  },
  {
   "cell_type": "code",
   "execution_count": null,
   "id": "a88b252d-1d54-4f94-aab1-99dd510c5b60",
   "metadata": {},
   "outputs": [],
   "source": [
    "sage_with_example_virtual_sites[\"VirtualSites\"].get_parameter({\"type\": \"BondCharge\"})[\n",
    "    0\n",
    "].to_dict()"
   ]
  },
  {
   "cell_type": "code",
   "execution_count": null,
   "id": "7780ea07-be2f-4ce3-b299-0e3145781baf",
   "metadata": {},
   "outputs": [],
   "source": [
    "run(\"CCCCCl\", name=\"sigma_hole\")"
   ]
  },
  {
   "cell_type": "markdown",
   "id": "9fdc035c-cdce-4269-acf5-4df2fe0fb2a3",
   "metadata": {},
   "source": [
    "## `MonovalentLonePair` virtual site\n",
    "\n",
    "This is originally intended for situations like a carbonyl, and allows placement of a virtual site `S` at a specified distance `d` from the first indexed atom, with angles `inPlaneAngle` (θ₁ in the diagram) and `outOfPlaneAngle` (θ₂ in the diagram) relative to the plane defined by the three indexed atoms. The atom labeled `w` is not used to place the virtual site.\n",
    "\n",
    "![](https://raw.githubusercontent.com/openforcefield/openff-docs/main/source/workshops/2024/vignettes/images/vsite_monovalent.jpg)"
   ]
  },
  {
   "cell_type": "code",
   "execution_count": null,
   "id": "808d8c55-ffd3-46e1-91f1-9d9fb1c7b1d2",
   "metadata": {},
   "outputs": [],
   "source": [
    "sage_with_example_virtual_sites[\"VirtualSites\"].get_parameter(\n",
    "    {\"type\": \"MonovalentLonePair\"}\n",
    ")[0].to_dict()"
   ]
  },
  {
   "cell_type": "code",
   "execution_count": null,
   "id": "81324dcd-96d5-483f-a0c3-f3e378eb0ecc",
   "metadata": {},
   "outputs": [],
   "source": [
    "run(\"COC1=C(C=CC(=C1)C=O)O\", name=\"planar_carbonyl\")"
   ]
  },
  {
   "cell_type": "markdown",
   "id": "5c02ea80-6e7e-415f-a13a-1833b7f87fab",
   "metadata": {},
   "source": [
    "## `DivalentLonePair` virtual site\n",
    "\n",
    "This is suitable for cases like four-point and five-point water models as well as pyrimidine; a virtual site `S` lies a specified distance `d` from the atom indexed 1 (blue) along the bisector of the angle between the three indexed atoms (if `outOfPlaneAngle` is zero) or out of the plane by the specified angle (if `outOfPlaneAngle` is nonzero) with its projection along the bisector. For positive values of the distance `d` the virtual site lies outside the 2-1-3 angle and for negative values it lies inside.\n",
    "\n",
    "![](https://raw.githubusercontent.com/openforcefield/openff-docs/main/source/workshops/2024/vignettes/images/vsite_divalent.jpg)"
   ]
  },
  {
   "cell_type": "code",
   "execution_count": null,
   "id": "a6bf6da5-1e35-4713-9e13-412565591fe9",
   "metadata": {},
   "outputs": [],
   "source": [
    "ForceField(\"tip4p_fb.offxml\")[\"VirtualSites\"].get_parameter({\"type\": \"DivalentLonePair\"})[\n",
    "    0\n",
    "].to_dict()\n"
   ]
  },
  {
   "cell_type": "code",
   "execution_count": null,
   "id": "064f918b-2651-4fdb-b87c-33fdfcd8c619",
   "metadata": {},
   "outputs": [],
   "source": [
    "run(\"O\", name=\"tip4p_fb\", force_field=ForceField(\"tip4p_fb.offxml\"))"
   ]
  },
  {
   "cell_type": "code",
   "execution_count": null,
   "id": "283b6668-f8b0-472b-b20e-43f606512223",
   "metadata": {},
   "outputs": [],
   "source": [
    "ForceField(\"tip5p.offxml\")[\"VirtualSites\"].get_parameter({\"type\": \"DivalentLonePair\"})[\n",
    "    0\n",
    "].to_dict()\n"
   ]
  },
  {
   "cell_type": "code",
   "execution_count": null,
   "id": "16ea8d49-ae8e-4ca8-949b-85b89449c520",
   "metadata": {},
   "outputs": [],
   "source": [
    "run(\"O\", name=\"tip5p\", force_field=ForceField(\"tip5p.offxml\"))"
   ]
  },
  {
   "cell_type": "markdown",
   "id": "11e1b5ac-cca8-40a0-a5dc-6694de87fd32",
   "metadata": {},
   "source": [
    "## `TrivalentLonePair` virtual site\n",
    "\n",
    "This is suitable for planar or tetrahedral nitrogen lone pairs; a charge site `S` lies above the central atom (blue) a distance `d` along the vector perpendicular to the plane of the other three indexed atoms (2,3,4). With positive values of `d` the site lies above the central atom and with negative values it lies below.\n",
    "\n",
    "![](https://raw.githubusercontent.com/openforcefield/openff-docs/main/source/workshops/2024/vignettes/images/vsite_trivalent.jpg)"
   ]
  },
  {
   "cell_type": "code",
   "execution_count": null,
   "id": "73e2ba9b-42d9-422e-8e76-b2f9c265f98c",
   "metadata": {},
   "outputs": [],
   "source": [
    "sage_with_example_virtual_sites[\"VirtualSites\"].get_parameter(\n",
    "    {\"type\": \"TrivalentLonePair\"}\n",
    ")[0].to_dict()"
   ]
  },
  {
   "cell_type": "code",
   "execution_count": null,
   "id": "be59b383-eec9-47f6-a853-1bb75646fd0c",
   "metadata": {},
   "outputs": [],
   "source": [
    "run(\"N\", name=\"trivalent_nitrogen\")"
   ]
  },
  {
   "cell_type": "markdown",
   "id": "0964f982-995e-499f-84eb-76d816735c43",
   "metadata": {},
   "source": [
    "## Multiple virtual sites\n",
    "\n",
    "Each of the molecules shown so far was selected to only have a single virtual site added, but larger molecules may have multiple copies of different types of virtual sites added."
   ]
  },
  {
   "cell_type": "code",
   "execution_count": null,
   "id": "21af3ed7-d83d-445c-8f57-4fd926bd4d7d",
   "metadata": {},
   "outputs": [],
   "source": [
    "run(\"c1(Cl)c(Cl)c(CCCN)c(Cl)c(Cl)c1CCC(=O)\", \"many_vsites\")"
   ]
  },
  {
   "cell_type": "code",
   "execution_count": null,
   "id": "e570e933-85cd-49e5-abd7-9da8dd598b91",
   "metadata": {},
   "outputs": [],
   "source": []
  },
  {
   "cell_type": "markdown",
   "id": "4aee8e4f-f6a7-4753-b655-c69aebdb8b88",
   "metadata": {},
   "source": [
    "# Ligand modification with RDKit\n",
    "\n",
    "This notebook demonstrates loading and modifying a molecule with RDKit."
   ]
  },
  {
   "attachments": {},
   "cell_type": "markdown",
   "id": "09155781",
   "metadata": {},
   "source": [
    "## OpenFF Code"
   ]
  },
  {
   "cell_type": "code",
   "execution_count": null,
   "id": "cf0b4910",
   "metadata": {},
   "outputs": [],
   "source": [
    "from openff.toolkit import ForceField, Molecule, Topology\n",
    "\n",
    "orig_ligand = Molecule.from_file(\"inputs/PT2385.sdf\")\n",
    "orig_top = Topology.from_pdb(\n",
    "    \"inputs/solvated_complex.pdb\", unique_molecules=[orig_ligand]\n",
    ")\n",
    "ff = ForceField(\"openff-2.2.0.offxml\", \"ff14sb_off_impropers_0.0.4.offxml\")"
   ]
  },
  {
   "cell_type": "code",
   "execution_count": null,
   "id": "07b32834",
   "metadata": {},
   "outputs": [],
   "source": [
    "orig_ligand.visualize(backend=\"rdkit\")"
   ]
  },
  {
   "attachments": {},
   "cell_type": "markdown",
   "id": "bebac5bf",
   "metadata": {},
   "source": [
    "## RDKit Code"
   ]
  },
  {
   "cell_type": "code",
   "execution_count": null,
   "id": "aa9e07ab",
   "metadata": {},
   "outputs": [],
   "source": [
    "# Use RDKit's reaction handling to try mutating each aliphatic C-H bond to C-F\n",
    "import rdkit\n",
    "\n",
    "rdmol = orig_ligand.to_rdkit()\n",
    "rxn = rdkit.Chem.rdChemReactions.ReactionFromSmarts(\"[C:1][H:2] >> [C:1][F:2]\")\n",
    "unsanitized_products = rxn.RunReactants([rdmol])\n",
    "\n",
    "# Since some substitutions won't actually lead to a \"new\" molecule, only keep\n",
    "# unique molecules\n",
    "products = set()\n",
    "for (product,) in unsanitized_products:\n",
    "    mol_copy = rdkit.Chem.Mol(product)\n",
    "    \n",
    "    rdkit.Chem.SanitizeMol(mol_copy, rdkit.Chem.SANITIZE_ALL)\n",
    "    rdkit.Chem.AssignStereochemistryFrom3D(mol_copy)\n",
    "    rdkit.Chem.Kekulize(mol_copy, clearAromaticFlags=True)\n",
    "    rdkit.Chem.SetAromaticity(mol_copy, rdkit.Chem.AromaticityModel.AROMATICITY_MDL)\n",
    "    \n",
    "    products.add(Molecule.from_rdkit(mol_copy))"
   ]
  },
  {
   "cell_type": "code",
   "execution_count": null,
   "id": "30e2afcb-54c8-4924-af60-06f38bd47b84",
   "metadata": {},
   "outputs": [],
   "source": [
    "def display_molecule_grid(molecules, item_width=200):\n",
    "    import ipywidgets as widgets\n",
    "    \n",
    "    items = []\n",
    "    for product in products:\n",
    "        item = widgets.Output()\n",
    "        item.append_display_data(product.visualize('rdkit', width=item_width))\n",
    "        items.append(item)\n",
    "        \n",
    "    return widgets.GridBox(\n",
    "        items, \n",
    "        layout=widgets.Layout(grid_template_columns=f\"repeat(3, {item_width+10}px)\")\n",
    "    )\n",
    "display_molecule_grid(products)"
   ]
  },
  {
   "attachments": {},
   "cell_type": "markdown",
   "id": "f44f3204",
   "metadata": {},
   "source": [
    "## OpenFF and OpenMM Code"
   ]
  },
  {
   "cell_type": "code",
   "execution_count": null,
   "id": "62decb99",
   "metadata": {},
   "outputs": [],
   "source": [
    "import openmm\n",
    "from openff.units import Quantity, unit\n",
    "from openmm import unit as openmm_unit\n",
    "\n",
    "idx_to_sim = dict()\n",
    "n_systems = len(products)\n",
    "\n",
    "for idx, unique_offmol in enumerate(products):\n",
    "    print(f\"Making topology {idx+1}/{n_systems}\")\n",
    "\n",
    "    # Create a new topology from the with all but the last molecule (the ligand)\n",
    "    this_top = Topology.from_molecules([*orig_top.molecules][:-1] + [unique_offmol])\n",
    "    this_top.box_vectors = orig_top.box_vectors\n",
    "    pdb_filename = f\"topology{idx+1}.pdb\"\n",
    "    this_top.to_file(pdb_filename)\n",
    "\n",
    "    print(f\"Parametrizing system {idx+1}/{n_systems}\")\n",
    "    integrator = openmm.LangevinIntegrator(\n",
    "        300 * openmm_unit.kelvin,\n",
    "        1 / openmm_unit.picosecond,\n",
    "        0.002 * openmm_unit.picoseconds,\n",
    "    )\n",
    "    \n",
    "    simulation = ff.create_interchange(this_top).to_openmm_simulation(integrator)\n",
    "\n",
    "    print(f\"Minimizing system {idx+1}/{n_systems}\")\n",
    "    simulation.minimizeEnergy()\n",
    "    \n",
    "    print(f\"Simulating system {idx+1}/{n_systems}\")\n",
    "    traj_filename = f\"trajectory_{idx+1}.dcd\"\n",
    "    dcd_reporter = openmm.app.DCDReporter(traj_filename, 50)\n",
    "    simulation.reporters.append(dcd_reporter)\n",
    "    simulation.context.setVelocitiesToTemperature(300 * openmm_unit.kelvin)\n",
    "    simulation.runForClockTime(15 * openmm_unit.second)\n",
    "    idx_to_sim[idx + 1] = {\n",
    "        \"topology\": this_top,\n",
    "        \"pdb_filename\": pdb_filename,\n",
    "        \"simulation\": simulation,\n",
    "        \"trajectory\": traj_filename,\n",
    "    }"
   ]
  },
  {
   "attachments": {},
   "cell_type": "markdown",
   "id": "ac881f53",
   "metadata": {},
   "source": [
    "## NGLView"
   ]
  },
  {
   "cell_type": "code",
   "execution_count": null,
   "id": "6face02a",
   "metadata": {},
   "outputs": [],
   "source": [
    "import mdtraj\n",
    "import nglview\n",
    "\n",
    "SIM_TO_VISUALIZE = 1\n",
    "\n",
    "trajectory: mdtraj.Trajectory = mdtraj.load(\n",
    "    idx_to_sim[SIM_TO_VISUALIZE][\"trajectory\"],\n",
    "    top=mdtraj.load(idx_to_sim[SIM_TO_VISUALIZE][\"pdb_filename\"]).topology,\n",
    ")\n",
    "\n",
    "view = nglview.show_mdtraj(trajectory.image_molecules())\n",
    "view.add_representation(\"line\", selection=\"water\")\n",
    "view.add_representation(\n",
    "    \"hyperball\", radiusSize=1, radiusScale=0.5, selection=\"not protein and not water\"\n",
    ")\n",
    "view"
   ]
  },
  {
   "cell_type": "code",
   "execution_count": null,
   "id": "49d0e6e1-e0e3-4202-9e90-1ab2b6961e14",
   "metadata": {},
   "outputs": [],
   "source": []
  },
  {
   "attachments": {},
   "cell_type": "markdown",
   "id": "a868818f",
   "metadata": {},
   "source": [
    "# Retrieving datasets from QCFractal with `openff-qcsubmit`\n",
    "\n",
    "**Based on the existing example**: https://github.com/openforcefield/openff-qcsubmit/blob/main/examples/retrieving-results.ipynb\n",
    "\n",
    "This example shows how QCSubmit can be used to retrieve the results of quantum chemical (QC) calculations from a [QCFractal] instance such as [QCArchive].\n",
    "\n",
    "In particular, it demonstrates how:\n",
    "\n",
    "* raw torsion drive, optimised geometry and hessian result records can be retrieved from the public\n",
    "  [QCArchive] server and stored in a result collection\n",
    "\n",
    "* the retrieved result records can be filtered and curated using a set of built-in filters\n",
    "\n",
    "* the result collection can be saved and loaded from disk\n",
    "\n",
    "[QCFractal]: http://docs.qcarchive.molssi.org/projects/qcfractal/en/latest/\n",
    "[QCArchive]: https://qcarchive.molssi.org/\n",
    "\n",
    "For the sake of clarity all verbose warnings will be disabled in this tutorial:"
   ]
  },
  {
   "cell_type": "code",
   "execution_count": null,
   "id": "21b7f1f5",
   "metadata": {
    "pycharm": {
     "name": "#%%\n"
    }
   },
   "outputs": [],
   "source": [
    "import warnings\n",
    "\n",
    "warnings.filterwarnings(\"ignore\")\n",
    "import logging\n",
    "\n",
    "logging.getLogger(\"openff.toolkit\").setLevel(logging.ERROR)"
   ]
  },
  {
   "attachments": {},
   "cell_type": "markdown",
   "id": "e1d9d3f7",
   "metadata": {
    "pycharm": {
     "name": "#%% md\n"
    }
   },
   "source": [
    "## Retrieving result collections\n",
    "\n",
    "QCSubmit provides a suite of utilities for retrieving and curating collections of QC results directly from a running QCFractal server, or an already computed QCPortal dataset. This functionality is provided through three main classes:\n",
    "\n",
    "* `BasicResultCollection` - stores references to simple QCPortal result record that may contain energies, gradients, or hessians computed for a molecule in a single conformation.\n",
    "\n",
    "* `OptimizationResultCollection` - stores references to full optimization result records (i.e. `OptimizationRecord`\n",
    "  objects), as well as the final minimised conformer produced by the optimization.\n",
    "\n",
    "* `TorsionDriveResultCollection` - stores references to full torsion drive result records (i.e. `TorsionDriveRecord`\n",
    "  objects), as well as the minimum energy conformer associated with each torsion angle that was scanned.\n",
    "\n",
    "Each of these collections can be generated directly from a running `QCFractal` server using the `from_server` class\n",
    "method.\n",
    "\n",
    "We begin by creating a QCPortal `FractalClient` instance that will allow us to communicate with the running\n",
    "server. By default, `FractalClient` connects to the main QCArchive server:"
   ]
  },
  {
   "cell_type": "code",
   "execution_count": null,
   "id": "7ec53772",
   "metadata": {
    "pycharm": {
     "name": "#%%\n"
    }
   },
   "outputs": [],
   "source": [
    "from qcportal import PortalClient\n",
    "\n",
    "qc_client = PortalClient(\"https://api.qcarchive.molssi.org:443\")"
   ]
  },
  {
   "attachments": {},
   "cell_type": "markdown",
   "id": "bb9705e5",
   "metadata": {
    "pycharm": {
     "name": "#%% md\n"
    }
   },
   "source": [
    "Other servers can be accessed by providing the server's URI.\n",
    "\n",
    "We can then use this to generate our result collections:"
   ]
  },
  {
   "cell_type": "code",
   "execution_count": null,
   "id": "8669729e",
   "metadata": {
    "pycharm": {
     "name": "#%%\n"
    },
    "scrolled": true
   },
   "outputs": [],
   "source": [
    "from openff.qcsubmit.results import (\n",
    "    BasicResultCollection,\n",
    "    OptimizationResultCollection,\n",
    "    TorsionDriveResultCollection,\n",
    ")\n",
    "\n",
    "# Pull down the torsion drive records from the 'OpenFF Protein Capped 3-mer Backbones v1.0' dataset.\n",
    "torsion_drive_result_collection = TorsionDriveResultCollection.from_server(\n",
    "    client=qc_client,\n",
    "    datasets=\"OpenFF Protein Capped 3-mer Backbones v1.0\",\n",
    "    spec_name=\"default\",\n",
    ")"
   ]
  },
  {
   "attachments": {},
   "cell_type": "markdown",
   "id": "1d0dae9c",
   "metadata": {
    "pycharm": {
     "name": "#%% md\n"
    }
   },
   "source": [
    "*Note: currently only complete results are pulled down by the `from_server` method*\n",
    "\n",
    "There are two main inputs to the `from_server` method, in addition to the fractal client:\n",
    "\n",
    "* the name(s) of the existing datasets to retrieve the results of. This can either be the name of a single dataset or a list of dataset names\n",
    "* the name of the specification used to compute the records. Each specification corresponds to a particular basis, method, program and additional settings.\n",
    "\n",
    "Let's print out some basic information about each of these result collections:"
   ]
  },
  {
   "cell_type": "code",
   "execution_count": null,
   "id": "cbcd16da",
   "metadata": {
    "pycharm": {
     "name": "#%%\n"
    }
   },
   "outputs": [],
   "source": [
    "print(\"===TORSION DRIVE RESULTS===\")\n",
    "\n",
    "print(f\"N RESULTS:   {torsion_drive_result_collection.n_results}\")\n",
    "print(f\"N MOLECULES: {torsion_drive_result_collection.n_molecules}\")"
   ]
  },
  {
   "attachments": {},
   "cell_type": "markdown",
   "id": "b540312e",
   "metadata": {
    "pycharm": {
     "name": "#%% md\n"
    }
   },
   "source": [
    "This allows results generated by multiple different servers (e.g. a local fractal instance and the public QCArchive\n",
    "server) to be stored in a single result collection object.\n",
    "\n",
    "The references to the actual data are then stored in corresponding lists:"
   ]
  },
  {
   "cell_type": "code",
   "execution_count": null,
   "id": "e70715d6",
   "metadata": {
    "pycharm": {
     "name": "#%%\n"
    }
   },
   "outputs": [],
   "source": [
    "torsion_drive_result_collection.entries[qc_client.address][:10]"
   ]
  },
  {
   "attachments": {},
   "cell_type": "markdown",
   "id": "c5695286",
   "metadata": {
    "pycharm": {
     "name": "#%% md\n"
    }
   },
   "source": [
    "After running the above command, notice that the entries stored in the collection are not the actual result\n",
    "records generated and stored on the server, but rather a reference to them. In particular, the unique ID of the record is stored along with a SMILES depiction of the molecule the result was generated for.\n",
    "\n",
    "The main reason for doing this is that we often would like to be able to state which data we would like to use in\n",
    "an application without having to create multiple copies of the data. Not only can this take up large amounts of disk space, it runs the risk of data becoming out of sync with the original if the format the records are stored in changes or the local copy of the data is accidentally mutated. Storing a reference to the original data and then retrieving it when needed is typically a cleaner and safer solution.\n",
    "\n",
    "## Retrieving the result records\n",
    "\n",
    "The raw result record objects can be easily retrieved using the result collection objects. This allows us to filter the collection to only retrieve the results we want. For example, we can apply a SMARTS string to retrieve the cysteine record:"
   ]
  },
  {
   "cell_type": "code",
   "execution_count": null,
   "id": "ba06d9de",
   "metadata": {},
   "outputs": [],
   "source": [
    "from openff.qcsubmit.results.filters import SMARTSFilter\n",
    "\n",
    "filtered_collection = torsion_drive_result_collection.filter(SMARTSFilter(smarts_to_include=[\"C[SH]\"]))\n",
    "filtered_collection"
   ]
  },
  {
   "cell_type": "markdown",
   "id": "62d2b53d",
   "metadata": {},
   "source": [
    "Then we can download the actual results. This can be very slow, so it's worth filtering aggressively:"
   ]
  },
  {
   "cell_type": "code",
   "execution_count": null,
   "id": "067f6de7",
   "metadata": {
    "pycharm": {
     "name": "#%%\n"
    },
    "scrolled": true
   },
   "outputs": [],
   "source": [
    "torsion_drive_records = filtered_collection.to_records()\n",
    "torsion_drive_records"
   ]
  },
  {
   "attachments": {},
   "cell_type": "markdown",
   "id": "33a913bb",
   "metadata": {
    "pycharm": {
     "name": "#%% md\n"
    }
   },
   "source": [
    "QCSubmit seamlessly takes care of pulling the data from the server in the most efficient way making sure to take\n",
    "advantage of the pagination that QCFractal provides. Further, it attempts to cache all calls to the server so that\n",
    "multiple calls to `to_records` does not need to constantly query the server.\n",
    "\n",
    "Notice that not only are the raw result records retrieved, but also an OpenFF `Molecule` object is created for each result record. This molecule has the correct ordering and also stores any conformers associated with the\n",
    "result collection. For basic collections, the conformer is the one that was used in any calculations; for optimization collections, it is the final conformer yielded by the optimization; and for torsion drives, it is the lowest energy conformer for each sampled torsion angle.\n",
    "\n",
    "## Inspecting results\n",
    "\n",
    "In the case of torsion drive records, we can easily iterate over the grid ID, the associated conformer, and the\n",
    "associated energy in one go:"
   ]
  },
  {
   "cell_type": "code",
   "execution_count": null,
   "id": "71dc2247",
   "metadata": {
    "pycharm": {
     "name": "#%%\n"
    },
    "scrolled": true
   },
   "outputs": [],
   "source": [
    "torsion_drive_record, molecule = torsion_drive_records[0]\n",
    "import numpy as np\n",
    "from matplotlib import pyplot\n",
    "from openff.units import unit\n",
    "\n",
    "energy_grid = np.zeros((24, 24))\n",
    "psi_labels = [\"\"] * 24\n",
    "phi_labels = [\"\"] * 24\n",
    "for (phi, psi), qc_conformer in zip(\n",
    "    molecule.properties[\"grid_ids\"], molecule.conformers\n",
    "):\n",
    "    qc_energy = torsion_drive_record.final_energies[(phi, psi)]\n",
    "\n",
    "    phi_bin = int(phi + 165) // 15\n",
    "    psi_bin = int(psi + 165) // 15\n",
    "    energy_grid[psi_bin, phi_bin] = qc_energy\n",
    "    psi_labels[psi_bin] = psi\n",
    "    phi_labels[phi_bin] = phi\n",
    "    # print(f\"({phi}, {psi}) {phi_bin},{psi_bin} E={qc_energy:.4f} Ha\")"
   ]
  },
  {
   "cell_type": "code",
   "execution_count": null,
   "id": "63b4665a",
   "metadata": {},
   "outputs": [],
   "source": [
    "import plotly.graph_objects as go\n",
    "from ipywidgets import widgets\n",
    "\n",
    "fig = go.FigureWidget(\n",
    "    data=go.Heatmap(\n",
    "        z=energy_grid,\n",
    "        x=phi_labels,\n",
    "        y=psi_labels,\n",
    "        colorbar={\"title\": \"Energy (Ha)\"},\n",
    "        hovertemplate=\"phi: %{x}\\npsi: %{y}\\nenergy: %{z} Ha\",\n",
    "    ),\n",
    "    layout=go.Layout(\n",
    "        title=\"Val-Ala-Val - central backbone torsiondrive (Ha)\",\n",
    "        xaxis_title=\"Phi\",\n",
    "        yaxis_title=\"Psi\",\n",
    "        # autosize=False,\n",
    "        yaxis_scaleanchor=\"x\",\n",
    "        xaxis_scaleanchor=\"y\",\n",
    "    ),\n",
    ")\n",
    "\n",
    "view = molecule.visualize(\"nglview\")\n",
    "\n",
    "def on_click(trace, points, selector):\n",
    "    print(points)\n",
    "    for x, y in points.point_inds:\n",
    "        view.frame = x * 24 + y\n",
    "\n",
    "\n",
    "heatmap = fig.data[0]\n",
    "heatmap.on_click(on_click)\n",
    "\n",
    "container = widgets.GridBox(\n",
    "    [fig, view],\n",
    "    # layout=widgets.Layout(grid_template_columns=f\"repeat(2, {600}px)\"),\n",
    ")\n",
    "container"
   ]
  },
  {
   "cell_type": "code",
   "execution_count": null,
   "id": "d9c4a7f6",
   "metadata": {},
   "outputs": [],
   "source": []
  },
  {
   "attachments": {},
   "cell_type": "markdown",
   "id": "e88feef8",
   "metadata": {},
   "source": [
    "# Vectorized Interchange representations"
   ]
  },
  {
   "cell_type": "code",
   "execution_count": null,
   "id": "68f19def-424c-44e6-b4cf-a3d5626caafe",
   "metadata": {},
   "outputs": [],
   "source": [
    "import numpy\n",
    "from openff.interchange import Interchange\n",
    "from openff.toolkit import ForceField, Molecule\n",
    "from rich.pretty import pprint"
   ]
  },
  {
   "cell_type": "code",
   "execution_count": null,
   "id": "5300ec45-461e-467c-b294-1f477f919a18",
   "metadata": {},
   "outputs": [],
   "source": [
    "sage = ForceField(\"openff_unconstrained-2.2.0.offxml\")\n",
    "molecule = Molecule.from_smiles(r\"F\\C=C/F\")\n",
    "interchange = Interchange.from_smirnoff(sage, [molecule])\n",
    "\n",
    "pprint(interchange.collections.keys())"
   ]
  },
  {
   "cell_type": "code",
   "execution_count": null,
   "id": "ef7efb86",
   "metadata": {},
   "outputs": [],
   "source": [
    "molecule.visualize()"
   ]
  },
  {
   "attachments": {},
   "cell_type": "markdown",
   "id": "955df27d-5f32-4b9a-9f28-017a8182012a",
   "metadata": {},
   "source": [
    "`Interchange`s from SMIRNOFF force fields contain collections for several different types of parameters. For simplicity, let's look at the bond collection."
   ]
  },
  {
   "cell_type": "code",
   "execution_count": null,
   "id": "a6469d55-6dbd-499e-806e-894c6e954b4d",
   "metadata": {},
   "outputs": [],
   "source": [
    "collection = interchange.collections[\"Bonds\"]"
   ]
  },
  {
   "attachments": {},
   "cell_type": "markdown",
   "id": "62f02d2b-461b-49a3-8090-a9b7eae39662",
   "metadata": {},
   "source": [
    "`Collection`s store force field parameters and information about how they related to the topology they are applied to. In addition, they include some handy methods for transforming these to vectorized representations."
   ]
  },
  {
   "cell_type": "code",
   "execution_count": null,
   "id": "d402a994-f245-45a4-8203-8a95c64c2f44",
   "metadata": {},
   "outputs": [],
   "source": [
    "# Parameters from the force field; one row per force field parameter\n",
    "\n",
    "pprint(collection.get_force_field_parameters())"
   ]
  },
  {
   "attachments": {},
   "cell_type": "markdown",
   "id": "3b03d184-3da6-4e4a-a353-1cceb2a23151",
   "metadata": {},
   "source": [
    "`Collection.get_force_field_parameters` returns an array with one row per unique force field parameter used and one colum per number in each parameter. For this molecule, that means three rows (C-F, C#C, and C-H chemistries) and two columns (`k` and `length`). This matrix scales with the number of unique force field parameters used so it will not generally scale with system size."
   ]
  },
  {
   "cell_type": "code",
   "execution_count": null,
   "id": "44396e2a-2295-4921-8e64-8e2b6d644ddf",
   "metadata": {},
   "outputs": [],
   "source": [
    "# Parameters assigned to the system; one row per atom\n",
    "\n",
    "pprint(collection.get_system_parameters())"
   ]
  },
  {
   "attachments": {},
   "cell_type": "markdown",
   "id": "0ccc44b5-5f8a-4392-b5ef-5dea1e8efcc4",
   "metadata": {},
   "source": [
    "`Collection.get_system_field_parameters` returns a similar array but with one row per bond in the topology, including duplicates. Since there are two C-H and two C-F bonds, those parameters each appear twice. This matrix scales with the size of the system (in this case, number of bonds) so it may be large for large systems."
   ]
  },
  {
   "cell_type": "code",
   "execution_count": null,
   "id": "e1135c18-2f3a-4c8e-afd0-6333321a035a",
   "metadata": {},
   "outputs": [],
   "source": [
    "# Mapping from atoms to force field parameters; one row per value per atom\n",
    "# bonds have lengths and force constants, so two rows per atom in this case\n",
    "\n",
    "pprint(collection.get_param_matrix())"
   ]
  },
  {
   "attachments": {},
   "cell_type": "markdown",
   "id": "fca0a4c2-8146-4e97-b149-4d1b2f9f03e4",
   "metadata": {},
   "source": [
    "It may be useful to encode the relationships between force field parameters and where in the topology they're applied. This is handled by `collection.get_param_matrix()`, which returns a spare matrix. Each column corresponds to a force field parameter and each row corresponds to a bond that could be associated with each, each dimension being a flattened representation of the above matrices. A 1 indicates that a parameter is applied to that bond, a 0 indicates that it is not. For example, the 1 at `[0, 0]` indicates that the first bond gets assigned the first `k` value. The 1 at `[7, 1]` indicates that the fourth bond gets assigned the first `length`.\n",
    "\n",
    "Conveniently, the dot product of this matrix with a flattened view of the force field parameters is equal to the view of the system parameters we saw above."
   ]
  },
  {
   "cell_type": "code",
   "execution_count": null,
   "id": "c3661137-ed47-4d63-8dda-94c450d5a7e5",
   "metadata": {},
   "outputs": [],
   "source": [
    "dotted = numpy.dot(\n",
    "    interchange[\"Bonds\"].get_param_matrix(),\n",
    "    interchange[\"Bonds\"].get_force_field_parameters().flatten(),\n",
    ").reshape((-1, 2))\n",
    "\n",
    "assert numpy.allclose(dotted, collection.get_system_parameters())\n",
    "\n",
    "pprint(dotted)"
   ]
  },
  {
   "cell_type": "code",
   "execution_count": null,
   "id": "3ba6e5c3-e457-4436-880c-8c05fd299030",
   "metadata": {},
   "outputs": [],
   "source": []
  },
  {
   "cell_type": "markdown",
   "id": "ad0fe726",
   "metadata": {},
   "source": [
    "# Lipid Micelle Self-assembly\n",
    "\n",
    "This notebook prepares a DLPC micelle self assembly simulation.\n",
    "\n",
    "This notebook is YELLOW because:\n",
    "\n",
    "- Sage is not validated for lipids\n",
    "- `pack_box` is an experimental private function"
   ]
  },
  {
   "cell_type": "code",
   "execution_count": null,
   "id": "1949e989",
   "metadata": {
    "tags": []
   },
   "outputs": [],
   "source": [
    "from io import StringIO\n",
    "\n",
    "import mdtraj\n",
    "import nglview\n",
    "import numpy as np\n",
    "import openmm\n",
    "from openff.interchange import Interchange\n",
    "from openff.interchange.components._packmol import pack_box\n",
    "from openff.toolkit import ForceField, Molecule, Topology\n",
    "from openff.units import unit"
   ]
  },
  {
   "cell_type": "code",
   "execution_count": null,
   "id": "9031fe9a",
   "metadata": {
    "tags": []
   },
   "outputs": [],
   "source": [
    "dlpc = Molecule.from_file(\"inputs/dlpc.sdf\")\n",
    "lipids = [dlpc]\n",
    "\n",
    "conc_nacl = 0.1 * unit.mole / unit.liter\n",
    "n_waters = 8000\n",
    "n_lipids = [25]\n",
    "target_density = 1.0 * unit.gram / unit.milliliter"
   ]
  },
  {
   "cell_type": "code",
   "execution_count": null,
   "id": "9eda13a1",
   "metadata": {
    "tags": []
   },
   "outputs": [],
   "source": [
    "water = Molecule.from_smiles(\"O\")\n",
    "na = Molecule.from_smiles(\"[Na+]\")\n",
    "cl = Molecule.from_smiles(\"[Cl-]\")\n",
    "\n",
    "for atom in water.atoms:\n",
    "    atom.metadata[\"residue_name\"] = \"HOH\"\n",
    "\n",
    "for atom in na.atoms:\n",
    "    atom.metadata[\"residue_name\"] = \"NA+\"\n",
    "\n",
    "for atom in cl.atoms:\n",
    "    atom.metadata[\"residue_name\"] = \"CL-\"\n",
    "\n",
    "molarity_pure_water = 55.5 * unit.mole / unit.liter\n",
    "n_nacl = int((n_waters / molarity_pure_water * conc_nacl).to(unit.dimensionless).m)\n",
    "molecules = [*lipids, water, na, cl]\n",
    "n_copies = [*n_lipids, n_waters, n_nacl, n_nacl]\n",
    "\n",
    "total_mass = sum(\n",
    "    [\n",
    "        sum([atom.mass for atom in molecule.atoms]) * n\n",
    "        for molecule, n in zip(molecules, n_copies)\n",
    "    ]\n",
    ")\n",
    "target_volume = (total_mass / target_density).to(unit.nanometer**3)\n",
    "box_vectors = np.asarray([[1, 0, 0], [0, 1, 0], [0, 0, 1]]) * np.cbrt(target_volume)\n",
    "\n",
    "top = pack_box(\n",
    "    molecules,\n",
    "    n_copies,\n",
    "    box_vectors=box_vectors,\n",
    "    tolerance=0.05 * unit.nanometer,\n",
    ")"
   ]
  },
  {
   "cell_type": "code",
   "execution_count": null,
   "id": "e0074110-6015-4bb3-a07b-009b84cdbc08",
   "metadata": {},
   "outputs": [],
   "source": [
    "top.to_file(\"micelle-self-assembly-start.pdb\")"
   ]
  },
  {
   "cell_type": "code",
   "execution_count": null,
   "id": "b18b34f3",
   "metadata": {
    "tags": []
   },
   "outputs": [],
   "source": [
    "w = top.visualize()\n",
    "w.add_representation(\"line\", selection=\"water\")\n",
    "w"
   ]
  },
  {
   "cell_type": "code",
   "execution_count": null,
   "id": "bbdbfea4",
   "metadata": {
    "tags": []
   },
   "outputs": [],
   "source": [
    "sage = ForceField(\"openff-2.2.0.offxml\")"
   ]
  },
  {
   "cell_type": "code",
   "execution_count": null,
   "id": "8541c4d4",
   "metadata": {
    "tags": []
   },
   "outputs": [],
   "source": [
    "interchange = Interchange.from_smirnoff(sage, top, charge_from_molecules=[dlpc])"
   ]
  },
  {
   "cell_type": "code",
   "execution_count": null,
   "id": "7be76a3b",
   "metadata": {
    "tags": []
   },
   "outputs": [],
   "source": [
    "simulation = interchange.to_openmm_simulation(\n",
    "    integrator=openmm.LangevinMiddleIntegrator(\n",
    "        300 * openmm.unit.kelvin,\n",
    "        1 / openmm.unit.picosecond,\n",
    "        2 * openmm.unit.femtosecond,\n",
    "    )\n",
    ")"
   ]
  },
  {
   "cell_type": "code",
   "execution_count": null,
   "id": "41a7d618",
   "metadata": {
    "tags": []
   },
   "outputs": [],
   "source": [
    "simulation.minimizeEnergy()\n",
    "minimized_state = simulation.context.getState(\n",
    "    getPositions=True, getEnergy=True, getForces=True\n",
    ")\n",
    "\n",
    "print(\n",
    "    \"Minimised to\",\n",
    "    minimized_state.getPotentialEnergy(),\n",
    "    \"with maximum force\",\n",
    "    max(\n",
    "        np.sqrt(v.x * v.x + v.y * v.y + v.z * v.z) for v in minimized_state.getForces()\n",
    "    ),\n",
    "    minimized_state.getForces().unit.get_symbol(),\n",
    ")\n",
    "\n",
    "minimized_coords = minimized_state.getPositions()"
   ]
  },
  {
   "cell_type": "code",
   "execution_count": null,
   "id": "5df91fb9-a50e-4662-9629-677e269291b3",
   "metadata": {},
   "outputs": [],
   "source": [
    "simulation.system.addForce(\n",
    "    openmm.MonteCarloBarostat(\n",
    "        1.0 * openmm.unit.bar,\n",
    "        simulation.integrator.getTemperature(),\n",
    "    )\n",
    ")\n",
    "simulation.context.reinitialize(preserveState=True)"
   ]
  },
  {
   "cell_type": "code",
   "execution_count": null,
   "id": "d3db2ebd",
   "metadata": {
    "tags": []
   },
   "outputs": [],
   "source": [
    "# Add a reporter to record the structure every data_freq steps\n",
    "data_freq = 10000\n",
    "dcd_reporter = openmm.app.XTCReporter(\"micelle-self-assembly.xtc\", data_freq)\n",
    "simulation.reporters.append(dcd_reporter)\n",
    "\n",
    "state_data_reporter = openmm.app.StateDataReporter(\n",
    "    \"data.csv\",\n",
    "    data_freq,\n",
    "    step=True,\n",
    "    potentialEnergy=True,\n",
    "    kineticEnergy=True,\n",
    "    temperature=True,\n",
    "    density=True,\n",
    "    elapsedTime=True,\n",
    "    speed=True,\n",
    ")\n",
    "simulation.reporters.append(state_data_reporter)"
   ]
  },
  {
   "cell_type": "code",
   "execution_count": null,
   "id": "cab1fcb5",
   "metadata": {
    "tags": []
   },
   "outputs": [],
   "source": [
    "# simulation_time = 10 * unit.nanosecond\n",
    "# steps = round((simulation_time / delta_t).to(unit.dimensionless).m)\n",
    "# simulation.step(steps)"
   ]
  },
  {
   "cell_type": "markdown",
   "id": "31571d4e-f00e-4f2d-82e6-c6f5a9e38a41",
   "metadata": {},
   "source": [
    "## Visualisation"
   ]
  },
  {
   "cell_type": "code",
   "execution_count": null,
   "id": "1d7ea7bf",
   "metadata": {
    "tags": []
   },
   "outputs": [],
   "source": [
    "import mdtraj\n",
    "import nglview\n",
    "\n",
    "trajectory: mdtraj.Trajectory = mdtraj.load(\n",
    "    # \"micelle-self-assembly.xtc\", \n",
    "    \"micelle-self-assembly-backup.xtc\", \n",
    "    # top=mdtraj.load(\"micelle-self-assembly-start.pdb\").top, \n",
    "    top=mdtraj.load(\"micelle-self-assembly-start-backup.pdb\").top, \n",
    "    stride=10,\n",
    ")\n",
    "\n",
    "# trajectory.image_molecules()\n",
    "\n",
    "view = nglview.show_mdtraj(trajectory)\n",
    "view.clear()\n",
    "view.add_representation(\n",
    "    \"spacefill\",\n",
    "    selection=f\"HOH NA+ CL-\",\n",
    "    opacity=0.1,\n",
    ")\n",
    "view.add_representation(\"licorice\", selection=\"NOT (HOH NA+ CL-)\")\n",
    "view.add_unitcell()\n",
    "view"
   ]
  },
  {
   "cell_type": "code",
   "execution_count": null,
   "id": "5453d01a-4e5e-473d-b653-b69c39979df8",
   "metadata": {},
   "outputs": [],
   "source": []
  },
  {
   "cell_type": "markdown",
   "id": "3b803f66-eb6b-49b5-91dd-f20c7b725b65",
   "metadata": {},
   "source": [
    "# RNA simulation from OpenMM force field\n",
    "\n",
    "This notebook is YELLOW because:\n",
    "- Sage has not been validated to work with Amber force fields and has a different partial charge philosophy\n",
    "- Many of the functions used are experimental"
   ]
  },
  {
   "cell_type": "code",
   "execution_count": null,
   "id": "1abb0357-7eae-48ed-b41d-7a5115db36d5",
   "metadata": {},
   "outputs": [],
   "source": [
    "%env INTERCHANGE_EXPERIMENTAL=1"
   ]
  },
  {
   "cell_type": "markdown",
   "id": "656bfbe0-4014-42ec-8b82-13a2fbbb61d0",
   "metadata": {},
   "source": [
    "## Load PDB"
   ]
  },
  {
   "cell_type": "markdown",
   "id": "b9456f86-5885-4c6b-8ab6-13e04bda4615",
   "metadata": {},
   "source": [
    "https://www.ncbi.nlm.nih.gov/pmc/articles/PMC3158920"
   ]
  },
  {
   "cell_type": "code",
   "execution_count": null,
   "id": "caf9513a-5a6f-45d4-beb5-0f04763a03cf",
   "metadata": {},
   "outputs": [],
   "source": [
    "def molecule_from_rna_sequence(sequence):\n",
    "    import random\n",
    "\n",
    "    from openff.toolkit import Molecule\n",
    "    from rdkit import Chem\n",
    "    from rdkit.Chem import AllChem\n",
    "\n",
    "    rna = Chem.MolFromSequence(sequence, flavor=2)\n",
    "\n",
    "    for atom in rna.GetAtoms():\n",
    "        if atom.GetNumImplicitHs() == 1 and [\n",
    "            a.GetSymbol() for a in atom.GetNeighbors()\n",
    "        ] == [\"P\"]:\n",
    "            atom.SetFormalCharge(-1)\n",
    "\n",
    "    Chem.SanitizeMol(rna)\n",
    "    offmol = Molecule.from_rdkit(\n",
    "        rna,\n",
    "        allow_undefined_stereo=True,\n",
    "    )\n",
    "\n",
    "    return offmol\n",
    "\n",
    "\n",
    "ribozyme = molecule_from_rna_sequence(\"GUGGC\")\n",
    "rna_substrate = molecule_from_rna_sequence(\"GCCU\")"
   ]
  },
  {
   "cell_type": "code",
   "execution_count": null,
   "id": "5abc7390-77a1-43a4-9a43-e16ce280922b",
   "metadata": {},
   "outputs": [],
   "source": [
    "from openff.toolkit import ForceField, Molecule, Topology\n",
    "\n",
    "# PheAMP, phenylalanine adenosine monophosphate\n",
    "pheamp = Molecule.from_smiles(\n",
    "    \"c1ccccc1C[C@H](N)C(=O)O[P@]([O-])(=O)OC[C@@H]2[C@@H](O)[C@@H](O)[C@@H](O2)N3C4N=CN=C(N)C=4N=C3\",\n",
    "    allow_undefined_stereo=False,\n",
    ")\n",
    "pheamp.visualize(\"rdkit\", show_all_hydrogens=False)"
   ]
  },
  {
   "cell_type": "code",
   "execution_count": null,
   "id": "041ffd52-f168-4ffd-838b-628fc0cb3026",
   "metadata": {},
   "outputs": [],
   "source": [
    "from openff.toolkit import Topology\n",
    "\n",
    "top = Topology.from_pdb(\n",
    "    \"inputs/ribozymes.pdb\",\n",
    "    unique_molecules=[pheamp, ribozyme, rna_substrate],\n",
    ")\n",
    "top.visualize()"
   ]
  },
  {
   "cell_type": "markdown",
   "id": "52728bca-dad7-42c0-97e1-96b6c1726219",
   "metadata": {},
   "source": [
    "## Split topologies"
   ]
  },
  {
   "cell_type": "code",
   "execution_count": null,
   "id": "94394826-b5c9-436a-8772-57796370f340",
   "metadata": {},
   "outputs": [],
   "source": [
    "molecules = list(top.molecules)\n",
    "\n",
    "rna_top = Topology.from_molecules(molecules[:2])\n",
    "rna_top.box_vectors = top.box_vectors\n",
    "\n",
    "sage_top = Topology.from_molecules(molecules[2:])\n",
    "sage_top.box_vectors = top.box_vectors"
   ]
  },
  {
   "cell_type": "code",
   "execution_count": null,
   "id": "65f1dd4f-f56a-4cc4-80a4-a727aa6cca13",
   "metadata": {},
   "outputs": [],
   "source": [
    "sage_top.visualize()"
   ]
  },
  {
   "cell_type": "markdown",
   "id": "42e6e52e-8afe-4d88-bb08-8682831c1fd4",
   "metadata": {},
   "source": [
    "## Parametrize"
   ]
  },
  {
   "cell_type": "code",
   "execution_count": null,
   "id": "f36379f3-d7b2-4926-a7d3-90a37b20d6dd",
   "metadata": {},
   "outputs": [],
   "source": [
    "from openff.toolkit import ForceField\n",
    "\n",
    "sage = ForceField(\"openff-2.2.0.offxml\")\n",
    "sage_interchange = sage.create_interchange(sage_top)"
   ]
  },
  {
   "cell_type": "code",
   "execution_count": null,
   "id": "b9b3d671-f8fb-4303-bd9d-024bcf5cd48f",
   "metadata": {},
   "outputs": [],
   "source": [
    "from tempfile import NamedTemporaryFile\n",
    "\n",
    "import numpy as np\n",
    "import openmm.app\n",
    "from openff.interchange import Interchange\n",
    "from openff.toolkit import Molecule, Topology\n",
    "from rdkit import Chem\n",
    "\n",
    "openmm_force_field=openmm.app.ForceField(\n",
    "    # \"amber14/protein.ff14SB.xml\",\n",
    "    \"amber14/RNA.OL3.xml\",\n",
    "    # \"amber14/DNA.OL15.xml\",\n",
    "    # \"amber14/lipid17.xml\",\n",
    "    # \"amber14/GLYCAM_06j-1.xml\",\n",
    "    # \"amber14/tip3p.xml\",\n",
    ")\n",
    "\n",
    "openmm_system = openmm_force_field.createSystem(\n",
    "    rna_top.to_openmm(),\n",
    "    nonbondedMethod=openmm.app.PME,\n",
    "    nonbondedCutoff=9 * openmm.unit.angstrom,\n",
    "    switchDistance=8 * openmm.unit.angstrom,\n",
    "    constraints=openmm.app.HBonds,\n",
    "    rigidWater=True,\n",
    ")\n",
    "\n",
    "# Create the Interchange\n",
    "rna_interchange = Interchange.from_openmm(\n",
    "    topology=rna_top,\n",
    "    system=openmm_system,\n",
    "    positions=rna_top.get_positions(),\n",
    ")\n",
    "\n",
    "rna_interchange.visualize()"
   ]
  },
  {
   "cell_type": "markdown",
   "id": "7a77bf08-1b40-41fa-be3e-835f16805d3c",
   "metadata": {},
   "source": [
    "## Combine Interchanges"
   ]
  },
  {
   "cell_type": "code",
   "execution_count": null,
   "id": "5fe9ac62-cf6a-41fa-bb57-240fbcf82985",
   "metadata": {},
   "outputs": [],
   "source": [
    "# Work around a bug in Interchange 0.3.26\n",
    "rna_interchange['Electrostatics'].cutoff = rna_interchange['vdW'].cutoff\n",
    "\n",
    "solvated_interchange = sage_interchange.combine(rna_interchange)"
   ]
  },
  {
   "cell_type": "code",
   "execution_count": null,
   "id": "218da116-1b5a-480d-9203-1e6f61fc3b54",
   "metadata": {},
   "outputs": [],
   "source": [
    "solvated_interchange.visualize()"
   ]
  },
  {
   "cell_type": "markdown",
   "id": "13240aef-a8fc-44f8-a8a3-ab9251bbd76b",
   "metadata": {},
   "source": [
    "## Simulate!"
   ]
  },
  {
   "cell_type": "code",
   "execution_count": null,
   "id": "8a2953e7-1ed0-41c1-bb36-13d67121a0c2",
   "metadata": {},
   "outputs": [],
   "source": [
    "simulation = solvated_interchange.to_openmm_simulation(\n",
    "    integrator=openmm.LangevinMiddleIntegrator(\n",
    "        300 * openmm.unit.kelvin,\n",
    "        1 / openmm.unit.picosecond,\n",
    "        2 * openmm.unit.femtosecond,\n",
    "    )\n",
    ")\n",
    "\n",
    "simulation.minimizeEnergy()\n",
    "\n",
    "# Add a reporter to record the structure every few steps\n",
    "dcd_reporter = openmm.app.DCDReporter(file=\"rna.dcd\", reportInterval=1000)\n",
    "simulation.reporters.append(dcd_reporter)\n",
    "\n",
    "simulation.context.setVelocitiesToTemperature(simulation.integrator.getTemperature())"
   ]
  },
  {
   "cell_type": "code",
   "execution_count": null,
   "id": "7f21e649-f3f3-4056-a055-722b442bad55",
   "metadata": {},
   "outputs": [],
   "source": [
    "simulation.runForClockTime(1 * openmm.unit.minute)"
   ]
  },
  {
   "cell_type": "code",
   "execution_count": null,
   "id": "2527e2ae-1807-4cae-9023-cc74ff431e4e",
   "metadata": {},
   "outputs": [],
   "source": [
    "from utils import nglview_show_openmm\n",
    "\n",
    "w = nglview_show_openmm(simulation.topology, \"rna.dcd\")\n",
    "w.add_licorice(selection=\"not (HOH NA CL)\")\n",
    "w.add_spacefill(selection=\"HOH\", opacity=0.05)\n",
    "w.add_spacefill(selection=\"NA CL\")\n",
    "w.add_unitcell()\n",
    "w"
   ]
  },
  {
   "cell_type": "code",
   "execution_count": null,
   "id": "96e0217a-03ed-45a7-98f0-0c2f2835917f",
   "metadata": {},
   "outputs": [],
   "source": []
  },
  {
   "cell_type": "markdown",
   "id": "1d992a46-932b-4a31-8702-da396bb4a07e",
   "metadata": {},
   "source": [
    "# Graph charges with NAGL\n",
    "\n",
    "NAGL is a graph neural network toolkit designed for constructing, using, and distributing models that can compute partial charges from a molecular graph. NAGL charges are computed directly from the connectivity graph, are independent of conformation, are much faster than QC methods, and scale better to larger molecules. Currently released NAGL models are trained to reproduce AM1BCC charges for molecules that Sage is designed to support.\n",
    "\n",
    "This notebook is YELLOW because:\n",
    "- NAGL is pre-release and experimental"
   ]
  },
  {
   "cell_type": "markdown",
   "id": "701478ad-4b51-4003-b9de-7ba0e8d2b1cc",
   "metadata": {},
   "source": [
    "Linezolid is an reserve antibiotic for MDR Gram-positive infections"
   ]
  },
  {
   "cell_type": "code",
   "execution_count": null,
   "id": "2ab19e1d-fafd-4887-9393-e2be6cdb2665",
   "metadata": {},
   "outputs": [],
   "source": [
    "from openff.toolkit import Molecule\n",
    "\n",
    "linezolid = Molecule.from_smiles(\"O=C1O[C@@H](CNC(=O)C)CN1c3cc(F)c(N2CCOCC2)cc3\")\n",
    "\n",
    "linezolid.visualize(show_all_hydrogens=False)"
   ]
  },
  {
   "cell_type": "code",
   "execution_count": null,
   "id": "6c94881b-c4cd-40cd-921d-b6e5196f32e3",
   "metadata": {},
   "outputs": [],
   "source": [
    "from openff.toolkit.utils.toolkits import ToolkitRegistry, toolkit_registry_manager, RDKitToolkitWrapper, BuiltInToolkitWrapper\n",
    "from openff.toolkit.utils.nagl_wrapper import NAGLToolkitWrapper"
   ]
  },
  {
   "cell_type": "code",
   "execution_count": null,
   "id": "ab396c8d-ec50-411c-ae09-009d4be36eac",
   "metadata": {},
   "outputs": [],
   "source": [
    "NAGLToolkitWrapper().supported_charge_methods"
   ]
  },
  {
   "cell_type": "code",
   "execution_count": null,
   "id": "264836eb-a6c6-4e53-99a4-c8966f6795a6",
   "metadata": {},
   "outputs": [],
   "source": [
    "# Do a \"sacrificial\" first run of nagl on methane so the model is compiled in this cell\n",
    "Molecule.from_smiles(\"C\").assign_partial_charges(\n",
    "    \"openff-gnn-am1bcc-0.1.0-rc.1.pt\", toolkit_registry=NAGLToolkitWrapper()\n",
    ")"
   ]
  },
  {
   "cell_type": "markdown",
   "id": "8347c9f2-eda1-4a38-8917-dd00fa9ea439",
   "metadata": {
    "execution": {
     "iopub.execute_input": "2024-03-12T07:55:19.780428Z",
     "iopub.status.busy": "2024-03-12T07:55:19.780141Z",
     "iopub.status.idle": "2024-03-12T07:55:19.782932Z",
     "shell.execute_reply": "2024-03-12T07:55:19.782558Z",
     "shell.execute_reply.started": "2024-03-12T07:55:19.780403Z"
    }
   },
   "source": [
    "## Compute NAGL and Antechamber charges"
   ]
  },
  {
   "cell_type": "code",
   "execution_count": null,
   "id": "7aefb29e-f6d5-4dd4-9cdd-5ef1f8a1ecb0",
   "metadata": {},
   "outputs": [],
   "source": [
    "from openff.toolkit.utils.nagl_wrapper import NAGLToolkitWrapper\n",
    "\n",
    "with toolkit_registry_manager(ToolkitRegistry([NAGLToolkitWrapper, RDKitToolkitWrapper, BuiltInToolkitWrapper])):\n",
    "    linezolid_nagl = Molecule(linezolid)\n",
    "    linezolid_nagl.assign_partial_charges('openff-gnn-am1bcc-0.1.0-rc.1.pt')"
   ]
  },
  {
   "cell_type": "code",
   "execution_count": null,
   "id": "fadd5eab-58e5-44a4-8393-81627400bfe0",
   "metadata": {},
   "outputs": [],
   "source": [
    "linezolid_nagl.partial_charges"
   ]
  },
  {
   "cell_type": "code",
   "execution_count": null,
   "id": "08da6088-48bc-4aee-8624-85e3a2addd0a",
   "metadata": {},
   "outputs": [],
   "source": [
    "from openff.toolkit.utils.toolkits import AmberToolsToolkitWrapper\n",
    "\n",
    "with toolkit_registry_manager(ToolkitRegistry([ AmberToolsToolkitWrapper, RDKitToolkitWrapper, BuiltInToolkitWrapper])):\n",
    "    linezolid_antechamber = Molecule(linezolid)\n",
    "    linezolid_antechamber.assign_partial_charges('AM1BCC')"
   ]
  },
  {
   "cell_type": "code",
   "execution_count": null,
   "id": "853ac5bc-2359-43c4-a0cb-4e4a0a800ce0",
   "metadata": {},
   "outputs": [],
   "source": [
    "linezolid_antechamber.partial_charges"
   ]
  },
  {
   "cell_type": "markdown",
   "id": "1ff77a60-7c44-48b9-b7a6-5598809e370c",
   "metadata": {},
   "source": [
    "## Compare NAGL and Antechamber charges"
   ]
  },
  {
   "cell_type": "code",
   "execution_count": null,
   "id": "7eb41591-39d9-472f-a8dd-eb438549b7a4",
   "metadata": {},
   "outputs": [],
   "source": [
    "from matplotlib import pyplot\n",
    "\n",
    "pyplot.scatter(linezolid_nagl.partial_charges.m, linezolid_antechamber.partial_charges.m)\n",
    "pyplot.ylabel(f\"reference charges ({linezolid_antechamber.partial_charges.u})\")\n",
    "pyplot.xlabel(f\"nagl charges ({linezolid_nagl.partial_charges.u})\")\n",
    "pyplot.axline((0,0), slope=1, linestyle=\":\")"
   ]
  },
  {
   "cell_type": "code",
   "execution_count": null,
   "id": "e52515d3-b838-4d73-9fe1-80b9a9589d1c",
   "metadata": {},
   "outputs": [],
   "source": [
    "charge_diffs = linezolid_nagl.partial_charges - linezolid_antechamber.partial_charges\n",
    "pyplot.bar(range(len(charge_diffs)), charge_diffs.m)\n",
    "pyplot.ylabel(f\"charge difference ({charge_diffs.u})\")\n",
    "pyplot.xlabel(\"atom index\")"
   ]
  },
  {
   "cell_type": "code",
   "execution_count": null,
   "id": "fe788b0b-7853-4c67-8798-8e32924ac10a",
   "metadata": {},
   "outputs": [],
   "source": [
    "from utils import draw_molecule\n",
    "\n",
    "draw_molecule(linezolid, atom_notes={i: f'{i}' for i in range(linezolid.n_atoms)})"
   ]
  },
  {
   "cell_type": "code",
   "execution_count": null,
   "id": "cba66276-927f-4ecd-99f1-d3de56e48fd7",
   "metadata": {},
   "outputs": [],
   "source": []
  },
  {
   "cell_type": "markdown",
   "id": "235c0683",
   "metadata": {},
   "source": [
    "# Custom substructure loading from PDB and NAGL charge assignment\n",
    "\n",
    "This is a RED example showcasing early prototypes of functionality that we plan to make available in the coming year. We provide no guarantee of stability or correct operation, but this is an example of what may be to come.\n",
    "\n",
    "This example will:\n",
    "* Load a modified protein from PDB using `Topology.from_pdb`\n",
    "* Create a librarycharge for just the modified residue and create the OpenMM system with ff14SB parameters\n",
    "\n",
    "See also:\n",
    "https://gist.github.com/Yoshanuikabundi/66007cb9966b1455a259baaf7cd7e7c3#file-ncaa_parametrization-ipynb\n",
    "\n",
    "Why it's red:\n",
    "- NAGL is experimental and pre-release\n",
    "- Charging a whole protein with NAGL will not give the same charges as FF14SB\n",
    "- Sage parameters have not been rigourously validated for use in non-canonical amino acids.\n",
    "\n",
    "## Introduction\n",
    "\n",
    "Here we have a PDB structure containing a protein with sequence \"ACE-ALA5-DYE-ALA5-NME\". The DYE residue is a cysteine labelled with a fluorophore via a maleimide \"click\" reaction."
   ]
  },
  {
   "cell_type": "code",
   "execution_count": null,
   "id": "6c1cbdaa",
   "metadata": {},
   "outputs": [],
   "source": [
    "import nglview\n",
    "\n",
    "w = nglview.show_file(\"inputs/3ip9_dye_solvated.pdb\")\n",
    "w.clear_representations()\n",
    "w.add_representation(\"cartoon\")\n",
    "w.add_representation(\"licorice\", selection=\"backbone or DYE\")\n",
    "w.add_representation(\"spacefill\", selection=\"NA CL\")\n",
    "w.add_representation(\"spacefill\", selection=\"HOH\", opacity=0.05)\n",
    "w"
   ]
  },
  {
   "cell_type": "markdown",
   "id": "fa53e857",
   "metadata": {},
   "source": [
    "## Load a PDB with non-canonical amino acid\n",
    "\n",
    "\n",
    "We're using OpenMM's PDBFile class under the hood for the initial loading. This leads to the following requirements in the input PDB:\n",
    "\n",
    "* Standard residues must have canonical residue and atom names\n",
    "* Modified residues must have elements explicitly listed in the last column\n",
    "* The connectivity (but not bond order) of the modified residue must be explicitly specified using CONECT records (including peptide bonds to adjacent residues)"
   ]
  },
  {
   "cell_type": "markdown",
   "id": "47b839ac",
   "metadata": {},
   "source": [
    "Let's get started on the workflow by making a representation of the non-canonical amino acid, which we'll use to teach our PDB loader about the new substructure. I'm labeling the connection points with [Fr] atoms."
   ]
  },
  {
   "cell_type": "code",
   "execution_count": null,
   "id": "275a176d",
   "metadata": {},
   "outputs": [],
   "source": [
    "from openff.toolkit import Molecule, Topology\n",
    "\n",
    "# Make unnatural AA as its own mol. Since a residue is a substructure, not a valid molecule,\n",
    "# use something that's easy to recognize as a \"cap\". Here I use Fr since it makes one bond,\n",
    "# we're super unlikely to see Fr anywhere else, and Sage doesn't support it, so if\n",
    "# we make a mistake and it gets left behind we'll eventually get an error.\n",
    "substructure_mol = Molecule.from_smiles(\n",
    "    \"C1=CC2=C(C=C1N3C(=O)C[C@H](SC[C@H](N[Fr])C(=O)[Fr])C3=O)C(=O)O[C@]24C5=C(C=C(C=C5)O)OC6=C4C=CC(=C6)O\"\n",
    ")\n",
    "substructure_mol.visualize(show_all_hydrogens=False)"
   ]
  },
  {
   "cell_type": "code",
   "execution_count": null,
   "id": "42b408f5",
   "metadata": {},
   "outputs": [],
   "source": [
    "# Label the atoms with whether they're leaving\n",
    "for atom in substructure_mol.atoms:\n",
    "    if atom.symbol == \"Fr\":\n",
    "        atom.metadata[\"substructure_atom\"] = False\n",
    "    else:\n",
    "        atom.metadata[\"substructure_atom\"] = True"
   ]
  },
  {
   "cell_type": "code",
   "execution_count": null,
   "id": "1a054893",
   "metadata": {
    "scrolled": true
   },
   "outputs": [],
   "source": [
    "top = Topology.from_pdb(\n",
    "    \"inputs/3ip9_dye_solvated.pdb\",\n",
    "    # _additional_substructures is a PROTOTYPE.\n",
    "    # Its behavior and input type are likely to change.\n",
    "    _additional_substructures=[substructure_mol],\n",
    ")"
   ]
  },
  {
   "cell_type": "code",
   "execution_count": null,
   "id": "ce0e7b83-a7d4-4b6b-a89f-9c7fc50a3804",
   "metadata": {},
   "outputs": [],
   "source": [
    "w = top.visualize()\n",
    "w.clear_representations()\n",
    "w.add_representation(\"cartoon\")\n",
    "w.add_representation(\"licorice\", selection=\"not (HOH NA CL)\")\n",
    "w.add_representation(\"spacefill\", selection=\"NA CL\")\n",
    "w.add_representation(\"spacefill\", selection=\"HOH\", opacity=0.05)\n",
    "w"
   ]
  },
  {
   "cell_type": "markdown",
   "id": "0b913977-3a98-4cd5-9f2a-53c96a8fda62",
   "metadata": {},
   "source": [
    "## Compute NAGL partial charges\n",
    "\n",
    "Here, for simplicity, we simply compute NAGL charges for the entire peptide. A more rigorous approach might combine NAGL or Antechamber charges for the dye with Amber library charges for the other residues, as was done in a previous workshop:\n",
    "\n",
    "https://www.youtube.com/watch?v=lZ4UUgHQpWg"
   ]
  },
  {
   "cell_type": "code",
   "execution_count": null,
   "id": "eced4509-e9f5-4aa1-b0b2-a1a04b48fa62",
   "metadata": {},
   "outputs": [],
   "source": [
    "from openff.nagl_models import list_available_nagl_models\n",
    "\n",
    "[path.name for path in list_available_nagl_models()]"
   ]
  },
  {
   "cell_type": "code",
   "execution_count": null,
   "id": "d3b98010-8cbc-4741-9dfe-d1d95646981d",
   "metadata": {},
   "outputs": [],
   "source": [
    "protein = top.molecule(0)"
   ]
  },
  {
   "cell_type": "code",
   "execution_count": null,
   "id": "01f84dfc",
   "metadata": {
    "scrolled": true
   },
   "outputs": [],
   "source": [
    "from openff.toolkit.utils.nagl_wrapper import NAGLToolkitWrapper\n",
    "\n",
    "protein.assign_partial_charges(\n",
    "    \"openff-gnn-am1bcc-0.1.0-rc.1.pt\", toolkit_registry=NAGLToolkitWrapper()\n",
    ")\n",
    "print(protein.partial_charges)"
   ]
  },
  {
   "cell_type": "markdown",
   "id": "5279a4a9-e20d-4a21-982a-cbf13a14e815",
   "metadata": {},
   "source": [
    "### Comparing NAGL charges to Amber library charges"
   ]
  },
  {
   "cell_type": "markdown",
   "id": "98215030-4736-4692-bfb8-3f84e63a4937",
   "metadata": {},
   "source": [
    "NAGL charges are quite different to the charges assigned by Amber, as they are based on AM1-BCC rather than RESP calculations. These methods are considered to produce \"compatible\" charges for intermolecular interactions, but this will have an effect on the Amber force field's intramolecular interactions. A future OpenFF protein force field is being developed with charges much more similar to NAGL, and NAGL charges will later be optimized in concert with OpenFF forcce fields.\n",
    "\n",
    "Library charges can only be assigned to a molecule if all atoms in that molecule can be assigned one; they cannot be mixed within a molecule with other charge methods. We can define a dummy library charge for generic atoms to allow Amber library charges to be assigned to the remainder of the protein."
   ]
  },
  {
   "cell_type": "code",
   "execution_count": null,
   "id": "01b130e5-fa89-4928-98cd-697274f3f904",
   "metadata": {},
   "outputs": [],
   "source": [
    "from io import StringIO\n",
    "\n",
    "from openff.interchange.smirnoff import SMIRNOFFElectrostaticsCollection\n",
    "from openff.toolkit import ForceField\n",
    "\n",
    "# Construct a force field that assigns any atom a charge of 0\n",
    "generic_librarycharge = \"\"\"<?xml version=\"1.0\" encoding=\"utf-8\"?>\n",
    "<SMIRNOFF version=\"0.3\" aromaticity_model=\"OEAroModel_MDL\">        \n",
    "  <LibraryCharges version=\"0.3\">\n",
    "    <LibraryCharge smirks=\"[*:1]\" charge1=\"0.0 * elementary_charge\" id=\"generic_zero\"></LibraryCharge>\n",
    "  </LibraryCharges>\n",
    "</SMIRNOFF>\n",
    "\"\"\"\n",
    "\n",
    "# Combine the above library charge with ff14SB\n",
    "# General force field first so that Amber wins any conflicts!\n",
    "with StringIO(generic_librarycharge) as generic_librarycharge_offxml:\n",
    "    amber_charges = ForceField(\n",
    "        generic_librarycharge_offxml,\n",
    "        \"ff14sb_off_impropers_0.0.4.offxml\",\n",
    "    )\n",
    "\n",
    "# Use the above force field to force Amber library charges on all atoms\n",
    "# Construct an Electrostatics collection directly to avoid issues with\n",
    "# missing bonded or vdW parameters\n",
    "librarycharges_collection = SMIRNOFFElectrostaticsCollection.create(\n",
    "    parameter_handler=[\n",
    "        amber_charges[\"Electrostatics\"],\n",
    "        amber_charges[\"LibraryCharges\"],\n",
    "    ],\n",
    "    topology=protein.to_topology(),\n",
    ")"
   ]
  },
  {
   "cell_type": "markdown",
   "id": "f42c8a46-51bf-4591-b8fe-af0cd56ad5d4",
   "metadata": {},
   "source": [
    "Identify the charges in parts of the protein other than the dye (where the Amber charges are undefined)."
   ]
  },
  {
   "cell_type": "code",
   "execution_count": null,
   "id": "f3be27d1-0294-4697-9cba-7514d79c2048",
   "metadata": {},
   "outputs": [],
   "source": [
    "from openff.units import unit\n",
    "\n",
    "dye_atom_indices = [\n",
    "    atom.molecule_atom_index\n",
    "    for atom in [res for res in protein.residues if res.residue_name == \"DYE\"][0].atoms\n",
    "]\n",
    "\n",
    "nagl_partial_charges = [\n",
    "    q.m_as(unit.elementary_charge)\n",
    "    for i, q in enumerate(protein.partial_charges)\n",
    "    if i not in dye_atom_indices\n",
    "] * unit.elementary_charge\n",
    "amber_partial_charges = [\n",
    "    q.m_as(unit.elementary_charge)\n",
    "    for i, q in enumerate(librarycharges_collection.charges.values())\n",
    "    if i not in dye_atom_indices\n",
    "] * unit.elementary_charge"
   ]
  },
  {
   "cell_type": "markdown",
   "id": "b6f26913-fb66-493b-af1e-2547e4762595",
   "metadata": {
    "execution": {
     "iopub.execute_input": "2024-04-23T03:21:12.887380Z",
     "iopub.status.busy": "2024-04-23T03:21:12.887134Z",
     "iopub.status.idle": "2024-04-23T03:21:12.893713Z",
     "shell.execute_reply": "2024-04-23T03:21:12.893103Z",
     "shell.execute_reply.started": "2024-04-23T03:21:12.887358Z"
    }
   },
   "source": [
    "Plot the NAGL charges against Amber charges."
   ]
  },
  {
   "cell_type": "code",
   "execution_count": null,
   "id": "18c662ed-4985-4fd8-894a-81688da17e3c",
   "metadata": {},
   "outputs": [],
   "source": [
    "from matplotlib import pyplot\n",
    "\n",
    "pyplot.scatter(\n",
    "    nagl_partial_charges.m,\n",
    "    amber_partial_charges.m,\n",
    "    c=range(len(nagl_partial_charges)),\n",
    "    marker=\".\",\n",
    ")\n",
    "pyplot.xlabel(f\"nagl charges ({nagl_partial_charges.u})\")\n",
    "pyplot.ylabel(f\"reference charges ({amber_partial_charges.u})\")\n",
    "pyplot.axline((0, 0), slope=1, linestyle=\":\")"
   ]
  },
  {
   "cell_type": "markdown",
   "id": "b8b30fa5-0fa1-4407-a632-abd3d2046061",
   "metadata": {},
   "source": [
    "If you're interested, we can break down assigned charges by atom and residue name:"
   ]
  },
  {
   "cell_type": "code",
   "execution_count": null,
   "id": "4e992e9c-792c-4f9b-a53c-a6a9784a4f56",
   "metadata": {},
   "outputs": [],
   "source": [
    "# # Note: amber charges vary when multiple residue types are assigned the same residue name; \n",
    "# # eg, with different protonation states or for terminal residues\n",
    "\n",
    "# from collections import defaultdict\n",
    "# from functools import partial\n",
    "\n",
    "# # Break charges down by atom and residue name\n",
    "# nagl_charges_by_atomtype = defaultdict(partial(defaultdict, list))\n",
    "# ff14sb_charges_by_atomtype = defaultdict(partial(defaultdict, list))\n",
    "# for nagl_charge, ff14sb_charge, atom in zip(\n",
    "#     protein.partial_charges, librarycharges_collection.charges.values(), protein.atoms\n",
    "# ):\n",
    "#     nagl_charges_by_atomtype[atom.metadata[\"residue_name\"]][atom.name].append(\n",
    "#         nagl_charge.m_as(unit.elementary_charge)\n",
    "#     )\n",
    "#     ff14sb_charges_by_atomtype[atom.metadata[\"residue_name\"]][atom.name].append(\n",
    "#         ff14sb_charge.m_as(unit.elementary_charge)\n",
    "#     )\n",
    "\n",
    "# # Create a plot for the 21 different residue names (20 canonical AAs plus DYE)\n",
    "# fig, axs = pyplot.subplots(\n",
    "#     nrows=7,\n",
    "#     ncols=3,\n",
    "#     figsize=(20, 30),\n",
    "#     sharey=True,\n",
    "#     dpi=180,\n",
    "#     constrained_layout=True,\n",
    "#     gridspec_kw={\"hspace\": 0.1, \"wspace\": 0.05},\n",
    "# )\n",
    "\n",
    "# # Plot the charges from both force fields\n",
    "# for (resname, by_atomname), ax in zip(nagl_charges_by_atomtype.items(), axs.flatten()):\n",
    "#     atomnames, nagl_charges = zip(*by_atomname.items())\n",
    "#     amber_charges = [\n",
    "#         ff14sb_charges_by_atomtype[resname][atomname] for atomname in atomnames\n",
    "#     ]\n",
    "#     boxplot = ax.boxplot(\n",
    "#         nagl_charges,\n",
    "#         showfliers=False,\n",
    "#         labels=atomnames,\n",
    "#         medianprops={\"color\": \"black\"},\n",
    "#         positions=range(len(nagl_charges)),\n",
    "#     )\n",
    "#     nagl_events = ax.eventplot(nagl_charges, orientation=\"vertical\", color=\"orange\")\n",
    "#     amber_events = ax.eventplot(amber_charges, orientation=\"vertical\")\n",
    "#     ax.set_title(f\"{resname} (n={len(nagl_charges[0])})\")\n",
    "#     ax.set_xmargin(0)\n",
    "\n",
    "#     if resname == \"MET\":\n",
    "#         amber_events[0].set_label(\"Amber charges\")\n",
    "#         nagl_events[0].set_label(\"NAGL charges\")\n",
    "#         boxplot[\"boxes\"][0].set_label(\"NAGL charges box plot\")\n",
    "#         ax.legend(loc=\"lower right\")\n",
    "#         ax.set_ylabel(\"Partial Charge (e-)\")"
   ]
  },
  {
   "cell_type": "markdown",
   "id": "18d080a3-c4e7-468f-b99f-fcbe8d56e1bb",
   "metadata": {
    "execution": {
     "iopub.execute_input": "2024-03-12T07:58:22.846392Z",
     "iopub.status.busy": "2024-03-12T07:58:22.845781Z",
     "iopub.status.idle": "2024-03-12T07:58:22.849508Z",
     "shell.execute_reply": "2024-03-12T07:58:22.848963Z",
     "shell.execute_reply.started": "2024-03-12T07:58:22.846350Z"
    }
   },
   "source": [
    "## Parametrize and simulate the peptide with Sage, Amber ff14sb, and NAGL charges"
   ]
  },
  {
   "cell_type": "code",
   "execution_count": null,
   "id": "4b85c8e1",
   "metadata": {},
   "outputs": [],
   "source": [
    "from openff.toolkit import ForceField\n",
    "\n",
    "sage_ff14sb = ForceField(\"openff-2.2.0.offxml\", \"ff14sb_off_impropers_0.0.4.offxml\")"
   ]
  },
  {
   "cell_type": "code",
   "execution_count": null,
   "id": "2661dea6-6af9-4e81-bb2f-c10d60e8ba16",
   "metadata": {},
   "outputs": [],
   "source": [
    "ic = sage_ff14sb.create_interchange(top, charge_from_molecules=[protein])"
   ]
  },
  {
   "cell_type": "code",
   "execution_count": null,
   "id": "4b2dc3f3",
   "metadata": {},
   "outputs": [],
   "source": [
    "import openmm\n",
    "\n",
    "simulation = ic.to_openmm_simulation(\n",
    "    openmm.LangevinIntegrator(\n",
    "        300 * openmm.unit.kelvin,\n",
    "        1 / openmm.unit.picosecond,\n",
    "        2 * openmm.unit.femtoseconds,\n",
    "    )\n",
    ")\n",
    "\n",
    "# Energy minimize\n",
    "simulation.minimizeEnergy()\n",
    "\n",
    "# Add a reporter to record the structure every 1000 steps\n",
    "dcd_reporter = openmm.app.DCDReporter(\"ncaa.dcd\", 1000)\n",
    "simulation.reporters.append(dcd_reporter)\n",
    "simulation.context.setVelocitiesToTemperature(simulation.integrator.getTemperature())"
   ]
  },
  {
   "cell_type": "code",
   "execution_count": null,
   "id": "0bb9bff6",
   "metadata": {},
   "outputs": [],
   "source": [
    "simulation.runForClockTime(1 * openmm.unit.minute)"
   ]
  },
  {
   "cell_type": "code",
   "execution_count": null,
   "id": "97eea39f",
   "metadata": {},
   "outputs": [],
   "source": [
    "from utils import nglview_show_openmm\n",
    "\n",
    "w = nglview_show_openmm(simulation.topology, \"ncaa.dcd\")\n",
    "w.clear_representations()\n",
    "w.add_representation(\"cartoon\")\n",
    "w.add_representation(\"licorice\", selection=\"not (HOH NA CL)\")\n",
    "w.add_representation(\"spacefill\", selection=\"NA CL\")\n",
    "w.add_representation(\"spacefill\", selection=\"HOH\", opacity=0.05)\n",
    "w"
   ]
  },
  {
   "cell_type": "code",
   "execution_count": null,
   "id": "cdc32416-72e4-4fc0-b0b4-385fb4fc87cf",
   "metadata": {},
   "outputs": [],
   "source": []
  }
 ],
 "metadata": {
  "kernelspec": {
   "display_name": "Python 3 (ipykernel)",
   "language": "python",
   "name": "python3"
  },
  "language_info": {
   "codemirror_mode": {
    "name": "ipython",
    "version": 3
   },
   "file_extension": ".py",
   "mimetype": "text/x-python",
   "name": "python",
   "nbconvert_exporter": "python",
   "pygments_lexer": "ipython3",
   "version": "3.11.9"
  },
  "widgets": {
   "application/vnd.jupyter.widget-state+json": {
    "state": {},
    "version_major": 2,
    "version_minor": 0
   }
  }
 },
 "nbformat": 4,
 "nbformat_minor": 5
}
