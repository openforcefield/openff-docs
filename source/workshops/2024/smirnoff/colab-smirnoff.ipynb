{
 "cells": [
  {
   "cell_type": "markdown",
   "id": "81036958-df15-4b2e-9c41-093ebfccaaf9",
   "metadata": {},
   "source": [
    "# SMIRNOFF Force Fields and You"
   ]
  },
  {
   "cell_type": "markdown",
   "id": "4758003e-7a98-46e2-a4a8-bc0212a2ffcc",
   "metadata": {
    "editable": true,
    "slideshow": {
     "slide_type": ""
    },
    "tags": []
   },
   "source": [
    "OpenFF force fields are distributed in SMIRNOFF format. SMIRNOFF was developed to avoid the pitfalls of existing force field specification formats.\n",
    "\n",
    "SMIRNOFF:\n",
    "\n",
    "1. Includes all information needed to apply parameters to a chemical system\n",
    "2. Completely specifies the potential energy function\n",
    "3. Works across different MD engines\n",
    "\n",
    "<img src=\"https://imgs.xkcd.com/comics/standards_2x.png\" style=\"margin:30px;width:500px\"/>\n",
    "\n",
    "How does it do this?\n",
    "\n",
    "1. SMIRNOFF defines a map from chemistry to a potential energy function\n",
    "2. Chemistry is defined through SMIRKS\n",
    "3. Only the last, most specific SMIRKS sets the parameter\n",
    "4. OpenFF tools export fully prepared systems, not generic force fields\n"
   ]
  },
  {
   "cell_type": "markdown",
   "id": "afae011e-5a41-4d17-8b21-a0789985c9b8",
   "metadata": {},
   "source": [
    "What does it look like?\n",
    "\n",
    "```xml\n",
    "<?xml version=\"1.0\" encoding=\"utf-8\"?>\n",
    "<SMIRNOFF version=\"0.3\" aromaticity_model=\"OEAroModel_MDL\">\n",
    "    <Author>The Open Force Field Initiative</Author>\n",
    "    <Date>2023-05-02</Date>\n",
    "\n",
    "    <Constraints version=\"0.3\">\n",
    "        <Constraint smirks=\"[#1:1]-[*:2]\" id=\"c1\"></Constraint>\n",
    "        <Constraint smirks=\"[#1:1]-[#8X2H2+0:2]-[#1]\" id=\"c-tip3p-H-O\" distance=\"0.9572 * angstrom ** 1\"></Constraint>\n",
    "        <Constraint smirks=\"[#1:1]-[#8X2H2+0]-[#1:2]\" id=\"c-tip3p-H-O-H\" distance=\"1.5139006545247014 * angstrom ** 1\"></Constraint>\n",
    "    </Constraints>\n",
    "\n",
    "    <Bonds version=\"0.4\" potential=\"harmonic\" fractional_bondorder_method=\"AM1-Wiberg\" fractional_bondorder_interpolation=\"linear\">\n",
    "        <Bond smirks=\"[#6X4:1]-[#6X4:2]\" id=\"b1\" length=\"1.527940216866 * angstrom ** 1\" k=\"419.9869268191 * angstrom ** -2 * mole ** -1 * kilocalorie ** 1\"></Bond>\n",
    "        ...\n",
    "    </Bonds>\n",
    "\n",
    "    <Angles version=\"0.3\" potential=\"harmonic\">\n",
    "        <Angle smirks=\"[*:1]~[#6X4:2]-[*:3]\" angle=\"110.0631999136 * degree ** 1\" k=\"121.1883270155 * mole ** -1 * radian ** -2 * kilocalorie ** 1\" id=\"a1\"></Angle>\n",
    "        ...\n",
    "    </Angles>\n",
    "\n",
    "    <ProperTorsions version=\"0.4\" potential=\"k*(1+cos(periodicity*theta-phase))\" default_idivf=\"auto\" fractional_bondorder_method=\"AM1-Wiberg\" fractional_bondorder_interpolation=\"linear\">\n",
    "        <Proper smirks=\"[*:1]-[#6X4:2]-[#6X4:3]-[*:4]\" periodicity1=\"3\" phase1=\"0.0 * degree ** 1\" id=\"t1\" k1=\"0.1526959283148 * mole ** -1 * kilocalorie ** 1\" idivf1=\"1.0\"></Proper>\n",
    "        ...\n",
    "    </ProperTorsions>\n",
    "\n",
    "    <ImproperTorsions version=\"0.3\" potential=\"k*(1+cos(periodicity*theta-phase))\" default_idivf=\"auto\">\n",
    "        <Improper smirks=\"[*:1]~[#6X3:2](~[*:3])~[*:4]\" periodicity1=\"2\" phase1=\"180.0 * degree ** 1\" k1=\"5.230790565314 * mole ** -1 * kilocalorie ** 1\" id=\"i1\"></Improper>\n",
    "        ...\n",
    "    </ImproperTorsions>\n",
    "\n",
    "    <vdW version=\"0.4\" potential=\"Lennard-Jones-12-6\" combining_rules=\"Lorentz-Berthelot\" scale12=\"0.0\" scale13=\"0.0\" scale14=\"0.5\" scale15=\"1.0\" cutoff=\"9.0 * angstrom ** 1\" switch_width=\"1.0 * angstrom ** 1\" periodic_method=\"cutoff\" nonperiodic_method=\"no-cutoff\">\n",
    "        <Atom smirks=\"[#1:1]\" epsilon=\"0.0157 * mole ** -1 * kilocalorie ** 1\" id=\"n1\" rmin_half=\"0.6 * angstrom ** 1\"></Atom>\n",
    "        ...\n",
    "    </vdW>\n",
    "\n",
    "    <Electrostatics \n",
    "        version=\"0.4\" \n",
    "        scale12=\"0.0\" \n",
    "        scale13=\"0.0\" \n",
    "        scale14=\"0.8333333333\" \n",
    "        scale15=\"1.0\" \n",
    "        cutoff=\"9.0 * angstrom ** 1\" \n",
    "        switch_width=\"0.0 * angstrom ** 1\"\n",
    "        periodic_potential=\"Ewald3D-ConductingBoundary\" \n",
    "        nonperiodic_potential=\"Coulomb\" \n",
    "        exception_potential=\"Coulomb\"\n",
    "    ></Electrostatics>\n",
    "\n",
    "    <LibraryCharges version=\"0.3\">\n",
    "        <LibraryCharge smirks=\"[#3+1:1]\" charge1=\"1.0 * elementary_charge ** 1\" id=\"Li+\"></LibraryCharge>\n",
    "        ...\n",
    "    </LibraryCharges>\n",
    "\n",
    "    <ToolkitAM1BCC version=\"0.3\"></ToolkitAM1BCC>\n",
    "</SMIRNOFF>\n",
    "```\n",
    "\n",
    "See the full specification at OpenFF Standards: https://openforcefield.github.io/standards/standards/smirnoff/"
   ]
  },
  {
   "cell_type": "code",
   "execution_count": null,
   "id": "c36c3757-9937-4265-b151-27c69acf185d",
   "metadata": {},
   "outputs": [],
   "source": [
    "!pip install -U https://github.com/conda-incubator/condacolab/archive/cuda-version-12.tar.gz\n",
    "import condacolab\n",
    "condacolab.install_mambaforge()"
   ]
  },
  {
   "cell_type": "code",
   "execution_count": null,
   "id": "a5c51ca7-b042-454c-8f06-d19225fe4acd",
   "metadata": {},
   "outputs": [],
   "source": [
    "!wget -q https://raw.githubusercontent.com/openforcefield/openff-docs/2024-smirnoff-workshop/source/workshops/2024/smirnoff/utils.py\n",
    "!wget -q https://raw.githubusercontent.com/openforcefield/openff-docs/2024-smirnoff-workshop/source/workshops/2024/smirnoff/conda-env.yml\n",
    "!wget -q https://raw.githubusercontent.com/openforcefield/openff-docs/2024-smirnoff-workshop/source/workshops/2024/smirnoff/7FCX_prepped.pdb\n",
    "!wget -q https://raw.githubusercontent.com/openforcefield/openff-docs/2024-smirnoff-workshop/source/workshops/2024/smirnoff/smirks.png\n",
    "!mamba env update -q --name=base --file=conda-env.yml\n",
    "from google.colab import output\n",
    "output.enable_custom_widget_manager()"
   ]
  },
  {
   "cell_type": "code",
   "execution_count": null,
   "id": "bc3f4e94-c626-46c9-a9fa-db2454ff892f",
   "metadata": {
    "editable": true,
    "slideshow": {
     "slide_type": ""
    },
    "tags": []
   },
   "outputs": [],
   "source": [
    "from utils import draw_molecule, nglview_show_openmm"
   ]
  },
  {
   "cell_type": "markdown",
   "id": "c2f7f07b-0b30-4003-aa9a-74b83baef58c",
   "metadata": {},
   "source": [
    "### SMIRNOFF Maps from Chemistry to Potential Energy Function"
   ]
  },
  {
   "cell_type": "markdown",
   "id": "053ed544-5d1b-4d03-95b1-77f8f9a12024",
   "metadata": {},
   "source": [
    "SMIRNOFF force fields can be loaded from disk and inspected using the [`ForceField`] class:\n",
    "\n",
    "[`ForceField`]: https://docs.openforcefield.org/toolkit/en/stable/api/generated/openff.toolkit.typing.engines.smirnoff.ForceField.html"
   ]
  },
  {
   "cell_type": "code",
   "execution_count": null,
   "id": "3fc4e383-a744-41f6-b2df-b5858049e8be",
   "metadata": {},
   "outputs": [],
   "source": [
    "from openff.toolkit import ForceField \n",
    "\n",
    "sage = ForceField('openff-2.1.1.offxml')\n",
    "\n",
    "# Uncommenting this line will produce a LOT of text\n",
    "# sage.to_string()"
   ]
  },
  {
   "cell_type": "markdown",
   "id": "cdcbd43c-cec7-4d7b-b0b5-fe041814d246",
   "metadata": {},
   "source": [
    "Let's demonstrate this with a simple molecule, hexanoic acid:"
   ]
  },
  {
   "cell_type": "code",
   "execution_count": null,
   "id": "7f00802b-9d45-4c25-8af1-77cd699ffc35",
   "metadata": {},
   "outputs": [],
   "source": [
    "from openff.toolkit import Molecule\n",
    "\n",
    "hexanoic_acid = Molecule.from_smiles(\"CCCCCC(=O)O\")\n",
    "\n",
    "draw_molecule(hexanoic_acid, explicit_hydrogens=False, atom_notes = {i:str(i) for i in range(hexanoic_acid.n_atoms)})"
   ]
  },
  {
   "cell_type": "markdown",
   "id": "c479c059-e28e-4070-9300-43dc47bb5201",
   "metadata": {},
   "source": [
    "We can apply the Sage force field to the molecule by creating an `Interchange`. An Interchange represents a chemical system ready to simulate in a variety of MD engines. The potential parameters are stored "
   ]
  },
  {
   "cell_type": "code",
   "execution_count": null,
   "id": "5b29f1e6-0e82-47cd-a880-b7af2b06162c",
   "metadata": {},
   "outputs": [],
   "source": [
    "# This takes a second because it is computing partial charges according to the force field\n",
    "\n",
    "hexanoic_acid_in_sage = sage.create_interchange(hexanoic_acid.to_topology())\n",
    "hexanoic_acid_in_sage.collections"
   ]
  },
  {
   "cell_type": "code",
   "execution_count": null,
   "id": "c3e53571-7b37-4b92-bc0e-08c0a770b045",
   "metadata": {},
   "outputs": [],
   "source": [
    "hexanoic_acid_in_sage.collections['Bonds'].get_force_field_parameters()"
   ]
  },
  {
   "cell_type": "code",
   "execution_count": null,
   "id": "3e65211e-0c11-42b7-9893-3de63df4608f",
   "metadata": {},
   "outputs": [],
   "source": [
    "bond_collection = hexanoic_acid_in_sage.collections['Bonds']\n",
    "bond_collection"
   ]
  },
  {
   "cell_type": "code",
   "execution_count": null,
   "id": "a5df8aa4-4222-4231-85ec-8cc416f11dba",
   "metadata": {},
   "outputs": [],
   "source": [
    "from openff.interchange.models import BondKey\n",
    "\n",
    "# These are split up to allow each parameter to be traced back to the original force field\n",
    "potential_key = bond_collection.key_map[BondKey(atom_indices = [0, 1])]\n",
    "bond_collection.potentials[potential_key]"
   ]
  },
  {
   "cell_type": "code",
   "execution_count": null,
   "id": "891e48ae-6a2b-470e-8d91-a842d0686da5",
   "metadata": {},
   "outputs": [],
   "source": [
    "draw_molecule(\n",
    "    hexanoic_acid, \n",
    "    bond_notes={\n",
    "        bond.atom_indices: f\"{bond_collection.potentials[key].parameters['length']:.3f~P}\" \n",
    "        for bond, key in bond_collection.key_map.items()\n",
    "    },\n",
    "    explicit_hydrogens=False\n",
    ")"
   ]
  },
  {
   "cell_type": "markdown",
   "id": "1da7e015-4e5c-4005-b631-4c56166532ed",
   "metadata": {},
   "source": [
    "### Chemistry is defined through SMIRKS"
   ]
  },
  {
   "cell_type": "markdown",
   "id": "b3b59ad6-b0b7-4d44-8069-31b9f79b36eb",
   "metadata": {},
   "source": [
    "SMIRKS is a derivative of SMILES and SMARTS used to search for and identify atoms in chemical substructures."
   ]
  },
  {
   "cell_type": "markdown",
   "id": "daa98897-edce-4830-97cb-533a335b460f",
   "metadata": {},
   "source": [
    "<img src=\"smirks.png\" width=\"400\"/>"
   ]
  },
  {
   "cell_type": "code",
   "execution_count": null,
   "id": "7eae0970-2cd3-463b-b647-94fe38cb2ed1",
   "metadata": {},
   "outputs": [],
   "source": [
    "# Check out the first bond in Sage\n",
    "sage['Bonds'][0]"
   ]
  },
  {
   "cell_type": "code",
   "execution_count": null,
   "id": "e8b7b016-96fa-44d0-8cbe-2b89c80d9f83",
   "metadata": {},
   "outputs": [],
   "source": [
    "# Can also identify bonds by SMIRKS\n",
    "sage[\"Bonds\"].get_parameter({\"smirks\":\"[#6X4:1]-[#6X4:2]\"})"
   ]
  },
  {
   "cell_type": "code",
   "execution_count": null,
   "id": "371b3e30-f946-453a-a39e-637b5c3c9c8f",
   "metadata": {},
   "outputs": [],
   "source": [
    "draw_molecule(\n",
    "    hexanoic_acid, \n",
    "    atom_notes={\n",
    "        i: f\"{i}\" \n",
    "        for i in range(hexanoic_acid.n_atoms)\n",
    "    },\n",
    "    explicit_hydrogens=False\n",
    ")"
   ]
  },
  {
   "cell_type": "code",
   "execution_count": null,
   "id": "6aa09988-1b98-4294-8bde-88745f24a035",
   "metadata": {},
   "outputs": [],
   "source": [
    "hexanoic_acid.chemical_environment_matches(\"[#6X4:1]-[#6X4:2]\", unique=True)"
   ]
  },
  {
   "cell_type": "markdown",
   "id": "13e1d6b4-cb91-4a85-ad6d-815e209ace01",
   "metadata": {},
   "source": [
    "### Later parameters override"
   ]
  },
  {
   "cell_type": "code",
   "execution_count": null,
   "id": "2966c0cc-2822-4256-ab9a-077e4375ccfb",
   "metadata": {},
   "outputs": [],
   "source": [
    "# Look at the first 3 bond parameters in Sage\n",
    "print(*(f\"{bond.smirks}: {bond.k:.0f}\" for bond in sage['Bonds'][:3]), sep='\\n')"
   ]
  },
  {
   "cell_type": "code",
   "execution_count": null,
   "id": "6fff1ec7-24b2-49a3-a5aa-85687ae37a70",
   "metadata": {},
   "outputs": [],
   "source": [
    "print(\"k is given in kilocalorie / angstrom ** 2 / mole\")\n",
    "draw_molecule(\n",
    "    hexanoic_acid, \n",
    "    bond_notes={\n",
    "        bond.atom_indices: f\"k={bond_collection.potentials[key].parameters['k'].m:.0f}\" \n",
    "        for bond, key in bond_collection.key_map.items()\n",
    "    },\n",
    "    explicit_hydrogens=False\n",
    ")"
   ]
  },
  {
   "cell_type": "code",
   "execution_count": null,
   "id": "20bb5db6-7450-4b55-931e-be61d36eefe3",
   "metadata": {},
   "outputs": [],
   "source": [
    "hexanoic_acid.chemical_environment_matches(\"[#6X4:1]-[#6X3:2]\", unique=True)"
   ]
  },
  {
   "cell_type": "code",
   "execution_count": null,
   "id": "6afd8a87-f711-4129-8131-69169d8a820e",
   "metadata": {},
   "outputs": [],
   "source": [
    "hexanoic_acid.chemical_environment_matches(\"[#6X4:1]-[#6X3:2]=[#8X1+0]\", unique=True)"
   ]
  },
  {
   "cell_type": "code",
   "execution_count": null,
   "id": "f8a8668c-4aa9-4a0c-8696-09fcf145a998",
   "metadata": {},
   "outputs": [],
   "source": [
    "draw_molecule(\n",
    "    hexanoic_acid, \n",
    "    atom_notes={\n",
    "        i: f\"{i}\" \n",
    "        for i in range(hexanoic_acid.n_atoms)\n",
    "    },\n",
    "    explicit_hydrogens=False\n",
    ")"
   ]
  },
  {
   "cell_type": "markdown",
   "id": "0f1f2f51-8985-477d-957c-a98a0fb75327",
   "metadata": {},
   "source": [
    "### Exports fully prepared systems for multiple engines"
   ]
  },
  {
   "cell_type": "code",
   "execution_count": null,
   "id": "a58adfa5-6982-44d6-b7a3-b0d3a50d2af6",
   "metadata": {},
   "outputs": [],
   "source": [
    "from openmm import LangevinMiddleIntegrator\n",
    "import openmm.unit\n",
    "import numpy as np\n",
    "\n",
    "# # Earlier:\n",
    "# from openff.toolkit import Molecule, ForceField\n",
    "# hexanoic_acid = Molecule.from_smiles(\"CCCCCC(=O)O\")\n",
    "# hexanoic_acid_in_sage = ForceField(\"openff-2.1.1.offxml\").create_interchange(\n",
    "#     hexanoic_acid.to_topology()\n",
    "# )\n",
    "\n",
    "simulation = hexanoic_acid_in_sage.to_openmm_simulation(\n",
    "    integrator = LangevinMiddleIntegrator(\n",
    "        300 * openmm.unit.kelvin,\n",
    "        0.1 / openmm.unit.picosecond, \n",
    "        2 * openmm.unit.femtosecond,\n",
    "    )\n",
    ")\n",
    "simulation.context.setPositions(np.random.rand(hexanoic_acid_in_sage.topology.n_atoms, 3))\n",
    "simulation.minimizeEnergy()\n",
    "\n",
    "minimized_positions = simulation.context.getState(getPositions=True).getPositions()\n",
    "nglview_show_openmm(simulation.topology, minimized_positions)"
   ]
  },
  {
   "cell_type": "code",
   "execution_count": null,
   "id": "ac8d5fd5-0478-421a-b36a-a4045146347d",
   "metadata": {},
   "outputs": [],
   "source": [
    "from openff.interchange.drivers import get_summary_data\n",
    "from openff.units import unit\n",
    "\n",
    "hexanoic_acid_in_sage.box = [[4,0,0],[0,4,0],[0,0,4]] * unit.nanometer\n",
    "hexanoic_acid_in_sage.positions = minimized_positions\n",
    "\n",
    "# VdW difference comes from Amber putting switching settings in a file we don't export (sander.in)\n",
    "# GROMACS has similar issues with PME, cutoffs\n",
    "# OpenMM will be exact; everything else is best effort\n",
    "get_summary_data(hexanoic_acid_in_sage)"
   ]
  },
  {
   "cell_type": "markdown",
   "id": "0651c85a-e8f0-43f7-bfe8-a5ce0bb0e847",
   "metadata": {},
   "source": [
    "## Interchange's matrix representation"
   ]
  },
  {
   "cell_type": "code",
   "execution_count": null,
   "id": "09075b04-c175-40be-93e2-13fc2913ccaa",
   "metadata": {},
   "outputs": [],
   "source": [
    "hexanoic_acid_in_sage.collections['Bonds'].get_force_field_parameters()"
   ]
  },
  {
   "cell_type": "code",
   "execution_count": null,
   "id": "1ff6590d-e121-43c7-bf3c-2650fa2226d6",
   "metadata": {},
   "outputs": [],
   "source": [
    "hexanoic_acid_in_sage.collections['Bonds'].get_param_matrix()"
   ]
  },
  {
   "cell_type": "code",
   "execution_count": null,
   "id": "be63b475-f849-4b6b-b799-827387d0f0cb",
   "metadata": {},
   "outputs": [],
   "source": [
    "import numpy\n",
    "\n",
    "dotted = numpy.dot(\n",
    "    hexanoic_acid_in_sage[\"Bonds\"].get_param_matrix(),\n",
    "    hexanoic_acid_in_sage[\"Bonds\"].get_force_field_parameters().flatten(),\n",
    ").reshape((-1, 2))\n",
    "\n",
    "dotted\n"
   ]
  },
  {
   "cell_type": "code",
   "execution_count": null,
   "id": "91ee2d12-4132-48c2-8091-046073eb5923",
   "metadata": {},
   "outputs": [],
   "source": [
    "numpy.allclose(dotted, hexanoic_acid_in_sage[\"Bonds\"].get_system_parameters())"
   ]
  },
  {
   "cell_type": "code",
   "execution_count": null,
   "id": "b634113a-79e7-49d4-a0be-61ce3620614b",
   "metadata": {},
   "outputs": [],
   "source": [
    "edited_params = hexanoic_acid_in_sage[\"Bonds\"].get_force_field_parameters()\n",
    "edited_params[0, 1] = 4.0\n",
    "\n",
    "hexanoic_acid_in_sage[\"Bonds\"].set_force_field_parameters(edited_params)\n",
    "\n",
    "hexanoic_acid_in_sage.minimize()\n",
    "\n",
    "hexanoic_acid_in_sage.visualize()"
   ]
  },
  {
   "cell_type": "markdown",
   "id": "a5b50cb3-5e9d-46c2-8557-5c0b37c9fb19",
   "metadata": {},
   "source": [
    "## A protein system"
   ]
  },
  {
   "cell_type": "markdown",
   "id": "31a3526b-ac25-4ad3-9a4a-7218de2bc941",
   "metadata": {},
   "source": [
    "Introduce NADP, parametrize with Sage, investigate assigned parameters, demonstrate same potential energy across different engines \n",
    "\n",
    "Heart-type fatty acid binding protein (hFABP) \n",
    "\n",
    "https://www.rcsb.org/structure/7FCX"
   ]
  },
  {
   "cell_type": "code",
   "execution_count": null,
   "id": "ac876c8e-7a2e-4e04-8fad-8b3da4a6aef2",
   "metadata": {},
   "outputs": [],
   "source": [
    "from openff.toolkit import Topology\n",
    "\n",
    "\n",
    "topology = Topology.from_pdb(\n",
    "    \"7FCX_prepped.pdb\", \n",
    "    unique_molecules=[hexanoic_acid]\n",
    ")"
   ]
  },
  {
   "cell_type": "code",
   "execution_count": null,
   "id": "c7521c5c-e553-46a0-a370-4b0d775a8060",
   "metadata": {},
   "outputs": [],
   "source": [
    "topology.visualize()"
   ]
  },
  {
   "cell_type": "markdown",
   "id": "c505ef92-7fec-4bf1-95a3-85a991a59e54",
   "metadata": {},
   "source": [
    "### Combining the general Sage force field with a specific protein force field (Amber)"
   ]
  },
  {
   "cell_type": "code",
   "execution_count": null,
   "id": "8edc356b-19a3-4b1f-abd9-8c4e88f18629",
   "metadata": {},
   "outputs": [],
   "source": [
    "combined_force_field = ForceField(\n",
    "    \"openff-2.1.1.offxml\", \n",
    "    \"bespoke_hexanoic_acid_alltorsions.offxml\",\n",
    "    \"ff14sb_off_impropers_0.0.3.offxml\",\n",
    ")"
   ]
  },
  {
   "cell_type": "code",
   "execution_count": null,
   "id": "2d2889c7-0f2a-46ce-8d91-ffaa1a39e04b",
   "metadata": {},
   "outputs": [],
   "source": [
    "interchange = combined_force_field.create_interchange(topology)"
   ]
  },
  {
   "cell_type": "code",
   "execution_count": null,
   "id": "268f268b-db52-47bf-9dff-13a563469645",
   "metadata": {},
   "outputs": [],
   "source": [
    "temperature = 300 * openmm.unit.kelvin\n",
    "friction_coefficient = 1 / openmm.unit.picosecond\n",
    "time_step = 2 * openmm.unit.femtosecond\n",
    "\n",
    "simulation = interchange.to_openmm_simulation(\n",
    "    integrator = openmm.LangevinMiddleIntegrator(\n",
    "        temperature, \n",
    "        friction_coefficient, \n",
    "        time_step,\n",
    "    )\n",
    ")\n",
    "\n",
    "# Add a reporter to record the structure every few steps\n",
    "dcd_reporter = openmm.app.DCDReporter(file=\"trajectory.dcd\", reportInterval=1000)\n",
    "simulation.reporters.append(dcd_reporter)"
   ]
  },
  {
   "cell_type": "code",
   "execution_count": null,
   "id": "7b12486a-8a81-4bf9-aa65-097d4e038593",
   "metadata": {},
   "outputs": [],
   "source": [
    "def describe_state_of(simulation: openmm.app.Simulation, name: str = \"State\"):\n",
    "    state = simulation.context.getState(getEnergy=True, getForces=True)\n",
    "    forces = [np.sqrt(v.x**2 + v.y**2 + v.z**2) for v in state.getForces()]\n",
    "    max_force = max(forces)\n",
    "    max_force_index = np.argmax(forces)\n",
    "    print(\n",
    "        f\"{name} has energy {round(state.getPotentialEnergy()._value, 2)} kJ/mol \"\n",
    "        f\"with maximum force {round(max_force, 2)} kJ/(mol nm) on atom {max_force_index}.\"\n",
    "    )\n",
    "\n",
    "describe_state_of(simulation, \"Original state\")\n",
    "simulation.minimizeEnergy()\n",
    "describe_state_of(simulation, \"Minimized state\")\n",
    "\n",
    "simulation.context.setVelocitiesToTemperature(temperature)"
   ]
  },
  {
   "cell_type": "code",
   "execution_count": null,
   "id": "17daa0f9-5d84-46a6-a07d-997f1e3e5bbf",
   "metadata": {
    "scrolled": true
   },
   "outputs": [],
   "source": [
    "simulation.runForClockTime(1 * openmm.unit.minute)"
   ]
  },
  {
   "cell_type": "code",
   "execution_count": null,
   "id": "2011ee5c-3bb6-43d5-8534-e83cc7e29087",
   "metadata": {},
   "outputs": [],
   "source": [
    "w = nglview_show_openmm(\n",
    "    simulation.topology, \n",
    "    \"trajectory.dcd\",\n",
    ")\n",
    "w.add_line(sele=\"protein\")\n",
    "w.add_unitcell()\n",
    "w"
   ]
  },
  {
   "cell_type": "markdown",
   "id": "a5b3b0f0-028f-43c5-b30e-c75279193164",
   "metadata": {},
   "source": [
    "## OpenFF BespokeFit"
   ]
  },
  {
   "cell_type": "markdown",
   "id": "d90c42b2-5683-4914-b451-6a2d0eb0f566",
   "metadata": {},
   "source": [
    "BespokeFit automatically optimizes torsions against QC torsion drives for SMIRNOFF force fields:"
   ]
  },
  {
   "cell_type": "code",
   "execution_count": null,
   "id": "d6ecd3f6-2365-459e-a505-b4bcade4af14",
   "metadata": {},
   "outputs": [],
   "source": [
    "# !pkill redis\n",
    "%env OMP_NUM_THREADS=4\n",
    "!openff-bespoke executor run                               \\\n",
    "    --smiles \"CCCCCC(=O)O\"                                 \\\n",
    "    --force-field \"openff-2.1.1.offxml\"                    \\\n",
    "    --output-force-field \"bespokefit-hexanoic-acid.offxml\" \\\n",
    "    --target-torsion \"[#6X4:1]-[#6X3:2]=[#8X1+0]\"          \\\n",
    "    --workflow \"default\"                                   \\\n",
    "    --qc-compute-n-cores 4                                 \\\n",
    "    --default-qc-spec xtb gfn2xtb none"
   ]
  },
  {
   "cell_type": "markdown",
   "id": "9873cb5c-90e5-4d7b-bf33-1f508bdf4305",
   "metadata": {},
   "source": [
    "BespokeFit outputs the entire starting point force field, minus constraints, plus the new parameters, so that the output is exactly the force field that was optimized."
   ]
  },
  {
   "cell_type": "code",
   "execution_count": null,
   "id": "75d1805f-f961-4085-be3e-e36ee3cff9b4",
   "metadata": {},
   "outputs": [],
   "source": [
    "bespoke = ForceField(\"./bespokefit-hexanoic-acid.offxml\")\n",
    "bespoke_starting_point = ForceField(\"openff-2.1.1.offxml\")\n",
    "\n",
    "from difflib import Differ\n",
    "\n",
    "[\n",
    "    line \n",
    "    for line \n",
    "    in Differ().compare(bespoke_starting_point.to_string().splitlines(), bespoke.to_string().splitlines())\n",
    "    if not line.startswith(\" \")\n",
    "]"
   ]
  },
  {
   "cell_type": "markdown",
   "id": "aceed1ed-a340-4147-8139-35d2ce092dac",
   "metadata": {},
   "source": [
    "## Your Own Force Fields"
   ]
  },
  {
   "cell_type": "markdown",
   "id": "b84fbd7a-e13e-4851-829b-7e0d895b1295",
   "metadata": {},
   "source": [
    "Tools for authoring SMIRNOFF force fields are still at an early stage:\n",
    "\n",
    "- https://smarts.plus/ for visualizing the chemistry your SMARTS/SMIRKS can match\n",
    "\n",
    "- https://github.com/MobleyLab/chemper for generating SMIRKS for chemical fragments\n",
    "\n",
    "You might also take inspiration from how we produce OpenFF force fields - though unfortunately we cannot support this software as it is intended for internal use:\n",
    "\n",
    "- ⚠️ https://github.com/openforcefield/amber-ff-porting is our tooling for porting Amber ff14SB to SMIRNOFF\n",
    "- ⚠️ https://github.com/openforcefield/sage-2.2.0 is our WIP next release of Sage, including scripts used for re-fitting"
   ]
  },
  {
   "cell_type": "markdown",
   "id": "90aebb9d-9408-4516-b727-fe8fd43b6fc2",
   "metadata": {},
   "source": [
    "### Shipping your force field"
   ]
  },
  {
   "cell_type": "markdown",
   "id": "c67c617c-4e17-4b20-885d-0bdc090b297e",
   "metadata": {},
   "source": [
    "Expose a function that provides a list of directories your package places force fields in. Say you want to publish force fields in the `offxml` directory at the top level of your package `mypackage`:\n",
    "\n",
    "`mypackage/_forcefields.py`:\n",
    "\n",
    "```python\n",
    "from importlib.resources import files\n",
    "\n",
    "def get_forcefield_dirs_paths() -> list[str]:\n",
    "    return [(files(\"mypackage\") / \"offxml\").as_posix()]\n",
    "```\n",
    "\n",
    "Then, tell PIP about your data files and entry points:\n",
    "\n",
    "If you're using `setup.py`:\n",
    "\n",
    "```python\n",
    "\n",
    "setup(\n",
    "    ...\n",
    "    # Package the contents of the offxml directory, even if they're not Python files\n",
    "    package_data={\"mypackage\": [\"offxml/*\"]},\n",
    "    # Add entry point so that the forcefield directory can be discovered by the openforcefield toolkit.\n",
    "    entry_points={\n",
    "        \"openforcefield.smirnoff_forcefield_directory\": [\n",
    "            \"get_forcefield_dirs_paths = mypackage._forcefields:get_forcefield_dirs_paths\",\n",
    "        ],\n",
    "    },\n",
    ")\n",
    "```\n",
    "\n",
    "Or `pyproject.toml`:\n",
    "\n",
    "```toml\n",
    "# Package the contents of the offxml directory, even if they're not Python files\n",
    "[tool.setuptools.package-data]\n",
    "mypackage = [\"offxml/*\"]\n",
    "\n",
    "# Add entry point so that the forcefield directory can be discovered by the openforcefield toolkit.\n",
    "[project.entry-points.\"openforcefield.smirnoff_forcefield_directory\"]\n",
    "get_forcefield_dirs_paths = \"mypackage._forcefields:get_forcefield_dirs_paths\"\n",
    "```\n"
   ]
  },
  {
   "cell_type": "code",
   "execution_count": null,
   "id": "277e8c25-d662-4702-b5cd-66ebd15bf523",
   "metadata": {
    "scrolled": true
   },
   "outputs": [],
   "source": [
    "from importlib_metadata import entry_points\n",
    "from pathlib import Path\n",
    "\n",
    "for entry_point in entry_points().select(\n",
    "    group=\"openforcefield.smirnoff_forcefield_directory\"\n",
    "):\n",
    "    for directory in entry_point.load()():\n",
    "        filename = Path(directory) / \"openff-2.1.1.offxml\"\n",
    "        if filename.is_file():\n",
    "            print(filename.read_text())\n",
    "            break"
   ]
  },
  {
   "cell_type": "code",
   "execution_count": null,
   "id": "93323e47-d684-4fda-b350-a56581e7526f",
   "metadata": {
    "scrolled": true
   },
   "outputs": [],
   "source": [
    "for entry_point in entry_points().select(\n",
    "    group=\"openforcefield.smirnoff_forcefield_directory\"\n",
    "):\n",
    "    for directory in entry_point.load()():\n",
    "        for file in Path(directory).iterdir():\n",
    "            print(file)"
   ]
  },
  {
   "cell_type": "markdown",
   "id": "5e687f3f-4dc7-4b28-86d4-066d4ca84a76",
   "metadata": {},
   "source": [
    "## Wrapping up\n",
    "\n",
    "1. SMIRNOFF defines a map from chemistry to a potential energy function\n",
    "2. Chemistry is defined through SMIRKS\n",
    "3. Only the last, most specific SMIRKS sets the parameter\n",
    "4. OpenFF tools export fully prepared systems, not generic force fields\n",
    "5. You can publish SMIRNOFF force fields on Conda Forge now!\n",
    "\n",
    "See our examples page for more: https://docs.openforcefield.org/examples\n",
    "\n",
    "<img src=\"openff-examples-screenshot.png\" width=600  />\n",
    "\n",
    "<!-- TODO: Pictures! xkcd? -->"
   ]
  },
  {
   "cell_type": "code",
   "execution_count": null,
   "id": "0fec6a39-803e-4fa0-ba91-8941ecc608e0",
   "metadata": {},
   "outputs": [],
   "source": []
  }
 ],
 "metadata": {
  "kernelspec": {
   "display_name": "Python 3 (ipykernel)",
   "language": "python",
   "name": "python3"
  },
  "language_info": {
   "codemirror_mode": {
    "name": "ipython",
    "version": 3
   },
   "file_extension": ".py",
   "mimetype": "text/x-python",
   "name": "python",
   "nbconvert_exporter": "python",
   "pygments_lexer": "ipython3",
   "version": "3.10.13"
  },
  "widgets": {
   "application/vnd.jupyter.widget-state+json": {
    "state": {},
    "version_major": 2,
    "version_minor": 0
   }
  }
 },
 "nbformat": 4,
 "nbformat_minor": 5
}
