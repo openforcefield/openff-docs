{
 "cells": [
  {
   "cell_type": "code",
   "execution_count": null,
   "id": "fc25f4c9-4921-4028-bb43-c0d13633a29e",
   "metadata": {},
   "outputs": [],
   "source": [
    "!pip install -U https://github.com/conda-incubator/condacolab/archive/cuda-version-12.tar.gz\n",
    "import condacolab\n",
    "condacolab.install_mambaforge()"
   ]
  },
  {
   "cell_type": "code",
   "execution_count": null,
   "id": "0e3420b2-af52-4de8-964e-f40c5324ba46",
   "metadata": {},
   "outputs": [],
   "source": [
    "!wget -qN https://raw.githubusercontent.com/openforcefield/openff-docs/main/source/workshops/2024/protein_prep/utils.py\n",
    "!wget -qN https://raw.githubusercontent.com/openforcefield/openff-docs/main/source/workshops/2024/protein_prep/colab-env.yml\n",
    "!mamba env update -q --name=base --file=colab-env.yml"
   ]
  },
  {
   "cell_type": "code",
   "execution_count": null,
   "id": "03f7bc86-d4af-4ac2-be7b-7bb6281512d3",
   "metadata": {},
   "outputs": [],
   "source": [
    "from google.colab import output\n",
    "output.enable_custom_widget_manager()"
   ]
  },
  {
   "cell_type": "markdown",
   "id": "ab195047-4267-425d-8e41-596ded5e565f",
   "metadata": {},
   "source": [
    "# Open Source Protein Preparation in Jupyter"
   ]
  },
  {
   "cell_type": "markdown",
   "id": "5aad2ca7-698d-4530-be69-947edaf47ec3",
   "metadata": {
    "editable": true,
    "slideshow": {
     "slide_type": ""
    },
    "tags": []
   },
   "source": [
    "The point of this workshop is to demonstrate what is possible entirely with Open Source tools, and to provide a framework for semi-interactive preparation of chemical systems in Jupyter.\n",
    "\n",
    "What can we do?\n",
    "\n",
    "- Repair proteins with missing loops, residues, atoms\n",
    "    - Automatically if missing parts are described in the PDB header\n",
    "    - Manually otherwise\n",
    "    - Restored loop structures unlikely to be high quality\n",
    "- Returning non-standard amino acids to what was translated\n",
    "    - Automatically if\n",
    "        - in the PDBFixer [substitution table]\n",
    "        - or in MODRES records in the PDB header\n",
    "    - Manually otherwise\n",
    "- Titrate protonation states realistically (with PropPKa via PDB2PQR)\n",
    "- Dock a small molecule (with Autodock Vina via Dockstring)\n",
    "- Solvate\n",
    "- Parametrize\n",
    "- Simulate\n",
    " \n",
    "What can't we do?\n",
    "\n",
    "- Non-standard amino acids and PTMs (see \"Things to make and do\"!)\n",
    "- Metalloproteins\n",
    "- Biopolymers other than proteins\n",
    "- Lipids\n",
    " \n",
    "What's a bit tricky?\n",
    "\n",
    "- Disulfide bonds\n",
    "    - Disulfide bonds in the PDB CONECT records are used\n",
    "    - Disulfide bonds not in the PDB CONECT records may be detected from proximity\n",
    "\n",
    "[substitution table]: https://github.com/openmm/pdbfixer/blob/6bf10e138f6475f6f1850dae78d7bf1b420a1612/pdbfixer/pdbfixer.py#L67\n"
   ]
  },
  {
   "cell_type": "code",
   "execution_count": null,
   "id": "dcdd5b76-313d-4c8a-a933-8c910fd8912b",
   "metadata": {},
   "outputs": [],
   "source": [
    "from utils import nglview_show_openmm, show_fixer"
   ]
  },
  {
   "cell_type": "markdown",
   "id": "3223640f-f3d8-49ea-b3f9-f96f4f217820",
   "metadata": {},
   "source": [
    "## Loading a PDB"
   ]
  },
  {
   "cell_type": "markdown",
   "id": "674bae38-0428-4bf3-aea4-f155b5265769",
   "metadata": {
    "editable": true,
    "slideshow": {
     "slide_type": ""
    },
    "tags": []
   },
   "source": [
    "Choose and download a PDB! These were chosen by [searching] for models with features that are particularly difficult to prepare automatically - missing loops, post-translationally modified residues, and so on. If you already have a PDB, either put it's ID in here, or skip the next two cells and load it into PDBFixer directly.\n",
    "\n",
    "[searching]: https://www.rcsb.org/search?request=%7B%22query%22%3A%7B%22type%22%3A%22group%22%2C%22logical_operator%22%3A%22and%22%2C%22nodes%22%3A%5B%7B%22type%22%3A%22group%22%2C%22logical_operator%22%3A%22and%22%2C%22nodes%22%3A%5B%7B%22type%22%3A%22group%22%2C%22nodes%22%3A%5B%7B%22type%22%3A%22terminal%22%2C%22service%22%3A%22text%22%2C%22parameters%22%3A%7B%22attribute%22%3A%22rcsb_assembly_info.unmodeled_polymer_monomer_count%22%2C%22operator%22%3A%22greater_or_equal%22%2C%22negation%22%3Afalse%2C%22value%22%3A20%7D%7D%2C%7B%22type%22%3A%22terminal%22%2C%22service%22%3A%22text%22%2C%22parameters%22%3A%7B%22attribute%22%3A%22rcsb_assembly_info.polymer_entity_instance_count_protein%22%2C%22operator%22%3A%22equals%22%2C%22negation%22%3Afalse%2C%22value%22%3A1%7D%7D%2C%7B%22type%22%3A%22terminal%22%2C%22service%22%3A%22text%22%2C%22parameters%22%3A%7B%22attribute%22%3A%22rcsb_assembly_info.polymer_monomer_count%22%2C%22operator%22%3A%22less%22%2C%22negation%22%3Afalse%2C%22value%22%3A400%7D%7D%2C%7B%22type%22%3A%22group%22%2C%22logical_operator%22%3A%22and%22%2C%22nodes%22%3A%5B%7B%22type%22%3A%22terminal%22%2C%22service%22%3A%22text%22%2C%22parameters%22%3A%7B%22attribute%22%3A%22rcsb_polymer_instance_feature_summary.coverage%22%2C%22operator%22%3A%22greater_or_equal%22%2C%22negation%22%3Afalse%2C%22value%22%3A0.05%7D%7D%2C%7B%22type%22%3A%22terminal%22%2C%22service%22%3A%22text%22%2C%22parameters%22%3A%7B%22attribute%22%3A%22rcsb_polymer_instance_feature_summary.type%22%2C%22operator%22%3A%22exact_match%22%2C%22value%22%3A%22UNOBSERVED_ATOM_XYZ%22%2C%22negation%22%3Afalse%7D%7D%5D%2C%22label%22%3A%22nested-attribute%22%7D%2C%7B%22type%22%3A%22group%22%2C%22logical_operator%22%3A%22and%22%2C%22nodes%22%3A%5B%7B%22type%22%3A%22terminal%22%2C%22service%22%3A%22text%22%2C%22parameters%22%3A%7B%22attribute%22%3A%22rcsb_polymer_entity_feature_summary.count%22%2C%22operator%22%3A%22greater_or_equal%22%2C%22negation%22%3Afalse%2C%22value%22%3A2%7D%7D%2C%7B%22type%22%3A%22terminal%22%2C%22service%22%3A%22text%22%2C%22parameters%22%3A%7B%22attribute%22%3A%22rcsb_polymer_entity_feature_summary.type%22%2C%22operator%22%3A%22exact_match%22%2C%22value%22%3A%22modified_monomer%22%2C%22negation%22%3Afalse%7D%7D%5D%2C%22label%22%3A%22nested-attribute%22%7D%2C%7B%22type%22%3A%22terminal%22%2C%22service%22%3A%22text%22%2C%22parameters%22%3A%7B%22attribute%22%3A%22rcsb_entry_info.deposited_polymer_entity_instance_count%22%2C%22operator%22%3A%22equals%22%2C%22negation%22%3Afalse%2C%22value%22%3A1%7D%7D%2C%7B%22type%22%3A%22terminal%22%2C%22service%22%3A%22text%22%2C%22parameters%22%3A%7B%22attribute%22%3A%22rcsb_entity_source_organism.ncbi_scientific_name%22%2C%22operator%22%3A%22contains_phrase%22%2C%22negation%22%3Afalse%2C%22value%22%3A%22homo%20sapiens%22%7D%7D%5D%2C%22logical_operator%22%3A%22and%22%7D%5D%2C%22label%22%3A%22text%22%7D%5D%7D%2C%22return_type%22%3A%22entry%22%2C%22request_options%22%3A%7B%22paginate%22%3A%7B%22start%22%3A0%2C%22rows%22%3A25%7D%2C%22results_content_type%22%3A%5B%22experimental%22%5D%2C%22sort%22%3A%5B%7B%22sort_by%22%3A%22score%22%2C%22direction%22%3A%22desc%22%7D%5D%2C%22scoring_strategy%22%3A%22combined%22%7D%2C%22request_info%22%3A%7B%22query_id%22%3A%223fa061d70a5f7b845dbc81ffb7ed7866%22%7D%7D"
   ]
  },
  {
   "cell_type": "code",
   "execution_count": null,
   "id": "813969cf-2e0e-45de-9332-418d9020e2ad",
   "metadata": {},
   "outputs": [],
   "source": [
    "pdbid = \"5ap1\"\n",
    "\n",
    "# pdbid = \"2r2j\"\n",
    "\n",
    "# pdbid = \"2bvx\"\n",
    "# pdbid = \"4dzr\"\n",
    "# pdbid = \"4isc\"\n",
    "# pdbid = \"1xjo\"\n",
    "# pdbid = \"1kl9\"\n",
    "# pdbid = \"1gz2\"\n",
    "# pdbid = \"5O11\""
   ]
  },
  {
   "cell_type": "code",
   "execution_count": null,
   "id": "69a27c08-c34e-4d42-a081-994b704330e4",
   "metadata": {},
   "outputs": [],
   "source": [
    "import urllib.request\n",
    "\n",
    "urllib.request.urlretrieve(\n",
    "    f\"https://files.rcsb.org/download/{pdbid}.pdb\", f\"{pdbid}.pdb\"\n",
    ")"
   ]
  },
  {
   "cell_type": "markdown",
   "id": "26a04e42-5fa1-43c9-86db-b0b45e3268a8",
   "metadata": {},
   "source": [
    "Load and visualize the entire PDB file. If you have your own PDB file, follow the instructions in the comment to load it. Red dots are crystallographic water oxygens. Spheres are non-polymers, cartoons are protein."
   ]
  },
  {
   "cell_type": "code",
   "execution_count": null,
   "id": "e0504439-b94b-4802-9546-263a27628a08",
   "metadata": {},
   "outputs": [],
   "source": [
    "from pdbfixer import PDBFixer\n",
    "\n",
    "fixer = PDBFixer(filename=f\"{pdbid}.pdb\")\n",
    "\n",
    "# # If you have your own PDB file, uncomment this and enter the filename here\n",
    "# fixer = PDBFixer(filename=f\"my_pdb_file.pdb\")\n",
    "\n",
    "show_fixer(fixer)"
   ]
  },
  {
   "cell_type": "markdown",
   "id": "fc228ca6-2e72-4c0e-9b88-1a6e19f45550",
   "metadata": {},
   "source": [
    "## Repairing the protein model"
   ]
  },
  {
   "cell_type": "markdown",
   "id": "352963f3-37ca-46b8-a82c-73c3a7368aa6",
   "metadata": {},
   "source": [
    "### Terminal caps and missing residues"
   ]
  },
  {
   "cell_type": "markdown",
   "id": "ac9f7a26-f8e7-427a-b8d5-ed19d5257c20",
   "metadata": {},
   "source": [
    "Identify missing loops and label where they connect to modelled residues. Loops connect spheres of the same colour. A single sphere of a given color indicates residues removed from a terminus."
   ]
  },
  {
   "cell_type": "code",
   "execution_count": null,
   "id": "e9c5555e-2fa2-4042-a049-5f2ffe639f08",
   "metadata": {},
   "outputs": [],
   "source": [
    "from utils import check_missing_residues\n",
    "\n",
    "fixer.findMissingResidues()\n",
    "\n",
    "widget, missing_loops_selection = check_missing_residues(fixer)\n",
    "widget"
   ]
  },
  {
   "cell_type": "markdown",
   "id": "28000b2a-ebc0-479a-be36-6a48bc93c44f",
   "metadata": {},
   "source": [
    "`findMissingResidues()` stores the residues it finds in the `missingResidues` dictionary: \n",
    "\n",
    "```python\n",
    "fixer.missingResidues = {\n",
    "    (chain_index: int, residue_index_before_loop: int): [\n",
    "        residue_name_to_insert: str,\n",
    "        residue_name_to_insert: str,\n",
    "        residue_name_to_insert: str,\n",
    "        ...\n",
    "    ]\n",
    "}\n",
    "```\n",
    "\n",
    "So the residues that are actually added can be modified by tweaking this dictionary. This can be used to replace missing terminal loops with a neutral capping residue - `'ACE'` for an acetyl group or `NME` for an N-methyl group.\n",
    "\n",
    "If this cell is not run, terminal loops will be restored automatically based on the metadata in the PDB header. Note that this will most likely increase the size of the box needed, as the restored loops will be unfolded and probably extended. However, if you have some process for optimizing terminal loops and the unmodelled residues are important for protein structure or function, you may want to include them."
   ]
  },
  {
   "cell_type": "code",
   "execution_count": null,
   "id": "7e865181-f82b-47b2-be5a-c80114ba41e7",
   "metadata": {},
   "outputs": [],
   "source": [
    "# Run this cell only if you want capped termini\n",
    "\n",
    "chains_to_cap = {chain for chain, resi in fixer.missingResidues}\n",
    "for chainid in chains_to_cap:\n",
    "    chain = [*fixer.topology.chains()][chainid]\n",
    "    last_resi = len([*chain.residues()])\n",
    "\n",
    "    fixer.missingResidues[chainid, 0] = [\"ACE\"]\n",
    "    fixer.missingResidues[chainid, last_resi] = [\"NME\"]\n",
    "\n",
    "fixer.missingResidues"
   ]
  },
  {
   "cell_type": "markdown",
   "id": "2852c396-614c-4aaf-872a-1cf8e86a52e0",
   "metadata": {},
   "source": [
    "If no missing residues were detected, but you know there is one, you can tell PDBFixer about it in a similar way:"
   ]
  },
  {
   "cell_type": "code",
   "execution_count": null,
   "id": "ea5bc954-cf9c-401b-a0a2-6bb84b2bf743",
   "metadata": {},
   "outputs": [],
   "source": [
    "# # If there is a GGGS loop missing between residue indices 23 and 24 in chain 0: \n",
    "# fixer.missingResidues.update({\n",
    "#     (0, 23): ['GLY', 'GLY', 'GLY', 'S'],\n",
    "# })"
   ]
  },
  {
   "cell_type": "markdown",
   "id": "5c85fc6b-bc53-44d8-a885-98e62b0448b9",
   "metadata": {
    "execution": {
     "iopub.execute_input": "2024-02-26T02:37:24.527484Z",
     "iopub.status.busy": "2024-02-26T02:37:24.527112Z",
     "iopub.status.idle": "2024-02-26T02:37:24.530187Z",
     "shell.execute_reply": "2024-02-26T02:37:24.529727Z",
     "shell.execute_reply.started": "2024-02-26T02:37:24.527463Z"
    }
   },
   "source": [
    "Now that we've made our modifications, we can check what's going to happen again:"
   ]
  },
  {
   "cell_type": "code",
   "execution_count": null,
   "id": "b6087163-b1c8-4fb8-8767-f30603eac788",
   "metadata": {},
   "outputs": [],
   "source": [
    "widget, missing_loops_selection = check_missing_residues(fixer)\n",
    "widget"
   ]
  },
  {
   "cell_type": "markdown",
   "id": "5b738aa0-062d-44a6-a4bd-bd81d9baff0e",
   "metadata": {},
   "source": [
    "The missing loops will be added to the model alongside the other missing heavy atoms in a later step."
   ]
  },
  {
   "cell_type": "markdown",
   "id": "3ce367cb-bc61-4cc6-9903-1945cd43320a",
   "metadata": {},
   "source": [
    "### Standardizing non-standard residues"
   ]
  },
  {
   "cell_type": "markdown",
   "id": "51c1e931-9edd-4a38-bdaa-9ad16daa896a",
   "metadata": {},
   "source": [
    "Identify non-standard residues."
   ]
  },
  {
   "cell_type": "code",
   "execution_count": null,
   "id": "71a7a6a3-44fa-42b3-8e09-00c72166b8f7",
   "metadata": {},
   "outputs": [],
   "source": [
    "from pprint import pprint\n",
    "\n",
    "fixer.findNonstandardResidues()"
   ]
  },
  {
   "cell_type": "markdown",
   "id": "cc7c0e87-b215-417f-b000-0c2bda6b1439",
   "metadata": {},
   "source": [
    "`fixer.findNonstandardResidues()` stores the residues it finds in `fixer.nonstandardResidues`, a list of tuples defining which residues should be replaced with what:\n",
    "\n",
    "```python\n",
    "[(from_residue: openmm.app.Residue, to_residue_name: str), ...]`\n",
    "```\n",
    "\n",
    "It can be modified now to mutate standard residues, tell PDBFixer about nonstandard residues it hasn't found, or change the default behavior."
   ]
  },
  {
   "cell_type": "code",
   "execution_count": null,
   "id": "1b9f2dc7-fe68-46de-a79b-6b818a2955df",
   "metadata": {},
   "outputs": [],
   "source": [
    "# # To mutate residue at index 10 to glycine\n",
    "# fixer.nonstandardResidues.append(([*fixer.topology.residues()][10], 'GLY'))"
   ]
  },
  {
   "cell_type": "markdown",
   "id": "4bbb2002-496c-43b0-851d-77c2a3fd5d94",
   "metadata": {},
   "source": [
    "Visualize the changes we're about to make. Non-standard residues are displayed in licorice, and their modelled and expected residue names are displayed."
   ]
  },
  {
   "cell_type": "code",
   "execution_count": null,
   "id": "1e213654-1a31-42cb-8f5b-dfd6816f2218",
   "metadata": {},
   "outputs": [],
   "source": [
    "pprint(fixer.nonstandardResidues)\n",
    "\n",
    "nsaa_selections = [\n",
    "    f\"{residue.index+1}:{residue.chain.id}\"\n",
    "    for residue, target in fixer.nonstandardResidues\n",
    "]\n",
    "\n",
    "widget = show_fixer(fixer, \"cartoononly\")\n",
    "widget.add_representation(\n",
    "    \"licorice\",\n",
    "    selection=\" or \".join(nsaa_selections),\n",
    "    radius=0.25,\n",
    ")\n",
    "widget"
   ]
  },
  {
   "cell_type": "markdown",
   "id": "e32b0e22-5f59-469e-a716-1b3c772a0e17",
   "metadata": {},
   "source": [
    "Remove atoms in non-standard residues that are missing in the target residue. For instance, remove selenium from selenomethionine so that sulfur can replace it. Modelled small molecules are difficult to protonate unambigously and are often non-biologically relevant artifacts of crystallisation, and so are removed as well. Remaining atoms of non-standard residues are displayed in licorice."
   ]
  },
  {
   "cell_type": "code",
   "execution_count": null,
   "id": "6d9d2966-91fd-4815-8800-f542b230d717",
   "metadata": {},
   "outputs": [],
   "source": [
    "fixer.replaceNonstandardResidues()\n",
    "\n",
    "widget = show_fixer(fixer, \"cartoononly\")\n",
    "widget.add_representation(\n",
    "    \"licorice\",\n",
    "    selection=\" or \".join(nsaa_selections),\n",
    "    radius=0.25,\n",
    ")\n",
    "widget"
   ]
  },
  {
   "cell_type": "markdown",
   "id": "64663d47-4284-4a08-88f6-3fb839e59d3c",
   "metadata": {},
   "source": [
    "### Removing non-biopolymer components"
   ]
  },
  {
   "cell_type": "markdown",
   "id": "c7555ce9-4ad8-4739-bc46-564a743cade3",
   "metadata": {},
   "source": [
    "Doing this earlier would remove non-standard residues before they could be repaired. All atoms that aren't a part of a standard [DNA], [RNA] or [protein] residue are removed.\n",
    "\n",
    "[protein]: https://github.com/openmm/pdbfixer/blob/6bf10e138f6475f6f1850dae78d7bf1b420a1612/pdbfixer/pdbfixer.py#L83\n",
    "[RNA]: https://github.com/openmm/pdbfixer/blob/6bf10e138f6475f6f1850dae78d7bf1b420a1612/pdbfixer/pdbfixer.py#L84\n",
    "[DNA]: https://github.com/openmm/pdbfixer/blob/6bf10e138f6475f6f1850dae78d7bf1b420a1612/pdbfixer/pdbfixer.py#L85"
   ]
  },
  {
   "cell_type": "code",
   "execution_count": null,
   "id": "327cd2ed",
   "metadata": {},
   "outputs": [],
   "source": [
    "fixer.removeHeterogens(keepWater=True)\n",
    "\n",
    "show_fixer(fixer)"
   ]
  },
  {
   "cell_type": "markdown",
   "id": "b66779aa-c0d5-4531-a52b-c80e74756c07",
   "metadata": {
    "execution": {
     "iopub.execute_input": "2024-02-26T05:38:41.192693Z",
     "iopub.status.busy": "2024-02-26T05:38:41.192210Z",
     "iopub.status.idle": "2024-02-26T05:38:41.195470Z",
     "shell.execute_reply": "2024-02-26T05:38:41.194910Z",
     "shell.execute_reply.started": "2024-02-26T05:38:41.192666Z"
    }
   },
   "source": [
    "### Check disulfide bonds"
   ]
  },
  {
   "cell_type": "markdown",
   "id": "fc2e9b18-5272-4f99-9842-04db24a1380f",
   "metadata": {},
   "source": [
    "There isn't a simple way to adjust disulfide bonds with PDBFixer, but we can at least inspect which bonds have been autodetected.\n",
    "\n",
    "It may be possible to add a bond to the topology and then use PDBFixer's `_createForceField()` private method to prepare a partial force field for energy minimization even without hydrogens, but as this uses a private method it is left as an exercise to the reader."
   ]
  },
  {
   "cell_type": "code",
   "execution_count": null,
   "id": "b6891745-ac8f-4057-b51d-839345ff36be",
   "metadata": {},
   "outputs": [],
   "source": [
    "disulfides = [\n",
    "    bond for bond in fixer.topology.bonds() \n",
    "    if bond.atom1.element.symbol == 'S' and bond.atom2.element.symbol == 'S'\n",
    "]\n",
    "print(disulfides)\n",
    "\n",
    "w = show_fixer(fixer, 'cartoononly')\n",
    "w.add_licorice(selection='CYS CYX', radius=0.5)\n",
    "w"
   ]
  },
  {
   "cell_type": "markdown",
   "id": "1db70f2c-419e-49aa-b85e-a56053fd4338",
   "metadata": {
    "execution": {
     "iopub.execute_input": "2024-02-26T02:24:30.843926Z",
     "iopub.status.busy": "2024-02-26T02:24:30.843450Z",
     "iopub.status.idle": "2024-02-26T02:24:30.846098Z",
     "shell.execute_reply": "2024-02-26T02:24:30.845647Z",
     "shell.execute_reply.started": "2024-02-26T02:24:30.843907Z"
    }
   },
   "source": [
    "### Restoring missing heavy atoms"
   ]
  },
  {
   "cell_type": "markdown",
   "id": "b4202a46-78d4-49fe-a14d-cc3a98695ace",
   "metadata": {},
   "source": [
    "Find atoms missing from standard residues. All residues that include missing atoms (including atoms removed from non-standard residues) are displayed in licorice. Earlier residues are colored red in the cartoon/ribbon, later residues are colored blue."
   ]
  },
  {
   "cell_type": "code",
   "execution_count": null,
   "id": "496e1a2d-92f6-4b8d-b2f5-43a3c8c478f5",
   "metadata": {},
   "outputs": [],
   "source": [
    "from itertools import chain\n",
    "\n",
    "fixer.findMissingAtoms()\n",
    "pprint(fixer.missingAtoms)\n",
    "pprint(fixer.missingTerminals)\n",
    "\n",
    "missing_atom_selections = [\n",
    "    f\"{residue.index+1}:{residue.chain.id}\"\n",
    "    for residue in chain(fixer.missingAtoms, fixer.missingTerminals)\n",
    "]\n",
    "\n",
    "widget = show_fixer(fixer, \"cartoononly\")\n",
    "widget.add_representation(\n",
    "    \"licorice\",\n",
    "    selection=\" or \".join(missing_atom_selections),\n",
    "    radius=0.25,\n",
    ")\n",
    "widget"
   ]
  },
  {
   "cell_type": "markdown",
   "id": "f37b632d-130b-4405-864f-e73fa9ee3389",
   "metadata": {},
   "source": [
    "Add missing atoms from non-standard or incomplete residues. Residues for which this step has added atoms are in licorice."
   ]
  },
  {
   "cell_type": "code",
   "execution_count": null,
   "id": "14bf1c9e-cc5f-4bd0-8842-f1662939d72e",
   "metadata": {},
   "outputs": [],
   "source": [
    "fixer.addMissingAtoms()\n",
    "\n",
    "widget = show_fixer(fixer, \"cartoononly\")\n",
    "widget.add_representation(\n",
    "    \"licorice\",\n",
    "    selection=\" or \".join(missing_atom_selections),\n",
    "    radius=0.25,\n",
    ")\n",
    "widget.add_representation(\n",
    "    \"backbone\", selection=missing_loops_selection, radius=1, color=\"green\"\n",
    ")\n",
    "widget.add_representation(\n",
    "    \"ball+stick\", selection=\"ACE NME\", radius=0.25\n",
    ")\n",
    "widget"
   ]
  },
  {
   "cell_type": "markdown",
   "id": "f9b45e89-894c-4bf7-84b1-29c62d90e533",
   "metadata": {
    "execution": {
     "iopub.execute_input": "2024-02-26T02:25:03.906622Z",
     "iopub.status.busy": "2024-02-26T02:25:03.906300Z",
     "iopub.status.idle": "2024-02-26T02:25:03.908728Z",
     "shell.execute_reply": "2024-02-26T02:25:03.908407Z",
     "shell.execute_reply.started": "2024-02-26T02:25:03.906608Z"
    }
   },
   "source": [
    "### OPTIONAL: All of the above, automatically"
   ]
  },
  {
   "cell_type": "code",
   "execution_count": null,
   "id": "379c8d8b-540e-444c-8585-dc05474aed5a",
   "metadata": {},
   "outputs": [],
   "source": [
    "# # If you don't want to check what's happening at every step,\n",
    "# # all of the above can be done at once like this:\n",
    "# from pdbfixer import PDBFixer\n",
    "\n",
    "# fixer = PDBFixer(filename=f\"{pdbid}.pdb\")\n",
    "# fixer.findMissingResidues()\n",
    "\n",
    "# # This section adds caps; leave it commented to rebuild terminal loops\n",
    "# chains_to_cap = {chain for chain, resi in fixer.missingResidues}\n",
    "# for chainidx in chains_to_cap:\n",
    "#     chain = [*fixer.topology.chains()][chainidx]\n",
    "#     last_resi = len([*chain.residues()])\n",
    "#     fixer.missingResidues[chainidx, 0] = ['ACE']\n",
    "#     fixer.missingResidues[chainidx, last_resi] = ['NME']\n",
    "\n",
    "# fixer.findNonstandardResidues()\n",
    "# fixer.replaceNonstandardResidues()\n",
    "# fixer.removeHeterogens(keepWater=True)\n",
    "# fixer.findMissingAtoms()\n",
    "# fixer.addMissingAtoms()\n",
    "\n",
    "# # This last step is not included above, but may be desirable\n",
    "# # fixer.addMissingHydrogens(pH=7.4)\n",
    "\n",
    "# show_fixer(fixer)"
   ]
  },
  {
   "cell_type": "markdown",
   "id": "eddd5dd6-c5eb-40b7-86a0-0bdce9051d1b",
   "metadata": {},
   "source": [
    "### Protonating"
   ]
  },
  {
   "cell_type": "markdown",
   "id": "38bc5aa4-56a4-4b9e-a6c7-8c7359b20809",
   "metadata": {},
   "source": [
    "PDBFixer can protonate a protein, but it uses standard pKₐ values for all residues. As a result, the protonation state of all copies of each residue will be the same, regardless of their chemical environment. The program `pdb2pqr` can automatically protonate a protein after titrating residues with `propka`, so we'll use it for protonation, however it struggles to protonate crystallographic water. As a result, we'll use PDBFixer to provide a starting point for `pdb2pqr` to optimize. This will also give us an opportunity to run an energy minimization to tidy up any messes from the above steps!\n"
   ]
  },
  {
   "cell_type": "code",
   "execution_count": null,
   "id": "7e01d73c-7113-48ab-8255-20d5e0d9bb3c",
   "metadata": {},
   "outputs": [],
   "source": [
    "import openmm.app\n",
    "\n",
    "pH = 7.4\n",
    "fixer.addMissingHydrogens(pH=pH)\n",
    "\n",
    "# # Optional energy minimization\n",
    "# simulation = openmm.app.Simulation(\n",
    "#     fixer.topology, \n",
    "#     openmm.app.ForceField('amber14-all.xml', 'amber14/tip3p.xml').createSystem(fixer.topology, nonbondedMethod=openmm.app.CutoffNonPeriodic), \n",
    "#     openmm.LangevinMiddleIntegrator(300*openmm.unit.kelvin, 1/openmm.unit.picosecond, 2*openmm.unit.femtosecond)\n",
    "# )\n",
    "# simulation.context.setPositions(fixer.positions)\n",
    "# simulation.minimizeEnergy()\n",
    "# fixer.positions = simulation.context.getState(getPositions=True).getPositions()"
   ]
  },
  {
   "cell_type": "code",
   "execution_count": null,
   "id": "828e5193-f413-4a22-97dc-f268ae9e8746",
   "metadata": {},
   "outputs": [],
   "source": [
    "from openmm.app import PDBFile\n",
    "\n",
    "PDBFile.writeFile(fixer.topology, fixer.positions, f'{pdbid}_repaired.pdb')\n",
    "\n",
    "!pdb2pqr --with-ph {pH} --pdb-output '{pdbid}_protonated.pdb' '{pdbid}_repaired.pdb' '{pdbid}_protonated.pqr'"
   ]
  },
  {
   "cell_type": "code",
   "execution_count": null,
   "id": "331b4bdf-66d4-4816-803c-d0674a086aac",
   "metadata": {},
   "outputs": [],
   "source": [
    "import nglview\n",
    "\n",
    "w = nglview.show_structure_file(f'{pdbid}_protonated.pdb')\n",
    "w.clear_representations()\n",
    "w.add_licorice()\n",
    "w"
   ]
  },
  {
   "cell_type": "markdown",
   "id": "d6c2222b-ed7e-4c1c-b16f-a5c9b83fd747",
   "metadata": {},
   "source": [
    "## Docking"
   ]
  },
  {
   "cell_type": "code",
   "execution_count": null,
   "id": "66b184cc-9c6a-4e00-b0b0-dec7ae13594f",
   "metadata": {},
   "outputs": [],
   "source": [
    "from utils import DockTarget\n",
    "\n",
    "target = DockTarget.from_pdb(f'{pdbid}_protonated.pdb')\n",
    "target.visualize()"
   ]
  },
  {
   "cell_type": "markdown",
   "id": "561de017-4ba1-46fc-b049-26ad4b722f26",
   "metadata": {},
   "source": [
    "Next, we position the search space for docking. The purple box displays the space that will be searched. The x, y, and z axes are depicted meeting at the origin; each arrow is 10 angstroms in length, and the target is specified in angstroms.\n",
    "\n",
    "When docking is performed, crystallographic water will be removed from the selected area so they don't get in the way. Note that the resulting system will not include these waters. However, the `DockTarget` instance will remember them in case you want to perform a second docking at a different site. "
   ]
  },
  {
   "cell_type": "code",
   "execution_count": null,
   "id": "b27f2b14-cb65-4143-a3c5-7ae80f2ad5d1",
   "metadata": {},
   "outputs": [],
   "source": [
    "target.center = [0, -20, -50]\n",
    "target.size = [20, 25, 20]\n",
    "\n",
    "target.visualize()"
   ]
  },
  {
   "cell_type": "code",
   "execution_count": null,
   "id": "e70e5326-9987-456e-933a-184f21ca3bae",
   "metadata": {},
   "outputs": [],
   "source": [
    "from openff.toolkit import Molecule\n",
    "\n",
    "ligand = Molecule.from_smiles(\n",
    "    r\"C1CCCCC1Nc(n2)c(C#N)ccc2Nc3cc(OCC#N)c(c4cn(C)nc4)cc3\",\n",
    ")\n",
    "# # Alternatively:\n",
    "# ligand = Molecule.from_file(\"ligand.sdf\")\n",
    "ligand"
   ]
  },
  {
   "cell_type": "code",
   "execution_count": null,
   "id": "dbf9018f-e054-400b-8f19-9a357587eadf",
   "metadata": {
    "editable": true,
    "slideshow": {
     "slide_type": ""
    },
    "tags": []
   },
   "outputs": [],
   "source": [
    "# This will re-protonate your ligand at the specified pH\n",
    "result = target.dock(ligand, pH=pH)\n",
    "print(result.scores)\n",
    "result.visualize()"
   ]
  },
  {
   "cell_type": "markdown",
   "id": "4e57e9b7-a5e6-4e47-bebf-8cadd20bc631",
   "metadata": {
    "execution": {
     "iopub.execute_input": "2024-02-25T23:59:08.144272Z",
     "iopub.status.busy": "2024-02-25T23:59:08.143972Z",
     "iopub.status.idle": "2024-02-25T23:59:08.147340Z",
     "shell.execute_reply": "2024-02-25T23:59:08.146826Z",
     "shell.execute_reply.started": "2024-02-25T23:59:08.144239Z"
    }
   },
   "source": [
    "## Solvating"
   ]
  },
  {
   "cell_type": "code",
   "execution_count": null,
   "id": "389b742a-54f9-4e05-ab33-5dc710e41292",
   "metadata": {},
   "outputs": [],
   "source": [
    "import numpy as np\n",
    "import openmm.unit\n",
    "\n",
    "# If you did docking\n",
    "solvator = result.to_pdbfixer(pose=0)\n",
    "# Or if you skipped docking\n",
    "# solvator = PDBFixer(f\"{pdbid}_protonated.pdb\")\n",
    "\n",
    "# This works well if your ligand is neutral, but PDBFixer does not always\n",
    "# correctly identify charged ligands, so you may need to do additional work \n",
    "# to neutralize your simulation box. Charged proteins are correctly identified\n",
    "# and will be automatically neutralized.\n",
    "# For example, you could delete ions to achieve the desired charge \n",
    "# (at the cost of some under-density).\n",
    "solvator.addSolvent(\n",
    "    padding=2.0 * openmm.unit.nanometer,\n",
    "    positiveIon=\"Na+\",\n",
    "    negativeIon=\"Cl-\",\n",
    "    ionicStrength=0.1 * openmm.unit.molar,\n",
    "    boxShape=\"dodecahedron\",\n",
    ")\n",
    "\n",
    "# Place the corner of the box at the origin\n",
    "solvator.positions -= (\n",
    "    np.min(solvator.positions.value_in_unit(solvator.positions.unit), axis=0)\n",
    "    * solvator.positions.unit\n",
    ")\n",
    "\n",
    "# Write the prepared system to disk\n",
    "PDBFile.writeFile(solvator.topology, solvator.positions, f\"{pdbid}_prepared.pdb\")\n",
    "\n",
    "show_fixer(solvator, 'withunitcell')"
   ]
  },
  {
   "cell_type": "markdown",
   "id": "9e42582f-9bf3-4d27-96d1-e9dac62388cc",
   "metadata": {},
   "source": [
    "## Parametrizing"
   ]
  },
  {
   "cell_type": "markdown",
   "id": "a4d046ad-841a-48f5-bd60-b6d462aca7eb",
   "metadata": {},
   "source": [
    "We're using OpenFF tools to load the prepared PDB and prepare the simulation. OpenFF tools follow a philosophy of requiring exact chemical identities for the entire system, and they use that to parametrize the chemistry directly, without the intermediate step of assigning atom types.\n",
    "\n",
    "Usually, the easiest way to load a system into the Toolkit is with the `Topology.from_pdb()` method. Since a topology requires complete chemical information about all its components, and since PDB files do not include this information, `from_pdb` requires that any molecules it doesn't know how to read be identified ahead of time with the `unique_molecules` argument.\n",
    "\n",
    "All the molecules in the PDB file can be provided in `unique_molecules` if desired, but the Toolkit knows how to read:\n",
    "\n",
    "- Proteins composed of the 20 canonical amino acids, plus NME and ACE caps\n",
    "- Water\n",
    "- Common monatomic, monovalent ions: Li+, Na+, K+, Rb+, Cs+, F-, Cl-, Br-, and I-\n",
    "\n",
    "The Toolkit has upcoming or experimental support for\n",
    "\n",
    "- User-specified non-standard amino acids\n",
    "- Nucleic acids and other non-protein biopolymers\n",
    "- PDBx and mmCIF files\n",
    "\n",
    "The Toolkit does not and is not planned to support:\n",
    "\n",
    "- Radicals"
   ]
  },
  {
   "cell_type": "code",
   "execution_count": null,
   "id": "cda2e3c0-53f7-4858-a197-57de49a880bb",
   "metadata": {},
   "outputs": [],
   "source": [
    "from openff.toolkit import Molecule, Topology\n",
    "\n",
    "top = Topology.from_pdb(f\"{pdbid}_prepared.pdb\", unique_molecules=[result.ligand])\n",
    "\n",
    "w = top.visualize()\n",
    "w.add_line()\n",
    "w"
   ]
  },
  {
   "cell_type": "code",
   "execution_count": null,
   "id": "d72b7d6d-83d8-4c2a-a29d-e0ab64f28457",
   "metadata": {},
   "outputs": [],
   "source": [
    "from openff.toolkit import ForceField\n",
    "\n",
    "sage_ff14sb = ForceField(\"openff-2.1.1.offxml\", \"ff14sb_off_impropers_0.0.3.offxml\")\n",
    "\n",
    "interchange = sage_ff14sb.create_interchange(top)"
   ]
  },
  {
   "cell_type": "markdown",
   "id": "a87506e4-b30e-44d9-9775-0b32461c1f29",
   "metadata": {},
   "source": [
    "The SMIRNOFF OFFXML format is a general format for force fields, but at present OpenFF seems to be the only people publishing them. Force fields use [semantic versioning]; the mainline OpenFF force field v2.x.y is called \"Sage\" and supports druglike small molecules. While it can parametrize proteins, Sage is not trained on peptides and so like many general force fields the parameters are not appropriate for proteins. \n",
    "\n",
    "We will use a port of Amber ff14sb to the OFFXML format in this workshop, but this combination of force fields has not been rigorously validated. The upcoming v3.x.y \"Rosemary\" force fields is planned to support proteins out of the box, and we recommend waiting for that release.\n",
    "\n",
    "Sage currently supports and is recommended for:\n",
    "\n",
    "- Small molecules and ions composed of the elements C, H, O, N, P, and S\n",
    "- Water (TIP3P)\n",
    "- Common monatomic, monovalent ions: Li+, Na+, K+, Rb+, Cs+, F-, Cl-, Br-, and I-\n",
    "- Monatomic xenon\n",
    "\n",
    "Sage does not yet support (though it may or may not be able to parametrize):\n",
    "\n",
    "- Bonds involving elements other than CHONPS\n",
    "- Most monatomic ions (these will fail to parametrize)\n",
    "- Proteins and other biopolymers\n",
    "- Lipid membranes\n",
    "\n",
    "[semantic versioning]: https://semver.org/"
   ]
  },
  {
   "cell_type": "markdown",
   "id": "546602bc-48d2-4cb3-a797-642a95e64e6a",
   "metadata": {},
   "source": [
    "OpenFF Topologies are parametrized by converting them into an `Interchange`, which represents the combination of a chemical system and a force field. An `Interchange` can export parameters ready for simulation in a number of engines."
   ]
  },
  {
   "cell_type": "markdown",
   "id": "ad1cfed8-9c49-4444-87a3-94f55807b10b",
   "metadata": {},
   "source": [
    "## Simulating in OpenMM"
   ]
  },
  {
   "cell_type": "code",
   "execution_count": null,
   "id": "730e86cb-9b87-40b7-bf57-6e93f85cc09d",
   "metadata": {},
   "outputs": [],
   "source": [
    "import openmm\n",
    "\n",
    "# Construct and configure a Langevin integrator at 293.15 K (20 °C, 68 °F) with an appropriate friction constant and time-step\n",
    "integrator = openmm.LangevinMiddleIntegrator(\n",
    "    293.15 * openmm.unit.kelvin,\n",
    "    1 / openmm.unit.picosecond,\n",
    "    2 * openmm.unit.femtosecond,\n",
    ")\n",
    "\n",
    "# Under the hood, this creates *OpenMM* `System` and `Topology` objects, then combines them together\n",
    "simulation = interchange.to_openmm_simulation(integrator=integrator)"
   ]
  },
  {
   "cell_type": "markdown",
   "id": "47069d47-d2e6-40cf-9424-2ec9eef30bad",
   "metadata": {},
   "source": [
    "### Energy Minimization"
   ]
  },
  {
   "cell_type": "markdown",
   "id": "6dfb5d8e-7747-40df-9922-74e76bf4f169",
   "metadata": {},
   "source": [
    "Energy minimization to ensure forces are small enough to integrate:"
   ]
  },
  {
   "cell_type": "code",
   "execution_count": null,
   "id": "dcf7d93e-ec03-4f2a-a506-484b15fa7725",
   "metadata": {},
   "outputs": [],
   "source": [
    "def describe_state_of(simulation: openmm.app.Simulation, name: str = \"State\"):\n",
    "    state = simulation.context.getState(getEnergy=True, getForces=True)\n",
    "    max_force = max(np.sqrt(v.x**2 + v.y**2 + v.z**2) for v in state.getForces())\n",
    "    print(\n",
    "        f\"{name} has energy {round(state.getPotentialEnergy()._value, 2)} kJ/mol \"\n",
    "        f\"with maximum force {round(max_force, 2)} kJ/(mol nm)\"\n",
    "    )\n",
    "\n",
    "\n",
    "describe_state_of(simulation, \"Original state\")\n",
    "\n",
    "simulation.minimizeEnergy()\n",
    "\n",
    "describe_state_of(simulation, \"Minimized state\")"
   ]
  },
  {
   "cell_type": "markdown",
   "id": "18289f4d-722c-4c41-b6cc-e8e3b41cbdc5",
   "metadata": {},
   "source": [
    "### Equilibration"
   ]
  },
  {
   "cell_type": "markdown",
   "id": "37a5b360-38b3-4b01-a535-7a881ce4f5c3",
   "metadata": {},
   "source": [
    "Create a force providing position restraints, restraining protein heavy atoms to their crystallographic coordinates. This prevents minimization and equilibration from disrupting the crystal structure too much, as there will be unrealistic forces at the start of the simulation. A similar technique could be applied to any subset of the atoms. "
   ]
  },
  {
   "cell_type": "code",
   "execution_count": null,
   "id": "c86ad878-f93f-4a49-b684-e017e91bcffb",
   "metadata": {},
   "outputs": [],
   "source": [
    "from openmm import CustomExternalForce\n",
    "\n",
    "# An external force has no equal-opposite pair force (and does not conserve momentum)\n",
    "# The pair force is applied \"externally\"\n",
    "restraint = CustomExternalForce(\"k*periodicdistance(x, y, z, x0, y0, z0)^2\")\n",
    "restraint.index = simulation.system.addForce(restraint)\n",
    "restraint.addGlobalParameter(\n",
    "    \"k\", 100.0 * openmm.unit.kilojoules_per_mole / openmm.unit.nanometer\n",
    ")\n",
    "restraint.addPerParticleParameter(\"x0\")\n",
    "restraint.addPerParticleParameter(\"y0\")\n",
    "restraint.addPerParticleParameter(\"z0\")\n",
    "\n",
    "# The first molecule in the topology is the protein\n",
    "for atom in interchange.topology.molecule(0).atoms:\n",
    "    if atom.symbol != \"H\":\n",
    "        atom_index = interchange.topology.atom_index(atom)\n",
    "        restraint.addParticle(\n",
    "            atom_index,\n",
    "            interchange.positions[atom_index].to_openmm(),\n",
    "        )\n",
    "\n",
    "# The context must be reinitialized after forces have been changed\n",
    "simulation.context.reinitialize(preserveState=True)"
   ]
  },
  {
   "cell_type": "markdown",
   "id": "86e38ba8-0f69-49a4-bd6f-3ec332d681f3",
   "metadata": {},
   "source": [
    "NVT equilibration:"
   ]
  },
  {
   "cell_type": "code",
   "execution_count": null,
   "id": "bdbb5693-ae22-4a8b-b543-9114bfbaec0f",
   "metadata": {},
   "outputs": [],
   "source": [
    "simulation.context.setVelocitiesToTemperature(simulation.integrator.getTemperature())"
   ]
  },
  {
   "cell_type": "code",
   "execution_count": null,
   "id": "2546a343-33ab-4250-9d22-38590426098c",
   "metadata": {},
   "outputs": [],
   "source": [
    "simulation.step(1 * openmm.unit.picosecond / simulation.integrator.getStepSize())"
   ]
  },
  {
   "cell_type": "markdown",
   "id": "41cc8d5d-50c5-419f-806c-d1d09c742cc4",
   "metadata": {},
   "source": [
    "NPT equilibration:"
   ]
  },
  {
   "cell_type": "code",
   "execution_count": null,
   "id": "dfb178dc-bc76-48c3-8da1-f69dda3feeda",
   "metadata": {},
   "outputs": [],
   "source": [
    "simulation.system.addForce(\n",
    "    openmm.MonteCarloBarostat(\n",
    "        1.00 * openmm.unit.bar,\n",
    "        simulation.integrator.getTemperature(),\n",
    "        25,  # Attempt MC move every 25 steps\n",
    "    )\n",
    ")\n",
    "# The context must be reinitialized after forces have been changed\n",
    "simulation.context.reinitialize(preserveState=True)"
   ]
  },
  {
   "cell_type": "code",
   "execution_count": null,
   "id": "63ab4767-5899-4236-8b4f-044f56e2259c",
   "metadata": {},
   "outputs": [],
   "source": [
    "simulation.step(1 * openmm.unit.picosecond / simulation.integrator.getStepSize())"
   ]
  },
  {
   "cell_type": "markdown",
   "id": "75dcfefd-1b4a-451c-b454-997018f1ccf5",
   "metadata": {},
   "source": [
    "Remove position restraints:"
   ]
  },
  {
   "cell_type": "code",
   "execution_count": null,
   "id": "ee31cae3-3198-4a50-a975-bb5b25abb27b",
   "metadata": {},
   "outputs": [],
   "source": [
    "simulation.system.removeForce(restraint.index)\n",
    "# The context must be reinitialized after forces have been changed\n",
    "simulation.context.reinitialize(preserveState=True)"
   ]
  },
  {
   "cell_type": "markdown",
   "id": "e5cd9a05-3f1f-432b-bd54-a3e589d49afc",
   "metadata": {},
   "source": [
    "### \"Production\""
   ]
  },
  {
   "cell_type": "markdown",
   "id": "331923ca-e183-4984-9724-d2da7a278b51",
   "metadata": {},
   "source": [
    "This part should probably be run on a supercomputer!"
   ]
  },
  {
   "cell_type": "code",
   "execution_count": null,
   "id": "559bec6b-bd33-43ca-ad62-bc02d9ccd09a",
   "metadata": {},
   "outputs": [],
   "source": [
    "# Add reporters to record a trajectory, checkpoints for continuation, and state information in CSV format\n",
    "# You will probably want to change the report intervals for your own runs\n",
    "simulation.reporters = [\n",
    "    openmm.app.XTCReporter(  # Compressed trajectory format\n",
    "        file=\"trajectory.xtc\",\n",
    "        reportInterval=int(\n",
    "            0.01 * openmm.unit.picosecond / simulation.integrator.getStepSize()\n",
    "        ),\n",
    "    ),\n",
    "    openmm.app.CheckpointReporter(  # Checkpoint for exact continuation in case of crash\n",
    "        file=\"checkpoint.chk\",\n",
    "        reportInterval=int(\n",
    "            1 * openmm.unit.picosecond / simulation.integrator.getStepSize()\n",
    "        ),\n",
    "    ),\n",
    "    openmm.app.StateDataReporter(  # Human readable state information over time\n",
    "        file=\"states.csv\",\n",
    "        reportInterval=int(\n",
    "            0.01 * openmm.unit.picosecond / simulation.integrator.getStepSize()\n",
    "        ),\n",
    "        step=True,\n",
    "        time=True,\n",
    "        potentialEnergy=True,\n",
    "        kineticEnergy=True,\n",
    "        temperature=True,\n",
    "        volume=True,\n",
    "        density=True,\n",
    "        speed=True,\n",
    "        elapsedTime=True,\n",
    "    ),\n",
    "]"
   ]
  },
  {
   "cell_type": "markdown",
   "id": "5b7afba5-0939-4984-ab48-362e76d4058f",
   "metadata": {},
   "source": [
    "\"production\" run"
   ]
  },
  {
   "cell_type": "code",
   "execution_count": null,
   "id": "39233605-e34a-4531-9518-5ae74bbac6dd",
   "metadata": {},
   "outputs": [],
   "source": [
    "simulation.runForClockTime(1 * openmm.unit.minute)"
   ]
  },
  {
   "cell_type": "markdown",
   "id": "77f0ff3b-3ce3-4aa1-a77e-29b8582dc78a",
   "metadata": {
    "execution": {
     "iopub.execute_input": "2024-02-26T00:01:20.070074Z",
     "iopub.status.busy": "2024-02-26T00:01:20.069565Z",
     "iopub.status.idle": "2024-02-26T00:01:20.072194Z",
     "shell.execute_reply": "2024-02-26T00:01:20.071706Z",
     "shell.execute_reply.started": "2024-02-26T00:01:20.070053Z"
    }
   },
   "source": [
    "## Visualization"
   ]
  },
  {
   "cell_type": "code",
   "execution_count": null,
   "id": "1f129db8-46ea-48e9-b479-c1fa9e6115cc",
   "metadata": {},
   "outputs": [],
   "source": [
    "w = nglview_show_openmm(\n",
    "    simulation.topology,\n",
    "    \"trajectory.xtc\",\n",
    ")\n",
    "w.add_line(sele=\"not water\")\n",
    "w.add_unitcell()\n",
    "w"
   ]
  },
  {
   "cell_type": "markdown",
   "id": "3a216d51-0e09-4c88-a9ba-f7bd263280f5",
   "metadata": {},
   "source": [
    "## Next steps"
   ]
  },
  {
   "cell_type": "markdown",
   "id": "f37599f4-c571-4ea8-bea4-f90155dfd9a0",
   "metadata": {},
   "source": [
    "OpenFF Examples page: https://docs.openforcefield.org/en/latest/examples.html\n",
    "\n",
    "\"Things to make and do with OpenFF tools\" workshop: https://docs.openforcefield.org/en/latest/workshops/2024/vignettes.html"
   ]
  }
 ],
 "metadata": {
  "kernelspec": {
   "display_name": "Python 3 (ipykernel)",
   "language": "python",
   "name": "python3"
  },
  "language_info": {
   "codemirror_mode": {
    "name": "ipython",
    "version": 3
   },
   "file_extension": ".py",
   "mimetype": "text/x-python",
   "name": "python",
   "nbconvert_exporter": "python",
   "pygments_lexer": "ipython3",
   "version": "3.11.7"
  },
  "widgets": {
   "application/vnd.jupyter.widget-state+json": {
    "state": {},
    "version_major": 2,
    "version_minor": 0
   }
  }
 },
 "nbformat": 4,
 "nbformat_minor": 5
}
